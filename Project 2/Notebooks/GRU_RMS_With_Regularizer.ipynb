{
 "cells": [
  {
   "cell_type": "markdown",
   "metadata": {},
   "source": [
    "<h3>Importing Libraries</h3>"
   ]
  },
  {
   "cell_type": "code",
   "execution_count": 1,
   "metadata": {},
   "outputs": [
    {
     "name": "stderr",
     "output_type": "stream",
     "text": [
      "Using TensorFlow backend.\n"
     ]
    }
   ],
   "source": [
    "# Importing Libraries\n",
    "from keras.backend.tensorflow_backend import set_session\n",
    "from keras.models import Sequential\n",
    "from keras.layers import Dense\n",
    "from keras.layers import TimeDistributed\n",
    "from keras.layers import LSTM, Dropout\n",
    "from keras import optimizers\n",
    "import pandas as pd\n",
    "import numpy as np\n",
    "from datetime import datetime, date, timedelta\n",
    "from keras.callbacks import ModelCheckpoint, EarlyStopping\n",
    "from sklearn.metrics import confusion_matrix, roc_curve, auc,accuracy_score\n",
    "from itertools import cycle\n",
    "from keras.models import load_model\n",
    "import itertools\n",
    "import matplotlib.pyplot as plt\n",
    "from sklearn.preprocessing import MinMaxScaler\n",
    "from keras.models import Sequential\n",
    "from keras.layers import Dense, LSTM, Dropout, GRU, Bidirectional\n",
    "from keras.optimizers import SGD\n",
    "import math\n",
    "from sklearn.metrics import mean_squared_error\n",
    "import sklearn.metrics as metrics\n",
    "from keras.metrics import Precision, Recall"
   ]
  },
  {
   "cell_type": "markdown",
   "metadata": {},
   "source": [
    "<h4>Importing Dataset</h4>"
   ]
  },
  {
   "cell_type": "code",
   "execution_count": 2,
   "metadata": {},
   "outputs": [],
   "source": [
    "train_log= pd.read_csv('/Users/jyoti/OneDrive/DLFinal/Project2/norm.csv')"
   ]
  },
  {
   "cell_type": "code",
   "execution_count": 3,
   "metadata": {},
   "outputs": [
    {
     "data": {
      "text/plain": [
       "Index(['enrollment_id', 'date', 'access', 'discussion', 'navigate',\n",
       "       'page_close', 'problem', 'video', 'wiki', 'session', 'tot_time',\n",
       "       'result'],\n",
       "      dtype='object')"
      ]
     },
     "execution_count": 3,
     "metadata": {},
     "output_type": "execute_result"
    }
   ],
   "source": [
    "train_log.columns"
   ]
  },
  {
   "cell_type": "code",
   "execution_count": 4,
   "metadata": {},
   "outputs": [],
   "source": [
    "df1 = train_log[\"access\"]"
   ]
  },
  {
   "cell_type": "code",
   "execution_count": 5,
   "metadata": {},
   "outputs": [
    {
     "data": {
      "text/plain": [
       "[<matplotlib.lines.Line2D at 0x149367a58>]"
      ]
     },
     "execution_count": 5,
     "metadata": {},
     "output_type": "execute_result"
    },
    {
     "data": {
      "image/png": "[encoded data removed]",
      "text/plain": [
       "<Figure size 432x288 with 1 Axes>"
      ]
     },
     "metadata": {
      "needs_background": "light"
     },
     "output_type": "display_data"
    }
   ],
   "source": [
    "import matplotlib.pyplot as plt\n",
    "plt.plot(df1)"
   ]
  },
  {
   "cell_type": "code",
   "execution_count": 6,
   "metadata": {},
   "outputs": [
    {
     "data": {
      "text/plain": [
       "[<matplotlib.lines.Line2D at 0x14963a5c0>]"
      ]
     },
     "execution_count": 6,
     "metadata": {},
     "output_type": "execute_result"
    },
    {
     "data": {
      "image/png": "[encoded data removed]",
      "text/plain": [
       "<Figure size 432x288 with 1 Axes>"
      ]
     },
     "metadata": {
      "needs_background": "light"
     },
     "output_type": "display_data"
    }
   ],
   "source": [
    "df2 = train_log[\"session\"]\n",
    "import matplotlib.pyplot as plt\n",
    "plt.plot(df2)"
   ]
  },
  {
   "cell_type": "code",
   "execution_count": 7,
   "metadata": {},
   "outputs": [],
   "source": [
    "train_num = 8000\n",
    "test_num = 728"
   ]
  },
  {
   "cell_type": "code",
   "execution_count": 8,
   "metadata": {},
   "outputs": [
    {
     "name": "stdout",
     "output_type": "stream",
     "text": [
      "(8728,)\n"
     ]
    }
   ],
   "source": [
    "en_ids = train_log['enrollment_id'].unique()\n",
    "print(en_ids.shape)"
   ]
  },
  {
   "cell_type": "code",
   "execution_count": 9,
   "metadata": {},
   "outputs": [
    {
     "data": {
      "text/plain": [
       "array([ 65840,  58311, 138848, ...,  14732,  83060, 130181])"
      ]
     },
     "execution_count": 9,
     "metadata": {},
     "output_type": "execute_result"
    }
   ],
   "source": [
    "np.random.shuffle(en_ids)\n",
    "en_ids"
   ]
  },
  {
   "cell_type": "code",
   "execution_count": 10,
   "metadata": {},
   "outputs": [],
   "source": [
    "tr_en_ids = en_ids[:train_num]\n",
    "ts_en_ids = en_ids[train_num:]"
   ]
  },
  {
   "cell_type": "code",
   "execution_count": 11,
   "metadata": {},
   "outputs": [
    {
     "data": {
      "text/plain": [
       "0.6538461538461539"
      ]
     },
     "execution_count": 11,
     "metadata": {},
     "output_type": "execute_result"
    }
   ],
   "source": [
    "(train_log[train_log['enrollment_id'].isin(ts_en_ids)]['result'].values.sum()/4)/728"
   ]
  },
  {
   "cell_type": "code",
   "execution_count": 12,
   "metadata": {},
   "outputs": [
    {
     "data": {
      "text/plain": [
       "0.646375"
      ]
     },
     "execution_count": 12,
     "metadata": {},
     "output_type": "execute_result"
    }
   ],
   "source": [
    "(train_log[train_log['enrollment_id'].isin(tr_en_ids)]['result'].values.sum()/4)/8000"
   ]
  },
  {
   "cell_type": "code",
   "execution_count": 13,
   "metadata": {},
   "outputs": [
    {
     "data": {
      "text/plain": [
       "(8000,)"
      ]
     },
     "execution_count": 13,
     "metadata": {},
     "output_type": "execute_result"
    }
   ],
   "source": [
    "tr_en_ids.shape"
   ]
  },
  {
   "cell_type": "code",
   "execution_count": 14,
   "metadata": {},
   "outputs": [
    {
     "data": {
      "text/plain": [
       "(728,)"
      ]
     },
     "execution_count": 14,
     "metadata": {},
     "output_type": "execute_result"
    }
   ],
   "source": [
    "ts_en_ids.shape"
   ]
  },
  {
   "cell_type": "markdown",
   "metadata": {},
   "source": [
    "<h4>Datagen Creation</h4>"
   ]
  },
  {
   "cell_type": "code",
   "execution_count": 15,
   "metadata": {},
   "outputs": [],
   "source": [
    "import random\n",
    "from sklearn import preprocessing\n",
    "minmaxscaler_as = preprocessing.MinMaxScaler(feature_range = (0,1))\n",
    "def datagen(batchsize = 32, mode = 'train'):\n",
    "    counter = 0\n",
    "    x, y = [],[]\n",
    "    while True:\n",
    "        if mode == 'train':\n",
    "            idx = random.choice(tr_en_ids)\n",
    "        else:\n",
    "            idx =random.choice(ts_en_ids)\n",
    "        temp = train_log[train_log['enrollment_id']==idx]\n",
    "        row = []\n",
    "        for i in range(temp.shape[0]):\n",
    "            row.append(temp.iloc[i].values[2:-1]) #2:-1\n",
    "        x.append(row)\n",
    "\n",
    "        y.append(temp.iloc[0].values[-1])\n",
    "        \n",
    "        counter+=1\n",
    "        if counter==batchsize:\n",
    "           \n",
    "            yield np.array(x),np.array(y)\n",
    "            counter = 0\n",
    "            x, y = [], [] "
   ]
  },
  {
   "cell_type": "code",
   "execution_count": 16,
   "metadata": {},
   "outputs": [],
   "source": [
    "tr_dg  = datagen(mode='train')\n",
    "ts_dg = datagen(mode = 'test', batchsize=32)"
   ]
  },
  {
   "cell_type": "markdown",
   "metadata": {},
   "source": [
    "<h4>Model Architecture</h4>"
   ]
  },
  {
   "cell_type": "code",
   "execution_count": 17,
   "metadata": {},
   "outputs": [
    {
     "name": "stdout",
     "output_type": "stream",
     "text": [
      "Model: \"sequential_1\"\n",
      "_________________________________________________________________\n",
      "Layer (type)                 Output Shape              Param #   \n",
      "=================================================================\n",
      "gru_1 (GRU)                  (32, 4, 50)               9000      \n",
      "_________________________________________________________________\n",
      "dropout_1 (Dropout)          (32, 4, 50)               0         \n",
      "_________________________________________________________________\n",
      "gru_2 (GRU)                  (32, 4, 50)               15150     \n",
      "_________________________________________________________________\n",
      "dropout_2 (Dropout)          (32, 4, 50)               0         \n",
      "_________________________________________________________________\n",
      "gru_3 (GRU)                  (32, 4, 50)               15150     \n",
      "_________________________________________________________________\n",
      "dropout_3 (Dropout)          (32, 4, 50)               0         \n",
      "_________________________________________________________________\n",
      "gru_4 (GRU)                  (32, 50)                  15150     \n",
      "_________________________________________________________________\n",
      "dropout_4 (Dropout)          (32, 50)                  0         \n",
      "_________________________________________________________________\n",
      "dropout_5 (Dropout)          (32, 50)                  0         \n",
      "_________________________________________________________________\n",
      "dense_1 (Dense)              (32, 1)                   51        \n",
      "=================================================================\n",
      "Total params: 54,501\n",
      "Trainable params: 54,501\n",
      "Non-trainable params: 0\n",
      "_________________________________________________________________\n"
     ]
    }
   ],
   "source": [
    "from keras import regularizers\n",
    "# The GRU architecture\n",
    "regressorGRU = Sequential()\n",
    "# First GRU layer with Dropout regularisation\n",
    "regressorGRU.add(GRU(units=50, return_sequences=True, batch_input_shape=(32, 4,9),activation='tanh', kernel_initializer = \"uniform\", activity_regularizer = regularizers.l2(0.01)))\n",
    "regressorGRU.add(Dropout(0.2))\n",
    "#Second GRU layer\n",
    "regressorGRU.add(GRU(units=50, return_sequences=True, batch_input_shape=(32, 4,9),activation='tanh', kernel_initializer = \"uniform\", activity_regularizer = regularizers.l2(0.01)))\n",
    "regressorGRU.add(Dropout(0.2))\n",
    "# # # Third GRU layer\n",
    "regressorGRU.add(GRU(units=50, return_sequences=True, batch_input_shape=(32, 4,9), activation='tanh', kernel_initializer = \"uniform\", activity_regularizer = regularizers.l2(0.01)))\n",
    "regressorGRU.add(Dropout(0.2))\n",
    "# Fourth GRU layer\n",
    "regressorGRU.add(GRU(units=50, activation='tanh'))\n",
    "regressorGRU.add(Dropout(0.2))\n",
    "\n",
    "regressorGRU.add(Dropout(0.2))\n",
    "\n",
    "# The output layer\n",
    "regressorGRU.add(Dense(units=1))\n",
    "regressorGRU.summary()"
   ]
  },
  {
   "cell_type": "code",
   "execution_count": 18,
   "metadata": {},
   "outputs": [
    {
     "name": "stdout",
     "output_type": "stream",
     "text": [
      "WARNING:tensorflow:From /Users/jyoti/anaconda3/lib/python3.7/site-packages/keras/backend/tensorflow_backend.py:3172: add_dispatch_support.<locals>.wrapper (from tensorflow.python.ops.array_ops) is deprecated and will be removed in a future version.\n",
      "Instructions for updating:\n",
      "Use tf.where in 2.0, which has the same broadcast rule as np.where\n"
     ]
    }
   ],
   "source": [
    "# Compiling the RNN\n",
    "\n",
    "regressorGRU.compile(optimizer = \"rmsprop\", loss = 'binary_crossentropy', \n",
    "              metrics=['accuracy',Precision(), Recall()])"
   ]
  },
  {
   "cell_type": "markdown",
   "metadata": {},
   "source": [
    "<h4> Early Stopping and Check Points</h4>"
   ]
  },
  {
   "cell_type": "code",
   "execution_count": 19,
   "metadata": {},
   "outputs": [],
   "source": [
    "\n",
    "#Create Checkpoint and Early Stopping\n",
    "checkpoint = ModelCheckpoint(\"GRU_RMS_With_Regularizer.h5\", monitor='val_accuracy', verbose=1, save_best_only=True, save_weights_only=True, mode='auto', period=1)\n",
    "early = EarlyStopping(monitor='val_accuracy', min_delta=0, patience=15, verbose=1, mode='auto')"
   ]
  },
  {
   "cell_type": "code",
   "execution_count": 20,
   "metadata": {
    "scrolled": true
   },
   "outputs": [
    {
     "name": "stdout",
     "output_type": "stream",
     "text": [
      "WARNING:tensorflow:From /Users/jyoti/anaconda3/lib/python3.7/site-packages/keras/backend/tensorflow_backend.py:422: The name tf.global_variables is deprecated. Please use tf.compat.v1.global_variables instead.\n",
      "\n",
      "Epoch 1/100\n",
      "250/250 [==============================] - 46s 185ms/step - loss: 0.8261 - accuracy: 0.6833 - precision_1: 0.8036 - recall_1: 0.6824 - val_loss: 0.4237 - val_accuracy: 0.8016 - val_precision_1: 0.8258 - val_recall_1: 0.8685\n",
      "\n",
      "Epoch 00001: val_accuracy improved from -inf to 0.80163, saving model to GRU_RMS_With_Regularizer.h5\n",
      "Epoch 2/100\n",
      "250/250 [==============================] - 33s 130ms/step - loss: 0.6303 - accuracy: 0.7766 - precision_1: 0.8233 - recall_1: 0.8366 - val_loss: 0.3995 - val_accuracy: 0.8166 - val_precision_1: 0.8188 - val_recall_1: 0.9281\n",
      "\n",
      "Epoch 00002: val_accuracy improved from 0.80163 to 0.81658, saving model to GRU_RMS_With_Regularizer.h5\n",
      "Epoch 3/100\n",
      "250/250 [==============================] - 33s 132ms/step - loss: 0.6090 - accuracy: 0.7836 - precision_1: 0.8300 - recall_1: 0.8382 - val_loss: 0.3345 - val_accuracy: 0.7989 - val_precision_1: 0.8139 - val_recall_1: 0.8983\n",
      "\n",
      "Epoch 00003: val_accuracy did not improve from 0.81658\n",
      "Epoch 4/100\n",
      "250/250 [==============================] - 33s 133ms/step - loss: 0.5943 - accuracy: 0.7878 - precision_1: 0.8245 - recall_1: 0.8527 - val_loss: 0.5237 - val_accuracy: 0.7799 - val_precision_1: 0.7706 - val_recall_1: 0.9531\n",
      "\n",
      "Epoch 00004: val_accuracy did not improve from 0.81658\n",
      "Epoch 5/100\n",
      "250/250 [==============================] - 31s 125ms/step - loss: 0.5882 - accuracy: 0.7903 - precision_1: 0.8329 - recall_1: 0.8437 - val_loss: 0.4988 - val_accuracy: 0.7840 - val_precision_1: 0.8732 - val_recall_1: 0.7799\n",
      "\n",
      "Epoch 00005: val_accuracy did not improve from 0.81658\n",
      "Epoch 6/100\n",
      "250/250 [==============================] - 31s 122ms/step - loss: 0.6299 - accuracy: 0.7986 - precision_1: 0.8344 - recall_1: 0.8640 - val_loss: 0.4187 - val_accuracy: 0.8315 - val_precision_1: 0.8675 - val_recall_1: 0.8747\n",
      "\n",
      "Epoch 00006: val_accuracy improved from 0.81658 to 0.83152, saving model to GRU_RMS_With_Regularizer.h5\n",
      "Epoch 7/100\n",
      "250/250 [==============================] - 28s 112ms/step - loss: 0.5899 - accuracy: 0.7979 - precision_1: 0.8404 - recall_1: 0.8524 - val_loss: 0.5889 - val_accuracy: 0.7500 - val_precision_1: 0.9235 - val_recall_1: 0.66538 - accuracy: 0.7929 - precision_1: 0.8347 - recall - ETA: 11s - loss: 0.5564 - accuracy: 0.7 - ETA: 9s - loss: 0.5704 - accuracy: 0.7946 - precision_1: 0.8348 - recal - ETA: 8s - loss: 0.5695 - accuracy: 0.7941 - precision_1: 0.8354 - recall_1: 0.84 - ETA: 8s - loss: 0.5684 - accuracy: 0.7944 - precision_1: 0.8346 - recall - ETA: 6s - loss: 0.5631 - accuracy: 0.7945 - precision_1: 0. - ETA: 4s - loss: 0.5531 - accuracy: 0.7994 - precision_1: 0.8388 - rec - ETA: 3s - loss: 0.5543 - accuracy: 0.7991 - precision_1: 0 - ETA: 0s - loss: 0.5690 - accuracy: 0.8005 - precision_1: 0.8394 - recall_1: \n",
      "\n",
      "Epoch 00007: val_accuracy did not improve from 0.83152\n",
      "Epoch 8/100\n",
      "250/250 [==============================] - 27s 108ms/step - loss: 0.5863 - accuracy: 0.8030 - precision_1: 0.8479 - recall_1: 0.8449 - val_loss: 0.3558 - val_accuracy: 0.8492 - val_precision_1: 0.8841 - val_recall_1: 0.8859ecision_1: 0.8516 - recall_1: 0.84 - ETA: 3s - loss: 0.5784 - accuracy: 0.8035 - precision_1: 0.8519 - re - ETA: 2s - loss: 0.5815 - accuracy: 0.8043 - precision_1: 0.85\n",
      "\n",
      "Epoch 00008: val_accuracy improved from 0.83152 to 0.84918, saving model to GRU_RMS_With_Regularizer.h5\n",
      "Epoch 9/100\n",
      "250/250 [==============================] - 27s 108ms/step - loss: 0.5817 - accuracy: 0.8039 - precision_1: 0.8408 - recall_1: 0.8620 - val_loss: 0.3927 - val_accuracy: 0.7976 - val_precision_1: 0.7971 - val_recall_1: 0.9224\n",
      "\n",
      "Epoch 00009: val_accuracy did not improve from 0.84918\n",
      "Epoch 10/100\n",
      "250/250 [==============================] - 28s 111ms/step - loss: 0.5616 - accuracy: 0.8065 - precision_1: 0.8481 - recall_1: 0.8576 - val_loss: 0.4552 - val_accuracy: 0.8179 - val_precision_1: 0.8549 - val_recall_1: 0.8790\n",
      "\n",
      "Epoch 00010: val_accuracy did not improve from 0.84918\n",
      "Epoch 11/100\n",
      "250/250 [==============================] - 28s 111ms/step - loss: 0.5416 - accuracy: 0.8071 - precision_1: 0.8417 - recall_1: 0.8706 - val_loss: 0.4393 - val_accuracy: 0.8342 - val_precision_1: 0.8596 - val_recall_1: 0.8982\n",
      "\n",
      "Epoch 00011: val_accuracy did not improve from 0.84918\n",
      "Epoch 12/100\n",
      "250/250 [==============================] - 27s 108ms/step - loss: 0.5682 - accuracy: 0.8100 - precision_1: 0.8482 - recall_1: 0.8654 - val_loss: 0.3502 - val_accuracy: 0.8519 - val_precision_1: 0.8460 - val_recall_1: 0.9511\n",
      "\n",
      "Epoch 00012: val_accuracy improved from 0.84918 to 0.85190, saving model to GRU_RMS_With_Regularizer.h5\n",
      "Epoch 13/100\n",
      "250/250 [==============================] - 27s 109ms/step - loss: 0.5705 - accuracy: 0.8055 - precision_1: 0.8281 - recall_1: 0.8793 - val_loss: 1.0163 - val_accuracy: 0.8139 - val_precision_1: 0.8644 - val_recall_1: 0.8482ETA: 7s - loss: 0.5790 - accu - ETA: 1s - loss: 0.5761 - accuracy: 0.8031 - precision_1: 0.8251 - recal - ETA: 0s - loss: 0.5704 - accuracy: 0.8052 - precision_1: 0.8270 - recall_1: \n",
      "\n",
      "Epoch 00013: val_accuracy did not improve from 0.85190\n",
      "Epoch 14/100\n",
      "250/250 [==============================] - 27s 109ms/step - loss: 0.5838 - accuracy: 0.8133 - precision_1: 0.8527 - recall_1: 0.8642 - val_loss: 0.3937 - val_accuracy: 0.8071 - val_precision_1: 0.8396 - val_recall_1: 0.8611- ETA: 10s - loss: 0.6064 - accuracy: 0.8101 -  - ETA: 7s - loss: 0.6001 - accuracy: 0.8112 - precision_1: 0.8469 -  - ETA: 6s - loss: 0.6041 - acc - ETA: 0s - loss: 0.5828 - accuracy: 0.8139 - precision_1: 0.8522 - recall_1: 0\n",
      "\n",
      "Epoch 00014: val_accuracy did not improve from 0.85190\n",
      "Epoch 15/100\n",
      "250/250 [==============================] - 28s 113ms/step - loss: 0.5778 - accuracy: 0.8138 - precision_1: 0.8523 - recall_1: 0.8659 - val_loss: 0.3740 - val_accuracy: 0.8492 - val_precision_1: 0.8785 - val_recall_1: 0.8982 loss: 0.5873 - accuracy: 0.8160  - ETA: 12s - loss: 0.5822 - accuracy: 0 - ETA: 9s - loss: 0.5852 - accuracy: 0.8135 - precisi - ETA: 5s - loss: 0.5839 - accuracy: 0.8117 - precision_1: 0.8464  - ETA: 4s - loss: 0.5832 - accuracy: 0.8109 - precision_1: 0.8485 - recall_1: - ETA: 3s - loss: 0.5750 - accuracy: 0.8132 - precis\n",
      "\n",
      "Epoch 00015: val_accuracy did not improve from 0.85190\n",
      "Epoch 16/100\n",
      "250/250 [==============================] - 28s 113ms/step - loss: 0.5757 - accuracy: 0.8155 - precision_1: 0.8547 - recall_1: 0.8610 - val_loss: 0.4344 - val_accuracy: 0.8560 - val_precision_1: 0.8831 - val_recall_1: 0.91110 - accuracy: 0.8163 - precision_1: 0.8542 - reca - ETA: 4s - loss: 0.5799 - accuracy: 0.81\n",
      "\n",
      "Epoch 00016: val_accuracy improved from 0.85190 to 0.85598, saving model to GRU_RMS_With_Regularizer.h5\n",
      "Epoch 17/100\n",
      "250/250 [==============================] - 28s 110ms/step - loss: 0.5577 - accuracy: 0.8086 - precision_1: 0.8465 - recall_1: 0.8696 - val_loss: 0.4506 - val_accuracy: 0.7921 - val_precision_1: 0.7926 - val_recall_1: 0.8989n_1: 0.8442 - recall - ETA: 2s - loss: 0.5548 - accuracy: 0.8081 - precision_1: 0.8453 - recall_1: 0 - ETA: 1s - loss: 0.5558 - accuracy: 0.8074 - precision_1: 0.8448 - \n",
      "\n",
      "Epoch 00017: val_accuracy did not improve from 0.85598\n",
      "Epoch 18/100\n",
      "250/250 [==============================] - 28s 111ms/step - loss: 0.5834 - accuracy: 0.8189 - precision_1: 0.8446 - recall_1: 0.8895 - val_loss: 0.5212 - val_accuracy: 0.8179 - val_precision_1: 0.8350 - val_recall_1: 0.8947: 0.5848 - accuracy: 0.8188 - precision_1: 0.8442 - recall_1: 0.88\n",
      "\n",
      "Epoch 00018: val_accuracy did not improve from 0.85598\n",
      "Epoch 19/100\n",
      "250/250 [==============================] - 28s 111ms/step - loss: 0.5820 - accuracy: 0.8189 - precision_1: 0.8507 - recall_1: 0.8774 - val_loss: 0.3980 - val_accuracy: 0.8261 - val_precision_1: 0.8370 - val_recall_1: 0.8985\n",
      "\n",
      "Epoch 00019: val_accuracy did not improve from 0.85598\n",
      "Epoch 20/100\n",
      "250/250 [==============================] - 28s 110ms/step - loss: 0.5805 - accuracy: 0.8123 - precision_1: 0.8562 - recall_1: 0.8592 - val_loss: 0.8695 - val_accuracy: 0.8451 - val_precision_1: 0.8737 - val_recall_1: 0.8919: 0.8215  - ETA:  - ETA: 11s  - ETA: 5s - loss: 0.5806 - accura\n",
      "\n",
      "Epoch 00020: val_accuracy did not improve from 0.85598\n",
      "Epoch 21/100\n",
      "250/250 [==============================] - 27s 109ms/step - loss: 0.5676 - accuracy: 0.8177 - precision_1: 0.8483 - recall_1: 0.8847 - val_loss: 0.4975 - val_accuracy: 0.8247 - val_precision_1: 0.8499 - val_recall_1: 0.87397 - accuracy: 0.8215 - precision_1: 0.8516 -  - ETA: 5s - loss: 0.5720 - accuracy: 0.8196 - precision_1: 0.8486  - ETA: 3s - loss: 0.5717 - accuracy: 0.8184 - p - ETA: 0s - loss: 0.5674 - accuracy: 0.8184 - precision_1: 0.8488 - recall_1: 0.885\n",
      "\n",
      "Epoch 00021: val_accuracy did not improve from 0.85598\n",
      "Epoch 22/100\n",
      "250/250 [==============================] - 27s 108ms/step - loss: 0.5461 - accuracy: 0.8148 - precision_1: 0.8477 - recall_1: 0.8750 - val_loss: 0.5192 - val_accuracy: 0.8057 - val_precision_1: 0.8623 - val_recall_1: 0.8392: 0.5465 - accuracy: 0.8200 - precisi - ETA: 6s - loss: 0.5506 - accuracy: 0 - ETA: 1s - loss: 0.5485 - accuracy: 0.8154 - precision_1: 0.8489 - re\n",
      "\n",
      "Epoch 00022: val_accuracy did not improve from 0.85598\n",
      "Epoch 23/100\n",
      "250/250 [==============================] - 27s 108ms/step - loss: 0.5509 - accuracy: 0.8169 - precision_1: 0.8439 - recall_1: 0.8787 - val_loss: 1.0334 - val_accuracy: 0.8370 - val_precision_1: 0.8487 - val_recall_1: 0.9191: 0.\n",
      "\n",
      "Epoch 00023: val_accuracy did not improve from 0.85598\n",
      "Epoch 24/100\n",
      "250/250 [==============================] - 27s 108ms/step - loss: 0.5550 - accuracy: 0.8184 - precision_1: 0.8500 - recall_1: 0.8800 - val_loss: 0.3761 - val_accuracy: 0.8179 - val_precision_1: 0.8236 - val_recall_1: 0.8993\n",
      "\n",
      "Epoch 00024: val_accuracy did not improve from 0.85598\n",
      "Epoch 25/100\n",
      "250/250 [==============================] - 28s 113ms/step - loss: 0.5439 - accuracy: 0.8163 - precision_1: 0.8538 - recall_1: 0.8732 - val_loss: 0.7220 - val_accuracy: 0.8071 - val_precision_1: 0.7880 - val_recall_1: 0.9530  - ETA: 15s - loss: 0.5612 - accuracy: 0.8165 - precision_1: 0.8600  - ETA: 14s - loss: 0.5581 - accuracy: - ETA: 11s - loss: 0.5517 - accuracy: 0.8151 - precis - ETA: 9s - loss: 0.5469 - accuracy: 0.8170 -  - ETA: 5s - loss: 0.5477 - accu\n",
      "\n",
      "Epoch 00025: val_accuracy did not improve from 0.85598\n",
      "Epoch 26/100\n",
      "250/250 [==============================] - 27s 107ms/step - loss: 0.5569 - accuracy: 0.8169 - precision_1: 0.8419 - recall_1: 0.8867 - val_loss: 0.8451 - val_accuracy: 0.8397 - val_precision_1: 0.8284 - val_recall_1: 0.9594on_1: 0 - ETA: 2s - loss: 0.5629 - accuracy: 0.8170 - precision_\n",
      "\n",
      "Epoch 00026: val_accuracy did not improve from 0.85598\n",
      "Epoch 27/100\n",
      "250/250 [==============================] - 29s 115ms/step - loss: 0.5557 - accuracy: 0.8214 - precision_1: 0.8496 - recall_1: 0.8847 - val_loss: 0.4530 - val_accuracy: 0.8071 - val_precision_1: 0.8209 - val_recall_1: 0.9053racy: - ETA: 17s - loss: 0.6031 - - ETA: 14s  - ETA: 10s - loss: 0.5776 - accuracy: 0.8169 - precision_1: - ETA: 8s - loss: 0.5621 - accuracy: 0.8222 - precision_1: 0.8520 - recal - ETA: 7s - \n",
      "\n",
      "Epoch 00027: val_accuracy did not improve from 0.85598\n",
      "Epoch 28/100\n",
      "250/250 [==============================] - 28s 112ms/step - loss: 0.5746 - accuracy: 0.8112 - precision_1: 0.8344 - recall_1: 0.8830 - val_loss: 0.5612 - val_accuracy: 0.8179 - val_precision_1: 0.8565 - val_recall_1: 0.8565 - precision_1: 0.8357  - ETA: 1s - loss: 0.5756 - accuracy: 0.8096 - precision_1: 0.8336 - r\n",
      "\n",
      "Epoch 00028: val_accuracy did not improve from 0.85598\n",
      "Epoch 29/100\n",
      "250/250 [==============================] - 27s 109ms/step - loss: 0.5807 - accuracy: 0.8152 - precision_1: 0.8349 - recall_1: 0.8987 - val_loss: 0.4821 - val_accuracy: 0.8519 - val_precision_1: 0.8637 - val_recall_1: 0.9221cision_1: 0.8583  - ETA: 10s - loss: 0.5915 - accuracy: 0.8223 - precisio - ETA: 8s - loss: 0.6090 - accuracy: 0.8225 - precis - ETA: 5s - loss: 0.5993 - accuracy: 0.8147 - precision_1: 0.8373 - recal - ETA: 4s - loss: 0.5972 - accuracy: 0.8146 - pr - ETA: 0s - loss: 0.5827 - accuracy: 0.8148 - precision_1: 0.8346 - recall_1: 0.8\n",
      "\n",
      "Epoch 00029: val_accuracy did not improve from 0.85598\n",
      "Epoch 30/100\n",
      "250/250 [==============================] - 28s 110ms/step - loss: 0.5464 - accuracy: 0.8191 - precision_1: 0.8480 - recall_1: 0.8831 - val_loss: 0.3908 - val_accuracy: 0.8302 - val_precision_1: 0.8812 - val_recall_1: 0.8536cy: 0.8230 - precision_1: 0.8529 - recall_1:  - ETA: 10s - loss: 0.5760 - - ETA: 5s - loss: 0.5630 - accuracy: 0.8221 - precision_1: 0.8505 - re - ETA: 4s - loss: 0.5567 - accuracy: 0.8211 - precisi - ETA: 0s - loss: 0.5477 - accuracy: 0.8195 - precision_1: 0.8478 - recall_\n",
      "\n",
      "Epoch 00030: val_accuracy did not improve from 0.85598\n",
      "Epoch 31/100\n",
      "250/250 [==============================] - 28s 110ms/step - loss: 0.5709 - accuracy: 0.8041 - precision_1: 0.8244 - recall_1: 0.8834 - val_loss: 0.4453 - val_accuracy: 0.8193 - val_precision_1: 0.8676 - val_recall_1: 0.8551 0.5832 - accuracy: 0.8031 - precision_1: 0.8 - ETA: 1s - loss: 0.5776 - accuracy: 0.8015 - precision_1: 0.8231 - \n",
      "\n",
      "Epoch 00031: val_accuracy did not improve from 0.85598\n",
      "Epoch 00031: early stopping\n"
     ]
    }
   ],
   "source": [
    "history = regressorGRU.fit(tr_dg, epochs=100,verbose=1, validation_data=ts_dg, steps_per_epoch=250, validation_steps=23,callbacks=[checkpoint,early])\n"
   ]
  },
  {
   "cell_type": "markdown",
   "metadata": {},
   "source": [
    "<h4> Plots</h4>"
   ]
  },
  {
   "cell_type": "code",
   "execution_count": 28,
   "metadata": {},
   "outputs": [
    {
     "name": "stdout",
     "output_type": "stream",
     "text": [
      "dict_keys(['val_loss', 'val_accuracy', 'val_precision_1', 'val_recall_1', 'loss', 'accuracy', 'precision_1', 'recall_1'])\n"
     ]
    },
    {
     "data": {
      "image/png": "[encoded data removed]",
      "text/plain": [
       "<Figure size 432x288 with 1 Axes>"
      ]
     },
     "metadata": {
      "needs_background": "light"
     },
     "output_type": "display_data"
    }
   ],
   "source": [
    "# Plot of Training vs Validation Loss\n",
    "history_dict = history.history\n",
    "print(history_dict.keys())\n",
    "loss_values = history_dict['loss']\n",
    "val_loss_values = history_dict['val_loss']\n",
    "epochs = range(1, len(history_dict['accuracy']) + 1)\n",
    "plt.plot(epochs, loss_values, 'r', label='Training loss')\n",
    "plt.plot(epochs, val_loss_values, 'g', label='Validation loss')\n",
    "plt.title('Training and validation loss')\n",
    "plt.xlabel('Epochs')\n",
    "plt.ylabel('Loss')\n",
    "plt.legend()\n",
    "plt.show()"
   ]
  },
  {
   "cell_type": "code",
   "execution_count": 29,
   "metadata": {},
   "outputs": [
    {
     "name": "stdout",
     "output_type": "stream",
     "text": [
      "dict_keys(['val_loss', 'val_accuracy', 'val_precision_1', 'val_recall_1', 'loss', 'accuracy', 'precision_1', 'recall_1'])\n"
     ]
    },
    {
     "data": {
      "image/png": "[encoded data removed]",
      "text/plain": [
       "<Figure size 432x288 with 1 Axes>"
      ]
     },
     "metadata": {
      "needs_background": "light"
     },
     "output_type": "display_data"
    }
   ],
   "source": [
    "# Plot of Training vs Validation Accuracy\n",
    "hist_dict = history.history\n",
    "print(history_dict.keys())\n",
    "accuracy_values = history_dict['accuracy']\n",
    "val_accuracy_values = history_dict['val_accuracy']\n",
    "epochs = range(1, len(history_dict['accuracy']) + 1)\n",
    "plt.plot(epochs, accuracy_values, 'r', label='Training Accuracy')\n",
    "plt.plot(epochs, val_accuracy_values, 'g', label='Validation accuracy')\n",
    "plt.title('Training and validation Accuracy')\n",
    "plt.xlabel('Epochs')\n",
    "plt.ylabel('Accuracy')\n",
    "plt.legend()\n",
    "plt.show()"
   ]
  },
  {
   "cell_type": "markdown",
   "metadata": {},
   "source": [
    "<h4>Calculation of metrics</h3>"
   ]
  },
  {
   "cell_type": "code",
   "execution_count": 30,
   "metadata": {},
   "outputs": [
    {
     "name": "stdout",
     "output_type": "stream",
     "text": [
      "23/23 [==============================] - 3s 119ms/step\n"
     ]
    }
   ],
   "source": [
    "evaluate = regressorGRU.evaluate_generator(ts_dg, steps=23, verbose=1,callbacks=None)\n"
   ]
  },
  {
   "cell_type": "code",
   "execution_count": 31,
   "metadata": {},
   "outputs": [
    {
     "data": {
      "text/plain": [
       "['loss', 'accuracy', 'precision_1', 'recall_1']"
      ]
     },
     "execution_count": 31,
     "metadata": {},
     "output_type": "execute_result"
    }
   ],
   "source": [
    "regressorGRU.metrics_names"
   ]
  },
  {
   "cell_type": "code",
   "execution_count": 32,
   "metadata": {},
   "outputs": [
    {
     "name": "stdout",
     "output_type": "stream",
     "text": [
      "Accuracy: 0.844\n"
     ]
    }
   ],
   "source": [
    "print('Accuracy: {:0.3f}'.format(evaluate [1]))"
   ]
  },
  {
   "cell_type": "code",
   "execution_count": 33,
   "metadata": {},
   "outputs": [
    {
     "name": "stdout",
     "output_type": "stream",
     "text": [
      "Precision: 0.881\n"
     ]
    }
   ],
   "source": [
    "print('Precision: {:0.3f}'.format(evaluate [2]))"
   ]
  },
  {
   "cell_type": "code",
   "execution_count": 34,
   "metadata": {},
   "outputs": [
    {
     "name": "stdout",
     "output_type": "stream",
     "text": [
      "Recall: 0.896\n"
     ]
    }
   ],
   "source": [
    "print('Recall: {:0.3f}'.format(evaluate [3]))"
   ]
  },
  {
   "cell_type": "code",
   "execution_count": null,
   "metadata": {},
   "outputs": [],
   "source": []
  }
 ],
 "metadata": {
  "kernelspec": {
   "display_name": "Python 3",
   "language": "python",
   "name": "python3"
  },
  "language_info": {
   "codemirror_mode": {
    "name": "ipython",
    "version": 3
   },
   "file_extension": ".py",
   "mimetype": "text/x-python",
   "name": "python",
   "nbconvert_exporter": "python",
   "pygments_lexer": "ipython3",
   "version": "3.7.3"
  }
 },
 "nbformat": 4,
 "nbformat_minor": 2
}

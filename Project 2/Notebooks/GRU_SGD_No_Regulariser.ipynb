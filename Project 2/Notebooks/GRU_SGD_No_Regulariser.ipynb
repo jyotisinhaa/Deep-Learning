{
 "cells": [
  {
   "cell_type": "markdown",
   "metadata": {},
   "source": [
    "<h3>Importing Libraries</h3>"
   ]
  },
  {
   "cell_type": "code",
   "execution_count": 1,
   "metadata": {},
   "outputs": [
    {
     "name": "stderr",
     "output_type": "stream",
     "text": [
      "Using TensorFlow backend.\n"
     ]
    }
   ],
   "source": [
    "# Importing Libraries\n",
    "from keras.backend.tensorflow_backend import set_session\n",
    "from keras.models import Sequential\n",
    "from keras.layers import Dense\n",
    "from keras.layers import TimeDistributed\n",
    "from keras.layers import LSTM, Dropout\n",
    "from keras import optimizers\n",
    "import pandas as pd\n",
    "import numpy as np\n",
    "from datetime import datetime, date, timedelta\n",
    "from keras.callbacks import ModelCheckpoint, EarlyStopping\n",
    "from sklearn.metrics import confusion_matrix, roc_curve, auc,accuracy_score\n",
    "from itertools import cycle\n",
    "from keras.models import load_model\n",
    "import itertools\n",
    "import matplotlib.pyplot as plt\n",
    "from sklearn.preprocessing import MinMaxScaler\n",
    "from keras.models import Sequential\n",
    "from keras.layers import Dense, LSTM, Dropout, GRU, Bidirectional\n",
    "from keras.optimizers import SGD\n",
    "import math\n",
    "from sklearn.metrics import mean_squared_error\n",
    "import sklearn.metrics as metrics\n",
    "from keras.metrics import Precision, Recall"
   ]
  },
  {
   "cell_type": "markdown",
   "metadata": {},
   "source": [
    "<h4>Importing Dataset</h4>"
   ]
  },
  {
   "cell_type": "code",
   "execution_count": 2,
   "metadata": {},
   "outputs": [],
   "source": [
    "train_log= pd.read_csv('/Users/jyoti/OneDrive/DLFinal/Project2/norm.csv')"
   ]
  },
  {
   "cell_type": "code",
   "execution_count": 3,
   "metadata": {},
   "outputs": [
    {
     "data": {
      "text/plain": [
       "Index(['enrollment_id', 'date', 'access', 'discussion', 'navigate',\n",
       "       'page_close', 'problem', 'video', 'wiki', 'session', 'tot_time',\n",
       "       'result'],\n",
       "      dtype='object')"
      ]
     },
     "execution_count": 3,
     "metadata": {},
     "output_type": "execute_result"
    }
   ],
   "source": [
    "train_log.columns"
   ]
  },
  {
   "cell_type": "code",
   "execution_count": 4,
   "metadata": {},
   "outputs": [],
   "source": [
    "df1 = train_log[\"access\"]"
   ]
  },
  {
   "cell_type": "code",
   "execution_count": 5,
   "metadata": {},
   "outputs": [
    {
     "data": {
      "text/plain": [
       "[<matplotlib.lines.Line2D at 0x1434dd9b0>]"
      ]
     },
     "execution_count": 5,
     "metadata": {},
     "output_type": "execute_result"
    },
    {
     "data": {
      "image/png": "[encoded data removed]",
      "text/plain": [
       "<Figure size 432x288 with 1 Axes>"
      ]
     },
     "metadata": {
      "needs_background": "light"
     },
     "output_type": "display_data"
    }
   ],
   "source": [
    "import matplotlib.pyplot as plt\n",
    "plt.plot(df1)"
   ]
  },
  {
   "cell_type": "code",
   "execution_count": 6,
   "metadata": {},
   "outputs": [
    {
     "data": {
      "text/plain": [
       "[<matplotlib.lines.Line2D at 0x1437ee4e0>]"
      ]
     },
     "execution_count": 6,
     "metadata": {},
     "output_type": "execute_result"
    },
    {
     "data": {
      "image/png": "[encoded data removed]",
      "text/plain": [
       "<Figure size 432x288 with 1 Axes>"
      ]
     },
     "metadata": {
      "needs_background": "light"
     },
     "output_type": "display_data"
    }
   ],
   "source": [
    "df2 = train_log[\"session\"]\n",
    "import matplotlib.pyplot as plt\n",
    "plt.plot(df2)"
   ]
  },
  {
   "cell_type": "code",
   "execution_count": 7,
   "metadata": {},
   "outputs": [],
   "source": [
    "train_num = 8000\n",
    "test_num = 728"
   ]
  },
  {
   "cell_type": "code",
   "execution_count": 8,
   "metadata": {},
   "outputs": [
    {
     "name": "stdout",
     "output_type": "stream",
     "text": [
      "(8728,)\n"
     ]
    }
   ],
   "source": [
    "en_ids = train_log['enrollment_id'].unique()\n",
    "print(en_ids.shape)"
   ]
  },
  {
   "cell_type": "code",
   "execution_count": 9,
   "metadata": {},
   "outputs": [
    {
     "data": {
      "text/plain": [
       "array([ 70989,  74576,  41060, ...,  76205,  17116, 114113])"
      ]
     },
     "execution_count": 9,
     "metadata": {},
     "output_type": "execute_result"
    }
   ],
   "source": [
    "np.random.shuffle(en_ids)\n",
    "en_ids"
   ]
  },
  {
   "cell_type": "code",
   "execution_count": 10,
   "metadata": {},
   "outputs": [],
   "source": [
    "tr_en_ids = en_ids[:train_num]\n",
    "ts_en_ids = en_ids[train_num:]"
   ]
  },
  {
   "cell_type": "code",
   "execution_count": 11,
   "metadata": {},
   "outputs": [
    {
     "data": {
      "text/plain": [
       "0.6291208791208791"
      ]
     },
     "execution_count": 11,
     "metadata": {},
     "output_type": "execute_result"
    }
   ],
   "source": [
    "(train_log[train_log['enrollment_id'].isin(ts_en_ids)]['result'].values.sum()/4)/728"
   ]
  },
  {
   "cell_type": "code",
   "execution_count": 12,
   "metadata": {},
   "outputs": [
    {
     "data": {
      "text/plain": [
       "0.648625"
      ]
     },
     "execution_count": 12,
     "metadata": {},
     "output_type": "execute_result"
    }
   ],
   "source": [
    "(train_log[train_log['enrollment_id'].isin(tr_en_ids)]['result'].values.sum()/4)/8000"
   ]
  },
  {
   "cell_type": "code",
   "execution_count": 13,
   "metadata": {},
   "outputs": [
    {
     "data": {
      "text/plain": [
       "(8000,)"
      ]
     },
     "execution_count": 13,
     "metadata": {},
     "output_type": "execute_result"
    }
   ],
   "source": [
    "tr_en_ids.shape"
   ]
  },
  {
   "cell_type": "code",
   "execution_count": 14,
   "metadata": {},
   "outputs": [
    {
     "data": {
      "text/plain": [
       "(728,)"
      ]
     },
     "execution_count": 14,
     "metadata": {},
     "output_type": "execute_result"
    }
   ],
   "source": [
    "ts_en_ids.shape"
   ]
  },
  {
   "cell_type": "markdown",
   "metadata": {},
   "source": [
    "<h4>Datagen Creation</h4>"
   ]
  },
  {
   "cell_type": "code",
   "execution_count": 15,
   "metadata": {},
   "outputs": [],
   "source": [
    "import random\n",
    "from sklearn import preprocessing\n",
    "minmaxscaler_as = preprocessing.MinMaxScaler(feature_range = (0,1))\n",
    "def datagen(batchsize = 32, mode = 'train'):\n",
    "    counter = 0\n",
    "    x, y = [],[]\n",
    "    while True:\n",
    "        if mode == 'train':\n",
    "            idx = random.choice(tr_en_ids)\n",
    "        else:\n",
    "            idx =random.choice(ts_en_ids)\n",
    "        temp = train_log[train_log['enrollment_id']==idx]\n",
    "        row = []\n",
    "        for i in range(temp.shape[0]):\n",
    "            row.append(temp.iloc[i].values[2:-1]) #2:-1\n",
    "        x.append(row)\n",
    "\n",
    "        y.append(temp.iloc[0].values[-1])\n",
    "        \n",
    "        counter+=1\n",
    "        if counter==batchsize:\n",
    "           \n",
    "            yield np.array(x),np.array(y)\n",
    "            counter = 0\n",
    "            x, y = [], [] "
   ]
  },
  {
   "cell_type": "code",
   "execution_count": 16,
   "metadata": {},
   "outputs": [],
   "source": [
    "tr_dg  = datagen(mode='train')\n",
    "ts_dg = datagen(mode = 'test', batchsize=32)"
   ]
  },
  {
   "cell_type": "markdown",
   "metadata": {},
   "source": [
    "<h4>Model Architecture</h4>"
   ]
  },
  {
   "cell_type": "code",
   "execution_count": 17,
   "metadata": {},
   "outputs": [
    {
     "name": "stdout",
     "output_type": "stream",
     "text": [
      "Model: \"sequential_1\"\n",
      "_________________________________________________________________\n",
      "Layer (type)                 Output Shape              Param #   \n",
      "=================================================================\n",
      "gru_1 (GRU)                  (32, 4, 50)               9000      \n",
      "_________________________________________________________________\n",
      "dropout_1 (Dropout)          (32, 4, 50)               0         \n",
      "_________________________________________________________________\n",
      "gru_2 (GRU)                  (32, 4, 50)               15150     \n",
      "_________________________________________________________________\n",
      "dropout_2 (Dropout)          (32, 4, 50)               0         \n",
      "_________________________________________________________________\n",
      "gru_3 (GRU)                  (32, 4, 50)               15150     \n",
      "_________________________________________________________________\n",
      "dropout_3 (Dropout)          (32, 4, 50)               0         \n",
      "_________________________________________________________________\n",
      "gru_4 (GRU)                  (32, 50)                  15150     \n",
      "_________________________________________________________________\n",
      "dropout_4 (Dropout)          (32, 50)                  0         \n",
      "_________________________________________________________________\n",
      "dense_1 (Dense)              (32, 1)                   51        \n",
      "=================================================================\n",
      "Total params: 54,501\n",
      "Trainable params: 54,501\n",
      "Non-trainable params: 0\n",
      "_________________________________________________________________\n"
     ]
    }
   ],
   "source": [
    "# The GRU architecture\n",
    "regressorGRU = Sequential()\n",
    "# First GRU layer with Dropout regularisation\n",
    "regressorGRU.add(GRU(units=50, return_sequences=True, batch_input_shape=(32, 4,9),activation='tanh'))\n",
    "regressorGRU.add(Dropout(0.2))\n",
    "#Second GRU layer\n",
    "regressorGRU.add(GRU(units=50, return_sequences=True, batch_input_shape=(32, 4,9),activation='tanh'))\n",
    "regressorGRU.add(Dropout(0.2))\n",
    "# # # Third GRU layer\n",
    "regressorGRU.add(GRU(units=50, return_sequences=True, batch_input_shape=(32, 4,9), activation='tanh'))\n",
    "regressorGRU.add(Dropout(0.2))\n",
    "# Fourth GRU layer\n",
    "regressorGRU.add(GRU(units=50, activation='tanh'))\n",
    "regressorGRU.add(Dropout(0.2))\n",
    "# The output layer\n",
    "regressorGRU.add(Dense(units=1))\n",
    "regressorGRU.summary()"
   ]
  },
  {
   "cell_type": "code",
   "execution_count": 18,
   "metadata": {},
   "outputs": [
    {
     "name": "stdout",
     "output_type": "stream",
     "text": [
      "WARNING:tensorflow:From /Users/jyoti/anaconda3/lib/python3.7/site-packages/keras/backend/tensorflow_backend.py:3172: add_dispatch_support.<locals>.wrapper (from tensorflow.python.ops.array_ops) is deprecated and will be removed in a future version.\n",
      "Instructions for updating:\n",
      "Use tf.where in 2.0, which has the same broadcast rule as np.where\n"
     ]
    }
   ],
   "source": [
    "# Compiling the RNN\n",
    "\n",
    "regressorGRU.compile(optimizer=SGD(lr=0.01, decay=1e-7, momentum=0.9, nesterov=False),loss='mean_squared_error',metrics=['accuracy',Precision(), Recall()])"
   ]
  },
  {
   "cell_type": "markdown",
   "metadata": {},
   "source": [
    "<h4> Early Stopping and Check Points</h4>"
   ]
  },
  {
   "cell_type": "code",
   "execution_count": 19,
   "metadata": {},
   "outputs": [],
   "source": [
    "\n",
    "# Create Checkpoint and Early Stopping\n",
    "checkpoint = ModelCheckpoint(\"GRU_SGD_No_Regulariser.h5\", monitor='val_accuracy', verbose=1, save_best_only=True, save_weights_only=True, mode='auto', period=1)\n",
    "early = EarlyStopping(monitor='val_accuracy', min_delta=0, patience=15, verbose=1, mode='auto')"
   ]
  },
  {
   "cell_type": "code",
   "execution_count": 20,
   "metadata": {
    "scrolled": true
   },
   "outputs": [
    {
     "name": "stdout",
     "output_type": "stream",
     "text": [
      "WARNING:tensorflow:From /Users/jyoti/anaconda3/lib/python3.7/site-packages/keras/backend/tensorflow_backend.py:422: The name tf.global_variables is deprecated. Please use tf.compat.v1.global_variables instead.\n",
      "\n",
      "Epoch 1/200\n",
      "250/250 [==============================] - 41s 165ms/step - loss: 0.1559 - accuracy: 0.7893 - precision_1: 0.8199 - recall_1: 0.8599 - val_loss: 0.2083 - val_accuracy: 0.7514 - val_precision_1: 0.8341 - val_recall_1: 0.7694\n",
      "\n",
      "Epoch 00001: val_accuracy improved from -inf to 0.75136, saving model to GRU_SGD_No_Regulariser.h5\n",
      "Epoch 2/200\n",
      "250/250 [==============================] - 28s 110ms/step - loss: 0.1382 - accuracy: 0.8136 - precision_1: 0.8367 - recall_1: 0.8835 - val_loss: 0.1500 - val_accuracy: 0.8098 - val_precision_1: 0.8115 - val_recall_1: 0.9009\n",
      "\n",
      "Epoch 00002: val_accuracy improved from 0.75136 to 0.80978, saving model to GRU_SGD_No_Regulariser.h5\n",
      "Epoch 3/200\n",
      "250/250 [==============================] - 25s 100ms/step - loss: 0.1381 - accuracy: 0.8106 - precision_1: 0.8352 - recall_1: 0.8826 - val_loss: 0.1243 - val_accuracy: 0.7976 - val_precision_1: 0.8265 - val_recall_1: 0.8635\n",
      "\n",
      "Epoch 00003: val_accuracy did not improve from 0.80978\n",
      "Epoch 4/200\n",
      "250/250 [==============================] - 30s 121ms/step - loss: 0.1368 - accuracy: 0.8116 - precision_1: 0.8349 - recall_1: 0.8849 - val_loss: 0.1282 - val_accuracy: 0.7649 - val_precision_1: 0.7854 - val_recall_1: 0.8618\n",
      "\n",
      "Epoch 00004: val_accuracy did not improve from 0.80978\n",
      "Epoch 5/200\n",
      "250/250 [==============================] - 27s 106ms/step - loss: 0.1383 - accuracy: 0.8084 - precision_1: 0.8354 - recall_1: 0.8739 - val_loss: 0.1661 - val_accuracy: 0.8329 - val_precision_1: 0.8657 - val_recall_1: 0.8852\n",
      "\n",
      "Epoch 00005: val_accuracy improved from 0.80978 to 0.83288, saving model to GRU_SGD_No_Regulariser.h5\n",
      "Epoch 6/200\n",
      "250/250 [==============================] - 27s 106ms/step - loss: 0.1366 - accuracy: 0.8136 - precision_1: 0.8362 - recall_1: 0.8860 - val_loss: 0.1113 - val_accuracy: 0.8125 - val_precision_1: 0.8286 - val_recall_1: 0.9006\n",
      "\n",
      "Epoch 00006: val_accuracy did not improve from 0.83288\n",
      "Epoch 7/200\n",
      "250/250 [==============================] - 29s 118ms/step - loss: 0.1345 - accuracy: 0.8127 - precision_1: 0.8366 - recall_1: 0.8843 - val_loss: 0.1646 - val_accuracy: 0.7609 - val_precision_1: 0.7841 - val_recall_1: 0.8462\n",
      "\n",
      "Epoch 00007: val_accuracy did not improve from 0.83288\n",
      "Epoch 8/200\n",
      "250/250 [==============================] - 30s 119ms/step - loss: 0.1358 - accuracy: 0.8117 - precision_1: 0.8357 - recall_1: 0.8848 - val_loss: 0.1946 - val_accuracy: 0.7812 - val_precision_1: 0.8065 - val_recall_1: 0.8602\n",
      "\n",
      "Epoch 00008: val_accuracy did not improve from 0.83288\n",
      "Epoch 9/200\n",
      "250/250 [==============================] - 25s 99ms/step - loss: 0.1372 - accuracy: 0.8102 - precision_1: 0.8373 - recall_1: 0.8811 - val_loss: 0.1001 - val_accuracy: 0.7880 - val_precision_1: 0.8225 - val_recall_1: 0.8473\n",
      "\n",
      "Epoch 00009: val_accuracy did not improve from 0.83288\n",
      "Epoch 10/200\n",
      "250/250 [==============================] - 28s 111ms/step - loss: 0.1335 - accuracy: 0.8173 - precision_1: 0.8396 - recall_1: 0.8867 - val_loss: 0.1621 - val_accuracy: 0.7826 - val_precision_1: 0.8077 - val_recall_1: 0.8599\n",
      "\n",
      "Epoch 00010: val_accuracy did not improve from 0.83288\n",
      "Epoch 11/200\n",
      "250/250 [==============================] - 27s 109ms/step - loss: 0.1379 - accuracy: 0.8119 - precision_1: 0.8331 - recall_1: 0.8856 - val_loss: 0.1712 - val_accuracy: 0.7976 - val_precision_1: 0.8066 - val_recall_1: 0.8920\n",
      "\n",
      "Epoch 00011: val_accuracy did not improve from 0.83288\n",
      "Epoch 12/200\n",
      "250/250 [==============================] - 30s 120ms/step - loss: 0.1321 - accuracy: 0.8165 - precision_1: 0.8368 - recall_1: 0.8864 - val_loss: 0.1602 - val_accuracy: 0.7785 - val_precision_1: 0.8108 - val_recall_1: 0.8442\n",
      "\n",
      "Epoch 00012: val_accuracy did not improve from 0.83288\n",
      "Epoch 13/200\n",
      "250/250 [==============================] - 28s 113ms/step - loss: 0.1314 - accuracy: 0.8221 - precision_1: 0.8444 - recall_1: 0.8904 - val_loss: 0.1295 - val_accuracy: 0.7690 - val_precision_1: 0.7657 - val_recall_1: 0.8841- accuracy: 0.819 - ETA: 1s - loss: 0.1317 - accuracy: 0.8218 - precision_1: 0.8437 - r\n",
      "\n",
      "Epoch 00013: val_accuracy did not improve from 0.83288\n",
      "Epoch 14/200\n",
      "250/250 [==============================] - 27s 110ms/step - loss: 0.1346 - accuracy: 0.8145 - precision_1: 0.8402 - recall_1: 0.8862 - val_loss: 0.1153 - val_accuracy: 0.8030 - val_precision_1: 0.8234 - val_recall_1: 0.8717- ETA: 18s - loss: 0.1345 - accuracy: 0.8138 - precision_1: 0.8399 - reca - ETA: 17s - ETA: 8s - loss: 0.1362 - accuracy: 0.8106 - precision_1: 0.8345 - recall - ETA: 7s - loss: 0.1368 - accuracy: 0.8107 - pr - ETA: 3s - loss: 0.1361 - accuracy: 0.8125 - p\n",
      "\n",
      "Epoch 00014: val_accuracy did not improve from 0.83288\n",
      "Epoch 15/200\n",
      "250/250 [==============================] - 27s 109ms/step - loss: 0.1331 - accuracy: 0.8140 - precision_1: 0.8387 - recall_1: 0.8804 - val_loss: 0.0642 - val_accuracy: 0.7962 - val_precision_1: 0.8060 - val_recall_1: 0.883834 - precision_1: 0.843 - ETA: 17s - loss: 0.1346 - accuracy: 0.8097 - precision_1: 0.8370 - reca - ETA: 16s - loss: 0.1353 - accuracy: 0 - ETA: 10s - loss: 0.1319 - accuracy: 0.8146 - precision_1: 0.8369 - recall_1 - ETA: 9s - loss: 0.1315 - accuracy: 0.8155 - precision_1: 0.8372 - rec - ETA: 8s - loss: 0.1325 - accuracy: 0.8138 - precision_1: 0.8380 - recall_ - ETA: 7s - loss: 0.1326 - accuracy: 0.8139 -  - ETA: 3s - loss: 0.1317 - accuracy: 0.8161 - precision_1: 0.8401 - r - ETA: 1s - loss: 0.1320 - accuracy: 0.8157 - precision_1: 0.8398 \n",
      "\n",
      "Epoch 00015: val_accuracy did not improve from 0.83288\n",
      "Epoch 16/200\n",
      "250/250 [==============================] - 27s 109ms/step - loss: 0.1352 - accuracy: 0.8094 - precision_1: 0.8325 - recall_1: 0.8835 - val_loss: 0.1715 - val_accuracy: 0.7704 - val_precision_1: 0.7988 - val_recall_1: 0.851972 - re - ETA: 11s - loss: 0.1366 - accuracy: 0.8052 - precision_1: 0.8288 - recall - ETA: 10s - loss: 0.1359 - accuracy: 0.8061 - precision_1: 0.829 - ETA: 9s - loss: 0.1366 - accuracy: 0.8049 -  - ETA: 5s - loss: 0.1373 - accuracy: 0.8048 - precision_1: 0.8295 - recall_1: - ETA: 4s - loss: 0.1372 - accuracy: 0.8058 - precision_1: 0.8 - ETA: 2s - loss: 0.1362 - accuracy: 0.8077 - precision_1: 0.8\n",
      "\n",
      "Epoch 00016: val_accuracy did not improve from 0.83288\n",
      "Epoch 17/200\n",
      "250/250 [==============================] - 27s 109ms/step - loss: 0.1297 - accuracy: 0.8211 - precision_1: 0.8461 - recall_1: 0.8845 - val_loss: 0.1563 - val_accuracy: 0.7677 - val_precision_1: 0.7759 - val_recall_1: 0.8879.8170 - precision_1: 0.839 - ETA: 5s - loss: 0.1307 - accuracy: 0.8181  - ETA: 1s - loss: 0.1308 - accuracy: 0.8199 - precision_1: 0.8440 - r\n",
      "\n",
      "Epoch 00017: val_accuracy did not improve from 0.83288\n",
      "Epoch 18/200\n",
      "250/250 [==============================] - 27s 108ms/step - loss: 0.1328 - accuracy: 0.8158 - precision_1: 0.8383 - recall_1: 0.8828 - val_loss: 0.1287 - val_accuracy: 0.8152 - val_precision_1: 0.8490 - val_recall_1: 0.8703 0.1291 - accurac - ETA: 11s - loss: 0.1281 - accuracy: 0.8260 - precision_1: 0.8482 - reca - ETA: 11s - loss: 0.1279 - accuracy: 0.8246 - pr\n",
      "\n",
      "Epoch 00018: val_accuracy did not improve from 0.83288\n",
      "Epoch 19/200\n",
      "250/250 [==============================] - 28s 111ms/step - loss: 0.1350 - accuracy: 0.8109 - precision_1: 0.8356 - recall_1: 0.8789 - val_loss: 0.1406 - val_accuracy: 0.7745 - val_precision_1: 0.7885 - val_recall_1: 0.8364.1396 - accuracy: 0.8033 - precision_1: 0.8299 - re - ETA: 9s - loss: 0.13 - ETA: 3s - loss: 0.1356 - accuracy: 0.8104 - precision_1: 0.8 - ETA: 0s - loss: 0.1346 - accuracy: 0.8116 - precision_1: 0.8362 - recall_1:\n",
      "\n",
      "Epoch 00019: val_accuracy did not improve from 0.83288\n",
      "Epoch 20/200\n",
      "250/250 [==============================] - 27s 109ms/step - loss: 0.1347 - accuracy: 0.8148 - precision_1: 0.8379 - recall_1: 0.8857 - val_loss: 0.1802 - val_accuracy: 0.7989 - val_precision_1: 0.8170 - val_recall_1: 0.8675 ETA: 4s - loss: 0.1341 - accuracy: 0.8151 - precision_ - ETA: 1s - loss: 0.1354 - accuracy: 0.8129 - precision_1: 0.8371 - r\n",
      "\n",
      "Epoch 00020: val_accuracy did not improve from 0.83288\n",
      "Epoch 00020: early stopping\n"
     ]
    }
   ],
   "source": [
    "history = regressorGRU.fit(tr_dg, epochs=200,verbose=1, validation_data=ts_dg, steps_per_epoch=250, validation_steps=23,callbacks=[checkpoint,early])\n"
   ]
  },
  {
   "cell_type": "markdown",
   "metadata": {},
   "source": [
    "<h4> Plots</h4>"
   ]
  },
  {
   "cell_type": "code",
   "execution_count": 28,
   "metadata": {},
   "outputs": [
    {
     "name": "stdout",
     "output_type": "stream",
     "text": [
      "dict_keys(['val_loss', 'val_accuracy', 'val_precision_1', 'val_recall_1', 'loss', 'accuracy', 'precision_1', 'recall_1'])\n"
     ]
    },
    {
     "data": {
      "image/png": "[encoded data removed]",
      "text/plain": [
       "<Figure size 432x288 with 1 Axes>"
      ]
     },
     "metadata": {
      "needs_background": "light"
     },
     "output_type": "display_data"
    }
   ],
   "source": [
    "# Plot of Training vs Validation Loss\n",
    "history_dict = history.history\n",
    "print(history_dict.keys())\n",
    "loss_values = history_dict['loss']\n",
    "val_loss_values = history_dict['val_loss']\n",
    "epochs = range(1, len(history_dict['accuracy']) + 1)\n",
    "plt.plot(epochs, loss_values, 'r', label='Training loss')\n",
    "plt.plot(epochs, val_loss_values, 'g', label='Validation loss')\n",
    "plt.title('Training and validation loss')\n",
    "plt.xlabel('Epochs')\n",
    "plt.ylabel('Loss')\n",
    "plt.legend()\n",
    "plt.show()"
   ]
  },
  {
   "cell_type": "code",
   "execution_count": 29,
   "metadata": {},
   "outputs": [
    {
     "name": "stdout",
     "output_type": "stream",
     "text": [
      "dict_keys(['val_loss', 'val_accuracy', 'val_precision_1', 'val_recall_1', 'loss', 'accuracy', 'precision_1', 'recall_1'])\n"
     ]
    },
    {
     "data": {
      "image/png": "[encoded data removed]",
      "text/plain": [
       "<Figure size 432x288 with 1 Axes>"
      ]
     },
     "metadata": {
      "needs_background": "light"
     },
     "output_type": "display_data"
    }
   ],
   "source": [
    "# Plot of Training vs Validation Accuracy\n",
    "hist_dict = history.history\n",
    "print(history_dict.keys())\n",
    "accuracy_values = history_dict['accuracy']\n",
    "val_accuracy_values = history_dict['val_accuracy']\n",
    "epochs = range(1, len(history_dict['accuracy']) + 1)\n",
    "plt.plot(epochs, accuracy_values, 'r', label='Training Accuracy')\n",
    "plt.plot(epochs, val_accuracy_values, 'g', label='Validation accuracy')\n",
    "plt.title('Training and validation Accuracy')\n",
    "plt.xlabel('Epochs')\n",
    "plt.ylabel('Accuracy')\n",
    "plt.legend()\n",
    "plt.show()"
   ]
  },
  {
   "cell_type": "markdown",
   "metadata": {},
   "source": [
    "<h4>Calculation of metrics</h3>"
   ]
  },
  {
   "cell_type": "code",
   "execution_count": 30,
   "metadata": {},
   "outputs": [
    {
     "name": "stdout",
     "output_type": "stream",
     "text": [
      "100/100 [==============================] - 11s 111ms/step\n"
     ]
    }
   ],
   "source": [
    "evaluate = regressorGRU.evaluate_generator(ts_dg, steps=100, verbose=1,callbacks=None)\n"
   ]
  },
  {
   "cell_type": "code",
   "execution_count": 31,
   "metadata": {},
   "outputs": [
    {
     "data": {
      "text/plain": [
       "['loss', 'accuracy', 'precision_1', 'recall_1']"
      ]
     },
     "execution_count": 31,
     "metadata": {},
     "output_type": "execute_result"
    }
   ],
   "source": [
    "regressorGRU.metrics_names"
   ]
  },
  {
   "cell_type": "code",
   "execution_count": 32,
   "metadata": {},
   "outputs": [
    {
     "name": "stdout",
     "output_type": "stream",
     "text": [
      "Accuracy: 0.791\n"
     ]
    }
   ],
   "source": [
    "print('Accuracy: {:0.3f}'.format(evaluate [1]))"
   ]
  },
  {
   "cell_type": "code",
   "execution_count": 33,
   "metadata": {},
   "outputs": [
    {
     "name": "stdout",
     "output_type": "stream",
     "text": [
      "Precision: 0.818\n"
     ]
    }
   ],
   "source": [
    "print('Precision: {:0.3f}'.format(evaluate [2]))"
   ]
  },
  {
   "cell_type": "code",
   "execution_count": 34,
   "metadata": {},
   "outputs": [
    {
     "name": "stdout",
     "output_type": "stream",
     "text": [
      "Recall: 0.860\n"
     ]
    }
   ],
   "source": [
    "print('Recall: {:0.3f}'.format(evaluate [3]))"
   ]
  }
 ],
 "metadata": {
  "kernelspec": {
   "display_name": "Python 3",
   "language": "python",
   "name": "python3"
  },
  "language_info": {
   "codemirror_mode": {
    "name": "ipython",
    "version": 3
   },
   "file_extension": ".py",
   "mimetype": "text/x-python",
   "name": "python",
   "nbconvert_exporter": "python",
   "pygments_lexer": "ipython3",
   "version": "3.7.3"
  }
 },
 "nbformat": 4,
 "nbformat_minor": 2
}

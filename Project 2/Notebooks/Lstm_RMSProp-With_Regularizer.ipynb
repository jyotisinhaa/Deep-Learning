{
 "cells": [
  {
   "cell_type": "markdown",
   "metadata": {},
   "source": [
    "<h3>Importing Libraries</h3>"
   ]
  },
  {
   "cell_type": "code",
   "execution_count": 1,
   "metadata": {},
   "outputs": [
    {
     "name": "stderr",
     "output_type": "stream",
     "text": [
      "Using TensorFlow backend.\n"
     ]
    }
   ],
   "source": [
    "# Importing Libraries\n",
    "from keras.backend.tensorflow_backend import set_session\n",
    "from keras.models import Sequential\n",
    "from keras.layers import Dense\n",
    "from keras.layers import TimeDistributed\n",
    "from keras.layers import LSTM, Dropout\n",
    "from keras import optimizers\n",
    "import pandas as pd\n",
    "import numpy as np\n",
    "from datetime import datetime, date, timedelta\n",
    "from keras.callbacks import ModelCheckpoint, EarlyStopping\n",
    "from sklearn.metrics import confusion_matrix, roc_curve, auc,accuracy_score\n",
    "import matplotlib.pyplot as plt\n",
    "from itertools import cycle\n",
    "from keras.models import load_model\n",
    "import itertools\n",
    "import pickle"
   ]
  },
  {
   "cell_type": "markdown",
   "metadata": {},
   "source": [
    "<h4>Importing Dataset</h4>"
   ]
  },
  {
   "cell_type": "code",
   "execution_count": 2,
   "metadata": {},
   "outputs": [],
   "source": [
    "train_log= pd.read_csv('/Users/jyoti/OneDrive/DLFinal/Project2/norm.csv')"
   ]
  },
  {
   "cell_type": "code",
   "execution_count": 3,
   "metadata": {},
   "outputs": [
    {
     "data": {
      "text/plain": [
       "Index(['enrollment_id', 'date', 'access', 'discussion', 'navigate',\n",
       "       'page_close', 'problem', 'video', 'wiki', 'session', 'tot_time',\n",
       "       'result'],\n",
       "      dtype='object')"
      ]
     },
     "execution_count": 3,
     "metadata": {},
     "output_type": "execute_result"
    }
   ],
   "source": [
    "train_log.columns"
   ]
  },
  {
   "cell_type": "code",
   "execution_count": 4,
   "metadata": {},
   "outputs": [],
   "source": [
    "df1 = train_log[\"access\"]"
   ]
  },
  {
   "cell_type": "code",
   "execution_count": 5,
   "metadata": {},
   "outputs": [
    {
     "data": {
      "text/plain": [
       "[<matplotlib.lines.Line2D at 0x14e963a20>]"
      ]
     },
     "execution_count": 5,
     "metadata": {},
     "output_type": "execute_result"
    },
    {
     "data": {
      "image/png": "[encoded data removed]",
      "text/plain": [
       "<Figure size 432x288 with 1 Axes>"
      ]
     },
     "metadata": {
      "needs_background": "light"
     },
     "output_type": "display_data"
    }
   ],
   "source": [
    "import matplotlib.pyplot as plt\n",
    "plt.plot(df1)"
   ]
  },
  {
   "cell_type": "code",
   "execution_count": 6,
   "metadata": {},
   "outputs": [
    {
     "data": {
      "text/plain": [
       "[<matplotlib.lines.Line2D at 0x1508795c0>]"
      ]
     },
     "execution_count": 6,
     "metadata": {},
     "output_type": "execute_result"
    },
    {
     "data": {
      "image/png": "[encoded data removed]",
      "text/plain": [
       "<Figure size 432x288 with 1 Axes>"
      ]
     },
     "metadata": {
      "needs_background": "light"
     },
     "output_type": "display_data"
    }
   ],
   "source": [
    "df2 = train_log[\"session\"]\n",
    "import matplotlib.pyplot as plt\n",
    "plt.plot(df2)"
   ]
  },
  {
   "cell_type": "code",
   "execution_count": 7,
   "metadata": {},
   "outputs": [],
   "source": [
    "train_num = 8000\n",
    "test_num = 728"
   ]
  },
  {
   "cell_type": "code",
   "execution_count": 8,
   "metadata": {},
   "outputs": [
    {
     "name": "stdout",
     "output_type": "stream",
     "text": [
      "(8728,)\n"
     ]
    }
   ],
   "source": [
    "en_ids = train_log['enrollment_id'].unique()\n",
    "print(en_ids.shape)"
   ]
  },
  {
   "cell_type": "code",
   "execution_count": 9,
   "metadata": {},
   "outputs": [
    {
     "data": {
      "text/plain": [
       "array([ 41140, 196832, 172749, ..., 179237,  15632,  15758])"
      ]
     },
     "execution_count": 9,
     "metadata": {},
     "output_type": "execute_result"
    }
   ],
   "source": [
    "np.random.shuffle(en_ids)\n",
    "en_ids"
   ]
  },
  {
   "cell_type": "code",
   "execution_count": 10,
   "metadata": {},
   "outputs": [],
   "source": [
    "tr_en_ids = en_ids[:train_num]\n",
    "ts_en_ids = en_ids[train_num:]"
   ]
  },
  {
   "cell_type": "code",
   "execution_count": 11,
   "metadata": {},
   "outputs": [
    {
     "data": {
      "text/plain": [
       "0.6483516483516484"
      ]
     },
     "execution_count": 11,
     "metadata": {},
     "output_type": "execute_result"
    }
   ],
   "source": [
    "(train_log[train_log['enrollment_id'].isin(ts_en_ids)]['result'].values.sum()/4)/728"
   ]
  },
  {
   "cell_type": "code",
   "execution_count": 12,
   "metadata": {},
   "outputs": [
    {
     "data": {
      "text/plain": [
       "0.646875"
      ]
     },
     "execution_count": 12,
     "metadata": {},
     "output_type": "execute_result"
    }
   ],
   "source": [
    "(train_log[train_log['enrollment_id'].isin(tr_en_ids)]['result'].values.sum()/4)/8000"
   ]
  },
  {
   "cell_type": "code",
   "execution_count": 13,
   "metadata": {},
   "outputs": [
    {
     "data": {
      "text/plain": [
       "(8000,)"
      ]
     },
     "execution_count": 13,
     "metadata": {},
     "output_type": "execute_result"
    }
   ],
   "source": [
    "tr_en_ids.shape"
   ]
  },
  {
   "cell_type": "code",
   "execution_count": 14,
   "metadata": {},
   "outputs": [
    {
     "data": {
      "text/plain": [
       "(728,)"
      ]
     },
     "execution_count": 14,
     "metadata": {},
     "output_type": "execute_result"
    }
   ],
   "source": [
    "ts_en_ids.shape"
   ]
  },
  {
   "cell_type": "markdown",
   "metadata": {},
   "source": [
    "<h4>Datagen Creation</h4>"
   ]
  },
  {
   "cell_type": "code",
   "execution_count": 15,
   "metadata": {},
   "outputs": [],
   "source": [
    "import random\n",
    "def datagen(batchsize = 32, mode = 'train'):\n",
    "    counter = 0\n",
    "    x, y = [],[]\n",
    "    while True:\n",
    "        if mode == 'train':\n",
    "            idx = random.choice(tr_en_ids)\n",
    "        else:\n",
    "            idx =random.choice(ts_en_ids)\n",
    "        temp = train_log[train_log['enrollment_id']==idx]\n",
    "        row = []\n",
    "        for i in range(temp.shape[0]):\n",
    "            row.append(temp.iloc[i].values[2:-1])\n",
    "        x.append(row)\n",
    "        y.append(temp.iloc[0].values[-1])\n",
    "        \n",
    "        counter+=1\n",
    "        if counter==batchsize:\n",
    "            yield np.array(x),np.array(y)\n",
    "            counter = 0\n",
    "            x, y = [], [] "
   ]
  },
  {
   "cell_type": "code",
   "execution_count": 16,
   "metadata": {},
   "outputs": [],
   "source": [
    "tr_dg  = datagen(mode='train')\n",
    "ts_dg = datagen(mode = 'test', batchsize=32)"
   ]
  },
  {
   "cell_type": "markdown",
   "metadata": {},
   "source": [
    "<h4>Model Architecture</h4>"
   ]
  },
  {
   "cell_type": "code",
   "execution_count": 17,
   "metadata": {},
   "outputs": [
    {
     "name": "stdout",
     "output_type": "stream",
     "text": [
      "WARNING:tensorflow:From /Users/jyoti/anaconda3/lib/python3.7/site-packages/keras/backend/tensorflow_backend.py:3172: add_dispatch_support.<locals>.wrapper (from tensorflow.python.ops.array_ops) is deprecated and will be removed in a future version.\n",
      "Instructions for updating:\n",
      "Use tf.where in 2.0, which has the same broadcast rule as np.where\n",
      "Model: \"sequential_1\"\n",
      "_________________________________________________________________\n",
      "Layer (type)                 Output Shape              Param #   \n",
      "=================================================================\n",
      "lstm_1 (LSTM)                (32, 4, 512)              1069056   \n",
      "_________________________________________________________________\n",
      "dropout_1 (Dropout)          (32, 4, 512)              0         \n",
      "_________________________________________________________________\n",
      "lstm_2 (LSTM)                (32, 512)                 2099200   \n",
      "_________________________________________________________________\n",
      "dropout_2 (Dropout)          (32, 512)                 0         \n",
      "_________________________________________________________________\n",
      "dropout_3 (Dropout)          (32, 512)                 0         \n",
      "_________________________________________________________________\n",
      "dropout_4 (Dropout)          (32, 512)                 0         \n",
      "_________________________________________________________________\n",
      "dropout_5 (Dropout)          (32, 512)                 0         \n",
      "_________________________________________________________________\n",
      "dropout_6 (Dropout)          (32, 512)                 0         \n",
      "_________________________________________________________________\n",
      "dense_1 (Dense)              (32, 1)                   513       \n",
      "=================================================================\n",
      "Total params: 3,168,769\n",
      "Trainable params: 3,168,769\n",
      "Non-trainable params: 0\n",
      "_________________________________________________________________\n"
     ]
    }
   ],
   "source": [
    "# The LSTM architecture\n",
    "from keras.optimizers import SGD\n",
    "from keras.metrics import Precision, Recall\n",
    "from keras import regularizers\n",
    "\n",
    "\n",
    "model = Sequential()\n",
    "# First LSTM layer with Dropout regularisation\n",
    "\n",
    "model.add(LSTM((512), batch_input_shape=(32, 4,9),activation = \"relu\", kernel_initializer = \"uniform\", activity_regularizer = regularizers.l2(0.01),return_sequences=True))\n",
    "model.add(Dropout(0.2))\n",
    "\n",
    "model.add(LSTM((512), batch_input_shape=(32, 4,9),activation = \"relu\",kernel_initializer = \"uniform\", activity_regularizer = regularizers.l2(0.01),return_sequences=False))\n",
    "model.add(Dropout(0.2))\n",
    "#-----------------\n",
    "model.add(Dropout(0.2))\n",
    "#--------------------\n",
    "\n",
    "model.add(Dropout(0.2))\n",
    "\n",
    "model.add(Dropout(0.2))\n",
    "\n",
    "model.add(Dropout(0.2))\n",
    "# The output layer\n",
    "model.add(Dense(1, activation='sigmoid'))\n",
    "\n",
    "# Compiling the RNN\n",
    "\n",
    "model.compile(optimizer = \"rmsprop\", loss = 'binary_crossentropy', \n",
    "              metrics=['accuracy',Precision(), Recall()])\n",
    "model.summary()\n"
   ]
  },
  {
   "cell_type": "markdown",
   "metadata": {},
   "source": [
    "<h4> Early Stopping and Check Points</h4>"
   ]
  },
  {
   "cell_type": "code",
   "execution_count": 18,
   "metadata": {},
   "outputs": [],
   "source": [
    "# Create Checkpoint and Early Stopping\n",
    "checkpoint = ModelCheckpoint(\"LSTM_RMSProp_With_Regularizer.h5\", monitor='val_accuracy', verbose=5, save_best_only=True, save_weights_only=True, mode='auto', period=1)\n",
    "early = EarlyStopping(monitor='val_accuracy', min_delta=0, patience=15, verbose=1, mode='auto')"
   ]
  },
  {
   "cell_type": "code",
   "execution_count": 19,
   "metadata": {
    "scrolled": true
   },
   "outputs": [
    {
     "name": "stdout",
     "output_type": "stream",
     "text": [
      "WARNING:tensorflow:From /Users/jyoti/anaconda3/lib/python3.7/site-packages/keras/backend/tensorflow_backend.py:422: The name tf.global_variables is deprecated. Please use tf.compat.v1.global_variables instead.\n",
      "\n",
      "Epoch 1/200\n",
      "250/250 [==============================] - 72s 288ms/step - loss: 0.6009 - accuracy: 0.7968 - precision_1: 0.8237 - recall_1: 0.8713 - val_loss: 0.5185 - val_accuracy: 0.8234 - val_precision_1: 0.8471 - val_recall_1: 0.8926\n",
      "\n",
      "Epoch 00001: val_accuracy improved from -inf to 0.82337, saving model to LSTM_RMSProp_With_Regularizer.h5\n",
      "Epoch 2/200\n",
      "250/250 [==============================] - 61s 245ms/step - loss: 0.4921 - accuracy: 0.8126 - precision_1: 0.8454 - recall_1: 0.8654 - val_loss: 0.4757 - val_accuracy: 0.8084 - val_precision_1: 0.8369 - val_recall_1: 0.8802\n",
      "\n",
      "Epoch 00002: val_accuracy did not improve from 0.82337\n",
      "Epoch 3/200\n",
      "250/250 [==============================] - 60s 240ms/step - loss: 0.4483 - accuracy: 0.8278 - precision_1: 0.8530 - recall_1: 0.8913 - val_loss: 0.5079 - val_accuracy: 0.8043 - val_precision_1: 0.8227 - val_recall_1: 0.8825\n",
      "\n",
      "Epoch 00003: val_accuracy did not improve from 0.82337\n",
      "Epoch 4/200\n",
      "250/250 [==============================] - 61s 245ms/step - loss: 0.4610 - accuracy: 0.8121 - precision_1: 0.8355 - recall_1: 0.8854 - val_loss: 0.2896 - val_accuracy: 0.8315 - val_precision_1: 0.8434 - val_recall_1: 0.9013\n",
      "\n",
      "Epoch 00004: val_accuracy improved from 0.82337 to 0.83152, saving model to LSTM_RMSProp_With_Regularizer.h5\n",
      "Epoch 5/200\n",
      "250/250 [==============================] - 75s 301ms/step - loss: 0.4467 - accuracy: 0.8199 - precision_1: 0.8401 - recall_1: 0.8901 - val_loss: 0.4559 - val_accuracy: 0.8505 - val_precision_1: 0.8635 - val_recall_1: 0.9110\n",
      "\n",
      "Epoch 00005: val_accuracy improved from 0.83152 to 0.85054, saving model to LSTM_RMSProp_With_Regularizer.h5\n",
      "Epoch 6/200\n",
      "250/250 [==============================] - 64s 258ms/step - loss: 0.4412 - accuracy: 0.8238 - precision_1: 0.8412 - recall_1: 0.8954 - val_loss: 0.5188 - val_accuracy: 0.8166 - val_precision_1: 0.8545 - val_recall_1: 0.8669\n",
      "\n",
      "Epoch 00006: val_accuracy did not improve from 0.85054\n",
      "Epoch 7/200\n",
      "250/250 [==============================] - 72s 287ms/step - loss: 0.4334 - accuracy: 0.8265 - precision_1: 0.8428 - recall_1: 0.8997 - val_loss: 0.4379 - val_accuracy: 0.8207 - val_precision_1: 0.8365 - val_recall_1: 0.9053\n",
      "\n",
      "Epoch 00007: val_accuracy did not improve from 0.85054\n",
      "Epoch 8/200\n",
      "250/250 [==============================] - 61s 245ms/step - loss: 0.4276 - accuracy: 0.8278 - precision_1: 0.8458 - recall_1: 0.8982 - val_loss: 0.3626 - val_accuracy: 0.8438 - val_precision_1: 0.8487 - val_recall_1: 0.9191\n",
      "\n",
      "Epoch 00008: val_accuracy did not improve from 0.85054\n",
      "Epoch 9/200\n",
      "250/250 [==============================] - 60s 241ms/step - loss: 0.4190 - accuracy: 0.8317 - precision_1: 0.8481 - recall_1: 0.8975 - val_loss: 0.5669 - val_accuracy: 0.8207 - val_precision_1: 0.8356 - val_recall_1: 0.9019\n",
      "\n",
      "Epoch 00009: val_accuracy did not improve from 0.85054\n",
      "Epoch 10/200\n",
      "250/250 [==============================] - 62s 248ms/step - loss: 0.4168 - accuracy: 0.8310 - precision_1: 0.8540 - recall_1: 0.8942 - val_loss: 0.3559 - val_accuracy: 0.8207 - val_precision_1: 0.8427 - val_recall_1: 0.8856\n",
      "\n",
      "Epoch 00010: val_accuracy did not improve from 0.85054\n",
      "Epoch 11/200\n",
      "250/250 [==============================] - 61s 246ms/step - loss: 0.4149 - accuracy: 0.8336 - precision_1: 0.8539 - recall_1: 0.9006 - val_loss: 0.2806 - val_accuracy: 0.8302 - val_precision_1: 0.8684 - val_recall_1: 0.8773\n",
      "\n",
      "Epoch 00011: val_accuracy did not improve from 0.85054\n",
      "Epoch 12/200\n",
      "250/250 [==============================] - 63s 251ms/step - loss: 0.4193 - accuracy: 0.8344 - precision_1: 0.8517 - recall_1: 0.9003 - val_loss: 0.4118 - val_accuracy: 0.8302 - val_precision_1: 0.8496 - val_recall_1: 0.8913\n",
      "\n",
      "Epoch 00012: val_accuracy did not improve from 0.85054\n",
      "Epoch 13/200\n",
      "250/250 [==============================] - 61s 246ms/step - loss: 0.4172 - accuracy: 0.8314 - precision_1: 0.8487 - recall_1: 0.9047 - val_loss: 0.3385 - val_accuracy: 0.8397 - val_precision_1: 0.8443 - val_recall_1: 0.9136\n",
      "\n",
      "Epoch 00013: val_accuracy did not improve from 0.85054\n",
      "Epoch 14/200\n",
      "250/250 [==============================] - 64s 255ms/step - loss: 0.4297 - accuracy: 0.8248 - precision_1: 0.8450 - recall_1: 0.8927 - val_loss: 0.4368 - val_accuracy: 0.8465 - val_precision_1: 0.8490 - val_recall_1: 0.9232\n",
      "\n",
      "Epoch 00014: val_accuracy did not improve from 0.85054\n",
      "Epoch 15/200\n",
      "250/250 [==============================] - 61s 243ms/step - loss: 0.4198 - accuracy: 0.8292 - precision_1: 0.8480 - recall_1: 0.8966 - val_loss: 0.2321 - val_accuracy: 0.8220 - val_precision_1: 0.8305 - val_recall_1: 0.9149\n",
      "\n",
      "Epoch 00015: val_accuracy did not improve from 0.85054\n",
      "Epoch 16/200\n",
      "250/250 [==============================] - 62s 246ms/step - loss: 0.4171 - accuracy: 0.8280 - precision_1: 0.8462 - recall_1: 0.8961 - val_loss: 0.1845 - val_accuracy: 0.8356 - val_precision_1: 0.8530 - val_recall_1: 0.9074\n",
      "\n",
      "Epoch 00016: val_accuracy did not improve from 0.85054\n",
      "Epoch 17/200\n",
      "250/250 [==============================] - 61s 243ms/step - loss: 0.4114 - accuracy: 0.8328 - precision_1: 0.8494 - recall_1: 0.9004 - val_loss: 0.2602 - val_accuracy: 0.8451 - val_precision_1: 0.8569 - val_recall_1: 0.9201\n",
      "\n",
      "Epoch 00017: val_accuracy did not improve from 0.85054\n",
      "Epoch 18/200\n",
      "250/250 [==============================] - 63s 251ms/step - loss: 0.4145 - accuracy: 0.8336 - precision_1: 0.8547 - recall_1: 0.8940 - val_loss: 0.4366 - val_accuracy: 0.8505 - val_precision_1: 0.8580 - val_recall_1: 0.9255\n",
      "\n",
      "Epoch 00018: val_accuracy did not improve from 0.85054\n",
      "Epoch 19/200\n",
      "250/250 [==============================] - 61s 245ms/step - loss: 0.4210 - accuracy: 0.8304 - precision_1: 0.8545 - recall_1: 0.8902 - val_loss: 0.4105 - val_accuracy: 0.8560 - val_precision_1: 0.8782 - val_recall_1: 0.9072\n",
      "\n",
      "Epoch 00019: val_accuracy improved from 0.85054 to 0.85598, saving model to LSTM_RMSProp_With_Regularizer.h5\n",
      "Epoch 20/200\n",
      "250/250 [==============================] - 61s 242ms/step - loss: 0.4056 - accuracy: 0.8369 - precision_1: 0.8569 - recall_1: 0.8942 - val_loss: 0.4060 - val_accuracy: 0.8274 - val_precision_1: 0.8378 - val_recall_1: 0.9099\n",
      "\n",
      "Epoch 00020: val_accuracy did not improve from 0.85598\n",
      "Epoch 21/200\n",
      "250/250 [==============================] - 61s 243ms/step - loss: 0.4244 - accuracy: 0.8284 - precision_1: 0.8465 - recall_1: 0.8948 - val_loss: 0.3321 - val_accuracy: 0.8220 - val_precision_1: 0.8477 - val_recall_1: 0.8912\n",
      "\n",
      "Epoch 00021: val_accuracy did not improve from 0.85598\n",
      "Epoch 22/200\n",
      "250/250 [==============================] - 62s 248ms/step - loss: 0.4120 - accuracy: 0.8334 - precision_1: 0.8537 - recall_1: 0.8946 - val_loss: 0.5450 - val_accuracy: 0.8383 - val_precision_1: 0.8632 - val_recall_1: 0.8938\n",
      "\n",
      "Epoch 00022: val_accuracy did not improve from 0.85598\n",
      "Epoch 23/200\n",
      "250/250 [==============================] - 61s 244ms/step - loss: 0.4013 - accuracy: 0.8440 - precision_1: 0.8651 - recall_1: 0.9033 - val_loss: 0.3625 - val_accuracy: 0.8247 - val_precision_1: 0.8612 - val_recall_1: 0.8737\n",
      "\n",
      "Epoch 00023: val_accuracy did not improve from 0.85598\n",
      "Epoch 24/200\n",
      "250/250 [==============================] - 64s 256ms/step - loss: 0.4123 - accuracy: 0.8325 - precision_1: 0.8521 - recall_1: 0.8977 - val_loss: 0.4805 - val_accuracy: 0.8329 - val_precision_1: 0.8387 - val_recall_1: 0.9063\n",
      "\n",
      "Epoch 00024: val_accuracy did not improve from 0.85598\n",
      "Epoch 25/200\n",
      "250/250 [==============================] - 64s 258ms/step - loss: 0.4024 - accuracy: 0.8393 - precision_1: 0.8584 - recall_1: 0.9051 - val_loss: 0.3134 - val_accuracy: 0.8342 - val_precision_1: 0.8408 - val_recall_1: 0.9239\n",
      "\n",
      "Epoch 00025: val_accuracy did not improve from 0.85598\n",
      "Epoch 26/200\n",
      "250/250 [==============================] - 61s 244ms/step - loss: 0.4200 - accuracy: 0.8226 - precision_1: 0.8467 - recall_1: 0.8829 - val_loss: 0.5700 - val_accuracy: 0.8220 - val_precision_1: 0.8452 - val_recall_1: 0.8894\n",
      "\n",
      "Epoch 00026: val_accuracy did not improve from 0.85598\n",
      "Epoch 27/200\n",
      "250/250 [==============================] - 61s 242ms/step - loss: 0.4105 - accuracy: 0.8316 - precision_1: 0.8520 - recall_1: 0.8956 - val_loss: 0.3189 - val_accuracy: 0.8234 - val_precision_1: 0.8299 - val_recall_1: 0.9165\n",
      "\n",
      "Epoch 00027: val_accuracy did not improve from 0.85598\n",
      "Epoch 28/200\n",
      "250/250 [==============================] - 62s 247ms/step - loss: 0.4150 - accuracy: 0.8347 - precision_1: 0.8513 - recall_1: 0.9031 - val_loss: 0.3366 - val_accuracy: 0.8139 - val_precision_1: 0.8343 - val_recall_1: 0.8917\n",
      "\n",
      "Epoch 00028: val_accuracy did not improve from 0.85598\n",
      "Epoch 29/200\n",
      "250/250 [==============================] - 63s 252ms/step - loss: 0.4081 - accuracy: 0.8380 - precision_1: 0.8608 - recall_1: 0.8967 - val_loss: 0.5338 - val_accuracy: 0.8152 - val_precision_1: 0.8462 - val_recall_1: 0.8871\n",
      "\n",
      "Epoch 00029: val_accuracy did not improve from 0.85598\n",
      "Epoch 30/200\n",
      "250/250 [==============================] - 61s 243ms/step - loss: 0.3982 - accuracy: 0.8357 - precision_1: 0.8604 - recall_1: 0.8927 - val_loss: 0.3732 - val_accuracy: 0.8478 - val_precision_1: 0.8627 - val_recall_1: 0.9158\n",
      "\n",
      "Epoch 00030: val_accuracy did not improve from 0.85598\n",
      "Epoch 31/200\n",
      "250/250 [==============================] - 62s 248ms/step - loss: 0.4113 - accuracy: 0.8334 - precision_1: 0.8569 - recall_1: 0.8936 - val_loss: 0.4116 - val_accuracy: 0.8668 - val_precision_1: 0.8986 - val_recall_1: 0.8986\n",
      "\n",
      "Epoch 00031: val_accuracy improved from 0.85598 to 0.86685, saving model to LSTM_RMSProp_With_Regularizer.h5\n",
      "Epoch 32/200\n",
      "250/250 [==============================] - 61s 242ms/step - loss: 0.4167 - accuracy: 0.8281 - precision_1: 0.8486 - recall_1: 0.8929 - val_loss: 0.5557 - val_accuracy: 0.8274 - val_precision_1: 0.8455 - val_recall_1: 0.8971\n",
      "\n",
      "Epoch 00032: val_accuracy did not improve from 0.86685\n",
      "Epoch 33/200\n",
      "250/250 [==============================] - 61s 246ms/step - loss: 0.4050 - accuracy: 0.8379 - precision_1: 0.8615 - recall_1: 0.8941 - val_loss: 0.3222 - val_accuracy: 0.8614 - val_precision_1: 0.8733 - val_recall_1: 0.9296\n",
      "\n",
      "Epoch 00033: val_accuracy did not improve from 0.86685\n",
      "Epoch 34/200\n",
      "250/250 [==============================] - 60s 240ms/step - loss: 0.3980 - accuracy: 0.8374 - precision_1: 0.8579 - recall_1: 0.8972 - val_loss: 0.6316 - val_accuracy: 0.8193 - val_precision_1: 0.8190 - val_recall_1: 0.9188\n",
      "\n",
      "Epoch 00034: val_accuracy did not improve from 0.86685\n",
      "Epoch 35/200\n",
      "250/250 [==============================] - 62s 247ms/step - loss: 0.4067 - accuracy: 0.8378 - precision_1: 0.8546 - recall_1: 0.9025 - val_loss: 0.4946 - val_accuracy: 0.8424 - val_precision_1: 0.8713 - val_recall_1: 0.8994\n",
      "\n",
      "Epoch 00035: val_accuracy did not improve from 0.86685\n",
      "Epoch 36/200\n",
      "250/250 [==============================] - 63s 252ms/step - loss: 0.3969 - accuracy: 0.8415 - precision_1: 0.8660 - recall_1: 0.8946 - val_loss: 0.5030 - val_accuracy: 0.8342 - val_precision_1: 0.8589 - val_recall_1: 0.8912\n",
      "\n",
      "Epoch 00036: val_accuracy did not improve from 0.86685\n",
      "Epoch 37/200\n",
      "250/250 [==============================] - 60s 240ms/step - loss: 0.4027 - accuracy: 0.8344 - precision_1: 0.8582 - recall_1: 0.8912 - val_loss: 0.5678 - val_accuracy: 0.8329 - val_precision_1: 0.8527 - val_recall_1: 0.9035\n",
      "\n",
      "Epoch 00037: val_accuracy did not improve from 0.86685\n",
      "Epoch 38/200\n",
      "250/250 [==============================] - 60s 242ms/step - loss: 0.4041 - accuracy: 0.8359 - precision_1: 0.8593 - recall_1: 0.8921 - val_loss: 0.4254 - val_accuracy: 0.8505 - val_precision_1: 0.8640 - val_recall_1: 0.9204\n",
      "\n",
      "Epoch 00038: val_accuracy did not improve from 0.86685\n",
      "Epoch 39/200\n",
      "250/250 [==============================] - 61s 246ms/step - loss: 0.4109 - accuracy: 0.8324 - precision_1: 0.8574 - recall_1: 0.8905 - val_loss: 0.3915 - val_accuracy: 0.8179 - val_precision_1: 0.8285 - val_recall_1: 0.9053\n",
      "\n",
      "Epoch 00039: val_accuracy did not improve from 0.86685\n",
      "Epoch 40/200\n",
      "250/250 [==============================] - 63s 251ms/step - loss: 0.4025 - accuracy: 0.8363 - precision_1: 0.8551 - recall_1: 0.8935 - val_loss: 0.2564 - val_accuracy: 0.8628 - val_precision_1: 0.8732 - val_recall_1: 0.9195\n",
      "\n",
      "Epoch 00040: val_accuracy did not improve from 0.86685\n",
      "Epoch 41/200\n",
      "250/250 [==============================] - 62s 247ms/step - loss: 0.4041 - accuracy: 0.8363 - precision_1: 0.8566 - recall_1: 0.8955 - val_loss: 0.3080 - val_accuracy: 0.8478 - val_precision_1: 0.8647 - val_recall_1: 0.9112\n",
      "\n",
      "Epoch 00041: val_accuracy did not improve from 0.86685\n",
      "Epoch 42/200\n",
      "250/250 [==============================] - 61s 244ms/step - loss: 0.4039 - accuracy: 0.8324 - precision_1: 0.8594 - recall_1: 0.8837 - val_loss: 0.5081 - val_accuracy: 0.8274 - val_precision_1: 0.8546 - val_recall_1: 0.8914\n",
      "\n",
      "Epoch 00042: val_accuracy did not improve from 0.86685\n",
      "Epoch 43/200\n",
      "250/250 [==============================] - 67s 267ms/step - loss: 0.3966 - accuracy: 0.8399 - precision_1: 0.8606 - recall_1: 0.8965 - val_loss: 0.4109 - val_accuracy: 0.8125 - val_precision_1: 0.8147 - val_recall_1: 0.9095\n",
      "\n",
      "Epoch 00043: val_accuracy did not improve from 0.86685\n",
      "Epoch 44/200\n",
      "250/250 [==============================] - 62s 250ms/step - loss: 0.3991 - accuracy: 0.8367 - precision_1: 0.8631 - recall_1: 0.8876 - val_loss: 0.3613 - val_accuracy: 0.8573 - val_precision_1: 0.8738 - val_recall_1: 0.9153\n",
      "\n",
      "Epoch 00044: val_accuracy did not improve from 0.86685\n",
      "Epoch 45/200\n",
      "250/250 [==============================] - 65s 261ms/step - loss: 0.4009 - accuracy: 0.8405 - precision_1: 0.8615 - recall_1: 0.8963 - val_loss: 0.3115 - val_accuracy: 0.8410 - val_precision_1: 0.8555 - val_recall_1: 0.9136\n",
      "\n",
      "Epoch 00045: val_accuracy did not improve from 0.86685\n",
      "Epoch 46/200\n",
      "250/250 [==============================] - 60s 240ms/step - loss: 0.4182 - accuracy: 0.8305 - precision_1: 0.8527 - recall_1: 0.8916 - val_loss: 0.2511 - val_accuracy: 0.8601 - val_precision_1: 0.8703 - val_recall_1: 0.9103\n",
      "\n",
      "Epoch 00046: val_accuracy did not improve from 0.86685\n",
      "Epoch 00046: early stopping\n"
     ]
    }
   ],
   "source": [
    "history = model.fit(tr_dg, epochs=200,verbose=1, validation_data=ts_dg, steps_per_epoch=250, validation_steps=23,callbacks=[checkpoint,early])\n"
   ]
  },
  {
   "cell_type": "markdown",
   "metadata": {},
   "source": [
    "<h4> Plots</h4>"
   ]
  },
  {
   "cell_type": "code",
   "execution_count": 26,
   "metadata": {},
   "outputs": [
    {
     "name": "stdout",
     "output_type": "stream",
     "text": [
      "dict_keys(['val_loss', 'val_accuracy', 'val_precision_1', 'val_recall_1', 'loss', 'accuracy', 'precision_1', 'recall_1'])\n"
     ]
    },
    {
     "data": {
      "image/png": "[encoded data removed]",
      "text/plain": [
       "<Figure size 432x288 with 1 Axes>"
      ]
     },
     "metadata": {
      "needs_background": "light"
     },
     "output_type": "display_data"
    }
   ],
   "source": [
    "# Plot of Training vs Validation Loss\n",
    "history_dict = history.history\n",
    "print(history_dict.keys())\n",
    "loss_values = history_dict['loss']\n",
    "val_loss_values = history_dict['val_loss']\n",
    "epochs = range(1, len(history_dict['accuracy']) + 1)\n",
    "plt.plot(epochs, loss_values, 'r', label='Training loss')\n",
    "plt.plot(epochs, val_loss_values, 'g', label='Validation loss')\n",
    "plt.title('Training and validation loss')\n",
    "plt.xlabel('Epochs')\n",
    "plt.ylabel('Loss')\n",
    "plt.legend()\n",
    "plt.show()"
   ]
  },
  {
   "cell_type": "code",
   "execution_count": 27,
   "metadata": {},
   "outputs": [
    {
     "name": "stdout",
     "output_type": "stream",
     "text": [
      "dict_keys(['val_loss', 'val_accuracy', 'val_precision_1', 'val_recall_1', 'loss', 'accuracy', 'precision_1', 'recall_1'])\n"
     ]
    },
    {
     "data": {
      "image/png": "[encoded data removed]",
      "text/plain": [
       "<Figure size 432x288 with 1 Axes>"
      ]
     },
     "metadata": {
      "needs_background": "light"
     },
     "output_type": "display_data"
    }
   ],
   "source": [
    "# Plot of Training vs Validation Accuracy\n",
    "hist_dict = history.history\n",
    "print(history_dict.keys())\n",
    "accuracy_values = history_dict['accuracy']\n",
    "val_accuracy_values = history_dict['val_accuracy']\n",
    "epochs = range(1, len(history_dict['accuracy']) + 1)\n",
    "plt.plot(epochs, accuracy_values, 'r', label='Training Accuracy')\n",
    "plt.plot(epochs, val_accuracy_values, 'g', label='Validation accuracy')\n",
    "plt.title('Training and validation Accuracy')\n",
    "plt.xlabel('Epochs')\n",
    "plt.ylabel('Accuracy')\n",
    "plt.legend()\n",
    "plt.show()"
   ]
  },
  {
   "cell_type": "code",
   "execution_count": 46,
   "metadata": {},
   "outputs": [
    {
     "name": "stdout",
     "output_type": "stream",
     "text": [
      "100/100 [==============================] - 9s 93ms/step\n"
     ]
    }
   ],
   "source": [
    "evaluate = model.evaluate_generator(ts_dg, steps=100, verbose=1,callbacks=None)"
   ]
  },
  {
   "cell_type": "code",
   "execution_count": 47,
   "metadata": {},
   "outputs": [
    {
     "name": "stdout",
     "output_type": "stream",
     "text": [
      "Accuracy: 0.834\n"
     ]
    }
   ],
   "source": [
    "print('Accuracy: {:0.3f}'.format(evaluate [1]))"
   ]
  },
  {
   "cell_type": "code",
   "execution_count": 48,
   "metadata": {},
   "outputs": [
    {
     "name": "stdout",
     "output_type": "stream",
     "text": [
      "Precision: 0.858\n"
     ]
    }
   ],
   "source": [
    "print('Precision: {:0.3f}'.format(evaluate [2]))"
   ]
  },
  {
   "cell_type": "code",
   "execution_count": 49,
   "metadata": {},
   "outputs": [
    {
     "name": "stdout",
     "output_type": "stream",
     "text": [
      "Recall: 0.892\n"
     ]
    }
   ],
   "source": [
    "print('Recall: {:0.3f}'.format(evaluate [3]))"
   ]
  }
 ],
 "metadata": {
  "kernelspec": {
   "display_name": "Python 3",
   "language": "python",
   "name": "python3"
  },
  "language_info": {
   "codemirror_mode": {
    "name": "ipython",
    "version": 3
   },
   "file_extension": ".py",
   "mimetype": "text/x-python",
   "name": "python",
   "nbconvert_exporter": "python",
   "pygments_lexer": "ipython3",
   "version": "3.7.3"
  }
 },
 "nbformat": 4,
 "nbformat_minor": 2
}

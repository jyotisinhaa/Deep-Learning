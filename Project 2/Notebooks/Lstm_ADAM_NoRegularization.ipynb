{
 "cells": [
  {
   "cell_type": "markdown",
   "metadata": {},
   "source": [
    "<h3>Importing Libraries</h3>"
   ]
  },
  {
   "cell_type": "code",
   "execution_count": 1,
   "metadata": {},
   "outputs": [
    {
     "name": "stderr",
     "output_type": "stream",
     "text": [
      "Using TensorFlow backend.\n"
     ]
    }
   ],
   "source": [
    "# Importing Libraries\n",
    "from keras.backend.tensorflow_backend import set_session\n",
    "from keras.models import Sequential\n",
    "from keras.layers import Dense\n",
    "from keras.layers import TimeDistributed\n",
    "from keras.layers import LSTM, Dropout\n",
    "from keras import optimizers\n",
    "import pandas as pd\n",
    "import numpy as np\n",
    "from datetime import datetime, date, timedelta\n",
    "from keras.callbacks import ModelCheckpoint, EarlyStopping\n",
    "from sklearn.metrics import confusion_matrix, roc_curve, auc,accuracy_score\n",
    "import matplotlib.pyplot as plt\n",
    "from itertools import cycle\n",
    "from keras.models import load_model\n",
    "import itertools\n",
    "import pickle"
   ]
  },
  {
   "cell_type": "markdown",
   "metadata": {},
   "source": [
    "<h4>Importing Dataset</h4>"
   ]
  },
  {
   "cell_type": "code",
   "execution_count": 2,
   "metadata": {},
   "outputs": [],
   "source": [
    "train_log= pd.read_csv('/Users/jyoti/OneDrive/DLFinal/Project2/norm.csv')"
   ]
  },
  {
   "cell_type": "code",
   "execution_count": 3,
   "metadata": {},
   "outputs": [
    {
     "data": {
      "text/plain": [
       "Index(['enrollment_id', 'date', 'access', 'discussion', 'navigate',\n",
       "       'page_close', 'problem', 'video', 'wiki', 'session', 'tot_time',\n",
       "       'result'],\n",
       "      dtype='object')"
      ]
     },
     "execution_count": 3,
     "metadata": {},
     "output_type": "execute_result"
    }
   ],
   "source": [
    "train_log.columns"
   ]
  },
  {
   "cell_type": "code",
   "execution_count": 4,
   "metadata": {},
   "outputs": [],
   "source": [
    "df1 = train_log[\"access\"]"
   ]
  },
  {
   "cell_type": "code",
   "execution_count": 5,
   "metadata": {},
   "outputs": [
    {
     "data": {
      "text/plain": [
       "[<matplotlib.lines.Line2D at 0x144d62978>]"
      ]
     },
     "execution_count": 5,
     "metadata": {},
     "output_type": "execute_result"
    },
    {
     "data": {
      "image/png": "[encoded data removed]",
      "text/plain": [
       "<Figure size 432x288 with 1 Axes>"
      ]
     },
     "metadata": {
      "needs_background": "light"
     },
     "output_type": "display_data"
    }
   ],
   "source": [
    "import matplotlib.pyplot as plt\n",
    "plt.plot(df1)"
   ]
  },
  {
   "cell_type": "code",
   "execution_count": 6,
   "metadata": {},
   "outputs": [
    {
     "data": {
      "text/plain": [
       "[<matplotlib.lines.Line2D at 0x145035518>]"
      ]
     },
     "execution_count": 6,
     "metadata": {},
     "output_type": "execute_result"
    },
    {
     "data": {
      "image/png": "[encoded data removed]",
      "text/plain": [
       "<Figure size 432x288 with 1 Axes>"
      ]
     },
     "metadata": {
      "needs_background": "light"
     },
     "output_type": "display_data"
    }
   ],
   "source": [
    "df2 = train_log[\"session\"]\n",
    "import matplotlib.pyplot as plt\n",
    "plt.plot(df2)"
   ]
  },
  {
   "cell_type": "code",
   "execution_count": 7,
   "metadata": {},
   "outputs": [],
   "source": [
    "train_num = 8000\n",
    "test_num = 728"
   ]
  },
  {
   "cell_type": "code",
   "execution_count": 8,
   "metadata": {},
   "outputs": [
    {
     "name": "stdout",
     "output_type": "stream",
     "text": [
      "(8728,)\n"
     ]
    }
   ],
   "source": [
    "en_ids = train_log['enrollment_id'].unique()\n",
    "print(en_ids.shape)"
   ]
  },
  {
   "cell_type": "code",
   "execution_count": 9,
   "metadata": {},
   "outputs": [
    {
     "data": {
      "text/plain": [
       "array([ 15088,  31095,  31753, ...,  61082, 136863,  27396])"
      ]
     },
     "execution_count": 9,
     "metadata": {},
     "output_type": "execute_result"
    }
   ],
   "source": [
    "np.random.shuffle(en_ids)\n",
    "en_ids"
   ]
  },
  {
   "cell_type": "code",
   "execution_count": 10,
   "metadata": {},
   "outputs": [],
   "source": [
    "tr_en_ids = en_ids[:train_num]\n",
    "ts_en_ids = en_ids[train_num:]"
   ]
  },
  {
   "cell_type": "code",
   "execution_count": 11,
   "metadata": {},
   "outputs": [
    {
     "data": {
      "text/plain": [
       "0.6607142857142857"
      ]
     },
     "execution_count": 11,
     "metadata": {},
     "output_type": "execute_result"
    }
   ],
   "source": [
    "(train_log[train_log['enrollment_id'].isin(ts_en_ids)]['result'].values.sum()/4)/728"
   ]
  },
  {
   "cell_type": "code",
   "execution_count": 12,
   "metadata": {},
   "outputs": [
    {
     "data": {
      "text/plain": [
       "0.64575"
      ]
     },
     "execution_count": 12,
     "metadata": {},
     "output_type": "execute_result"
    }
   ],
   "source": [
    "(train_log[train_log['enrollment_id'].isin(tr_en_ids)]['result'].values.sum()/4)/8000"
   ]
  },
  {
   "cell_type": "code",
   "execution_count": 13,
   "metadata": {},
   "outputs": [
    {
     "data": {
      "text/plain": [
       "(8000,)"
      ]
     },
     "execution_count": 13,
     "metadata": {},
     "output_type": "execute_result"
    }
   ],
   "source": [
    "tr_en_ids.shape"
   ]
  },
  {
   "cell_type": "code",
   "execution_count": 14,
   "metadata": {},
   "outputs": [
    {
     "data": {
      "text/plain": [
       "(728,)"
      ]
     },
     "execution_count": 14,
     "metadata": {},
     "output_type": "execute_result"
    }
   ],
   "source": [
    "ts_en_ids.shape"
   ]
  },
  {
   "cell_type": "markdown",
   "metadata": {},
   "source": [
    "<h4>Datagen Creation</h4>"
   ]
  },
  {
   "cell_type": "code",
   "execution_count": 15,
   "metadata": {},
   "outputs": [],
   "source": [
    "import random\n",
    "def datagen(batchsize = 32, mode = 'train'):\n",
    "    counter = 0\n",
    "    x, y = [],[]\n",
    "    while True:\n",
    "        if mode == 'train':\n",
    "            idx = random.choice(tr_en_ids)\n",
    "        else:\n",
    "            idx =random.choice(ts_en_ids)\n",
    "        temp = train_log[train_log['enrollment_id']==idx]\n",
    "        row = []\n",
    "        for i in range(temp.shape[0]):\n",
    "            row.append(temp.iloc[i].values[2:-1])\n",
    "        x.append(row)\n",
    "        y.append(temp.iloc[0].values[-1])\n",
    "        \n",
    "        counter+=1\n",
    "        if counter==batchsize:\n",
    "            yield np.array(x),np.array(y)\n",
    "            counter = 0\n",
    "            x, y = [], [] "
   ]
  },
  {
   "cell_type": "code",
   "execution_count": 16,
   "metadata": {},
   "outputs": [],
   "source": [
    "tr_dg  = datagen(mode='train')\n",
    "ts_dg = datagen(mode = 'test', batchsize=32)"
   ]
  },
  {
   "cell_type": "markdown",
   "metadata": {},
   "source": [
    "<h4>Model Architecture</h4>"
   ]
  },
  {
   "cell_type": "code",
   "execution_count": 17,
   "metadata": {},
   "outputs": [
    {
     "name": "stdout",
     "output_type": "stream",
     "text": [
      "WARNING:tensorflow:From /Users/jyoti/anaconda3/lib/python3.7/site-packages/keras/backend/tensorflow_backend.py:3172: add_dispatch_support.<locals>.wrapper (from tensorflow.python.ops.array_ops) is deprecated and will be removed in a future version.\n",
      "Instructions for updating:\n",
      "Use tf.where in 2.0, which has the same broadcast rule as np.where\n",
      "Model: \"sequential_1\"\n",
      "_________________________________________________________________\n",
      "Layer (type)                 Output Shape              Param #   \n",
      "=================================================================\n",
      "lstm_1 (LSTM)                (32, 4, 512)              1069056   \n",
      "_________________________________________________________________\n",
      "dropout_1 (Dropout)          (32, 4, 512)              0         \n",
      "_________________________________________________________________\n",
      "lstm_2 (LSTM)                (32, 512)                 2099200   \n",
      "_________________________________________________________________\n",
      "dropout_2 (Dropout)          (32, 512)                 0         \n",
      "_________________________________________________________________\n",
      "dropout_3 (Dropout)          (32, 512)                 0         \n",
      "_________________________________________________________________\n",
      "dropout_4 (Dropout)          (32, 512)                 0         \n",
      "_________________________________________________________________\n",
      "dense_1 (Dense)              (32, 1)                   513       \n",
      "=================================================================\n",
      "Total params: 3,168,769\n",
      "Trainable params: 3,168,769\n",
      "Non-trainable params: 0\n",
      "_________________________________________________________________\n"
     ]
    }
   ],
   "source": [
    "# The LSTM architecture\n",
    "from keras.optimizers import SGD\n",
    "from keras.metrics import Precision, Recall\n",
    "\n",
    "model = Sequential()\n",
    "# First LSTM layer with Dropout regularisation\n",
    "\n",
    "model.add(LSTM((512), batch_input_shape=(32, 4,9), return_sequences=True))\n",
    "model.add(Dropout(0.2))\n",
    "\n",
    "model.add(LSTM((512), batch_input_shape=(32, 4,9), return_sequences=False))\n",
    "model.add(Dropout(0.2))\n",
    "#-----------------\n",
    "model.add(Dropout(0.2))\n",
    "#--------------------\n",
    "\n",
    "model.add(Dropout(0.2))\n",
    "# The output layer\n",
    "model.add(Dense(1, activation='sigmoid'))\n",
    "\n",
    "# Compiling the RNN\n",
    "\n",
    "model.compile(optimizer='adam',\n",
    "              loss='binary_crossentropy',\n",
    "              metrics=['accuracy',Precision(), Recall()])\n",
    "model.summary()"
   ]
  },
  {
   "cell_type": "markdown",
   "metadata": {},
   "source": [
    "<h4> Early Stopping and Check Points</h4>"
   ]
  },
  {
   "cell_type": "code",
   "execution_count": 18,
   "metadata": {},
   "outputs": [],
   "source": [
    "# Create Checkpoint and Early Stopping\n",
    "checkpoint = ModelCheckpoint(\"LSTM_Adam_NoRegularisation.h5\", monitor='val_accuracy', verbose=5, save_best_only=True, save_weights_only=True, mode='auto', period=1)\n",
    "early = EarlyStopping(monitor='val_accuracy', min_delta=0, patience=15, verbose=1, mode='auto')"
   ]
  },
  {
   "cell_type": "code",
   "execution_count": 19,
   "metadata": {
    "scrolled": true
   },
   "outputs": [
    {
     "name": "stdout",
     "output_type": "stream",
     "text": [
      "WARNING:tensorflow:From /Users/jyoti/anaconda3/lib/python3.7/site-packages/keras/backend/tensorflow_backend.py:422: The name tf.global_variables is deprecated. Please use tf.compat.v1.global_variables instead.\n",
      "\n",
      "Epoch 1/200\n",
      "250/250 [==============================] - 86s 345ms/step - loss: 0.4505 - accuracy: 0.8031 - precision_1: 0.8420 - recall_1: 0.8520 - val_loss: 0.5444 - val_accuracy: 0.7880 - val_precision_1: 0.8575 - val_recall_1: 0.8112\n",
      "\n",
      "Epoch 00001: val_accuracy improved from -inf to 0.78804, saving model to LSTM_Adam_NoRegularisation.h5\n",
      "Epoch 2/200\n",
      "250/250 [==============================] - 72s 289ms/step - loss: 0.4107 - accuracy: 0.8286 - precision_1: 0.8528 - recall_1: 0.8885 - val_loss: 0.6919 - val_accuracy: 0.8016 - val_precision_1: 0.8259 - val_recall_1: 0.8841\n",
      "\n",
      "Epoch 00002: val_accuracy improved from 0.78804 to 0.80163, saving model to LSTM_Adam_NoRegularisation.h5\n",
      "Epoch 3/200\n",
      "250/250 [==============================] - 71s 284ms/step - loss: 0.3976 - accuracy: 0.8336 - precision_1: 0.8563 - recall_1: 0.8952 - val_loss: 0.4184 - val_accuracy: 0.7962 - val_precision_1: 0.8244 - val_recall_1: 0.8984\n",
      "\n",
      "Epoch 00003: val_accuracy did not improve from 0.80163\n",
      "Epoch 4/200\n",
      "250/250 [==============================] - 67s 267ms/step - loss: 0.4043 - accuracy: 0.8245 - precision_1: 0.8515 - recall_1: 0.8831 - val_loss: 0.3624 - val_accuracy: 0.7908 - val_precision_1: 0.7997 - val_recall_1: 0.9242\n",
      "\n",
      "Epoch 00004: val_accuracy did not improve from 0.80163\n",
      "Epoch 5/200\n",
      "250/250 [==============================] - 68s 270ms/step - loss: 0.3898 - accuracy: 0.8369 - precision_1: 0.8575 - recall_1: 0.9005 - val_loss: 0.4522 - val_accuracy: 0.8030 - val_precision_1: 0.8246 - val_recall_1: 0.8849\n",
      "\n",
      "Epoch 00005: val_accuracy improved from 0.80163 to 0.80299, saving model to LSTM_Adam_NoRegularisation.h5\n",
      "Epoch 6/200\n",
      "250/250 [==============================] - 72s 290ms/step - loss: 0.3959 - accuracy: 0.8291 - precision_1: 0.8555 - recall_1: 0.8887 - val_loss: 0.4777 - val_accuracy: 0.8302 - val_precision_1: 0.8664 - val_recall_1: 0.8981\n",
      "\n",
      "Epoch 00006: val_accuracy improved from 0.80299 to 0.83016, saving model to LSTM_Adam_NoRegularisation.h5\n",
      "Epoch 7/200\n",
      "250/250 [==============================] - 76s 306ms/step - loss: 0.3732 - accuracy: 0.8461 - precision_1: 0.8673 - recall_1: 0.8997 - val_loss: 0.4329 - val_accuracy: 0.8125 - val_precision_1: 0.8646 - val_recall_1: 0.8504\n",
      "\n",
      "Epoch 00007: val_accuracy did not improve from 0.83016\n",
      "Epoch 8/200\n",
      "250/250 [==============================] - 70s 280ms/step - loss: 0.3851 - accuracy: 0.8345 - precision_1: 0.8592 - recall_1: 0.8912 - val_loss: 0.4256 - val_accuracy: 0.8084 - val_precision_1: 0.8443 - val_recall_1: 0.8704\n",
      "\n",
      "Epoch 00008: val_accuracy did not improve from 0.83016\n",
      "Epoch 9/200\n",
      "250/250 [==============================] - 70s 278ms/step - loss: 0.3907 - accuracy: 0.8336 - precision_1: 0.8578 - recall_1: 0.8853 - val_loss: 0.4680 - val_accuracy: 0.8139 - val_precision_1: 0.8251 - val_recall_1: 0.9170\n",
      "\n",
      "Epoch 00009: val_accuracy did not improve from 0.83016\n",
      "Epoch 10/200\n",
      "250/250 [==============================] - 68s 272ms/step - loss: 0.4006 - accuracy: 0.8238 - precision_1: 0.8447 - recall_1: 0.8838 - val_loss: 0.6398 - val_accuracy: 0.8003 - val_precision_1: 0.8320 - val_recall_1: 0.8653\n",
      "\n",
      "Epoch 00010: val_accuracy did not improve from 0.83016\n",
      "Epoch 11/200\n",
      "250/250 [==============================] - 69s 278ms/step - loss: 0.3922 - accuracy: 0.8338 - precision_1: 0.8528 - recall_1: 0.8965 - val_loss: 0.2929 - val_accuracy: 0.8152 - val_precision_1: 0.8660 - val_recall_1: 0.8625\n",
      "\n",
      "Epoch 00011: val_accuracy did not improve from 0.83016\n",
      "Epoch 12/200\n",
      "250/250 [==============================] - 72s 288ms/step - loss: 0.3873 - accuracy: 0.8411 - precision_1: 0.8656 - recall_1: 0.8944 - val_loss: 0.2949 - val_accuracy: 0.8207 - val_precision_1: 0.8421 - val_recall_1: 0.9032\n",
      "\n",
      "Epoch 00012: val_accuracy did not improve from 0.83016\n",
      "Epoch 13/200\n",
      "250/250 [==============================] - 69s 275ms/step - loss: 0.3702 - accuracy: 0.8471 - precision_1: 0.8689 - recall_1: 0.9023 - val_loss: 0.4589 - val_accuracy: 0.8098 - val_precision_1: 0.8343 - val_recall_1: 0.8921\n",
      "\n",
      "Epoch 00013: val_accuracy did not improve from 0.83016\n",
      "Epoch 14/200\n",
      "250/250 [==============================] - 69s 275ms/step - loss: 0.3720 - accuracy: 0.8419 - precision_1: 0.8645 - recall_1: 0.8972 - val_loss: 0.5750 - val_accuracy: 0.8030 - val_precision_1: 0.8691 - val_recall_1: 0.8399\n",
      "\n",
      "Epoch 00014: val_accuracy did not improve from 0.83016\n",
      "Epoch 15/200\n",
      "250/250 [==============================] - 67s 268ms/step - loss: 0.3886 - accuracy: 0.8290 - precision_1: 0.8495 - recall_1: 0.8915 - val_loss: 0.3924 - val_accuracy: 0.8179 - val_precision_1: 0.8420 - val_recall_1: 0.9024\n",
      "\n",
      "Epoch 00015: val_accuracy did not improve from 0.83016\n",
      "Epoch 16/200\n",
      "250/250 [==============================] - 69s 275ms/step - loss: 0.3749 - accuracy: 0.8375 - precision_1: 0.8627 - recall_1: 0.8864 - val_loss: 0.5029 - val_accuracy: 0.8125 - val_precision_1: 0.8417 - val_recall_1: 0.8862\n",
      "\n",
      "Epoch 00016: val_accuracy did not improve from 0.83016\n",
      "Epoch 17/200\n",
      "250/250 [==============================] - 68s 270ms/step - loss: 0.3789 - accuracy: 0.8363 - precision_1: 0.8598 - recall_1: 0.8920 - val_loss: 0.3446 - val_accuracy: 0.8016 - val_precision_1: 0.8172 - val_recall_1: 0.9012\n",
      "\n",
      "Epoch 00017: val_accuracy did not improve from 0.83016\n",
      "Epoch 18/200\n",
      "250/250 [==============================] - 72s 287ms/step - loss: 0.3822 - accuracy: 0.8367 - precision_1: 0.8581 - recall_1: 0.8971 - val_loss: 0.3046 - val_accuracy: 0.8016 - val_precision_1: 0.8242 - val_recall_1: 0.8916\n",
      "\n",
      "Epoch 00018: val_accuracy did not improve from 0.83016\n",
      "Epoch 19/200\n",
      "250/250 [==============================] - 87s 349ms/step - loss: 0.3752 - accuracy: 0.8369 - precision_1: 0.8618 - recall_1: 0.8887 - val_loss: 0.3101 - val_accuracy: 0.8247 - val_precision_1: 0.8673 - val_recall_1: 0.8691\n",
      "\n",
      "Epoch 00019: val_accuracy did not improve from 0.83016\n",
      "Epoch 20/200\n",
      "250/250 [==============================] - 71s 284ms/step - loss: 0.3740 - accuracy: 0.8407 - precision_1: 0.8649 - recall_1: 0.8890 - val_loss: 0.6220 - val_accuracy: 0.8043 - val_precision_1: 0.8301 - val_recall_1: 0.8848\n",
      "\n",
      "Epoch 00020: val_accuracy did not improve from 0.83016\n",
      "Epoch 21/200\n",
      "250/250 [==============================] - 72s 286ms/step - loss: 0.3761 - accuracy: 0.8413 - precision_1: 0.8592 - recall_1: 0.9012 - val_loss: 0.6166 - val_accuracy: 0.8030 - val_precision_1: 0.8219 - val_recall_1: 0.9004\n",
      "\n",
      "Epoch 00021: val_accuracy did not improve from 0.83016\n",
      "Epoch 00021: early stopping\n"
     ]
    }
   ],
   "source": [
    "history = model.fit(tr_dg, epochs=200,verbose=1, validation_data=ts_dg, steps_per_epoch=250, validation_steps=23,callbacks=[checkpoint,early])\n"
   ]
  },
  {
   "cell_type": "markdown",
   "metadata": {},
   "source": [
    "<h4> Plots</h4>"
   ]
  },
  {
   "cell_type": "code",
   "execution_count": 27,
   "metadata": {},
   "outputs": [
    {
     "name": "stdout",
     "output_type": "stream",
     "text": [
      "dict_keys(['val_loss', 'val_accuracy', 'val_precision_1', 'val_recall_1', 'loss', 'accuracy', 'precision_1', 'recall_1'])\n"
     ]
    },
    {
     "data": {
      "image/png": "[encoded data removed]",
      "text/plain": [
       "<Figure size 432x288 with 1 Axes>"
      ]
     },
     "metadata": {
      "needs_background": "light"
     },
     "output_type": "display_data"
    }
   ],
   "source": [
    "# Plot of Training vs Validation Loss\n",
    "history_dict = history.history\n",
    "print(history_dict.keys())\n",
    "loss_values = history_dict['loss']\n",
    "val_loss_values = history_dict['val_loss']\n",
    "epochs = range(1, len(history_dict['accuracy']) + 1)\n",
    "plt.plot(epochs, loss_values, 'r', label='Training loss')\n",
    "plt.plot(epochs, val_loss_values, 'g', label='Validation loss')\n",
    "plt.title('Training and validation loss')\n",
    "plt.xlabel('Epochs')\n",
    "plt.ylabel('Loss')\n",
    "plt.legend()\n",
    "plt.show()"
   ]
  },
  {
   "cell_type": "code",
   "execution_count": 28,
   "metadata": {},
   "outputs": [
    {
     "name": "stdout",
     "output_type": "stream",
     "text": [
      "dict_keys(['val_loss', 'val_accuracy', 'val_precision_1', 'val_recall_1', 'loss', 'accuracy', 'precision_1', 'recall_1'])\n"
     ]
    },
    {
     "data": {
      "image/png": "[encoded data removed]",
      "text/plain": [
       "<Figure size 432x288 with 1 Axes>"
      ]
     },
     "metadata": {
      "needs_background": "light"
     },
     "output_type": "display_data"
    }
   ],
   "source": [
    "# Plot of Training vs Validation Accuracy\n",
    "hist_dict = history.history\n",
    "print(history_dict.keys())\n",
    "accuracy_values = history_dict['accuracy']\n",
    "val_accuracy_values = history_dict['val_accuracy']\n",
    "epochs = range(1, len(history_dict['accuracy']) + 1)\n",
    "plt.plot(epochs, accuracy_values, 'r', label='Training Accuracy')\n",
    "plt.plot(epochs, val_accuracy_values, 'g', label='Validation accuracy')\n",
    "plt.title('Training and validation Accuracy')\n",
    "plt.xlabel('Epochs')\n",
    "plt.ylabel('Accuracy')\n",
    "plt.legend()\n",
    "plt.show()"
   ]
  },
  {
   "cell_type": "code",
   "execution_count": 29,
   "metadata": {},
   "outputs": [
    {
     "name": "stdout",
     "output_type": "stream",
     "text": [
      "32/32 [==============================] - 4s 120ms/step\n"
     ]
    }
   ],
   "source": [
    "evaluate = model.evaluate_generator(ts_dg, steps=32, verbose=1,callbacks=None)"
   ]
  },
  {
   "cell_type": "code",
   "execution_count": 30,
   "metadata": {},
   "outputs": [
    {
     "name": "stdout",
     "output_type": "stream",
     "text": [
      "Accuracy: 0.802\n"
     ]
    }
   ],
   "source": [
    "print('Accuracy: {:0.3f}'.format(evaluate [1]))"
   ]
  },
  {
   "cell_type": "code",
   "execution_count": 31,
   "metadata": {},
   "outputs": [
    {
     "name": "stdout",
     "output_type": "stream",
     "text": [
      "Precision: 0.836\n"
     ]
    }
   ],
   "source": [
    "print('Precision: {:0.3f}'.format(evaluate [2]))"
   ]
  },
  {
   "cell_type": "code",
   "execution_count": 26,
   "metadata": {},
   "outputs": [
    {
     "name": "stdout",
     "output_type": "stream",
     "text": [
      "Recall: 0.888\n"
     ]
    }
   ],
   "source": [
    "print('Recall: {:0.3f}'.format(evaluate [3]))"
   ]
  }
 ],
 "metadata": {
  "kernelspec": {
   "display_name": "Python 3",
   "language": "python",
   "name": "python3"
  },
  "language_info": {
   "codemirror_mode": {
    "name": "ipython",
    "version": 3
   },
   "file_extension": ".py",
   "mimetype": "text/x-python",
   "name": "python",
   "nbconvert_exporter": "python",
   "pygments_lexer": "ipython3",
   "version": "3.7.3"
  }
 },
 "nbformat": 4,
 "nbformat_minor": 2
}

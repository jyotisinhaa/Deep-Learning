{
 "cells": [
  {
   "cell_type": "markdown",
   "metadata": {},
   "source": [
    "<h3>Importing Libraries</h3>"
   ]
  },
  {
   "cell_type": "code",
   "execution_count": 1,
   "metadata": {},
   "outputs": [
    {
     "name": "stderr",
     "output_type": "stream",
     "text": [
      "Using TensorFlow backend.\n"
     ]
    }
   ],
   "source": [
    "# Importing Libraries\n",
    "from keras.backend.tensorflow_backend import set_session\n",
    "from keras.models import Sequential\n",
    "from keras.layers import Dense\n",
    "from keras.layers import TimeDistributed\n",
    "from keras.layers import LSTM, Dropout\n",
    "from keras import optimizers\n",
    "import pandas as pd\n",
    "import numpy as np\n",
    "from datetime import datetime, date, timedelta\n",
    "from keras.callbacks import ModelCheckpoint, EarlyStopping\n",
    "from sklearn.metrics import confusion_matrix, roc_curve, auc,accuracy_score\n",
    "import matplotlib.pyplot as plt\n",
    "from itertools import cycle\n",
    "from keras.models import load_model\n",
    "import itertools\n",
    "import pickle"
   ]
  },
  {
   "cell_type": "markdown",
   "metadata": {},
   "source": [
    "<h4>Importing Dataset</h4>"
   ]
  },
  {
   "cell_type": "code",
   "execution_count": 2,
   "metadata": {},
   "outputs": [],
   "source": [
    "train_log= pd.read_csv('/Users/jyoti/OneDrive/DLFinal/Project2/norm.csv')"
   ]
  },
  {
   "cell_type": "code",
   "execution_count": 3,
   "metadata": {},
   "outputs": [
    {
     "data": {
      "text/plain": [
       "Index(['enrollment_id', 'date', 'access', 'discussion', 'navigate',\n",
       "       'page_close', 'problem', 'video', 'wiki', 'session', 'tot_time',\n",
       "       'result'],\n",
       "      dtype='object')"
      ]
     },
     "execution_count": 3,
     "metadata": {},
     "output_type": "execute_result"
    }
   ],
   "source": [
    "train_log.columns"
   ]
  },
  {
   "cell_type": "code",
   "execution_count": 4,
   "metadata": {},
   "outputs": [],
   "source": [
    "df1 = train_log[\"access\"]"
   ]
  },
  {
   "cell_type": "code",
   "execution_count": 5,
   "metadata": {},
   "outputs": [
    {
     "data": {
      "text/plain": [
       "[<matplotlib.lines.Line2D at 0x145e089b0>]"
      ]
     },
     "execution_count": 5,
     "metadata": {},
     "output_type": "execute_result"
    },
    {
     "data": {
      "image/png": "[encoded data removed]",
      "text/plain": [
       "<Figure size 432x288 with 1 Axes>"
      ]
     },
     "metadata": {
      "needs_background": "light"
     },
     "output_type": "display_data"
    }
   ],
   "source": [
    "import matplotlib.pyplot as plt\n",
    "plt.plot(df1)"
   ]
  },
  {
   "cell_type": "code",
   "execution_count": 6,
   "metadata": {},
   "outputs": [
    {
     "data": {
      "text/plain": [
       "[<matplotlib.lines.Line2D at 0x1460da550>]"
      ]
     },
     "execution_count": 6,
     "metadata": {},
     "output_type": "execute_result"
    },
    {
     "data": {
      "image/png": "[encoded data removed]",
      "text/plain": [
       "<Figure size 432x288 with 1 Axes>"
      ]
     },
     "metadata": {
      "needs_background": "light"
     },
     "output_type": "display_data"
    }
   ],
   "source": [
    "df2 = train_log[\"session\"]\n",
    "import matplotlib.pyplot as plt\n",
    "plt.plot(df2)"
   ]
  },
  {
   "cell_type": "code",
   "execution_count": 7,
   "metadata": {},
   "outputs": [],
   "source": [
    "train_num = 8000\n",
    "test_num = 728"
   ]
  },
  {
   "cell_type": "code",
   "execution_count": 8,
   "metadata": {},
   "outputs": [
    {
     "name": "stdout",
     "output_type": "stream",
     "text": [
      "(8728,)\n"
     ]
    }
   ],
   "source": [
    "en_ids = train_log['enrollment_id'].unique()\n",
    "print(en_ids.shape)"
   ]
  },
  {
   "cell_type": "code",
   "execution_count": 9,
   "metadata": {},
   "outputs": [
    {
     "data": {
      "text/plain": [
       "array([ 61121, 124869,  96936, ...,  14601,  88519,  26404])"
      ]
     },
     "execution_count": 9,
     "metadata": {},
     "output_type": "execute_result"
    }
   ],
   "source": [
    "np.random.shuffle(en_ids)\n",
    "en_ids"
   ]
  },
  {
   "cell_type": "code",
   "execution_count": 10,
   "metadata": {},
   "outputs": [],
   "source": [
    "tr_en_ids = en_ids[:train_num]\n",
    "ts_en_ids = en_ids[train_num:]"
   ]
  },
  {
   "cell_type": "code",
   "execution_count": 11,
   "metadata": {},
   "outputs": [
    {
     "data": {
      "text/plain": [
       "0.6497252747252747"
      ]
     },
     "execution_count": 11,
     "metadata": {},
     "output_type": "execute_result"
    }
   ],
   "source": [
    "(train_log[train_log['enrollment_id'].isin(ts_en_ids)]['result'].values.sum()/4)/728"
   ]
  },
  {
   "cell_type": "code",
   "execution_count": 12,
   "metadata": {},
   "outputs": [
    {
     "data": {
      "text/plain": [
       "0.64675"
      ]
     },
     "execution_count": 12,
     "metadata": {},
     "output_type": "execute_result"
    }
   ],
   "source": [
    "(train_log[train_log['enrollment_id'].isin(tr_en_ids)]['result'].values.sum()/4)/8000"
   ]
  },
  {
   "cell_type": "code",
   "execution_count": 13,
   "metadata": {},
   "outputs": [
    {
     "data": {
      "text/plain": [
       "(8000,)"
      ]
     },
     "execution_count": 13,
     "metadata": {},
     "output_type": "execute_result"
    }
   ],
   "source": [
    "tr_en_ids.shape"
   ]
  },
  {
   "cell_type": "code",
   "execution_count": 14,
   "metadata": {},
   "outputs": [
    {
     "data": {
      "text/plain": [
       "(728,)"
      ]
     },
     "execution_count": 14,
     "metadata": {},
     "output_type": "execute_result"
    }
   ],
   "source": [
    "ts_en_ids.shape"
   ]
  },
  {
   "cell_type": "markdown",
   "metadata": {},
   "source": [
    "<h4>Datagen Creation</h4>"
   ]
  },
  {
   "cell_type": "code",
   "execution_count": 15,
   "metadata": {},
   "outputs": [],
   "source": [
    "import random\n",
    "def datagen(batchsize = 32, mode = 'train'):\n",
    "    counter = 0\n",
    "    x, y = [],[]\n",
    "    while True:\n",
    "        if mode == 'train':\n",
    "            idx = random.choice(tr_en_ids)\n",
    "        else:\n",
    "            idx =random.choice(ts_en_ids)\n",
    "        temp = train_log[train_log['enrollment_id']==idx]\n",
    "        row = []\n",
    "        for i in range(temp.shape[0]):\n",
    "            row.append(temp.iloc[i].values[2:-1])\n",
    "        x.append(row)\n",
    "        y.append(temp.iloc[0].values[-1])\n",
    "        \n",
    "        counter+=1\n",
    "        if counter==batchsize:\n",
    "            yield np.array(x),np.array(y)\n",
    "            counter = 0\n",
    "            x, y = [], [] "
   ]
  },
  {
   "cell_type": "code",
   "execution_count": 16,
   "metadata": {},
   "outputs": [],
   "source": [
    "tr_dg  = datagen(mode='train')\n",
    "ts_dg = datagen(mode = 'test', batchsize=32)"
   ]
  },
  {
   "cell_type": "markdown",
   "metadata": {},
   "source": [
    "<h4>Model Architecture</h4>"
   ]
  },
  {
   "cell_type": "code",
   "execution_count": 17,
   "metadata": {},
   "outputs": [
    {
     "name": "stdout",
     "output_type": "stream",
     "text": [
      "WARNING:tensorflow:From /Users/jyoti/anaconda3/lib/python3.7/site-packages/keras/backend/tensorflow_backend.py:3172: add_dispatch_support.<locals>.wrapper (from tensorflow.python.ops.array_ops) is deprecated and will be removed in a future version.\n",
      "Instructions for updating:\n",
      "Use tf.where in 2.0, which has the same broadcast rule as np.where\n",
      "Model: \"sequential_1\"\n",
      "_________________________________________________________________\n",
      "Layer (type)                 Output Shape              Param #   \n",
      "=================================================================\n",
      "lstm_1 (LSTM)                (32, 4, 512)              1069056   \n",
      "_________________________________________________________________\n",
      "dropout_1 (Dropout)          (32, 4, 512)              0         \n",
      "_________________________________________________________________\n",
      "lstm_2 (LSTM)                (32, 512)                 2099200   \n",
      "_________________________________________________________________\n",
      "dropout_2 (Dropout)          (32, 512)                 0         \n",
      "_________________________________________________________________\n",
      "dropout_3 (Dropout)          (32, 512)                 0         \n",
      "_________________________________________________________________\n",
      "dropout_4 (Dropout)          (32, 512)                 0         \n",
      "_________________________________________________________________\n",
      "dropout_5 (Dropout)          (32, 512)                 0         \n",
      "_________________________________________________________________\n",
      "dropout_6 (Dropout)          (32, 512)                 0         \n",
      "_________________________________________________________________\n",
      "dense_1 (Dense)              (32, 1)                   513       \n",
      "=================================================================\n",
      "Total params: 3,168,769\n",
      "Trainable params: 3,168,769\n",
      "Non-trainable params: 0\n",
      "_________________________________________________________________\n"
     ]
    }
   ],
   "source": [
    "# The LSTM architecture\n",
    "from keras.optimizers import SGD\n",
    "from keras.metrics import Precision, Recall\n",
    "from keras import regularizers\n",
    "\n",
    "\n",
    "model = Sequential()\n",
    "# First LSTM layer with Dropout regularisation\n",
    "\n",
    "model.add(LSTM((512), batch_input_shape=(32, 4,9),activation = \"relu\", kernel_initializer = \"uniform\", activity_regularizer = regularizers.l2(0.01),return_sequences=True))\n",
    "model.add(Dropout(0.2))\n",
    "\n",
    "model.add(LSTM((512), batch_input_shape=(32, 4,9),activation = \"relu\",kernel_initializer = \"uniform\", activity_regularizer = regularizers.l2(0.01),return_sequences=False))\n",
    "model.add(Dropout(0.2))\n",
    "#-----------------\n",
    "model.add(Dropout(0.2))\n",
    "#--------------------\n",
    "\n",
    "model.add(Dropout(0.2))\n",
    "\n",
    "model.add(Dropout(0.2))\n",
    "\n",
    "model.add(Dropout(0.2))\n",
    "# The output layer\n",
    "model.add(Dense(1, activation='sigmoid'))\n",
    "\n",
    "# Compiling the RNN\n",
    "\n",
    "model.compile(optimizer = \"adam\", loss = 'binary_crossentropy', \n",
    "              metrics=['accuracy',Precision(), Recall()])\n",
    "model.summary()\n"
   ]
  },
  {
   "cell_type": "markdown",
   "metadata": {},
   "source": [
    "<h4> Early Stopping and Check Points</h4>"
   ]
  },
  {
   "cell_type": "code",
   "execution_count": 18,
   "metadata": {},
   "outputs": [],
   "source": [
    "# Create Checkpoint and Early Stopping\n",
    "checkpoint = ModelCheckpoint(\"LSTM_Adam_With_Regularizer.h5\", monitor='val_accuracy', verbose=5, save_best_only=True, save_weights_only=True, mode='auto', period=1)\n",
    "early = EarlyStopping(monitor='val_accuracy', min_delta=0, patience=15, verbose=1, mode='auto')"
   ]
  },
  {
   "cell_type": "code",
   "execution_count": 19,
   "metadata": {
    "scrolled": true
   },
   "outputs": [
    {
     "name": "stdout",
     "output_type": "stream",
     "text": [
      "WARNING:tensorflow:From /Users/jyoti/anaconda3/lib/python3.7/site-packages/keras/backend/tensorflow_backend.py:422: The name tf.global_variables is deprecated. Please use tf.compat.v1.global_variables instead.\n",
      "\n",
      "Epoch 1/200\n",
      "250/250 [==============================] - 75s 301ms/step - loss: 0.6299 - accuracy: 0.7980 - precision_1: 0.8252 - recall_1: 0.8675 - val_loss: 0.5082 - val_accuracy: 0.8247 - val_precision_1: 0.8415 - val_recall_1: 0.8996\n",
      "\n",
      "Epoch 00001: val_accuracy improved from -inf to 0.82473, saving model to LSTM_Adam_With_Regularizer.h5\n",
      "Epoch 2/200\n",
      "250/250 [==============================] - 65s 260ms/step - loss: 0.5032 - accuracy: 0.8075 - precision_1: 0.8335 - recall_1: 0.8814 - val_loss: 0.5276 - val_accuracy: 0.8329 - val_precision_1: 0.8609 - val_recall_1: 0.8877\n",
      "\n",
      "Epoch 00002: val_accuracy improved from 0.82473 to 0.83288, saving model to LSTM_Adam_With_Regularizer.h5\n",
      "Epoch 3/200\n",
      "250/250 [==============================] - 66s 264ms/step - loss: 0.4728 - accuracy: 0.8189 - precision_1: 0.8454 - recall_1: 0.8806 - val_loss: 0.3178 - val_accuracy: 0.8315 - val_precision_1: 0.8779 - val_recall_1: 0.8595\n",
      "\n",
      "Epoch 00003: val_accuracy did not improve from 0.83288\n",
      "Epoch 4/200\n",
      "250/250 [==============================] - 69s 274ms/step - loss: 0.4644 - accuracy: 0.8171 - precision_1: 0.8381 - recall_1: 0.8900 - val_loss: 0.5753 - val_accuracy: 0.8342 - val_precision_1: 0.8486 - val_recall_1: 0.9025\n",
      "\n",
      "Epoch 00004: val_accuracy improved from 0.83288 to 0.83424, saving model to LSTM_Adam_With_Regularizer.h5\n",
      "Epoch 5/200\n",
      "250/250 [==============================] - 67s 266ms/step - loss: 0.4503 - accuracy: 0.8220 - precision_1: 0.8461 - recall_1: 0.8848 - val_loss: 0.4431 - val_accuracy: 0.8397 - val_precision_1: 0.8531 - val_recall_1: 0.9160\n",
      "\n",
      "Epoch 00005: val_accuracy improved from 0.83424 to 0.83967, saving model to LSTM_Adam_With_Regularizer.h5\n",
      "Epoch 6/200\n",
      "250/250 [==============================] - 66s 264ms/step - loss: 0.4425 - accuracy: 0.8221 - precision_1: 0.8439 - recall_1: 0.8880 - val_loss: 0.5500 - val_accuracy: 0.8111 - val_precision_1: 0.8501 - val_recall_1: 0.8625\n",
      "\n",
      "Epoch 00006: val_accuracy did not improve from 0.83967\n",
      "Epoch 7/200\n",
      "250/250 [==============================] - 68s 274ms/step - loss: 0.4443 - accuracy: 0.8202 - precision_1: 0.8346 - recall_1: 0.8950 - val_loss: 0.3481 - val_accuracy: 0.8573 - val_precision_1: 0.8913 - val_recall_1: 0.9035\n",
      "\n",
      "Epoch 00007: val_accuracy improved from 0.83967 to 0.85734, saving model to LSTM_Adam_With_Regularizer.h5\n",
      "Epoch 8/200\n",
      "250/250 [==============================] - 68s 273ms/step - loss: 0.4381 - accuracy: 0.8234 - precision_1: 0.8374 - recall_1: 0.8965 - val_loss: 0.2937 - val_accuracy: 0.8193 - val_precision_1: 0.8287 - val_recall_1: 0.9156\n",
      "\n",
      "Epoch 00008: val_accuracy did not improve from 0.85734\n",
      "Epoch 9/200\n",
      "250/250 [==============================] - 67s 270ms/step - loss: 0.4235 - accuracy: 0.8266 - precision_1: 0.8469 - recall_1: 0.8961 - val_loss: 0.3952 - val_accuracy: 0.8030 - val_precision_1: 0.7836 - val_recall_1: 0.9553\n",
      "\n",
      "Epoch 00009: val_accuracy did not improve from 0.85734\n",
      "Epoch 10/200\n",
      "250/250 [==============================] - 67s 268ms/step - loss: 0.4290 - accuracy: 0.8255 - precision_1: 0.8366 - recall_1: 0.9063 - val_loss: 0.2760 - val_accuracy: 0.8030 - val_precision_1: 0.8038 - val_recall_1: 0.9095\n",
      "\n",
      "Epoch 00010: val_accuracy did not improve from 0.85734\n",
      "Epoch 11/200\n",
      "250/250 [==============================] - 75s 299ms/step - loss: 0.4130 - accuracy: 0.8353 - precision_1: 0.8517 - recall_1: 0.9060 - val_loss: 0.3806 - val_accuracy: 0.8424 - val_precision_1: 0.8574 - val_recall_1: 0.9078\n",
      "\n",
      "Epoch 00011: val_accuracy did not improve from 0.85734\n",
      "Epoch 12/200\n",
      "250/250 [==============================] - 75s 301ms/step - loss: 0.4226 - accuracy: 0.8320 - precision_1: 0.8462 - recall_1: 0.9053 - val_loss: 0.4121 - val_accuracy: 0.8478 - val_precision_1: 0.8740 - val_recall_1: 0.8992\n",
      "\n",
      "Epoch 00012: val_accuracy did not improve from 0.85734\n",
      "Epoch 13/200\n",
      "250/250 [==============================] - 78s 310ms/step - loss: 0.4225 - accuracy: 0.8275 - precision_1: 0.8347 - recall_1: 0.9064 - val_loss: 0.4212 - val_accuracy: 0.8465 - val_precision_1: 0.8611 - val_recall_1: 0.9099\n",
      "\n",
      "Epoch 00013: val_accuracy did not improve from 0.85734\n",
      "Epoch 14/200\n",
      "250/250 [==============================] - 69s 275ms/step - loss: 0.4142 - accuracy: 0.8303 - precision_1: 0.8438 - recall_1: 0.9029 - val_loss: 0.3724 - val_accuracy: 0.8438 - val_precision_1: 0.8547 - val_recall_1: 0.9168\n",
      "\n",
      "Epoch 00014: val_accuracy did not improve from 0.85734\n",
      "Epoch 15/200\n",
      "250/250 [==============================] - 69s 278ms/step - loss: 0.4166 - accuracy: 0.8322 - precision_1: 0.8454 - recall_1: 0.9098 - val_loss: 0.2757 - val_accuracy: 0.8505 - val_precision_1: 0.8571 - val_recall_1: 0.9250\n",
      "\n",
      "Epoch 00015: val_accuracy did not improve from 0.85734\n",
      "Epoch 16/200\n",
      "250/250 [==============================] - 69s 277ms/step - loss: 0.4134 - accuracy: 0.8310 - precision_1: 0.8454 - recall_1: 0.9022 - val_loss: 0.4153 - val_accuracy: 0.8152 - val_precision_1: 0.8171 - val_recall_1: 0.9091\n",
      "\n",
      "Epoch 00016: val_accuracy did not improve from 0.85734\n",
      "Epoch 17/200\n",
      "250/250 [==============================] - 72s 288ms/step - loss: 0.4037 - accuracy: 0.8389 - precision_1: 0.8531 - recall_1: 0.9093 - val_loss: 0.5203 - val_accuracy: 0.8424 - val_precision_1: 0.8639 - val_recall_1: 0.9122\n",
      "\n",
      "Epoch 00017: val_accuracy did not improve from 0.85734\n",
      "Epoch 18/200\n",
      "250/250 [==============================] - 67s 269ms/step - loss: 0.4218 - accuracy: 0.8286 - precision_1: 0.8412 - recall_1: 0.9055 - val_loss: 0.4613 - val_accuracy: 0.8478 - val_precision_1: 0.8528 - val_recall_1: 0.9300\n",
      "\n",
      "Epoch 00018: val_accuracy did not improve from 0.85734\n",
      "Epoch 19/200\n",
      "250/250 [==============================] - 68s 272ms/step - loss: 0.4203 - accuracy: 0.8311 - precision_1: 0.8414 - recall_1: 0.9051 - val_loss: 0.2272 - val_accuracy: 0.8560 - val_precision_1: 0.8493 - val_recall_1: 0.9374\n",
      "\n",
      "Epoch 00019: val_accuracy did not improve from 0.85734\n",
      "Epoch 20/200\n",
      "250/250 [==============================] - 67s 266ms/step - loss: 0.4069 - accuracy: 0.8353 - precision_1: 0.8488 - recall_1: 0.9057 - val_loss: 0.4335 - val_accuracy: 0.8329 - val_precision_1: 0.8355 - val_recall_1: 0.9300\n",
      "\n",
      "Epoch 00020: val_accuracy did not improve from 0.85734\n",
      "Epoch 21/200\n",
      "250/250 [==============================] - 67s 269ms/step - loss: 0.4084 - accuracy: 0.8366 - precision_1: 0.8546 - recall_1: 0.9043 - val_loss: 0.3812 - val_accuracy: 0.8410 - val_precision_1: 0.8435 - val_recall_1: 0.9347\n",
      "\n",
      "Epoch 00021: val_accuracy did not improve from 0.85734\n",
      "Epoch 22/200\n",
      "250/250 [==============================] - 73s 291ms/step - loss: 0.4083 - accuracy: 0.8372 - precision_1: 0.8516 - recall_1: 0.9037 - val_loss: 0.2775 - val_accuracy: 0.8451 - val_precision_1: 0.8582 - val_recall_1: 0.9180\n",
      "\n",
      "Epoch 00022: val_accuracy did not improve from 0.85734\n",
      "Epoch 00022: early stopping\n"
     ]
    }
   ],
   "source": [
    "history = model.fit(tr_dg, epochs=200,verbose=1, validation_data=ts_dg, steps_per_epoch=250, validation_steps=23,callbacks=[checkpoint,early])\n"
   ]
  },
  {
   "cell_type": "markdown",
   "metadata": {},
   "source": [
    "<h4> Plots</h4>"
   ]
  },
  {
   "cell_type": "code",
   "execution_count": 26,
   "metadata": {},
   "outputs": [
    {
     "name": "stdout",
     "output_type": "stream",
     "text": [
      "dict_keys(['val_loss', 'val_accuracy', 'val_precision_1', 'val_recall_1', 'loss', 'accuracy', 'precision_1', 'recall_1'])\n"
     ]
    },
    {
     "data": {
      "image/png": "[encoded data removed]",
      "text/plain": [
       "<Figure size 432x288 with 1 Axes>"
      ]
     },
     "metadata": {
      "needs_background": "light"
     },
     "output_type": "display_data"
    }
   ],
   "source": [
    "# Plot of Training vs Validation Loss\n",
    "history_dict = history.history\n",
    "print(history_dict.keys())\n",
    "loss_values = history_dict['loss']\n",
    "val_loss_values = history_dict['val_loss']\n",
    "epochs = range(1, len(history_dict['accuracy']) + 1)\n",
    "plt.plot(epochs, loss_values, 'r', label='Training loss')\n",
    "plt.plot(epochs, val_loss_values, 'g', label='Validation loss')\n",
    "plt.title('Training and validation loss')\n",
    "plt.xlabel('Epochs')\n",
    "plt.ylabel('Loss')\n",
    "plt.legend()\n",
    "plt.show()"
   ]
  },
  {
   "cell_type": "code",
   "execution_count": 27,
   "metadata": {},
   "outputs": [
    {
     "name": "stdout",
     "output_type": "stream",
     "text": [
      "dict_keys(['val_loss', 'val_accuracy', 'val_precision_1', 'val_recall_1', 'loss', 'accuracy', 'precision_1', 'recall_1'])\n"
     ]
    },
    {
     "data": {
      "image/png": "[encoded data removed]",
      "text/plain": [
       "<Figure size 432x288 with 1 Axes>"
      ]
     },
     "metadata": {
      "needs_background": "light"
     },
     "output_type": "display_data"
    }
   ],
   "source": [
    "# Plot of Training vs Validation Accuracy\n",
    "hist_dict = history.history\n",
    "print(history_dict.keys())\n",
    "accuracy_values = history_dict['accuracy']\n",
    "val_accuracy_values = history_dict['val_accuracy']\n",
    "epochs = range(1, len(history_dict['accuracy']) + 1)\n",
    "plt.plot(epochs, accuracy_values, 'r', label='Training Accuracy')\n",
    "plt.plot(epochs, val_accuracy_values, 'g', label='Validation accuracy')\n",
    "plt.title('Training and validation Accuracy')\n",
    "plt.xlabel('Epochs')\n",
    "plt.ylabel('Accuracy')\n",
    "plt.legend()\n",
    "plt.show()"
   ]
  },
  {
   "cell_type": "code",
   "execution_count": 31,
   "metadata": {},
   "outputs": [
    {
     "name": "stdout",
     "output_type": "stream",
     "text": [
      "200/200 [==============================] - 19s 97ms/step\n"
     ]
    }
   ],
   "source": [
    "evaluate = model.evaluate_generator(ts_dg, steps=200, verbose=1,callbacks=None)"
   ]
  },
  {
   "cell_type": "code",
   "execution_count": 29,
   "metadata": {},
   "outputs": [
    {
     "name": "stdout",
     "output_type": "stream",
     "text": [
      "Accuracy: 0.827\n"
     ]
    }
   ],
   "source": [
    "print('Accuracy: {:0.3f}'.format(evaluate [1]))"
   ]
  },
  {
   "cell_type": "code",
   "execution_count": 30,
   "metadata": {},
   "outputs": [
    {
     "name": "stdout",
     "output_type": "stream",
     "text": [
      "Precision: 0.837\n"
     ]
    }
   ],
   "source": [
    "print('Precision: {:0.3f}'.format(evaluate [2]))"
   ]
  },
  {
   "cell_type": "code",
   "execution_count": 25,
   "metadata": {},
   "outputs": [
    {
     "name": "stdout",
     "output_type": "stream",
     "text": [
      "Recall: 0.919\n"
     ]
    }
   ],
   "source": [
    "print('Recall: {:0.3f}'.format(evaluate [3]))"
   ]
  }
 ],
 "metadata": {
  "kernelspec": {
   "display_name": "Python 3",
   "language": "python",
   "name": "python3"
  },
  "language_info": {
   "codemirror_mode": {
    "name": "ipython",
    "version": 3
   },
   "file_extension": ".py",
   "mimetype": "text/x-python",
   "name": "python",
   "nbconvert_exporter": "python",
   "pygments_lexer": "ipython3",
   "version": "3.7.3"
  }
 },
 "nbformat": 4,
 "nbformat_minor": 2
}

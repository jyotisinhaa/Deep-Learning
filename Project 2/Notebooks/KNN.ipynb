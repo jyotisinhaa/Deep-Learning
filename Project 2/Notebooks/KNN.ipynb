{
  "nbformat": 4,
  "nbformat_minor": 0,
  "metadata": {
    "colab": {
      "name": "KNN.ipynb",
      "provenance": []
    },
    "kernelspec": {
      "name": "python3",
      "display_name": "Python 3"
    }
  },
  "cells": [
    {
      "cell_type": "markdown",
      "metadata": {
        "id": "2uB9JSo498E0"
      },
      "source": [
        "# <h3><b>KNN</b></h3>"
      ]
    },
    {
      "cell_type": "code",
      "metadata": {
        "id": "tJ3nHqTpN2-t"
      },
      "source": [
        "import numpy as np\n",
        "import pandas as pd\n",
        "from sklearn import metrics \n",
        "from sklearn.metrics import plot_confusion_matrix\n",
        "import matplotlib.pyplot as plt\n",
        "from sklearn.neighbors import KNeighborsClassifier\n",
        "from sklearn.model_selection import train_test_split\n",
        "from sklearn.metrics import confusion_matrix, classification_report\n",
        "from sklearn.metrics import confusion_matrix, precision_score, recall_score, accuracy_score"
      ],
      "execution_count": 12,
      "outputs": []
    },
    {
      "cell_type": "markdown",
      "metadata": {
        "id": "_VdCId-cJATX"
      },
      "source": [
        "<h4> <b>Import Dataset</b></h4>"
      ]
    },
    {
      "cell_type": "code",
      "metadata": {
        "colab": {
          "base_uri": "https://localhost:8080/",
          "height": 204
        },
        "id": "JNtI9Na9-IA9",
        "outputId": "249df250-e1ee-4d53-bcc0-6abcdae33b27"
      },
      "source": [
        "#Reading the dataset\n",
        "df= pd.read_csv('/content/sample_data/MLModels.csv')\n",
        "df.head(5)"
      ],
      "execution_count": 13,
      "outputs": [
        {
          "output_type": "execute_result",
          "data": {
            "text/html": [
              "<div>\n",
              "<style scoped>\n",
              "    .dataframe tbody tr th:only-of-type {\n",
              "        vertical-align: middle;\n",
              "    }\n",
              "\n",
              "    .dataframe tbody tr th {\n",
              "        vertical-align: top;\n",
              "    }\n",
              "\n",
              "    .dataframe thead th {\n",
              "        text-align: right;\n",
              "    }\n",
              "</style>\n",
              "<table border=\"1\" class=\"dataframe\">\n",
              "  <thead>\n",
              "    <tr style=\"text-align: right;\">\n",
              "      <th></th>\n",
              "      <th>Enrollment_ID</th>\n",
              "      <th>Access</th>\n",
              "      <th>Discussion</th>\n",
              "      <th>Navigate</th>\n",
              "      <th>Page Close</th>\n",
              "      <th>Problems</th>\n",
              "      <th>Video</th>\n",
              "      <th>Session</th>\n",
              "      <th>Wiki</th>\n",
              "      <th>Total_Time</th>\n",
              "      <th>Result</th>\n",
              "    </tr>\n",
              "  </thead>\n",
              "  <tbody>\n",
              "    <tr>\n",
              "      <th>0</th>\n",
              "      <td>1</td>\n",
              "      <td>178.0</td>\n",
              "      <td>0.0</td>\n",
              "      <td>0.0</td>\n",
              "      <td>0.0</td>\n",
              "      <td>148.0</td>\n",
              "      <td>47.0</td>\n",
              "      <td>15</td>\n",
              "      <td>0.0</td>\n",
              "      <td>425.933333</td>\n",
              "      <td>0</td>\n",
              "    </tr>\n",
              "    <tr>\n",
              "      <th>1</th>\n",
              "      <td>4</td>\n",
              "      <td>162.0</td>\n",
              "      <td>0.0</td>\n",
              "      <td>0.0</td>\n",
              "      <td>0.0</td>\n",
              "      <td>23.0</td>\n",
              "      <td>14.0</td>\n",
              "      <td>12</td>\n",
              "      <td>0.0</td>\n",
              "      <td>261.616667</td>\n",
              "      <td>0</td>\n",
              "    </tr>\n",
              "    <tr>\n",
              "      <th>2</th>\n",
              "      <td>9</td>\n",
              "      <td>84.0</td>\n",
              "      <td>0.0</td>\n",
              "      <td>0.0</td>\n",
              "      <td>0.0</td>\n",
              "      <td>8.0</td>\n",
              "      <td>3.0</td>\n",
              "      <td>7</td>\n",
              "      <td>0.0</td>\n",
              "      <td>340.000000</td>\n",
              "      <td>1</td>\n",
              "    </tr>\n",
              "    <tr>\n",
              "      <th>3</th>\n",
              "      <td>12</td>\n",
              "      <td>72.0</td>\n",
              "      <td>0.0</td>\n",
              "      <td>0.0</td>\n",
              "      <td>0.0</td>\n",
              "      <td>0.0</td>\n",
              "      <td>51.0</td>\n",
              "      <td>10</td>\n",
              "      <td>0.0</td>\n",
              "      <td>297.500000</td>\n",
              "      <td>0</td>\n",
              "    </tr>\n",
              "    <tr>\n",
              "      <th>4</th>\n",
              "      <td>14</td>\n",
              "      <td>112.0</td>\n",
              "      <td>0.0</td>\n",
              "      <td>0.0</td>\n",
              "      <td>0.0</td>\n",
              "      <td>32.0</td>\n",
              "      <td>10.0</td>\n",
              "      <td>9</td>\n",
              "      <td>0.0</td>\n",
              "      <td>368.800000</td>\n",
              "      <td>1</td>\n",
              "    </tr>\n",
              "  </tbody>\n",
              "</table>\n",
              "</div>"
            ],
            "text/plain": [
              "   Enrollment_ID  Access  Discussion  ...  Wiki  Total_Time  Result\n",
              "0              1   178.0         0.0  ...   0.0  425.933333       0\n",
              "1              4   162.0         0.0  ...   0.0  261.616667       0\n",
              "2              9    84.0         0.0  ...   0.0  340.000000       1\n",
              "3             12    72.0         0.0  ...   0.0  297.500000       0\n",
              "4             14   112.0         0.0  ...   0.0  368.800000       1\n",
              "\n",
              "[5 rows x 11 columns]"
            ]
          },
          "metadata": {
            "tags": []
          },
          "execution_count": 13
        }
      ]
    },
    {
      "cell_type": "markdown",
      "metadata": {
        "id": "czuNYB42JNI0"
      },
      "source": [
        "<h4><b>Data Preprocessing</b></h4>"
      ]
    },
    {
      "cell_type": "code",
      "metadata": {
        "id": "zhbV18O3wiiO"
      },
      "source": [
        "#Splitting into X(Features) and Y(Label)\n",
        "X = df.loc[:,['Enrollment_ID', 'Access', 'Discussion', 'Navigate', 'Page Close',\n",
        "       'Problems', 'Video', 'Session', 'Wiki', 'Total_Time']] "
      ],
      "execution_count": 14,
      "outputs": []
    },
    {
      "cell_type": "code",
      "metadata": {
        "id": "_n0Od1Pdxyws"
      },
      "source": [
        "Y = df['Result']"
      ],
      "execution_count": 15,
      "outputs": []
    },
    {
      "cell_type": "code",
      "metadata": {
        "colab": {
          "base_uri": "https://localhost:8080/"
        },
        "id": "l5MJJDwExy6F",
        "outputId": "bd77941a-9001-4145-e122-58660a48ca18"
      },
      "source": [
        "#Splitting into Train and Test sets\n",
        "X_train, X_test, Y_train, Y_test = train_test_split(X, Y, test_size=0.2, random_state=0)\n",
        "print(X_train.shape)\n",
        "print(X_test.shape)\n",
        "print(Y_train.shape)\n",
        "print(Y_test.shape)"
      ],
      "execution_count": 16,
      "outputs": [
        {
          "output_type": "stream",
          "text": [
            "(6982, 10)\n",
            "(1746, 10)\n",
            "(6982,)\n",
            "(1746,)\n"
          ],
          "name": "stdout"
        }
      ]
    },
    {
      "cell_type": "code",
      "metadata": {
        "id": "rhQv7RAQKa2V"
      },
      "source": [
        "# Data Normalisation\n",
        "X_train = X_train / 255\n",
        "X_test = X_test / 255"
      ],
      "execution_count": 17,
      "outputs": []
    },
    {
      "cell_type": "markdown",
      "metadata": {
        "id": "VbJ1XYYlKlMo"
      },
      "source": [
        "<h4> <b> Model Implementation</b></h4>"
      ]
    },
    {
      "cell_type": "code",
      "metadata": {
        "id": "-IbFUXygxy9d",
        "colab": {
          "base_uri": "https://localhost:8080/"
        },
        "outputId": "71d8ee4d-7b67-4f50-ba63-c26ae1811708"
      },
      "source": [
        "#Model Implementation\n",
        "KNeighbors_model = KNeighborsClassifier(n_neighbors=3)\n",
        "KNeighbors_model.fit(X_train, Y_train)"
      ],
      "execution_count": 18,
      "outputs": [
        {
          "output_type": "execute_result",
          "data": {
            "text/plain": [
              "KNeighborsClassifier(algorithm='auto', leaf_size=30, metric='minkowski',\n",
              "                     metric_params=None, n_jobs=None, n_neighbors=3, p=2,\n",
              "                     weights='uniform')"
            ]
          },
          "metadata": {
            "tags": []
          },
          "execution_count": 18
        }
      ]
    },
    {
      "cell_type": "markdown",
      "metadata": {
        "id": "NML5OCuXNWTN"
      },
      "source": [
        "<h4><b> Results</b></h4>"
      ]
    },
    {
      "cell_type": "code",
      "metadata": {
        "colab": {
          "base_uri": "https://localhost:8080/"
        },
        "id": "wKr3_45oyZvO",
        "outputId": "321ff1a3-e5c9-4e0d-f7e5-8b949e0ec396"
      },
      "source": [
        "# Model Prediction\n",
        "y_prediction = KNeighbors_model.predict(X_test)\n",
        "print (f'Train Accuracy - : {KNeighbors_model.score(X_train,Y_train):.3f}')\n",
        "print (f'Test Accuracy  - : {KNeighbors_model.score(X_test,Y_test):.3f}')"
      ],
      "execution_count": 19,
      "outputs": [
        {
          "output_type": "stream",
          "text": [
            "Train Accuracy - : 0.859\n",
            "Test Accuracy  - : 0.775\n"
          ],
          "name": "stdout"
        }
      ]
    },
    {
      "cell_type": "code",
      "metadata": {
        "colab": {
          "base_uri": "https://localhost:8080/",
          "height": 295
        },
        "id": "cwkky1BXyZ3f",
        "outputId": "1163097e-e7a5-4a41-d664-839200ce235c"
      },
      "source": [
        "# Confusion Matrix\n",
        "matrix = plot_confusion_matrix(KNeighbors_model, X_test, Y_test,\n",
        "                                 cmap=plt.cm.Blues,\n",
        "                                 normalize='true')\n",
        "plt.title('Confusion matrix of KNN')\n",
        "plt.show(matrix)"
      ],
      "execution_count": 20,
      "outputs": [
        {
          "output_type": "display_data",
          "data": {
            "image/png": "[encoded data removed]",
            "text/plain": [
              "<Figure size 432x288 with 2 Axes>"
            ]
          },
          "metadata": {
            "tags": [],
            "needs_background": "light"
          }
        }
      ]
    },
    {
      "cell_type": "code",
      "metadata": {
        "colab": {
          "base_uri": "https://localhost:8080/"
        },
        "id": "JsNQhwZteWeD",
        "outputId": "d4745106-36d0-4fc6-fb27-cb9c3bf5a443"
      },
      "source": [
        "# Calculation of Accuracy, Precision and Recall\n",
        "from sklearn.metrics import confusion_matrix, precision_score, recall_score, accuracy_score\n",
        "confusion_matrix(Y_test, y_prediction)\n",
        "# calculate prec, recall, accuracy\n",
        "print(\"Prec: \"+ str(precision_score(Y_test, y_prediction, average='weighted')))\n",
        "print(\"Recall: \"+ str(recall_score(Y_test, y_prediction, average='weighted')))\n",
        "print(\"Accuracy: \" + str(accuracy_score(Y_test, y_prediction)))"
      ],
      "execution_count": 21,
      "outputs": [
        {
          "output_type": "stream",
          "text": [
            "Prec: 0.7720830057470628\n",
            "Recall: 0.7754868270332188\n",
            "Accuracy: 0.7754868270332188\n"
          ],
          "name": "stdout"
        }
      ]
    },
    {
      "cell_type": "code",
      "metadata": {
        "id": "PGobqs4bquPV"
      },
      "source": [
        ""
      ],
      "execution_count": 21,
      "outputs": []
    }
  ]
}
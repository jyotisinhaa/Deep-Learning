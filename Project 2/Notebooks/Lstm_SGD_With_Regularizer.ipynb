{
 "cells": [
  {
   "cell_type": "markdown",
   "metadata": {},
   "source": [
    "<h3>Importing Libraries</h3>"
   ]
  },
  {
   "cell_type": "code",
   "execution_count": 43,
   "metadata": {},
   "outputs": [],
   "source": [
    "# Importing Libraries\n",
    "from keras.backend.tensorflow_backend import set_session\n",
    "from keras.models import Sequential\n",
    "from keras.layers import Dense\n",
    "from keras.layers import TimeDistributed\n",
    "from keras.layers import LSTM, Dropout\n",
    "from keras import optimizers\n",
    "import pandas as pd\n",
    "import numpy as np\n",
    "from datetime import datetime, date, timedelta\n",
    "from keras.callbacks import ModelCheckpoint, EarlyStopping\n",
    "from sklearn.metrics import confusion_matrix, roc_curve, auc,accuracy_score\n",
    "import matplotlib.pyplot as plt\n",
    "from itertools import cycle\n",
    "from keras.models import load_model\n",
    "import itertools\n",
    "import pickle"
   ]
  },
  {
   "cell_type": "markdown",
   "metadata": {},
   "source": [
    "<h4>Importing Dataset</h4>"
   ]
  },
  {
   "cell_type": "code",
   "execution_count": 44,
   "metadata": {},
   "outputs": [],
   "source": [
    "train_log= pd.read_csv('/Users/jyoti/OneDrive/DLFinal/Project2/norm.csv')"
   ]
  },
  {
   "cell_type": "code",
   "execution_count": 45,
   "metadata": {},
   "outputs": [
    {
     "data": {
      "text/plain": [
       "Index(['enrollment_id', 'date', 'access', 'discussion', 'navigate',\n",
       "       'page_close', 'problem', 'video', 'wiki', 'session', 'tot_time',\n",
       "       'result'],\n",
       "      dtype='object')"
      ]
     },
     "execution_count": 45,
     "metadata": {},
     "output_type": "execute_result"
    }
   ],
   "source": [
    "train_log.columns"
   ]
  },
  {
   "cell_type": "code",
   "execution_count": 46,
   "metadata": {},
   "outputs": [],
   "source": [
    "df1 = train_log[\"access\"]"
   ]
  },
  {
   "cell_type": "code",
   "execution_count": 47,
   "metadata": {},
   "outputs": [
    {
     "data": {
      "text/plain": [
       "[<matplotlib.lines.Line2D at 0x14d023e10>]"
      ]
     },
     "execution_count": 47,
     "metadata": {},
     "output_type": "execute_result"
    },
    {
     "data": {
      "image/png": "[encoded data removed]",
      "text/plain": [
       "<Figure size 432x288 with 1 Axes>"
      ]
     },
     "metadata": {
      "needs_background": "light"
     },
     "output_type": "display_data"
    }
   ],
   "source": [
    "import matplotlib.pyplot as plt\n",
    "plt.plot(df1)"
   ]
  },
  {
   "cell_type": "code",
   "execution_count": 48,
   "metadata": {},
   "outputs": [
    {
     "data": {
      "text/plain": [
       "[<matplotlib.lines.Line2D at 0x14b31dda0>]"
      ]
     },
     "execution_count": 48,
     "metadata": {},
     "output_type": "execute_result"
    },
    {
     "data": {
      "image/png": "[encoded data removed]",
      "text/plain": [
       "<Figure size 432x288 with 1 Axes>"
      ]
     },
     "metadata": {
      "needs_background": "light"
     },
     "output_type": "display_data"
    }
   ],
   "source": [
    "df2 = train_log[\"session\"]\n",
    "import matplotlib.pyplot as plt\n",
    "plt.plot(df2)"
   ]
  },
  {
   "cell_type": "code",
   "execution_count": 49,
   "metadata": {},
   "outputs": [],
   "source": [
    "train_num = 8000\n",
    "test_num = 728"
   ]
  },
  {
   "cell_type": "code",
   "execution_count": 50,
   "metadata": {},
   "outputs": [
    {
     "name": "stdout",
     "output_type": "stream",
     "text": [
      "(8728,)\n"
     ]
    }
   ],
   "source": [
    "en_ids = train_log['enrollment_id'].unique()\n",
    "print(en_ids.shape)"
   ]
  },
  {
   "cell_type": "code",
   "execution_count": 51,
   "metadata": {},
   "outputs": [
    {
     "data": {
      "text/plain": [
       "array([ 34644,  17413,  21973, ...,  30995, 107050,    208])"
      ]
     },
     "execution_count": 51,
     "metadata": {},
     "output_type": "execute_result"
    }
   ],
   "source": [
    "np.random.shuffle(en_ids)\n",
    "en_ids"
   ]
  },
  {
   "cell_type": "code",
   "execution_count": 52,
   "metadata": {},
   "outputs": [],
   "source": [
    "tr_en_ids = en_ids[:train_num]\n",
    "ts_en_ids = en_ids[train_num:]"
   ]
  },
  {
   "cell_type": "code",
   "execution_count": 53,
   "metadata": {},
   "outputs": [
    {
     "data": {
      "text/plain": [
       "0.6717032967032966"
      ]
     },
     "execution_count": 53,
     "metadata": {},
     "output_type": "execute_result"
    }
   ],
   "source": [
    "(train_log[train_log['enrollment_id'].isin(ts_en_ids)]['result'].values.sum()/4)/728"
   ]
  },
  {
   "cell_type": "code",
   "execution_count": 54,
   "metadata": {},
   "outputs": [
    {
     "data": {
      "text/plain": [
       "0.64475"
      ]
     },
     "execution_count": 54,
     "metadata": {},
     "output_type": "execute_result"
    }
   ],
   "source": [
    "(train_log[train_log['enrollment_id'].isin(tr_en_ids)]['result'].values.sum()/4)/8000"
   ]
  },
  {
   "cell_type": "code",
   "execution_count": 55,
   "metadata": {},
   "outputs": [
    {
     "data": {
      "text/plain": [
       "(8000,)"
      ]
     },
     "execution_count": 55,
     "metadata": {},
     "output_type": "execute_result"
    }
   ],
   "source": [
    "tr_en_ids.shape"
   ]
  },
  {
   "cell_type": "code",
   "execution_count": 56,
   "metadata": {},
   "outputs": [
    {
     "data": {
      "text/plain": [
       "(728,)"
      ]
     },
     "execution_count": 56,
     "metadata": {},
     "output_type": "execute_result"
    }
   ],
   "source": [
    "ts_en_ids.shape"
   ]
  },
  {
   "cell_type": "markdown",
   "metadata": {},
   "source": [
    "<h4>Datagen Creation</h4>"
   ]
  },
  {
   "cell_type": "code",
   "execution_count": 57,
   "metadata": {},
   "outputs": [],
   "source": [
    "import random\n",
    "def datagen(batchsize = 32, mode = 'train'):\n",
    "    counter = 0\n",
    "    x, y = [],[]\n",
    "    while True:\n",
    "        if mode == 'train':\n",
    "            idx = random.choice(tr_en_ids)\n",
    "        else:\n",
    "            idx =random.choice(ts_en_ids)\n",
    "        temp = train_log[train_log['enrollment_id']==idx]\n",
    "        row = []\n",
    "        for i in range(temp.shape[0]):\n",
    "            row.append(temp.iloc[i].values[2:-1])\n",
    "        x.append(row)\n",
    "        y.append(temp.iloc[0].values[-1])\n",
    "        \n",
    "        counter+=1\n",
    "        if counter==batchsize:\n",
    "            yield np.array(x),np.array(y)\n",
    "            counter = 0\n",
    "            x, y = [], [] "
   ]
  },
  {
   "cell_type": "code",
   "execution_count": 58,
   "metadata": {},
   "outputs": [],
   "source": [
    "tr_dg  = datagen(mode='train')\n",
    "ts_dg = datagen(mode = 'test', batchsize=32)"
   ]
  },
  {
   "cell_type": "markdown",
   "metadata": {},
   "source": [
    "<h4>Model Architecture</h4>"
   ]
  },
  {
   "cell_type": "code",
   "execution_count": 59,
   "metadata": {},
   "outputs": [
    {
     "name": "stdout",
     "output_type": "stream",
     "text": [
      "Model: \"sequential_3\"\n",
      "_________________________________________________________________\n",
      "Layer (type)                 Output Shape              Param #   \n",
      "=================================================================\n",
      "lstm_5 (LSTM)                (32, 4, 512)              1069056   \n",
      "_________________________________________________________________\n",
      "dropout_11 (Dropout)         (32, 4, 512)              0         \n",
      "_________________________________________________________________\n",
      "lstm_6 (LSTM)                (32, 512)                 2099200   \n",
      "_________________________________________________________________\n",
      "dropout_12 (Dropout)         (32, 512)                 0         \n",
      "_________________________________________________________________\n",
      "dropout_13 (Dropout)         (32, 512)                 0         \n",
      "_________________________________________________________________\n",
      "dropout_14 (Dropout)         (32, 512)                 0         \n",
      "_________________________________________________________________\n",
      "dropout_15 (Dropout)         (32, 512)                 0         \n",
      "_________________________________________________________________\n",
      "dense_3 (Dense)              (32, 1)                   513       \n",
      "=================================================================\n",
      "Total params: 3,168,769\n",
      "Trainable params: 3,168,769\n",
      "Non-trainable params: 0\n",
      "_________________________________________________________________\n"
     ]
    }
   ],
   "source": [
    "# The LSTM architecture\n",
    "from keras.optimizers import SGD\n",
    "from keras.metrics import Precision, Recall\n",
    "from keras import regularizers\n",
    "\n",
    "model = Sequential()\n",
    "# First LSTM layer with Dropout regularisation\n",
    "\n",
    "model.add(LSTM((512), batch_input_shape=(32, 4,9),activation = \"relu\", kernel_initializer = \"uniform\", activity_regularizer = regularizers.l2(0.01), return_sequences=True))\n",
    "model.add(Dropout(0.2))\n",
    "\n",
    "model.add(LSTM((512), batch_input_shape=(32, 4,9),activation = \"relu\", kernel_initializer = \"uniform\", activity_regularizer = regularizers.l2(0.01), return_sequences=False))\n",
    "model.add(Dropout(0.2))\n",
    "#-----------------\n",
    "model.add(Dropout(0.2))\n",
    "#--------------------\n",
    "\n",
    "model.add(Dropout(0.2))\n",
    "\n",
    "model.add(Dropout(0.2))\n",
    "#--------------------\n",
    "\n",
    "# The output layer\n",
    "model.add(Dense(1, activation='sigmoid'))\n",
    "\n",
    "# Compiling the RNN\n",
    "\n",
    "# model.compile(optimizer='rmsprop', loss='binary_crossentropy', metrics=['accuracy'])\n",
    "model.compile(loss='binary_crossentropy',optimizer = 'sgd', metrics=['accuracy', Precision(), Recall()])\n",
    "model.summary()"
   ]
  },
  {
   "cell_type": "markdown",
   "metadata": {},
   "source": [
    "<h4> Early Stopping and Check Points</h4>"
   ]
  },
  {
   "cell_type": "code",
   "execution_count": 60,
   "metadata": {},
   "outputs": [],
   "source": [
    "# Create Checkpoint and Early Stopping\n",
    "checkpoint = ModelCheckpoint(\"LSTM_SGD_With_Regularizer.h5\", monitor='val_accuracy', verbose=5, save_best_only=True, save_weights_only=True, mode='auto', period=1)\n",
    "early = EarlyStopping(monitor='val_accuracy', min_delta=0, patience=15, verbose=1, mode='auto')"
   ]
  },
  {
   "cell_type": "code",
   "execution_count": 61,
   "metadata": {
    "scrolled": true
   },
   "outputs": [
    {
     "name": "stdout",
     "output_type": "stream",
     "text": [
      "WARNING:tensorflow:From /Users/jyoti/anaconda3/lib/python3.7/site-packages/keras/backend/tensorflow_backend.py:422: The name tf.global_variables is deprecated. Please use tf.compat.v1.global_variables instead.\n",
      "\n",
      "Epoch 1/200\n",
      "250/250 [==============================] - 55s 221ms/step - loss: 0.7514 - accuracy: 0.6417 - precision_2: 0.6429 - recall_2: 0.9916 - val_loss: 0.6905 - val_accuracy: 0.6576 - val_precision_2: 0.6576 - val_recall_2: 1.0000\n",
      "\n",
      "Epoch 00001: val_accuracy improved from -inf to 0.65761, saving model to LSTM_SGD_With_Regularizer.h5\n",
      "Epoch 2/200\n",
      "250/250 [==============================] - 47s 188ms/step - loss: 0.6581 - accuracy: 0.6530 - precision_2: 0.6530 - recall_2: 1.0000 - val_loss: 0.6805 - val_accuracy: 0.6984 - val_precision_2: 0.6984 - val_recall_2: 1.0000\n",
      "\n",
      "Epoch 00002: val_accuracy improved from 0.65761 to 0.69837, saving model to LSTM_SGD_With_Regularizer.h5\n",
      "Epoch 3/200\n",
      "250/250 [==============================] - 50s 198ms/step - loss: 0.6534 - accuracy: 0.6507 - precision_2: 0.6507 - recall_2: 1.0000 - val_loss: 0.6141 - val_accuracy: 0.6875 - val_precision_2: 0.6875 - val_recall_2: 1.0000\n",
      "\n",
      "Epoch 00003: val_accuracy did not improve from 0.69837\n",
      "Epoch 4/200\n",
      "250/250 [==============================] - 49s 195ms/step - loss: 0.6505 - accuracy: 0.6516 - precision_2: 0.6516 - recall_2: 1.0000 - val_loss: 0.6453 - val_accuracy: 0.6902 - val_precision_2: 0.6902 - val_recall_2: 1.0000\n",
      "\n",
      "Epoch 00004: val_accuracy did not improve from 0.69837\n",
      "Epoch 5/200\n",
      "250/250 [==============================] - 47s 188ms/step - loss: 0.6511 - accuracy: 0.6472 - precision_2: 0.6472 - recall_2: 1.0000 - val_loss: 0.5193 - val_accuracy: 0.6291 - val_precision_2: 0.6291 - val_recall_2: 1.0000\n",
      "\n",
      "Epoch 00005: val_accuracy did not improve from 0.69837\n",
      "Epoch 6/200\n",
      "250/250 [==============================] - 49s 195ms/step - loss: 0.6505 - accuracy: 0.6470 - precision_2: 0.6470 - recall_2: 1.0000 - val_loss: 0.5896 - val_accuracy: 0.6821 - val_precision_2: 0.6821 - val_recall_2: 1.0000\n",
      "\n",
      "Epoch 00006: val_accuracy did not improve from 0.69837\n",
      "Epoch 7/200\n",
      "250/250 [==============================] - 48s 192ms/step - loss: 0.6533 - accuracy: 0.6406 - precision_2: 0.6406 - recall_2: 1.0000 - val_loss: 0.6085 - val_accuracy: 0.6712 - val_precision_2: 0.6712 - val_recall_2: 1.0000\n",
      "\n",
      "Epoch 00007: val_accuracy did not improve from 0.69837\n",
      "Epoch 8/200\n",
      "250/250 [==============================] - 49s 195ms/step - loss: 0.6523 - accuracy: 0.6436 - precision_2: 0.6436 - recall_2: 1.0000 - val_loss: 0.6425 - val_accuracy: 0.6372 - val_precision_2: 0.6372 - val_recall_2: 1.0000\n",
      "\n",
      "Epoch 00008: val_accuracy did not improve from 0.69837\n",
      "Epoch 9/200\n",
      "250/250 [==============================] - 47s 189ms/step - loss: 0.6537 - accuracy: 0.6405 - precision_2: 0.6405 - recall_2: 1.0000 - val_loss: 0.5877 - val_accuracy: 0.6685 - val_precision_2: 0.6685 - val_recall_2: 1.0000\n",
      "\n",
      "Epoch 00009: val_accuracy did not improve from 0.69837\n",
      "Epoch 10/200\n",
      "250/250 [==============================] - 50s 200ms/step - loss: 0.6518 - accuracy: 0.6428 - precision_2: 0.6428 - recall_2: 1.0000 - val_loss: 0.6791 - val_accuracy: 0.6427 - val_precision_2: 0.6427 - val_recall_2: 1.0000\n",
      "\n",
      "Epoch 00010: val_accuracy did not improve from 0.69837\n",
      "Epoch 11/200\n",
      "250/250 [==============================] - 47s 190ms/step - loss: 0.6551 - accuracy: 0.6357 - precision_2: 0.6357 - recall_2: 1.0000 - val_loss: 0.5549 - val_accuracy: 0.6916 - val_precision_2: 0.6916 - val_recall_2: 1.0000\n",
      "\n",
      "Epoch 00011: val_accuracy did not improve from 0.69837\n",
      "Epoch 12/200\n",
      "250/250 [==============================] - 49s 196ms/step - loss: 0.6484 - accuracy: 0.6480 - precision_2: 0.6480 - recall_2: 1.0000 - val_loss: 0.5880 - val_accuracy: 0.6753 - val_precision_2: 0.6753 - val_recall_2: 1.0000\n",
      "\n",
      "Epoch 00012: val_accuracy did not improve from 0.69837\n",
      "Epoch 13/200\n",
      "250/250 [==============================] - 54s 216ms/step - loss: 0.6466 - accuracy: 0.6499 - precision_2: 0.6499 - recall_2: 1.0000 - val_loss: 0.6417 - val_accuracy: 0.6861 - val_precision_2: 0.6861 - val_recall_2: 1.0000\n",
      "\n",
      "Epoch 00013: val_accuracy did not improve from 0.69837\n",
      "Epoch 14/200\n",
      "250/250 [==============================] - 55s 219ms/step - loss: 0.6551 - accuracy: 0.6366 - precision_2: 0.6366 - recall_2: 1.0000 - val_loss: 0.6069 - val_accuracy: 0.6916 - val_precision_2: 0.6916 - val_recall_2: 1.0000\n",
      "\n",
      "Epoch 00014: val_accuracy did not improve from 0.69837\n",
      "Epoch 15/200\n",
      "250/250 [==============================] - 48s 193ms/step - loss: 0.6452 - accuracy: 0.6520 - precision_2: 0.6520 - recall_2: 1.0000 - val_loss: 0.5115 - val_accuracy: 0.6861 - val_precision_2: 0.6861 - val_recall_2: 1.0000\n",
      "\n",
      "Epoch 00015: val_accuracy did not improve from 0.69837\n",
      "Epoch 16/200\n",
      "250/250 [==============================] - 51s 203ms/step - loss: 0.6479 - accuracy: 0.6471 - precision_2: 0.6471 - recall_2: 1.0000 - val_loss: 0.6601 - val_accuracy: 0.6332 - val_precision_2: 0.6332 - val_recall_2: 1.0000\n",
      "\n",
      "Epoch 00016: val_accuracy did not improve from 0.69837\n",
      "Epoch 17/200\n",
      "250/250 [==============================] - 49s 197ms/step - loss: 0.6496 - accuracy: 0.6439 - precision_2: 0.6439 - recall_2: 1.0000 - val_loss: 0.7155 - val_accuracy: 0.6495 - val_precision_2: 0.6495 - val_recall_2: 1.0000\n",
      "\n",
      "Epoch 00017: val_accuracy did not improve from 0.69837\n",
      "Epoch 00017: early stopping\n"
     ]
    }
   ],
   "source": [
    "history = model.fit(tr_dg, epochs=200,verbose=1, validation_data=ts_dg, steps_per_epoch=250, validation_steps=23,callbacks=[checkpoint,early])\n"
   ]
  },
  {
   "cell_type": "markdown",
   "metadata": {},
   "source": [
    "<h4> Plots</h4>"
   ]
  },
  {
   "cell_type": "code",
   "execution_count": 68,
   "metadata": {},
   "outputs": [
    {
     "name": "stdout",
     "output_type": "stream",
     "text": [
      "dict_keys(['val_loss', 'val_accuracy', 'val_precision_2', 'val_recall_2', 'loss', 'accuracy', 'precision_2', 'recall_2'])\n"
     ]
    },
    {
     "data": {
      "image/png": "[encoded data removed]",
      "text/plain": [
       "<Figure size 432x288 with 1 Axes>"
      ]
     },
     "metadata": {
      "needs_background": "light"
     },
     "output_type": "display_data"
    }
   ],
   "source": [
    "# Plot of Training vs Validation Loss\n",
    "history_dict = history.history\n",
    "print(history_dict.keys())\n",
    "loss_values = history_dict['loss']\n",
    "val_loss_values = history_dict['val_loss']\n",
    "epochs = range(1, len(history_dict['accuracy']) + 1)\n",
    "plt.plot(epochs, loss_values, 'r', label='Training loss')\n",
    "plt.plot(epochs, val_loss_values, 'g', label='Validation loss')\n",
    "plt.title('Training and validation loss')\n",
    "plt.xlabel('Epochs')\n",
    "plt.ylabel('Loss')\n",
    "plt.legend()\n",
    "plt.show()"
   ]
  },
  {
   "cell_type": "code",
   "execution_count": 69,
   "metadata": {},
   "outputs": [
    {
     "name": "stdout",
     "output_type": "stream",
     "text": [
      "dict_keys(['val_loss', 'val_accuracy', 'val_precision_2', 'val_recall_2', 'loss', 'accuracy', 'precision_2', 'recall_2'])\n"
     ]
    },
    {
     "data": {
      "image/png": "[encoded data removed]",
      "text/plain": [
       "<Figure size 432x288 with 1 Axes>"
      ]
     },
     "metadata": {
      "needs_background": "light"
     },
     "output_type": "display_data"
    }
   ],
   "source": [
    "# Plot of Training vs Validation Accuracy\n",
    "hist_dict = history.history\n",
    "print(history_dict.keys())\n",
    "accuracy_values = history_dict['accuracy']\n",
    "val_accuracy_values = history_dict['val_accuracy']\n",
    "epochs = range(1, len(history_dict['accuracy']) + 1)\n",
    "plt.plot(epochs, accuracy_values, 'r', label='Training Accuracy')\n",
    "plt.plot(epochs, val_accuracy_values, 'g', label='Validation accuracy')\n",
    "plt.title('Training and validation Accuracy')\n",
    "plt.xlabel('Epochs')\n",
    "plt.ylabel('Accuracy')\n",
    "plt.legend()\n",
    "plt.show()"
   ]
  },
  {
   "cell_type": "code",
   "execution_count": 70,
   "metadata": {},
   "outputs": [
    {
     "name": "stdout",
     "output_type": "stream",
     "text": [
      "32/32 [==============================] - 4s 110ms/step\n"
     ]
    }
   ],
   "source": [
    "evaluate = model.evaluate_generator(ts_dg, steps=32, verbose=1,callbacks=None)"
   ]
  },
  {
   "cell_type": "code",
   "execution_count": 71,
   "metadata": {},
   "outputs": [
    {
     "name": "stdout",
     "output_type": "stream",
     "text": [
      "Accuracy: 0.663\n"
     ]
    }
   ],
   "source": [
    "print('Accuracy: {:0.3f}'.format(evaluate [1]))"
   ]
  },
  {
   "cell_type": "code",
   "execution_count": 72,
   "metadata": {},
   "outputs": [
    {
     "name": "stdout",
     "output_type": "stream",
     "text": [
      "Precision: 0.663\n"
     ]
    }
   ],
   "source": [
    "print('Precision: {:0.3f}'.format(evaluate [2]))"
   ]
  },
  {
   "cell_type": "code",
   "execution_count": 73,
   "metadata": {},
   "outputs": [
    {
     "name": "stdout",
     "output_type": "stream",
     "text": [
      "Recall: 1.000\n"
     ]
    }
   ],
   "source": [
    "print('Recall: {:0.3f}'.format(evaluate [3]))"
   ]
  }
 ],
 "metadata": {
  "kernelspec": {
   "display_name": "Python 3",
   "language": "python",
   "name": "python3"
  },
  "language_info": {
   "codemirror_mode": {
    "name": "ipython",
    "version": 3
   },
   "file_extension": ".py",
   "mimetype": "text/x-python",
   "name": "python",
   "nbconvert_exporter": "python",
   "pygments_lexer": "ipython3",
   "version": "3.7.3"
  }
 },
 "nbformat": 4,
 "nbformat_minor": 2
}

{
 "cells": [
  {
   "cell_type": "markdown",
   "metadata": {},
   "source": [
    "<h3>Importing Libraries</h3>"
   ]
  },
  {
   "cell_type": "code",
   "execution_count": 1,
   "metadata": {},
   "outputs": [
    {
     "name": "stderr",
     "output_type": "stream",
     "text": [
      "Using TensorFlow backend.\n"
     ]
    }
   ],
   "source": [
    "# Importing Libraries\n",
    "from keras.backend.tensorflow_backend import set_session\n",
    "from keras.models import Sequential\n",
    "from keras.layers import Dense\n",
    "from keras.layers import TimeDistributed\n",
    "from keras.layers import LSTM, Dropout\n",
    "from keras import optimizers\n",
    "import pandas as pd\n",
    "import numpy as np\n",
    "from datetime import datetime, date, timedelta\n",
    "from keras.callbacks import ModelCheckpoint, EarlyStopping\n",
    "from sklearn.metrics import confusion_matrix, roc_curve, auc,accuracy_score\n",
    "import matplotlib.pyplot as plt\n",
    "from itertools import cycle\n",
    "from keras.models import load_model\n",
    "import itertools\n",
    "import pickle"
   ]
  },
  {
   "cell_type": "markdown",
   "metadata": {},
   "source": [
    "<h4>Importing Dataset</h4>"
   ]
  },
  {
   "cell_type": "code",
   "execution_count": 2,
   "metadata": {},
   "outputs": [],
   "source": [
    "train_log= pd.read_csv('/Users/jyoti/OneDrive/DLFinal/Project2/norm.csv')"
   ]
  },
  {
   "cell_type": "code",
   "execution_count": 3,
   "metadata": {},
   "outputs": [
    {
     "data": {
      "text/plain": [
       "Index(['enrollment_id', 'date', 'access', 'discussion', 'navigate',\n",
       "       'page_close', 'problem', 'video', 'wiki', 'session', 'tot_time',\n",
       "       'result'],\n",
       "      dtype='object')"
      ]
     },
     "execution_count": 3,
     "metadata": {},
     "output_type": "execute_result"
    }
   ],
   "source": [
    "train_log.columns"
   ]
  },
  {
   "cell_type": "code",
   "execution_count": 4,
   "metadata": {},
   "outputs": [],
   "source": [
    "df1 = train_log[\"access\"]"
   ]
  },
  {
   "cell_type": "code",
   "execution_count": 5,
   "metadata": {},
   "outputs": [
    {
     "data": {
      "text/plain": [
       "[<matplotlib.lines.Line2D at 0x14d8da978>]"
      ]
     },
     "execution_count": 5,
     "metadata": {},
     "output_type": "execute_result"
    },
    {
     "data": {
      "image/png": "[encoded data removed]",
      "text/plain": [
       "<Figure size 432x288 with 1 Axes>"
      ]
     },
     "metadata": {
      "needs_background": "light"
     },
     "output_type": "display_data"
    }
   ],
   "source": [
    "import matplotlib.pyplot as plt\n",
    "plt.plot(df1)"
   ]
  },
  {
   "cell_type": "code",
   "execution_count": 6,
   "metadata": {},
   "outputs": [
    {
     "data": {
      "text/plain": [
       "[<matplotlib.lines.Line2D at 0x14dbad518>]"
      ]
     },
     "execution_count": 6,
     "metadata": {},
     "output_type": "execute_result"
    },
    {
     "data": {
      "image/png": "[encoded data removed]",
      "text/plain": [
       "<Figure size 432x288 with 1 Axes>"
      ]
     },
     "metadata": {
      "needs_background": "light"
     },
     "output_type": "display_data"
    }
   ],
   "source": [
    "df2 = train_log[\"session\"]\n",
    "import matplotlib.pyplot as plt\n",
    "plt.plot(df2)"
   ]
  },
  {
   "cell_type": "code",
   "execution_count": 7,
   "metadata": {},
   "outputs": [],
   "source": [
    "train_num = 8000\n",
    "test_num = 728"
   ]
  },
  {
   "cell_type": "code",
   "execution_count": 8,
   "metadata": {},
   "outputs": [
    {
     "name": "stdout",
     "output_type": "stream",
     "text": [
      "(8728,)\n"
     ]
    }
   ],
   "source": [
    "en_ids = train_log['enrollment_id'].unique()\n",
    "print(en_ids.shape)"
   ]
  },
  {
   "cell_type": "code",
   "execution_count": 9,
   "metadata": {},
   "outputs": [
    {
     "data": {
      "text/plain": [
       "array([ 50780,  65664,  62141, ..., 153165, 124938, 188950])"
      ]
     },
     "execution_count": 9,
     "metadata": {},
     "output_type": "execute_result"
    }
   ],
   "source": [
    "np.random.shuffle(en_ids)\n",
    "en_ids"
   ]
  },
  {
   "cell_type": "code",
   "execution_count": 10,
   "metadata": {},
   "outputs": [],
   "source": [
    "tr_en_ids = en_ids[:train_num]\n",
    "ts_en_ids = en_ids[train_num:]"
   ]
  },
  {
   "cell_type": "code",
   "execution_count": 11,
   "metadata": {},
   "outputs": [
    {
     "data": {
      "text/plain": [
       "0.6318681318681318"
      ]
     },
     "execution_count": 11,
     "metadata": {},
     "output_type": "execute_result"
    }
   ],
   "source": [
    "(train_log[train_log['enrollment_id'].isin(ts_en_ids)]['result'].values.sum()/4)/728"
   ]
  },
  {
   "cell_type": "code",
   "execution_count": 12,
   "metadata": {},
   "outputs": [
    {
     "data": {
      "text/plain": [
       "0.648375"
      ]
     },
     "execution_count": 12,
     "metadata": {},
     "output_type": "execute_result"
    }
   ],
   "source": [
    "(train_log[train_log['enrollment_id'].isin(tr_en_ids)]['result'].values.sum()/4)/8000"
   ]
  },
  {
   "cell_type": "code",
   "execution_count": 13,
   "metadata": {},
   "outputs": [
    {
     "data": {
      "text/plain": [
       "(8000,)"
      ]
     },
     "execution_count": 13,
     "metadata": {},
     "output_type": "execute_result"
    }
   ],
   "source": [
    "tr_en_ids.shape"
   ]
  },
  {
   "cell_type": "code",
   "execution_count": 14,
   "metadata": {},
   "outputs": [
    {
     "data": {
      "text/plain": [
       "(728,)"
      ]
     },
     "execution_count": 14,
     "metadata": {},
     "output_type": "execute_result"
    }
   ],
   "source": [
    "ts_en_ids.shape"
   ]
  },
  {
   "cell_type": "markdown",
   "metadata": {},
   "source": [
    "<h4>Datagen Creation</h4>"
   ]
  },
  {
   "cell_type": "code",
   "execution_count": 15,
   "metadata": {},
   "outputs": [],
   "source": [
    "import random\n",
    "def datagen(batchsize = 32, mode = 'train'):\n",
    "    counter = 0\n",
    "    x, y = [],[]\n",
    "    while True:\n",
    "        if mode == 'train':\n",
    "            idx = random.choice(tr_en_ids)\n",
    "        else:\n",
    "            idx =random.choice(ts_en_ids)\n",
    "        temp = train_log[train_log['enrollment_id']==idx]\n",
    "        row = []\n",
    "        for i in range(temp.shape[0]):\n",
    "            row.append(temp.iloc[i].values[2:-1])\n",
    "        x.append(row)\n",
    "        y.append(temp.iloc[0].values[-1])\n",
    "        \n",
    "        counter+=1\n",
    "        if counter==batchsize:\n",
    "            yield np.array(x),np.array(y)\n",
    "            counter = 0\n",
    "            x, y = [], [] "
   ]
  },
  {
   "cell_type": "code",
   "execution_count": 16,
   "metadata": {},
   "outputs": [],
   "source": [
    "tr_dg  = datagen(mode='train')\n",
    "ts_dg = datagen(mode = 'test', batchsize=32)"
   ]
  },
  {
   "cell_type": "markdown",
   "metadata": {},
   "source": [
    "<h4>Model Architecture</h4>"
   ]
  },
  {
   "cell_type": "code",
   "execution_count": 17,
   "metadata": {},
   "outputs": [
    {
     "name": "stdout",
     "output_type": "stream",
     "text": [
      "WARNING:tensorflow:From /Users/jyoti/anaconda3/lib/python3.7/site-packages/keras/backend/tensorflow_backend.py:3172: add_dispatch_support.<locals>.wrapper (from tensorflow.python.ops.array_ops) is deprecated and will be removed in a future version.\n",
      "Instructions for updating:\n",
      "Use tf.where in 2.0, which has the same broadcast rule as np.where\n",
      "Model: \"sequential_1\"\n",
      "_________________________________________________________________\n",
      "Layer (type)                 Output Shape              Param #   \n",
      "=================================================================\n",
      "lstm_1 (LSTM)                (32, 4, 512)              1069056   \n",
      "_________________________________________________________________\n",
      "dropout_1 (Dropout)          (32, 4, 512)              0         \n",
      "_________________________________________________________________\n",
      "lstm_2 (LSTM)                (32, 512)                 2099200   \n",
      "_________________________________________________________________\n",
      "dropout_2 (Dropout)          (32, 512)                 0         \n",
      "_________________________________________________________________\n",
      "dropout_3 (Dropout)          (32, 512)                 0         \n",
      "_________________________________________________________________\n",
      "dropout_4 (Dropout)          (32, 512)                 0         \n",
      "_________________________________________________________________\n",
      "dense_1 (Dense)              (32, 1)                   513       \n",
      "=================================================================\n",
      "Total params: 3,168,769\n",
      "Trainable params: 3,168,769\n",
      "Non-trainable params: 0\n",
      "_________________________________________________________________\n"
     ]
    }
   ],
   "source": [
    "# The LSTM architecture\n",
    "from keras.optimizers import SGD\n",
    "from keras.metrics import Precision, Recall\n",
    "\n",
    "model = Sequential()\n",
    "# First LSTM layer with Dropout regularisation\n",
    "\n",
    "model.add(LSTM((512), batch_input_shape=(32, 4,9), return_sequences=True))\n",
    "model.add(Dropout(0.2))\n",
    "\n",
    "model.add(LSTM((512), batch_input_shape=(32, 4,9), return_sequences=False))\n",
    "model.add(Dropout(0.2))\n",
    "#-----------------\n",
    "# model.add(LSTM((512), batch_input_shape=(32, 4,9), return_sequences=False))\n",
    "model.add(Dropout(0.2))\n",
    "#--------------------\n",
    "\n",
    "model.add(Dropout(0.2))\n",
    "# The output layer\n",
    "model.add(Dense(1, activation='sigmoid'))\n",
    "\n",
    "# Compiling the RNN\n",
    "\n",
    "# model.compile(optimizer='rmsprop', loss='binary_crossentropy', metrics=['accuracy'])\n",
    "model.compile(optimizer='sgd',\n",
    "              loss='binary_crossentropy',\n",
    "              metrics=['accuracy',Precision(), Recall()])\n",
    "model.summary()"
   ]
  },
  {
   "cell_type": "markdown",
   "metadata": {},
   "source": [
    "<h4> Early Stopping and Check Points</h4>"
   ]
  },
  {
   "cell_type": "code",
   "execution_count": 18,
   "metadata": {},
   "outputs": [],
   "source": [
    "# Create Checkpoint and Early Stopping\n",
    "checkpoint = ModelCheckpoint(\"LSTM_SGD_NoRegularisation.h5\", monitor='val_accuracy', verbose=5, save_best_only=True, save_weights_only=True, mode='auto', period=1)\n",
    "early = EarlyStopping(monitor='val_accuracy', min_delta=0, patience=15, verbose=1, mode='auto')"
   ]
  },
  {
   "cell_type": "code",
   "execution_count": 19,
   "metadata": {
    "scrolled": true
   },
   "outputs": [
    {
     "name": "stdout",
     "output_type": "stream",
     "text": [
      "WARNING:tensorflow:From /Users/jyoti/anaconda3/lib/python3.7/site-packages/keras/backend/tensorflow_backend.py:422: The name tf.global_variables is deprecated. Please use tf.compat.v1.global_variables instead.\n",
      "\n",
      "Epoch 1/200\n",
      "250/250 [==============================] - 54s 218ms/step - loss: 0.6224 - accuracy: 0.7711 - precision_1: 0.7687 - recall_1: 0.9263 - val_loss: 0.5577 - val_accuracy: 0.7772 - val_precision_1: 0.7655 - val_recall_1: 0.9309\n",
      "\n",
      "Epoch 00001: val_accuracy improved from -inf to 0.77717, saving model to LSTM_SGD_NoRegularisation.h5\n",
      "Epoch 2/200\n",
      "250/250 [==============================] - 56s 222ms/step - loss: 0.5157 - accuracy: 0.8046 - precision_1: 0.8145 - recall_1: 0.9011 - val_loss: 0.4722 - val_accuracy: 0.7921 - val_precision_1: 0.7965 - val_recall_1: 0.8925\n",
      "\n",
      "Epoch 00002: val_accuracy improved from 0.77717 to 0.79212, saving model to LSTM_SGD_NoRegularisation.h5\n",
      "Epoch 3/200\n",
      "250/250 [==============================] - 52s 206ms/step - loss: 0.4762 - accuracy: 0.7987 - precision_1: 0.8076 - recall_1: 0.8982 - val_loss: 0.4360 - val_accuracy: 0.8003 - val_precision_1: 0.8081 - val_recall_1: 0.8996\n",
      "\n",
      "Epoch 00003: val_accuracy improved from 0.79212 to 0.80027, saving model to LSTM_SGD_NoRegularisation.h5\n",
      "Epoch 4/200\n",
      "250/250 [==============================] - 53s 212ms/step - loss: 0.4460 - accuracy: 0.8102 - precision_1: 0.8251 - recall_1: 0.8976 - val_loss: 0.5460 - val_accuracy: 0.7812 - val_precision_1: 0.7902 - val_recall_1: 0.8818\n",
      "\n",
      "Epoch 00004: val_accuracy did not improve from 0.80027\n",
      "Epoch 5/200\n",
      "250/250 [==============================] - 48s 194ms/step - loss: 0.4361 - accuracy: 0.8071 - precision_1: 0.8224 - recall_1: 0.8987 - val_loss: 0.3103 - val_accuracy: 0.7867 - val_precision_1: 0.7949 - val_recall_1: 0.8867\n",
      "\n",
      "Epoch 00005: val_accuracy did not improve from 0.80027\n",
      "Epoch 6/200\n",
      "250/250 [==============================] - 51s 205ms/step - loss: 0.4359 - accuracy: 0.8071 - precision_1: 0.8234 - recall_1: 0.8927 - val_loss: 0.3060 - val_accuracy: 0.8071 - val_precision_1: 0.7882 - val_recall_1: 0.9407\n",
      "\n",
      "Epoch 00006: val_accuracy improved from 0.80027 to 0.80707, saving model to LSTM_SGD_NoRegularisation.h5\n",
      "Epoch 7/200\n",
      "250/250 [==============================] - 50s 200ms/step - loss: 0.4245 - accuracy: 0.8140 - precision_1: 0.8286 - recall_1: 0.8989 - val_loss: 0.5015 - val_accuracy: 0.7921 - val_precision_1: 0.7985 - val_recall_1: 0.9102\n",
      "\n",
      "Epoch 00007: val_accuracy did not improve from 0.80707\n",
      "Epoch 8/200\n",
      "250/250 [==============================] - 50s 199ms/step - loss: 0.4391 - accuracy: 0.8060 - precision_1: 0.8184 - recall_1: 0.8965 - val_loss: 0.3396 - val_accuracy: 0.7908 - val_precision_1: 0.7840 - val_recall_1: 0.9036\n",
      "\n",
      "Epoch 00008: val_accuracy did not improve from 0.80707\n",
      "Epoch 9/200\n",
      "250/250 [==============================] - 51s 202ms/step - loss: 0.4370 - accuracy: 0.8062 - precision_1: 0.8187 - recall_1: 0.8968 - val_loss: 0.5266 - val_accuracy: 0.7935 - val_precision_1: 0.8038 - val_recall_1: 0.8987\n",
      "\n",
      "Epoch 00009: val_accuracy did not improve from 0.80707\n",
      "Epoch 10/200\n",
      "250/250 [==============================] - 60s 240ms/step - loss: 0.4358 - accuracy: 0.8066 - precision_1: 0.8199 - recall_1: 0.8957 - val_loss: 0.4998 - val_accuracy: 0.7867 - val_precision_1: 0.8037 - val_recall_1: 0.8948\n",
      "\n",
      "Epoch 00010: val_accuracy did not improve from 0.80707\n",
      "Epoch 11/200\n",
      "250/250 [==============================] - 86s 342ms/step - loss: 0.4363 - accuracy: 0.8073 - precision_1: 0.8211 - recall_1: 0.8963 - val_loss: 0.3370 - val_accuracy: 0.7880 - val_precision_1: 0.7964 - val_recall_1: 0.9113\n",
      "\n",
      "Epoch 00011: val_accuracy did not improve from 0.80707\n",
      "Epoch 12/200\n",
      "250/250 [==============================] - 72s 287ms/step - loss: 0.4237 - accuracy: 0.8190 - precision_1: 0.8319 - recall_1: 0.9050 - val_loss: 0.3836 - val_accuracy: 0.7908 - val_precision_1: 0.7922 - val_recall_1: 0.8967\n",
      "\n",
      "Epoch 00012: val_accuracy did not improve from 0.80707\n",
      "Epoch 13/200\n",
      "250/250 [==============================] - 52s 209ms/step - loss: 0.4298 - accuracy: 0.8090 - precision_1: 0.8244 - recall_1: 0.8939 - val_loss: 0.4500 - val_accuracy: 0.8207 - val_precision_1: 0.8185 - val_recall_1: 0.9232\n",
      "\n",
      "Epoch 00013: val_accuracy improved from 0.80707 to 0.82065, saving model to LSTM_SGD_NoRegularisation.h5\n",
      "Epoch 14/200\n",
      "250/250 [==============================] - 51s 204ms/step - loss: 0.4197 - accuracy: 0.8176 - precision_1: 0.8339 - recall_1: 0.9014 - val_loss: 0.4936 - val_accuracy: 0.8043 - val_precision_1: 0.8152 - val_recall_1: 0.8953\n",
      "\n",
      "Epoch 00014: val_accuracy did not improve from 0.82065\n",
      "Epoch 15/200\n",
      "250/250 [==============================] - 71s 284ms/step - loss: 0.4240 - accuracy: 0.8150 - precision_1: 0.8294 - recall_1: 0.8974 - val_loss: 0.5645 - val_accuracy: 0.7758 - val_precision_1: 0.7689 - val_recall_1: 0.9042\n",
      "\n",
      "Epoch 00015: val_accuracy did not improve from 0.82065\n",
      "Epoch 16/200\n",
      "250/250 [==============================] - 54s 218ms/step - loss: 0.4106 - accuracy: 0.8213 - precision_1: 0.8350 - recall_1: 0.9047 - val_loss: 0.3489 - val_accuracy: 0.8152 - val_precision_1: 0.8069 - val_recall_1: 0.9366\n",
      "\n",
      "Epoch 00016: val_accuracy did not improve from 0.82065\n",
      "Epoch 17/200\n",
      "250/250 [==============================] - 48s 191ms/step - loss: 0.4158 - accuracy: 0.8211 - precision_1: 0.8334 - recall_1: 0.9054 - val_loss: 0.3289 - val_accuracy: 0.8179 - val_precision_1: 0.8472 - val_recall_1: 0.8884\n",
      "\n",
      "Epoch 00017: val_accuracy did not improve from 0.82065\n",
      "Epoch 18/200\n",
      "250/250 [==============================] - 48s 193ms/step - loss: 0.4210 - accuracy: 0.8195 - precision_1: 0.8363 - recall_1: 0.8981 - val_loss: 0.6434 - val_accuracy: 0.7921 - val_precision_1: 0.7862 - val_recall_1: 0.9176\n",
      "\n",
      "Epoch 00018: val_accuracy did not improve from 0.82065\n",
      "Epoch 19/200\n",
      "250/250 [==============================] - 53s 210ms/step - loss: 0.4329 - accuracy: 0.8067 - precision_1: 0.8221 - recall_1: 0.8983 - val_loss: 0.3818 - val_accuracy: 0.8030 - val_precision_1: 0.8123 - val_recall_1: 0.9085\n",
      "\n",
      "Epoch 00019: val_accuracy did not improve from 0.82065\n",
      "Epoch 20/200\n",
      "250/250 [==============================] - 51s 203ms/step - loss: 0.4221 - accuracy: 0.8130 - precision_1: 0.8321 - recall_1: 0.8964 - val_loss: 0.4280 - val_accuracy: 0.8016 - val_precision_1: 0.8033 - val_recall_1: 0.9181\n",
      "\n",
      "Epoch 00020: val_accuracy did not improve from 0.82065\n",
      "Epoch 21/200\n",
      "250/250 [==============================] - 50s 199ms/step - loss: 0.4222 - accuracy: 0.8165 - precision_1: 0.8325 - recall_1: 0.9019 - val_loss: 0.4491 - val_accuracy: 0.8179 - val_precision_1: 0.8281 - val_recall_1: 0.9021\n",
      "\n",
      "Epoch 00021: val_accuracy did not improve from 0.82065\n",
      "Epoch 22/200\n",
      "250/250 [==============================] - 50s 200ms/step - loss: 0.4204 - accuracy: 0.8125 - precision_1: 0.8330 - recall_1: 0.8941 - val_loss: 0.6021 - val_accuracy: 0.7948 - val_precision_1: 0.7856 - val_recall_1: 0.9239\n",
      "\n",
      "Epoch 00022: val_accuracy did not improve from 0.82065\n",
      "Epoch 23/200\n",
      "250/250 [==============================] - 50s 201ms/step - loss: 0.4221 - accuracy: 0.8142 - precision_1: 0.8320 - recall_1: 0.8993 - val_loss: 0.5070 - val_accuracy: 0.7908 - val_precision_1: 0.7981 - val_recall_1: 0.8972\n",
      "\n",
      "Epoch 00023: val_accuracy did not improve from 0.82065\n",
      "Epoch 24/200\n",
      "250/250 [==============================] - 51s 203ms/step - loss: 0.4211 - accuracy: 0.8161 - precision_1: 0.8331 - recall_1: 0.8942 - val_loss: 0.4557 - val_accuracy: 0.8166 - val_precision_1: 0.8184 - val_recall_1: 0.9200\n",
      "\n",
      "Epoch 00024: val_accuracy did not improve from 0.82065\n",
      "Epoch 25/200\n",
      "250/250 [==============================] - 52s 206ms/step - loss: 0.4236 - accuracy: 0.8148 - precision_1: 0.8332 - recall_1: 0.8970 - val_loss: 0.4621 - val_accuracy: 0.8030 - val_precision_1: 0.8182 - val_recall_1: 0.8924\n",
      "\n",
      "Epoch 00025: val_accuracy did not improve from 0.82065\n",
      "Epoch 26/200\n",
      "250/250 [==============================] - 52s 208ms/step - loss: 0.4247 - accuracy: 0.8138 - precision_1: 0.8310 - recall_1: 0.8940 - val_loss: 0.3578 - val_accuracy: 0.8057 - val_precision_1: 0.8085 - val_recall_1: 0.9048\n",
      "\n",
      "Epoch 00026: val_accuracy did not improve from 0.82065\n",
      "Epoch 27/200\n",
      "250/250 [==============================] - 50s 199ms/step - loss: 0.4241 - accuracy: 0.8155 - precision_1: 0.8345 - recall_1: 0.8955 - val_loss: 0.4782 - val_accuracy: 0.8234 - val_precision_1: 0.8209 - val_recall_1: 0.9283\n",
      "\n",
      "Epoch 00027: val_accuracy improved from 0.82065 to 0.82337, saving model to LSTM_SGD_NoRegularisation.h5\n",
      "Epoch 28/200\n",
      "250/250 [==============================] - 50s 200ms/step - loss: 0.4263 - accuracy: 0.8123 - precision_1: 0.8302 - recall_1: 0.8905 - val_loss: 0.3768 - val_accuracy: 0.8193 - val_precision_1: 0.8314 - val_recall_1: 0.9061\n",
      "\n",
      "Epoch 00028: val_accuracy did not improve from 0.82337\n",
      "Epoch 29/200\n",
      "250/250 [==============================] - 57s 228ms/step - loss: 0.4165 - accuracy: 0.8180 - precision_1: 0.8383 - recall_1: 0.8971 - val_loss: 0.4919 - val_accuracy: 0.8111 - val_precision_1: 0.8279 - val_recall_1: 0.8954\n",
      "\n",
      "Epoch 00029: val_accuracy did not improve from 0.82337\n",
      "Epoch 30/200\n",
      "250/250 [==============================] - 57s 229ms/step - loss: 0.4305 - accuracy: 0.8096 - precision_1: 0.8276 - recall_1: 0.8914 - val_loss: 0.3837 - val_accuracy: 0.8247 - val_precision_1: 0.8313 - val_recall_1: 0.9050\n",
      "\n",
      "Epoch 00030: val_accuracy improved from 0.82337 to 0.82473, saving model to LSTM_SGD_NoRegularisation.h5\n",
      "Epoch 31/200\n",
      "250/250 [==============================] - 64s 254ms/step - loss: 0.4229 - accuracy: 0.8145 - precision_1: 0.8305 - recall_1: 0.8954 - val_loss: 0.4847 - val_accuracy: 0.8139 - val_precision_1: 0.8026 - val_recall_1: 0.9355\n",
      "\n",
      "Epoch 00031: val_accuracy did not improve from 0.82473\n",
      "Epoch 32/200\n",
      "250/250 [==============================] - 53s 211ms/step - loss: 0.4288 - accuracy: 0.8150 - precision_1: 0.8311 - recall_1: 0.8974 - val_loss: 0.3843 - val_accuracy: 0.7840 - val_precision_1: 0.8004 - val_recall_1: 0.8777\n",
      "\n",
      "Epoch 00032: val_accuracy did not improve from 0.82473\n",
      "Epoch 33/200\n",
      "250/250 [==============================] - 55s 219ms/step - loss: 0.4200 - accuracy: 0.8179 - precision_1: 0.8354 - recall_1: 0.8941 - val_loss: 0.4329 - val_accuracy: 0.7880 - val_precision_1: 0.8199 - val_recall_1: 0.8735\n",
      "\n",
      "Epoch 00033: val_accuracy did not improve from 0.82473\n",
      "Epoch 34/200\n",
      "250/250 [==============================] - 51s 206ms/step - loss: 0.4226 - accuracy: 0.8115 - precision_1: 0.8272 - recall_1: 0.8937 - val_loss: 0.4630 - val_accuracy: 0.8111 - val_precision_1: 0.8223 - val_recall_1: 0.8977\n",
      "\n",
      "Epoch 00034: val_accuracy did not improve from 0.82473\n",
      "Epoch 35/200\n",
      "250/250 [==============================] - 53s 213ms/step - loss: 0.4165 - accuracy: 0.8186 - precision_1: 0.8411 - recall_1: 0.8903 - val_loss: 0.5094 - val_accuracy: 0.8111 - val_precision_1: 0.8233 - val_recall_1: 0.8983\n",
      "\n",
      "Epoch 00035: val_accuracy did not improve from 0.82473\n",
      "Epoch 36/200\n",
      "250/250 [==============================] - 50s 201ms/step - loss: 0.4185 - accuracy: 0.8205 - precision_1: 0.8394 - recall_1: 0.8953 - val_loss: 0.3524 - val_accuracy: 0.7921 - val_precision_1: 0.7848 - val_recall_1: 0.9115\n",
      "\n",
      "Epoch 00036: val_accuracy did not improve from 0.82473\n",
      "Epoch 37/200\n",
      "250/250 [==============================] - 67s 270ms/step - loss: 0.4147 - accuracy: 0.8207 - precision_1: 0.8370 - recall_1: 0.8945 - val_loss: 0.5993 - val_accuracy: 0.7976 - val_precision_1: 0.7945 - val_recall_1: 0.9022\n",
      "\n",
      "Epoch 00037: val_accuracy did not improve from 0.82473\n",
      "Epoch 38/200\n",
      "250/250 [==============================] - 67s 270ms/step - loss: 0.4319 - accuracy: 0.8092 - precision_1: 0.8289 - recall_1: 0.8902 - val_loss: 0.4420 - val_accuracy: 0.8207 - val_precision_1: 0.8217 - val_recall_1: 0.9138\n",
      "\n",
      "Epoch 00038: val_accuracy did not improve from 0.82473\n",
      "Epoch 39/200\n",
      "250/250 [==============================] - 70s 281ms/step - loss: 0.4130 - accuracy: 0.8192 - precision_1: 0.8406 - recall_1: 0.8960 - val_loss: 0.4688 - val_accuracy: 0.8125 - val_precision_1: 0.8177 - val_recall_1: 0.9139\n",
      "\n",
      "Epoch 00039: val_accuracy did not improve from 0.82473\n",
      "Epoch 40/200\n",
      "250/250 [==============================] - 53s 214ms/step - loss: 0.4209 - accuracy: 0.8150 - precision_1: 0.8358 - recall_1: 0.8924 - val_loss: 0.3548 - val_accuracy: 0.7976 - val_precision_1: 0.7938 - val_recall_1: 0.9075\n",
      "\n",
      "Epoch 00040: val_accuracy did not improve from 0.82473\n",
      "Epoch 41/200\n",
      "250/250 [==============================] - 55s 219ms/step - loss: 0.4210 - accuracy: 0.8134 - precision_1: 0.8327 - recall_1: 0.8899 - val_loss: 0.3610 - val_accuracy: 0.8125 - val_precision_1: 0.8138 - val_recall_1: 0.9200\n",
      "\n",
      "Epoch 00041: val_accuracy did not improve from 0.82473\n",
      "Epoch 42/200\n",
      "250/250 [==============================] - 54s 217ms/step - loss: 0.4121 - accuracy: 0.8181 - precision_1: 0.8393 - recall_1: 0.8916 - val_loss: 0.3346 - val_accuracy: 0.8261 - val_precision_1: 0.8309 - val_recall_1: 0.9315\n",
      "\n",
      "Epoch 00042: val_accuracy improved from 0.82473 to 0.82609, saving model to LSTM_SGD_NoRegularisation.h5\n",
      "Epoch 43/200\n",
      "250/250 [==============================] - 52s 208ms/step - loss: 0.4217 - accuracy: 0.8124 - precision_1: 0.8339 - recall_1: 0.8874 - val_loss: 0.7975 - val_accuracy: 0.7948 - val_precision_1: 0.7866 - val_recall_1: 0.9025\n",
      "\n",
      "Epoch 00043: val_accuracy did not improve from 0.82609\n",
      "Epoch 44/200\n",
      "250/250 [==============================] - 51s 203ms/step - loss: 0.4225 - accuracy: 0.8138 - precision_1: 0.8317 - recall_1: 0.8866 - val_loss: 0.5594 - val_accuracy: 0.8057 - val_precision_1: 0.8052 - val_recall_1: 0.9000\n",
      "\n",
      "Epoch 00044: val_accuracy did not improve from 0.82609\n",
      "Epoch 45/200\n",
      "250/250 [==============================] - 53s 210ms/step - loss: 0.4262 - accuracy: 0.8146 - precision_1: 0.8341 - recall_1: 0.8918 - val_loss: 0.4017 - val_accuracy: 0.8397 - val_precision_1: 0.8369 - val_recall_1: 0.9269\n",
      "\n",
      "Epoch 00045: val_accuracy improved from 0.82609 to 0.83967, saving model to LSTM_SGD_NoRegularisation.h5\n",
      "Epoch 46/200\n",
      "250/250 [==============================] - 60s 239ms/step - loss: 0.4058 - accuracy: 0.8281 - precision_1: 0.8483 - recall_1: 0.8944 - val_loss: 0.3827 - val_accuracy: 0.7948 - val_precision_1: 0.8004 - val_recall_1: 0.9015\n",
      "\n",
      "Epoch 00046: val_accuracy did not improve from 0.83967\n",
      "Epoch 47/200\n",
      "250/250 [==============================] - 54s 216ms/step - loss: 0.4304 - accuracy: 0.8135 - precision_1: 0.8347 - recall_1: 0.8898 - val_loss: 0.3274 - val_accuracy: 0.8057 - val_precision_1: 0.8125 - val_recall_1: 0.8985\n",
      "\n",
      "Epoch 00047: val_accuracy did not improve from 0.83967\n",
      "Epoch 48/200\n",
      "250/250 [==============================] - 51s 203ms/step - loss: 0.4102 - accuracy: 0.8175 - precision_1: 0.8433 - recall_1: 0.8861 - val_loss: 0.8247 - val_accuracy: 0.7853 - val_precision_1: 0.7943 - val_recall_1: 0.8957\n",
      "\n",
      "Epoch 00048: val_accuracy did not improve from 0.83967\n",
      "Epoch 49/200\n",
      "250/250 [==============================] - 51s 205ms/step - loss: 0.4019 - accuracy: 0.8235 - precision_1: 0.8433 - recall_1: 0.8968 - val_loss: 0.4820 - val_accuracy: 0.8207 - val_precision_1: 0.8291 - val_recall_1: 0.9036\n",
      "\n",
      "Epoch 00049: val_accuracy did not improve from 0.83967\n",
      "Epoch 50/200\n",
      "250/250 [==============================] - 51s 204ms/step - loss: 0.4188 - accuracy: 0.8140 - precision_1: 0.8333 - recall_1: 0.8873 - val_loss: 0.3543 - val_accuracy: 0.8098 - val_precision_1: 0.8164 - val_recall_1: 0.9009\n",
      "\n",
      "Epoch 00050: val_accuracy did not improve from 0.83967\n",
      "Epoch 51/200\n",
      "250/250 [==============================] - 52s 207ms/step - loss: 0.4112 - accuracy: 0.8254 - precision_1: 0.8466 - recall_1: 0.8930 - val_loss: 0.5219 - val_accuracy: 0.8356 - val_precision_1: 0.8391 - val_recall_1: 0.9193\n",
      "\n",
      "Epoch 00051: val_accuracy did not improve from 0.83967\n",
      "Epoch 52/200\n",
      "250/250 [==============================] - 51s 204ms/step - loss: 0.4140 - accuracy: 0.8190 - precision_1: 0.8372 - recall_1: 0.8905 - val_loss: 0.4394 - val_accuracy: 0.8207 - val_precision_1: 0.8376 - val_recall_1: 0.8943\n",
      "\n",
      "Epoch 00052: val_accuracy did not improve from 0.83967\n",
      "Epoch 53/200\n",
      "250/250 [==============================] - 52s 207ms/step - loss: 0.4101 - accuracy: 0.8223 - precision_1: 0.8422 - recall_1: 0.8965 - val_loss: 0.4913 - val_accuracy: 0.8030 - val_precision_1: 0.8087 - val_recall_1: 0.8952\n",
      "\n",
      "Epoch 00053: val_accuracy did not improve from 0.83967\n",
      "Epoch 54/200\n",
      "250/250 [==============================] - 49s 198ms/step - loss: 0.4092 - accuracy: 0.8224 - precision_1: 0.8420 - recall_1: 0.8958 - val_loss: 0.6278 - val_accuracy: 0.8111 - val_precision_1: 0.8160 - val_recall_1: 0.9026\n",
      "\n",
      "Epoch 00054: val_accuracy did not improve from 0.83967\n",
      "Epoch 55/200\n",
      "250/250 [==============================] - 53s 211ms/step - loss: 0.4207 - accuracy: 0.8119 - precision_1: 0.8360 - recall_1: 0.8797 - val_loss: 0.2320 - val_accuracy: 0.8111 - val_precision_1: 0.8173 - val_recall_1: 0.9118\n",
      "\n",
      "Epoch 00055: val_accuracy did not improve from 0.83967\n",
      "Epoch 56/200\n",
      "250/250 [==============================] - 50s 201ms/step - loss: 0.4193 - accuracy: 0.8188 - precision_1: 0.8372 - recall_1: 0.8938 - val_loss: 0.4855 - val_accuracy: 0.8043 - val_precision_1: 0.8062 - val_recall_1: 0.9043\n",
      "\n",
      "Epoch 00056: val_accuracy did not improve from 0.83967\n",
      "Epoch 57/200\n",
      "250/250 [==============================] - 50s 201ms/step - loss: 0.4158 - accuracy: 0.8205 - precision_1: 0.8454 - recall_1: 0.8915 - val_loss: 0.5264 - val_accuracy: 0.8057 - val_precision_1: 0.8042 - val_recall_1: 0.9136\n",
      "\n",
      "Epoch 00057: val_accuracy did not improve from 0.83967\n",
      "Epoch 58/200\n",
      "250/250 [==============================] - 51s 204ms/step - loss: 0.4102 - accuracy: 0.8167 - precision_1: 0.8396 - recall_1: 0.8868 - val_loss: 0.4549 - val_accuracy: 0.8193 - val_precision_1: 0.8315 - val_recall_1: 0.9117\n",
      "\n",
      "Epoch 00058: val_accuracy did not improve from 0.83967\n",
      "Epoch 59/200\n",
      "250/250 [==============================] - 51s 203ms/step - loss: 0.4142 - accuracy: 0.8171 - precision_1: 0.8379 - recall_1: 0.8881 - val_loss: 0.5910 - val_accuracy: 0.7948 - val_precision_1: 0.8216 - val_recall_1: 0.8747\n",
      "\n",
      "Epoch 00059: val_accuracy did not improve from 0.83967\n",
      "Epoch 60/200\n",
      "250/250 [==============================] - 51s 202ms/step - loss: 0.4031 - accuracy: 0.8251 - precision_1: 0.8509 - recall_1: 0.8870 - val_loss: 0.3609 - val_accuracy: 0.8152 - val_precision_1: 0.8134 - val_recall_1: 0.9099\n",
      "\n",
      "Epoch 00060: val_accuracy did not improve from 0.83967\n",
      "Epoch 00060: early stopping\n"
     ]
    }
   ],
   "source": [
    "history = model.fit(tr_dg, epochs=200,verbose=1, validation_data=ts_dg, steps_per_epoch=250, validation_steps=23,callbacks=[checkpoint,early])\n"
   ]
  },
  {
   "cell_type": "markdown",
   "metadata": {},
   "source": [
    "<h4> Plots</h4>"
   ]
  },
  {
   "cell_type": "code",
   "execution_count": 26,
   "metadata": {},
   "outputs": [
    {
     "name": "stdout",
     "output_type": "stream",
     "text": [
      "dict_keys(['val_loss', 'val_accuracy', 'val_precision_1', 'val_recall_1', 'loss', 'accuracy', 'precision_1', 'recall_1'])\n"
     ]
    },
    {
     "data": {
      "image/png": "[encoded data removed]",
      "text/plain": [
       "<Figure size 432x288 with 1 Axes>"
      ]
     },
     "metadata": {
      "needs_background": "light"
     },
     "output_type": "display_data"
    }
   ],
   "source": [
    "# Plot of Training vs Validation Loss\n",
    "history_dict = history.history\n",
    "print(history_dict.keys())\n",
    "loss_values = history_dict['loss']\n",
    "val_loss_values = history_dict['val_loss']\n",
    "epochs = range(1, len(history_dict['accuracy']) + 1)\n",
    "plt.plot(epochs, loss_values, 'r', label='Training loss')\n",
    "plt.plot(epochs, val_loss_values, 'g', label='Validation loss')\n",
    "plt.title('Training and validation loss')\n",
    "plt.xlabel('Epochs')\n",
    "plt.ylabel('Loss')\n",
    "plt.legend()\n",
    "plt.show()"
   ]
  },
  {
   "cell_type": "code",
   "execution_count": 27,
   "metadata": {},
   "outputs": [
    {
     "name": "stdout",
     "output_type": "stream",
     "text": [
      "dict_keys(['val_loss', 'val_accuracy', 'val_precision_1', 'val_recall_1', 'loss', 'accuracy', 'precision_1', 'recall_1'])\n"
     ]
    },
    {
     "data": {
      "image/png": "[encoded data removed]",
      "text/plain": [
       "<Figure size 432x288 with 1 Axes>"
      ]
     },
     "metadata": {
      "needs_background": "light"
     },
     "output_type": "display_data"
    }
   ],
   "source": [
    "# Plot of Training vs Validation Accuracy\n",
    "hist_dict = history.history\n",
    "print(history_dict.keys())\n",
    "accuracy_values = history_dict['accuracy']\n",
    "val_accuracy_values = history_dict['val_accuracy']\n",
    "epochs = range(1, len(history_dict['accuracy']) + 1)\n",
    "plt.plot(epochs, accuracy_values, 'r', label='Training Accuracy')\n",
    "plt.plot(epochs, val_accuracy_values, 'g', label='Validation accuracy')\n",
    "plt.title('Training and validation Accuracy')\n",
    "plt.xlabel('Epochs')\n",
    "plt.ylabel('Accuracy')\n",
    "plt.legend()\n",
    "plt.show()"
   ]
  },
  {
   "cell_type": "code",
   "execution_count": 28,
   "metadata": {},
   "outputs": [
    {
     "name": "stdout",
     "output_type": "stream",
     "text": [
      "32/32 [==============================] - 4s 119ms/step\n"
     ]
    }
   ],
   "source": [
    "evaluate = model.evaluate_generator(ts_dg, steps=32, verbose=1,callbacks=None)"
   ]
  },
  {
   "cell_type": "code",
   "execution_count": 29,
   "metadata": {},
   "outputs": [
    {
     "name": "stdout",
     "output_type": "stream",
     "text": [
      "Accuracy: 0.790\n"
     ]
    }
   ],
   "source": [
    "print('Accuracy: {:0.3f}'.format(evaluate [1]))"
   ]
  },
  {
   "cell_type": "code",
   "execution_count": 30,
   "metadata": {},
   "outputs": [
    {
     "name": "stdout",
     "output_type": "stream",
     "text": [
      "Precision: 0.791\n"
     ]
    }
   ],
   "source": [
    "print('Precision: {:0.3f}'.format(evaluate [2]))"
   ]
  },
  {
   "cell_type": "code",
   "execution_count": 32,
   "metadata": {},
   "outputs": [
    {
     "name": "stdout",
     "output_type": "stream",
     "text": [
      "Recall: 0.897\n"
     ]
    }
   ],
   "source": [
    "print('Recall: {:0.3f}'.format(evaluate [3]))"
   ]
  }
 ],
 "metadata": {
  "kernelspec": {
   "display_name": "Python 3",
   "language": "python",
   "name": "python3"
  },
  "language_info": {
   "codemirror_mode": {
    "name": "ipython",
    "version": 3
   },
   "file_extension": ".py",
   "mimetype": "text/x-python",
   "name": "python",
   "nbconvert_exporter": "python",
   "pygments_lexer": "ipython3",
   "version": "3.7.3"
  }
 },
 "nbformat": 4,
 "nbformat_minor": 2
}

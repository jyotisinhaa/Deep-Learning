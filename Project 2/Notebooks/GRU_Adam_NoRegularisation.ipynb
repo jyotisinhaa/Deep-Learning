{
 "cells": [
  {
   "cell_type": "markdown",
   "metadata": {},
   "source": [
    "<h3>Importing Libraries</h3>"
   ]
  },
  {
   "cell_type": "code",
   "execution_count": 1,
   "metadata": {},
   "outputs": [
    {
     "name": "stderr",
     "output_type": "stream",
     "text": [
      "Using TensorFlow backend.\n"
     ]
    }
   ],
   "source": [
    "# Importing Libraries\n",
    "from keras.backend.tensorflow_backend import set_session\n",
    "from keras.models import Sequential\n",
    "from keras.layers import Dense\n",
    "from keras.layers import TimeDistributed\n",
    "from keras.layers import LSTM, Dropout\n",
    "from keras import optimizers\n",
    "import pandas as pd\n",
    "import numpy as np\n",
    "from datetime import datetime, date, timedelta\n",
    "from keras.callbacks import ModelCheckpoint, EarlyStopping\n",
    "from sklearn.metrics import confusion_matrix, roc_curve, auc,accuracy_score\n",
    "from itertools import cycle\n",
    "from keras.models import load_model\n",
    "import itertools\n",
    "import matplotlib.pyplot as plt\n",
    "from sklearn.preprocessing import MinMaxScaler\n",
    "from keras.models import Sequential\n",
    "from keras.layers import Dense, LSTM, Dropout, GRU, Bidirectional\n",
    "from keras.optimizers import SGD\n",
    "import math\n",
    "from sklearn.metrics import mean_squared_error\n",
    "import sklearn.metrics as metrics\n",
    "from keras.metrics import Precision, Recall"
   ]
  },
  {
   "cell_type": "markdown",
   "metadata": {},
   "source": [
    "<h4>Importing Dataset</h4>"
   ]
  },
  {
   "cell_type": "code",
   "execution_count": 2,
   "metadata": {},
   "outputs": [],
   "source": [
    "train_log= pd.read_csv('/Users/jyoti/OneDrive/DLFinal/Project2/norm.csv')"
   ]
  },
  {
   "cell_type": "code",
   "execution_count": 3,
   "metadata": {},
   "outputs": [
    {
     "data": {
      "text/plain": [
       "Index(['enrollment_id', 'date', 'access', 'discussion', 'navigate',\n",
       "       'page_close', 'problem', 'video', 'wiki', 'session', 'tot_time',\n",
       "       'result'],\n",
       "      dtype='object')"
      ]
     },
     "execution_count": 3,
     "metadata": {},
     "output_type": "execute_result"
    }
   ],
   "source": [
    "train_log.columns"
   ]
  },
  {
   "cell_type": "code",
   "execution_count": 4,
   "metadata": {},
   "outputs": [],
   "source": [
    "df1 = train_log[\"access\"]"
   ]
  },
  {
   "cell_type": "code",
   "execution_count": 5,
   "metadata": {},
   "outputs": [
    {
     "data": {
      "text/plain": [
       "[<matplotlib.lines.Line2D at 0x141347a58>]"
      ]
     },
     "execution_count": 5,
     "metadata": {},
     "output_type": "execute_result"
    },
    {
     "data": {
      "image/png": "[encoded data removed]",
      "text/plain": [
       "<Figure size 432x288 with 1 Axes>"
      ]
     },
     "metadata": {
      "needs_background": "light"
     },
     "output_type": "display_data"
    }
   ],
   "source": [
    "import matplotlib.pyplot as plt\n",
    "plt.plot(df1)"
   ]
  },
  {
   "cell_type": "code",
   "execution_count": 6,
   "metadata": {},
   "outputs": [
    {
     "data": {
      "text/plain": [
       "[<matplotlib.lines.Line2D at 0x141618518>]"
      ]
     },
     "execution_count": 6,
     "metadata": {},
     "output_type": "execute_result"
    },
    {
     "data": {
      "image/png": "[encoded data removed]",
      "text/plain": [
       "<Figure size 432x288 with 1 Axes>"
      ]
     },
     "metadata": {
      "needs_background": "light"
     },
     "output_type": "display_data"
    }
   ],
   "source": [
    "df2 = train_log[\"session\"]\n",
    "import matplotlib.pyplot as plt\n",
    "plt.plot(df2)"
   ]
  },
  {
   "cell_type": "code",
   "execution_count": 7,
   "metadata": {},
   "outputs": [],
   "source": [
    "train_num = 8000\n",
    "test_num = 728"
   ]
  },
  {
   "cell_type": "code",
   "execution_count": 8,
   "metadata": {},
   "outputs": [
    {
     "name": "stdout",
     "output_type": "stream",
     "text": [
      "(8728,)\n"
     ]
    }
   ],
   "source": [
    "en_ids = train_log['enrollment_id'].unique()\n",
    "print(en_ids.shape)"
   ]
  },
  {
   "cell_type": "code",
   "execution_count": 9,
   "metadata": {},
   "outputs": [
    {
     "data": {
      "text/plain": [
       "array([114181,  50551,  25326, ...,  34879, 160308,  87026])"
      ]
     },
     "execution_count": 9,
     "metadata": {},
     "output_type": "execute_result"
    }
   ],
   "source": [
    "np.random.shuffle(en_ids)\n",
    "en_ids"
   ]
  },
  {
   "cell_type": "code",
   "execution_count": 10,
   "metadata": {},
   "outputs": [],
   "source": [
    "tr_en_ids = en_ids[:train_num]\n",
    "ts_en_ids = en_ids[train_num:]"
   ]
  },
  {
   "cell_type": "code",
   "execution_count": 11,
   "metadata": {},
   "outputs": [
    {
     "data": {
      "text/plain": [
       "0.6222527472527473"
      ]
     },
     "execution_count": 11,
     "metadata": {},
     "output_type": "execute_result"
    }
   ],
   "source": [
    "(train_log[train_log['enrollment_id'].isin(ts_en_ids)]['result'].values.sum()/4)/728"
   ]
  },
  {
   "cell_type": "code",
   "execution_count": 12,
   "metadata": {},
   "outputs": [
    {
     "data": {
      "text/plain": [
       "0.64925"
      ]
     },
     "execution_count": 12,
     "metadata": {},
     "output_type": "execute_result"
    }
   ],
   "source": [
    "(train_log[train_log['enrollment_id'].isin(tr_en_ids)]['result'].values.sum()/4)/8000"
   ]
  },
  {
   "cell_type": "code",
   "execution_count": 13,
   "metadata": {},
   "outputs": [
    {
     "data": {
      "text/plain": [
       "(8000,)"
      ]
     },
     "execution_count": 13,
     "metadata": {},
     "output_type": "execute_result"
    }
   ],
   "source": [
    "tr_en_ids.shape"
   ]
  },
  {
   "cell_type": "code",
   "execution_count": 14,
   "metadata": {},
   "outputs": [
    {
     "data": {
      "text/plain": [
       "(728,)"
      ]
     },
     "execution_count": 14,
     "metadata": {},
     "output_type": "execute_result"
    }
   ],
   "source": [
    "ts_en_ids.shape"
   ]
  },
  {
   "cell_type": "markdown",
   "metadata": {},
   "source": [
    "<h4>Datagen Creation</h4>"
   ]
  },
  {
   "cell_type": "code",
   "execution_count": 15,
   "metadata": {},
   "outputs": [],
   "source": [
    "import random\n",
    "from sklearn import preprocessing\n",
    "minmaxscaler_as = preprocessing.MinMaxScaler(feature_range = (0,1))\n",
    "def datagen(batchsize = 32, mode = 'train'):\n",
    "    counter = 0\n",
    "    x, y = [],[]\n",
    "    while True:\n",
    "        if mode == 'train':\n",
    "            idx = random.choice(tr_en_ids)\n",
    "        else:\n",
    "            idx =random.choice(ts_en_ids)\n",
    "        temp = train_log[train_log['enrollment_id']==idx]\n",
    "        row = []\n",
    "        for i in range(temp.shape[0]):\n",
    "            row.append(temp.iloc[i].values[2:-1]) #2:-1\n",
    "        x.append(row)\n",
    "\n",
    "        y.append(temp.iloc[0].values[-1])\n",
    "        \n",
    "        counter+=1\n",
    "        if counter==batchsize:\n",
    "           \n",
    "            yield np.array(x),np.array(y)\n",
    "            counter = 0\n",
    "            x, y = [], [] "
   ]
  },
  {
   "cell_type": "code",
   "execution_count": 16,
   "metadata": {},
   "outputs": [],
   "source": [
    "tr_dg  = datagen(mode='train')\n",
    "ts_dg = datagen(mode = 'test', batchsize=32)"
   ]
  },
  {
   "cell_type": "markdown",
   "metadata": {},
   "source": [
    "<h4>Model Architecture</h4>"
   ]
  },
  {
   "cell_type": "code",
   "execution_count": 17,
   "metadata": {},
   "outputs": [
    {
     "name": "stdout",
     "output_type": "stream",
     "text": [
      "Model: \"sequential_1\"\n",
      "_________________________________________________________________\n",
      "Layer (type)                 Output Shape              Param #   \n",
      "=================================================================\n",
      "gru_1 (GRU)                  (32, 4, 50)               9000      \n",
      "_________________________________________________________________\n",
      "dropout_1 (Dropout)          (32, 4, 50)               0         \n",
      "_________________________________________________________________\n",
      "gru_2 (GRU)                  (32, 4, 50)               15150     \n",
      "_________________________________________________________________\n",
      "dropout_2 (Dropout)          (32, 4, 50)               0         \n",
      "_________________________________________________________________\n",
      "gru_3 (GRU)                  (32, 4, 50)               15150     \n",
      "_________________________________________________________________\n",
      "dropout_3 (Dropout)          (32, 4, 50)               0         \n",
      "_________________________________________________________________\n",
      "gru_4 (GRU)                  (32, 50)                  15150     \n",
      "_________________________________________________________________\n",
      "dropout_4 (Dropout)          (32, 50)                  0         \n",
      "_________________________________________________________________\n",
      "dense_1 (Dense)              (32, 1)                   51        \n",
      "=================================================================\n",
      "Total params: 54,501\n",
      "Trainable params: 54,501\n",
      "Non-trainable params: 0\n",
      "_________________________________________________________________\n"
     ]
    }
   ],
   "source": [
    "# The GRU architecture\n",
    "regressorGRU = Sequential()\n",
    "# First GRU layer with Dropout regularisation\n",
    "regressorGRU.add(GRU(units=50, return_sequences=True, batch_input_shape=(32, 4,9),activation='tanh'))\n",
    "regressorGRU.add(Dropout(0.2))\n",
    "#Second GRU layer\n",
    "regressorGRU.add(GRU(units=50, return_sequences=True, batch_input_shape=(32, 4,9),activation='tanh'))\n",
    "regressorGRU.add(Dropout(0.2))\n",
    "# # # Third GRU layer\n",
    "regressorGRU.add(GRU(units=50, return_sequences=True, batch_input_shape=(32, 4,9), activation='tanh'))\n",
    "regressorGRU.add(Dropout(0.2))\n",
    "# Fourth GRU layer\n",
    "regressorGRU.add(GRU(units=50, activation='tanh'))\n",
    "regressorGRU.add(Dropout(0.2))\n",
    "# The output layer\n",
    "regressorGRU.add(Dense(units=1))\n",
    "regressorGRU.summary()"
   ]
  },
  {
   "cell_type": "code",
   "execution_count": 18,
   "metadata": {},
   "outputs": [
    {
     "name": "stdout",
     "output_type": "stream",
     "text": [
      "WARNING:tensorflow:From /Users/jyoti/anaconda3/lib/python3.7/site-packages/keras/backend/tensorflow_backend.py:3172: add_dispatch_support.<locals>.wrapper (from tensorflow.python.ops.array_ops) is deprecated and will be removed in a future version.\n",
      "Instructions for updating:\n",
      "Use tf.where in 2.0, which has the same broadcast rule as np.where\n"
     ]
    }
   ],
   "source": [
    "# Compiling the RNN\n",
    "\n",
    "# regressorGRU.compile(optimizer=SGD(lr=0.01, decay=1e-7, momentum=0.9, nesterov=False),loss='mean_squared_error',metrics=['accuracy',Precision(), Recall()])\n",
    "regressorGRU.compile(optimizer='adam',\n",
    "              loss='binary_crossentropy',\n",
    "              metrics=['accuracy',Precision(), Recall()])"
   ]
  },
  {
   "cell_type": "markdown",
   "metadata": {},
   "source": [
    "<h4> Early Stopping and Check Points</h4>"
   ]
  },
  {
   "cell_type": "code",
   "execution_count": 19,
   "metadata": {},
   "outputs": [],
   "source": [
    "\n",
    "# Create Checkpoint and Early Stopping\n",
    "checkpoint = ModelCheckpoint(\"GRU_Adam_No_Regularisation.h5\", monitor='val_accuracy', verbose=1, save_best_only=True, save_weights_only=True, mode='auto', period=1)\n",
    "early = EarlyStopping(monitor='val_accuracy', min_delta=0, patience=8, verbose=1, mode='auto')"
   ]
  },
  {
   "cell_type": "code",
   "execution_count": 20,
   "metadata": {
    "scrolled": true
   },
   "outputs": [
    {
     "name": "stdout",
     "output_type": "stream",
     "text": [
      "WARNING:tensorflow:From /Users/jyoti/anaconda3/lib/python3.7/site-packages/keras/backend/tensorflow_backend.py:422: The name tf.global_variables is deprecated. Please use tf.compat.v1.global_variables instead.\n",
      "\n",
      "Epoch 1/200\n",
      "250/250 [==============================] - 42s 169ms/step - loss: 0.9067 - accuracy: 0.5439 - precision_1: 0.7238 - recall_1: 0.4905 - val_loss: 0.7766 - val_accuracy: 0.4348 - val_precision_1: 0.6552 - val_recall_1: 0.2426\n",
      "\n",
      "Epoch 00001: val_accuracy improved from -inf to 0.43478, saving model to GRU_Adam_No_Regularisation.h5\n",
      "Epoch 2/200\n",
      "250/250 [==============================] - 30s 121ms/step - loss: 1.1177 - accuracy: 0.7155 - precision_1: 0.7901 - recall_1: 0.8065 - val_loss: 0.8724 - val_accuracy: 0.7745 - val_precision_1: 0.7822 - val_recall_1: 0.8957\n",
      "\n",
      "Epoch 00002: val_accuracy improved from 0.43478 to 0.77446, saving model to GRU_Adam_No_Regularisation.h5\n",
      "Epoch 3/200\n",
      "250/250 [==============================] - 27s 110ms/step - loss: 1.1016 - accuracy: 0.6802 - precision_1: 0.7612 - recall_1: 0.7747 - val_loss: 0.5868 - val_accuracy: 0.7867 - val_precision_1: 0.7875 - val_recall_1: 0.9281cy: 0.7085 - - ETA: 8s - loss: 1.3012 - accuracy: 0.6656 - precision_1: 0.7703  - ETA: 7s - loss: 1.2688 - accuracy: 0.6700 - precision_1: 0. - ETA: 4s - loss: 1.2042 - accuracy: 0.6716 - precision_1: - ETA: 1s - loss: 1.1400 - accuracy: 0.6763 - precision_1: 0.7609\n",
      "\n",
      "Epoch 00003: val_accuracy improved from 0.77446 to 0.78668, saving model to GRU_Adam_No_Regularisation.h5\n",
      "Epoch 4/200\n",
      "250/250 [==============================] - 27s 110ms/step - loss: 0.5591 - accuracy: 0.7843 - precision_1: 0.7972 - recall_1: 0.9034 - val_loss: 0.5687 - val_accuracy: 0.7215 - val_precision_1: 0.7009 - val_recall_1: 0.97197681 - precision_1: 0.7803 - recall_1: 0. - ETA: 20s - loss: 0.5819 - accuracy: 0.7704 - precision_1: 0.7 - ETA: 14s - loss: 0.5832 - accuracy: 0.7748 - precision_1: 0.7832 -  - ETA: 13s - loss: 0.5853 - accuracy: 0.7744 - precision_1: 0.7 - ETA: 12s - loss: - ETA: 8s - loss: 0.5771 - accuracy: 0.7805 - precision_1: 0.7910 - rec - ETA: 7s - loss: 0.5690 - accuracy: 0.7828 - precision_1: 0.7931 - recall_1: 0.90 - ETA: 7s - loss: 0.5670 - accuracy: 0.783 - ETA: 2s - loss: 0.5557 - accuracy: 0.7841 - precision_1: 0.7965 - recal - ETA: 1s - loss: 0.5562 - accuracy: 0.7850 - precision_1: 0.7983 -\n",
      "\n",
      "Epoch 00004: val_accuracy did not improve from 0.78668\n",
      "Epoch 5/200\n",
      "250/250 [==============================] - 27s 108ms/step - loss: 0.8558 - accuracy: 0.6666 - precision_1: 0.7370 - recall_1: 0.7696 - val_loss: 0.4975 - val_accuracy: 0.7962 - val_precision_1: 0.8125 - val_recall_1: 0.8851 - precision_1: 0.7212 -  - ETA: 10s - loss: 1.0750 - accuracy: 0.6103 - precision_1: 0.7193 - ETA: 9s - loss: 1.0452 - accuracy: 0.6155 - precision - ETA: 6s - loss: 0.9703 - accuracy: 0.6373 - precision_1: - ETA: 4s - loss: 0.9165 - accuracy: 0.6495 - precision_1: 0.7 - ETA: 2s - loss: 0.8795 - accuracy: 0.6588 - precision_1: 0.73\n",
      "\n",
      "Epoch 00005: val_accuracy improved from 0.78668 to 0.79620, saving model to GRU_Adam_No_Regularisation.h5\n",
      "Epoch 6/200\n",
      "250/250 [==============================] - 27s 108ms/step - loss: 0.5604 - accuracy: 0.7462 - precision_1: 0.7909 - recall_1: 0.8282 - val_loss: 0.3638 - val_accuracy: 0.7867 - val_precision_1: 0.7869 - val_recall_1: 0.8787accuracy: 0.7 - ETA: 17s - loss: 0.5913 - accuracy: 0.7450  - ETA: 10s - lo - ETA: 4s - loss: 0.5760 - accuracy: 0.7395 - precision_1: - ETA: 1s - loss: 0.5661 - accuracy: 0.7437 - precision_1: 0.7902 \n",
      "\n",
      "Epoch 00006: val_accuracy did not improve from 0.79620\n",
      "Epoch 7/200\n",
      "250/250 [==============================] - 27s 108ms/step - loss: 0.5880 - accuracy: 0.7598 - precision_1: 0.7757 - recall_1: 0.8872 - val_loss: 0.5273 - val_accuracy: 0.7894 - val_precision_1: 0.7722 - val_recall_1: 0.9414n_1: 0.7 - ETA: 6s - loss: 0.6041 - accuracy: 0.7579 - precision_1: 0.7708 - recall_1: 0 - ETA: 5s - loss: 0.6012 - accuracy: 0.7569 - precision_1: 0.77 - ETA: 3s - loss: 0.5945 - accuracy: 0.7576 - precision_1 - ETA: 0s - loss: 0.5887 - accuracy: 0.7602 - precision_1: 0.7759 - recall_1\n",
      "\n",
      "Epoch 00007: val_accuracy did not improve from 0.79620\n",
      "Epoch 8/200\n",
      "250/250 [==============================] - 27s 109ms/step - loss: 0.5387 - accuracy: 0.7869 - precision_1: 0.8154 - recall_1: 0.8722 - val_loss: 0.2980 - val_accuracy: 0.8288 - val_precision_1: 0.8479 - val_recall_1: 0.9122 0.5219 - ETA: 13s - loss: 0.5294 - ac - ETA: 3s - loss: 0.5319 - accuracy: 0.7845 - precision_1: 0.8098 - recall_1 - ETA: 3s - loss: 0.5339 - accuracy: 0.7852 - precisi\n",
      "\n",
      "Epoch 00008: val_accuracy improved from 0.79620 to 0.82880, saving model to GRU_Adam_No_Regularisation.h5\n",
      "Epoch 9/200\n",
      "250/250 [==============================] - 27s 108ms/step - loss: 0.5090 - accuracy: 0.7850 - precision_1: 0.8084 - recall_1: 0.8694 - val_loss: 0.5132 - val_accuracy: 0.7976 - val_precision_1: 0.8199 - val_recall_1: 0.85818 - accuracy: 0.7908 - prec - ETA: 17s - loss: 0.5076 - accuracy: 0.7870 - precision_1: 0.8112 - reca - ETA: 17s - loss: 0.5033 - accuracy: 0.7881 - precision_1: 0.8 - ETA: 16s - loss: 0.5011 - accuracy: 0.7910 - precision_1: 0.8137 - recall_1:  - ETA: 15s - loss: 0.4993 - accuracy: 0.7907 - precisio - ETA: 14s - loss: 0.4971 - acc - ETA: 4s - loss: 0.5015 - accuracy: 0.7890 - precision_1: 0.8184 - ETA: 2s - loss: 0.5111 - accuracy: 0.7843 - precision_1: 0.80\n",
      "\n",
      "Epoch 00009: val_accuracy did not improve from 0.82880\n",
      "Epoch 10/200\n",
      "250/250 [==============================] - 28s 111ms/step - loss: 0.4927 - accuracy: 0.7906 - precision_1: 0.8173 - recall_1: 0.8731 - val_loss: 0.4356 - val_accuracy: 0.8193 - val_precision_1: 0.7989 - val_recall_1: 0.9449 0.4974 - accuracy: 0.7861 -  - ETA: 18s - loss: 0.4951 - accuracy: 0.7886 - precis - ETA: 17s - loss: 0.4923 - accuracy: 0.7914  - ETA: 15s - loss: 0.4879 - accuracy: 0.7909 - precision_1: 0.821 - ETA: 14s - loss: 0.4891 - accuracy: - ETA: 12s - loss: 0.4893 - accuracy: 0.7887 - precis - ETA: 10s - loss: 0.4845 - accu - ETA: 5s - loss: 0.4901 - accuracy: 0.7936 - precision_1: 0.8214 - recall_1: 0. - ETA: 4s - loss: 0.4904 - accuracy: 0.7930 - precision_1: 0.8209 - - ETA: 3s - loss: 0.4943 - accuracy: 0.7928 - precision_1: 0.8201 - reca - ETA: 1s - loss: 0.4926 - accuracy: 0.7921 - precision_1: 0.8193\n",
      "\n",
      "Epoch 00010: val_accuracy did not improve from 0.82880\n",
      "Epoch 11/200\n",
      "250/250 [==============================] - 28s 112ms/step - loss: 0.9471 - accuracy: 0.6601 - precision_1: 0.7369 - recall_1: 0.7371 - val_loss: 0.5869 - val_accuracy: 0.6807 - val_precision_1: 0.6581 - val_recall_1: 0.98200 - accuracy: 0.8002  - ETA: 17s - loss: 0.4921 - accuracy: 0.7981 - precision_1: 0.8201 - recall_1: 0. - ETA: 17s - loss: 0.4939 - accuracy: 0.7 - ETA: 15s -  - ETA: 4s - loss: 1.0204 - accuracy: 0.6531  - ETA: 0s - loss: 0.9530 - accuracy: 0.6590 - precision_1: 0.7377 - recall_1: 0.\n",
      "\n",
      "Epoch 00011: val_accuracy did not improve from 0.82880\n",
      "Epoch 12/200\n",
      "250/250 [==============================] - 27s 109ms/step - loss: 0.5192 - accuracy: 0.7710 - precision_1: 0.7764 - recall_1: 0.9080 - val_loss: 0.3961 - val_accuracy: 0.8043 - val_precision_1: 0.8171 - val_recall_1: 0.8816: 0.7270 - precision_1: 0.7239 - re - ETA: 17s - loss: 0.5524 - accuracy: 0.7350 - precision_1: 0 - ETA: 16s - loss: 0.5456 - accuracy: 0.7432 - precision_1: 0.7383 -  - ETA: 15s - loss: 0.5409 - accuracy: 0.747 - ETA: 13s - ETA: 9s - loss: 0.5269 - accuracy: 0.7583 - precision_1: 0.7585 - recall_ - ETA: 8s - loss: 0.5268 - accuracy: 0.7599 - precision_1: 0.7612 - recall_1: 0.91 - ETA: 8s - loss: 0.5267 - accuracy: 0.7598 - precision_1: 0.7614 - rec - ETA: 7s - loss: 0.5260 - accuracy: 0.7613 - precision_1: 0.7628 - rec - ETA: 5s - loss: 0.5230 - accuracy: 0.7651 - prec - ETA: 2s - loss: 0.5153 - accuracy: 0.7698 - precision_1: 0\n",
      "\n",
      "Epoch 00012: val_accuracy did not improve from 0.82880\n",
      "Epoch 13/200\n",
      "250/250 [==============================] - 26s 105ms/step - loss: 0.5038 - accuracy: 0.7906 - precision_1: 0.8129 - recall_1: 0.8869 - val_loss: 0.4417 - val_accuracy: 0.8043 - val_precision_1: 0.8164 - val_recall_1: 0.8872 - loss: 0.5248 - accuracy: 0.8078 - precision_1: 0.8223 - recall - ETA: 18s - loss: 0.5180 - accuracy: - ETA: 15s - loss: 0.52 - ETA: 12s - loss: 0.5199 - accuracy: 0.7948 - precision_1: 0.8168 - recall_1: - ETA: 5s - loss: 0.5103 - accuracy: 0.7885 - precisio - ETA: 2s - loss: 0.5035 - accuracy: 0.7913 - precision_1: 0.8099 - re - ETA: 0s - loss: 0.5044 - accuracy: 0.7910 - precision_1: 0.8115 - recall_1: 0.88 - ETA: 0s - loss: 0.5048 - accuracy: 0.7901 - precision_1: 0.8112 - recall_1:\n",
      "\n",
      "Epoch 00013: val_accuracy did not improve from 0.82880\n",
      "Epoch 14/200\n",
      "250/250 [==============================] - 26s 104ms/step - loss: 0.4938 - accuracy: 0.8009 - precision_1: 0.8385 - recall_1: 0.8620 - val_loss: 0.3925 - val_accuracy: 0.8356 - val_precision_1: 0.8429 - val_recall_1: 0.9037\n",
      "\n",
      "Epoch 00014: val_accuracy improved from 0.82880 to 0.83560, saving model to GRU_Adam_No_Regularisation.h5\n",
      "Epoch 15/200\n",
      "250/250 [==============================] - 26s 106ms/step - loss: 0.5051 - accuracy: 0.8051 - precision_1: 0.8357 - recall_1: 0.8736 - val_loss: 0.4157 - val_accuracy: 0.8125 - val_precision_1: 0.8353 - val_recall_1: 0.88452 - ETA: 7s - loss: 0.5036 - accuracy: 0.80 - ETA: 3s - loss: 0.5055 - accuracy: 0.8072 - pr\n",
      "\n",
      "Epoch 00015: val_accuracy did not improve from 0.83560\n",
      "Epoch 16/200\n",
      "250/250 [==============================] - 26s 106ms/step - loss: 0.4762 - accuracy: 0.8102 - precision_1: 0.8337 - recall_1: 0.8894 - val_loss: 0.3684 - val_accuracy: 0.8166 - val_precision_1: 0.8429 - val_recall_1: 0.8769\n",
      "\n",
      "Epoch 00016: val_accuracy did not improve from 0.83560\n",
      "Epoch 17/200\n",
      "250/250 [==============================] - 26s 104ms/step - loss: 0.4996 - accuracy: 0.8026 - precision_1: 0.8254 - recall_1: 0.8803 - val_loss: 0.4885 - val_accuracy: 0.8207 - val_precision_1: 0.8184 - val_recall_1: 0.9091\n",
      "\n",
      "Epoch 00017: val_accuracy did not improve from 0.83560\n",
      "Epoch 18/200\n",
      "250/250 [==============================] - 29s 115ms/step - loss: 0.4791 - accuracy: 0.8054 - precision_1: 0.8217 - recall_1: 0.8902 - val_loss: 0.3299 - val_accuracy: 0.8084 - val_precision_1: 0.8165 - val_recall_1: 0.8839ccuracy: 0.8075 - precision_1: 0.8200 - recall_1: 0. - ETA: 9s - loss: 0.4840 -  - ETA: 2s - loss: 0.4826 - accuracy: 0.8037 - precision_1\n",
      "\n",
      "Epoch 00018: val_accuracy did not improve from 0.83560\n",
      "Epoch 19/200\n",
      "250/250 [==============================] - 29s 115ms/step - loss: 0.4753 - accuracy: 0.8126 - precision_1: 0.8392 - recall_1: 0.8795 - val_loss: 0.4064 - val_accuracy: 0.8315 - val_precision_1: 0.8268 - val_recall_1: 0.9093\n",
      "\n",
      "Epoch 00019: val_accuracy did not improve from 0.83560\n",
      "Epoch 20/200\n",
      "250/250 [==============================] - 30s 122ms/step - loss: 0.5441 - accuracy: 0.7334 - precision_1: 0.8094 - recall_1: 0.7740 - val_loss: 0.4211 - val_accuracy: 0.8030 - val_precision_1: 0.8394 - val_recall_1: 0.8622\n",
      "\n",
      "Epoch 00020: val_accuracy did not improve from 0.83560\n",
      "Epoch 21/200\n",
      "250/250 [==============================] - 35s 140ms/step - loss: 0.5127 - accuracy: 0.7955 - precision_1: 0.8174 - recall_1: 0.8844 - val_loss: 0.4921 - val_accuracy: 0.8166 - val_precision_1: 0.8121 - val_recall_1: 0.9224\n",
      "\n",
      "Epoch 00021: val_accuracy did not improve from 0.83560\n",
      "Epoch 22/200\n",
      "250/250 [==============================] - 39s 155ms/step - loss: 0.5151 - accuracy: 0.7900 - precision_1: 0.7982 - recall_1: 0.9022 - val_loss: 0.2963 - val_accuracy: 0.8111 - val_precision_1: 0.8228 - val_recall_1: 0.8860\n",
      "\n",
      "Epoch 00022: val_accuracy did not improve from 0.83560\n",
      "Epoch 00022: early stopping\n"
     ]
    }
   ],
   "source": [
    "history = regressorGRU.fit(tr_dg, epochs=200,verbose=1, validation_data=ts_dg, steps_per_epoch=250, validation_steps=23,callbacks=[checkpoint,early])\n"
   ]
  },
  {
   "cell_type": "markdown",
   "metadata": {},
   "source": [
    "<h4> Plots</h4>"
   ]
  },
  {
   "cell_type": "code",
   "execution_count": 28,
   "metadata": {},
   "outputs": [
    {
     "name": "stdout",
     "output_type": "stream",
     "text": [
      "dict_keys(['val_loss', 'val_accuracy', 'val_precision_1', 'val_recall_1', 'loss', 'accuracy', 'precision_1', 'recall_1'])\n"
     ]
    },
    {
     "data": {
      "image/png": "[encoded data removed]",
      "text/plain": [
       "<Figure size 432x288 with 1 Axes>"
      ]
     },
     "metadata": {
      "needs_background": "light"
     },
     "output_type": "display_data"
    }
   ],
   "source": [
    "# Plot of Training vs Validation Loss\n",
    "history_dict = history.history\n",
    "print(history_dict.keys())\n",
    "loss_values = history_dict['loss']\n",
    "val_loss_values = history_dict['val_loss']\n",
    "epochs = range(1, len(history_dict['accuracy']) + 1)\n",
    "plt.plot(epochs, loss_values, 'r', label='Training loss')\n",
    "plt.plot(epochs, val_loss_values, 'g', label='Validation loss')\n",
    "plt.title('Training and validation loss')\n",
    "plt.xlabel('Epochs')\n",
    "plt.ylabel('Loss')\n",
    "plt.legend()\n",
    "plt.show()"
   ]
  },
  {
   "cell_type": "code",
   "execution_count": 29,
   "metadata": {},
   "outputs": [
    {
     "name": "stdout",
     "output_type": "stream",
     "text": [
      "dict_keys(['val_loss', 'val_accuracy', 'val_precision_1', 'val_recall_1', 'loss', 'accuracy', 'precision_1', 'recall_1'])\n"
     ]
    },
    {
     "data": {
      "image/png": "[encoded data removed]",
      "text/plain": [
       "<Figure size 432x288 with 1 Axes>"
      ]
     },
     "metadata": {
      "needs_background": "light"
     },
     "output_type": "display_data"
    }
   ],
   "source": [
    "# Plot of Training vs Validation Accuracy\n",
    "hist_dict = history.history\n",
    "print(history_dict.keys())\n",
    "accuracy_values = history_dict['accuracy']\n",
    "val_accuracy_values = history_dict['val_accuracy']\n",
    "epochs = range(1, len(history_dict['accuracy']) + 1)\n",
    "plt.plot(epochs, accuracy_values, 'r', label='Training Accuracy')\n",
    "plt.plot(epochs, val_accuracy_values, 'g', label='Validation accuracy')\n",
    "plt.title('Training and validation Accuracy')\n",
    "plt.xlabel('Epochs')\n",
    "plt.ylabel('Accuracy')\n",
    "plt.legend()\n",
    "plt.show()"
   ]
  },
  {
   "cell_type": "markdown",
   "metadata": {},
   "source": [
    "<h4>Calculation of metrics</h3>"
   ]
  },
  {
   "cell_type": "code",
   "execution_count": 35,
   "metadata": {},
   "outputs": [
    {
     "name": "stdout",
     "output_type": "stream",
     "text": [
      "Accuracy: 0.822\n"
     ]
    }
   ],
   "source": [
    "print('Accuracy: {:0.3f}'.format(evaluate [1]))"
   ]
  },
  {
   "cell_type": "code",
   "execution_count": 36,
   "metadata": {},
   "outputs": [
    {
     "name": "stdout",
     "output_type": "stream",
     "text": [
      "Precision: 0.844\n"
     ]
    }
   ],
   "source": [
    "print('Precision: {:0.3f}'.format(evaluate [2]))"
   ]
  },
  {
   "cell_type": "code",
   "execution_count": 37,
   "metadata": {},
   "outputs": [
    {
     "name": "stdout",
     "output_type": "stream",
     "text": [
      "Recall: 0.873\n"
     ]
    }
   ],
   "source": [
    "print('Recall: {:0.3f}'.format(evaluate [3]))"
   ]
  }
 ],
 "metadata": {
  "kernelspec": {
   "display_name": "Python 3",
   "language": "python",
   "name": "python3"
  },
  "language_info": {
   "codemirror_mode": {
    "name": "ipython",
    "version": 3
   },
   "file_extension": ".py",
   "mimetype": "text/x-python",
   "name": "python",
   "nbconvert_exporter": "python",
   "pygments_lexer": "ipython3",
   "version": "3.7.3"
  }
 },
 "nbformat": 4,
 "nbformat_minor": 2
}

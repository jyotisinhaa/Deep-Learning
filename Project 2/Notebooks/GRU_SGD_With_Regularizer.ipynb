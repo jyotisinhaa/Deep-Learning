{
 "cells": [
  {
   "cell_type": "markdown",
   "metadata": {},
   "source": [
    "<h3>Importing Libraries</h3>"
   ]
  },
  {
   "cell_type": "code",
   "execution_count": 31,
   "metadata": {},
   "outputs": [],
   "source": [
    "# Importing Libraries\n",
    "from keras.backend.tensorflow_backend import set_session\n",
    "from keras.models import Sequential\n",
    "from keras.layers import Dense\n",
    "from keras.layers import TimeDistributed\n",
    "from keras.layers import LSTM, Dropout\n",
    "from keras import optimizers\n",
    "import pandas as pd\n",
    "import numpy as np\n",
    "from datetime import datetime, date, timedelta\n",
    "from keras.callbacks import ModelCheckpoint, EarlyStopping\n",
    "from sklearn.metrics import confusion_matrix, roc_curve, auc,accuracy_score\n",
    "from itertools import cycle\n",
    "from keras.models import load_model\n",
    "import itertools\n",
    "import matplotlib.pyplot as plt\n",
    "from sklearn.preprocessing import MinMaxScaler\n",
    "from keras.models import Sequential\n",
    "from keras.layers import Dense, LSTM, Dropout, GRU, Bidirectional\n",
    "from keras.optimizers import SGD\n",
    "import math\n",
    "from sklearn.metrics import mean_squared_error\n",
    "import sklearn.metrics as metrics\n",
    "from keras.metrics import Precision, Recall"
   ]
  },
  {
   "cell_type": "markdown",
   "metadata": {},
   "source": [
    "<h4>Importing Dataset</h4>"
   ]
  },
  {
   "cell_type": "code",
   "execution_count": 32,
   "metadata": {},
   "outputs": [],
   "source": [
    "train_log= pd.read_csv('/Users/jyoti/OneDrive/DLFinal/Project2/norm.csv')"
   ]
  },
  {
   "cell_type": "code",
   "execution_count": 33,
   "metadata": {},
   "outputs": [
    {
     "data": {
      "text/plain": [
       "Index(['enrollment_id', 'date', 'access', 'discussion', 'navigate',\n",
       "       'page_close', 'problem', 'video', 'wiki', 'session', 'tot_time',\n",
       "       'result'],\n",
       "      dtype='object')"
      ]
     },
     "execution_count": 33,
     "metadata": {},
     "output_type": "execute_result"
    }
   ],
   "source": [
    "train_log.columns"
   ]
  },
  {
   "cell_type": "code",
   "execution_count": 34,
   "metadata": {},
   "outputs": [],
   "source": [
    "df1 = train_log[\"access\"]"
   ]
  },
  {
   "cell_type": "code",
   "execution_count": 35,
   "metadata": {},
   "outputs": [
    {
     "data": {
      "text/plain": [
       "[<matplotlib.lines.Line2D at 0x1529b5160>]"
      ]
     },
     "execution_count": 35,
     "metadata": {},
     "output_type": "execute_result"
    },
    {
     "data": {
      "image/png": "[encoded data removed]",
      "text/plain": [
       "<Figure size 432x288 with 1 Axes>"
      ]
     },
     "metadata": {
      "needs_background": "light"
     },
     "output_type": "display_data"
    }
   ],
   "source": [
    "import matplotlib.pyplot as plt\n",
    "plt.plot(df1)"
   ]
  },
  {
   "cell_type": "code",
   "execution_count": 36,
   "metadata": {},
   "outputs": [
    {
     "data": {
      "text/plain": [
       "[<matplotlib.lines.Line2D at 0x152c3aa20>]"
      ]
     },
     "execution_count": 36,
     "metadata": {},
     "output_type": "execute_result"
    },
    {
     "data": {
      "image/png": "[encoded data removed]",
      "text/plain": [
       "<Figure size 432x288 with 1 Axes>"
      ]
     },
     "metadata": {
      "needs_background": "light"
     },
     "output_type": "display_data"
    }
   ],
   "source": [
    "df2 = train_log[\"session\"]\n",
    "import matplotlib.pyplot as plt\n",
    "plt.plot(df2)"
   ]
  },
  {
   "cell_type": "code",
   "execution_count": 37,
   "metadata": {},
   "outputs": [],
   "source": [
    "train_num = 8000\n",
    "test_num = 728"
   ]
  },
  {
   "cell_type": "code",
   "execution_count": 38,
   "metadata": {},
   "outputs": [
    {
     "name": "stdout",
     "output_type": "stream",
     "text": [
      "(8728,)\n"
     ]
    }
   ],
   "source": [
    "en_ids = train_log['enrollment_id'].unique()\n",
    "print(en_ids.shape)"
   ]
  },
  {
   "cell_type": "code",
   "execution_count": 39,
   "metadata": {},
   "outputs": [
    {
     "data": {
      "text/plain": [
       "array([163135, 176434,  61095, ..., 138905,  48297,  83530])"
      ]
     },
     "execution_count": 39,
     "metadata": {},
     "output_type": "execute_result"
    }
   ],
   "source": [
    "np.random.shuffle(en_ids)\n",
    "en_ids"
   ]
  },
  {
   "cell_type": "code",
   "execution_count": 40,
   "metadata": {},
   "outputs": [],
   "source": [
    "tr_en_ids = en_ids[:train_num]\n",
    "ts_en_ids = en_ids[train_num:]"
   ]
  },
  {
   "cell_type": "code",
   "execution_count": 41,
   "metadata": {},
   "outputs": [
    {
     "data": {
      "text/plain": [
       "0.6318681318681318"
      ]
     },
     "execution_count": 41,
     "metadata": {},
     "output_type": "execute_result"
    }
   ],
   "source": [
    "(train_log[train_log['enrollment_id'].isin(ts_en_ids)]['result'].values.sum()/4)/728"
   ]
  },
  {
   "cell_type": "code",
   "execution_count": 42,
   "metadata": {},
   "outputs": [
    {
     "data": {
      "text/plain": [
       "0.648375"
      ]
     },
     "execution_count": 42,
     "metadata": {},
     "output_type": "execute_result"
    }
   ],
   "source": [
    "(train_log[train_log['enrollment_id'].isin(tr_en_ids)]['result'].values.sum()/4)/8000"
   ]
  },
  {
   "cell_type": "code",
   "execution_count": 43,
   "metadata": {},
   "outputs": [
    {
     "data": {
      "text/plain": [
       "(8000,)"
      ]
     },
     "execution_count": 43,
     "metadata": {},
     "output_type": "execute_result"
    }
   ],
   "source": [
    "tr_en_ids.shape"
   ]
  },
  {
   "cell_type": "code",
   "execution_count": 44,
   "metadata": {},
   "outputs": [
    {
     "data": {
      "text/plain": [
       "(728,)"
      ]
     },
     "execution_count": 44,
     "metadata": {},
     "output_type": "execute_result"
    }
   ],
   "source": [
    "ts_en_ids.shape"
   ]
  },
  {
   "cell_type": "markdown",
   "metadata": {},
   "source": [
    "<h4>Datagen Creation</h4>"
   ]
  },
  {
   "cell_type": "code",
   "execution_count": 45,
   "metadata": {},
   "outputs": [],
   "source": [
    "import random\n",
    "from sklearn import preprocessing\n",
    "minmaxscaler_as = preprocessing.MinMaxScaler(feature_range = (0,1))\n",
    "def datagen(batchsize = 32, mode = 'train'):\n",
    "    counter = 0\n",
    "    x, y = [],[]\n",
    "    while True:\n",
    "        if mode == 'train':\n",
    "            idx = random.choice(tr_en_ids)\n",
    "        else:\n",
    "            idx =random.choice(ts_en_ids)\n",
    "        temp = train_log[train_log['enrollment_id']==idx]\n",
    "        row = []\n",
    "        for i in range(temp.shape[0]):\n",
    "            row.append(temp.iloc[i].values[2:-1]) #2:-1\n",
    "        x.append(row)\n",
    "\n",
    "        y.append(temp.iloc[0].values[-1])\n",
    "        \n",
    "        counter+=1\n",
    "        if counter==batchsize:\n",
    "           \n",
    "            yield np.array(x),np.array(y)\n",
    "            counter = 0\n",
    "            x, y = [], [] "
   ]
  },
  {
   "cell_type": "code",
   "execution_count": 46,
   "metadata": {},
   "outputs": [],
   "source": [
    "tr_dg  = datagen(mode='train')\n",
    "ts_dg = datagen(mode = 'test', batchsize=32)"
   ]
  },
  {
   "cell_type": "markdown",
   "metadata": {},
   "source": [
    "<h4>Model Architecture</h4>"
   ]
  },
  {
   "cell_type": "code",
   "execution_count": 47,
   "metadata": {},
   "outputs": [
    {
     "name": "stdout",
     "output_type": "stream",
     "text": [
      "Model: \"sequential_2\"\n",
      "_________________________________________________________________\n",
      "Layer (type)                 Output Shape              Param #   \n",
      "=================================================================\n",
      "gru_5 (GRU)                  (32, 4, 50)               9000      \n",
      "_________________________________________________________________\n",
      "dropout_6 (Dropout)          (32, 4, 50)               0         \n",
      "_________________________________________________________________\n",
      "gru_6 (GRU)                  (32, 4, 50)               15150     \n",
      "_________________________________________________________________\n",
      "dropout_7 (Dropout)          (32, 4, 50)               0         \n",
      "_________________________________________________________________\n",
      "gru_7 (GRU)                  (32, 4, 50)               15150     \n",
      "_________________________________________________________________\n",
      "dropout_8 (Dropout)          (32, 4, 50)               0         \n",
      "_________________________________________________________________\n",
      "gru_8 (GRU)                  (32, 50)                  15150     \n",
      "_________________________________________________________________\n",
      "dropout_9 (Dropout)          (32, 50)                  0         \n",
      "_________________________________________________________________\n",
      "dropout_10 (Dropout)         (32, 50)                  0         \n",
      "_________________________________________________________________\n",
      "dense_2 (Dense)              (32, 1)                   51        \n",
      "=================================================================\n",
      "Total params: 54,501\n",
      "Trainable params: 54,501\n",
      "Non-trainable params: 0\n",
      "_________________________________________________________________\n"
     ]
    }
   ],
   "source": [
    "from keras import regularizers\n",
    "# The GRU architecture\n",
    "regressorGRU = Sequential()\n",
    "# First GRU layer with Dropout regularisation\n",
    "regressorGRU.add(GRU(units=50, return_sequences=True, batch_input_shape=(32, 4,9),activation='tanh', kernel_initializer = \"uniform\", activity_regularizer = regularizers.l2(0.01)))\n",
    "regressorGRU.add(Dropout(0.2))\n",
    "#Second GRU layer\n",
    "regressorGRU.add(GRU(units=50, return_sequences=True, batch_input_shape=(32, 4,9),activation='tanh', kernel_initializer = \"uniform\", activity_regularizer = regularizers.l2(0.01)))\n",
    "regressorGRU.add(Dropout(0.2))\n",
    "# # # Third GRU layer\n",
    "regressorGRU.add(GRU(units=50, return_sequences=True, batch_input_shape=(32, 4,9), activation='tanh', kernel_initializer = \"uniform\", activity_regularizer = regularizers.l2(0.01)))\n",
    "regressorGRU.add(Dropout(0.2))\n",
    "# Fourth GRU layer\n",
    "regressorGRU.add(GRU(units=50, activation='tanh'))\n",
    "regressorGRU.add(Dropout(0.2))\n",
    "\n",
    "regressorGRU.add(Dropout(0.2))\n",
    "\n",
    "# The output layer\n",
    "regressorGRU.add(Dense(units=1))\n",
    "regressorGRU.summary()"
   ]
  },
  {
   "cell_type": "code",
   "execution_count": 48,
   "metadata": {},
   "outputs": [],
   "source": [
    "# Compiling the RNN\n",
    "\n",
    "regressorGRU.compile(optimizer=SGD(lr=0.01, decay=1e-7, momentum=0.9, nesterov=False),loss='mean_squared_error',metrics=['accuracy',Precision(), Recall()])\n",
    "# regressorGRU.compile(optimizer = \"adam\", loss = 'binary_crossentropy', \n",
    "#               metrics=['accuracy',Precision(), Recall()])"
   ]
  },
  {
   "cell_type": "markdown",
   "metadata": {},
   "source": [
    "<h4> Early Stopping and Check Points</h4>"
   ]
  },
  {
   "cell_type": "code",
   "execution_count": 49,
   "metadata": {},
   "outputs": [],
   "source": [
    "\n",
    "#Create Checkpoint and Early Stopping\n",
    "checkpoint = ModelCheckpoint(\"GRU_sgd_With_Regularizer.h5\", monitor='val_accuracy', verbose=1, save_best_only=True, save_weights_only=True, mode='auto', period=1)\n",
    "early = EarlyStopping(monitor='val_accuracy', min_delta=0, patience=5, verbose=1, mode='auto')"
   ]
  },
  {
   "cell_type": "code",
   "execution_count": 50,
   "metadata": {
    "scrolled": true
   },
   "outputs": [
    {
     "name": "stdout",
     "output_type": "stream",
     "text": [
      "Epoch 1/100\n",
      "250/250 [==============================] - 39s 156ms/step - loss: 0.2631 - accuracy: 0.6407 - precision_2: 0.6525 - recall_2: 0.9654 - val_loss: 0.2475 - val_accuracy: 0.5965 - val_precision_2: 0.5965 - val_recall_2: 1.0000\n",
      "\n",
      "Epoch 00001: val_accuracy improved from -inf to 0.59647, saving model to GRU_sgd_With_Regularizer.h5\n",
      "Epoch 2/100\n",
      "250/250 [==============================] - 28s 114ms/step - loss: 0.2309 - accuracy: 0.6509 - precision_2: 0.6514 - recall_2: 0.9987 - val_loss: 0.2349 - val_accuracy: 0.6481 - val_precision_2: 0.6481 - val_recall_2: 1.0000\n",
      "\n",
      "Epoch 00002: val_accuracy improved from 0.59647 to 0.64810, saving model to GRU_sgd_With_Regularizer.h5\n",
      "Epoch 3/100\n",
      "250/250 [==============================] - 30s 121ms/step - loss: 0.2290 - accuracy: 0.6513 - precision_2: 0.6512 - recall_2: 1.0000 - val_loss: 0.2553 - val_accuracy: 0.6549 - val_precision_2: 0.6549 - val_recall_2: 1.0000\n",
      "\n",
      "Epoch 00003: val_accuracy improved from 0.64810 to 0.65489, saving model to GRU_sgd_With_Regularizer.h5\n",
      "Epoch 4/100\n",
      "250/250 [==============================] - 30s 121ms/step - loss: 0.2315 - accuracy: 0.6435 - precision_2: 0.6435 - recall_2: 1.0000 - val_loss: 0.2180 - val_accuracy: 0.6073 - val_precision_2: 0.6073 - val_recall_2: 1.0000s: 0.2314 - accuracy: 0.6442 - precision_2: 0.6442 - recal\n",
      "\n",
      "Epoch 00004: val_accuracy did not improve from 0.65489\n",
      "Epoch 5/100\n",
      "250/250 [==============================] - 30s 119ms/step - loss: 0.2295 - accuracy: 0.6481 - precision_2: 0.6481 - recall_2: 1.0000 - val_loss: 0.2153 - val_accuracy: 0.6359 - val_precision_2: 0.6359 - val_recall_2: 1.0000 0.6425 - prec - ETA: 4s - loss: 0.2312 - accuracy: 0.6431 - pr\n",
      "\n",
      "Epoch 00005: val_accuracy did not improve from 0.65489\n",
      "Epoch 6/100\n",
      "250/250 [==============================] - 31s 126ms/step - loss: 0.2313 - accuracy: 0.6419 - precision_2: 0.6419 - recall_2: 1.0000 - val_loss: 0.2103 - val_accuracy: 0.6209 - val_precision_2: 0.6209 - val_recall_2: 1.0000\n",
      "\n",
      "Epoch 00006: val_accuracy did not improve from 0.65489\n",
      "Epoch 7/100\n",
      "250/250 [==============================] - 29s 114ms/step - loss: 0.2311 - accuracy: 0.6436 - precision_2: 0.6436 - recall_2: 1.0000 - val_loss: 0.2437 - val_accuracy: 0.6332 - val_precision_2: 0.6332 - val_recall_2: 1.0000\n",
      "\n",
      "Epoch 00007: val_accuracy did not improve from 0.65489\n",
      "Epoch 8/100\n",
      "250/250 [==============================] - 27s 110ms/step - loss: 0.2317 - accuracy: 0.6394 - precision_2: 0.6394 - recall_2: 1.0000 - val_loss: 0.2037 - val_accuracy: 0.6223 - val_precision_2: 0.6223 - val_recall_2: 1.000022 - accuracy: 0.63 - ETA: 3s - loss: 0.2314 - accuracy: 0.6406 - precision_2: 0.6406 - recall_2: 1. - ETA: 2s - loss: 0.2315 - accuracy: 0.6403 - precision\n",
      "\n",
      "Epoch 00008: val_accuracy did not improve from 0.65489\n",
      "Epoch 00008: early stopping\n"
     ]
    }
   ],
   "source": [
    "history = regressorGRU.fit(tr_dg, epochs=100,verbose=1, validation_data=ts_dg, steps_per_epoch=250, validation_steps=23,callbacks=[checkpoint,early])\n"
   ]
  },
  {
   "cell_type": "markdown",
   "metadata": {},
   "source": [
    "<h4> Plots</h4>"
   ]
  },
  {
   "cell_type": "code",
   "execution_count": 51,
   "metadata": {},
   "outputs": [
    {
     "name": "stdout",
     "output_type": "stream",
     "text": [
      "dict_keys(['val_loss', 'val_accuracy', 'val_precision_2', 'val_recall_2', 'loss', 'accuracy', 'precision_2', 'recall_2'])\n"
     ]
    },
    {
     "data": {
      "image/png": "[encoded data removed]",
      "text/plain": [
       "<Figure size 432x288 with 1 Axes>"
      ]
     },
     "metadata": {
      "needs_background": "light"
     },
     "output_type": "display_data"
    }
   ],
   "source": [
    "# Plot of Training vs Validation Loss\n",
    "history_dict = history.history\n",
    "print(history_dict.keys())\n",
    "loss_values = history_dict['loss']\n",
    "val_loss_values = history_dict['val_loss']\n",
    "epochs = range(1, len(history_dict['accuracy']) + 1)\n",
    "plt.plot(epochs, loss_values, 'r', label='Training loss')\n",
    "plt.plot(epochs, val_loss_values, 'g', label='Validation loss')\n",
    "plt.title('Training and validation loss')\n",
    "plt.xlabel('Epochs')\n",
    "plt.ylabel('Loss')\n",
    "plt.legend()\n",
    "plt.show()"
   ]
  },
  {
   "cell_type": "code",
   "execution_count": 58,
   "metadata": {},
   "outputs": [
    {
     "name": "stdout",
     "output_type": "stream",
     "text": [
      "dict_keys(['val_loss', 'val_accuracy', 'val_precision_2', 'val_recall_2', 'loss', 'accuracy', 'precision_2', 'recall_2'])\n"
     ]
    },
    {
     "data": {
      "image/png": "[encoded data removed]",
      "text/plain": [
       "<Figure size 432x288 with 1 Axes>"
      ]
     },
     "metadata": {
      "needs_background": "light"
     },
     "output_type": "display_data"
    }
   ],
   "source": [
    "# Plot of Training vs Validation Accuracy\n",
    "hist_dict = history.history\n",
    "print(history_dict.keys())\n",
    "accuracy_values = history_dict['accuracy']\n",
    "val_accuracy_values = history_dict['val_accuracy']\n",
    "epochs = range(1, len(history_dict['accuracy']) + 1)\n",
    "plt.plot(epochs, accuracy_values, 'r', label='Training Accuracy')\n",
    "plt.plot(epochs, val_accuracy_values, 'g', label='Validation accuracy')\n",
    "plt.title('Training and validation Accuracy')\n",
    "plt.xlabel('Epochs')\n",
    "plt.ylabel('Accuracy')\n",
    "plt.legend()\n",
    "plt.show()"
   ]
  },
  {
   "cell_type": "markdown",
   "metadata": {},
   "source": [
    "<h4>Calculation of metrics</h3>"
   ]
  },
  {
   "cell_type": "code",
   "execution_count": 59,
   "metadata": {},
   "outputs": [
    {
     "name": "stdout",
     "output_type": "stream",
     "text": [
      "100/100 [==============================] - 10s 99ms/step\n"
     ]
    }
   ],
   "source": [
    "evaluate = regressorGRU.evaluate_generator(ts_dg, steps=100, verbose=1,callbacks=None)\n"
   ]
  },
  {
   "cell_type": "code",
   "execution_count": 60,
   "metadata": {},
   "outputs": [
    {
     "data": {
      "text/plain": [
       "['loss', 'accuracy', 'precision_2', 'recall_2']"
      ]
     },
     "execution_count": 60,
     "metadata": {},
     "output_type": "execute_result"
    }
   ],
   "source": [
    "regressorGRU.metrics_names"
   ]
  },
  {
   "cell_type": "code",
   "execution_count": 61,
   "metadata": {},
   "outputs": [
    {
     "name": "stdout",
     "output_type": "stream",
     "text": [
      "Accuracy: 0.626\n"
     ]
    }
   ],
   "source": [
    "print('Accuracy: {:0.3f}'.format(evaluate [1]))"
   ]
  },
  {
   "cell_type": "code",
   "execution_count": 62,
   "metadata": {},
   "outputs": [
    {
     "name": "stdout",
     "output_type": "stream",
     "text": [
      "Precision: 0.626\n"
     ]
    }
   ],
   "source": [
    "print('Precision: {:0.3f}'.format(evaluate [2]))"
   ]
  },
  {
   "cell_type": "code",
   "execution_count": 63,
   "metadata": {},
   "outputs": [
    {
     "name": "stdout",
     "output_type": "stream",
     "text": [
      "Recall: 1.000\n"
     ]
    }
   ],
   "source": [
    "print('Recall: {:0.3f}'.format(evaluate [3]))"
   ]
  }
 ],
 "metadata": {
  "kernelspec": {
   "display_name": "Python 3",
   "language": "python",
   "name": "python3"
  },
  "language_info": {
   "codemirror_mode": {
    "name": "ipython",
    "version": 3
   },
   "file_extension": ".py",
   "mimetype": "text/x-python",
   "name": "python",
   "nbconvert_exporter": "python",
   "pygments_lexer": "ipython3",
   "version": "3.7.3"
  }
 },
 "nbformat": 4,
 "nbformat_minor": 2
}

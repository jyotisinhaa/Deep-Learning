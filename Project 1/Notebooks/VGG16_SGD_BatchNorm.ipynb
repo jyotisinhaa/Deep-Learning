{
 "cells": [
  {
   "cell_type": "markdown",
   "metadata": {
    "id": "nu46PS8i0yxi"
   },
   "source": [
    "<h3><b>Importing Libraries</b></h3>"
   ]
  },
  {
   "cell_type": "code",
   "execution_count": 1,
   "metadata": {
    "id": "PKbDmW5_lhPO"
   },
   "outputs": [],
   "source": [
    "# Importing Libraries\n",
    "from __future__ import print_function\n",
    "import os\n",
    "import tensorflow as tf\n",
    "import keras\n",
    "from keras import backend as K\n",
    "import numpy as np\n",
    "from keras.datasets import cifar100\n",
    "from keras.preprocessing.image import ImageDataGenerator\n",
    "from keras.models import Sequential\n",
    "from keras.layers import Dense, Dropout, Activation, Flatten\n",
    "from keras.layers import Conv2D, MaxPooling2D, BatchNormalization\n",
    "from keras import optimizers\n",
    "from keras import regularizers\n",
    "from matplotlib import pyplot\n",
    "from keras.utils import to_categorical\n",
    "from keras.callbacks import ModelCheckpoint, EarlyStopping\n",
    "from sklearn import metrics\n",
    "from sklearn.metrics import confusion_matrix\n",
    "from sklearn.metrics import accuracy_score\n",
    "from sklearn.metrics import accuracy_score, f1_score, precision_score, recall_score, classification_report, confusion_matrix\n"
   ]
  },
  {
   "cell_type": "markdown",
   "metadata": {
    "id": "URVrV68X1I88"
   },
   "source": [
    "<h3><b>Importing Dataset<b></h3>"
   ]
  },
  {
   "cell_type": "code",
   "execution_count": 2,
   "metadata": {
    "colab": {
     "base_uri": "https://localhost:8080/",
     "height": 119
    },
    "id": "1wPJj5pc6wzh",
    "outputId": "38ebb72a-8c73-47d1-e677-983d71c7d9ed"
   },
   "outputs": [
    {
     "name": "stdout",
     "output_type": "stream",
     "text": [
      "Downloading data from https://www.cs.toronto.edu/~kriz/cifar-100-python.tar.gz\n",
      "169009152/169001437 [==============================] - 4s 0us/step\n",
      "(50000, 32, 32, 3)\n",
      "(50000, 1)\n",
      "(10000, 32, 32, 3)\n",
      "(10000, 1)\n"
     ]
    }
   ],
   "source": [
    "# Load dataset\n",
    "(X_train, y_train), (X_test, y_test) = cifar100.load_data()\n",
    "print(X_train.shape)\n",
    "print(y_train.shape)\n",
    "print(X_test.shape)\n",
    "print(y_test.shape)"
   ]
  },
  {
   "cell_type": "markdown",
   "metadata": {
    "id": "3LS0RJlr2DKV"
   },
   "source": [
    "<h3><b>Preprocessing of the dataset</b></h3>"
   ]
  },
  {
   "cell_type": "code",
   "execution_count": 3,
   "metadata": {
    "id": "2vFh_j5y1qoU"
   },
   "outputs": [],
   "source": [
    "# Normalize the dataset\n",
    "X_train = X_train/255\n",
    "X_test = X_test/255"
   ]
  },
  {
   "cell_type": "code",
   "execution_count": 4,
   "metadata": {
    "id": "Z_oj_DSa7xxB"
   },
   "outputs": [],
   "source": [
    "#Converting the testing and training dataset into float\n",
    "X_train = X_train.astype('float32')\n",
    "X_test = X_test.astype('float32')"
   ]
  },
  {
   "cell_type": "code",
   "execution_count": 5,
   "metadata": {
    "colab": {
     "base_uri": "https://localhost:8080/",
     "height": 51
    },
    "id": "sZ7LTRKGly_z",
    "outputId": "d173756d-e795-46b0-dd7a-d47a5dab26e3"
   },
   "outputs": [
    {
     "name": "stdout",
     "output_type": "stream",
     "text": [
      "(50000, 1)\n",
      "(50000, 100)\n"
     ]
    }
   ],
   "source": [
    "# Convert training and test labels to one hot matrices\n",
    "print(y_train.shape)\n",
    "y_train = keras.utils.to_categorical(y_train, 100)\n",
    "y_test = keras.utils.to_categorical(y_test, 100)\n",
    "print(y_train.shape)"
   ]
  },
  {
   "cell_type": "markdown",
   "metadata": {
    "id": "moYrJA6qJ0pT"
   },
   "source": [
    "<h3><b> Data Augmentation </b></h3>"
   ]
  },
  {
   "cell_type": "code",
   "execution_count": 6,
   "metadata": {
    "colab": {
     "base_uri": "https://localhost:8080/",
     "height": 34
    },
    "id": "hH5ibTPcly3l",
    "outputId": "ddf21714-f2e3-4cd6-9297-5a7b1b1e7034"
   },
   "outputs": [
    {
     "name": "stdout",
     "output_type": "stream",
     "text": [
      "(50000, 100)\n"
     ]
    }
   ],
   "source": [
    "#data augmentation\n",
    "datagen = ImageDataGenerator(\n",
    "    featurewise_center=False,  # set input mean to 0 over the dataset\n",
    "    samplewise_center=False,  # set each sample mean to 0\n",
    "    featurewise_std_normalization=False,  # divide inputs by std of the dataset\n",
    "    samplewise_std_normalization=False,  # divide each input by its std\n",
    "    zca_whitening=False,  # apply ZCA whitening\n",
    "    rotation_range=15,  # randomly rotate images in the range (degrees, 0 to 180)\n",
    "    width_shift_range=0.1,  # randomly shift images horizontally (fraction of total width)\n",
    "    height_shift_range=0.1,  # randomly shift images vertically (fraction of total height)\n",
    "    horizontal_flip=True,  # randomly flip images\n",
    "    vertical_flip=False)  # randomly flip images\n",
    "# (std, mean, and principal components if ZCA whitening is applied).\n",
    "datagen.fit(X_train)\n",
    "\n",
    "print(y_train.shape)"
   ]
  },
  {
   "cell_type": "markdown",
   "metadata": {
    "id": "UeYnQfHWHwnh"
   },
   "source": [
    "<h3><b> Model Architecture </b></h3>\n",
    "\n",
    "\n"
   ]
  },
  {
   "cell_type": "code",
   "execution_count": 7,
   "metadata": {
    "id": "352YirW8lyBT"
   },
   "outputs": [],
   "source": [
    "def Model():\n",
    "        x_shape = [32,32,3]\n",
    "        weight_decay = 0.0001\n",
    "        num_classes = 100\n",
    "        model = Sequential()\n",
    "\n",
    "        model.add(Conv2D(64, (3, 3), padding='same', input_shape= x_shape,kernel_regularizer=regularizers.l2(weight_decay)))\n",
    "        model.add(Activation('elu'))\n",
    "        model.add(BatchNormalization())\n",
    "\n",
    "        model.add(Conv2D(64, (3, 3), padding='same',kernel_regularizer=regularizers.l2(weight_decay)))\n",
    "        model.add(Activation('elu'))\n",
    "        model.add(BatchNormalization())\n",
    "        model.add(MaxPooling2D(pool_size=(2, 2)))\n",
    "\n",
    "        model.add(Conv2D(128, (3, 3), padding='same',kernel_regularizer=regularizers.l2(weight_decay)))\n",
    "        model.add(Activation('elu'))\n",
    "        model.add(BatchNormalization())\n",
    "\n",
    "        model.add(Conv2D(128, (3, 3), padding='same',kernel_regularizer=regularizers.l2(weight_decay)))\n",
    "        model.add(Activation('elu'))\n",
    "        model.add(BatchNormalization())\n",
    "        model.add(MaxPooling2D(pool_size=(2, 2)))\n",
    "\n",
    "        model.add(Conv2D(256, (3, 3), padding='same',kernel_regularizer=regularizers.l2(weight_decay)))\n",
    "        model.add(Activation('elu'))\n",
    "        model.add(BatchNormalization())\n",
    "\n",
    "        model.add(Conv2D(256, (3, 3), padding='same',kernel_regularizer=regularizers.l2(weight_decay)))\n",
    "        model.add(Activation('elu'))\n",
    "        model.add(BatchNormalization())\n",
    "\n",
    "        model.add(Conv2D(256, (3, 3), padding='same',kernel_regularizer=regularizers.l2(weight_decay)))\n",
    "        model.add(Activation('elu'))\n",
    "        model.add(BatchNormalization())\n",
    "        model.add(MaxPooling2D(pool_size=(2, 2)))\n",
    "\n",
    "        model.add(Conv2D(512, (3, 3), padding='same',kernel_regularizer=regularizers.l2(weight_decay)))\n",
    "        model.add(Activation('elu'))\n",
    "        model.add(BatchNormalization())\n",
    "\n",
    "        model.add(Conv2D(512, (3, 3), padding='same',kernel_regularizer=regularizers.l2(weight_decay)))\n",
    "        model.add(Activation('elu'))\n",
    "        model.add(BatchNormalization())\n",
    "\n",
    "        model.add(Conv2D(512, (3, 3), padding='same',kernel_regularizer=regularizers.l2(weight_decay)))\n",
    "        model.add(Activation('elu'))\n",
    "        model.add(BatchNormalization())\n",
    "        model.add(MaxPooling2D(pool_size=(2, 2)))\n",
    "\n",
    "        model.add(Conv2D(512, (3, 3), padding='same',kernel_regularizer=regularizers.l2(weight_decay)))\n",
    "        model.add(Activation('elu'))\n",
    "        model.add(BatchNormalization())\n",
    "\n",
    "        model.add(Conv2D(512, (3, 3), padding='same',kernel_regularizer=regularizers.l2(weight_decay)))\n",
    "        model.add(Activation('elu'))\n",
    "        model.add(BatchNormalization())\n",
    "\n",
    "        model.add(Conv2D(512, (3, 3), padding='same',kernel_regularizer=regularizers.l2(weight_decay)))\n",
    "        model.add(Activation('elu'))\n",
    "        model.add(BatchNormalization())\n",
    "        model.add(MaxPooling2D(pool_size=(2, 2)))\n",
    "\n",
    "        model.add(Flatten())\n",
    "        model.add(Dense(512,kernel_regularizer=regularizers.l2(weight_decay)))\n",
    "        model.add(Activation('elu'))\n",
    "        model.add(BatchNormalization())\n",
    "\n",
    "        model.add(Dense(num_classes))\n",
    "        model.add(Activation('softmax'))\n",
    "\n",
    "        \n",
    "\n",
    "        return model\n",
    "      "
   ]
  },
  {
   "cell_type": "markdown",
   "metadata": {
    "id": "iJc2AzLRQ9oP"
   },
   "source": [
    "<h3><b> Compile the Model </b></h3>"
   ]
  },
  {
   "cell_type": "code",
   "execution_count": 8,
   "metadata": {
    "id": "Z3t2ztwxKI-S"
   },
   "outputs": [],
   "source": [
    "model = Model()"
   ]
  },
  {
   "cell_type": "code",
   "execution_count": 9,
   "metadata": {
    "id": "h2avPzDJk2T9"
   },
   "outputs": [],
   "source": [
    "\n",
    "learning_rate = 0.001\n",
    "batch_size = 128\n",
    "lr_decay = 1e-6\n",
    "\n",
    "#optimization details\n",
    "sgd = optimizers.SGD(lr=learning_rate, decay=lr_decay, momentum=0.9, nesterov=True)\n",
    "model.compile(loss='categorical_crossentropy', optimizer=sgd,metrics=['accuracy'])"
   ]
  },
  {
   "cell_type": "code",
   "execution_count": 10,
   "metadata": {
    "colab": {
     "base_uri": "https://localhost:8080/",
     "height": 1000
    },
    "id": "vWwqnqq2ryoN",
    "outputId": "781de521-7abf-41c6-f1f9-5b237b6e0f16"
   },
   "outputs": [
    {
     "name": "stdout",
     "output_type": "stream",
     "text": [
      "Model: \"sequential\"\n",
      "_________________________________________________________________\n",
      "Layer (type)                 Output Shape              Param #   \n",
      "=================================================================\n",
      "conv2d (Conv2D)              (None, 32, 32, 64)        1792      \n",
      "_________________________________________________________________\n",
      "activation (Activation)      (None, 32, 32, 64)        0         \n",
      "_________________________________________________________________\n",
      "batch_normalization (BatchNo (None, 32, 32, 64)        256       \n",
      "_________________________________________________________________\n",
      "conv2d_1 (Conv2D)            (None, 32, 32, 64)        36928     \n",
      "_________________________________________________________________\n",
      "activation_1 (Activation)    (None, 32, 32, 64)        0         \n",
      "_________________________________________________________________\n",
      "batch_normalization_1 (Batch (None, 32, 32, 64)        256       \n",
      "_________________________________________________________________\n",
      "max_pooling2d (MaxPooling2D) (None, 16, 16, 64)        0         \n",
      "_________________________________________________________________\n",
      "conv2d_2 (Conv2D)            (None, 16, 16, 128)       73856     \n",
      "_________________________________________________________________\n",
      "activation_2 (Activation)    (None, 16, 16, 128)       0         \n",
      "_________________________________________________________________\n",
      "batch_normalization_2 (Batch (None, 16, 16, 128)       512       \n",
      "_________________________________________________________________\n",
      "conv2d_3 (Conv2D)            (None, 16, 16, 128)       147584    \n",
      "_________________________________________________________________\n",
      "activation_3 (Activation)    (None, 16, 16, 128)       0         \n",
      "_________________________________________________________________\n",
      "batch_normalization_3 (Batch (None, 16, 16, 128)       512       \n",
      "_________________________________________________________________\n",
      "max_pooling2d_1 (MaxPooling2 (None, 8, 8, 128)         0         \n",
      "_________________________________________________________________\n",
      "conv2d_4 (Conv2D)            (None, 8, 8, 256)         295168    \n",
      "_________________________________________________________________\n",
      "activation_4 (Activation)    (None, 8, 8, 256)         0         \n",
      "_________________________________________________________________\n",
      "batch_normalization_4 (Batch (None, 8, 8, 256)         1024      \n",
      "_________________________________________________________________\n",
      "conv2d_5 (Conv2D)            (None, 8, 8, 256)         590080    \n",
      "_________________________________________________________________\n",
      "activation_5 (Activation)    (None, 8, 8, 256)         0         \n",
      "_________________________________________________________________\n",
      "batch_normalization_5 (Batch (None, 8, 8, 256)         1024      \n",
      "_________________________________________________________________\n",
      "conv2d_6 (Conv2D)            (None, 8, 8, 256)         590080    \n",
      "_________________________________________________________________\n",
      "activation_6 (Activation)    (None, 8, 8, 256)         0         \n",
      "_________________________________________________________________\n",
      "batch_normalization_6 (Batch (None, 8, 8, 256)         1024      \n",
      "_________________________________________________________________\n",
      "max_pooling2d_2 (MaxPooling2 (None, 4, 4, 256)         0         \n",
      "_________________________________________________________________\n",
      "conv2d_7 (Conv2D)            (None, 4, 4, 512)         1180160   \n",
      "_________________________________________________________________\n",
      "activation_7 (Activation)    (None, 4, 4, 512)         0         \n",
      "_________________________________________________________________\n",
      "batch_normalization_7 (Batch (None, 4, 4, 512)         2048      \n",
      "_________________________________________________________________\n",
      "conv2d_8 (Conv2D)            (None, 4, 4, 512)         2359808   \n",
      "_________________________________________________________________\n",
      "activation_8 (Activation)    (None, 4, 4, 512)         0         \n",
      "_________________________________________________________________\n",
      "batch_normalization_8 (Batch (None, 4, 4, 512)         2048      \n",
      "_________________________________________________________________\n",
      "conv2d_9 (Conv2D)            (None, 4, 4, 512)         2359808   \n",
      "_________________________________________________________________\n",
      "activation_9 (Activation)    (None, 4, 4, 512)         0         \n",
      "_________________________________________________________________\n",
      "batch_normalization_9 (Batch (None, 4, 4, 512)         2048      \n",
      "_________________________________________________________________\n",
      "max_pooling2d_3 (MaxPooling2 (None, 2, 2, 512)         0         \n",
      "_________________________________________________________________\n",
      "conv2d_10 (Conv2D)           (None, 2, 2, 512)         2359808   \n",
      "_________________________________________________________________\n",
      "activation_10 (Activation)   (None, 2, 2, 512)         0         \n",
      "_________________________________________________________________\n",
      "batch_normalization_10 (Batc (None, 2, 2, 512)         2048      \n",
      "_________________________________________________________________\n",
      "conv2d_11 (Conv2D)           (None, 2, 2, 512)         2359808   \n",
      "_________________________________________________________________\n",
      "activation_11 (Activation)   (None, 2, 2, 512)         0         \n",
      "_________________________________________________________________\n",
      "batch_normalization_11 (Batc (None, 2, 2, 512)         2048      \n",
      "_________________________________________________________________\n",
      "conv2d_12 (Conv2D)           (None, 2, 2, 512)         2359808   \n",
      "_________________________________________________________________\n",
      "activation_12 (Activation)   (None, 2, 2, 512)         0         \n",
      "_________________________________________________________________\n",
      "batch_normalization_12 (Batc (None, 2, 2, 512)         2048      \n",
      "_________________________________________________________________\n",
      "max_pooling2d_4 (MaxPooling2 (None, 1, 1, 512)         0         \n",
      "_________________________________________________________________\n",
      "flatten (Flatten)            (None, 512)               0         \n",
      "_________________________________________________________________\n",
      "dense (Dense)                (None, 512)               262656    \n",
      "_________________________________________________________________\n",
      "activation_13 (Activation)   (None, 512)               0         \n",
      "_________________________________________________________________\n",
      "batch_normalization_13 (Batc (None, 512)               2048      \n",
      "_________________________________________________________________\n",
      "dense_1 (Dense)              (None, 100)               51300     \n",
      "_________________________________________________________________\n",
      "activation_14 (Activation)   (None, 100)               0         \n",
      "=================================================================\n",
      "Total params: 15,047,588\n",
      "Trainable params: 15,038,116\n",
      "Non-trainable params: 9,472\n",
      "_________________________________________________________________\n"
     ]
    }
   ],
   "source": [
    "model.summary()"
   ]
  },
  {
   "cell_type": "markdown",
   "metadata": {
    "id": "s6HPmAh5RGLe"
   },
   "source": [
    "<h3><b> Train the Model</b></h3>"
   ]
  },
  {
   "cell_type": "code",
   "execution_count": 11,
   "metadata": {
    "colab": {
     "base_uri": "https://localhost:8080/",
     "height": 54
    },
    "id": "0jcsr1krovRG",
    "outputId": "ce4b65c2-70ba-42c7-c52a-76cd5727d224"
   },
   "outputs": [
    {
     "name": "stdout",
     "output_type": "stream",
     "text": [
      "WARNING:tensorflow:`period` argument is deprecated. Please use `save_freq` to specify the frequency in number of batches seen.\n"
     ]
    }
   ],
   "source": [
    "# Create Checkpoint and Early Stopping\n",
    "checkpoint = ModelCheckpoint(\"VGG16_SGD_BatchNorm.h5\", monitor='val_loss', verbose=1, save_best_only=True, save_weights_only=True, mode='auto', period=1)\n",
    "early = EarlyStopping(monitor='val_loss', min_delta=0, patience=5, verbose=1, mode='auto')"
   ]
  },
  {
   "cell_type": "code",
   "execution_count": 12,
   "metadata": {
    "colab": {
     "base_uri": "https://localhost:8080/",
     "height": 1000
    },
    "id": "LGqjFOyFwNeO",
    "outputId": "6cbb7d62-7e95-4b7a-e5d4-87874abfc5f6"
   },
   "outputs": [
    {
     "name": "stdout",
     "output_type": "stream",
     "text": [
      "WARNING:tensorflow:From <ipython-input-12-ceaea4edb59a>:2: Model.fit_generator (from tensorflow.python.keras.engine.training) is deprecated and will be removed in a future version.\n",
      "Instructions for updating:\n",
      "Please use Model.fit, which supports generators.\n",
      "Epoch 1/100\n",
      "391/391 [==============================] - ETA: 0s - loss: 3.9130 - accuracy: 0.1913\n",
      "Epoch 00001: val_loss improved from inf to 4.43008, saving model to VGG16_SGD_BatchNorm.h5\n",
      "391/391 [==============================] - 37s 93ms/step - loss: 3.9130 - accuracy: 0.1913 - val_loss: 4.4301 - val_accuracy: 0.1119\n",
      "Epoch 2/100\n",
      "391/391 [==============================] - ETA: 0s - loss: 3.1855 - accuracy: 0.3113\n",
      "Epoch 00002: val_loss improved from 4.43008 to 3.02663, saving model to VGG16_SGD_BatchNorm.h5\n",
      "391/391 [==============================] - 36s 92ms/step - loss: 3.1855 - accuracy: 0.3113 - val_loss: 3.0266 - val_accuracy: 0.3471\n",
      "Epoch 3/100\n",
      "391/391 [==============================] - ETA: 0s - loss: 2.8635 - accuracy: 0.3800\n",
      "Epoch 00003: val_loss did not improve from 3.02663\n",
      "391/391 [==============================] - 35s 91ms/step - loss: 2.8635 - accuracy: 0.3800 - val_loss: 3.0635 - val_accuracy: 0.3385\n",
      "Epoch 4/100\n",
      "391/391 [==============================] - ETA: 0s - loss: 2.6344 - accuracy: 0.4265\n",
      "Epoch 00004: val_loss did not improve from 3.02663\n",
      "391/391 [==============================] - 35s 91ms/step - loss: 2.6344 - accuracy: 0.4265 - val_loss: 3.0865 - val_accuracy: 0.3487\n",
      "Epoch 5/100\n",
      "391/391 [==============================] - ETA: 0s - loss: 2.4610 - accuracy: 0.4615\n",
      "Epoch 00005: val_loss improved from 3.02663 to 2.63159, saving model to VGG16_SGD_BatchNorm.h5\n",
      "391/391 [==============================] - 36s 91ms/step - loss: 2.4610 - accuracy: 0.4615 - val_loss: 2.6316 - val_accuracy: 0.4363\n",
      "Epoch 6/100\n",
      "391/391 [==============================] - ETA: 0s - loss: 2.3170 - accuracy: 0.4983\n",
      "Epoch 00006: val_loss did not improve from 2.63159\n",
      "391/391 [==============================] - 35s 91ms/step - loss: 2.3170 - accuracy: 0.4983 - val_loss: 2.6520 - val_accuracy: 0.4326\n",
      "Epoch 7/100\n",
      "391/391 [==============================] - ETA: 0s - loss: 2.1903 - accuracy: 0.5245\n",
      "Epoch 00007: val_loss improved from 2.63159 to 2.51087, saving model to VGG16_SGD_BatchNorm.h5\n",
      "391/391 [==============================] - 36s 91ms/step - loss: 2.1903 - accuracy: 0.5245 - val_loss: 2.5109 - val_accuracy: 0.4598\n",
      "Epoch 8/100\n",
      "391/391 [==============================] - ETA: 0s - loss: 2.0796 - accuracy: 0.5516\n",
      "Epoch 00008: val_loss did not improve from 2.51087\n",
      "391/391 [==============================] - 35s 91ms/step - loss: 2.0796 - accuracy: 0.5516 - val_loss: 2.5212 - val_accuracy: 0.4584\n",
      "Epoch 9/100\n",
      "391/391 [==============================] - ETA: 0s - loss: 1.9790 - accuracy: 0.5773\n",
      "Epoch 00009: val_loss improved from 2.51087 to 2.33676, saving model to VGG16_SGD_BatchNorm.h5\n",
      "391/391 [==============================] - 35s 91ms/step - loss: 1.9790 - accuracy: 0.5773 - val_loss: 2.3368 - val_accuracy: 0.5009\n",
      "Epoch 10/100\n",
      "391/391 [==============================] - ETA: 0s - loss: 1.8804 - accuracy: 0.5990\n",
      "Epoch 00010: val_loss did not improve from 2.33676\n",
      "391/391 [==============================] - 36s 91ms/step - loss: 1.8804 - accuracy: 0.5990 - val_loss: 2.3564 - val_accuracy: 0.4996\n",
      "Epoch 11/100\n",
      "391/391 [==============================] - ETA: 0s - loss: 1.7976 - accuracy: 0.6220\n",
      "Epoch 00011: val_loss did not improve from 2.33676\n",
      "391/391 [==============================] - 35s 91ms/step - loss: 1.7976 - accuracy: 0.6220 - val_loss: 2.4549 - val_accuracy: 0.4859\n",
      "Epoch 12/100\n",
      "391/391 [==============================] - ETA: 0s - loss: 1.7092 - accuracy: 0.6451\n",
      "Epoch 00012: val_loss did not improve from 2.33676\n",
      "391/391 [==============================] - 35s 90ms/step - loss: 1.7092 - accuracy: 0.6451 - val_loss: 2.6005 - val_accuracy: 0.4565\n",
      "Epoch 13/100\n",
      "391/391 [==============================] - ETA: 0s - loss: 1.6375 - accuracy: 0.6607\n",
      "Epoch 00013: val_loss did not improve from 2.33676\n",
      "391/391 [==============================] - 35s 91ms/step - loss: 1.6375 - accuracy: 0.6607 - val_loss: 2.3409 - val_accuracy: 0.5121\n",
      "Epoch 14/100\n",
      "391/391 [==============================] - ETA: 0s - loss: 1.5616 - accuracy: 0.6821\n",
      "Epoch 00014: val_loss improved from 2.33676 to 2.28128, saving model to VGG16_SGD_BatchNorm.h5\n",
      "391/391 [==============================] - 36s 91ms/step - loss: 1.5616 - accuracy: 0.6821 - val_loss: 2.2813 - val_accuracy: 0.5242\n",
      "Epoch 15/100\n",
      "391/391 [==============================] - ETA: 0s - loss: 1.4924 - accuracy: 0.7002\n",
      "Epoch 00015: val_loss did not improve from 2.28128\n",
      "391/391 [==============================] - 36s 91ms/step - loss: 1.4924 - accuracy: 0.7002 - val_loss: 2.3130 - val_accuracy: 0.5231\n",
      "Epoch 16/100\n",
      "391/391 [==============================] - ETA: 0s - loss: 1.4214 - accuracy: 0.7186\n",
      "Epoch 00016: val_loss did not improve from 2.28128\n",
      "391/391 [==============================] - 36s 91ms/step - loss: 1.4214 - accuracy: 0.7186 - val_loss: 2.3412 - val_accuracy: 0.5158\n",
      "Epoch 17/100\n",
      "391/391 [==============================] - ETA: 0s - loss: 1.3606 - accuracy: 0.7359\n",
      "Epoch 00017: val_loss improved from 2.28128 to 2.24675, saving model to VGG16_SGD_BatchNorm.h5\n",
      "391/391 [==============================] - 36s 91ms/step - loss: 1.3606 - accuracy: 0.7359 - val_loss: 2.2467 - val_accuracy: 0.5390\n",
      "Epoch 18/100\n",
      "391/391 [==============================] - ETA: 0s - loss: 1.3001 - accuracy: 0.7521\n",
      "Epoch 00018: val_loss improved from 2.24675 to 2.23927, saving model to VGG16_SGD_BatchNorm.h5\n",
      "391/391 [==============================] - 36s 92ms/step - loss: 1.3001 - accuracy: 0.7521 - val_loss: 2.2393 - val_accuracy: 0.5495\n",
      "Epoch 19/100\n",
      "391/391 [==============================] - ETA: 0s - loss: 1.2469 - accuracy: 0.7696\n",
      "Epoch 00019: val_loss did not improve from 2.23927\n",
      "391/391 [==============================] - 36s 92ms/step - loss: 1.2469 - accuracy: 0.7696 - val_loss: 2.3096 - val_accuracy: 0.5324\n",
      "Epoch 20/100\n",
      "391/391 [==============================] - ETA: 0s - loss: 1.1925 - accuracy: 0.7852\n",
      "Epoch 00020: val_loss did not improve from 2.23927\n",
      "391/391 [==============================] - 36s 91ms/step - loss: 1.1925 - accuracy: 0.7852 - val_loss: 2.2967 - val_accuracy: 0.5378\n",
      "Epoch 21/100\n",
      "391/391 [==============================] - ETA: 0s - loss: 1.1423 - accuracy: 0.7962\n",
      "Epoch 00021: val_loss did not improve from 2.23927\n",
      "391/391 [==============================] - 36s 91ms/step - loss: 1.1423 - accuracy: 0.7962 - val_loss: 2.3437 - val_accuracy: 0.5301\n",
      "Epoch 22/100\n",
      "391/391 [==============================] - ETA: 0s - loss: 1.0923 - accuracy: 0.8120\n",
      "Epoch 00022: val_loss did not improve from 2.23927\n",
      "391/391 [==============================] - 36s 91ms/step - loss: 1.0923 - accuracy: 0.8120 - val_loss: 2.3221 - val_accuracy: 0.5397\n",
      "Epoch 23/100\n",
      "391/391 [==============================] - ETA: 0s - loss: 1.0420 - accuracy: 0.8278\n",
      "Epoch 00023: val_loss did not improve from 2.23927\n",
      "391/391 [==============================] - 35s 91ms/step - loss: 1.0420 - accuracy: 0.8278 - val_loss: 2.2885 - val_accuracy: 0.5440\n",
      "Epoch 00023: early stopping\n"
     ]
    }
   ],
   "source": [
    "batch_size = 128\n",
    "hist = model.fit_generator(datagen.flow(X_train, y_train, batch_size=batch_size),validation_data=(X_test, y_test), epochs=100,callbacks=[checkpoint,early])"
   ]
  },
  {
   "cell_type": "markdown",
   "metadata": {
    "id": "2Q5vb0hEL_tA"
   },
   "source": [
    "<h3><b> Graphs</b></h3>"
   ]
  },
  {
   "cell_type": "code",
   "execution_count": 16,
   "metadata": {
    "colab": {
     "base_uri": "https://localhost:8080/",
     "height": 312
    },
    "id": "_Ekn9tH5lm2e",
    "outputId": "2a1cd9e4-9eda-434a-842c-d036b2010752"
   },
   "outputs": [
    {
     "name": "stdout",
     "output_type": "stream",
     "text": [
      "dict_keys(['loss', 'accuracy', 'val_loss', 'val_accuracy'])\n"
     ]
    },
    {
     "data": {
      "image/png": "[encoded data removed]",
      "text/plain": [
       "<Figure size 432x288 with 1 Axes>"
      ]
     },
     "metadata": {
      "needs_background": "light",
      "tags": []
     },
     "output_type": "display_data"
    }
   ],
   "source": [
    "import matplotlib.pyplot as plt\n",
    "\n",
    "hist_dict = hist.history\n",
    "print(hist_dict.keys())\n",
    "accuracy_values = hist_dict['accuracy']\n",
    "val_accuracy_values = hist_dict['val_accuracy']\n",
    "\n",
    "epochs = range(1, len(hist_dict['accuracy']) + 1)\n",
    "\n",
    "plt.plot(epochs, accuracy_values, 'bo', label='Training Accuracy')\n",
    "plt.plot(epochs, val_accuracy_values, 'b', label='Validation loss')\n",
    "plt.title('Training and validation Accuracy')\n",
    "plt.xlabel('Epochs')\n",
    "plt.ylabel('Accuracy')\n",
    "plt.legend()\n",
    "\n",
    "plt.show()"
   ]
  },
  {
   "cell_type": "code",
   "execution_count": 18,
   "metadata": {
    "colab": {
     "base_uri": "https://localhost:8080/",
     "height": 312
    },
    "id": "tHxrFWZfluA_",
    "outputId": "de93f8a6-0217-472c-ea95-8d21c7b4a51b"
   },
   "outputs": [
    {
     "name": "stdout",
     "output_type": "stream",
     "text": [
      "dict_keys(['loss', 'accuracy', 'val_loss', 'val_accuracy'])\n"
     ]
    },
    {
     "data": {
      "image/png": "[encoded data removed]",
      "text/plain": [
       "<Figure size 432x288 with 1 Axes>"
      ]
     },
     "metadata": {
      "needs_background": "light",
      "tags": []
     },
     "output_type": "display_data"
    }
   ],
   "source": [
    "import matplotlib.pyplot as plt\n",
    "\n",
    "history_dict = hist.history\n",
    "print(hist_dict.keys())\n",
    "loss_values = hist_dict['loss']\n",
    "val_loss_values = hist_dict['val_loss']\n",
    "\n",
    "epochs = range(1, len(hist_dict['accuracy']) + 1)\n",
    "\n",
    "plt.plot(epochs, loss_values, 'bo', label='Training loss')\n",
    "plt.plot(epochs, val_loss_values, 'b', label='Validation loss')\n",
    "plt.title('Training and validation loss')\n",
    "plt.xlabel('Epochs')\n",
    "plt.ylabel('Loss')\n",
    "plt.legend()\n",
    "\n",
    "plt.show()"
   ]
  },
  {
   "cell_type": "markdown",
   "metadata": {
    "id": "mWJuMoswQJCC"
   },
   "source": [
    "<h3><b> Model Save and Metrics</b></h3> "
   ]
  },
  {
   "cell_type": "code",
   "execution_count": 19,
   "metadata": {
    "colab": {
     "base_uri": "https://localhost:8080/",
     "height": 68
    },
    "id": "hEKW1SM5KfGz",
    "outputId": "0c323dbe-7131-4c8d-decb-4d87222becd7"
   },
   "outputs": [
    {
     "name": "stdout",
     "output_type": "stream",
     "text": [
      "Prec: 0.5693970497125187\n",
      "Recall: 0.544\n",
      "Accuracy: 0.544\n"
     ]
    }
   ],
   "source": [
    "model1 = Model()\n",
    "model1.load_weights(\"./VGG16_SGD_BatchNorm.h5\")\n",
    "\n",
    "#optimization details\n",
    "sgd = optimizers.SGD(lr=learning_rate, decay=lr_decay, momentum=0.9, nesterov=True)\n",
    "model1.compile(loss='categorical_crossentropy', optimizer=sgd,metrics=['accuracy'])\n",
    "\n",
    "# Test the model\n",
    "model.predict(X_test).argmax(-1)\n",
    "\n",
    "y_true = y_test.argmax(-1)\n",
    "y_pred = model.predict(X_test).argmax(-1)\n",
    "# generate confusion matrix\n",
    "from sklearn.metrics import confusion_matrix, precision_score, recall_score, accuracy_score\n",
    "confusion_matrix(y_true, y_pred)\n",
    "# calculate prec, recall, accuracy\n",
    "print(\"Prec: \"+ str(precision_score(y_true, y_pred, average='weighted')))\n",
    "print(\"Recall: \"+ str(recall_score(y_true, y_pred, average='weighted')))\n",
    "print(\"Accuracy: \" + str(accuracy_score(y_true, y_pred)))"
   ]
  },
  {
   "cell_type": "markdown",
   "metadata": {
    "id": "dFDFRH7ON583"
   },
   "source": [
    "<h3><b> References</b></h3>"
   ]
  },
  {
   "cell_type": "code",
   "execution_count": null,
   "metadata": {
    "id": "XmygfOQPN-cS"
   },
   "outputs": [],
   "source": [
    "#https://towardsdatascience.com/step-by-step-vgg16-implementation-in-keras-for-beginners-a833c686ae6c\n",
    "#https://github.com/geifmany/cifar-vgg/blob/master/cifar100vgg.py"
   ]
  }
 ],
 "metadata": {
  "accelerator": "GPU",
  "colab": {
   "collapsed_sections": [],
   "name": "VGG16_SGD_BatchNorm.ipynb",
   "provenance": []
  },
  "kernelspec": {
   "display_name": "Python 3",
   "language": "python",
   "name": "python3"
  },
  "language_info": {
   "codemirror_mode": {
    "name": "ipython",
    "version": 3
   },
   "file_extension": ".py",
   "mimetype": "text/x-python",
   "name": "python",
   "nbconvert_exporter": "python",
   "pygments_lexer": "ipython3",
   "version": "3.7.3"
  }
 },
 "nbformat": 4,
 "nbformat_minor": 1
}

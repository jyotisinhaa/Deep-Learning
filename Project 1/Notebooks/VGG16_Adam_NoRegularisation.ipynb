{
  "nbformat": 4,
  "nbformat_minor": 0,
  "metadata": {
    "accelerator": "GPU",
    "colab": {
      "name": "VGG16_Adam_NoRegularisation.ipynb",
      "provenance": [],
      "collapsed_sections": []
    },
    "kernelspec": {
      "display_name": "Python 3",
      "name": "python3"
    }
  },
  "cells": [
    {
      "cell_type": "markdown",
      "metadata": {
        "id": "nu46PS8i0yxi"
      },
      "source": [
        "<h3><b>Importing Libraries</b></h3>"
      ]
    },
    {
      "cell_type": "code",
      "metadata": {
        "id": "PKbDmW5_lhPO"
      },
      "source": [
        "# Importing Libraries\n",
        "from __future__ import print_function\n",
        "import os\n",
        "import tensorflow as tf\n",
        "import keras\n",
        "from keras import backend as K\n",
        "import numpy as np\n",
        "from keras.datasets import cifar100\n",
        "from keras.preprocessing.image import ImageDataGenerator\n",
        "from keras.layers import Dense, Conv2D, MaxPool2D , Flatten\n",
        "from keras.preprocessing.image import ImageDataGenerator\n",
        "from keras.models import Sequential\n",
        "from keras.layers import Dense, Dropout, Activation, Flatten\n",
        "from keras.layers import Conv2D, MaxPooling2D, BatchNormalization\n",
        "from keras import optimizers\n",
        "from keras import regularizers\n",
        "from matplotlib import pyplot\n",
        "from keras.utils import to_categorical\n",
        "from keras.callbacks import ModelCheckpoint, EarlyStopping\n",
        "from sklearn import metrics\n",
        "from sklearn.metrics import confusion_matrix\n",
        "from sklearn.metrics import accuracy_score\n",
        "from sklearn.metrics import accuracy_score, f1_score, precision_score, recall_score, classification_report, confusion_matrix\n"
      ],
      "execution_count": 1,
      "outputs": []
    },
    {
      "cell_type": "markdown",
      "metadata": {
        "id": "URVrV68X1I88"
      },
      "source": [
        "<h3><b>Importing Dataset<b></h3>"
      ]
    },
    {
      "cell_type": "code",
      "metadata": {
        "id": "1wPJj5pc6wzh",
        "outputId": "f24d6df0-8e8b-4f5c-f3a2-65284e0dca3b",
        "colab": {
          "base_uri": "https://localhost:8080/",
          "height": 119
        }
      },
      "source": [
        "# Load dataset\n",
        "(X_train, y_train), (X_test, y_test) = cifar100.load_data()\n",
        "print(X_train.shape)\n",
        "print(y_train.shape)\n",
        "print(X_test.shape)\n",
        "print(y_test.shape)"
      ],
      "execution_count": 2,
      "outputs": [
        {
          "output_type": "stream",
          "text": [
            "Downloading data from https://www.cs.toronto.edu/~kriz/cifar-100-python.tar.gz\n",
            "169009152/169001437 [==============================] - 4s 0us/step\n",
            "(50000, 32, 32, 3)\n",
            "(50000, 1)\n",
            "(10000, 32, 32, 3)\n",
            "(10000, 1)\n"
          ],
          "name": "stdout"
        }
      ]
    },
    {
      "cell_type": "markdown",
      "metadata": {
        "id": "3LS0RJlr2DKV"
      },
      "source": [
        "<h3><b>Preprocessing of the dataset</b></h3>"
      ]
    },
    {
      "cell_type": "code",
      "metadata": {
        "id": "2vFh_j5y1qoU"
      },
      "source": [
        "# Normalize the dataset\n",
        "X_train = X_train/255\n",
        "X_test = X_test/255"
      ],
      "execution_count": 3,
      "outputs": []
    },
    {
      "cell_type": "code",
      "metadata": {
        "id": "Z_oj_DSa7xxB"
      },
      "source": [
        "#Converting the testing and training dataset into float\n",
        "X_train = X_train.astype('float32')\n",
        "X_test = X_test.astype('float32')"
      ],
      "execution_count": 4,
      "outputs": []
    },
    {
      "cell_type": "code",
      "metadata": {
        "id": "sZ7LTRKGly_z",
        "outputId": "560dd99d-d0ad-48fe-8d76-e1ea29987fae",
        "colab": {
          "base_uri": "https://localhost:8080/",
          "height": 51
        }
      },
      "source": [
        "# Convert training and test labels to one hot matrices\n",
        "print(y_train.shape)\n",
        "y_train = keras.utils.to_categorical(y_train, 100)\n",
        "y_test = keras.utils.to_categorical(y_test, 100)\n",
        "print(y_train.shape)"
      ],
      "execution_count": 5,
      "outputs": [
        {
          "output_type": "stream",
          "text": [
            "(50000, 1)\n",
            "(50000, 100)\n"
          ],
          "name": "stdout"
        }
      ]
    },
    {
      "cell_type": "markdown",
      "metadata": {
        "id": "moYrJA6qJ0pT"
      },
      "source": [
        "<h3><b> Data Augmentation </b></h3>"
      ]
    },
    {
      "cell_type": "code",
      "metadata": {
        "id": "hH5ibTPcly3l",
        "outputId": "dda60e79-5b6a-4494-cc9d-8074cce939e4",
        "colab": {
          "base_uri": "https://localhost:8080/",
          "height": 34
        }
      },
      "source": [
        "#data augmentation\n",
        "datagen = ImageDataGenerator(\n",
        "    featurewise_center=False,  # set input mean to 0 over the dataset\n",
        "    samplewise_center=False,  # set each sample mean to 0\n",
        "    featurewise_std_normalization=False,  # divide inputs by std of the dataset\n",
        "    samplewise_std_normalization=False,  # divide each input by its std\n",
        "    zca_whitening=False,  # apply ZCA whitening\n",
        "    rotation_range=15,  # randomly rotate images in the range (degrees, 0 to 180)\n",
        "    width_shift_range=0.1,  # randomly shift images horizontally (fraction of total width)\n",
        "    height_shift_range=0.1,  # randomly shift images vertically (fraction of total height)\n",
        "    horizontal_flip=True,  # randomly flip images\n",
        "    vertical_flip=False)  # randomly flip images\n",
        "# (std, mean, and principal components if ZCA whitening is applied).\n",
        "datagen.fit(X_train)\n",
        "\n",
        "print(y_train.shape)"
      ],
      "execution_count": 6,
      "outputs": [
        {
          "output_type": "stream",
          "text": [
            "(50000, 100)\n"
          ],
          "name": "stdout"
        }
      ]
    },
    {
      "cell_type": "markdown",
      "metadata": {
        "id": "UeYnQfHWHwnh"
      },
      "source": [
        "<h3><b> Model Architecture </b></h3>\n",
        "\n",
        "\n"
      ]
    },
    {
      "cell_type": "code",
      "metadata": {
        "id": "352YirW8lyBT"
      },
      "source": [
        "def Model():\n",
        "  \n",
        "        x_shape = [32,32,3]\n",
        "        weight_decay = 0.0001\n",
        "        num_classes = 100\n",
        "        model = Sequential()\n",
        "        model.add(Conv2D(input_shape=(32,32,3),filters=64,kernel_size=(3,3),padding=\"same\", activation=\"elu\"))\n",
        "        model.add(Conv2D(filters=64,kernel_size=(3,3),padding=\"same\", activation=\"elu\"))\n",
        "        model.add(MaxPool2D(pool_size=(2,2),strides=(2,2)))\n",
        "        model.add(Conv2D(filters=128, kernel_size=(3,3), padding=\"same\", activation=\"elu\"))\n",
        "        model.add(Conv2D(filters=128, kernel_size=(3,3), padding=\"same\", activation=\"elu\"))\n",
        "        model.add(MaxPool2D(pool_size=(2,2),strides=(2,2)))\n",
        "        model.add(Conv2D(filters=256, kernel_size=(3,3), padding=\"same\", activation=\"elu\"))\n",
        "        model.add(Conv2D(filters=256, kernel_size=(3,3), padding=\"same\", activation=\"elu\"))\n",
        "        model.add(Conv2D(filters=256, kernel_size=(3,3), padding=\"same\", activation=\"elu\"))\n",
        "        model.add(MaxPool2D(pool_size=(2,2),strides=(2,2)))\n",
        "        model.add(Conv2D(filters=512, kernel_size=(3,3), padding=\"same\", activation=\"elu\"))\n",
        "        model.add(Conv2D(filters=512, kernel_size=(3,3), padding=\"same\", activation=\"elu\"))\n",
        "        model.add(Conv2D(filters=512, kernel_size=(3,3), padding=\"same\", activation=\"elu\"))\n",
        "        model.add(MaxPool2D(pool_size=(2,2),strides=(2,2)))\n",
        "        model.add(Conv2D(filters=512, kernel_size=(3,3), padding=\"same\", activation=\"elu\"))\n",
        "        model.add(Conv2D(filters=512, kernel_size=(3,3), padding=\"same\", activation=\"elu\"))\n",
        "        model.add(Conv2D(filters=512, kernel_size=(3,3), padding=\"same\", activation=\"elu\"))\n",
        "        model.add(MaxPool2D(pool_size=(2,2),strides=(2,2)))\n",
        "        model.add(Flatten())\n",
        "        model.add(Dense(units=512,activation=\"elu\"))\n",
        "        model.add(Dense(units=512,activation=\"elu\"))\n",
        "        model.add(Dense(num_classes))\n",
        "        model.add(Activation('softmax'))\n",
        "        return model"
      ],
      "execution_count": 7,
      "outputs": []
    },
    {
      "cell_type": "markdown",
      "metadata": {
        "id": "iJc2AzLRQ9oP"
      },
      "source": [
        "<h3><b> Compile the Model </b></h3>"
      ]
    },
    {
      "cell_type": "code",
      "metadata": {
        "id": "Z3t2ztwxKI-S"
      },
      "source": [
        "model = Model()"
      ],
      "execution_count": 8,
      "outputs": []
    },
    {
      "cell_type": "code",
      "metadata": {
        "id": "h2avPzDJk2T9"
      },
      "source": [
        "\n",
        "learning_rate = 0.0001\n",
        "batch_size = 128\n",
        "lr_decay = 1e-6\n",
        "#optimization details\n",
        "opt = optimizers.Adam(lr=learning_rate)\n",
        "model.compile(loss='categorical_crossentropy', optimizer=opt,metrics=['accuracy'])"
      ],
      "execution_count": 9,
      "outputs": []
    },
    {
      "cell_type": "code",
      "metadata": {
        "id": "vWwqnqq2ryoN",
        "outputId": "7dcdae9d-5f64-4bb7-e484-8fbef2825b64",
        "colab": {
          "base_uri": "https://localhost:8080/",
          "height": 935
        }
      },
      "source": [
        "model.summary()"
      ],
      "execution_count": 10,
      "outputs": [
        {
          "output_type": "stream",
          "text": [
            "Model: \"sequential\"\n",
            "_________________________________________________________________\n",
            "Layer (type)                 Output Shape              Param #   \n",
            "=================================================================\n",
            "conv2d (Conv2D)              (None, 32, 32, 64)        1792      \n",
            "_________________________________________________________________\n",
            "conv2d_1 (Conv2D)            (None, 32, 32, 64)        36928     \n",
            "_________________________________________________________________\n",
            "max_pooling2d (MaxPooling2D) (None, 16, 16, 64)        0         \n",
            "_________________________________________________________________\n",
            "conv2d_2 (Conv2D)            (None, 16, 16, 128)       73856     \n",
            "_________________________________________________________________\n",
            "conv2d_3 (Conv2D)            (None, 16, 16, 128)       147584    \n",
            "_________________________________________________________________\n",
            "max_pooling2d_1 (MaxPooling2 (None, 8, 8, 128)         0         \n",
            "_________________________________________________________________\n",
            "conv2d_4 (Conv2D)            (None, 8, 8, 256)         295168    \n",
            "_________________________________________________________________\n",
            "conv2d_5 (Conv2D)            (None, 8, 8, 256)         590080    \n",
            "_________________________________________________________________\n",
            "conv2d_6 (Conv2D)            (None, 8, 8, 256)         590080    \n",
            "_________________________________________________________________\n",
            "max_pooling2d_2 (MaxPooling2 (None, 4, 4, 256)         0         \n",
            "_________________________________________________________________\n",
            "conv2d_7 (Conv2D)            (None, 4, 4, 512)         1180160   \n",
            "_________________________________________________________________\n",
            "conv2d_8 (Conv2D)            (None, 4, 4, 512)         2359808   \n",
            "_________________________________________________________________\n",
            "conv2d_9 (Conv2D)            (None, 4, 4, 512)         2359808   \n",
            "_________________________________________________________________\n",
            "max_pooling2d_3 (MaxPooling2 (None, 2, 2, 512)         0         \n",
            "_________________________________________________________________\n",
            "conv2d_10 (Conv2D)           (None, 2, 2, 512)         2359808   \n",
            "_________________________________________________________________\n",
            "conv2d_11 (Conv2D)           (None, 2, 2, 512)         2359808   \n",
            "_________________________________________________________________\n",
            "conv2d_12 (Conv2D)           (None, 2, 2, 512)         2359808   \n",
            "_________________________________________________________________\n",
            "max_pooling2d_4 (MaxPooling2 (None, 1, 1, 512)         0         \n",
            "_________________________________________________________________\n",
            "flatten (Flatten)            (None, 512)               0         \n",
            "_________________________________________________________________\n",
            "dense (Dense)                (None, 512)               262656    \n",
            "_________________________________________________________________\n",
            "dense_1 (Dense)              (None, 512)               262656    \n",
            "_________________________________________________________________\n",
            "dense_2 (Dense)              (None, 100)               51300     \n",
            "_________________________________________________________________\n",
            "activation (Activation)      (None, 100)               0         \n",
            "=================================================================\n",
            "Total params: 15,291,300\n",
            "Trainable params: 15,291,300\n",
            "Non-trainable params: 0\n",
            "_________________________________________________________________\n"
          ],
          "name": "stdout"
        }
      ]
    },
    {
      "cell_type": "markdown",
      "metadata": {
        "id": "s6HPmAh5RGLe"
      },
      "source": [
        "<h3><b> Train the Model</b></h3>"
      ]
    },
    {
      "cell_type": "code",
      "metadata": {
        "id": "0jcsr1krovRG",
        "outputId": "d4f7995d-aa65-47c2-efcf-c566a894907c",
        "colab": {
          "base_uri": "https://localhost:8080/",
          "height": 34
        }
      },
      "source": [
        "# Create Checkpoint and Early Stopping\n",
        "checkpoint = ModelCheckpoint(\"VGG16_Adam_NoRegularisation.h5\", monitor='val_loss', verbose=1, save_best_only=True, save_weights_only=True, mode='auto', period=1)\n",
        "early = EarlyStopping(monitor='val_loss', min_delta=0, patience=5, verbose=1, mode='auto')"
      ],
      "execution_count": 11,
      "outputs": [
        {
          "output_type": "stream",
          "text": [
            "WARNING:tensorflow:`period` argument is deprecated. Please use `save_freq` to specify the frequency in number of batches seen.\n"
          ],
          "name": "stdout"
        }
      ]
    },
    {
      "cell_type": "code",
      "metadata": {
        "id": "LGqjFOyFwNeO",
        "outputId": "79d24cae-75ca-4a62-b19f-55ebb81977d6",
        "colab": {
          "base_uri": "https://localhost:8080/",
          "height": 1000
        }
      },
      "source": [
        "batch_size = 128\n",
        "history = model.fit_generator(datagen.flow(X_train, y_train, batch_size=batch_size),validation_data=(X_test, y_test), epochs=100,callbacks=[checkpoint,early])"
      ],
      "execution_count": 12,
      "outputs": [
        {
          "output_type": "stream",
          "text": [
            "WARNING:tensorflow:From <ipython-input-12-d4550a79429d>:2: Model.fit_generator (from tensorflow.python.keras.engine.training) is deprecated and will be removed in a future version.\n",
            "Instructions for updating:\n",
            "Please use Model.fit, which supports generators.\n",
            "Epoch 1/100\n",
            "  2/391 [..............................] - ETA: 10s - loss: 4.6061 - accuracy: 0.0078WARNING:tensorflow:Callbacks method `on_train_batch_end` is slow compared to the batch time (batch time: 0.0215s vs `on_train_batch_end` time: 0.0398s). Check your callbacks.\n",
            "391/391 [==============================] - ETA: 0s - loss: 3.9654 - accuracy: 0.0864\n",
            "Epoch 00001: val_loss improved from inf to 3.47828, saving model to VGG16_Adam_NoRegularisation.h5\n",
            "391/391 [==============================] - 34s 88ms/step - loss: 3.9654 - accuracy: 0.0864 - val_loss: 3.4783 - val_accuracy: 0.1679\n",
            "Epoch 2/100\n",
            "391/391 [==============================] - ETA: 0s - loss: 3.3307 - accuracy: 0.1874\n",
            "Epoch 00002: val_loss improved from 3.47828 to 3.23611, saving model to VGG16_Adam_NoRegularisation.h5\n",
            "391/391 [==============================] - 33s 85ms/step - loss: 3.3307 - accuracy: 0.1874 - val_loss: 3.2361 - val_accuracy: 0.2153\n",
            "Epoch 3/100\n",
            "391/391 [==============================] - ETA: 0s - loss: 2.9828 - accuracy: 0.2559\n",
            "Epoch 00003: val_loss improved from 3.23611 to 2.87150, saving model to VGG16_Adam_NoRegularisation.h5\n",
            "391/391 [==============================] - 33s 85ms/step - loss: 2.9828 - accuracy: 0.2559 - val_loss: 2.8715 - val_accuracy: 0.2780\n",
            "Epoch 4/100\n",
            "391/391 [==============================] - ETA: 0s - loss: 2.7348 - accuracy: 0.3023\n",
            "Epoch 00004: val_loss improved from 2.87150 to 2.68890, saving model to VGG16_Adam_NoRegularisation.h5\n",
            "391/391 [==============================] - 33s 85ms/step - loss: 2.7348 - accuracy: 0.3023 - val_loss: 2.6889 - val_accuracy: 0.3209\n",
            "Epoch 5/100\n",
            "391/391 [==============================] - ETA: 0s - loss: 2.5166 - accuracy: 0.3468\n",
            "Epoch 00005: val_loss improved from 2.68890 to 2.45898, saving model to VGG16_Adam_NoRegularisation.h5\n",
            "391/391 [==============================] - 33s 85ms/step - loss: 2.5166 - accuracy: 0.3468 - val_loss: 2.4590 - val_accuracy: 0.3683\n",
            "Epoch 6/100\n",
            "391/391 [==============================] - ETA: 0s - loss: 2.3304 - accuracy: 0.3884\n",
            "Epoch 00006: val_loss improved from 2.45898 to 2.40905, saving model to VGG16_Adam_NoRegularisation.h5\n",
            "391/391 [==============================] - 33s 86ms/step - loss: 2.3304 - accuracy: 0.3884 - val_loss: 2.4090 - val_accuracy: 0.3761\n",
            "Epoch 7/100\n",
            "391/391 [==============================] - ETA: 0s - loss: 2.1731 - accuracy: 0.4228\n",
            "Epoch 00007: val_loss improved from 2.40905 to 2.27685, saving model to VGG16_Adam_NoRegularisation.h5\n",
            "391/391 [==============================] - 33s 85ms/step - loss: 2.1731 - accuracy: 0.4228 - val_loss: 2.2769 - val_accuracy: 0.4081\n",
            "Epoch 8/100\n",
            "391/391 [==============================] - ETA: 0s - loss: 2.0299 - accuracy: 0.4524\n",
            "Epoch 00008: val_loss improved from 2.27685 to 2.22996, saving model to VGG16_Adam_NoRegularisation.h5\n",
            "391/391 [==============================] - 33s 85ms/step - loss: 2.0299 - accuracy: 0.4524 - val_loss: 2.2300 - val_accuracy: 0.4212\n",
            "Epoch 9/100\n",
            "391/391 [==============================] - ETA: 0s - loss: 1.8994 - accuracy: 0.4847\n",
            "Epoch 00009: val_loss improved from 2.22996 to 2.22884, saving model to VGG16_Adam_NoRegularisation.h5\n",
            "391/391 [==============================] - 33s 86ms/step - loss: 1.8994 - accuracy: 0.4847 - val_loss: 2.2288 - val_accuracy: 0.4320\n",
            "Epoch 10/100\n",
            "391/391 [==============================] - ETA: 0s - loss: 1.7815 - accuracy: 0.5108\n",
            "Epoch 00010: val_loss improved from 2.22884 to 2.08172, saving model to VGG16_Adam_NoRegularisation.h5\n",
            "391/391 [==============================] - 33s 85ms/step - loss: 1.7815 - accuracy: 0.5108 - val_loss: 2.0817 - val_accuracy: 0.4577\n",
            "Epoch 11/100\n",
            "391/391 [==============================] - ETA: 0s - loss: 1.6722 - accuracy: 0.5363\n",
            "Epoch 00011: val_loss did not improve from 2.08172\n",
            "391/391 [==============================] - 34s 86ms/step - loss: 1.6722 - accuracy: 0.5363 - val_loss: 2.1012 - val_accuracy: 0.4665\n",
            "Epoch 12/100\n",
            "391/391 [==============================] - ETA: 0s - loss: 1.5530 - accuracy: 0.5640\n",
            "Epoch 00012: val_loss did not improve from 2.08172\n",
            "391/391 [==============================] - 33s 86ms/step - loss: 1.5530 - accuracy: 0.5640 - val_loss: 2.0913 - val_accuracy: 0.4749\n",
            "Epoch 13/100\n",
            "391/391 [==============================] - ETA: 0s - loss: 1.4314 - accuracy: 0.5958\n",
            "Epoch 00013: val_loss improved from 2.08172 to 2.05324, saving model to VGG16_Adam_NoRegularisation.h5\n",
            "391/391 [==============================] - 34s 86ms/step - loss: 1.4314 - accuracy: 0.5958 - val_loss: 2.0532 - val_accuracy: 0.4852\n",
            "Epoch 14/100\n",
            "391/391 [==============================] - ETA: 0s - loss: 1.3236 - accuracy: 0.6195\n",
            "Epoch 00014: val_loss did not improve from 2.05324\n",
            "391/391 [==============================] - 33s 85ms/step - loss: 1.3236 - accuracy: 0.6195 - val_loss: 2.0715 - val_accuracy: 0.4914\n",
            "Epoch 15/100\n",
            "391/391 [==============================] - ETA: 0s - loss: 1.2140 - accuracy: 0.6488\n",
            "Epoch 00015: val_loss did not improve from 2.05324\n",
            "391/391 [==============================] - 34s 86ms/step - loss: 1.2140 - accuracy: 0.6488 - val_loss: 2.0836 - val_accuracy: 0.4903\n",
            "Epoch 16/100\n",
            "391/391 [==============================] - ETA: 0s - loss: 1.0979 - accuracy: 0.6788\n",
            "Epoch 00016: val_loss did not improve from 2.05324\n",
            "391/391 [==============================] - 33s 85ms/step - loss: 1.0979 - accuracy: 0.6788 - val_loss: 2.1285 - val_accuracy: 0.4916\n",
            "Epoch 17/100\n",
            "391/391 [==============================] - ETA: 0s - loss: 0.9948 - accuracy: 0.7013\n",
            "Epoch 00017: val_loss did not improve from 2.05324\n",
            "391/391 [==============================] - 33s 85ms/step - loss: 0.9948 - accuracy: 0.7013 - val_loss: 2.1787 - val_accuracy: 0.4925\n",
            "Epoch 18/100\n",
            "391/391 [==============================] - ETA: 0s - loss: 0.8942 - accuracy: 0.7299\n",
            "Epoch 00018: val_loss did not improve from 2.05324\n",
            "391/391 [==============================] - 33s 85ms/step - loss: 0.8942 - accuracy: 0.7299 - val_loss: 2.3008 - val_accuracy: 0.4777\n",
            "Epoch 00018: early stopping\n"
          ],
          "name": "stdout"
        }
      ]
    },
    {
      "cell_type": "markdown",
      "metadata": {
        "id": "2Q5vb0hEL_tA"
      },
      "source": [
        "<h3><b> Graphs</b></h3>"
      ]
    },
    {
      "cell_type": "code",
      "metadata": {
        "id": "lYhxlC4wy2L5",
        "outputId": "9f722cd6-35d3-4937-997c-64bbee20db91",
        "colab": {
          "base_uri": "https://localhost:8080/",
          "height": 312
        }
      },
      "source": [
        "import matplotlib.pyplot as plt\n",
        "\n",
        "history_dict = history.history\n",
        "print(history_dict.keys())\n",
        "accuracy_values = history_dict['accuracy']\n",
        "val_accuracy_values = history_dict['val_accuracy']\n",
        "\n",
        "epochs = range(1, len(history_dict['accuracy']) + 1)\n",
        "\n",
        "plt.plot(epochs, accuracy_values, 'bo', label='Training Accuracy')\n",
        "plt.plot(epochs, val_accuracy_values, 'b', label='Validation loss')\n",
        "plt.title('Training and validation Accuracy')\n",
        "plt.xlabel('Epochs')\n",
        "plt.ylabel('Accuracy')\n",
        "plt.legend()\n",
        "\n",
        "plt.show()\n"
      ],
      "execution_count": 13,
      "outputs": [
        {
          "output_type": "stream",
          "text": [
            "dict_keys(['loss', 'accuracy', 'val_loss', 'val_accuracy'])\n"
          ],
          "name": "stdout"
        },
        {
          "output_type": "display_data",
          "data": {
            "image/png": "[encoded data removed]",
            "text/plain": [
              "<Figure size 432x288 with 1 Axes>"
            ]
          },
          "metadata": {
            "tags": [],
            "needs_background": "light"
          }
        }
      ]
    },
    {
      "cell_type": "code",
      "metadata": {
        "id": "7gw44X455Nya",
        "outputId": "79b21bcb-2768-43ca-f281-3a46dbf1a27f",
        "colab": {
          "base_uri": "https://localhost:8080/",
          "height": 312
        }
      },
      "source": [
        "import matplotlib.pyplot as plt\n",
        "\n",
        "history_dict = history.history\n",
        "print(history_dict.keys())\n",
        "loss_values = history_dict['loss']\n",
        "val_loss_values = history_dict['val_loss']\n",
        "\n",
        "epochs = range(1, len(history_dict['accuracy']) + 1)\n",
        "\n",
        "plt.plot(epochs, loss_values, 'bo', label='Training loss')\n",
        "plt.plot(epochs, val_loss_values, 'b', label='Validation loss')\n",
        "plt.title('Training and validation loss')\n",
        "plt.xlabel('Epochs')\n",
        "plt.ylabel('Loss')\n",
        "plt.legend()\n",
        "\n",
        "plt.show()\n"
      ],
      "execution_count": 14,
      "outputs": [
        {
          "output_type": "stream",
          "text": [
            "dict_keys(['loss', 'accuracy', 'val_loss', 'val_accuracy'])\n"
          ],
          "name": "stdout"
        },
        {
          "output_type": "display_data",
          "data": {
            "image/png": "[encoded data removed]",
            "text/plain": [
              "<Figure size 432x288 with 1 Axes>"
            ]
          },
          "metadata": {
            "tags": [],
            "needs_background": "light"
          }
        }
      ]
    },
    {
      "cell_type": "markdown",
      "metadata": {
        "id": "mWJuMoswQJCC"
      },
      "source": [
        "<h3><b> Model Save and Metrics</b></h3> "
      ]
    },
    {
      "cell_type": "code",
      "metadata": {
        "id": "zxbcWbZq6DF1",
        "outputId": "415f135c-071c-4a17-f43b-0b1a437a1ab5",
        "colab": {
          "base_uri": "https://localhost:8080/",
          "height": 68
        }
      },
      "source": [
        "model1 = Model()\n",
        "model1.load_weights(\"./VGG16_Adam_NoRegularisation.h5\")\n",
        "learning_rate = 0.001\n",
        "batch_size = 128\n",
        "lr_decay = 1e-6\n",
        "#optimization details\n",
        "opt = optimizers.Adam(lr=learning_rate)\n",
        "model.compile(loss='categorical_crossentropy', optimizer=opt,metrics=['accuracy'])\n",
        "# Test the model\n",
        "model.predict(X_test).argmax(-1)\n",
        "\n",
        "y_true = y_test.argmax(-1)\n",
        "y_pred = model.predict(X_test).argmax(-1)\n",
        "# generate confusion matrix\n",
        "from sklearn.metrics import confusion_matrix, precision_score, recall_score, accuracy_score\n",
        "confusion_matrix(y_true, y_pred)\n",
        "# calculate prec, recall, accuracy\n",
        "print(\"Prec: \"+ str(precision_score(y_true, y_pred, average='weighted')))\n",
        "print(\"Recall: \"+ str(recall_score(y_true, y_pred, average='weighted')))\n",
        "print(\"Accuracy: \" + str(accuracy_score(y_true, y_pred)))"
      ],
      "execution_count": 15,
      "outputs": [
        {
          "output_type": "stream",
          "text": [
            "Prec: 0.5111234785386478\n",
            "Recall: 0.4777\n",
            "Accuracy: 0.4777\n"
          ],
          "name": "stdout"
        }
      ]
    },
    {
      "cell_type": "markdown",
      "metadata": {
        "id": "dFDFRH7ON583"
      },
      "source": [
        "<h3><b> References</b></h3>"
      ]
    },
    {
      "cell_type": "code",
      "metadata": {
        "id": "XmygfOQPN-cS"
      },
      "source": [
        "#https://towardsdatascience.com/step-by-step-vgg16-implementation-in-keras-for-beginners-a833c686ae6c\n",
        "#https://github.com/geifmany/cifar-vgg/blob/master/cifar100vgg.py"
      ],
      "execution_count": 16,
      "outputs": []
    }
  ]
}
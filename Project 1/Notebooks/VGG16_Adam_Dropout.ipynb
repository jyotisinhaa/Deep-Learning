{
  "nbformat": 4,
  "nbformat_minor": 0,
  "metadata": {
    "accelerator": "GPU",
    "colab": {
      "name": "VGG16_Adam_Dropout.ipynb",
      "provenance": [],
      "collapsed_sections": []
    },
    "kernelspec": {
      "display_name": "Python 3",
      "name": "python3"
    }
  },
  "cells": [
    {
      "cell_type": "markdown",
      "metadata": {
        "id": "nu46PS8i0yxi"
      },
      "source": [
        "<h3><b>Importing Libraries</b></h3>"
      ]
    },
    {
      "cell_type": "code",
      "metadata": {
        "id": "PKbDmW5_lhPO"
      },
      "source": [
        "# Importing Libraries\n",
        "from __future__ import print_function\n",
        "import os\n",
        "import tensorflow as tf\n",
        "import keras\n",
        "from keras import backend as K\n",
        "import numpy as np\n",
        "from keras.datasets import cifar100\n",
        "from keras.preprocessing.image import ImageDataGenerator\n",
        "from keras.models import Sequential\n",
        "from keras.layers import Dense, Dropout, Activation, Flatten\n",
        "from keras.layers import Conv2D, MaxPooling2D, BatchNormalization\n",
        "from keras import optimizers\n",
        "from keras import regularizers\n",
        "from matplotlib import pyplot\n",
        "from keras.utils import to_categorical\n",
        "from keras.callbacks import ModelCheckpoint, EarlyStopping\n",
        "from sklearn import metrics\n",
        "from sklearn.metrics import confusion_matrix\n",
        "from sklearn.metrics import accuracy_score\n",
        "from sklearn.metrics import accuracy_score, f1_score, precision_score, recall_score, classification_report, confusion_matrix\n"
      ],
      "execution_count": 1,
      "outputs": []
    },
    {
      "cell_type": "markdown",
      "metadata": {
        "id": "URVrV68X1I88"
      },
      "source": [
        "<h3><b>Importing Dataset<b></h3>"
      ]
    },
    {
      "cell_type": "code",
      "metadata": {
        "id": "1wPJj5pc6wzh",
        "outputId": "be12b523-b925-4987-b7fe-32f5e4b387b8",
        "colab": {
          "base_uri": "https://localhost:8080/",
          "height": 139
        }
      },
      "source": [
        "# Load dataset\n",
        "(X_train, y_train), (X_test, y_test) = cifar100.load_data()\n",
        "print(X_train.shape)\n",
        "print(y_train.shape)\n",
        "print(X_test.shape)\n",
        "print(y_test.shape)"
      ],
      "execution_count": 2,
      "outputs": [
        {
          "output_type": "stream",
          "text": [
            "Downloading data from https://www.cs.toronto.edu/~kriz/cifar-100-python.tar.gz\n",
            "169009152/169001437 [==============================] - 6s 0us/step\n",
            "(50000, 32, 32, 3)\n",
            "(50000, 1)\n",
            "(10000, 32, 32, 3)\n",
            "(10000, 1)\n"
          ],
          "name": "stdout"
        }
      ]
    },
    {
      "cell_type": "markdown",
      "metadata": {
        "id": "3LS0RJlr2DKV"
      },
      "source": [
        "<h3><b>Preprocessing of the dataset</b></h3>"
      ]
    },
    {
      "cell_type": "code",
      "metadata": {
        "id": "2vFh_j5y1qoU"
      },
      "source": [
        "# Normalize the dataset\n",
        "X_train = X_train/255\n",
        "X_test = X_test/255"
      ],
      "execution_count": 3,
      "outputs": []
    },
    {
      "cell_type": "code",
      "metadata": {
        "id": "Z_oj_DSa7xxB"
      },
      "source": [
        "#Converting the testing and training dataset into float\n",
        "X_train = X_train.astype('float32')\n",
        "X_test = X_test.astype('float32')"
      ],
      "execution_count": 4,
      "outputs": []
    },
    {
      "cell_type": "code",
      "metadata": {
        "id": "sZ7LTRKGly_z",
        "outputId": "f2095e54-5843-420e-d16f-fbfdd502907c",
        "colab": {
          "base_uri": "https://localhost:8080/",
          "height": 51
        }
      },
      "source": [
        "# Convert training and test labels to one hot matrices\n",
        "print(y_train.shape)\n",
        "y_train = keras.utils.to_categorical(y_train, 100)\n",
        "y_test = keras.utils.to_categorical(y_test, 100)\n",
        "print(y_train.shape)"
      ],
      "execution_count": 5,
      "outputs": [
        {
          "output_type": "stream",
          "text": [
            "(50000, 1)\n",
            "(50000, 100)\n"
          ],
          "name": "stdout"
        }
      ]
    },
    {
      "cell_type": "markdown",
      "metadata": {
        "id": "moYrJA6qJ0pT"
      },
      "source": [
        "<h3><b> Data Augmentation </b></h3>"
      ]
    },
    {
      "cell_type": "code",
      "metadata": {
        "id": "hH5ibTPcly3l",
        "outputId": "c4a07ebf-99a0-47f0-e038-cf7080876ed0",
        "colab": {
          "base_uri": "https://localhost:8080/",
          "height": 34
        }
      },
      "source": [
        "#data augmentation\n",
        "datagen = ImageDataGenerator(\n",
        "    featurewise_center=False,  # set input mean to 0 over the dataset\n",
        "    samplewise_center=False,  # set each sample mean to 0\n",
        "    featurewise_std_normalization=False,  # divide inputs by std of the dataset\n",
        "    samplewise_std_normalization=False,  # divide each input by its std\n",
        "    zca_whitening=False,  # apply ZCA whitening\n",
        "    rotation_range=15,  # randomly rotate images in the range (degrees, 0 to 180)\n",
        "    width_shift_range=0.1,  # randomly shift images horizontally (fraction of total width)\n",
        "    height_shift_range=0.1,  # randomly shift images vertically (fraction of total height)\n",
        "    horizontal_flip=True,  # randomly flip images\n",
        "    vertical_flip=False)  # randomly flip images\n",
        "# (std, mean, and principal components if ZCA whitening is applied).\n",
        "datagen.fit(X_train)\n",
        "\n",
        "print(y_train.shape)"
      ],
      "execution_count": 6,
      "outputs": [
        {
          "output_type": "stream",
          "text": [
            "(50000, 100)\n"
          ],
          "name": "stdout"
        }
      ]
    },
    {
      "cell_type": "markdown",
      "metadata": {
        "id": "UeYnQfHWHwnh"
      },
      "source": [
        "<h3><b> Model Architecture </b></h3>\n",
        "\n",
        "\n"
      ]
    },
    {
      "cell_type": "code",
      "metadata": {
        "id": "352YirW8lyBT"
      },
      "source": [
        "def Model():\n",
        "        x_shape = [32,32,3]\n",
        "        weight_decay = 0.0001\n",
        "        num_classes = 100\n",
        "        model = Sequential()\n",
        "        model.add(Conv2D(64, (3, 3), padding='same', input_shape= x_shape,kernel_regularizer=regularizers.l2(weight_decay)))\n",
        "        model.add(Activation('elu'))\n",
        "        model.add(BatchNormalization())\n",
        "\n",
        "        model.add(Conv2D(64, (3, 3), padding='same',kernel_regularizer=regularizers.l2(weight_decay)))\n",
        "        model.add(Activation('elu'))\n",
        "        model.add(BatchNormalization())\n",
        "\n",
        "        model.add(MaxPooling2D(pool_size=(2, 2)))\n",
        "\n",
        "        model.add(Conv2D(128, (3, 3), padding='same',kernel_regularizer=regularizers.l2(weight_decay)))\n",
        "        model.add(Activation('elu'))\n",
        "        model.add(BatchNormalization())\n",
        "\n",
        "        model.add(Conv2D(128, (3, 3), padding='same',kernel_regularizer=regularizers.l2(weight_decay)))\n",
        "        model.add(Activation('elu'))\n",
        "        model.add(BatchNormalization())\n",
        "\n",
        "        model.add(MaxPooling2D(pool_size=(2, 2)))\n",
        "\n",
        "        model.add(Conv2D(256, (3, 3), padding='same',kernel_regularizer=regularizers.l2(weight_decay)))\n",
        "        model.add(Activation('elu'))\n",
        "        model.add(BatchNormalization())\n",
        "\n",
        "        model.add(Conv2D(256, (3, 3), padding='same',kernel_regularizer=regularizers.l2(weight_decay)))\n",
        "        model.add(Activation('elu'))\n",
        "        model.add(BatchNormalization())\n",
        "\n",
        "        model.add(Conv2D(256, (3, 3), padding='same',kernel_regularizer=regularizers.l2(weight_decay)))\n",
        "        model.add(Activation('elu'))\n",
        "        model.add(BatchNormalization())\n",
        "\n",
        "        model.add(MaxPooling2D(pool_size=(2, 2)))\n",
        "\n",
        "\n",
        "        model.add(Conv2D(512, (3, 3), padding='same',kernel_regularizer=regularizers.l2(weight_decay)))\n",
        "        model.add(Activation('elu'))\n",
        "        model.add(BatchNormalization())\n",
        "\n",
        "        model.add(Conv2D(512, (3, 3), padding='same',kernel_regularizer=regularizers.l2(weight_decay)))\n",
        "        model.add(Activation('elu'))\n",
        "        model.add(BatchNormalization())\n",
        "\n",
        "        model.add(Conv2D(512, (3, 3), padding='same',kernel_regularizer=regularizers.l2(weight_decay)))\n",
        "        model.add(Activation('elu'))\n",
        "        model.add(BatchNormalization())\n",
        "\n",
        "        model.add(MaxPooling2D(pool_size=(2, 2)))\n",
        "\n",
        "\n",
        "        model.add(Conv2D(512, (3, 3), padding='same',kernel_regularizer=regularizers.l2(weight_decay)))\n",
        "        model.add(Activation('elu'))\n",
        "        model.add(Dropout(0.4))\n",
        "\n",
        "        model.add(Conv2D(512, (3, 3), padding='same',kernel_regularizer=regularizers.l2(weight_decay)))\n",
        "        model.add(Activation('elu'))\n",
        "        model.add(BatchNormalization())\n",
        "\n",
        "        model.add(Conv2D(512, (3, 3), padding='same',kernel_regularizer=regularizers.l2(weight_decay)))\n",
        "        model.add(Activation('elu'))\n",
        "        model.add(BatchNormalization())\n",
        "\n",
        "        model.add(MaxPooling2D(pool_size=(2, 2)))\n",
        "\n",
        "        model.add(Flatten())\n",
        "        model.add(Dense(512,kernel_regularizer=regularizers.l2(weight_decay)))\n",
        "        model.add(Activation('elu'))\n",
        "        model.add(BatchNormalization())\n",
        "\n",
        "        model.add(Dense(num_classes))\n",
        "        model.add(Dropout(0.5))\n",
        "        model.add(Activation('softmax'))\n",
        "\n",
        "\n",
        "              \n",
        "              \n",
        "\n",
        "              \n",
        "\n",
        "        return model\n",
        "      "
      ],
      "execution_count": 7,
      "outputs": []
    },
    {
      "cell_type": "markdown",
      "metadata": {
        "id": "iJc2AzLRQ9oP"
      },
      "source": [
        "<h3><b> Compile the Model </b></h3>"
      ]
    },
    {
      "cell_type": "code",
      "metadata": {
        "id": "Z3t2ztwxKI-S"
      },
      "source": [
        "model = Model()"
      ],
      "execution_count": 8,
      "outputs": []
    },
    {
      "cell_type": "code",
      "metadata": {
        "id": "h2avPzDJk2T9"
      },
      "source": [
        "learning_rate = 0.00001\n",
        "batch_size = 128\n",
        "lr_decay = 1e-6\n",
        "#optimization details\n",
        "opt = optimizers.Adam(lr=learning_rate)\n",
        "model.compile(loss='categorical_crossentropy', optimizer=opt,metrics=['accuracy'])"
      ],
      "execution_count": 9,
      "outputs": []
    },
    {
      "cell_type": "code",
      "metadata": {
        "id": "vWwqnqq2ryoN",
        "outputId": "fbe4f039-8edf-44a2-e5a1-e2ca06ab0020",
        "colab": {
          "base_uri": "https://localhost:8080/",
          "height": 1000
        }
      },
      "source": [
        "model.summary()"
      ],
      "execution_count": 10,
      "outputs": [
        {
          "output_type": "stream",
          "text": [
            "Model: \"sequential\"\n",
            "_________________________________________________________________\n",
            "Layer (type)                 Output Shape              Param #   \n",
            "=================================================================\n",
            "conv2d (Conv2D)              (None, 32, 32, 64)        1792      \n",
            "_________________________________________________________________\n",
            "activation (Activation)      (None, 32, 32, 64)        0         \n",
            "_________________________________________________________________\n",
            "batch_normalization (BatchNo (None, 32, 32, 64)        256       \n",
            "_________________________________________________________________\n",
            "conv2d_1 (Conv2D)            (None, 32, 32, 64)        36928     \n",
            "_________________________________________________________________\n",
            "activation_1 (Activation)    (None, 32, 32, 64)        0         \n",
            "_________________________________________________________________\n",
            "batch_normalization_1 (Batch (None, 32, 32, 64)        256       \n",
            "_________________________________________________________________\n",
            "max_pooling2d (MaxPooling2D) (None, 16, 16, 64)        0         \n",
            "_________________________________________________________________\n",
            "conv2d_2 (Conv2D)            (None, 16, 16, 128)       73856     \n",
            "_________________________________________________________________\n",
            "activation_2 (Activation)    (None, 16, 16, 128)       0         \n",
            "_________________________________________________________________\n",
            "batch_normalization_2 (Batch (None, 16, 16, 128)       512       \n",
            "_________________________________________________________________\n",
            "conv2d_3 (Conv2D)            (None, 16, 16, 128)       147584    \n",
            "_________________________________________________________________\n",
            "activation_3 (Activation)    (None, 16, 16, 128)       0         \n",
            "_________________________________________________________________\n",
            "batch_normalization_3 (Batch (None, 16, 16, 128)       512       \n",
            "_________________________________________________________________\n",
            "max_pooling2d_1 (MaxPooling2 (None, 8, 8, 128)         0         \n",
            "_________________________________________________________________\n",
            "conv2d_4 (Conv2D)            (None, 8, 8, 256)         295168    \n",
            "_________________________________________________________________\n",
            "activation_4 (Activation)    (None, 8, 8, 256)         0         \n",
            "_________________________________________________________________\n",
            "batch_normalization_4 (Batch (None, 8, 8, 256)         1024      \n",
            "_________________________________________________________________\n",
            "conv2d_5 (Conv2D)            (None, 8, 8, 256)         590080    \n",
            "_________________________________________________________________\n",
            "activation_5 (Activation)    (None, 8, 8, 256)         0         \n",
            "_________________________________________________________________\n",
            "batch_normalization_5 (Batch (None, 8, 8, 256)         1024      \n",
            "_________________________________________________________________\n",
            "conv2d_6 (Conv2D)            (None, 8, 8, 256)         590080    \n",
            "_________________________________________________________________\n",
            "activation_6 (Activation)    (None, 8, 8, 256)         0         \n",
            "_________________________________________________________________\n",
            "batch_normalization_6 (Batch (None, 8, 8, 256)         1024      \n",
            "_________________________________________________________________\n",
            "max_pooling2d_2 (MaxPooling2 (None, 4, 4, 256)         0         \n",
            "_________________________________________________________________\n",
            "conv2d_7 (Conv2D)            (None, 4, 4, 512)         1180160   \n",
            "_________________________________________________________________\n",
            "activation_7 (Activation)    (None, 4, 4, 512)         0         \n",
            "_________________________________________________________________\n",
            "batch_normalization_7 (Batch (None, 4, 4, 512)         2048      \n",
            "_________________________________________________________________\n",
            "conv2d_8 (Conv2D)            (None, 4, 4, 512)         2359808   \n",
            "_________________________________________________________________\n",
            "activation_8 (Activation)    (None, 4, 4, 512)         0         \n",
            "_________________________________________________________________\n",
            "batch_normalization_8 (Batch (None, 4, 4, 512)         2048      \n",
            "_________________________________________________________________\n",
            "conv2d_9 (Conv2D)            (None, 4, 4, 512)         2359808   \n",
            "_________________________________________________________________\n",
            "activation_9 (Activation)    (None, 4, 4, 512)         0         \n",
            "_________________________________________________________________\n",
            "batch_normalization_9 (Batch (None, 4, 4, 512)         2048      \n",
            "_________________________________________________________________\n",
            "max_pooling2d_3 (MaxPooling2 (None, 2, 2, 512)         0         \n",
            "_________________________________________________________________\n",
            "conv2d_10 (Conv2D)           (None, 2, 2, 512)         2359808   \n",
            "_________________________________________________________________\n",
            "activation_10 (Activation)   (None, 2, 2, 512)         0         \n",
            "_________________________________________________________________\n",
            "dropout (Dropout)            (None, 2, 2, 512)         0         \n",
            "_________________________________________________________________\n",
            "conv2d_11 (Conv2D)           (None, 2, 2, 512)         2359808   \n",
            "_________________________________________________________________\n",
            "activation_11 (Activation)   (None, 2, 2, 512)         0         \n",
            "_________________________________________________________________\n",
            "batch_normalization_10 (Batc (None, 2, 2, 512)         2048      \n",
            "_________________________________________________________________\n",
            "conv2d_12 (Conv2D)           (None, 2, 2, 512)         2359808   \n",
            "_________________________________________________________________\n",
            "activation_12 (Activation)   (None, 2, 2, 512)         0         \n",
            "_________________________________________________________________\n",
            "batch_normalization_11 (Batc (None, 2, 2, 512)         2048      \n",
            "_________________________________________________________________\n",
            "max_pooling2d_4 (MaxPooling2 (None, 1, 1, 512)         0         \n",
            "_________________________________________________________________\n",
            "flatten (Flatten)            (None, 512)               0         \n",
            "_________________________________________________________________\n",
            "dense (Dense)                (None, 512)               262656    \n",
            "_________________________________________________________________\n",
            "activation_13 (Activation)   (None, 512)               0         \n",
            "_________________________________________________________________\n",
            "batch_normalization_12 (Batc (None, 512)               2048      \n",
            "_________________________________________________________________\n",
            "dense_1 (Dense)              (None, 100)               51300     \n",
            "_________________________________________________________________\n",
            "dropout_1 (Dropout)          (None, 100)               0         \n",
            "_________________________________________________________________\n",
            "activation_14 (Activation)   (None, 100)               0         \n",
            "=================================================================\n",
            "Total params: 15,045,540\n",
            "Trainable params: 15,037,092\n",
            "Non-trainable params: 8,448\n",
            "_________________________________________________________________\n"
          ],
          "name": "stdout"
        }
      ]
    },
    {
      "cell_type": "markdown",
      "metadata": {
        "id": "s6HPmAh5RGLe"
      },
      "source": [
        "<h3><b> Train the Model</b></h3>"
      ]
    },
    {
      "cell_type": "code",
      "metadata": {
        "id": "0jcsr1krovRG",
        "outputId": "b088ef04-0fba-40ac-f414-88b757b296ef",
        "colab": {
          "base_uri": "https://localhost:8080/",
          "height": 54
        }
      },
      "source": [
        "# Create Checkpoint and Early Stopping\n",
        "checkpoint = ModelCheckpoint(\"vgg16_Adam_Dropout.h5\", monitor='val_loss', verbose=1, save_best_only=True, save_weights_only=True, mode='auto', period=1)\n",
        "early = EarlyStopping(monitor='val_loss', min_delta=0, patience=5, verbose=1, mode='auto')"
      ],
      "execution_count": 11,
      "outputs": [
        {
          "output_type": "stream",
          "text": [
            "WARNING:tensorflow:`period` argument is deprecated. Please use `save_freq` to specify the frequency in number of batches seen.\n"
          ],
          "name": "stdout"
        }
      ]
    },
    {
      "cell_type": "code",
      "metadata": {
        "id": "w_cTu7I-9goT",
        "outputId": "a8d9c5d1-467c-4e96-a883-ea9e6bc1391e",
        "colab": {
          "base_uri": "https://localhost:8080/",
          "height": 1000
        }
      },
      "source": [
        "batch_size = 128\n",
        "history = model.fit_generator(datagen.flow(X_train, y_train, batch_size=batch_size),validation_data=(X_test, y_test), epochs=100,callbacks=[checkpoint,early])"
      ],
      "execution_count": 12,
      "outputs": [
        {
          "output_type": "stream",
          "text": [
            "WARNING:tensorflow:From <ipython-input-12-d4550a79429d>:2: Model.fit_generator (from tensorflow.python.keras.engine.training) is deprecated and will be removed in a future version.\n",
            "Instructions for updating:\n",
            "Please use Model.fit, which supports generators.\n",
            "Epoch 1/100\n",
            "391/391 [==============================] - ETA: 0s - loss: 5.9301 - accuracy: 0.0310\n",
            "Epoch 00001: val_loss improved from inf to 4.76820, saving model to vgg16_Adam_Dropout.h5\n",
            "391/391 [==============================] - 35s 89ms/step - loss: 5.9301 - accuracy: 0.0310 - val_loss: 4.7682 - val_accuracy: 0.0537\n",
            "Epoch 2/100\n",
            "391/391 [==============================] - ETA: 0s - loss: 5.0124 - accuracy: 0.0561\n",
            "Epoch 00002: val_loss improved from 4.76820 to 4.46761, saving model to vgg16_Adam_Dropout.h5\n",
            "391/391 [==============================] - 34s 87ms/step - loss: 5.0124 - accuracy: 0.0561 - val_loss: 4.4676 - val_accuracy: 0.1319\n",
            "Epoch 3/100\n",
            "391/391 [==============================] - ETA: 0s - loss: 4.8210 - accuracy: 0.0774\n",
            "Epoch 00003: val_loss improved from 4.46761 to 4.39335, saving model to vgg16_Adam_Dropout.h5\n",
            "391/391 [==============================] - 34s 87ms/step - loss: 4.8210 - accuracy: 0.0774 - val_loss: 4.3934 - val_accuracy: 0.1626\n",
            "Epoch 4/100\n",
            "391/391 [==============================] - ETA: 0s - loss: 4.7098 - accuracy: 0.0978\n",
            "Epoch 00004: val_loss improved from 4.39335 to 4.31644, saving model to vgg16_Adam_Dropout.h5\n",
            "391/391 [==============================] - 34s 87ms/step - loss: 4.7098 - accuracy: 0.0978 - val_loss: 4.3164 - val_accuracy: 0.1838\n",
            "Epoch 5/100\n",
            "391/391 [==============================] - ETA: 0s - loss: 4.6491 - accuracy: 0.1099\n",
            "Epoch 00005: val_loss improved from 4.31644 to 4.24877, saving model to vgg16_Adam_Dropout.h5\n",
            "391/391 [==============================] - 34s 87ms/step - loss: 4.6491 - accuracy: 0.1099 - val_loss: 4.2488 - val_accuracy: 0.2007\n",
            "Epoch 6/100\n",
            "391/391 [==============================] - ETA: 0s - loss: 4.5854 - accuracy: 0.1220\n",
            "Epoch 00006: val_loss improved from 4.24877 to 4.20051, saving model to vgg16_Adam_Dropout.h5\n",
            "391/391 [==============================] - 34s 87ms/step - loss: 4.5854 - accuracy: 0.1220 - val_loss: 4.2005 - val_accuracy: 0.2123\n",
            "Epoch 7/100\n",
            "391/391 [==============================] - ETA: 0s - loss: 4.5406 - accuracy: 0.1337\n",
            "Epoch 00007: val_loss improved from 4.20051 to 4.13353, saving model to vgg16_Adam_Dropout.h5\n",
            "391/391 [==============================] - 34s 87ms/step - loss: 4.5406 - accuracy: 0.1337 - val_loss: 4.1335 - val_accuracy: 0.2237\n",
            "Epoch 8/100\n",
            "391/391 [==============================] - ETA: 0s - loss: 4.4982 - accuracy: 0.1430\n",
            "Epoch 00008: val_loss improved from 4.13353 to 4.08463, saving model to vgg16_Adam_Dropout.h5\n",
            "391/391 [==============================] - 34s 87ms/step - loss: 4.4982 - accuracy: 0.1430 - val_loss: 4.0846 - val_accuracy: 0.2399\n",
            "Epoch 9/100\n",
            "391/391 [==============================] - ETA: 0s - loss: 4.4517 - accuracy: 0.1546\n",
            "Epoch 00009: val_loss improved from 4.08463 to 4.04603, saving model to vgg16_Adam_Dropout.h5\n",
            "391/391 [==============================] - 35s 88ms/step - loss: 4.4517 - accuracy: 0.1546 - val_loss: 4.0460 - val_accuracy: 0.2474\n",
            "Epoch 10/100\n",
            "391/391 [==============================] - ETA: 0s - loss: 4.4248 - accuracy: 0.1620\n",
            "Epoch 00010: val_loss improved from 4.04603 to 4.00068, saving model to vgg16_Adam_Dropout.h5\n",
            "391/391 [==============================] - 34s 87ms/step - loss: 4.4248 - accuracy: 0.1620 - val_loss: 4.0007 - val_accuracy: 0.2550\n",
            "Epoch 11/100\n",
            "391/391 [==============================] - ETA: 0s - loss: 4.3810 - accuracy: 0.1701\n",
            "Epoch 00011: val_loss improved from 4.00068 to 3.98168, saving model to vgg16_Adam_Dropout.h5\n",
            "391/391 [==============================] - 34s 88ms/step - loss: 4.3810 - accuracy: 0.1701 - val_loss: 3.9817 - val_accuracy: 0.2654\n",
            "Epoch 12/100\n",
            "391/391 [==============================] - ETA: 0s - loss: 4.3528 - accuracy: 0.1775\n",
            "Epoch 00012: val_loss improved from 3.98168 to 3.91863, saving model to vgg16_Adam_Dropout.h5\n",
            "391/391 [==============================] - 34s 87ms/step - loss: 4.3528 - accuracy: 0.1775 - val_loss: 3.9186 - val_accuracy: 0.2855\n",
            "Epoch 13/100\n",
            "391/391 [==============================] - ETA: 0s - loss: 4.3199 - accuracy: 0.1860\n",
            "Epoch 00013: val_loss improved from 3.91863 to 3.88610, saving model to vgg16_Adam_Dropout.h5\n",
            "391/391 [==============================] - 34s 87ms/step - loss: 4.3199 - accuracy: 0.1860 - val_loss: 3.8861 - val_accuracy: 0.2969\n",
            "Epoch 14/100\n",
            "390/391 [============================>.] - ETA: 0s - loss: 4.3026 - accuracy: 0.1889\n",
            "Epoch 00014: val_loss improved from 3.88610 to 3.86594, saving model to vgg16_Adam_Dropout.h5\n",
            "391/391 [==============================] - 34s 87ms/step - loss: 4.3023 - accuracy: 0.1889 - val_loss: 3.8659 - val_accuracy: 0.2972\n",
            "Epoch 15/100\n",
            "391/391 [==============================] - ETA: 0s - loss: 4.2714 - accuracy: 0.1962\n",
            "Epoch 00015: val_loss improved from 3.86594 to 3.81013, saving model to vgg16_Adam_Dropout.h5\n",
            "391/391 [==============================] - 34s 88ms/step - loss: 4.2714 - accuracy: 0.1962 - val_loss: 3.8101 - val_accuracy: 0.3205\n",
            "Epoch 16/100\n",
            "391/391 [==============================] - ETA: 0s - loss: 4.2515 - accuracy: 0.2016\n",
            "Epoch 00016: val_loss improved from 3.81013 to 3.80037, saving model to vgg16_Adam_Dropout.h5\n",
            "391/391 [==============================] - 34s 88ms/step - loss: 4.2515 - accuracy: 0.2016 - val_loss: 3.8004 - val_accuracy: 0.3115\n",
            "Epoch 17/100\n",
            "391/391 [==============================] - ETA: 0s - loss: 4.2194 - accuracy: 0.2086\n",
            "Epoch 00017: val_loss improved from 3.80037 to 3.73900, saving model to vgg16_Adam_Dropout.h5\n",
            "391/391 [==============================] - 34s 88ms/step - loss: 4.2194 - accuracy: 0.2086 - val_loss: 3.7390 - val_accuracy: 0.3352\n",
            "Epoch 18/100\n",
            "391/391 [==============================] - ETA: 0s - loss: 4.2000 - accuracy: 0.2117\n",
            "Epoch 00018: val_loss improved from 3.73900 to 3.72921, saving model to vgg16_Adam_Dropout.h5\n",
            "391/391 [==============================] - 35s 88ms/step - loss: 4.2000 - accuracy: 0.2117 - val_loss: 3.7292 - val_accuracy: 0.3364\n",
            "Epoch 19/100\n",
            "391/391 [==============================] - ETA: 0s - loss: 4.1699 - accuracy: 0.2202\n",
            "Epoch 00019: val_loss improved from 3.72921 to 3.68743, saving model to vgg16_Adam_Dropout.h5\n",
            "391/391 [==============================] - 34s 88ms/step - loss: 4.1699 - accuracy: 0.2202 - val_loss: 3.6874 - val_accuracy: 0.3476\n",
            "Epoch 20/100\n",
            "391/391 [==============================] - ETA: 0s - loss: 4.1482 - accuracy: 0.2261\n",
            "Epoch 00020: val_loss improved from 3.68743 to 3.67848, saving model to vgg16_Adam_Dropout.h5\n",
            "391/391 [==============================] - 35s 88ms/step - loss: 4.1482 - accuracy: 0.2261 - val_loss: 3.6785 - val_accuracy: 0.3430\n",
            "Epoch 21/100\n",
            "391/391 [==============================] - ETA: 0s - loss: 4.1222 - accuracy: 0.2300\n",
            "Epoch 00021: val_loss improved from 3.67848 to 3.64280, saving model to vgg16_Adam_Dropout.h5\n",
            "391/391 [==============================] - 34s 87ms/step - loss: 4.1222 - accuracy: 0.2300 - val_loss: 3.6428 - val_accuracy: 0.3626\n",
            "Epoch 22/100\n",
            "391/391 [==============================] - ETA: 0s - loss: 4.1159 - accuracy: 0.2326\n",
            "Epoch 00022: val_loss improved from 3.64280 to 3.62049, saving model to vgg16_Adam_Dropout.h5\n",
            "391/391 [==============================] - 35s 89ms/step - loss: 4.1159 - accuracy: 0.2326 - val_loss: 3.6205 - val_accuracy: 0.3706\n",
            "Epoch 23/100\n",
            "391/391 [==============================] - ETA: 0s - loss: 4.0956 - accuracy: 0.2379\n",
            "Epoch 00023: val_loss improved from 3.62049 to 3.59184, saving model to vgg16_Adam_Dropout.h5\n",
            "391/391 [==============================] - 34s 88ms/step - loss: 4.0956 - accuracy: 0.2379 - val_loss: 3.5918 - val_accuracy: 0.3742\n",
            "Epoch 24/100\n",
            "391/391 [==============================] - ETA: 0s - loss: 4.0713 - accuracy: 0.2410\n",
            "Epoch 00024: val_loss improved from 3.59184 to 3.58472, saving model to vgg16_Adam_Dropout.h5\n",
            "391/391 [==============================] - 34s 88ms/step - loss: 4.0713 - accuracy: 0.2410 - val_loss: 3.5847 - val_accuracy: 0.3714\n",
            "Epoch 25/100\n",
            "391/391 [==============================] - ETA: 0s - loss: 4.0614 - accuracy: 0.2430\n",
            "Epoch 00025: val_loss improved from 3.58472 to 3.55881, saving model to vgg16_Adam_Dropout.h5\n",
            "391/391 [==============================] - 35s 89ms/step - loss: 4.0614 - accuracy: 0.2430 - val_loss: 3.5588 - val_accuracy: 0.3818\n",
            "Epoch 26/100\n",
            "391/391 [==============================] - ETA: 0s - loss: 4.0373 - accuracy: 0.2502\n",
            "Epoch 00026: val_loss improved from 3.55881 to 3.52863, saving model to vgg16_Adam_Dropout.h5\n",
            "391/391 [==============================] - 35s 89ms/step - loss: 4.0373 - accuracy: 0.2502 - val_loss: 3.5286 - val_accuracy: 0.3905\n",
            "Epoch 27/100\n",
            "391/391 [==============================] - ETA: 0s - loss: 4.0165 - accuracy: 0.2549\n",
            "Epoch 00027: val_loss improved from 3.52863 to 3.49764, saving model to vgg16_Adam_Dropout.h5\n",
            "391/391 [==============================] - 35s 89ms/step - loss: 4.0165 - accuracy: 0.2549 - val_loss: 3.4976 - val_accuracy: 0.3981\n",
            "Epoch 28/100\n",
            "391/391 [==============================] - ETA: 0s - loss: 3.9946 - accuracy: 0.2571\n",
            "Epoch 00028: val_loss improved from 3.49764 to 3.48614, saving model to vgg16_Adam_Dropout.h5\n",
            "391/391 [==============================] - 35s 89ms/step - loss: 3.9946 - accuracy: 0.2571 - val_loss: 3.4861 - val_accuracy: 0.4024\n",
            "Epoch 29/100\n",
            "391/391 [==============================] - ETA: 0s - loss: 3.9791 - accuracy: 0.2631\n",
            "Epoch 00029: val_loss improved from 3.48614 to 3.46668, saving model to vgg16_Adam_Dropout.h5\n",
            "391/391 [==============================] - 35s 90ms/step - loss: 3.9791 - accuracy: 0.2631 - val_loss: 3.4667 - val_accuracy: 0.4068\n",
            "Epoch 30/100\n",
            "391/391 [==============================] - ETA: 0s - loss: 3.9722 - accuracy: 0.2627\n",
            "Epoch 00030: val_loss improved from 3.46668 to 3.45867, saving model to vgg16_Adam_Dropout.h5\n",
            "391/391 [==============================] - 35s 89ms/step - loss: 3.9722 - accuracy: 0.2627 - val_loss: 3.4587 - val_accuracy: 0.4079\n",
            "Epoch 31/100\n",
            "391/391 [==============================] - ETA: 0s - loss: 3.9604 - accuracy: 0.2665\n",
            "Epoch 00031: val_loss improved from 3.45867 to 3.43133, saving model to vgg16_Adam_Dropout.h5\n",
            "391/391 [==============================] - 35s 89ms/step - loss: 3.9604 - accuracy: 0.2665 - val_loss: 3.4313 - val_accuracy: 0.4140\n",
            "Epoch 32/100\n",
            "391/391 [==============================] - ETA: 0s - loss: 3.9528 - accuracy: 0.2685\n",
            "Epoch 00032: val_loss did not improve from 3.43133\n",
            "391/391 [==============================] - 35s 88ms/step - loss: 3.9528 - accuracy: 0.2685 - val_loss: 3.4364 - val_accuracy: 0.4084\n",
            "Epoch 33/100\n",
            "391/391 [==============================] - ETA: 0s - loss: 3.9296 - accuracy: 0.2731\n",
            "Epoch 00033: val_loss improved from 3.43133 to 3.39466, saving model to vgg16_Adam_Dropout.h5\n",
            "391/391 [==============================] - 34s 88ms/step - loss: 3.9296 - accuracy: 0.2731 - val_loss: 3.3947 - val_accuracy: 0.4220\n",
            "Epoch 34/100\n",
            "391/391 [==============================] - ETA: 0s - loss: 3.9054 - accuracy: 0.2778\n",
            "Epoch 00034: val_loss improved from 3.39466 to 3.38107, saving model to vgg16_Adam_Dropout.h5\n",
            "391/391 [==============================] - 34s 88ms/step - loss: 3.9054 - accuracy: 0.2778 - val_loss: 3.3811 - val_accuracy: 0.4279\n",
            "Epoch 35/100\n",
            "391/391 [==============================] - ETA: 0s - loss: 3.8919 - accuracy: 0.2802\n",
            "Epoch 00035: val_loss improved from 3.38107 to 3.36601, saving model to vgg16_Adam_Dropout.h5\n",
            "391/391 [==============================] - 35s 88ms/step - loss: 3.8919 - accuracy: 0.2802 - val_loss: 3.3660 - val_accuracy: 0.4285\n",
            "Epoch 36/100\n",
            "391/391 [==============================] - ETA: 0s - loss: 3.8919 - accuracy: 0.2803\n",
            "Epoch 00036: val_loss improved from 3.36601 to 3.36310, saving model to vgg16_Adam_Dropout.h5\n",
            "391/391 [==============================] - 34s 88ms/step - loss: 3.8919 - accuracy: 0.2803 - val_loss: 3.3631 - val_accuracy: 0.4328\n",
            "Epoch 37/100\n",
            "391/391 [==============================] - ETA: 0s - loss: 3.8824 - accuracy: 0.2815\n",
            "Epoch 00037: val_loss improved from 3.36310 to 3.33591, saving model to vgg16_Adam_Dropout.h5\n",
            "391/391 [==============================] - 35s 88ms/step - loss: 3.8824 - accuracy: 0.2815 - val_loss: 3.3359 - val_accuracy: 0.4357\n",
            "Epoch 38/100\n",
            "391/391 [==============================] - ETA: 0s - loss: 3.8577 - accuracy: 0.2860\n",
            "Epoch 00038: val_loss improved from 3.33591 to 3.33120, saving model to vgg16_Adam_Dropout.h5\n",
            "391/391 [==============================] - 35s 89ms/step - loss: 3.8577 - accuracy: 0.2860 - val_loss: 3.3312 - val_accuracy: 0.4372\n",
            "Epoch 39/100\n",
            "391/391 [==============================] - ETA: 0s - loss: 3.8462 - accuracy: 0.2898\n",
            "Epoch 00039: val_loss improved from 3.33120 to 3.30522, saving model to vgg16_Adam_Dropout.h5\n",
            "391/391 [==============================] - 35s 88ms/step - loss: 3.8462 - accuracy: 0.2898 - val_loss: 3.3052 - val_accuracy: 0.4448\n",
            "Epoch 40/100\n",
            "391/391 [==============================] - ETA: 0s - loss: 3.8394 - accuracy: 0.2905\n",
            "Epoch 00040: val_loss did not improve from 3.30522\n",
            "391/391 [==============================] - 34s 88ms/step - loss: 3.8394 - accuracy: 0.2905 - val_loss: 3.3307 - val_accuracy: 0.4379\n",
            "Epoch 41/100\n",
            "391/391 [==============================] - ETA: 0s - loss: 3.8204 - accuracy: 0.2936\n",
            "Epoch 00041: val_loss improved from 3.30522 to 3.30046, saving model to vgg16_Adam_Dropout.h5\n",
            "391/391 [==============================] - 34s 88ms/step - loss: 3.8204 - accuracy: 0.2936 - val_loss: 3.3005 - val_accuracy: 0.4464\n",
            "Epoch 42/100\n",
            "391/391 [==============================] - ETA: 0s - loss: 3.8075 - accuracy: 0.2975\n",
            "Epoch 00042: val_loss improved from 3.30046 to 3.27657, saving model to vgg16_Adam_Dropout.h5\n",
            "391/391 [==============================] - 35s 88ms/step - loss: 3.8075 - accuracy: 0.2975 - val_loss: 3.2766 - val_accuracy: 0.4489\n",
            "Epoch 43/100\n",
            "391/391 [==============================] - ETA: 0s - loss: 3.7831 - accuracy: 0.3001\n",
            "Epoch 00043: val_loss improved from 3.27657 to 3.26267, saving model to vgg16_Adam_Dropout.h5\n",
            "391/391 [==============================] - 35s 88ms/step - loss: 3.7831 - accuracy: 0.3001 - val_loss: 3.2627 - val_accuracy: 0.4529\n",
            "Epoch 44/100\n",
            "391/391 [==============================] - ETA: 0s - loss: 3.7920 - accuracy: 0.2990\n",
            "Epoch 00044: val_loss improved from 3.26267 to 3.24511, saving model to vgg16_Adam_Dropout.h5\n",
            "391/391 [==============================] - 35s 88ms/step - loss: 3.7920 - accuracy: 0.2990 - val_loss: 3.2451 - val_accuracy: 0.4591\n",
            "Epoch 45/100\n",
            "391/391 [==============================] - ETA: 0s - loss: 3.7665 - accuracy: 0.3041\n",
            "Epoch 00045: val_loss improved from 3.24511 to 3.23718, saving model to vgg16_Adam_Dropout.h5\n",
            "391/391 [==============================] - 35s 89ms/step - loss: 3.7665 - accuracy: 0.3041 - val_loss: 3.2372 - val_accuracy: 0.4629\n",
            "Epoch 46/100\n",
            "391/391 [==============================] - ETA: 0s - loss: 3.7681 - accuracy: 0.3031\n",
            "Epoch 00046: val_loss improved from 3.23718 to 3.21772, saving model to vgg16_Adam_Dropout.h5\n",
            "391/391 [==============================] - 35s 89ms/step - loss: 3.7681 - accuracy: 0.3031 - val_loss: 3.2177 - val_accuracy: 0.4646\n",
            "Epoch 47/100\n",
            "391/391 [==============================] - ETA: 0s - loss: 3.7532 - accuracy: 0.3059\n",
            "Epoch 00047: val_loss improved from 3.21772 to 3.21205, saving model to vgg16_Adam_Dropout.h5\n",
            "391/391 [==============================] - 35s 90ms/step - loss: 3.7532 - accuracy: 0.3059 - val_loss: 3.2121 - val_accuracy: 0.4629\n",
            "Epoch 48/100\n",
            "391/391 [==============================] - ETA: 0s - loss: 3.7381 - accuracy: 0.3068\n",
            "Epoch 00048: val_loss improved from 3.21205 to 3.19742, saving model to vgg16_Adam_Dropout.h5\n",
            "391/391 [==============================] - 35s 90ms/step - loss: 3.7381 - accuracy: 0.3068 - val_loss: 3.1974 - val_accuracy: 0.4656\n",
            "Epoch 49/100\n",
            "391/391 [==============================] - ETA: 0s - loss: 3.7241 - accuracy: 0.3134\n",
            "Epoch 00049: val_loss did not improve from 3.19742\n",
            "391/391 [==============================] - 35s 89ms/step - loss: 3.7241 - accuracy: 0.3134 - val_loss: 3.1993 - val_accuracy: 0.4683\n",
            "Epoch 50/100\n",
            "391/391 [==============================] - ETA: 0s - loss: 3.6941 - accuracy: 0.3175\n",
            "Epoch 00050: val_loss improved from 3.19742 to 3.18621, saving model to vgg16_Adam_Dropout.h5\n",
            "391/391 [==============================] - 35s 90ms/step - loss: 3.6941 - accuracy: 0.3175 - val_loss: 3.1862 - val_accuracy: 0.4691\n",
            "Epoch 51/100\n",
            "391/391 [==============================] - ETA: 0s - loss: 3.6980 - accuracy: 0.3184\n",
            "Epoch 00051: val_loss improved from 3.18621 to 3.18133, saving model to vgg16_Adam_Dropout.h5\n",
            "391/391 [==============================] - 35s 89ms/step - loss: 3.6980 - accuracy: 0.3184 - val_loss: 3.1813 - val_accuracy: 0.4678\n",
            "Epoch 52/100\n",
            "391/391 [==============================] - ETA: 0s - loss: 3.6832 - accuracy: 0.3191\n",
            "Epoch 00052: val_loss improved from 3.18133 to 3.14901, saving model to vgg16_Adam_Dropout.h5\n",
            "391/391 [==============================] - 35s 89ms/step - loss: 3.6832 - accuracy: 0.3191 - val_loss: 3.1490 - val_accuracy: 0.4764\n",
            "Epoch 53/100\n",
            "391/391 [==============================] - ETA: 0s - loss: 3.6781 - accuracy: 0.3216\n",
            "Epoch 00053: val_loss improved from 3.14901 to 3.12772, saving model to vgg16_Adam_Dropout.h5\n",
            "391/391 [==============================] - 35s 90ms/step - loss: 3.6781 - accuracy: 0.3216 - val_loss: 3.1277 - val_accuracy: 0.4830\n",
            "Epoch 54/100\n",
            "391/391 [==============================] - ETA: 0s - loss: 3.6639 - accuracy: 0.3208\n",
            "Epoch 00054: val_loss improved from 3.12772 to 3.12547, saving model to vgg16_Adam_Dropout.h5\n",
            "391/391 [==============================] - 35s 89ms/step - loss: 3.6639 - accuracy: 0.3208 - val_loss: 3.1255 - val_accuracy: 0.4816\n",
            "Epoch 55/100\n",
            "391/391 [==============================] - ETA: 0s - loss: 3.6458 - accuracy: 0.3269\n",
            "Epoch 00055: val_loss did not improve from 3.12547\n",
            "391/391 [==============================] - 35s 89ms/step - loss: 3.6458 - accuracy: 0.3269 - val_loss: 3.1333 - val_accuracy: 0.4799\n",
            "Epoch 56/100\n",
            "391/391 [==============================] - ETA: 0s - loss: 3.6478 - accuracy: 0.3255\n",
            "Epoch 00056: val_loss did not improve from 3.12547\n",
            "391/391 [==============================] - 35s 89ms/step - loss: 3.6478 - accuracy: 0.3255 - val_loss: 3.1285 - val_accuracy: 0.4775\n",
            "Epoch 57/100\n",
            "391/391 [==============================] - ETA: 0s - loss: 3.6237 - accuracy: 0.3292\n",
            "Epoch 00057: val_loss improved from 3.12547 to 3.09404, saving model to vgg16_Adam_Dropout.h5\n",
            "391/391 [==============================] - 35s 88ms/step - loss: 3.6237 - accuracy: 0.3292 - val_loss: 3.0940 - val_accuracy: 0.4876\n",
            "Epoch 58/100\n",
            "391/391 [==============================] - ETA: 0s - loss: 3.6189 - accuracy: 0.3308\n",
            "Epoch 00058: val_loss improved from 3.09404 to 3.08637, saving model to vgg16_Adam_Dropout.h5\n",
            "391/391 [==============================] - 34s 88ms/step - loss: 3.6189 - accuracy: 0.3308 - val_loss: 3.0864 - val_accuracy: 0.4894\n",
            "Epoch 59/100\n",
            "391/391 [==============================] - ETA: 0s - loss: 3.6093 - accuracy: 0.3321\n",
            "Epoch 00059: val_loss improved from 3.08637 to 3.06128, saving model to vgg16_Adam_Dropout.h5\n",
            "391/391 [==============================] - 34s 88ms/step - loss: 3.6093 - accuracy: 0.3321 - val_loss: 3.0613 - val_accuracy: 0.4968\n",
            "Epoch 60/100\n",
            "391/391 [==============================] - ETA: 0s - loss: 3.6060 - accuracy: 0.3311\n",
            "Epoch 00060: val_loss did not improve from 3.06128\n",
            "391/391 [==============================] - 34s 87ms/step - loss: 3.6060 - accuracy: 0.3311 - val_loss: 3.0674 - val_accuracy: 0.4852\n",
            "Epoch 61/100\n",
            "391/391 [==============================] - ETA: 0s - loss: 3.5865 - accuracy: 0.3341\n",
            "Epoch 00061: val_loss improved from 3.06128 to 3.04367, saving model to vgg16_Adam_Dropout.h5\n",
            "391/391 [==============================] - 34s 87ms/step - loss: 3.5865 - accuracy: 0.3341 - val_loss: 3.0437 - val_accuracy: 0.4908\n",
            "Epoch 62/100\n",
            "391/391 [==============================] - ETA: 0s - loss: 3.5768 - accuracy: 0.3366\n",
            "Epoch 00062: val_loss did not improve from 3.04367\n",
            "391/391 [==============================] - 34s 87ms/step - loss: 3.5768 - accuracy: 0.3366 - val_loss: 3.0707 - val_accuracy: 0.4868\n",
            "Epoch 63/100\n",
            "391/391 [==============================] - ETA: 0s - loss: 3.5661 - accuracy: 0.3398\n",
            "Epoch 00063: val_loss improved from 3.04367 to 3.03530, saving model to vgg16_Adam_Dropout.h5\n",
            "391/391 [==============================] - 34s 87ms/step - loss: 3.5661 - accuracy: 0.3398 - val_loss: 3.0353 - val_accuracy: 0.4960\n",
            "Epoch 64/100\n",
            "391/391 [==============================] - ETA: 0s - loss: 3.5621 - accuracy: 0.3403\n",
            "Epoch 00064: val_loss improved from 3.03530 to 3.01210, saving model to vgg16_Adam_Dropout.h5\n",
            "391/391 [==============================] - 34s 88ms/step - loss: 3.5621 - accuracy: 0.3403 - val_loss: 3.0121 - val_accuracy: 0.4992\n",
            "Epoch 65/100\n",
            "391/391 [==============================] - ETA: 0s - loss: 3.5405 - accuracy: 0.3445\n",
            "Epoch 00065: val_loss improved from 3.01210 to 3.00992, saving model to vgg16_Adam_Dropout.h5\n",
            "391/391 [==============================] - 34s 88ms/step - loss: 3.5405 - accuracy: 0.3445 - val_loss: 3.0099 - val_accuracy: 0.4905\n",
            "Epoch 66/100\n",
            "391/391 [==============================] - ETA: 0s - loss: 3.5432 - accuracy: 0.3415\n",
            "Epoch 00066: val_loss did not improve from 3.00992\n",
            "391/391 [==============================] - 34s 87ms/step - loss: 3.5432 - accuracy: 0.3415 - val_loss: 3.0252 - val_accuracy: 0.4985\n",
            "Epoch 67/100\n",
            "391/391 [==============================] - ETA: 0s - loss: 3.5117 - accuracy: 0.3471\n",
            "Epoch 00067: val_loss improved from 3.00992 to 2.99699, saving model to vgg16_Adam_Dropout.h5\n",
            "391/391 [==============================] - 34s 88ms/step - loss: 3.5117 - accuracy: 0.3471 - val_loss: 2.9970 - val_accuracy: 0.5036\n",
            "Epoch 68/100\n",
            "391/391 [==============================] - ETA: 0s - loss: 3.5164 - accuracy: 0.3476\n",
            "Epoch 00068: val_loss improved from 2.99699 to 2.99599, saving model to vgg16_Adam_Dropout.h5\n",
            "391/391 [==============================] - 34s 87ms/step - loss: 3.5164 - accuracy: 0.3476 - val_loss: 2.9960 - val_accuracy: 0.5043\n",
            "Epoch 69/100\n",
            "391/391 [==============================] - ETA: 0s - loss: 3.4939 - accuracy: 0.3500\n",
            "Epoch 00069: val_loss improved from 2.99599 to 2.95980, saving model to vgg16_Adam_Dropout.h5\n",
            "391/391 [==============================] - 34s 88ms/step - loss: 3.4939 - accuracy: 0.3500 - val_loss: 2.9598 - val_accuracy: 0.5094\n",
            "Epoch 70/100\n",
            "391/391 [==============================] - ETA: 0s - loss: 3.5011 - accuracy: 0.3478\n",
            "Epoch 00070: val_loss did not improve from 2.95980\n",
            "391/391 [==============================] - 34s 87ms/step - loss: 3.5011 - accuracy: 0.3478 - val_loss: 2.9761 - val_accuracy: 0.5043\n",
            "Epoch 71/100\n",
            "391/391 [==============================] - ETA: 0s - loss: 3.4843 - accuracy: 0.3521\n",
            "Epoch 00071: val_loss did not improve from 2.95980\n",
            "391/391 [==============================] - 34s 88ms/step - loss: 3.4843 - accuracy: 0.3521 - val_loss: 2.9808 - val_accuracy: 0.5000\n",
            "Epoch 72/100\n",
            "391/391 [==============================] - ETA: 0s - loss: 3.4827 - accuracy: 0.3505\n",
            "Epoch 00072: val_loss did not improve from 2.95980\n",
            "391/391 [==============================] - 34s 87ms/step - loss: 3.4827 - accuracy: 0.3505 - val_loss: 2.9763 - val_accuracy: 0.4967\n",
            "Epoch 73/100\n",
            "391/391 [==============================] - ETA: 0s - loss: 3.4699 - accuracy: 0.3545\n",
            "Epoch 00073: val_loss improved from 2.95980 to 2.93666, saving model to vgg16_Adam_Dropout.h5\n",
            "391/391 [==============================] - 34s 88ms/step - loss: 3.4699 - accuracy: 0.3545 - val_loss: 2.9367 - val_accuracy: 0.5100\n",
            "Epoch 74/100\n",
            "391/391 [==============================] - ETA: 0s - loss: 3.4668 - accuracy: 0.3538\n",
            "Epoch 00074: val_loss improved from 2.93666 to 2.91435, saving model to vgg16_Adam_Dropout.h5\n",
            "391/391 [==============================] - 34s 88ms/step - loss: 3.4668 - accuracy: 0.3538 - val_loss: 2.9143 - val_accuracy: 0.5043\n",
            "Epoch 75/100\n",
            "391/391 [==============================] - ETA: 0s - loss: 3.4363 - accuracy: 0.3616\n",
            "Epoch 00075: val_loss improved from 2.91435 to 2.88774, saving model to vgg16_Adam_Dropout.h5\n",
            "391/391 [==============================] - 34s 87ms/step - loss: 3.4363 - accuracy: 0.3616 - val_loss: 2.8877 - val_accuracy: 0.5120\n",
            "Epoch 76/100\n",
            "391/391 [==============================] - ETA: 0s - loss: 3.4335 - accuracy: 0.3605\n",
            "Epoch 00076: val_loss did not improve from 2.88774\n",
            "391/391 [==============================] - 34s 87ms/step - loss: 3.4335 - accuracy: 0.3605 - val_loss: 2.9005 - val_accuracy: 0.5147\n",
            "Epoch 77/100\n",
            "391/391 [==============================] - ETA: 0s - loss: 3.4232 - accuracy: 0.3605\n",
            "Epoch 00077: val_loss improved from 2.88774 to 2.86433, saving model to vgg16_Adam_Dropout.h5\n",
            "391/391 [==============================] - 34s 88ms/step - loss: 3.4232 - accuracy: 0.3605 - val_loss: 2.8643 - val_accuracy: 0.5198\n",
            "Epoch 78/100\n",
            "391/391 [==============================] - ETA: 0s - loss: 3.3948 - accuracy: 0.3662\n",
            "Epoch 00078: val_loss did not improve from 2.86433\n",
            "391/391 [==============================] - 34s 87ms/step - loss: 3.3948 - accuracy: 0.3662 - val_loss: 2.8907 - val_accuracy: 0.5101\n",
            "Epoch 79/100\n",
            "391/391 [==============================] - ETA: 0s - loss: 3.4105 - accuracy: 0.3628\n",
            "Epoch 00079: val_loss improved from 2.86433 to 2.86279, saving model to vgg16_Adam_Dropout.h5\n",
            "391/391 [==============================] - 34s 87ms/step - loss: 3.4105 - accuracy: 0.3628 - val_loss: 2.8628 - val_accuracy: 0.5172\n",
            "Epoch 80/100\n",
            "391/391 [==============================] - ETA: 0s - loss: 3.3980 - accuracy: 0.3668\n",
            "Epoch 00080: val_loss improved from 2.86279 to 2.85627, saving model to vgg16_Adam_Dropout.h5\n",
            "391/391 [==============================] - 35s 88ms/step - loss: 3.3980 - accuracy: 0.3668 - val_loss: 2.8563 - val_accuracy: 0.5191\n",
            "Epoch 81/100\n",
            "391/391 [==============================] - ETA: 0s - loss: 3.3867 - accuracy: 0.3667\n",
            "Epoch 00081: val_loss improved from 2.85627 to 2.84857, saving model to vgg16_Adam_Dropout.h5\n",
            "391/391 [==============================] - 34s 88ms/step - loss: 3.3867 - accuracy: 0.3667 - val_loss: 2.8486 - val_accuracy: 0.5204\n",
            "Epoch 82/100\n",
            "391/391 [==============================] - ETA: 0s - loss: 3.4042 - accuracy: 0.3617\n",
            "Epoch 00082: val_loss did not improve from 2.84857\n",
            "391/391 [==============================] - 34s 87ms/step - loss: 3.4042 - accuracy: 0.3617 - val_loss: 2.8624 - val_accuracy: 0.5194\n",
            "Epoch 83/100\n",
            "391/391 [==============================] - ETA: 0s - loss: 3.3751 - accuracy: 0.3677\n",
            "Epoch 00083: val_loss improved from 2.84857 to 2.81437, saving model to vgg16_Adam_Dropout.h5\n",
            "391/391 [==============================] - 35s 89ms/step - loss: 3.3751 - accuracy: 0.3677 - val_loss: 2.8144 - val_accuracy: 0.5229\n",
            "Epoch 84/100\n",
            "391/391 [==============================] - ETA: 0s - loss: 3.3772 - accuracy: 0.3680\n",
            "Epoch 00084: val_loss did not improve from 2.81437\n",
            "391/391 [==============================] - 34s 88ms/step - loss: 3.3772 - accuracy: 0.3680 - val_loss: 2.8350 - val_accuracy: 0.5167\n",
            "Epoch 85/100\n",
            "391/391 [==============================] - ETA: 0s - loss: 3.3439 - accuracy: 0.3743\n",
            "Epoch 00085: val_loss improved from 2.81437 to 2.79589, saving model to vgg16_Adam_Dropout.h5\n",
            "391/391 [==============================] - 34s 88ms/step - loss: 3.3439 - accuracy: 0.3743 - val_loss: 2.7959 - val_accuracy: 0.5202\n",
            "Epoch 86/100\n",
            "391/391 [==============================] - ETA: 0s - loss: 3.3412 - accuracy: 0.3740\n",
            "Epoch 00086: val_loss did not improve from 2.79589\n",
            "391/391 [==============================] - 34s 88ms/step - loss: 3.3412 - accuracy: 0.3740 - val_loss: 2.8046 - val_accuracy: 0.5196\n",
            "Epoch 87/100\n",
            "391/391 [==============================] - ETA: 0s - loss: 3.3356 - accuracy: 0.3745\n",
            "Epoch 00087: val_loss improved from 2.79589 to 2.78036, saving model to vgg16_Adam_Dropout.h5\n",
            "391/391 [==============================] - 35s 89ms/step - loss: 3.3356 - accuracy: 0.3745 - val_loss: 2.7804 - val_accuracy: 0.5268\n",
            "Epoch 88/100\n",
            "391/391 [==============================] - ETA: 0s - loss: 3.3114 - accuracy: 0.3796\n",
            "Epoch 00088: val_loss did not improve from 2.78036\n",
            "391/391 [==============================] - 34s 88ms/step - loss: 3.3114 - accuracy: 0.3796 - val_loss: 2.7899 - val_accuracy: 0.5157\n",
            "Epoch 89/100\n",
            "391/391 [==============================] - ETA: 0s - loss: 3.3100 - accuracy: 0.3795\n",
            "Epoch 00089: val_loss improved from 2.78036 to 2.75595, saving model to vgg16_Adam_Dropout.h5\n",
            "391/391 [==============================] - 34s 88ms/step - loss: 3.3100 - accuracy: 0.3795 - val_loss: 2.7560 - val_accuracy: 0.5225\n",
            "Epoch 90/100\n",
            "391/391 [==============================] - ETA: 0s - loss: 3.3191 - accuracy: 0.3751\n",
            "Epoch 00090: val_loss did not improve from 2.75595\n",
            "391/391 [==============================] - 34s 88ms/step - loss: 3.3191 - accuracy: 0.3751 - val_loss: 2.7942 - val_accuracy: 0.5166\n",
            "Epoch 91/100\n",
            "391/391 [==============================] - ETA: 0s - loss: 3.2823 - accuracy: 0.3829\n",
            "Epoch 00091: val_loss improved from 2.75595 to 2.75507, saving model to vgg16_Adam_Dropout.h5\n",
            "391/391 [==============================] - 35s 88ms/step - loss: 3.2823 - accuracy: 0.3829 - val_loss: 2.7551 - val_accuracy: 0.5280\n",
            "Epoch 92/100\n",
            "391/391 [==============================] - ETA: 0s - loss: 3.2939 - accuracy: 0.3813\n",
            "Epoch 00092: val_loss improved from 2.75507 to 2.73415, saving model to vgg16_Adam_Dropout.h5\n",
            "391/391 [==============================] - 35s 88ms/step - loss: 3.2939 - accuracy: 0.3813 - val_loss: 2.7342 - val_accuracy: 0.5315\n",
            "Epoch 93/100\n",
            "391/391 [==============================] - ETA: 0s - loss: 3.2772 - accuracy: 0.3850\n",
            "Epoch 00093: val_loss did not improve from 2.73415\n",
            "391/391 [==============================] - 34s 88ms/step - loss: 3.2772 - accuracy: 0.3850 - val_loss: 2.7356 - val_accuracy: 0.5257\n",
            "Epoch 94/100\n",
            "391/391 [==============================] - ETA: 0s - loss: 3.2915 - accuracy: 0.3798\n",
            "Epoch 00094: val_loss did not improve from 2.73415\n",
            "391/391 [==============================] - 34s 88ms/step - loss: 3.2915 - accuracy: 0.3798 - val_loss: 2.7483 - val_accuracy: 0.5265\n",
            "Epoch 95/100\n",
            "391/391 [==============================] - ETA: 0s - loss: 3.2563 - accuracy: 0.3876\n",
            "Epoch 00095: val_loss improved from 2.73415 to 2.69300, saving model to vgg16_Adam_Dropout.h5\n",
            "391/391 [==============================] - 34s 88ms/step - loss: 3.2563 - accuracy: 0.3876 - val_loss: 2.6930 - val_accuracy: 0.5317\n",
            "Epoch 96/100\n",
            "391/391 [==============================] - ETA: 0s - loss: 3.2496 - accuracy: 0.3867\n",
            "Epoch 00096: val_loss did not improve from 2.69300\n",
            "391/391 [==============================] - 34s 87ms/step - loss: 3.2496 - accuracy: 0.3867 - val_loss: 2.7055 - val_accuracy: 0.5317\n",
            "Epoch 97/100\n",
            "391/391 [==============================] - ETA: 0s - loss: 3.2412 - accuracy: 0.3911\n",
            "Epoch 00097: val_loss improved from 2.69300 to 2.68007, saving model to vgg16_Adam_Dropout.h5\n",
            "391/391 [==============================] - 35s 88ms/step - loss: 3.2412 - accuracy: 0.3911 - val_loss: 2.6801 - val_accuracy: 0.5362\n",
            "Epoch 98/100\n",
            "391/391 [==============================] - ETA: 0s - loss: 3.2360 - accuracy: 0.3907\n",
            "Epoch 00098: val_loss did not improve from 2.68007\n",
            "391/391 [==============================] - 34s 88ms/step - loss: 3.2360 - accuracy: 0.3907 - val_loss: 2.7030 - val_accuracy: 0.5285\n",
            "Epoch 99/100\n",
            "391/391 [==============================] - ETA: 0s - loss: 3.2182 - accuracy: 0.3939\n",
            "Epoch 00099: val_loss did not improve from 2.68007\n",
            "391/391 [==============================] - 34s 88ms/step - loss: 3.2182 - accuracy: 0.3939 - val_loss: 2.6972 - val_accuracy: 0.5281\n",
            "Epoch 100/100\n",
            "391/391 [==============================] - ETA: 0s - loss: 3.2273 - accuracy: 0.3909\n",
            "Epoch 00100: val_loss did not improve from 2.68007\n",
            "391/391 [==============================] - 34s 88ms/step - loss: 3.2273 - accuracy: 0.3909 - val_loss: 2.6822 - val_accuracy: 0.5243\n"
          ],
          "name": "stdout"
        }
      ]
    },
    {
      "cell_type": "markdown",
      "metadata": {
        "id": "2Q5vb0hEL_tA"
      },
      "source": [
        "<h3><b> Graphs</b></h3>"
      ]
    },
    {
      "cell_type": "code",
      "metadata": {
        "id": "5XczyFBw5qgk",
        "outputId": "89ad1c0f-a9b5-4553-8ab1-9a6f9e796040",
        "colab": {
          "base_uri": "https://localhost:8080/",
          "height": 312
        }
      },
      "source": [
        "import matplotlib.pyplot as plt\n",
        "history_dict = history.history\n",
        "print(history_dict.keys())\n",
        "accuracy_values = history_dict['accuracy']\n",
        "val_accuracy_values = history_dict['val_accuracy']\n",
        "\n",
        "epochs = range(1, len(history_dict['accuracy']) + 1)\n",
        "\n",
        "plt.plot(epochs, accuracy_values, 'bo', label='Training Accuracy')\n",
        "plt.plot(epochs, val_accuracy_values, 'b', label='Validation loss')\n",
        "plt.title('Training and validation Accuracy')\n",
        "plt.xlabel('Epochs')\n",
        "plt.ylabel('Accuracy')\n",
        "plt.legend()\n",
        "\n",
        "plt.show()\n"
      ],
      "execution_count": 13,
      "outputs": [
        {
          "output_type": "stream",
          "text": [
            "dict_keys(['loss', 'accuracy', 'val_loss', 'val_accuracy'])\n"
          ],
          "name": "stdout"
        },
        {
          "output_type": "display_data",
          "data": {
            "image/png": "[encoded data removed]",
            "text/plain": [
              "<Figure size 432x288 with 1 Axes>"
            ]
          },
          "metadata": {
            "tags": [],
            "needs_background": "light"
          }
        }
      ]
    },
    {
      "cell_type": "code",
      "metadata": {
        "id": "Tx_cCIAE5qpj",
        "outputId": "e14ea6d5-e241-457a-ca0d-629dd63709c6",
        "colab": {
          "base_uri": "https://localhost:8080/",
          "height": 312
        }
      },
      "source": [
        "import matplotlib.pyplot as plt\n",
        "\n",
        "history_dict = history.history\n",
        "print(history_dict.keys())\n",
        "loss_values = history_dict['loss']\n",
        "val_loss_values = history_dict['val_loss']\n",
        "\n",
        "epochs = range(1, len(history_dict['accuracy']) + 1)\n",
        "\n",
        "plt.plot(epochs, loss_values, 'bo', label='Training loss')\n",
        "plt.plot(epochs, val_loss_values, 'b', label='Validation loss')\n",
        "plt.title('Training and validation loss')\n",
        "plt.xlabel('Epochs')\n",
        "plt.ylabel('Loss')\n",
        "plt.legend()\n",
        "\n",
        "plt.show()\n"
      ],
      "execution_count": 14,
      "outputs": [
        {
          "output_type": "stream",
          "text": [
            "dict_keys(['loss', 'accuracy', 'val_loss', 'val_accuracy'])\n"
          ],
          "name": "stdout"
        },
        {
          "output_type": "display_data",
          "data": {
            "image/png": "[encoded data removed]",
            "text/plain": [
              "<Figure size 432x288 with 1 Axes>"
            ]
          },
          "metadata": {
            "tags": [],
            "needs_background": "light"
          }
        }
      ]
    },
    {
      "cell_type": "markdown",
      "metadata": {
        "id": "mWJuMoswQJCC"
      },
      "source": [
        "<h3><b> Model Save and Metrics</b></h3> "
      ]
    },
    {
      "cell_type": "code",
      "metadata": {
        "id": "hEKW1SM5KfGz",
        "outputId": "6fe145a3-ce7a-4fb8-c49a-a7065e8f9d81",
        "colab": {
          "base_uri": "https://localhost:8080/",
          "height": 68
        }
      },
      "source": [
        "model1 = Model()\n",
        "model1.load_weights(\"./vgg16_Adam_Dropout.h5\")\n",
        "learning_rate = 0.001\n",
        "batch_size = 128\n",
        "lr_decay = 1e-6\n",
        "\n",
        "#optimization details\n",
        "sgd = optimizers.SGD(lr=learning_rate, decay=lr_decay, momentum=0.9, nesterov=True)\n",
        "model1.compile(loss='categorical_crossentropy', optimizer=sgd,metrics=['accuracy'])\n",
        "\n",
        "# Test the model\n",
        "model.predict(X_test).argmax(-1)\n",
        "\n",
        "y_true = y_test.argmax(-1)\n",
        "y_pred = model.predict(X_test).argmax(-1)\n",
        "# generate confusion matrix\n",
        "from sklearn.metrics import confusion_matrix, precision_score, recall_score, accuracy_score\n",
        "confusion_matrix(y_true, y_pred)\n",
        "# calculate prec, recall, accuracy\n",
        "print(\"Prec: \"+ str(precision_score(y_true, y_pred, average='weighted')))\n",
        "print(\"Recall: \"+ str(recall_score(y_true, y_pred, average='weighted')))\n",
        "print(\"Accuracy: \" + str(accuracy_score(y_true, y_pred)))"
      ],
      "execution_count": 15,
      "outputs": [
        {
          "output_type": "stream",
          "text": [
            "Prec: 0.5519381567917104\n",
            "Recall: 0.5243\n",
            "Accuracy: 0.5243\n"
          ],
          "name": "stdout"
        }
      ]
    },
    {
      "cell_type": "markdown",
      "metadata": {
        "id": "dFDFRH7ON583"
      },
      "source": [
        "<h3><b> References</b></h3>"
      ]
    },
    {
      "cell_type": "code",
      "metadata": {
        "id": "XmygfOQPN-cS"
      },
      "source": [
        "#https://towardsdatascience.com/step-by-step-vgg16-implementation-in-keras-for-beginners-a833c686ae6c\n",
        "#https://github.com/geifmany/cifar-vgg/blob/master/cifar100vgg.py"
      ],
      "execution_count": 16,
      "outputs": []
    }
  ]
}
{
 "cells": [
  {
   "cell_type": "markdown",
   "metadata": {
    "id": "hyOazSpWztcP"
   },
   "source": [
    "<h3><b> Importing Library</b></h3>"
   ]
  },
  {
   "cell_type": "code",
   "execution_count": 1,
   "metadata": {
    "id": "XNYk17cCS0lA"
   },
   "outputs": [],
   "source": [
    "# Importing Libraries\n",
    "from __future__ import print_function\n",
    "import os\n",
    "import math \n",
    "import cv2 \n",
    "import tensorflow as tf\n",
    "import keras\n",
    "from keras import backend as K\n",
    "import numpy as np\n",
    "from keras.datasets import cifar100\n",
    "from keras.preprocessing.image import ImageDataGenerator\n",
    "from keras.models import Sequential\n",
    "from keras.layers import Dense, Dropout, Activation, Flatten\n",
    "from keras.layers import Conv2D, MaxPooling2D, BatchNormalization\n",
    "from keras import optimizers\n",
    "from keras.utils import np_utils\n",
    "from keras.optimizers import SGD \n",
    "from keras.callbacks import LearningRateScheduler\n",
    "from keras import regularizers\n",
    "from matplotlib import pyplot\n",
    "from keras.utils import to_categorical\n",
    "from keras.callbacks import ModelCheckpoint, EarlyStopping\n",
    "from sklearn import metrics\n",
    "from sklearn.metrics import confusion_matrix\n",
    "from sklearn.metrics import accuracy_score\n",
    "from keras.models import Model\n",
    "from keras.layers import Conv2D, MaxPool2D, Dropout, Dense, Input, concatenate, GlobalAveragePooling2D, AveragePooling2D,Flatten"
   ]
  },
  {
   "cell_type": "markdown",
   "metadata": {
    "id": "F3XLVJepz2DV"
   },
   "source": [
    "<h3><b> Importing Dataset</b><h3>"
   ]
  },
  {
   "cell_type": "code",
   "execution_count": 2,
   "metadata": {
    "colab": {
     "base_uri": "https://localhost:8080/",
     "height": 119
    },
    "id": "iuhv097NYrfu",
    "outputId": "74f829d7-4616-4fc2-fc71-8dc85ca5de62"
   },
   "outputs": [
    {
     "name": "stdout",
     "output_type": "stream",
     "text": [
      "Downloading data from https://www.cs.toronto.edu/~kriz/cifar-100-python.tar.gz\n",
      "169009152/169001437 [==============================] - 2s 0us/step\n",
      "(50000, 32, 32, 3)\n",
      "(50000, 1)\n",
      "(10000, 32, 32, 3)\n",
      "(10000, 1)\n"
     ]
    }
   ],
   "source": [
    "# Load dataset\n",
    "(X_train, y_train), (X_test, y_test) = cifar100.load_data()\n",
    "print(X_train.shape)\n",
    "print(y_train.shape)\n",
    "print(X_test.shape)\n",
    "print(y_test.shape)"
   ]
  },
  {
   "cell_type": "markdown",
   "metadata": {
    "id": "Y2yAtEqs0DTO"
   },
   "source": [
    "<h3><b> Preprocessing of the dataset</b></h3>"
   ]
  },
  {
   "cell_type": "code",
   "execution_count": 3,
   "metadata": {
    "id": "G1xMv3g8Yxl4"
   },
   "outputs": [],
   "source": [
    "# Normalize the dataset\n",
    "X_train = X_train/255\n",
    "X_test = X_test/255"
   ]
  },
  {
   "cell_type": "code",
   "execution_count": 4,
   "metadata": {
    "id": "NUcSJ9bPY4Yu"
   },
   "outputs": [],
   "source": [
    "#Converting the testing and training dataset into float\n",
    "X_train = X_train.astype('float32')\n",
    "X_test = X_test.astype('float32')"
   ]
  },
  {
   "cell_type": "code",
   "execution_count": 5,
   "metadata": {
    "colab": {
     "base_uri": "https://localhost:8080/",
     "height": 34
    },
    "id": "0UfXOG68Y741",
    "outputId": "7aada56c-9848-4f18-fc74-c4b9a25de918"
   },
   "outputs": [
    {
     "name": "stdout",
     "output_type": "stream",
     "text": [
      "(50000, 100)\n"
     ]
    }
   ],
   "source": [
    "# Convert training and test labels to one hot matrices\n",
    "y_train = keras.utils.to_categorical(y_train, 100)\n",
    "y_test = keras.utils.to_categorical(y_test, 100)\n",
    "print(y_train.shape)"
   ]
  },
  {
   "cell_type": "markdown",
   "metadata": {
    "id": "DtqhVwFs0_yO"
   },
   "source": [
    "<h3><b> Model Architecure</b></h3>"
   ]
  },
  {
   "cell_type": "code",
   "execution_count": 6,
   "metadata": {
    "id": "RLLcjHtgid1I"
   },
   "outputs": [],
   "source": [
    "def inception_moduleA(x,\n",
    "                     filters_1x1,\n",
    "                     filters_3x3_reduce,\n",
    "                     filters_3x3,\n",
    "                     filters_5x5_reduce,\n",
    "                     filters_3x3a,\n",
    "                      filters_3x3b,\n",
    "                  \n",
    "                     filters_pool_proj,\n",
    "                     name=None):\n",
    "    \n",
    "    conv_1x1 = Conv2D(filters_1x1, (1, 1), padding='same', activation='elu')(x)\n",
    "    \n",
    "    conv_3x3 = Conv2D(filters_3x3_reduce, (1, 1), padding='same', activation='elu')(x)\n",
    "    conv_3x3 = Conv2D(filters_3x3, (3, 3), padding='same', activation='elu')(conv_3x3)\n",
    "\n",
    "    conv_5x5 = Conv2D(filters_5x5_reduce, (1, 1), padding='same', activation='elu')(x)\n",
    "    conv_3x3a = Conv2D(filters_3x3a, (3, 3), padding='same', activation='elu')(conv_5x5)\n",
    "    conv_3x3b = Conv2D(filters_3x3b, (3, 3), padding='same', activation='elu')(conv_3x3a)\n",
    "    pool_proj = MaxPool2D((3, 3), strides=(1, 1), padding='same')(x)\n",
    "    pool_proj = Conv2D(filters_pool_proj, (1, 1), padding='same', activation='elu')(pool_proj)\n",
    "\n",
    "    output = concatenate([conv_1x1, conv_3x3, conv_3x3a, pool_proj], axis=-1, name=name)\n",
    "    \n",
    "    return output\n",
    "\n",
    "\n",
    "def inception_moduleB(x,\n",
    "                     filters_1x1modb,\n",
    "                     filters_3x3_reducemodb,\n",
    "                     filters_1x3modb,\n",
    "                     filters_3x1modb,\n",
    "                     filters_5x5_reducemodb,\n",
    "                     filters_1x3amodb,\n",
    "                      filters_3x1amodb,\n",
    "                     filters_1x3bmodb,\n",
    "                      filters_3x1bmodb,\n",
    "                  \n",
    "                     filters_pool_proj,\n",
    "                     name=None):\n",
    "    \n",
    "    conv_1x1modb = Conv2D(filters_1x1modb, (1, 1), padding='same', activation='elu')(x)\n",
    "    \n",
    "    conv_3x3modb = Conv2D(filters_3x3_reducemodb, (1, 1), padding='same', activation='elu')(x)\n",
    "    conv_1x3modb = Conv2D(filters_1x3modb, (1, 3), padding='same', activation='elu')(conv_3x3modb)\n",
    "    conv_3x1modb = Conv2D(filters_3x1modb, (3, 1), padding='same', activation='elu')(conv_1x3modb)\n",
    "\n",
    "    conv_5x5modb = Conv2D(filters_5x5_reducemodb, (1, 1), padding='same', activation='elu')(x)\n",
    "    conv_1x3amodb = Conv2D(filters_1x3amodb, (1, 3), padding='same', activation='elu')(conv_5x5modb)\n",
    "    conv_3x1amodb = Conv2D(filters_3x1amodb, (3, 1), padding='same', activation='elu')(conv_1x3amodb)\n",
    "    conv_1x3bmodb = Conv2D(filters_1x3bmodb, (1, 3), padding='same', activation='elu')(conv_3x1amodb)\n",
    "    conv_3x1bmodb = Conv2D(filters_3x1bmodb, (3, 1), padding='same', activation='elu')(conv_1x3bmodb)\n",
    "\n",
    "\n",
    "    pool_proj = MaxPool2D((3, 3), strides=(1, 1), padding='same')(x)\n",
    "\n",
    "\n",
    "    pool_proj = Conv2D(filters_pool_proj, (1, 1), padding='same', activation='elu')(pool_proj)\n",
    "\n",
    "    output = concatenate([conv_1x1modb, conv_3x1modb, conv_3x1bmodb, pool_proj], axis=-1, name=name)\n",
    "    \n",
    "    return output\n",
    "\n",
    "\n",
    "def inception_moduleC(x,\n",
    "                     filters_1x1modc,\n",
    "                      filters_3x3_reducemodc,\n",
    "                     filters_1x3modc,\n",
    "                      filters_3x1modc,\n",
    "                     filters_5x5_reducemodc,\n",
    "                        filters_3x3amodc,\n",
    "                      filters_1x3amodc,\n",
    "                       filters_3x1amodc,\n",
    "                      \n",
    "                   \n",
    "                     filters_pool_proj,\n",
    "                     name=None):\n",
    "    \n",
    "    conv_1x1modc = Conv2D(filters_1x1modc, (1, 1), padding='same', activation='elu')(x)\n",
    "    \n",
    "    conv_3x3modc = Conv2D(filters_3x3_reducemodc, (1, 1), padding='same', activation='elu')(x)\n",
    "    conv_1x3modc = Conv2D(filters_1x3modc, (1, 3), padding='same', activation='elu')(conv_3x3modc)\n",
    "    conv_3x1modc = Conv2D(filters_3x1modc, (3, 1), padding='same', activation='elu')(conv_1x3modc)\n",
    "\n",
    "    conv_5x5modc = Conv2D(filters_5x5_reducemodc, (1, 1), padding='same', activation='elu')(x)\n",
    "    conv_3x3amodc = Conv2D(filters_3x3amodc, (1, 1), padding='same', activation='elu')(conv_5x5modc)\n",
    "\n",
    "    conv_1x3amodc = Conv2D(filters_1x3amodc, (1, 3), padding='same', activation='elu')(conv_3x3amodc)\n",
    "    conv_3x1amodc = Conv2D(filters_3x1amodc, (3, 1), padding='same', activation='elu')(conv_1x3amodc)\n",
    "\n",
    "\n",
    "\n",
    "    pool_proj = MaxPool2D((3, 3), strides=(1, 1), padding='same')(x)\n",
    "\n",
    "\n",
    "    pool_proj = Conv2D(filters_pool_proj, (1, 1), padding='same', activation='elu')(pool_proj)\n",
    "\n",
    "    output = concatenate([conv_1x1modc,conv_1x3modc, conv_3x1modc, conv_1x3amodc,conv_3x1amodc, pool_proj], axis=-1, name=name)\n",
    "    \n",
    "    return output\n",
    "\n"
   ]
  },
  {
   "cell_type": "code",
   "execution_count": 7,
   "metadata": {
    "id": "br3rOWOzHxJJ"
   },
   "outputs": [],
   "source": [
    "input_layer = Input(shape=(32, 32, 3))\n",
    "\n",
    "x = Conv2D(64, (3, 3), padding='same', strides=(2, 2), activation='elu', name='conv_1a_3x3/2')(input_layer)\n",
    "x = Conv2D(64, (3, 3), padding='same', strides=(1, 1), activation='elu', name='conv_2a_3x3/1')(x)\n",
    "x = BatchNormalization()(x)\n",
    "x = Conv2D(64, (3, 3), padding='same', strides=(1, 1), activation='elu', name='conv_3a_3x3/1')(x)\n",
    "x = BatchNormalization()(x)\n",
    "x = MaxPool2D((3, 3), padding='same', strides=(2, 2), name='max_pool_2_3x3/2')(x)\n",
    "x = Conv2D(64, (3, 3), padding='same', strides=(1, 1), activation='elu', name='conv_4a_3x3/1')(x)\n",
    "x = BatchNormalization()(x)\n",
    "x = Conv2D(64, (3, 3), padding='same', strides=(2, 2), activation='elu', name='conv_5a_3x3/2')(x)\n",
    "x = BatchNormalization()(x)\n",
    "x = Conv2D(64, (3, 3), padding='same', strides=(1, 1), activation='elu', name='conv_6a_3x3/1')(x)\n",
    "x = BatchNormalization()(x)\n",
    "\n",
    "x = inception_moduleA(x,\n",
    "                     filters_1x1=64,\n",
    "                     filters_3x3_reduce=96,\n",
    "                     filters_3x3=128,\n",
    "                     filters_5x5_reduce=16,\n",
    "                     filters_3x3a=32,\n",
    "                     filters_3x3b=32,\n",
    "                     filters_pool_proj=32,\n",
    "                     name='inception_3a')\n",
    "x = inception_moduleA(x,\n",
    "                     filters_1x1=64,\n",
    "                     filters_3x3_reduce=96,\n",
    "                     filters_3x3=128,\n",
    "                     filters_5x5_reduce=16,\n",
    "                     filters_3x3a=32,\n",
    "                     filters_3x3b=32,\n",
    "                     filters_pool_proj=32,\n",
    "                     name='inception_3aa')\n",
    "\n",
    "#I am commenting the numbers of times module A, ModuleB is called as it is helping to increase my accuracy.In original InceptionV2 architecture ModuleA is called\n",
    "#3 times, ModuleB is called 5 times and ModuleC is called 2 times:-\n",
    "# x = inception_moduleA(x,\n",
    "#                      filters_1x1=64,\n",
    "#                      filters_3x3_reduce=96,\n",
    "#                      filters_3x3=128,\n",
    "#                      filters_5x5_reduce=16,\n",
    "#                      filters_3x3a=32,\n",
    "#                      filters_3x3b=32,\n",
    "#                      filters_pool_proj=32,\n",
    "#                      name='inception_3aaa')\n",
    "\n",
    "x = inception_moduleB(x,\n",
    "                     filters_1x1modb=64,\n",
    "                     filters_3x3_reducemodb=96,\n",
    "                     filters_1x3modb=128,\n",
    "                     filters_3x1modb=128,\n",
    "                     filters_5x5_reducemodb=16,\n",
    "                     filters_1x3amodb=128,\n",
    "                     filters_3x1amodb=128,\n",
    "                     filters_1x3bmodb=128,\n",
    "                     filters_3x1bmodb=128,\n",
    "                   filters_pool_proj=32,\n",
    "                     name='inception_4a')\n",
    "x = inception_moduleB(x,\n",
    "                     filters_1x1modb=64,\n",
    "                     filters_3x3_reducemodb=96,\n",
    "                     filters_1x3modb=128,\n",
    "                     filters_3x1modb=128,\n",
    "                     filters_5x5_reducemodb=16,\n",
    "                     filters_1x3amodb=128,\n",
    "                     filters_3x1amodb=128,\n",
    "                     filters_1x3bmodb=128,\n",
    "                     filters_3x1bmodb=128,\n",
    "                     filters_pool_proj=32,\n",
    "                     name='inception_4aa')\n",
    "x = inception_moduleB(x,\n",
    "                     filters_1x1modb=64,\n",
    "                     filters_3x3_reducemodb=96,\n",
    "                     filters_1x3modb=128,\n",
    "                     filters_3x1modb=128,\n",
    "                     filters_5x5_reducemodb=16,\n",
    "                     filters_1x3amodb=128,\n",
    "                     filters_3x1amodb=128,\n",
    "                     filters_1x3bmodb=128,\n",
    "                     filters_3x1bmodb=128,\n",
    "                      filters_pool_proj=32,\n",
    "             \n",
    "                     name='inception_4aaa')\n",
    "#I am commenting the numbers of times module A, ModuleB is called as it is helping to increase my accuracy.In original InceptionV2 architecture ModuleA is called\n",
    "#3 times, ModuleB is called 5 times and ModuleC is called 2 times:-\n",
    "# x = inception_moduleB(x,\n",
    "#                      filters_1x1modb=64,\n",
    "#                      filters_3x3_reducemodb=96,\n",
    "#                      filters_1x3modb=128,\n",
    "#                      filters_3x1modb=128,\n",
    "#                      filters_5x5_reducemodb=16,\n",
    "#                      filters_1x3amodb=128,\n",
    "#                      filters_3x1amodb=128,\n",
    "#                      filters_1x3bmodb=128,\n",
    "#                      filters_3x1bmodb=128,\n",
    "#                      filters_pool_proj=32,\n",
    "#                      name='inception_4aaaa')\n",
    "# x = inception_moduleB(x,\n",
    "#                      filters_1x1modb=64,\n",
    "#                      filters_3x3_reducemodb=96,\n",
    "#                      filters_1x3modb=128,\n",
    "#                      filters_3x1modb=128,\n",
    "#                      filters_5x5_reducemodb=16,\n",
    "#                      filters_1x3amodb=128,\n",
    "#                      filters_3x1amodb=128,\n",
    "#                      filters_1x3bmodb=128,\n",
    "#                      filters_3x1bmodb=128,\n",
    "#                      filters_pool_proj=32,\n",
    "#                      name='inception_4aaaaa')\n",
    "\n",
    "x = inception_moduleC(x,\n",
    "                     filters_1x1modc=64,\n",
    "                     filters_3x3_reducemodc=96,\n",
    "                     filters_1x3modc=128,\n",
    "                     filters_3x1modc=128,\n",
    "                     filters_5x5_reducemodc=16,\n",
    "                     filters_3x3amodc=128,\n",
    "                     filters_1x3amodc=128,\n",
    "                     filters_3x1amodc=128,\n",
    "                     filters_pool_proj=32,\n",
    "                    \n",
    "                     name='inception_5a')\n",
    "x = inception_moduleC(x,\n",
    "                     filters_1x1modc=64,\n",
    "                     filters_3x3_reducemodc=96,\n",
    "                     filters_1x3modc=128,\n",
    "                     filters_3x1modc=128,\n",
    "                     filters_5x5_reducemodc=16,\n",
    "                     filters_3x3amodc=128,\n",
    "                     filters_1x3amodc=128,\n",
    "                     filters_3x1amodc=128,\n",
    "                     filters_pool_proj=32,\n",
    "             \n",
    "                     name='inception_5aa')\n",
    "\n",
    "x = GlobalAveragePooling2D(name='avg_pool_5_3x3/1')(x)\n",
    "# x = Dropout(0.4)(x)\n",
    "x = Flatten()(x)\n",
    "output = Dense(100, activation='softmax', name='output')(x)"
   ]
  },
  {
   "cell_type": "code",
   "execution_count": 8,
   "metadata": {
    "id": "7GWOmOi_qTCS"
   },
   "outputs": [],
   "source": [
    "model = Model(input_layer,  output)"
   ]
  },
  {
   "cell_type": "code",
   "execution_count": 9,
   "metadata": {
    "colab": {
     "base_uri": "https://localhost:8080/",
     "height": 1000
    },
    "id": "Ok_nFUWbFuwg",
    "outputId": "ff33047c-0703-400f-e84b-3b1eba87f152"
   },
   "outputs": [
    {
     "name": "stdout",
     "output_type": "stream",
     "text": [
      "Model: \"functional_1\"\n",
      "__________________________________________________________________________________________________\n",
      "Layer (type)                    Output Shape         Param #     Connected to                     \n",
      "==================================================================================================\n",
      "input_1 (InputLayer)            [(None, 32, 32, 3)]  0                                            \n",
      "__________________________________________________________________________________________________\n",
      "conv_1a_3x3/2 (Conv2D)          (None, 16, 16, 64)   1792        input_1[0][0]                    \n",
      "__________________________________________________________________________________________________\n",
      "conv_2a_3x3/1 (Conv2D)          (None, 16, 16, 64)   36928       conv_1a_3x3/2[0][0]              \n",
      "__________________________________________________________________________________________________\n",
      "batch_normalization (BatchNorma (None, 16, 16, 64)   256         conv_2a_3x3/1[0][0]              \n",
      "__________________________________________________________________________________________________\n",
      "conv_3a_3x3/1 (Conv2D)          (None, 16, 16, 64)   36928       batch_normalization[0][0]        \n",
      "__________________________________________________________________________________________________\n",
      "batch_normalization_1 (BatchNor (None, 16, 16, 64)   256         conv_3a_3x3/1[0][0]              \n",
      "__________________________________________________________________________________________________\n",
      "max_pool_2_3x3/2 (MaxPooling2D) (None, 8, 8, 64)     0           batch_normalization_1[0][0]      \n",
      "__________________________________________________________________________________________________\n",
      "conv_4a_3x3/1 (Conv2D)          (None, 8, 8, 64)     36928       max_pool_2_3x3/2[0][0]           \n",
      "__________________________________________________________________________________________________\n",
      "batch_normalization_2 (BatchNor (None, 8, 8, 64)     256         conv_4a_3x3/1[0][0]              \n",
      "__________________________________________________________________________________________________\n",
      "conv_5a_3x3/2 (Conv2D)          (None, 4, 4, 64)     36928       batch_normalization_2[0][0]      \n",
      "__________________________________________________________________________________________________\n",
      "batch_normalization_3 (BatchNor (None, 4, 4, 64)     256         conv_5a_3x3/2[0][0]              \n",
      "__________________________________________________________________________________________________\n",
      "conv_6a_3x3/1 (Conv2D)          (None, 4, 4, 64)     36928       batch_normalization_3[0][0]      \n",
      "__________________________________________________________________________________________________\n",
      "batch_normalization_4 (BatchNor (None, 4, 4, 64)     256         conv_6a_3x3/1[0][0]              \n",
      "__________________________________________________________________________________________________\n",
      "conv2d_1 (Conv2D)               (None, 4, 4, 96)     6240        batch_normalization_4[0][0]      \n",
      "__________________________________________________________________________________________________\n",
      "conv2d_3 (Conv2D)               (None, 4, 4, 16)     1040        batch_normalization_4[0][0]      \n",
      "__________________________________________________________________________________________________\n",
      "max_pooling2d (MaxPooling2D)    (None, 4, 4, 64)     0           batch_normalization_4[0][0]      \n",
      "__________________________________________________________________________________________________\n",
      "conv2d (Conv2D)                 (None, 4, 4, 64)     4160        batch_normalization_4[0][0]      \n",
      "__________________________________________________________________________________________________\n",
      "conv2d_2 (Conv2D)               (None, 4, 4, 128)    110720      conv2d_1[0][0]                   \n",
      "__________________________________________________________________________________________________\n",
      "conv2d_4 (Conv2D)               (None, 4, 4, 32)     4640        conv2d_3[0][0]                   \n",
      "__________________________________________________________________________________________________\n",
      "conv2d_6 (Conv2D)               (None, 4, 4, 32)     2080        max_pooling2d[0][0]              \n",
      "__________________________________________________________________________________________________\n",
      "inception_3a (Concatenate)      (None, 4, 4, 256)    0           conv2d[0][0]                     \n",
      "                                                                 conv2d_2[0][0]                   \n",
      "                                                                 conv2d_4[0][0]                   \n",
      "                                                                 conv2d_6[0][0]                   \n",
      "__________________________________________________________________________________________________\n",
      "conv2d_8 (Conv2D)               (None, 4, 4, 96)     24672       inception_3a[0][0]               \n",
      "__________________________________________________________________________________________________\n",
      "conv2d_10 (Conv2D)              (None, 4, 4, 16)     4112        inception_3a[0][0]               \n",
      "__________________________________________________________________________________________________\n",
      "max_pooling2d_1 (MaxPooling2D)  (None, 4, 4, 256)    0           inception_3a[0][0]               \n",
      "__________________________________________________________________________________________________\n",
      "conv2d_7 (Conv2D)               (None, 4, 4, 64)     16448       inception_3a[0][0]               \n",
      "__________________________________________________________________________________________________\n",
      "conv2d_9 (Conv2D)               (None, 4, 4, 128)    110720      conv2d_8[0][0]                   \n",
      "__________________________________________________________________________________________________\n",
      "conv2d_11 (Conv2D)              (None, 4, 4, 32)     4640        conv2d_10[0][0]                  \n",
      "__________________________________________________________________________________________________\n",
      "conv2d_13 (Conv2D)              (None, 4, 4, 32)     8224        max_pooling2d_1[0][0]            \n",
      "__________________________________________________________________________________________________\n",
      "inception_3aa (Concatenate)     (None, 4, 4, 256)    0           conv2d_7[0][0]                   \n",
      "                                                                 conv2d_9[0][0]                   \n",
      "                                                                 conv2d_11[0][0]                  \n",
      "                                                                 conv2d_13[0][0]                  \n",
      "__________________________________________________________________________________________________\n",
      "conv2d_18 (Conv2D)              (None, 4, 4, 16)     4112        inception_3aa[0][0]              \n",
      "__________________________________________________________________________________________________\n",
      "conv2d_19 (Conv2D)              (None, 4, 4, 128)    6272        conv2d_18[0][0]                  \n",
      "__________________________________________________________________________________________________\n",
      "conv2d_15 (Conv2D)              (None, 4, 4, 96)     24672       inception_3aa[0][0]              \n",
      "__________________________________________________________________________________________________\n",
      "conv2d_20 (Conv2D)              (None, 4, 4, 128)    49280       conv2d_19[0][0]                  \n",
      "__________________________________________________________________________________________________\n",
      "conv2d_16 (Conv2D)              (None, 4, 4, 128)    36992       conv2d_15[0][0]                  \n",
      "__________________________________________________________________________________________________\n",
      "conv2d_21 (Conv2D)              (None, 4, 4, 128)    49280       conv2d_20[0][0]                  \n",
      "__________________________________________________________________________________________________\n",
      "max_pooling2d_2 (MaxPooling2D)  (None, 4, 4, 256)    0           inception_3aa[0][0]              \n",
      "__________________________________________________________________________________________________\n",
      "conv2d_14 (Conv2D)              (None, 4, 4, 64)     16448       inception_3aa[0][0]              \n",
      "__________________________________________________________________________________________________\n",
      "conv2d_17 (Conv2D)              (None, 4, 4, 128)    49280       conv2d_16[0][0]                  \n",
      "__________________________________________________________________________________________________\n",
      "conv2d_22 (Conv2D)              (None, 4, 4, 128)    49280       conv2d_21[0][0]                  \n",
      "__________________________________________________________________________________________________\n",
      "conv2d_23 (Conv2D)              (None, 4, 4, 32)     8224        max_pooling2d_2[0][0]            \n",
      "__________________________________________________________________________________________________\n",
      "inception_4a (Concatenate)      (None, 4, 4, 352)    0           conv2d_14[0][0]                  \n",
      "                                                                 conv2d_17[0][0]                  \n",
      "                                                                 conv2d_22[0][0]                  \n",
      "                                                                 conv2d_23[0][0]                  \n",
      "__________________________________________________________________________________________________\n",
      "conv2d_28 (Conv2D)              (None, 4, 4, 16)     5648        inception_4a[0][0]               \n",
      "__________________________________________________________________________________________________\n",
      "conv2d_29 (Conv2D)              (None, 4, 4, 128)    6272        conv2d_28[0][0]                  \n",
      "__________________________________________________________________________________________________\n",
      "conv2d_25 (Conv2D)              (None, 4, 4, 96)     33888       inception_4a[0][0]               \n",
      "__________________________________________________________________________________________________\n",
      "conv2d_30 (Conv2D)              (None, 4, 4, 128)    49280       conv2d_29[0][0]                  \n",
      "__________________________________________________________________________________________________\n",
      "conv2d_26 (Conv2D)              (None, 4, 4, 128)    36992       conv2d_25[0][0]                  \n",
      "__________________________________________________________________________________________________\n",
      "conv2d_31 (Conv2D)              (None, 4, 4, 128)    49280       conv2d_30[0][0]                  \n",
      "__________________________________________________________________________________________________\n",
      "max_pooling2d_3 (MaxPooling2D)  (None, 4, 4, 352)    0           inception_4a[0][0]               \n",
      "__________________________________________________________________________________________________\n",
      "conv2d_24 (Conv2D)              (None, 4, 4, 64)     22592       inception_4a[0][0]               \n",
      "__________________________________________________________________________________________________\n",
      "conv2d_27 (Conv2D)              (None, 4, 4, 128)    49280       conv2d_26[0][0]                  \n",
      "__________________________________________________________________________________________________\n",
      "conv2d_32 (Conv2D)              (None, 4, 4, 128)    49280       conv2d_31[0][0]                  \n",
      "__________________________________________________________________________________________________\n",
      "conv2d_33 (Conv2D)              (None, 4, 4, 32)     11296       max_pooling2d_3[0][0]            \n",
      "__________________________________________________________________________________________________\n",
      "inception_4aa (Concatenate)     (None, 4, 4, 352)    0           conv2d_24[0][0]                  \n",
      "                                                                 conv2d_27[0][0]                  \n",
      "                                                                 conv2d_32[0][0]                  \n",
      "                                                                 conv2d_33[0][0]                  \n",
      "__________________________________________________________________________________________________\n",
      "conv2d_38 (Conv2D)              (None, 4, 4, 16)     5648        inception_4aa[0][0]              \n",
      "__________________________________________________________________________________________________\n",
      "conv2d_39 (Conv2D)              (None, 4, 4, 128)    6272        conv2d_38[0][0]                  \n",
      "__________________________________________________________________________________________________\n",
      "conv2d_35 (Conv2D)              (None, 4, 4, 96)     33888       inception_4aa[0][0]              \n",
      "__________________________________________________________________________________________________\n",
      "conv2d_40 (Conv2D)              (None, 4, 4, 128)    49280       conv2d_39[0][0]                  \n",
      "__________________________________________________________________________________________________\n",
      "conv2d_36 (Conv2D)              (None, 4, 4, 128)    36992       conv2d_35[0][0]                  \n",
      "__________________________________________________________________________________________________\n",
      "conv2d_41 (Conv2D)              (None, 4, 4, 128)    49280       conv2d_40[0][0]                  \n",
      "__________________________________________________________________________________________________\n",
      "max_pooling2d_4 (MaxPooling2D)  (None, 4, 4, 352)    0           inception_4aa[0][0]              \n",
      "__________________________________________________________________________________________________\n",
      "conv2d_34 (Conv2D)              (None, 4, 4, 64)     22592       inception_4aa[0][0]              \n",
      "__________________________________________________________________________________________________\n",
      "conv2d_37 (Conv2D)              (None, 4, 4, 128)    49280       conv2d_36[0][0]                  \n",
      "__________________________________________________________________________________________________\n",
      "conv2d_42 (Conv2D)              (None, 4, 4, 128)    49280       conv2d_41[0][0]                  \n",
      "__________________________________________________________________________________________________\n",
      "conv2d_43 (Conv2D)              (None, 4, 4, 32)     11296       max_pooling2d_4[0][0]            \n",
      "__________________________________________________________________________________________________\n",
      "inception_4aaa (Concatenate)    (None, 4, 4, 352)    0           conv2d_34[0][0]                  \n",
      "                                                                 conv2d_37[0][0]                  \n",
      "                                                                 conv2d_42[0][0]                  \n",
      "                                                                 conv2d_43[0][0]                  \n",
      "__________________________________________________________________________________________________\n",
      "conv2d_48 (Conv2D)              (None, 4, 4, 16)     5648        inception_4aaa[0][0]             \n",
      "__________________________________________________________________________________________________\n",
      "conv2d_45 (Conv2D)              (None, 4, 4, 96)     33888       inception_4aaa[0][0]             \n",
      "__________________________________________________________________________________________________\n",
      "conv2d_49 (Conv2D)              (None, 4, 4, 128)    2176        conv2d_48[0][0]                  \n",
      "__________________________________________________________________________________________________\n",
      "conv2d_46 (Conv2D)              (None, 4, 4, 128)    36992       conv2d_45[0][0]                  \n",
      "__________________________________________________________________________________________________\n",
      "conv2d_50 (Conv2D)              (None, 4, 4, 128)    49280       conv2d_49[0][0]                  \n",
      "__________________________________________________________________________________________________\n",
      "max_pooling2d_5 (MaxPooling2D)  (None, 4, 4, 352)    0           inception_4aaa[0][0]             \n",
      "__________________________________________________________________________________________________\n",
      "conv2d_44 (Conv2D)              (None, 4, 4, 64)     22592       inception_4aaa[0][0]             \n",
      "__________________________________________________________________________________________________\n",
      "conv2d_47 (Conv2D)              (None, 4, 4, 128)    49280       conv2d_46[0][0]                  \n",
      "__________________________________________________________________________________________________\n",
      "conv2d_51 (Conv2D)              (None, 4, 4, 128)    49280       conv2d_50[0][0]                  \n",
      "__________________________________________________________________________________________________\n",
      "conv2d_52 (Conv2D)              (None, 4, 4, 32)     11296       max_pooling2d_5[0][0]            \n",
      "__________________________________________________________________________________________________\n",
      "inception_5a (Concatenate)      (None, 4, 4, 608)    0           conv2d_44[0][0]                  \n",
      "                                                                 conv2d_46[0][0]                  \n",
      "                                                                 conv2d_47[0][0]                  \n",
      "                                                                 conv2d_50[0][0]                  \n",
      "                                                                 conv2d_51[0][0]                  \n",
      "                                                                 conv2d_52[0][0]                  \n",
      "__________________________________________________________________________________________________\n",
      "conv2d_57 (Conv2D)              (None, 4, 4, 16)     9744        inception_5a[0][0]               \n",
      "__________________________________________________________________________________________________\n",
      "conv2d_54 (Conv2D)              (None, 4, 4, 96)     58464       inception_5a[0][0]               \n",
      "__________________________________________________________________________________________________\n",
      "conv2d_58 (Conv2D)              (None, 4, 4, 128)    2176        conv2d_57[0][0]                  \n",
      "__________________________________________________________________________________________________\n",
      "conv2d_55 (Conv2D)              (None, 4, 4, 128)    36992       conv2d_54[0][0]                  \n",
      "__________________________________________________________________________________________________\n",
      "conv2d_59 (Conv2D)              (None, 4, 4, 128)    49280       conv2d_58[0][0]                  \n",
      "__________________________________________________________________________________________________\n",
      "max_pooling2d_6 (MaxPooling2D)  (None, 4, 4, 608)    0           inception_5a[0][0]               \n",
      "__________________________________________________________________________________________________\n",
      "conv2d_53 (Conv2D)              (None, 4, 4, 64)     38976       inception_5a[0][0]               \n",
      "__________________________________________________________________________________________________\n",
      "conv2d_56 (Conv2D)              (None, 4, 4, 128)    49280       conv2d_55[0][0]                  \n",
      "__________________________________________________________________________________________________\n",
      "conv2d_60 (Conv2D)              (None, 4, 4, 128)    49280       conv2d_59[0][0]                  \n",
      "__________________________________________________________________________________________________\n",
      "conv2d_61 (Conv2D)              (None, 4, 4, 32)     19488       max_pooling2d_6[0][0]            \n",
      "__________________________________________________________________________________________________\n",
      "inception_5aa (Concatenate)     (None, 4, 4, 608)    0           conv2d_53[0][0]                  \n",
      "                                                                 conv2d_55[0][0]                  \n",
      "                                                                 conv2d_56[0][0]                  \n",
      "                                                                 conv2d_59[0][0]                  \n",
      "                                                                 conv2d_60[0][0]                  \n",
      "                                                                 conv2d_61[0][0]                  \n",
      "__________________________________________________________________________________________________\n",
      "avg_pool_5_3x3/1 (GlobalAverage (None, 608)          0           inception_5aa[0][0]              \n",
      "__________________________________________________________________________________________________\n",
      "flatten (Flatten)               (None, 608)          0           avg_pool_5_3x3/1[0][0]           \n",
      "__________________________________________________________________________________________________\n",
      "output (Dense)                  (None, 100)          60900       flatten[0][0]                    \n",
      "==================================================================================================\n",
      "Total params: 2,041,876\n",
      "Trainable params: 2,041,236\n",
      "Non-trainable params: 640\n",
      "__________________________________________________________________________________________________\n"
     ]
    }
   ],
   "source": [
    "model.summary()\n"
   ]
  },
  {
   "cell_type": "markdown",
   "metadata": {
    "id": "I-jkzpVu1SSF"
   },
   "source": [
    "<h3><b> Model Compile</b></h3>"
   ]
  },
  {
   "cell_type": "code",
   "execution_count": 10,
   "metadata": {
    "id": "YPd9gc_sBziE"
   },
   "outputs": [],
   "source": [
    "learning_rate = 0.001\n",
    "batch_size = 128\n",
    "lr_decay = 1e-6\n",
    "#optimization details\n",
    "sgd = optimizers.SGD(lr=learning_rate, decay=lr_decay, momentum=0.9, nesterov=True)\n",
    "model.compile(loss='categorical_crossentropy', optimizer=sgd,metrics=['accuracy'])"
   ]
  },
  {
   "cell_type": "code",
   "execution_count": 11,
   "metadata": {
    "colab": {
     "base_uri": "https://localhost:8080/",
     "height": 34
    },
    "id": "u_rq-y4K1rgo",
    "outputId": "0aac7573-ce11-4d16-a233-8797a1e606de"
   },
   "outputs": [
    {
     "name": "stdout",
     "output_type": "stream",
     "text": [
      "WARNING:tensorflow:`period` argument is deprecated. Please use `save_freq` to specify the frequency in number of batches seen.\n"
     ]
    }
   ],
   "source": [
    "# Create Checkpoint and Early Stopping\n",
    "from keras.callbacks import ModelCheckpoint, EarlyStopping\n",
    "checkpoint = ModelCheckpoint(\"InceptionV2_SGD_BatchNorm.h5\", monitor='val_loss', verbose=1, save_best_only=True, save_weights_only=True, mode='auto', period=1)\n",
    "early = EarlyStopping(monitor='val_loss', min_delta=0, patience=5, verbose=1, mode='auto')"
   ]
  },
  {
   "cell_type": "markdown",
   "metadata": {
    "id": "HogWDFCh1ZxX"
   },
   "source": [
    "<h3><b> Train the Model</b><h3>"
   ]
  },
  {
   "cell_type": "code",
   "execution_count": 12,
   "metadata": {
    "colab": {
     "base_uri": "https://localhost:8080/",
     "height": 1000
    },
    "id": "cxkeVrtvF0Ok",
    "outputId": "4e87814b-3efe-48b9-cadd-a0091a2d52a7"
   },
   "outputs": [
    {
     "name": "stdout",
     "output_type": "stream",
     "text": [
      "Epoch 1/150\n",
      "196/196 [==============================] - ETA: 0s - loss: 4.5522 - accuracy: 0.0266\n",
      "Epoch 00001: val_loss improved from inf to 4.58045, saving model to InceptionV2_SGD_BatchNorm.h5\n",
      "196/196 [==============================] - 16s 81ms/step - loss: 4.5522 - accuracy: 0.0266 - val_loss: 4.5805 - val_accuracy: 0.0134\n",
      "Epoch 2/150\n",
      "195/196 [============================>.] - ETA: 0s - loss: 4.3038 - accuracy: 0.0528\n",
      "Epoch 00002: val_loss improved from 4.58045 to 4.40972, saving model to InceptionV2_SGD_BatchNorm.h5\n",
      "196/196 [==============================] - 15s 75ms/step - loss: 4.3037 - accuracy: 0.0527 - val_loss: 4.4097 - val_accuracy: 0.0315\n",
      "Epoch 3/150\n",
      "195/196 [============================>.] - ETA: 0s - loss: 4.0123 - accuracy: 0.0889\n",
      "Epoch 00003: val_loss improved from 4.40972 to 4.03837, saving model to InceptionV2_SGD_BatchNorm.h5\n",
      "196/196 [==============================] - 15s 75ms/step - loss: 4.0124 - accuracy: 0.0888 - val_loss: 4.0384 - val_accuracy: 0.0795\n",
      "Epoch 4/150\n",
      "195/196 [============================>.] - ETA: 0s - loss: 3.7914 - accuracy: 0.1145\n",
      "Epoch 00004: val_loss improved from 4.03837 to 3.86165, saving model to InceptionV2_SGD_BatchNorm.h5\n",
      "196/196 [==============================] - 15s 75ms/step - loss: 3.7914 - accuracy: 0.1145 - val_loss: 3.8616 - val_accuracy: 0.0967\n",
      "Epoch 5/150\n",
      "195/196 [============================>.] - ETA: 0s - loss: 3.6323 - accuracy: 0.1325\n",
      "Epoch 00005: val_loss improved from 3.86165 to 3.66158, saving model to InceptionV2_SGD_BatchNorm.h5\n",
      "196/196 [==============================] - 15s 74ms/step - loss: 3.6320 - accuracy: 0.1327 - val_loss: 3.6616 - val_accuracy: 0.1281\n",
      "Epoch 6/150\n",
      "195/196 [============================>.] - ETA: 0s - loss: 3.4976 - accuracy: 0.1512\n",
      "Epoch 00006: val_loss improved from 3.66158 to 3.59447, saving model to InceptionV2_SGD_BatchNorm.h5\n",
      "196/196 [==============================] - 15s 74ms/step - loss: 3.4975 - accuracy: 0.1512 - val_loss: 3.5945 - val_accuracy: 0.1348\n",
      "Epoch 7/150\n",
      "195/196 [============================>.] - ETA: 0s - loss: 3.3693 - accuracy: 0.1726\n",
      "Epoch 00007: val_loss improved from 3.59447 to 3.41653, saving model to InceptionV2_SGD_BatchNorm.h5\n",
      "196/196 [==============================] - 15s 74ms/step - loss: 3.3689 - accuracy: 0.1726 - val_loss: 3.4165 - val_accuracy: 0.1677\n",
      "Epoch 8/150\n",
      "195/196 [============================>.] - ETA: 0s - loss: 3.2557 - accuracy: 0.1917\n",
      "Epoch 00008: val_loss did not improve from 3.41653\n",
      "196/196 [==============================] - 14s 74ms/step - loss: 3.2559 - accuracy: 0.1917 - val_loss: 3.7541 - val_accuracy: 0.1354\n",
      "Epoch 9/150\n",
      "195/196 [============================>.] - ETA: 0s - loss: 3.1471 - accuracy: 0.2132\n",
      "Epoch 00009: val_loss improved from 3.41653 to 3.37182, saving model to InceptionV2_SGD_BatchNorm.h5\n",
      "196/196 [==============================] - 15s 75ms/step - loss: 3.1462 - accuracy: 0.2133 - val_loss: 3.3718 - val_accuracy: 0.1843\n",
      "Epoch 10/150\n",
      "195/196 [============================>.] - ETA: 0s - loss: 3.0473 - accuracy: 0.2320\n",
      "Epoch 00010: val_loss improved from 3.37182 to 3.18302, saving model to InceptionV2_SGD_BatchNorm.h5\n",
      "196/196 [==============================] - 15s 74ms/step - loss: 3.0476 - accuracy: 0.2319 - val_loss: 3.1830 - val_accuracy: 0.2048\n",
      "Epoch 11/150\n",
      "195/196 [============================>.] - ETA: 0s - loss: 2.9538 - accuracy: 0.2507\n",
      "Epoch 00011: val_loss improved from 3.18302 to 3.09000, saving model to InceptionV2_SGD_BatchNorm.h5\n",
      "196/196 [==============================] - 15s 74ms/step - loss: 2.9535 - accuracy: 0.2507 - val_loss: 3.0900 - val_accuracy: 0.2280\n",
      "Epoch 12/150\n",
      "195/196 [============================>.] - ETA: 0s - loss: 2.8666 - accuracy: 0.2662\n",
      "Epoch 00012: val_loss improved from 3.09000 to 3.02015, saving model to InceptionV2_SGD_BatchNorm.h5\n",
      "196/196 [==============================] - 15s 74ms/step - loss: 2.8669 - accuracy: 0.2662 - val_loss: 3.0202 - val_accuracy: 0.2403\n",
      "Epoch 13/150\n",
      "195/196 [============================>.] - ETA: 0s - loss: 2.7834 - accuracy: 0.2830\n",
      "Epoch 00013: val_loss improved from 3.02015 to 3.00245, saving model to InceptionV2_SGD_BatchNorm.h5\n",
      "196/196 [==============================] - 15s 74ms/step - loss: 2.7837 - accuracy: 0.2830 - val_loss: 3.0024 - val_accuracy: 0.2415\n",
      "Epoch 14/150\n",
      "195/196 [============================>.] - ETA: 0s - loss: 2.7053 - accuracy: 0.2990\n",
      "Epoch 00014: val_loss did not improve from 3.00245\n",
      "196/196 [==============================] - 14s 74ms/step - loss: 2.7055 - accuracy: 0.2990 - val_loss: 3.0201 - val_accuracy: 0.2408\n",
      "Epoch 15/150\n",
      "195/196 [============================>.] - ETA: 0s - loss: 2.6358 - accuracy: 0.3113\n",
      "Epoch 00015: val_loss improved from 3.00245 to 2.90540, saving model to InceptionV2_SGD_BatchNorm.h5\n",
      "196/196 [==============================] - 15s 74ms/step - loss: 2.6356 - accuracy: 0.3114 - val_loss: 2.9054 - val_accuracy: 0.2628\n",
      "Epoch 16/150\n",
      "195/196 [============================>.] - ETA: 0s - loss: 2.5672 - accuracy: 0.3282\n",
      "Epoch 00016: val_loss improved from 2.90540 to 2.80668, saving model to InceptionV2_SGD_BatchNorm.h5\n",
      "196/196 [==============================] - 15s 74ms/step - loss: 2.5675 - accuracy: 0.3281 - val_loss: 2.8067 - val_accuracy: 0.2849\n",
      "Epoch 17/150\n",
      "195/196 [============================>.] - ETA: 0s - loss: 2.5043 - accuracy: 0.3386\n",
      "Epoch 00017: val_loss did not improve from 2.80668\n",
      "196/196 [==============================] - 14s 74ms/step - loss: 2.5045 - accuracy: 0.3386 - val_loss: 2.8368 - val_accuracy: 0.2825\n",
      "Epoch 18/150\n",
      "195/196 [============================>.] - ETA: 0s - loss: 2.4434 - accuracy: 0.3497\n",
      "Epoch 00018: val_loss improved from 2.80668 to 2.76194, saving model to InceptionV2_SGD_BatchNorm.h5\n",
      "196/196 [==============================] - 15s 74ms/step - loss: 2.4437 - accuracy: 0.3496 - val_loss: 2.7619 - val_accuracy: 0.2991\n",
      "Epoch 19/150\n",
      "195/196 [============================>.] - ETA: 0s - loss: 2.3837 - accuracy: 0.3651\n",
      "Epoch 00019: val_loss did not improve from 2.76194\n",
      "196/196 [==============================] - 15s 74ms/step - loss: 2.3835 - accuracy: 0.3651 - val_loss: 2.8575 - val_accuracy: 0.2825\n",
      "Epoch 20/150\n",
      "195/196 [============================>.] - ETA: 0s - loss: 2.3279 - accuracy: 0.3748\n",
      "Epoch 00020: val_loss did not improve from 2.76194\n",
      "196/196 [==============================] - 14s 74ms/step - loss: 2.3274 - accuracy: 0.3749 - val_loss: 2.7713 - val_accuracy: 0.3052\n",
      "Epoch 21/150\n",
      "195/196 [============================>.] - ETA: 0s - loss: 2.2669 - accuracy: 0.3869\n",
      "Epoch 00021: val_loss improved from 2.76194 to 2.74836, saving model to InceptionV2_SGD_BatchNorm.h5\n",
      "196/196 [==============================] - 15s 74ms/step - loss: 2.2670 - accuracy: 0.3870 - val_loss: 2.7484 - val_accuracy: 0.3063\n",
      "Epoch 22/150\n",
      "195/196 [============================>.] - ETA: 0s - loss: 2.2106 - accuracy: 0.3996\n",
      "Epoch 00022: val_loss did not improve from 2.74836\n",
      "196/196 [==============================] - 14s 74ms/step - loss: 2.2111 - accuracy: 0.3994 - val_loss: 2.8230 - val_accuracy: 0.2986\n",
      "Epoch 23/150\n",
      "195/196 [============================>.] - ETA: 0s - loss: 2.1575 - accuracy: 0.4121\n",
      "Epoch 00023: val_loss did not improve from 2.74836\n",
      "196/196 [==============================] - 15s 74ms/step - loss: 2.1573 - accuracy: 0.4121 - val_loss: 2.7637 - val_accuracy: 0.3134\n",
      "Epoch 24/150\n",
      "195/196 [============================>.] - ETA: 0s - loss: 2.1006 - accuracy: 0.4245\n",
      "Epoch 00024: val_loss did not improve from 2.74836\n",
      "196/196 [==============================] - 14s 74ms/step - loss: 2.1006 - accuracy: 0.4244 - val_loss: 2.8617 - val_accuracy: 0.2939\n",
      "Epoch 25/150\n",
      "195/196 [============================>.] - ETA: 0s - loss: 2.0453 - accuracy: 0.4359\n",
      "Epoch 00025: val_loss improved from 2.74836 to 2.69762, saving model to InceptionV2_SGD_BatchNorm.h5\n",
      "196/196 [==============================] - 15s 75ms/step - loss: 2.0452 - accuracy: 0.4359 - val_loss: 2.6976 - val_accuracy: 0.3269\n",
      "Epoch 26/150\n",
      "195/196 [============================>.] - ETA: 0s - loss: 1.9920 - accuracy: 0.4484\n",
      "Epoch 00026: val_loss improved from 2.69762 to 2.69694, saving model to InceptionV2_SGD_BatchNorm.h5\n",
      "196/196 [==============================] - 15s 75ms/step - loss: 1.9925 - accuracy: 0.4484 - val_loss: 2.6969 - val_accuracy: 0.3285\n",
      "Epoch 27/150\n",
      "195/196 [============================>.] - ETA: 0s - loss: 1.9405 - accuracy: 0.4597\n",
      "Epoch 00027: val_loss did not improve from 2.69694\n",
      "196/196 [==============================] - 14s 74ms/step - loss: 1.9405 - accuracy: 0.4598 - val_loss: 2.7816 - val_accuracy: 0.3190\n",
      "Epoch 28/150\n",
      "195/196 [============================>.] - ETA: 0s - loss: 1.8847 - accuracy: 0.4735\n",
      "Epoch 00028: val_loss did not improve from 2.69694\n",
      "196/196 [==============================] - 14s 74ms/step - loss: 1.8851 - accuracy: 0.4734 - val_loss: 2.8837 - val_accuracy: 0.3083\n",
      "Epoch 29/150\n",
      "195/196 [============================>.] - ETA: 0s - loss: 1.8323 - accuracy: 0.4856\n",
      "Epoch 00029: val_loss did not improve from 2.69694\n",
      "196/196 [==============================] - 15s 74ms/step - loss: 1.8325 - accuracy: 0.4855 - val_loss: 2.7526 - val_accuracy: 0.3281\n",
      "Epoch 30/150\n",
      "195/196 [============================>.] - ETA: 0s - loss: 1.7767 - accuracy: 0.4963\n",
      "Epoch 00030: val_loss did not improve from 2.69694\n",
      "196/196 [==============================] - 15s 74ms/step - loss: 1.7767 - accuracy: 0.4963 - val_loss: 2.8095 - val_accuracy: 0.3252\n",
      "Epoch 31/150\n",
      "195/196 [============================>.] - ETA: 0s - loss: 1.7238 - accuracy: 0.5103\n",
      "Epoch 00031: val_loss did not improve from 2.69694\n",
      "196/196 [==============================] - 15s 74ms/step - loss: 1.7238 - accuracy: 0.5103 - val_loss: 2.9959 - val_accuracy: 0.3187\n",
      "Epoch 00031: early stopping\n"
     ]
    }
   ],
   "source": [
    "history = model.fit(X_train,y_train, validation_data=(X_test,y_test), epochs=150, batch_size=256, callbacks=[checkpoint,early])\n"
   ]
  },
  {
   "cell_type": "markdown",
   "metadata": {
    "id": "Y0xFUMyq_tGF"
   },
   "source": [
    "<h3><b> Graphs</b></h3>"
   ]
  },
  {
   "cell_type": "code",
   "execution_count": 13,
   "metadata": {
    "colab": {
     "base_uri": "https://localhost:8080/",
     "height": 312
    },
    "id": "U4tGzn_O_n14",
    "outputId": "b7c85848-b63e-42cd-8bbb-d63535d00329"
   },
   "outputs": [
    {
     "name": "stdout",
     "output_type": "stream",
     "text": [
      "dict_keys(['loss', 'accuracy', 'val_loss', 'val_accuracy'])\n"
     ]
    },
    {
     "data": {
      "image/png": "[encoded data removed]",
      "text/plain": [
       "<Figure size 432x288 with 1 Axes>"
      ]
     },
     "metadata": {
      "needs_background": "light",
      "tags": []
     },
     "output_type": "display_data"
    }
   ],
   "source": [
    "import matplotlib.pyplot as plt\n",
    "\n",
    "history_dict = history.history\n",
    "print(history_dict.keys())\n",
    "accuracy_values = history_dict['accuracy']\n",
    "val_accuracy_values = history_dict['val_accuracy']\n",
    "\n",
    "epochs = range(1, len(history_dict['accuracy']) + 1)\n",
    "\n",
    "plt.plot(epochs, accuracy_values, 'bo', label='Training Accuracy')\n",
    "plt.plot(epochs, val_accuracy_values, 'b', label='Validation loss')\n",
    "plt.title('Training and validation Accuracy')\n",
    "plt.xlabel('Epochs')\n",
    "plt.ylabel('Accuracy')\n",
    "plt.legend()\n",
    "\n",
    "plt.show()"
   ]
  },
  {
   "cell_type": "code",
   "execution_count": 14,
   "metadata": {
    "colab": {
     "base_uri": "https://localhost:8080/",
     "height": 312
    },
    "id": "paDpykeG_pdP",
    "outputId": "c1471364-e55f-4a87-d17b-7244ba527023"
   },
   "outputs": [
    {
     "name": "stdout",
     "output_type": "stream",
     "text": [
      "dict_keys(['loss', 'accuracy', 'val_loss', 'val_accuracy'])\n"
     ]
    },
    {
     "data": {
      "image/png": "[encoded data removed]",
      "text/plain": [
       "<Figure size 432x288 with 1 Axes>"
      ]
     },
     "metadata": {
      "needs_background": "light",
      "tags": []
     },
     "output_type": "display_data"
    }
   ],
   "source": [
    "import matplotlib.pyplot as plt\n",
    "\n",
    "history_dict = history.history\n",
    "print(history_dict.keys())\n",
    "loss_values = history_dict['loss']\n",
    "val_loss_values = history_dict['val_loss']\n",
    "\n",
    "epochs = range(1, len(history_dict['accuracy']) + 1)\n",
    "\n",
    "plt.plot(epochs, loss_values, 'bo', label='Training loss')\n",
    "plt.plot(epochs, val_loss_values, 'b', label='Validation loss')\n",
    "plt.title('Training and validation loss')\n",
    "plt.xlabel('Epochs')\n",
    "plt.ylabel('Loss')\n",
    "plt.legend()\n",
    "\n",
    "plt.show()\n"
   ]
  },
  {
   "cell_type": "markdown",
   "metadata": {
    "id": "n2CBsx5a2h8O"
   },
   "source": [
    "<h3><b> Metric Calculation</b></h3>"
   ]
  },
  {
   "cell_type": "code",
   "execution_count": 15,
   "metadata": {
    "colab": {
     "base_uri": "https://localhost:8080/",
     "height": 68
    },
    "id": "XOhTm_r5_68l",
    "outputId": "e91e053a-80bc-4d35-ad3a-ed6446dfdcfd"
   },
   "outputs": [
    {
     "name": "stdout",
     "output_type": "stream",
     "text": [
      "Prec: 0.3388776313890569\n",
      "Recall: 0.3285\n",
      "Accuracy: 0.3285\n"
     ]
    }
   ],
   "source": [
    "model1 = Model(input_layer,  output)\n",
    "model1.load_weights(\"./InceptionV2_SGD_BatchNorm.h5\")\n",
    "#optimization details\n",
    "learning_rate = 0.001\n",
    "batch_size = 128\n",
    "lr_decay = 1e-6\n",
    "#optimization details\n",
    "sgd = optimizers.SGD(lr=learning_rate, decay=lr_decay, momentum=0.9, nesterov=True)\n",
    "model.compile(loss='categorical_crossentropy', optimizer=sgd,metrics=['accuracy'])\n",
    "\n",
    "# Test the model\n",
    "model.predict(X_test).argmax(-1)\n",
    "\n",
    "y_true = y_test.argmax(-1)\n",
    "y_pred = model.predict(X_test).argmax(-1)\n",
    "# generate confusion matrix\n",
    "from sklearn.metrics import confusion_matrix, precision_score, recall_score, accuracy_score\n",
    "confusion_matrix(y_true, y_pred)\n",
    "# calculate prec, recall, accuracy\n",
    "print(\"Prec: \"+ str(precision_score(y_true, y_pred, average='weighted')))\n",
    "print(\"Recall: \"+ str(recall_score(y_true, y_pred, average='weighted')))\n",
    "print(\"Accuracy: \" + str(accuracy_score(y_true, y_pred)))"
   ]
  },
  {
   "cell_type": "markdown",
   "metadata": {
    "id": "M_M6ri2847o1"
   },
   "source": [
    "<h3><b> References</b></h3>"
   ]
  },
  {
   "cell_type": "code",
   "execution_count": 16,
   "metadata": {
    "id": "dF2G22fKjJEF"
   },
   "outputs": [],
   "source": [
    "#https://www.analyticsvidhya.com/blog/2018/10/understanding-inception-network-from-scratch/\n",
    "#https://static.googleusercontent.com/media/research.google.com/en//pubs/archive/43022.pdf"
   ]
  }
 ],
 "metadata": {
  "accelerator": "GPU",
  "colab": {
   "collapsed_sections": [],
   "name": "InceptionV2_SGD_BatchNorm.ipynb",
   "provenance": []
  },
  "kernelspec": {
   "display_name": "Python 3",
   "language": "python",
   "name": "python3"
  },
  "language_info": {
   "codemirror_mode": {
    "name": "ipython",
    "version": 3
   },
   "file_extension": ".py",
   "mimetype": "text/x-python",
   "name": "python",
   "nbconvert_exporter": "python",
   "pygments_lexer": "ipython3",
   "version": "3.7.3"
  }
 },
 "nbformat": 4,
 "nbformat_minor": 1
}

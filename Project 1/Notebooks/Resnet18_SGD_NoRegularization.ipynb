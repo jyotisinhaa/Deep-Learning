{
  "nbformat": 4,
  "nbformat_minor": 0,
  "metadata": {
    "colab": {
      "name": "Resnet18_SGD_NoRegularization.ipynb",
      "provenance": [],
      "collapsed_sections": []
    },
    "kernelspec": {
      "name": "python3",
      "display_name": "Python 3"
    },
    "accelerator": "GPU"
  },
  "cells": [
    {
      "cell_type": "markdown",
      "metadata": {
        "id": "5WiVrJVyY2Sb"
      },
      "source": [
        "<h3><b>Importing Library</b></h3>"
      ]
    },
    {
      "cell_type": "code",
      "metadata": {
        "id": "vSlMQb_B7lG5"
      },
      "source": [
        "#Importing Library\n",
        "import os\n",
        "os.environ['CUDA_VISIBLE_DEVICES'] = '0'\n",
        "import keras\n",
        "import numpy as np\n",
        "import cv2\n",
        "from keras import optimizers\n",
        "from __future__ import print_function\n",
        "from keras.datasets import cifar100\n",
        "from keras.preprocessing.image import ImageDataGenerator\n",
        "from keras.utils import np_utils\n",
        "from keras.callbacks import ReduceLROnPlateau, CSVLogger, EarlyStopping\n",
        "from keras import layers\n",
        "from keras.layers import Input, Add, Dense, Activation, ZeroPadding2D, BatchNormalization, Flatten, Conv2D, AveragePooling2D, MaxPooling2D\n",
        "from keras.models import Model, load_model\n",
        "from keras.initializers import glorot_uniform\n",
        "from keras.utils import plot_model\n",
        "from IPython.display import SVG\n",
        "from keras.utils.vis_utils import model_to_dot\n",
        "import keras.backend as K\n",
        "import tensorflow as tf\n",
        "from keras.utils import to_categorical"
      ],
      "execution_count": 1,
      "outputs": []
    },
    {
      "cell_type": "markdown",
      "metadata": {
        "id": "iCnGduLhZTG3"
      },
      "source": [
        "<h3><b>Importing Dataset</b></h3>"
      ]
    },
    {
      "cell_type": "code",
      "metadata": {
        "id": "7VPRIRnD7lMi",
        "outputId": "a6d387a0-4741-4287-ea32-59d9e6ce1164",
        "colab": {
          "base_uri": "https://localhost:8080/",
          "height": 119
        }
      },
      "source": [
        "CLASSES = 100\n",
        "(X_train, y_train), (X_test, y_test) = cifar100.load_data()\n",
        "print(X_train.shape)\n",
        "print(X_test.shape)\n",
        "print(y_train.shape)\n",
        "print(y_test.shape)"
      ],
      "execution_count": 2,
      "outputs": [
        {
          "output_type": "stream",
          "text": [
            "Downloading data from https://www.cs.toronto.edu/~kriz/cifar-100-python.tar.gz\n",
            "169009152/169001437 [==============================] - 4s 0us/step\n",
            "(50000, 32, 32, 3)\n",
            "(10000, 32, 32, 3)\n",
            "(50000, 1)\n",
            "(10000, 1)\n"
          ],
          "name": "stdout"
        }
      ]
    },
    {
      "cell_type": "markdown",
      "metadata": {
        "id": "ZLKwqg4IZrig"
      },
      "source": [
        "<h3><b>Preprocessing of the Dataset</b></h3>"
      ]
    },
    {
      "cell_type": "code",
      "metadata": {
        "id": "K_e4QeNLZ0Lz"
      },
      "source": [
        "#Normalize the Dataset\n",
        "X_train = X_train/255\n",
        "X_test = X_test/255"
      ],
      "execution_count": 3,
      "outputs": []
    },
    {
      "cell_type": "code",
      "metadata": {
        "id": "qSgPRi0naBFo"
      },
      "source": [
        "#Converting the testing and training dataset into float\n",
        "X_train = X_train.astype('float32')\n",
        "X_test = X_test.astype('float32')\n"
      ],
      "execution_count": 4,
      "outputs": []
    },
    {
      "cell_type": "code",
      "metadata": {
        "id": "j_M02wQCZnl9",
        "outputId": "31ad9543-3d9c-4cfa-b6f1-27ba803cf013",
        "colab": {
          "base_uri": "https://localhost:8080/",
          "height": 34
        }
      },
      "source": [
        "# Convert training and the test labels to one hot matrices\n",
        "y_train = keras.utils.to_categorical(y_train, 100)\n",
        "y_test = keras.utils.to_categorical(y_test, 100)\n",
        "print(y_train.shape)"
      ],
      "execution_count": 5,
      "outputs": [
        {
          "output_type": "stream",
          "text": [
            "(50000, 100)\n"
          ],
          "name": "stdout"
        }
      ]
    },
    {
      "cell_type": "markdown",
      "metadata": {
        "id": "zeEcDgKllrIb"
      },
      "source": [
        "<h3><b>Model Architecture</b></h3>"
      ]
    },
    {
      "cell_type": "markdown",
      "metadata": {
        "id": "PY2izFq8lzRa"
      },
      "source": [
        "<h4><b> Identity Block</b><h4>"
      ]
    },
    {
      "cell_type": "code",
      "metadata": {
        "id": "74hKxFh-7lP4"
      },
      "source": [
        "def identity_block(X, f, filters, stage, block):\n",
        "    # defining name basis\n",
        "    conv_name_base = 'res' + str(stage) + block + '_branch'\n",
        "    bn_name_base = 'bn' + str(stage) + block + '_branch'\n",
        "\n",
        "    # Retrieve Filters\n",
        "    F1, F2 = filters\n",
        "\n",
        "    # Save the input value. We'll need this later to add back to the main path. \n",
        "    X_shortcut = X\n",
        "\n",
        "    # First component of main path\n",
        "    X = Conv2D(filters = F1, kernel_size = (1, 1), strides = (1,1), padding = 'same', name = conv_name_base + '2a')(X)\n",
        "    # X = BatchNormalization(axis = 3, name = bn_name_base + '2a')(X)\n",
        "    X = Activation('elu')(X)\n",
        "\n",
        "    # Second component of main path\n",
        "    X = Conv2D(filters = F2, kernel_size = (f, f), strides = (1,1), padding = 'same', name = conv_name_base + '2b')(X)\n",
        "    # X = BatchNormalization(axis = 3, name = bn_name_base + '2b')(X)\n",
        "    X = Activation('elu')(X)\n",
        "\n",
        "\n",
        "    # Final step: Add shortcut value to main path, and pass it through a ELU activation\n",
        "    X = Add()([X, X_shortcut])\n",
        "    X = Activation('elu')(X)\n",
        "\n",
        "    return X"
      ],
      "execution_count": 6,
      "outputs": []
    },
    {
      "cell_type": "markdown",
      "metadata": {
        "id": "TXzaP_DUr_jN"
      },
      "source": [
        "<h4><b>Convolutional Block</b></h4>"
      ]
    },
    {
      "cell_type": "code",
      "metadata": {
        "id": "BY1RYdMz7lJ5"
      },
      "source": [
        "def convolutional_block(X, f, filters, stage, block, s = 2):\n",
        "    # defining name basis\n",
        "    conv_name_base = 'res' + str(stage) + block + '_branch'\n",
        "    bn_name_base = 'bn' + str(stage) + block + '_branch'\n",
        "    \n",
        "    # Retrieve Filters\n",
        "    F1, F2= filters\n",
        "    \n",
        "    # Save the input value\n",
        "    X_shortcut = X\n",
        "\n",
        "\n",
        "    ##### MAIN PATH #####\n",
        "    # First component of main path \n",
        "    X = Conv2D(F1, (1, 1), strides = (s,s), name = conv_name_base + '2a',padding=\"same\")(X)\n",
        "    # X = BatchNormalization(axis = 3, name = bn_name_base + '2a')(X)\n",
        "    X = Activation('elu')(X)\n",
        "\n",
        "    # Second component of main path\n",
        "    X = Conv2D(filters=F2, kernel_size=(f, f), strides=(1, 1), padding='same', name=conv_name_base + '2b')(X)\n",
        "    # X = BatchNormalization(axis=3, name=bn_name_base + '2b')(X)\n",
        "    X = Activation('elu')(X)\n",
        "\n",
        "    \n",
        "    ##### SHORTCUT PATH ####\n",
        "    X_shortcut = Conv2D(F2, (1, 1), strides = (s,s), name = conv_name_base + '1',padding = 'same')(X_shortcut)\n",
        "    # X_shortcut = BatchNormalization(axis = 3, name = bn_name_base + '1')(X_shortcut)\n",
        "\n",
        "    # Final step: Add shortcut value to main path, and pass it through a ELU activation\n",
        "    X = Add()([X, X_shortcut])\n",
        "    X = Activation('elu')(X)\n",
        "    \n",
        "    return X"
      ],
      "execution_count": 7,
      "outputs": []
    },
    {
      "cell_type": "markdown",
      "metadata": {
        "id": "-f7v9hH0sHNh"
      },
      "source": [
        "<h4><b>Resnet Block</b></h4>"
      ]
    },
    {
      "cell_type": "code",
      "metadata": {
        "id": "1YcF0hx6-1WO"
      },
      "source": [
        "def ResNet18(input_shape = (32, 32, 3), classes = 100):   \n",
        "    # Define the input as a tensor with shape input_shape\n",
        "    X_input = Input(input_shape)\n",
        "\n",
        "    # Zero-Padding\n",
        "    X = ZeroPadding2D((3, 3))(X_input)\n",
        "    \n",
        "    # Stage 1\n",
        "    X = Conv2D(64, (7, 7),padding = \"same\" ,strides = (2, 2), name = 'conv1')(X)\n",
        "    # X = BatchNormalization(axis = 3, name = 'bn_conv1')(X)\n",
        "    X = Activation('elu')(X)\n",
        "    X = MaxPooling2D((3, 3), strides=(2, 2))(X)\n",
        "\n",
        "    # Stage 2\n",
        "    X = convolutional_block(X, f = 3, filters = [64, 64], stage = 2, block='a', s = 1)\n",
        "    X = identity_block(X, 3, [64, 64], stage=2, block='b')\n",
        "\n",
        "    # Stage 3\n",
        "    X = convolutional_block(X, f = 3, filters = [128, 128], stage = 3, block='a', s = 2)\n",
        "    X = identity_block(X, 3, [128, 128], stage=3, block='b')\n",
        "   \n",
        "    # Stage 4\n",
        "    X = convolutional_block(X, f = 3, filters = [256, 256], stage = 4, block='a', s = 2)\n",
        "    X = identity_block(X, 3, [256, 256], stage=4, block='b')\n",
        "  \n",
        "    # Stage 5\n",
        "    X = convolutional_block(X, f = 3, filters = [512, 512], stage = 5, block='a', s = 2)\n",
        "    X = identity_block(X, 3, [512, 512], stage=5, block='b')\n",
        "\n",
        "    # AVGPOOL.\n",
        "    X = AveragePooling2D((2, 2), name='avg_pool')(X)\n",
        "\n",
        "    # output layer\n",
        "    X = Flatten()(X)\n",
        "    X = Dense(classes, activation='softmax', name='fc' + str(classes))(X)\n",
        "    \n",
        "    # Create model\n",
        "    model = Model(inputs = X_input, outputs = X, name='ResNet50')\n",
        "\n",
        "    return model"
      ],
      "execution_count": 8,
      "outputs": []
    },
    {
      "cell_type": "markdown",
      "metadata": {
        "id": "On9gMROMsWcq"
      },
      "source": [
        "<h4><b>Compile the Model</b></h3>"
      ]
    },
    {
      "cell_type": "code",
      "metadata": {
        "id": "D_9wK8Dk-9y9"
      },
      "source": [
        "model = ResNet18(input_shape = (32, 32, 3), classes = CLASSES)"
      ],
      "execution_count": 9,
      "outputs": []
    },
    {
      "cell_type": "code",
      "metadata": {
        "id": "SDGBDWUO_Crk"
      },
      "source": [
        "learning_rate = 0.001\n",
        "batch_size = 128\n",
        "lr_decay = 1e-6\n",
        "#optimization details\n",
        "sgd = optimizers.SGD(lr=learning_rate, decay=lr_decay, momentum=0.9, nesterov=True)\n",
        "model.compile(loss='categorical_crossentropy', optimizer=sgd,metrics=['accuracy'])"
      ],
      "execution_count": 10,
      "outputs": []
    },
    {
      "cell_type": "markdown",
      "metadata": {
        "id": "6JO7vIbBumOv"
      },
      "source": [
        "<h3><b>Model Checkpoint and Early Stopping</b></h3>"
      ]
    },
    {
      "cell_type": "code",
      "metadata": {
        "id": "tgkRQWheuc5v",
        "outputId": "925efaf6-100e-444e-b414-78d85402f8f8",
        "colab": {
          "base_uri": "https://localhost:8080/",
          "height": 54
        }
      },
      "source": [
        "# Create Checkpoint and Early Stopping\n",
        "from keras.callbacks import ModelCheckpoint, EarlyStopping\n",
        "checkpoint = ModelCheckpoint(\"Resnet18_SGD_NoRegularization.h5\", monitor='val_loss', verbose=1, save_best_only=True, save_weights_only=True, mode='auto', period=1)\n",
        "early = EarlyStopping(monitor='val_loss', min_delta=0, patience=5, verbose=1, mode='auto')"
      ],
      "execution_count": 11,
      "outputs": [
        {
          "output_type": "stream",
          "text": [
            "WARNING:tensorflow:`period` argument is deprecated. Please use `save_freq` to specify the frequency in number of batches seen.\n"
          ],
          "name": "stdout"
        }
      ]
    },
    {
      "cell_type": "markdown",
      "metadata": {
        "id": "jz3DnuLesh8y"
      },
      "source": [
        "<h3><b> Train the Model </b></h3>"
      ]
    },
    {
      "cell_type": "code",
      "metadata": {
        "id": "NthfpJ2Kx2Y_",
        "outputId": "ebf20039-84e0-4f71-d7e9-19a00b43a726",
        "colab": {
          "base_uri": "https://localhost:8080/",
          "height": 1000
        }
      },
      "source": [
        "batch_size = 128\n",
        "history = model.fit(X_train, y_train ,validation_data=(X_test, y_test), epochs=100,callbacks=[checkpoint,early])"
      ],
      "execution_count": 12,
      "outputs": [
        {
          "output_type": "stream",
          "text": [
            "Epoch 1/100\n",
            "1563/1563 [==============================] - ETA: 0s - loss: 3.9977 - accuracy: 0.0932\n",
            "Epoch 00001: val_loss improved from inf to 3.52905, saving model to Resnet18_SGD_NoRegularization.h5\n",
            "1563/1563 [==============================] - 23s 15ms/step - loss: 3.9977 - accuracy: 0.0932 - val_loss: 3.5291 - val_accuracy: 0.1611\n",
            "Epoch 2/100\n",
            "1561/1563 [============================>.] - ETA: 0s - loss: 3.2979 - accuracy: 0.2068\n",
            "Epoch 00002: val_loss improved from 3.52905 to 3.15190, saving model to Resnet18_SGD_NoRegularization.h5\n",
            "1563/1563 [==============================] - 23s 14ms/step - loss: 3.2979 - accuracy: 0.2068 - val_loss: 3.1519 - val_accuracy: 0.2384\n",
            "Epoch 3/100\n",
            "1561/1563 [============================>.] - ETA: 0s - loss: 2.9707 - accuracy: 0.2676\n",
            "Epoch 00003: val_loss improved from 3.15190 to 2.88179, saving model to Resnet18_SGD_NoRegularization.h5\n",
            "1563/1563 [==============================] - 23s 15ms/step - loss: 2.9707 - accuracy: 0.2677 - val_loss: 2.8818 - val_accuracy: 0.2898\n",
            "Epoch 4/100\n",
            "1561/1563 [============================>.] - ETA: 0s - loss: 2.7156 - accuracy: 0.3176\n",
            "Epoch 00004: val_loss improved from 2.88179 to 2.74777, saving model to Resnet18_SGD_NoRegularization.h5\n",
            "1563/1563 [==============================] - 23s 15ms/step - loss: 2.7157 - accuracy: 0.3176 - val_loss: 2.7478 - val_accuracy: 0.3132\n",
            "Epoch 5/100\n",
            "1561/1563 [============================>.] - ETA: 0s - loss: 2.5071 - accuracy: 0.3606\n",
            "Epoch 00005: val_loss improved from 2.74777 to 2.58502, saving model to Resnet18_SGD_NoRegularization.h5\n",
            "1563/1563 [==============================] - 23s 15ms/step - loss: 2.5074 - accuracy: 0.3606 - val_loss: 2.5850 - val_accuracy: 0.3489\n",
            "Epoch 6/100\n",
            "1561/1563 [============================>.] - ETA: 0s - loss: 2.3129 - accuracy: 0.3999\n",
            "Epoch 00006: val_loss improved from 2.58502 to 2.47831, saving model to Resnet18_SGD_NoRegularization.h5\n",
            "1563/1563 [==============================] - 23s 15ms/step - loss: 2.3127 - accuracy: 0.3999 - val_loss: 2.4783 - val_accuracy: 0.3701\n",
            "Epoch 7/100\n",
            "1561/1563 [============================>.] - ETA: 0s - loss: 2.1260 - accuracy: 0.4428\n",
            "Epoch 00007: val_loss improved from 2.47831 to 2.47144, saving model to Resnet18_SGD_NoRegularization.h5\n",
            "1563/1563 [==============================] - 23s 15ms/step - loss: 2.1259 - accuracy: 0.4429 - val_loss: 2.4714 - val_accuracy: 0.3806\n",
            "Epoch 8/100\n",
            "1561/1563 [============================>.] - ETA: 0s - loss: 1.9406 - accuracy: 0.4810\n",
            "Epoch 00008: val_loss improved from 2.47144 to 2.38556, saving model to Resnet18_SGD_NoRegularization.h5\n",
            "1563/1563 [==============================] - 23s 15ms/step - loss: 1.9406 - accuracy: 0.4811 - val_loss: 2.3856 - val_accuracy: 0.3992\n",
            "Epoch 9/100\n",
            "1561/1563 [============================>.] - ETA: 0s - loss: 1.7555 - accuracy: 0.5263\n",
            "Epoch 00009: val_loss did not improve from 2.38556\n",
            "1563/1563 [==============================] - 23s 15ms/step - loss: 1.7553 - accuracy: 0.5265 - val_loss: 2.3865 - val_accuracy: 0.4017\n",
            "Epoch 10/100\n",
            "1561/1563 [============================>.] - ETA: 0s - loss: 1.5607 - accuracy: 0.5711\n",
            "Epoch 00010: val_loss improved from 2.38556 to 2.35979, saving model to Resnet18_SGD_NoRegularization.h5\n",
            "1563/1563 [==============================] - 23s 15ms/step - loss: 1.5608 - accuracy: 0.5711 - val_loss: 2.3598 - val_accuracy: 0.4148\n",
            "Epoch 11/100\n",
            "1561/1563 [============================>.] - ETA: 0s - loss: 1.3466 - accuracy: 0.6230\n",
            "Epoch 00011: val_loss did not improve from 2.35979\n",
            "1563/1563 [==============================] - 23s 15ms/step - loss: 1.3464 - accuracy: 0.6230 - val_loss: 2.4532 - val_accuracy: 0.4115\n",
            "Epoch 12/100\n",
            "1561/1563 [============================>.] - ETA: 0s - loss: 1.1277 - accuracy: 0.6782\n",
            "Epoch 00012: val_loss did not improve from 2.35979\n",
            "1563/1563 [==============================] - 23s 15ms/step - loss: 1.1280 - accuracy: 0.6781 - val_loss: 2.5250 - val_accuracy: 0.4101\n",
            "Epoch 13/100\n",
            "1560/1563 [============================>.] - ETA: 0s - loss: 0.9007 - accuracy: 0.7402\n",
            "Epoch 00013: val_loss did not improve from 2.35979\n",
            "1563/1563 [==============================] - 23s 15ms/step - loss: 0.9007 - accuracy: 0.7402 - val_loss: 2.6414 - val_accuracy: 0.4123\n",
            "Epoch 14/100\n",
            "1561/1563 [============================>.] - ETA: 0s - loss: 0.6721 - accuracy: 0.8015\n",
            "Epoch 00014: val_loss did not improve from 2.35979\n",
            "1563/1563 [==============================] - 23s 15ms/step - loss: 0.6721 - accuracy: 0.8015 - val_loss: 2.8839 - val_accuracy: 0.4137\n",
            "Epoch 15/100\n",
            "1561/1563 [============================>.] - ETA: 0s - loss: 0.4767 - accuracy: 0.8570\n",
            "Epoch 00015: val_loss did not improve from 2.35979\n",
            "1563/1563 [==============================] - 23s 15ms/step - loss: 0.4769 - accuracy: 0.8569 - val_loss: 3.1002 - val_accuracy: 0.4073\n",
            "Epoch 00015: early stopping\n"
          ],
          "name": "stdout"
        }
      ]
    },
    {
      "cell_type": "code",
      "metadata": {
        "id": "ZFZtx_GhVydd",
        "outputId": "f379e36a-0d50-417b-942b-4a73f586f9c9",
        "colab": {
          "base_uri": "https://localhost:8080/",
          "height": 1000
        }
      },
      "source": [
        "model.summary()"
      ],
      "execution_count": 13,
      "outputs": [
        {
          "output_type": "stream",
          "text": [
            "Model: \"ResNet50\"\n",
            "__________________________________________________________________________________________________\n",
            "Layer (type)                    Output Shape         Param #     Connected to                     \n",
            "==================================================================================================\n",
            "input_1 (InputLayer)            [(None, 32, 32, 3)]  0                                            \n",
            "__________________________________________________________________________________________________\n",
            "zero_padding2d (ZeroPadding2D)  (None, 38, 38, 3)    0           input_1[0][0]                    \n",
            "__________________________________________________________________________________________________\n",
            "conv1 (Conv2D)                  (None, 19, 19, 64)   9472        zero_padding2d[0][0]             \n",
            "__________________________________________________________________________________________________\n",
            "activation (Activation)         (None, 19, 19, 64)   0           conv1[0][0]                      \n",
            "__________________________________________________________________________________________________\n",
            "max_pooling2d (MaxPooling2D)    (None, 9, 9, 64)     0           activation[0][0]                 \n",
            "__________________________________________________________________________________________________\n",
            "res2a_branch2a (Conv2D)         (None, 9, 9, 64)     4160        max_pooling2d[0][0]              \n",
            "__________________________________________________________________________________________________\n",
            "activation_1 (Activation)       (None, 9, 9, 64)     0           res2a_branch2a[0][0]             \n",
            "__________________________________________________________________________________________________\n",
            "res2a_branch2b (Conv2D)         (None, 9, 9, 64)     36928       activation_1[0][0]               \n",
            "__________________________________________________________________________________________________\n",
            "activation_2 (Activation)       (None, 9, 9, 64)     0           res2a_branch2b[0][0]             \n",
            "__________________________________________________________________________________________________\n",
            "res2a_branch1 (Conv2D)          (None, 9, 9, 64)     4160        max_pooling2d[0][0]              \n",
            "__________________________________________________________________________________________________\n",
            "add (Add)                       (None, 9, 9, 64)     0           activation_2[0][0]               \n",
            "                                                                 res2a_branch1[0][0]              \n",
            "__________________________________________________________________________________________________\n",
            "activation_3 (Activation)       (None, 9, 9, 64)     0           add[0][0]                        \n",
            "__________________________________________________________________________________________________\n",
            "res2b_branch2a (Conv2D)         (None, 9, 9, 64)     4160        activation_3[0][0]               \n",
            "__________________________________________________________________________________________________\n",
            "activation_4 (Activation)       (None, 9, 9, 64)     0           res2b_branch2a[0][0]             \n",
            "__________________________________________________________________________________________________\n",
            "res2b_branch2b (Conv2D)         (None, 9, 9, 64)     36928       activation_4[0][0]               \n",
            "__________________________________________________________________________________________________\n",
            "activation_5 (Activation)       (None, 9, 9, 64)     0           res2b_branch2b[0][0]             \n",
            "__________________________________________________________________________________________________\n",
            "add_1 (Add)                     (None, 9, 9, 64)     0           activation_5[0][0]               \n",
            "                                                                 activation_3[0][0]               \n",
            "__________________________________________________________________________________________________\n",
            "activation_6 (Activation)       (None, 9, 9, 64)     0           add_1[0][0]                      \n",
            "__________________________________________________________________________________________________\n",
            "res3a_branch2a (Conv2D)         (None, 5, 5, 128)    8320        activation_6[0][0]               \n",
            "__________________________________________________________________________________________________\n",
            "activation_7 (Activation)       (None, 5, 5, 128)    0           res3a_branch2a[0][0]             \n",
            "__________________________________________________________________________________________________\n",
            "res3a_branch2b (Conv2D)         (None, 5, 5, 128)    147584      activation_7[0][0]               \n",
            "__________________________________________________________________________________________________\n",
            "activation_8 (Activation)       (None, 5, 5, 128)    0           res3a_branch2b[0][0]             \n",
            "__________________________________________________________________________________________________\n",
            "res3a_branch1 (Conv2D)          (None, 5, 5, 128)    8320        activation_6[0][0]               \n",
            "__________________________________________________________________________________________________\n",
            "add_2 (Add)                     (None, 5, 5, 128)    0           activation_8[0][0]               \n",
            "                                                                 res3a_branch1[0][0]              \n",
            "__________________________________________________________________________________________________\n",
            "activation_9 (Activation)       (None, 5, 5, 128)    0           add_2[0][0]                      \n",
            "__________________________________________________________________________________________________\n",
            "res3b_branch2a (Conv2D)         (None, 5, 5, 128)    16512       activation_9[0][0]               \n",
            "__________________________________________________________________________________________________\n",
            "activation_10 (Activation)      (None, 5, 5, 128)    0           res3b_branch2a[0][0]             \n",
            "__________________________________________________________________________________________________\n",
            "res3b_branch2b (Conv2D)         (None, 5, 5, 128)    147584      activation_10[0][0]              \n",
            "__________________________________________________________________________________________________\n",
            "activation_11 (Activation)      (None, 5, 5, 128)    0           res3b_branch2b[0][0]             \n",
            "__________________________________________________________________________________________________\n",
            "add_3 (Add)                     (None, 5, 5, 128)    0           activation_11[0][0]              \n",
            "                                                                 activation_9[0][0]               \n",
            "__________________________________________________________________________________________________\n",
            "activation_12 (Activation)      (None, 5, 5, 128)    0           add_3[0][0]                      \n",
            "__________________________________________________________________________________________________\n",
            "res4a_branch2a (Conv2D)         (None, 3, 3, 256)    33024       activation_12[0][0]              \n",
            "__________________________________________________________________________________________________\n",
            "activation_13 (Activation)      (None, 3, 3, 256)    0           res4a_branch2a[0][0]             \n",
            "__________________________________________________________________________________________________\n",
            "res4a_branch2b (Conv2D)         (None, 3, 3, 256)    590080      activation_13[0][0]              \n",
            "__________________________________________________________________________________________________\n",
            "activation_14 (Activation)      (None, 3, 3, 256)    0           res4a_branch2b[0][0]             \n",
            "__________________________________________________________________________________________________\n",
            "res4a_branch1 (Conv2D)          (None, 3, 3, 256)    33024       activation_12[0][0]              \n",
            "__________________________________________________________________________________________________\n",
            "add_4 (Add)                     (None, 3, 3, 256)    0           activation_14[0][0]              \n",
            "                                                                 res4a_branch1[0][0]              \n",
            "__________________________________________________________________________________________________\n",
            "activation_15 (Activation)      (None, 3, 3, 256)    0           add_4[0][0]                      \n",
            "__________________________________________________________________________________________________\n",
            "res4b_branch2a (Conv2D)         (None, 3, 3, 256)    65792       activation_15[0][0]              \n",
            "__________________________________________________________________________________________________\n",
            "activation_16 (Activation)      (None, 3, 3, 256)    0           res4b_branch2a[0][0]             \n",
            "__________________________________________________________________________________________________\n",
            "res4b_branch2b (Conv2D)         (None, 3, 3, 256)    590080      activation_16[0][0]              \n",
            "__________________________________________________________________________________________________\n",
            "activation_17 (Activation)      (None, 3, 3, 256)    0           res4b_branch2b[0][0]             \n",
            "__________________________________________________________________________________________________\n",
            "add_5 (Add)                     (None, 3, 3, 256)    0           activation_17[0][0]              \n",
            "                                                                 activation_15[0][0]              \n",
            "__________________________________________________________________________________________________\n",
            "activation_18 (Activation)      (None, 3, 3, 256)    0           add_5[0][0]                      \n",
            "__________________________________________________________________________________________________\n",
            "res5a_branch2a (Conv2D)         (None, 2, 2, 512)    131584      activation_18[0][0]              \n",
            "__________________________________________________________________________________________________\n",
            "activation_19 (Activation)      (None, 2, 2, 512)    0           res5a_branch2a[0][0]             \n",
            "__________________________________________________________________________________________________\n",
            "res5a_branch2b (Conv2D)         (None, 2, 2, 512)    2359808     activation_19[0][0]              \n",
            "__________________________________________________________________________________________________\n",
            "activation_20 (Activation)      (None, 2, 2, 512)    0           res5a_branch2b[0][0]             \n",
            "__________________________________________________________________________________________________\n",
            "res5a_branch1 (Conv2D)          (None, 2, 2, 512)    131584      activation_18[0][0]              \n",
            "__________________________________________________________________________________________________\n",
            "add_6 (Add)                     (None, 2, 2, 512)    0           activation_20[0][0]              \n",
            "                                                                 res5a_branch1[0][0]              \n",
            "__________________________________________________________________________________________________\n",
            "activation_21 (Activation)      (None, 2, 2, 512)    0           add_6[0][0]                      \n",
            "__________________________________________________________________________________________________\n",
            "res5b_branch2a (Conv2D)         (None, 2, 2, 512)    262656      activation_21[0][0]              \n",
            "__________________________________________________________________________________________________\n",
            "activation_22 (Activation)      (None, 2, 2, 512)    0           res5b_branch2a[0][0]             \n",
            "__________________________________________________________________________________________________\n",
            "res5b_branch2b (Conv2D)         (None, 2, 2, 512)    2359808     activation_22[0][0]              \n",
            "__________________________________________________________________________________________________\n",
            "activation_23 (Activation)      (None, 2, 2, 512)    0           res5b_branch2b[0][0]             \n",
            "__________________________________________________________________________________________________\n",
            "add_7 (Add)                     (None, 2, 2, 512)    0           activation_23[0][0]              \n",
            "                                                                 activation_21[0][0]              \n",
            "__________________________________________________________________________________________________\n",
            "activation_24 (Activation)      (None, 2, 2, 512)    0           add_7[0][0]                      \n",
            "__________________________________________________________________________________________________\n",
            "avg_pool (AveragePooling2D)     (None, 1, 1, 512)    0           activation_24[0][0]              \n",
            "__________________________________________________________________________________________________\n",
            "flatten (Flatten)               (None, 512)          0           avg_pool[0][0]                   \n",
            "__________________________________________________________________________________________________\n",
            "fc100 (Dense)                   (None, 100)          51300       flatten[0][0]                    \n",
            "==================================================================================================\n",
            "Total params: 7,032,868\n",
            "Trainable params: 7,032,868\n",
            "Non-trainable params: 0\n",
            "__________________________________________________________________________________________________\n"
          ],
          "name": "stdout"
        }
      ]
    },
    {
      "cell_type": "markdown",
      "metadata": {
        "id": "lvZzqLUEs4b7"
      },
      "source": [
        "<h3><b>Graph</b><h3>"
      ]
    },
    {
      "cell_type": "code",
      "metadata": {
        "id": "EaBppoiStVCI",
        "outputId": "638ce434-b106-41c5-b638-615be4bf6e45",
        "colab": {
          "base_uri": "https://localhost:8080/",
          "height": 312
        }
      },
      "source": [
        "import matplotlib.pyplot as plt\n",
        "\n",
        "history_dict = history.history\n",
        "print(history_dict.keys())\n",
        "accuracy_values = history_dict['accuracy']\n",
        "val_accuracy_values = history_dict['val_accuracy']\n",
        "\n",
        "epochs = range(1, len(history_dict['accuracy']) + 1)\n",
        "\n",
        "plt.plot(epochs, accuracy_values, 'bo', label='Training Accuracy')\n",
        "plt.plot(epochs, val_accuracy_values, 'b', label='Validation loss')\n",
        "plt.title('Training and validation Accuracy')\n",
        "plt.xlabel('Epochs')\n",
        "plt.ylabel('Accuracy')\n",
        "plt.legend()\n",
        "\n",
        "plt.show()\n"
      ],
      "execution_count": 14,
      "outputs": [
        {
          "output_type": "stream",
          "text": [
            "dict_keys(['loss', 'accuracy', 'val_loss', 'val_accuracy'])\n"
          ],
          "name": "stdout"
        },
        {
          "output_type": "display_data",
          "data": {
            "image/png": "[encoded data removed]",
            "text/plain": [
              "<Figure size 432x288 with 1 Axes>"
            ]
          },
          "metadata": {
            "tags": [],
            "needs_background": "light"
          }
        }
      ]
    },
    {
      "cell_type": "code",
      "metadata": {
        "id": "0-ZiF5OCtVOp",
        "outputId": "12e44f9e-f322-4051-e7af-aaf39f9b89f0",
        "colab": {
          "base_uri": "https://localhost:8080/",
          "height": 312
        }
      },
      "source": [
        "import matplotlib.pyplot as plt\n",
        "\n",
        "history_dict = history.history\n",
        "print(history_dict.keys())\n",
        "loss_values = history_dict['loss']\n",
        "val_loss_values = history_dict['val_loss']\n",
        "\n",
        "epochs = range(1, len(history_dict['accuracy']) + 1)\n",
        "\n",
        "plt.plot(epochs, loss_values, 'bo', label='Training loss')\n",
        "plt.plot(epochs, val_loss_values, 'b', label='Validation loss')\n",
        "plt.title('Training and validation loss')\n",
        "plt.xlabel('Epochs')\n",
        "plt.ylabel('Loss')\n",
        "plt.legend()\n",
        "\n",
        "plt.show()\n"
      ],
      "execution_count": 15,
      "outputs": [
        {
          "output_type": "stream",
          "text": [
            "dict_keys(['loss', 'accuracy', 'val_loss', 'val_accuracy'])\n"
          ],
          "name": "stdout"
        },
        {
          "output_type": "display_data",
          "data": {
            "image/png": "[encoded data removed]",
            "text/plain": [
              "<Figure size 432x288 with 1 Axes>"
            ]
          },
          "metadata": {
            "tags": [],
            "needs_background": "light"
          }
        }
      ]
    },
    {
      "cell_type": "markdown",
      "metadata": {
        "id": "3_N6-KDftOOs"
      },
      "source": [
        "<h3><b> Model save Metric Calculation</b></h3>"
      ]
    },
    {
      "cell_type": "code",
      "metadata": {
        "id": "mT7tvDo1tVKm",
        "outputId": "55cb487a-8e0a-476c-c4ac-e016317f0de4",
        "colab": {
          "base_uri": "https://localhost:8080/",
          "height": 68
        }
      },
      "source": [
        "model1 = ResNet18(input_shape = (32,32,3), classes = CLASSES)\n",
        "model1.load_weights(\"./Resnet18_SGD_NoRegularization.h5\")\n",
        "\n",
        "\n",
        "#optimization details\n",
        "learning_rate = 0.001\n",
        "batch_size = 128\n",
        "lr_decay = 1e-6\n",
        "#optimization details\n",
        "sgd = optimizers.SGD(lr=learning_rate, decay=lr_decay, momentum=0.9, nesterov=True)\n",
        "model.compile(loss='categorical_crossentropy', optimizer=sgd,metrics=['accuracy'])\n",
        "\n",
        "\n",
        "# Test the model\n",
        "model.predict(X_test).argmax(-1)\n",
        "\n",
        "y_true = y_test.argmax(-1)\n",
        "y_pred = model.predict(X_test).argmax(-1)\n",
        "# generate confusion matrix\n",
        "from sklearn.metrics import confusion_matrix, precision_score, recall_score, accuracy_score\n",
        "confusion_matrix(y_true, y_pred)\n",
        "# calculate prec, recall, accuracy\n",
        "print(\"Prec: \"+ str(precision_score(y_true, y_pred, average='weighted')))\n",
        "print(\"Recall: \"+ str(recall_score(y_true, y_pred, average='weighted')))\n",
        "print(\"Accuracy: \" + str(accuracy_score(y_true, y_pred)))"
      ],
      "execution_count": 16,
      "outputs": [
        {
          "output_type": "stream",
          "text": [
            "Prec: 0.4384992222193\n",
            "Recall: 0.4073\n",
            "Accuracy: 0.4073\n"
          ],
          "name": "stdout"
        }
      ]
    },
    {
      "cell_type": "markdown",
      "metadata": {
        "id": "eDVQnKBBtgrU"
      },
      "source": [
        "<h3><b>References</b></h3>"
      ]
    },
    {
      "cell_type": "code",
      "metadata": {
        "id": "lzZ3-a3jtl9y"
      },
      "source": [
        "#https://github.com/priya-dwivedi/Deep-Learning/blob/master/resnet_keras/Residual_Networks_yourself.ipynb\n",
        "#https://github.com/keras-team/keras-contrib/blob/master/keras_contrib/applications/resnet.py\n",
        "#https://github.com/deep-diver/DeepModels\n"
      ],
      "execution_count": 17,
      "outputs": []
    }
  ]
}
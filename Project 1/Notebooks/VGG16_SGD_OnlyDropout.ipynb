{
  "nbformat": 4,
  "nbformat_minor": 0,
  "metadata": {
    "accelerator": "GPU",
    "colab": {
      "name": "VGG16_SGD_OnlyDropoutSend.ipynb",
      "provenance": [],
      "collapsed_sections": []
    },
    "kernelspec": {
      "display_name": "Python 3",
      "name": "python3"
    }
  },
  "cells": [
    {
      "cell_type": "markdown",
      "metadata": {
        "id": "nu46PS8i0yxi"
      },
      "source": [
        "<h3><b>Importing Libraries</b></h3>"
      ]
    },
    {
      "cell_type": "code",
      "metadata": {
        "id": "PKbDmW5_lhPO"
      },
      "source": [
        "# Importing Libraries\n",
        "from __future__ import print_function\n",
        "import os\n",
        "import tensorflow as tf\n",
        "import keras\n",
        "from keras import backend as K\n",
        "import numpy as np\n",
        "from keras.datasets import cifar100\n",
        "from keras.preprocessing.image import ImageDataGenerator\n",
        "from keras.models import Sequential\n",
        "from keras.layers import Dense, Dropout, Activation, Flatten\n",
        "from keras.layers import Conv2D, MaxPooling2D, BatchNormalization\n",
        "from keras import optimizers\n",
        "from keras import regularizers\n",
        "from matplotlib import pyplot\n",
        "from keras.utils import to_categorical\n",
        "from keras.callbacks import ModelCheckpoint, EarlyStopping\n",
        "from sklearn import metrics\n",
        "from sklearn.metrics import confusion_matrix\n",
        "from sklearn.metrics import accuracy_score\n",
        "from sklearn.metrics import accuracy_score, f1_score, precision_score, recall_score, classification_report, confusion_matrix\n"
      ],
      "execution_count": 1,
      "outputs": []
    },
    {
      "cell_type": "markdown",
      "metadata": {
        "id": "URVrV68X1I88"
      },
      "source": [
        "<h3><b>Importing Dataset<b></h3>"
      ]
    },
    {
      "cell_type": "code",
      "metadata": {
        "id": "1wPJj5pc6wzh",
        "outputId": "ea2f34b5-2dc1-4c16-dd34-26a3b8be6b60",
        "colab": {
          "base_uri": "https://localhost:8080/",
          "height": 119
        }
      },
      "source": [
        "# Load dataset\n",
        "(X_train, y_train), (X_test, y_test) = cifar100.load_data()\n",
        "print(X_train.shape)\n",
        "print(y_train.shape)\n",
        "print(X_test.shape)\n",
        "print(y_test.shape)"
      ],
      "execution_count": 2,
      "outputs": [
        {
          "output_type": "stream",
          "text": [
            "Downloading data from https://www.cs.toronto.edu/~kriz/cifar-100-python.tar.gz\n",
            "169009152/169001437 [==============================] - 4s 0us/step\n",
            "(50000, 32, 32, 3)\n",
            "(50000, 1)\n",
            "(10000, 32, 32, 3)\n",
            "(10000, 1)\n"
          ],
          "name": "stdout"
        }
      ]
    },
    {
      "cell_type": "markdown",
      "metadata": {
        "id": "3LS0RJlr2DKV"
      },
      "source": [
        "<h3><b>Preprocessing of the dataset</b></h3>"
      ]
    },
    {
      "cell_type": "code",
      "metadata": {
        "id": "2vFh_j5y1qoU"
      },
      "source": [
        "# Normalize the dataset\n",
        "X_train = X_train/255\n",
        "X_test = X_test/255"
      ],
      "execution_count": 3,
      "outputs": []
    },
    {
      "cell_type": "code",
      "metadata": {
        "id": "Z_oj_DSa7xxB"
      },
      "source": [
        "#Converting the testing and training dataset into float\n",
        "X_train = X_train.astype('float32')\n",
        "X_test = X_test.astype('float32')"
      ],
      "execution_count": 4,
      "outputs": []
    },
    {
      "cell_type": "code",
      "metadata": {
        "id": "sZ7LTRKGly_z",
        "outputId": "ade59c46-172b-49e6-a789-ffc04969bd64",
        "colab": {
          "base_uri": "https://localhost:8080/",
          "height": 51
        }
      },
      "source": [
        "# Convert training and test labels to one hot matrices\n",
        "print(y_train.shape)\n",
        "y_train = keras.utils.to_categorical(y_train, 100)\n",
        "y_test = keras.utils.to_categorical(y_test, 100)\n",
        "print(y_train.shape)"
      ],
      "execution_count": 5,
      "outputs": [
        {
          "output_type": "stream",
          "text": [
            "(50000, 1)\n",
            "(50000, 100)\n"
          ],
          "name": "stdout"
        }
      ]
    },
    {
      "cell_type": "markdown",
      "metadata": {
        "id": "moYrJA6qJ0pT"
      },
      "source": [
        "<h3><b> Data Augmentation </b></h3>"
      ]
    },
    {
      "cell_type": "code",
      "metadata": {
        "id": "hH5ibTPcly3l",
        "outputId": "3e1bf2df-3317-4346-a0cf-3807e57bd449",
        "colab": {
          "base_uri": "https://localhost:8080/",
          "height": 34
        }
      },
      "source": [
        "#data augmentation\n",
        "datagen = ImageDataGenerator(\n",
        "    featurewise_center=False,  # set input mean to 0 over the dataset\n",
        "    samplewise_center=False,  # set each sample mean to 0\n",
        "    featurewise_std_normalization=False,  # divide inputs by std of the dataset\n",
        "    samplewise_std_normalization=False,  # divide each input by its std\n",
        "    zca_whitening=False,  # apply ZCA whitening\n",
        "    rotation_range=15,  # randomly rotate images in the range (degrees, 0 to 180)\n",
        "    width_shift_range=0.1,  # randomly shift images horizontally (fraction of total width)\n",
        "    height_shift_range=0.1,  # randomly shift images vertically (fraction of total height)\n",
        "    horizontal_flip=True,  # randomly flip images\n",
        "    vertical_flip=False)  # randomly flip images\n",
        "datagen.fit(X_train)\n",
        "\n",
        "print(y_train.shape)"
      ],
      "execution_count": 6,
      "outputs": [
        {
          "output_type": "stream",
          "text": [
            "(50000, 100)\n"
          ],
          "name": "stdout"
        }
      ]
    },
    {
      "cell_type": "markdown",
      "metadata": {
        "id": "UeYnQfHWHwnh"
      },
      "source": [
        "<h3><b> Model Architecture </b></h3>\n",
        "\n",
        "\n"
      ]
    },
    {
      "cell_type": "code",
      "metadata": {
        "id": "352YirW8lyBT"
      },
      "source": [
        "def Model():\n",
        "        x_shape = [32,32,3]\n",
        "        weight_decay = 0.0001\n",
        "        num_classes = 100\n",
        "        model = Sequential()\n",
        "        model.add(Conv2D(64, (3, 3), padding='same', input_shape= x_shape,kernel_regularizer=regularizers.l2(weight_decay)))\n",
        "        model.add(Activation('relu'))\n",
        "        # model.add(BatchNormalization())\n",
        "\n",
        "        model.add(Conv2D(64, (3, 3), padding='same',kernel_regularizer=regularizers.l2(weight_decay)))\n",
        "        model.add(Activation('relu'))\n",
        "        # model.add(BatchNormalization())\n",
        "\n",
        "        model.add(MaxPooling2D(pool_size=(2, 2)))\n",
        "\n",
        "        model.add(Conv2D(128, (3, 3), padding='same',kernel_regularizer=regularizers.l2(weight_decay)))\n",
        "        model.add(Activation('relu'))\n",
        "        # model.add(BatchNormalization())\n",
        "\n",
        "        model.add(Conv2D(128, (3, 3), padding='same',kernel_regularizer=regularizers.l2(weight_decay)))\n",
        "        model.add(Activation('relu'))\n",
        "        # model.add(BatchNormalization())\n",
        "\n",
        "        model.add(MaxPooling2D(pool_size=(2, 2)))\n",
        "\n",
        "        model.add(Conv2D(256, (3, 3), padding='same',kernel_regularizer=regularizers.l2(weight_decay)))\n",
        "        model.add(Activation('relu'))\n",
        "        # model.add(BatchNormalization())\n",
        "\n",
        "        model.add(Conv2D(256, (3, 3), padding='same',kernel_regularizer=regularizers.l2(weight_decay)))\n",
        "        model.add(Activation('relu'))\n",
        "        # model.add(BatchNormalization())\n",
        "\n",
        "        model.add(Conv2D(256, (3, 3), padding='same',kernel_regularizer=regularizers.l2(weight_decay)))\n",
        "        model.add(Activation('relu'))\n",
        "        # model.add(BatchNormalization())\n",
        "\n",
        "        model.add(MaxPooling2D(pool_size=(2, 2)))\n",
        "\n",
        "\n",
        "        model.add(Conv2D(512, (3, 3), padding='same',kernel_regularizer=regularizers.l2(weight_decay)))\n",
        "        model.add(Activation('relu'))\n",
        "        # model.add(BatchNormalization())\n",
        "\n",
        "        model.add(Conv2D(512, (3, 3), padding='same',kernel_regularizer=regularizers.l2(weight_decay)))\n",
        "        model.add(Activation('relu'))\n",
        "        # model.add(BatchNormalization())\n",
        "\n",
        "        model.add(Conv2D(512, (3, 3), padding='same',kernel_regularizer=regularizers.l2(weight_decay)))\n",
        "        model.add(Activation('relu'))\n",
        "        # model.add(BatchNormalization())\n",
        "\n",
        "        model.add(MaxPooling2D(pool_size=(2, 2)))\n",
        "\n",
        "\n",
        "        model.add(Conv2D(512, (3, 3), padding='same',kernel_regularizer=regularizers.l2(weight_decay)))\n",
        "        model.add(Activation('relu'))\n",
        "        # model.add(Dropout(0.4))\n",
        "\n",
        "        model.add(Conv2D(512, (3, 3), padding='same',kernel_regularizer=regularizers.l2(weight_decay)))\n",
        "        model.add(Activation('relu'))\n",
        "        # model.add(BatchNormalization())\n",
        "\n",
        "        model.add(Conv2D(512, (3, 3), padding='same',kernel_regularizer=regularizers.l2(weight_decay)))\n",
        "        model.add(Activation('relu'))\n",
        "        # model.add(BatchNormalization())\n",
        "\n",
        "        model.add(MaxPooling2D(pool_size=(2, 2)))\n",
        "\n",
        "        model.add(Flatten())\n",
        "        model.add(Dense(512,kernel_regularizer=regularizers.l2(weight_decay)))\n",
        "        model.add(Activation('relu'))\n",
        "        # model.add(BatchNormalization())\n",
        "\n",
        "        model.add(Dense(num_classes))\n",
        "        model.add(Dropout(0.5))\n",
        "        model.add(Activation('softmax'))\n",
        "\n",
        "        return model"
      ],
      "execution_count": 7,
      "outputs": []
    },
    {
      "cell_type": "markdown",
      "metadata": {
        "id": "iJc2AzLRQ9oP"
      },
      "source": [
        "<h3><b> Compile the Model </b></h3>"
      ]
    },
    {
      "cell_type": "code",
      "metadata": {
        "id": "Z3t2ztwxKI-S"
      },
      "source": [
        "model = Model()"
      ],
      "execution_count": 8,
      "outputs": []
    },
    {
      "cell_type": "code",
      "metadata": {
        "id": "h2avPzDJk2T9"
      },
      "source": [
        "\n",
        "learning_rate = 0.001\n",
        "batch_size = 128\n",
        "lr_decay = 1e-6\n",
        "\n",
        "#optimization details\n",
        "sgd = optimizers.SGD(lr=learning_rate, decay=lr_decay, momentum=0.9, nesterov=True)\n",
        "model.compile(loss='categorical_crossentropy', optimizer=sgd,metrics=['accuracy'])"
      ],
      "execution_count": 9,
      "outputs": []
    },
    {
      "cell_type": "code",
      "metadata": {
        "id": "vWwqnqq2ryoN",
        "outputId": "50403db7-18b7-4d92-e31f-6ecd48b0835e",
        "colab": {
          "base_uri": "https://localhost:8080/",
          "height": 1000
        }
      },
      "source": [
        "model.summary()"
      ],
      "execution_count": 10,
      "outputs": [
        {
          "output_type": "stream",
          "text": [
            "Model: \"sequential\"\n",
            "_________________________________________________________________\n",
            "Layer (type)                 Output Shape              Param #   \n",
            "=================================================================\n",
            "conv2d (Conv2D)              (None, 32, 32, 64)        1792      \n",
            "_________________________________________________________________\n",
            "activation (Activation)      (None, 32, 32, 64)        0         \n",
            "_________________________________________________________________\n",
            "conv2d_1 (Conv2D)            (None, 32, 32, 64)        36928     \n",
            "_________________________________________________________________\n",
            "activation_1 (Activation)    (None, 32, 32, 64)        0         \n",
            "_________________________________________________________________\n",
            "max_pooling2d (MaxPooling2D) (None, 16, 16, 64)        0         \n",
            "_________________________________________________________________\n",
            "conv2d_2 (Conv2D)            (None, 16, 16, 128)       73856     \n",
            "_________________________________________________________________\n",
            "activation_2 (Activation)    (None, 16, 16, 128)       0         \n",
            "_________________________________________________________________\n",
            "conv2d_3 (Conv2D)            (None, 16, 16, 128)       147584    \n",
            "_________________________________________________________________\n",
            "activation_3 (Activation)    (None, 16, 16, 128)       0         \n",
            "_________________________________________________________________\n",
            "max_pooling2d_1 (MaxPooling2 (None, 8, 8, 128)         0         \n",
            "_________________________________________________________________\n",
            "conv2d_4 (Conv2D)            (None, 8, 8, 256)         295168    \n",
            "_________________________________________________________________\n",
            "activation_4 (Activation)    (None, 8, 8, 256)         0         \n",
            "_________________________________________________________________\n",
            "conv2d_5 (Conv2D)            (None, 8, 8, 256)         590080    \n",
            "_________________________________________________________________\n",
            "activation_5 (Activation)    (None, 8, 8, 256)         0         \n",
            "_________________________________________________________________\n",
            "conv2d_6 (Conv2D)            (None, 8, 8, 256)         590080    \n",
            "_________________________________________________________________\n",
            "activation_6 (Activation)    (None, 8, 8, 256)         0         \n",
            "_________________________________________________________________\n",
            "max_pooling2d_2 (MaxPooling2 (None, 4, 4, 256)         0         \n",
            "_________________________________________________________________\n",
            "conv2d_7 (Conv2D)            (None, 4, 4, 512)         1180160   \n",
            "_________________________________________________________________\n",
            "activation_7 (Activation)    (None, 4, 4, 512)         0         \n",
            "_________________________________________________________________\n",
            "conv2d_8 (Conv2D)            (None, 4, 4, 512)         2359808   \n",
            "_________________________________________________________________\n",
            "activation_8 (Activation)    (None, 4, 4, 512)         0         \n",
            "_________________________________________________________________\n",
            "conv2d_9 (Conv2D)            (None, 4, 4, 512)         2359808   \n",
            "_________________________________________________________________\n",
            "activation_9 (Activation)    (None, 4, 4, 512)         0         \n",
            "_________________________________________________________________\n",
            "max_pooling2d_3 (MaxPooling2 (None, 2, 2, 512)         0         \n",
            "_________________________________________________________________\n",
            "conv2d_10 (Conv2D)           (None, 2, 2, 512)         2359808   \n",
            "_________________________________________________________________\n",
            "activation_10 (Activation)   (None, 2, 2, 512)         0         \n",
            "_________________________________________________________________\n",
            "conv2d_11 (Conv2D)           (None, 2, 2, 512)         2359808   \n",
            "_________________________________________________________________\n",
            "activation_11 (Activation)   (None, 2, 2, 512)         0         \n",
            "_________________________________________________________________\n",
            "conv2d_12 (Conv2D)           (None, 2, 2, 512)         2359808   \n",
            "_________________________________________________________________\n",
            "activation_12 (Activation)   (None, 2, 2, 512)         0         \n",
            "_________________________________________________________________\n",
            "max_pooling2d_4 (MaxPooling2 (None, 1, 1, 512)         0         \n",
            "_________________________________________________________________\n",
            "flatten (Flatten)            (None, 512)               0         \n",
            "_________________________________________________________________\n",
            "dense (Dense)                (None, 512)               262656    \n",
            "_________________________________________________________________\n",
            "activation_13 (Activation)   (None, 512)               0         \n",
            "_________________________________________________________________\n",
            "dense_1 (Dense)              (None, 100)               51300     \n",
            "_________________________________________________________________\n",
            "dropout (Dropout)            (None, 100)               0         \n",
            "_________________________________________________________________\n",
            "activation_14 (Activation)   (None, 100)               0         \n",
            "=================================================================\n",
            "Total params: 15,028,644\n",
            "Trainable params: 15,028,644\n",
            "Non-trainable params: 0\n",
            "_________________________________________________________________\n"
          ],
          "name": "stdout"
        }
      ]
    },
    {
      "cell_type": "markdown",
      "metadata": {
        "id": "s6HPmAh5RGLe"
      },
      "source": [
        "<h3><b> Train the Model</b></h3>"
      ]
    },
    {
      "cell_type": "code",
      "metadata": {
        "id": "0jcsr1krovRG",
        "outputId": "c3b39f00-2820-4303-94cf-5ef9ee19d5da",
        "colab": {
          "base_uri": "https://localhost:8080/",
          "height": 54
        }
      },
      "source": [
        "# Create Checkpoint and Early Stopping\n",
        "checkpoint = ModelCheckpoint(\"vgg16_SGD_OnlyDropout.h5\", monitor='val_loss', verbose=1, save_best_only=True, save_weights_only=True, mode='auto', period=1)\n",
        "early = EarlyStopping(monitor='val_loss', min_delta=0, patience=5, verbose=1, mode='auto')"
      ],
      "execution_count": 11,
      "outputs": [
        {
          "output_type": "stream",
          "text": [
            "WARNING:tensorflow:`period` argument is deprecated. Please use `save_freq` to specify the frequency in number of batches seen.\n"
          ],
          "name": "stdout"
        }
      ]
    },
    {
      "cell_type": "code",
      "metadata": {
        "id": "LGqjFOyFwNeO",
        "outputId": "76d8d95b-8ff4-4c19-df75-a985a296dbde",
        "colab": {
          "base_uri": "https://localhost:8080/",
          "height": 1000
        }
      },
      "source": [
        "batch_size = 128\n",
        "history = model.fit_generator(datagen.flow(X_train, y_train, batch_size=batch_size),validation_data=(X_test, y_test), epochs=100,callbacks=[checkpoint,early])"
      ],
      "execution_count": 12,
      "outputs": [
        {
          "output_type": "stream",
          "text": [
            "WARNING:tensorflow:From <ipython-input-12-d4550a79429d>:2: Model.fit_generator (from tensorflow.python.keras.engine.training) is deprecated and will be removed in a future version.\n",
            "Instructions for updating:\n",
            "Please use Model.fit, which supports generators.\n",
            "Epoch 1/100\n",
            "  2/391 [..............................] - ETA: 10s - loss: 5.0432 - accuracy: 0.0078WARNING:tensorflow:Callbacks method `on_train_batch_end` is slow compared to the batch time (batch time: 0.0224s vs `on_train_batch_end` time: 0.0387s). Check your callbacks.\n",
            "391/391 [==============================] - ETA: 0s - loss: 5.0429 - accuracy: 0.0096\n",
            "Epoch 00001: val_loss improved from inf to 5.04247, saving model to vgg16_SGD_OnlyDropout.h5\n",
            "391/391 [==============================] - 33s 86ms/step - loss: 5.0429 - accuracy: 0.0096 - val_loss: 5.0425 - val_accuracy: 0.0128\n",
            "Epoch 2/100\n",
            "391/391 [==============================] - ETA: 0s - loss: 5.0422 - accuracy: 0.0104\n",
            "Epoch 00002: val_loss improved from 5.04247 to 5.04177, saving model to vgg16_SGD_OnlyDropout.h5\n",
            "391/391 [==============================] - 33s 84ms/step - loss: 5.0422 - accuracy: 0.0104 - val_loss: 5.0418 - val_accuracy: 0.0100\n",
            "Epoch 3/100\n",
            "391/391 [==============================] - ETA: 0s - loss: 5.0415 - accuracy: 0.0098\n",
            "Epoch 00003: val_loss improved from 5.04177 to 5.04107, saving model to vgg16_SGD_OnlyDropout.h5\n",
            "391/391 [==============================] - 33s 85ms/step - loss: 5.0415 - accuracy: 0.0098 - val_loss: 5.0411 - val_accuracy: 0.0115\n",
            "Epoch 4/100\n",
            "391/391 [==============================] - ETA: 0s - loss: 5.0408 - accuracy: 0.0106\n",
            "Epoch 00004: val_loss improved from 5.04107 to 5.04037, saving model to vgg16_SGD_OnlyDropout.h5\n",
            "391/391 [==============================] - 33s 84ms/step - loss: 5.0408 - accuracy: 0.0106 - val_loss: 5.0404 - val_accuracy: 0.0100\n",
            "Epoch 5/100\n",
            "391/391 [==============================] - ETA: 0s - loss: 5.0401 - accuracy: 0.0098\n",
            "Epoch 00005: val_loss improved from 5.04037 to 5.03967, saving model to vgg16_SGD_OnlyDropout.h5\n",
            "391/391 [==============================] - 33s 84ms/step - loss: 5.0401 - accuracy: 0.0098 - val_loss: 5.0397 - val_accuracy: 0.0100\n",
            "Epoch 6/100\n",
            "391/391 [==============================] - ETA: 0s - loss: 5.0394 - accuracy: 0.0110\n",
            "Epoch 00006: val_loss improved from 5.03967 to 5.03898, saving model to vgg16_SGD_OnlyDropout.h5\n",
            "391/391 [==============================] - 33s 83ms/step - loss: 5.0394 - accuracy: 0.0110 - val_loss: 5.0390 - val_accuracy: 0.0112\n",
            "Epoch 7/100\n",
            "391/391 [==============================] - ETA: 0s - loss: 5.0387 - accuracy: 0.0108\n",
            "Epoch 00007: val_loss improved from 5.03898 to 5.03828, saving model to vgg16_SGD_OnlyDropout.h5\n",
            "391/391 [==============================] - 32s 81ms/step - loss: 5.0387 - accuracy: 0.0108 - val_loss: 5.0383 - val_accuracy: 0.0170\n",
            "Epoch 8/100\n",
            "391/391 [==============================] - ETA: 0s - loss: 5.0380 - accuracy: 0.0106\n",
            "Epoch 00008: val_loss improved from 5.03828 to 5.03758, saving model to vgg16_SGD_OnlyDropout.h5\n",
            "391/391 [==============================] - 32s 81ms/step - loss: 5.0380 - accuracy: 0.0106 - val_loss: 5.0376 - val_accuracy: 0.0100\n",
            "Epoch 9/100\n",
            "391/391 [==============================] - ETA: 0s - loss: 5.0373 - accuracy: 0.0103\n",
            "Epoch 00009: val_loss improved from 5.03758 to 5.03688, saving model to vgg16_SGD_OnlyDropout.h5\n",
            "391/391 [==============================] - 32s 81ms/step - loss: 5.0373 - accuracy: 0.0103 - val_loss: 5.0369 - val_accuracy: 0.0140\n",
            "Epoch 10/100\n",
            "391/391 [==============================] - ETA: 0s - loss: 5.0366 - accuracy: 0.0105\n",
            "Epoch 00010: val_loss improved from 5.03688 to 5.03618, saving model to vgg16_SGD_OnlyDropout.h5\n",
            "391/391 [==============================] - 31s 80ms/step - loss: 5.0366 - accuracy: 0.0105 - val_loss: 5.0362 - val_accuracy: 0.0156\n",
            "Epoch 11/100\n",
            "391/391 [==============================] - ETA: 0s - loss: 5.0359 - accuracy: 0.0113\n",
            "Epoch 00011: val_loss improved from 5.03618 to 5.03546, saving model to vgg16_SGD_OnlyDropout.h5\n",
            "391/391 [==============================] - 31s 80ms/step - loss: 5.0359 - accuracy: 0.0113 - val_loss: 5.0355 - val_accuracy: 0.0104\n",
            "Epoch 12/100\n",
            "391/391 [==============================] - ETA: 0s - loss: 5.0352 - accuracy: 0.0115\n",
            "Epoch 00012: val_loss improved from 5.03546 to 5.03474, saving model to vgg16_SGD_OnlyDropout.h5\n",
            "391/391 [==============================] - 32s 81ms/step - loss: 5.0352 - accuracy: 0.0115 - val_loss: 5.0347 - val_accuracy: 0.0101\n",
            "Epoch 13/100\n",
            "391/391 [==============================] - ETA: 0s - loss: 5.0345 - accuracy: 0.0114\n",
            "Epoch 00013: val_loss improved from 5.03474 to 5.03401, saving model to vgg16_SGD_OnlyDropout.h5\n",
            "391/391 [==============================] - 32s 81ms/step - loss: 5.0345 - accuracy: 0.0114 - val_loss: 5.0340 - val_accuracy: 0.0103\n",
            "Epoch 14/100\n",
            "391/391 [==============================] - ETA: 0s - loss: 5.0338 - accuracy: 0.0126\n",
            "Epoch 00014: val_loss improved from 5.03401 to 5.03327, saving model to vgg16_SGD_OnlyDropout.h5\n",
            "391/391 [==============================] - 32s 81ms/step - loss: 5.0338 - accuracy: 0.0126 - val_loss: 5.0333 - val_accuracy: 0.0100\n",
            "Epoch 15/100\n",
            "391/391 [==============================] - ETA: 0s - loss: 5.0330 - accuracy: 0.0114\n",
            "Epoch 00015: val_loss improved from 5.03327 to 5.03251, saving model to vgg16_SGD_OnlyDropout.h5\n",
            "391/391 [==============================] - 32s 81ms/step - loss: 5.0330 - accuracy: 0.0114 - val_loss: 5.0325 - val_accuracy: 0.0201\n",
            "Epoch 16/100\n",
            "391/391 [==============================] - ETA: 0s - loss: 5.0322 - accuracy: 0.0168\n",
            "Epoch 00016: val_loss improved from 5.03251 to 5.03171, saving model to vgg16_SGD_OnlyDropout.h5\n",
            "391/391 [==============================] - 31s 80ms/step - loss: 5.0322 - accuracy: 0.0168 - val_loss: 5.0317 - val_accuracy: 0.0173\n",
            "Epoch 17/100\n",
            "391/391 [==============================] - ETA: 0s - loss: 5.0314 - accuracy: 0.0152\n",
            "Epoch 00017: val_loss improved from 5.03171 to 5.03088, saving model to vgg16_SGD_OnlyDropout.h5\n",
            "391/391 [==============================] - 32s 81ms/step - loss: 5.0314 - accuracy: 0.0152 - val_loss: 5.0309 - val_accuracy: 0.0232\n",
            "Epoch 18/100\n",
            "391/391 [==============================] - ETA: 0s - loss: 5.0305 - accuracy: 0.0161\n",
            "Epoch 00018: val_loss improved from 5.03088 to 5.03001, saving model to vgg16_SGD_OnlyDropout.h5\n",
            "391/391 [==============================] - 32s 81ms/step - loss: 5.0305 - accuracy: 0.0161 - val_loss: 5.0300 - val_accuracy: 0.0161\n",
            "Epoch 19/100\n",
            "391/391 [==============================] - ETA: 0s - loss: 5.0297 - accuracy: 0.0150\n",
            "Epoch 00019: val_loss improved from 5.03001 to 5.02906, saving model to vgg16_SGD_OnlyDropout.h5\n",
            "391/391 [==============================] - 32s 81ms/step - loss: 5.0297 - accuracy: 0.0150 - val_loss: 5.0291 - val_accuracy: 0.0165\n",
            "Epoch 20/100\n",
            "391/391 [==============================] - ETA: 0s - loss: 5.0286 - accuracy: 0.0172\n",
            "Epoch 00020: val_loss improved from 5.02906 to 5.02801, saving model to vgg16_SGD_OnlyDropout.h5\n",
            "391/391 [==============================] - 32s 81ms/step - loss: 5.0286 - accuracy: 0.0172 - val_loss: 5.0280 - val_accuracy: 0.0166\n",
            "Epoch 21/100\n",
            "391/391 [==============================] - ETA: 0s - loss: 5.0275 - accuracy: 0.0172\n",
            "Epoch 00021: val_loss improved from 5.02801 to 5.02680, saving model to vgg16_SGD_OnlyDropout.h5\n",
            "391/391 [==============================] - 32s 81ms/step - loss: 5.0275 - accuracy: 0.0172 - val_loss: 5.0268 - val_accuracy: 0.0214\n",
            "Epoch 22/100\n",
            "391/391 [==============================] - ETA: 0s - loss: 5.0260 - accuracy: 0.0190\n",
            "Epoch 00022: val_loss improved from 5.02680 to 5.02535, saving model to vgg16_SGD_OnlyDropout.h5\n",
            "391/391 [==============================] - 32s 81ms/step - loss: 5.0260 - accuracy: 0.0190 - val_loss: 5.0253 - val_accuracy: 0.0155\n",
            "Epoch 23/100\n",
            "391/391 [==============================] - ETA: 0s - loss: 5.0246 - accuracy: 0.0162\n",
            "Epoch 00023: val_loss improved from 5.02535 to 5.02348, saving model to vgg16_SGD_OnlyDropout.h5\n",
            "391/391 [==============================] - 32s 82ms/step - loss: 5.0246 - accuracy: 0.0162 - val_loss: 5.0235 - val_accuracy: 0.0188\n",
            "Epoch 24/100\n",
            "391/391 [==============================] - ETA: 0s - loss: 5.0226 - accuracy: 0.0166\n",
            "Epoch 00024: val_loss improved from 5.02348 to 5.02097, saving model to vgg16_SGD_OnlyDropout.h5\n",
            "391/391 [==============================] - 32s 81ms/step - loss: 5.0226 - accuracy: 0.0166 - val_loss: 5.0210 - val_accuracy: 0.0126\n",
            "Epoch 25/100\n",
            "391/391 [==============================] - ETA: 0s - loss: 5.0192 - accuracy: 0.0155\n",
            "Epoch 00025: val_loss improved from 5.02097 to 5.01687, saving model to vgg16_SGD_OnlyDropout.h5\n",
            "391/391 [==============================] - 32s 81ms/step - loss: 5.0192 - accuracy: 0.0155 - val_loss: 5.0169 - val_accuracy: 0.0146\n",
            "Epoch 26/100\n",
            "391/391 [==============================] - ETA: 0s - loss: 5.0150 - accuracy: 0.0158\n",
            "Epoch 00026: val_loss improved from 5.01687 to 5.01026, saving model to vgg16_SGD_OnlyDropout.h5\n",
            "391/391 [==============================] - 33s 84ms/step - loss: 5.0150 - accuracy: 0.0158 - val_loss: 5.0103 - val_accuracy: 0.0129\n",
            "Epoch 27/100\n",
            "391/391 [==============================] - ETA: 0s - loss: 5.0071 - accuracy: 0.0167\n",
            "Epoch 00027: val_loss improved from 5.01026 to 4.99750, saving model to vgg16_SGD_OnlyDropout.h5\n",
            "391/391 [==============================] - 33s 84ms/step - loss: 5.0071 - accuracy: 0.0167 - val_loss: 4.9975 - val_accuracy: 0.0174\n",
            "Epoch 28/100\n",
            "391/391 [==============================] - ETA: 0s - loss: 4.9881 - accuracy: 0.0200\n",
            "Epoch 00028: val_loss improved from 4.99750 to 4.95191, saving model to vgg16_SGD_OnlyDropout.h5\n",
            "391/391 [==============================] - 32s 82ms/step - loss: 4.9881 - accuracy: 0.0200 - val_loss: 4.9519 - val_accuracy: 0.0236\n",
            "Epoch 29/100\n",
            "391/391 [==============================] - ETA: 0s - loss: 4.9599 - accuracy: 0.0232\n",
            "Epoch 00029: val_loss improved from 4.95191 to 4.91180, saving model to vgg16_SGD_OnlyDropout.h5\n",
            "391/391 [==============================] - 32s 82ms/step - loss: 4.9599 - accuracy: 0.0232 - val_loss: 4.9118 - val_accuracy: 0.0366\n",
            "Epoch 30/100\n",
            "391/391 [==============================] - ETA: 0s - loss: 4.9333 - accuracy: 0.0302\n",
            "Epoch 00030: val_loss improved from 4.91180 to 4.87435, saving model to vgg16_SGD_OnlyDropout.h5\n",
            "391/391 [==============================] - 32s 82ms/step - loss: 4.9333 - accuracy: 0.0302 - val_loss: 4.8743 - val_accuracy: 0.0389\n",
            "Epoch 31/100\n",
            "391/391 [==============================] - ETA: 0s - loss: 4.9008 - accuracy: 0.0353\n",
            "Epoch 00031: val_loss improved from 4.87435 to 4.81791, saving model to vgg16_SGD_OnlyDropout.h5\n",
            "391/391 [==============================] - 32s 81ms/step - loss: 4.9008 - accuracy: 0.0353 - val_loss: 4.8179 - val_accuracy: 0.0457\n",
            "Epoch 32/100\n",
            "391/391 [==============================] - ETA: 0s - loss: 4.8768 - accuracy: 0.0408\n",
            "Epoch 00032: val_loss improved from 4.81791 to 4.77515, saving model to vgg16_SGD_OnlyDropout.h5\n",
            "391/391 [==============================] - 33s 84ms/step - loss: 4.8768 - accuracy: 0.0408 - val_loss: 4.7751 - val_accuracy: 0.0537\n",
            "Epoch 33/100\n",
            "391/391 [==============================] - ETA: 0s - loss: 4.8455 - accuracy: 0.0473\n",
            "Epoch 00033: val_loss improved from 4.77515 to 4.71151, saving model to vgg16_SGD_OnlyDropout.h5\n",
            "391/391 [==============================] - 32s 81ms/step - loss: 4.8455 - accuracy: 0.0473 - val_loss: 4.7115 - val_accuracy: 0.0617\n",
            "Epoch 34/100\n",
            "391/391 [==============================] - ETA: 0s - loss: 4.8017 - accuracy: 0.0533\n",
            "Epoch 00034: val_loss improved from 4.71151 to 4.64137, saving model to vgg16_SGD_OnlyDropout.h5\n",
            "391/391 [==============================] - 32s 82ms/step - loss: 4.8017 - accuracy: 0.0533 - val_loss: 4.6414 - val_accuracy: 0.0754\n",
            "Epoch 35/100\n",
            "391/391 [==============================] - ETA: 0s - loss: 4.7635 - accuracy: 0.0620\n",
            "Epoch 00035: val_loss improved from 4.64137 to 4.60323, saving model to vgg16_SGD_OnlyDropout.h5\n",
            "391/391 [==============================] - 32s 82ms/step - loss: 4.7635 - accuracy: 0.0620 - val_loss: 4.6032 - val_accuracy: 0.0880\n",
            "Epoch 36/100\n",
            "391/391 [==============================] - ETA: 0s - loss: 4.7302 - accuracy: 0.0682\n",
            "Epoch 00036: val_loss improved from 4.60323 to 4.54313, saving model to vgg16_SGD_OnlyDropout.h5\n",
            "391/391 [==============================] - 32s 82ms/step - loss: 4.7302 - accuracy: 0.0682 - val_loss: 4.5431 - val_accuracy: 0.0911\n",
            "Epoch 37/100\n",
            "391/391 [==============================] - ETA: 0s - loss: 4.7086 - accuracy: 0.0708\n",
            "Epoch 00037: val_loss improved from 4.54313 to 4.52518, saving model to vgg16_SGD_OnlyDropout.h5\n",
            "391/391 [==============================] - 32s 81ms/step - loss: 4.7086 - accuracy: 0.0708 - val_loss: 4.5252 - val_accuracy: 0.0996\n",
            "Epoch 38/100\n",
            "391/391 [==============================] - ETA: 0s - loss: 4.6884 - accuracy: 0.0756\n",
            "Epoch 00038: val_loss improved from 4.52518 to 4.48715, saving model to vgg16_SGD_OnlyDropout.h5\n",
            "391/391 [==============================] - 32s 81ms/step - loss: 4.6884 - accuracy: 0.0756 - val_loss: 4.4872 - val_accuracy: 0.1003\n",
            "Epoch 39/100\n",
            "391/391 [==============================] - ETA: 0s - loss: 4.6752 - accuracy: 0.0777\n",
            "Epoch 00039: val_loss improved from 4.48715 to 4.46216, saving model to vgg16_SGD_OnlyDropout.h5\n",
            "391/391 [==============================] - 32s 83ms/step - loss: 4.6752 - accuracy: 0.0777 - val_loss: 4.4622 - val_accuracy: 0.1075\n",
            "Epoch 40/100\n",
            "391/391 [==============================] - ETA: 0s - loss: 4.6567 - accuracy: 0.0813\n",
            "Epoch 00040: val_loss improved from 4.46216 to 4.42405, saving model to vgg16_SGD_OnlyDropout.h5\n",
            "391/391 [==============================] - 33s 84ms/step - loss: 4.6567 - accuracy: 0.0813 - val_loss: 4.4240 - val_accuracy: 0.1148\n",
            "Epoch 41/100\n",
            "391/391 [==============================] - ETA: 0s - loss: 4.6444 - accuracy: 0.0822\n",
            "Epoch 00041: val_loss improved from 4.42405 to 4.42218, saving model to vgg16_SGD_OnlyDropout.h5\n",
            "391/391 [==============================] - 32s 83ms/step - loss: 4.6444 - accuracy: 0.0822 - val_loss: 4.4222 - val_accuracy: 0.1159\n",
            "Epoch 42/100\n",
            "391/391 [==============================] - ETA: 0s - loss: 4.6339 - accuracy: 0.0855\n",
            "Epoch 00042: val_loss improved from 4.42218 to 4.41663, saving model to vgg16_SGD_OnlyDropout.h5\n",
            "391/391 [==============================] - 33s 83ms/step - loss: 4.6339 - accuracy: 0.0855 - val_loss: 4.4166 - val_accuracy: 0.1190\n",
            "Epoch 43/100\n",
            "391/391 [==============================] - ETA: 0s - loss: 4.6166 - accuracy: 0.0877\n",
            "Epoch 00043: val_loss improved from 4.41663 to 4.38985, saving model to vgg16_SGD_OnlyDropout.h5\n",
            "391/391 [==============================] - 32s 82ms/step - loss: 4.6166 - accuracy: 0.0877 - val_loss: 4.3899 - val_accuracy: 0.1218\n",
            "Epoch 44/100\n",
            "391/391 [==============================] - ETA: 0s - loss: 4.6060 - accuracy: 0.0901\n",
            "Epoch 00044: val_loss improved from 4.38985 to 4.37007, saving model to vgg16_SGD_OnlyDropout.h5\n",
            "391/391 [==============================] - 32s 82ms/step - loss: 4.6060 - accuracy: 0.0901 - val_loss: 4.3701 - val_accuracy: 0.1207\n",
            "Epoch 45/100\n",
            "391/391 [==============================] - ETA: 0s - loss: 4.5979 - accuracy: 0.0923\n",
            "Epoch 00045: val_loss improved from 4.37007 to 4.34342, saving model to vgg16_SGD_OnlyDropout.h5\n",
            "391/391 [==============================] - 32s 82ms/step - loss: 4.5979 - accuracy: 0.0923 - val_loss: 4.3434 - val_accuracy: 0.1285\n",
            "Epoch 46/100\n",
            "391/391 [==============================] - ETA: 0s - loss: 4.5832 - accuracy: 0.0949\n",
            "Epoch 00046: val_loss improved from 4.34342 to 4.30827, saving model to vgg16_SGD_OnlyDropout.h5\n",
            "391/391 [==============================] - 31s 80ms/step - loss: 4.5832 - accuracy: 0.0949 - val_loss: 4.3083 - val_accuracy: 0.1278\n",
            "Epoch 47/100\n",
            "391/391 [==============================] - ETA: 0s - loss: 4.5702 - accuracy: 0.0972\n",
            "Epoch 00047: val_loss did not improve from 4.30827\n",
            "391/391 [==============================] - 31s 81ms/step - loss: 4.5702 - accuracy: 0.0972 - val_loss: 4.3299 - val_accuracy: 0.1381\n",
            "Epoch 48/100\n",
            "391/391 [==============================] - ETA: 0s - loss: 4.5614 - accuracy: 0.0994\n",
            "Epoch 00048: val_loss improved from 4.30827 to 4.27902, saving model to vgg16_SGD_OnlyDropout.h5\n",
            "391/391 [==============================] - 33s 83ms/step - loss: 4.5614 - accuracy: 0.0994 - val_loss: 4.2790 - val_accuracy: 0.1360\n",
            "Epoch 49/100\n",
            "391/391 [==============================] - ETA: 0s - loss: 4.5443 - accuracy: 0.1028\n",
            "Epoch 00049: val_loss did not improve from 4.27902\n",
            "391/391 [==============================] - 32s 81ms/step - loss: 4.5443 - accuracy: 0.1028 - val_loss: 4.2824 - val_accuracy: 0.1440\n",
            "Epoch 50/100\n",
            "391/391 [==============================] - ETA: 0s - loss: 4.5375 - accuracy: 0.1035\n",
            "Epoch 00050: val_loss improved from 4.27902 to 4.27774, saving model to vgg16_SGD_OnlyDropout.h5\n",
            "391/391 [==============================] - 32s 81ms/step - loss: 4.5375 - accuracy: 0.1035 - val_loss: 4.2777 - val_accuracy: 0.1395\n",
            "Epoch 51/100\n",
            "391/391 [==============================] - ETA: 0s - loss: 4.5271 - accuracy: 0.1066\n",
            "Epoch 00051: val_loss did not improve from 4.27774\n",
            "391/391 [==============================] - 32s 81ms/step - loss: 4.5271 - accuracy: 0.1066 - val_loss: 4.2799 - val_accuracy: 0.1555\n",
            "Epoch 52/100\n",
            "391/391 [==============================] - ETA: 0s - loss: 4.5113 - accuracy: 0.1082\n",
            "Epoch 00052: val_loss improved from 4.27774 to 4.22735, saving model to vgg16_SGD_OnlyDropout.h5\n",
            "391/391 [==============================] - 32s 82ms/step - loss: 4.5113 - accuracy: 0.1082 - val_loss: 4.2274 - val_accuracy: 0.1571\n",
            "Epoch 53/100\n",
            "391/391 [==============================] - ETA: 0s - loss: 4.4966 - accuracy: 0.1117\n",
            "Epoch 00053: val_loss improved from 4.22735 to 4.18738, saving model to vgg16_SGD_OnlyDropout.h5\n",
            "391/391 [==============================] - 32s 81ms/step - loss: 4.4966 - accuracy: 0.1117 - val_loss: 4.1874 - val_accuracy: 0.1595\n",
            "Epoch 54/100\n",
            "391/391 [==============================] - ETA: 0s - loss: 4.4917 - accuracy: 0.1146\n",
            "Epoch 00054: val_loss did not improve from 4.18738\n",
            "391/391 [==============================] - 32s 81ms/step - loss: 4.4917 - accuracy: 0.1146 - val_loss: 4.2001 - val_accuracy: 0.1627\n",
            "Epoch 55/100\n",
            "391/391 [==============================] - ETA: 0s - loss: 4.4811 - accuracy: 0.1162\n",
            "Epoch 00055: val_loss improved from 4.18738 to 4.18162, saving model to vgg16_SGD_OnlyDropout.h5\n",
            "391/391 [==============================] - 31s 81ms/step - loss: 4.4811 - accuracy: 0.1162 - val_loss: 4.1816 - val_accuracy: 0.1666\n",
            "Epoch 56/100\n",
            "391/391 [==============================] - ETA: 0s - loss: 4.4786 - accuracy: 0.1152\n",
            "Epoch 00056: val_loss improved from 4.18162 to 4.14523, saving model to vgg16_SGD_OnlyDropout.h5\n",
            "391/391 [==============================] - 31s 81ms/step - loss: 4.4786 - accuracy: 0.1152 - val_loss: 4.1452 - val_accuracy: 0.1727\n",
            "Epoch 57/100\n",
            "391/391 [==============================] - ETA: 0s - loss: 4.4592 - accuracy: 0.1200\n",
            "Epoch 00057: val_loss did not improve from 4.14523\n",
            "391/391 [==============================] - 31s 80ms/step - loss: 4.4592 - accuracy: 0.1200 - val_loss: 4.1546 - val_accuracy: 0.1702\n",
            "Epoch 58/100\n",
            "391/391 [==============================] - ETA: 0s - loss: 4.4530 - accuracy: 0.1196\n",
            "Epoch 00058: val_loss improved from 4.14523 to 4.10869, saving model to vgg16_SGD_OnlyDropout.h5\n",
            "391/391 [==============================] - 31s 80ms/step - loss: 4.4530 - accuracy: 0.1196 - val_loss: 4.1087 - val_accuracy: 0.1742\n",
            "Epoch 59/100\n",
            "391/391 [==============================] - ETA: 0s - loss: 4.4444 - accuracy: 0.1217\n",
            "Epoch 00059: val_loss improved from 4.10869 to 4.10403, saving model to vgg16_SGD_OnlyDropout.h5\n",
            "391/391 [==============================] - 32s 81ms/step - loss: 4.4444 - accuracy: 0.1217 - val_loss: 4.1040 - val_accuracy: 0.1762\n",
            "Epoch 60/100\n",
            "391/391 [==============================] - ETA: 0s - loss: 4.4315 - accuracy: 0.1236\n",
            "Epoch 00060: val_loss improved from 4.10403 to 4.07012, saving model to vgg16_SGD_OnlyDropout.h5\n",
            "391/391 [==============================] - 32s 81ms/step - loss: 4.4315 - accuracy: 0.1236 - val_loss: 4.0701 - val_accuracy: 0.1843\n",
            "Epoch 61/100\n",
            "391/391 [==============================] - ETA: 0s - loss: 4.4208 - accuracy: 0.1274\n",
            "Epoch 00061: val_loss improved from 4.07012 to 4.06981, saving model to vgg16_SGD_OnlyDropout.h5\n",
            "391/391 [==============================] - 32s 82ms/step - loss: 4.4208 - accuracy: 0.1274 - val_loss: 4.0698 - val_accuracy: 0.1901\n",
            "Epoch 62/100\n",
            "391/391 [==============================] - ETA: 0s - loss: 4.4027 - accuracy: 0.1315\n",
            "Epoch 00062: val_loss improved from 4.06981 to 4.03840, saving model to vgg16_SGD_OnlyDropout.h5\n",
            "391/391 [==============================] - 32s 81ms/step - loss: 4.4027 - accuracy: 0.1315 - val_loss: 4.0384 - val_accuracy: 0.1933\n",
            "Epoch 63/100\n",
            "391/391 [==============================] - ETA: 0s - loss: 4.3986 - accuracy: 0.1308\n",
            "Epoch 00063: val_loss did not improve from 4.03840\n",
            "391/391 [==============================] - 32s 81ms/step - loss: 4.3986 - accuracy: 0.1308 - val_loss: 4.0510 - val_accuracy: 0.1937\n",
            "Epoch 64/100\n",
            "391/391 [==============================] - ETA: 0s - loss: 4.4006 - accuracy: 0.1319\n",
            "Epoch 00064: val_loss improved from 4.03840 to 4.03413, saving model to vgg16_SGD_OnlyDropout.h5\n",
            "391/391 [==============================] - 32s 81ms/step - loss: 4.4006 - accuracy: 0.1319 - val_loss: 4.0341 - val_accuracy: 0.1989\n",
            "Epoch 65/100\n",
            "391/391 [==============================] - ETA: 0s - loss: 4.3788 - accuracy: 0.1352\n",
            "Epoch 00065: val_loss improved from 4.03413 to 4.01568, saving model to vgg16_SGD_OnlyDropout.h5\n",
            "391/391 [==============================] - 32s 81ms/step - loss: 4.3788 - accuracy: 0.1352 - val_loss: 4.0157 - val_accuracy: 0.1932\n",
            "Epoch 66/100\n",
            "391/391 [==============================] - ETA: 0s - loss: 4.3807 - accuracy: 0.1341\n",
            "Epoch 00066: val_loss improved from 4.01568 to 4.00960, saving model to vgg16_SGD_OnlyDropout.h5\n",
            "391/391 [==============================] - 31s 80ms/step - loss: 4.3807 - accuracy: 0.1341 - val_loss: 4.0096 - val_accuracy: 0.2010\n",
            "Epoch 67/100\n",
            "391/391 [==============================] - ETA: 0s - loss: 4.3679 - accuracy: 0.1368\n",
            "Epoch 00067: val_loss did not improve from 4.00960\n",
            "391/391 [==============================] - 32s 81ms/step - loss: 4.3679 - accuracy: 0.1368 - val_loss: 4.0173 - val_accuracy: 0.1934\n",
            "Epoch 68/100\n",
            "391/391 [==============================] - ETA: 0s - loss: 4.3618 - accuracy: 0.1381\n",
            "Epoch 00068: val_loss improved from 4.00960 to 4.00189, saving model to vgg16_SGD_OnlyDropout.h5\n",
            "391/391 [==============================] - 32s 81ms/step - loss: 4.3618 - accuracy: 0.1381 - val_loss: 4.0019 - val_accuracy: 0.2059\n",
            "Epoch 69/100\n",
            "391/391 [==============================] - ETA: 0s - loss: 4.3387 - accuracy: 0.1442\n",
            "Epoch 00069: val_loss improved from 4.00189 to 3.95239, saving model to vgg16_SGD_OnlyDropout.h5\n",
            "391/391 [==============================] - 31s 80ms/step - loss: 4.3387 - accuracy: 0.1442 - val_loss: 3.9524 - val_accuracy: 0.2021\n",
            "Epoch 70/100\n",
            "391/391 [==============================] - ETA: 0s - loss: 4.3368 - accuracy: 0.1431\n",
            "Epoch 00070: val_loss improved from 3.95239 to 3.94349, saving model to vgg16_SGD_OnlyDropout.h5\n",
            "391/391 [==============================] - 32s 81ms/step - loss: 4.3368 - accuracy: 0.1431 - val_loss: 3.9435 - val_accuracy: 0.2083\n",
            "Epoch 71/100\n",
            "391/391 [==============================] - ETA: 0s - loss: 4.3240 - accuracy: 0.1455\n",
            "Epoch 00071: val_loss did not improve from 3.94349\n",
            "391/391 [==============================] - 32s 81ms/step - loss: 4.3240 - accuracy: 0.1455 - val_loss: 3.9641 - val_accuracy: 0.2109\n",
            "Epoch 72/100\n",
            "391/391 [==============================] - ETA: 0s - loss: 4.3036 - accuracy: 0.1509\n",
            "Epoch 00072: val_loss improved from 3.94349 to 3.93814, saving model to vgg16_SGD_OnlyDropout.h5\n",
            "391/391 [==============================] - 32s 81ms/step - loss: 4.3036 - accuracy: 0.1509 - val_loss: 3.9381 - val_accuracy: 0.2163\n",
            "Epoch 73/100\n",
            "391/391 [==============================] - ETA: 0s - loss: 4.3076 - accuracy: 0.1486\n",
            "Epoch 00073: val_loss improved from 3.93814 to 3.90784, saving model to vgg16_SGD_OnlyDropout.h5\n",
            "391/391 [==============================] - 31s 80ms/step - loss: 4.3076 - accuracy: 0.1486 - val_loss: 3.9078 - val_accuracy: 0.2204\n",
            "Epoch 74/100\n",
            "391/391 [==============================] - ETA: 0s - loss: 4.2940 - accuracy: 0.1520\n",
            "Epoch 00074: val_loss did not improve from 3.90784\n",
            "391/391 [==============================] - 31s 80ms/step - loss: 4.2940 - accuracy: 0.1520 - val_loss: 3.9121 - val_accuracy: 0.2235\n",
            "Epoch 75/100\n",
            "391/391 [==============================] - ETA: 0s - loss: 4.2895 - accuracy: 0.1513\n",
            "Epoch 00075: val_loss did not improve from 3.90784\n",
            "391/391 [==============================] - 32s 81ms/step - loss: 4.2895 - accuracy: 0.1513 - val_loss: 3.9308 - val_accuracy: 0.2188\n",
            "Epoch 76/100\n",
            "391/391 [==============================] - ETA: 0s - loss: 4.2815 - accuracy: 0.1529\n",
            "Epoch 00076: val_loss improved from 3.90784 to 3.85098, saving model to vgg16_SGD_OnlyDropout.h5\n",
            "391/391 [==============================] - 32s 81ms/step - loss: 4.2815 - accuracy: 0.1529 - val_loss: 3.8510 - val_accuracy: 0.2258\n",
            "Epoch 77/100\n",
            "391/391 [==============================] - ETA: 0s - loss: 4.2580 - accuracy: 0.1581\n",
            "Epoch 00077: val_loss did not improve from 3.85098\n",
            "391/391 [==============================] - 31s 80ms/step - loss: 4.2580 - accuracy: 0.1581 - val_loss: 3.8528 - val_accuracy: 0.2288\n",
            "Epoch 78/100\n",
            "391/391 [==============================] - ETA: 0s - loss: 4.2544 - accuracy: 0.1584\n",
            "Epoch 00078: val_loss improved from 3.85098 to 3.83151, saving model to vgg16_SGD_OnlyDropout.h5\n",
            "391/391 [==============================] - 31s 80ms/step - loss: 4.2544 - accuracy: 0.1584 - val_loss: 3.8315 - val_accuracy: 0.2301\n",
            "Epoch 79/100\n",
            "391/391 [==============================] - ETA: 0s - loss: 4.2492 - accuracy: 0.1611\n",
            "Epoch 00079: val_loss improved from 3.83151 to 3.82542, saving model to vgg16_SGD_OnlyDropout.h5\n",
            "391/391 [==============================] - 31s 80ms/step - loss: 4.2492 - accuracy: 0.1611 - val_loss: 3.8254 - val_accuracy: 0.2301\n",
            "Epoch 80/100\n",
            "391/391 [==============================] - ETA: 0s - loss: 4.2362 - accuracy: 0.1625\n",
            "Epoch 00080: val_loss improved from 3.82542 to 3.82021, saving model to vgg16_SGD_OnlyDropout.h5\n",
            "391/391 [==============================] - 32s 82ms/step - loss: 4.2362 - accuracy: 0.1625 - val_loss: 3.8202 - val_accuracy: 0.2328\n",
            "Epoch 81/100\n",
            "391/391 [==============================] - ETA: 0s - loss: 4.2221 - accuracy: 0.1673\n",
            "Epoch 00081: val_loss did not improve from 3.82021\n",
            "391/391 [==============================] - 32s 81ms/step - loss: 4.2221 - accuracy: 0.1673 - val_loss: 3.8344 - val_accuracy: 0.2375\n",
            "Epoch 82/100\n",
            "391/391 [==============================] - ETA: 0s - loss: 4.2241 - accuracy: 0.1650\n",
            "Epoch 00082: val_loss improved from 3.82021 to 3.81180, saving model to vgg16_SGD_OnlyDropout.h5\n",
            "391/391 [==============================] - 32s 81ms/step - loss: 4.2241 - accuracy: 0.1650 - val_loss: 3.8118 - val_accuracy: 0.2350\n",
            "Epoch 83/100\n",
            "391/391 [==============================] - ETA: 0s - loss: 4.2169 - accuracy: 0.1664\n",
            "Epoch 00083: val_loss did not improve from 3.81180\n",
            "391/391 [==============================] - 31s 80ms/step - loss: 4.2169 - accuracy: 0.1664 - val_loss: 3.8509 - val_accuracy: 0.2414\n",
            "Epoch 84/100\n",
            "391/391 [==============================] - ETA: 0s - loss: 4.1875 - accuracy: 0.1716\n",
            "Epoch 00084: val_loss improved from 3.81180 to 3.79844, saving model to vgg16_SGD_OnlyDropout.h5\n",
            "391/391 [==============================] - 32s 81ms/step - loss: 4.1875 - accuracy: 0.1716 - val_loss: 3.7984 - val_accuracy: 0.2455\n",
            "Epoch 85/100\n",
            "391/391 [==============================] - ETA: 0s - loss: 4.1970 - accuracy: 0.1686\n",
            "Epoch 00085: val_loss improved from 3.79844 to 3.76639, saving model to vgg16_SGD_OnlyDropout.h5\n",
            "391/391 [==============================] - 32s 81ms/step - loss: 4.1970 - accuracy: 0.1686 - val_loss: 3.7664 - val_accuracy: 0.2377\n",
            "Epoch 86/100\n",
            "391/391 [==============================] - ETA: 0s - loss: 4.1785 - accuracy: 0.1745\n",
            "Epoch 00086: val_loss improved from 3.76639 to 3.71470, saving model to vgg16_SGD_OnlyDropout.h5\n",
            "391/391 [==============================] - 32s 81ms/step - loss: 4.1785 - accuracy: 0.1745 - val_loss: 3.7147 - val_accuracy: 0.2465\n",
            "Epoch 87/100\n",
            "391/391 [==============================] - ETA: 0s - loss: 4.1766 - accuracy: 0.1747\n",
            "Epoch 00087: val_loss did not improve from 3.71470\n",
            "391/391 [==============================] - 32s 81ms/step - loss: 4.1766 - accuracy: 0.1747 - val_loss: 3.7803 - val_accuracy: 0.2466\n",
            "Epoch 88/100\n",
            "391/391 [==============================] - ETA: 0s - loss: 4.1590 - accuracy: 0.1767\n",
            "Epoch 00088: val_loss did not improve from 3.71470\n",
            "391/391 [==============================] - 32s 81ms/step - loss: 4.1590 - accuracy: 0.1767 - val_loss: 3.7794 - val_accuracy: 0.2417\n",
            "Epoch 89/100\n",
            "391/391 [==============================] - ETA: 0s - loss: 4.1492 - accuracy: 0.1803\n",
            "Epoch 00089: val_loss improved from 3.71470 to 3.71386, saving model to vgg16_SGD_OnlyDropout.h5\n",
            "391/391 [==============================] - 32s 81ms/step - loss: 4.1492 - accuracy: 0.1803 - val_loss: 3.7139 - val_accuracy: 0.2503\n",
            "Epoch 90/100\n",
            "391/391 [==============================] - ETA: 0s - loss: 4.1421 - accuracy: 0.1807\n",
            "Epoch 00090: val_loss improved from 3.71386 to 3.71081, saving model to vgg16_SGD_OnlyDropout.h5\n",
            "391/391 [==============================] - 32s 82ms/step - loss: 4.1421 - accuracy: 0.1807 - val_loss: 3.7108 - val_accuracy: 0.2479\n",
            "Epoch 91/100\n",
            "391/391 [==============================] - ETA: 0s - loss: 4.1297 - accuracy: 0.1838\n",
            "Epoch 00091: val_loss improved from 3.71081 to 3.69849, saving model to vgg16_SGD_OnlyDropout.h5\n",
            "391/391 [==============================] - 32s 82ms/step - loss: 4.1297 - accuracy: 0.1838 - val_loss: 3.6985 - val_accuracy: 0.2507\n",
            "Epoch 92/100\n",
            "391/391 [==============================] - ETA: 0s - loss: 4.1158 - accuracy: 0.1859\n",
            "Epoch 00092: val_loss did not improve from 3.69849\n",
            "391/391 [==============================] - 31s 80ms/step - loss: 4.1158 - accuracy: 0.1859 - val_loss: 3.7015 - val_accuracy: 0.2604\n",
            "Epoch 93/100\n",
            "391/391 [==============================] - ETA: 0s - loss: 4.1074 - accuracy: 0.1893\n",
            "Epoch 00093: val_loss improved from 3.69849 to 3.65114, saving model to vgg16_SGD_OnlyDropout.h5\n",
            "391/391 [==============================] - 32s 81ms/step - loss: 4.1074 - accuracy: 0.1893 - val_loss: 3.6511 - val_accuracy: 0.2616\n",
            "Epoch 94/100\n",
            "391/391 [==============================] - ETA: 0s - loss: 4.1016 - accuracy: 0.1903\n",
            "Epoch 00094: val_loss did not improve from 3.65114\n",
            "391/391 [==============================] - 32s 81ms/step - loss: 4.1016 - accuracy: 0.1903 - val_loss: 3.6906 - val_accuracy: 0.2551\n",
            "Epoch 95/100\n",
            "391/391 [==============================] - ETA: 0s - loss: 4.0969 - accuracy: 0.1907\n",
            "Epoch 00095: val_loss did not improve from 3.65114\n",
            "391/391 [==============================] - 32s 81ms/step - loss: 4.0969 - accuracy: 0.1907 - val_loss: 3.6819 - val_accuracy: 0.2672\n",
            "Epoch 96/100\n",
            "391/391 [==============================] - ETA: 0s - loss: 4.0847 - accuracy: 0.1927\n",
            "Epoch 00096: val_loss did not improve from 3.65114\n",
            "391/391 [==============================] - 32s 81ms/step - loss: 4.0847 - accuracy: 0.1927 - val_loss: 3.6627 - val_accuracy: 0.2622\n",
            "Epoch 97/100\n",
            "391/391 [==============================] - ETA: 0s - loss: 4.0617 - accuracy: 0.1979\n",
            "Epoch 00097: val_loss did not improve from 3.65114\n",
            "391/391 [==============================] - 32s 81ms/step - loss: 4.0617 - accuracy: 0.1979 - val_loss: 3.6736 - val_accuracy: 0.2529\n",
            "Epoch 98/100\n",
            "391/391 [==============================] - ETA: 0s - loss: 4.0560 - accuracy: 0.1998\n",
            "Epoch 00098: val_loss did not improve from 3.65114\n",
            "391/391 [==============================] - 32s 81ms/step - loss: 4.0560 - accuracy: 0.1998 - val_loss: 3.6605 - val_accuracy: 0.2708\n",
            "Epoch 00098: early stopping\n"
          ],
          "name": "stdout"
        }
      ]
    },
    {
      "cell_type": "markdown",
      "metadata": {
        "id": "2Q5vb0hEL_tA"
      },
      "source": [
        "<h3><b> Graphs</b></h3>"
      ]
    },
    {
      "cell_type": "code",
      "metadata": {
        "id": "5XczyFBw5qgk",
        "outputId": "4df98217-9ee6-4404-94e5-7066471767bc",
        "colab": {
          "base_uri": "https://localhost:8080/",
          "height": 312
        }
      },
      "source": [
        "import matplotlib.pyplot as plt\n",
        "history_dict = history.history\n",
        "print(history_dict.keys())\n",
        "accuracy_values = history_dict['accuracy']\n",
        "val_accuracy_values = history_dict['val_accuracy']\n",
        "\n",
        "epochs = range(1, len(history_dict['accuracy']) + 1)\n",
        "\n",
        "plt.plot(epochs, accuracy_values, 'bo', label='Training Accuracy')\n",
        "plt.plot(epochs, val_accuracy_values, 'b', label='Validation loss')\n",
        "plt.title('Training and validation Accuracy')\n",
        "plt.xlabel('Epochs')\n",
        "plt.ylabel('Accuracy')\n",
        "plt.legend()\n",
        "\n",
        "plt.show()\n"
      ],
      "execution_count": 13,
      "outputs": [
        {
          "output_type": "stream",
          "text": [
            "dict_keys(['loss', 'accuracy', 'val_loss', 'val_accuracy'])\n"
          ],
          "name": "stdout"
        },
        {
          "output_type": "display_data",
          "data": {
            "image/png": "[encoded data removed]",
            "text/plain": [
              "<Figure size 432x288 with 1 Axes>"
            ]
          },
          "metadata": {
            "tags": [],
            "needs_background": "light"
          }
        }
      ]
    },
    {
      "cell_type": "code",
      "metadata": {
        "id": "Tx_cCIAE5qpj",
        "outputId": "e96b86bc-1316-4103-cda8-3eca28e4608e",
        "colab": {
          "base_uri": "https://localhost:8080/",
          "height": 312
        }
      },
      "source": [
        "import matplotlib.pyplot as plt\n",
        "\n",
        "history_dict = history.history\n",
        "print(history_dict.keys())\n",
        "loss_values = history_dict['loss']\n",
        "val_loss_values = history_dict['val_loss']\n",
        "\n",
        "epochs = range(1, len(history_dict['accuracy']) + 1)\n",
        "\n",
        "plt.plot(epochs, loss_values, 'bo', label='Training loss')\n",
        "plt.plot(epochs, val_loss_values, 'b', label='Validation loss')\n",
        "plt.title('Training and validation loss')\n",
        "plt.xlabel('Epochs')\n",
        "plt.ylabel('Loss')\n",
        "plt.legend()\n",
        "\n",
        "plt.show()\n"
      ],
      "execution_count": 14,
      "outputs": [
        {
          "output_type": "stream",
          "text": [
            "dict_keys(['loss', 'accuracy', 'val_loss', 'val_accuracy'])\n"
          ],
          "name": "stdout"
        },
        {
          "output_type": "display_data",
          "data": {
            "image/png": "[encoded data removed]",
            "text/plain": [
              "<Figure size 432x288 with 1 Axes>"
            ]
          },
          "metadata": {
            "tags": [],
            "needs_background": "light"
          }
        }
      ]
    },
    {
      "cell_type": "markdown",
      "metadata": {
        "id": "mWJuMoswQJCC"
      },
      "source": [
        "<h3><b> Model Save and Metrics</b></h3> "
      ]
    },
    {
      "cell_type": "code",
      "metadata": {
        "id": "hEKW1SM5KfGz",
        "outputId": "ff1146b0-cc88-4067-88f0-7535bbc4f4bf",
        "colab": {
          "base_uri": "https://localhost:8080/",
          "height": 68
        }
      },
      "source": [
        "model1 = Model()\n",
        "model1.load_weights(\"./vgg16_SGD_OnlyDropout.h5\")\n",
        "learning_rate = 0.001\n",
        "batch_size = 128\n",
        "lr_decay = 1e-6\n",
        "\n",
        "#optimization details\n",
        "sgd = optimizers.SGD(lr=learning_rate, decay=lr_decay, momentum=0.9, nesterov=True)\n",
        "model1.compile(loss='categorical_crossentropy', optimizer=sgd,metrics=['accuracy'])\n",
        "\n",
        "# Test the model\n",
        "model.predict(X_test).argmax(-1)\n",
        "\n",
        "y_true = y_test.argmax(-1)\n",
        "y_pred = model.predict(X_test).argmax(-1)\n",
        "# generate confusion matrix\n",
        "from sklearn.metrics import confusion_matrix, precision_score, recall_score, accuracy_score\n",
        "confusion_matrix(y_true, y_pred)\n",
        "# calculate prec, recall, accuracy\n",
        "print(\"Prec: \"+ str(precision_score(y_true, y_pred, average='weighted')))\n",
        "print(\"Recall: \"+ str(recall_score(y_true, y_pred, average='weighted')))\n",
        "print(\"Accuracy: \" + str(accuracy_score(y_true, y_pred)))"
      ],
      "execution_count": 15,
      "outputs": [
        {
          "output_type": "stream",
          "text": [
            "Prec: 0.27190018447592956\n",
            "Recall: 0.2708\n",
            "Accuracy: 0.2708\n"
          ],
          "name": "stdout"
        }
      ]
    },
    {
      "cell_type": "markdown",
      "metadata": {
        "id": "dFDFRH7ON583"
      },
      "source": [
        "<h3><b> References</b></h3>"
      ]
    },
    {
      "cell_type": "code",
      "metadata": {
        "id": "XmygfOQPN-cS"
      },
      "source": [
        "#https://towardsdatascience.com/step-by-step-vgg16-implementation-in-keras-for-beginners-a833c686ae6c\n",
        "#https://github.com/geifmany/cifar-vgg/blob/master/cifar100vgg.py"
      ],
      "execution_count": 16,
      "outputs": []
    }
  ]
}
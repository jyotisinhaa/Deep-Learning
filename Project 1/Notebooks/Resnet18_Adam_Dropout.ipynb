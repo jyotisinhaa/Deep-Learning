{
  "nbformat": 4,
  "nbformat_minor": 0,
  "metadata": {
    "colab": {
      "name": "Resnet18_Adam_Dropout.ipynb",
      "provenance": [],
      "collapsed_sections": []
    },
    "kernelspec": {
      "name": "python3",
      "display_name": "Python 3"
    },
    "accelerator": "GPU"
  },
  "cells": [
    {
      "cell_type": "markdown",
      "metadata": {
        "id": "5WiVrJVyY2Sb"
      },
      "source": [
        "<h3><b>Importing Library</b></h3>"
      ]
    },
    {
      "cell_type": "code",
      "metadata": {
        "id": "vSlMQb_B7lG5"
      },
      "source": [
        "#Importing Library\n",
        "import os\n",
        "os.environ['CUDA_VISIBLE_DEVICES'] = '0'\n",
        "import keras\n",
        "import numpy as np\n",
        "import cv2\n",
        "from keras import optimizers\n",
        "from __future__ import print_function\n",
        "from keras.datasets import cifar100\n",
        "from keras.preprocessing.image import ImageDataGenerator\n",
        "from keras.utils import np_utils\n",
        "from keras.callbacks import ReduceLROnPlateau, CSVLogger, EarlyStopping\n",
        "from keras import layers\n",
        "from keras.layers import Input, Add, Dense, Activation, ZeroPadding2D, BatchNormalization, Flatten, Conv2D, AveragePooling2D, MaxPooling2D\n",
        "from keras.layers import Dense, Dropout, Activation, Flatten\n",
        "from keras.models import Model, load_model\n",
        "from keras.initializers import glorot_uniform\n",
        "from keras.utils import plot_model\n",
        "from IPython.display import SVG\n",
        "from keras.utils.vis_utils import model_to_dot\n",
        "import keras.backend as K\n",
        "import tensorflow as tf\n",
        "from keras.utils import to_categorical"
      ],
      "execution_count": 1,
      "outputs": []
    },
    {
      "cell_type": "markdown",
      "metadata": {
        "id": "iCnGduLhZTG3"
      },
      "source": [
        "<h3><b>Importing Dataset</b></h3>"
      ]
    },
    {
      "cell_type": "code",
      "metadata": {
        "id": "7VPRIRnD7lMi",
        "outputId": "1f643114-1f37-44b5-ff0e-d18e2cf5d4dc",
        "colab": {
          "base_uri": "https://localhost:8080/",
          "height": 139
        }
      },
      "source": [
        "CLASSES = 100\n",
        "(X_train, y_train), (X_test, y_test) = cifar100.load_data()\n",
        "print(X_train.shape)\n",
        "print(X_test.shape)\n",
        "print(y_train.shape)\n",
        "print(y_test.shape)"
      ],
      "execution_count": 2,
      "outputs": [
        {
          "output_type": "stream",
          "text": [
            "Downloading data from https://www.cs.toronto.edu/~kriz/cifar-100-python.tar.gz\n",
            "169009152/169001437 [==============================] - 6s 0us/step\n",
            "(50000, 32, 32, 3)\n",
            "(10000, 32, 32, 3)\n",
            "(50000, 1)\n",
            "(10000, 1)\n"
          ],
          "name": "stdout"
        }
      ]
    },
    {
      "cell_type": "markdown",
      "metadata": {
        "id": "ZLKwqg4IZrig"
      },
      "source": [
        "<h3><b>Preprocessing of the Dataset</b></h3>"
      ]
    },
    {
      "cell_type": "code",
      "metadata": {
        "id": "K_e4QeNLZ0Lz"
      },
      "source": [
        "#Normalize the Dataset\n",
        "X_train = X_train/255\n",
        "X_test = X_test/255"
      ],
      "execution_count": 3,
      "outputs": []
    },
    {
      "cell_type": "code",
      "metadata": {
        "id": "qSgPRi0naBFo"
      },
      "source": [
        "#Converting the testing and training dataset into float\n",
        "X_train = X_train.astype('float32')\n",
        "X_test = X_test.astype('float32')\n"
      ],
      "execution_count": 4,
      "outputs": []
    },
    {
      "cell_type": "code",
      "metadata": {
        "id": "j_M02wQCZnl9",
        "outputId": "23d570ef-5a07-4a0c-91f8-20ccbf2c4808",
        "colab": {
          "base_uri": "https://localhost:8080/",
          "height": 34
        }
      },
      "source": [
        "# Convert training and the test labels to one hot matrices\n",
        "y_train = keras.utils.to_categorical(y_train, 100)\n",
        "y_test = keras.utils.to_categorical(y_test, 100)\n",
        "print(y_train.shape)"
      ],
      "execution_count": 5,
      "outputs": [
        {
          "output_type": "stream",
          "text": [
            "(50000, 100)\n"
          ],
          "name": "stdout"
        }
      ]
    },
    {
      "cell_type": "markdown",
      "metadata": {
        "id": "zeEcDgKllrIb"
      },
      "source": [
        "<h3><b>Model Architecture</b></h3>"
      ]
    },
    {
      "cell_type": "markdown",
      "metadata": {
        "id": "PY2izFq8lzRa"
      },
      "source": [
        "<h4><b> Identity Block</b><h4>"
      ]
    },
    {
      "cell_type": "code",
      "metadata": {
        "id": "74hKxFh-7lP4"
      },
      "source": [
        "def identity_block(X, f, filters, stage, block):\n",
        "    # defining name basis\n",
        "    conv_name_base = 'res' + str(stage) + block + '_branch'\n",
        "    bn_name_base = 'bn' + str(stage) + block + '_branch'\n",
        "\n",
        "    # Retrieve Filters\n",
        "    F1, F2 = filters\n",
        "\n",
        "    # Save the input value. We'll need this later to add back to the main path. \n",
        "    X_shortcut = X\n",
        "\n",
        "    # First component of main path\n",
        "    X = Conv2D(filters = F1, kernel_size = (1, 1), strides = (1,1), padding = 'same', name = conv_name_base + '2a')(X)\n",
        "    # X = BatchNormalization(axis = 3, name = bn_name_base + '2a')(X)\n",
        "    X = Activation('elu')(X)\n",
        "\n",
        "    # Second component of main path\n",
        "    X = Conv2D(filters = F2, kernel_size = (f, f), strides = (1,1), padding = 'same', name = conv_name_base + '2b')(X)\n",
        "    # X = BatchNormalization(axis = 3, name = bn_name_base + '2b')(X)\n",
        "    X = Activation('elu')(X)\n",
        "\n",
        "\n",
        "    # Final step: Add shortcut value to main path, and pass it through a ELU activation\n",
        "    X = Add()([X, X_shortcut])\n",
        "    X = Activation('elu')(X)\n",
        "\n",
        "    return X"
      ],
      "execution_count": 6,
      "outputs": []
    },
    {
      "cell_type": "markdown",
      "metadata": {
        "id": "TXzaP_DUr_jN"
      },
      "source": [
        "<h4><b>Convolutional Block</b></h4>"
      ]
    },
    {
      "cell_type": "code",
      "metadata": {
        "id": "BY1RYdMz7lJ5"
      },
      "source": [
        "def convolutional_block(X, f, filters, stage, block, s = 2):\n",
        "    # defining name basis\n",
        "    conv_name_base = 'res' + str(stage) + block + '_branch'\n",
        "    bn_name_base = 'bn' + str(stage) + block + '_branch'\n",
        "    \n",
        "    # Retrieve Filters\n",
        "    F1, F2= filters\n",
        "    \n",
        "    # Save the input value\n",
        "    X_shortcut = X\n",
        "\n",
        "\n",
        "    ##### MAIN PATH #####\n",
        "    # First component of main path \n",
        "    X = Conv2D(F1, (1, 1), strides = (s,s), name = conv_name_base + '2a',padding=\"same\")(X)\n",
        "    # X = BatchNormalization(axis = 3, name = bn_name_base + '2a')(X)\n",
        "    X = Activation('elu')(X)\n",
        "\n",
        "    # Second component of main path\n",
        "    X = Conv2D(filters=F2, kernel_size=(f, f), strides=(1, 1), padding='same', name=conv_name_base + '2b')(X)\n",
        "    # X = BatchNormalization(axis=3, name=bn_name_base + '2b')(X)\n",
        "    X = Activation('elu')(X)\n",
        "\n",
        "    \n",
        "    ##### SHORTCUT PATH ####\n",
        "    X_shortcut = Conv2D(F2, (1, 1), strides = (s,s), name = conv_name_base + '1',padding = 'same')(X_shortcut)\n",
        "    # X_shortcut = BatchNormalization(axis = 3, name = bn_name_base + '1')(X_shortcut)\n",
        "\n",
        "    # Final step: Add shortcut value to main path, and pass it through a ELU activation\n",
        "    X = Add()([X, X_shortcut])\n",
        "    X = Activation('elu')(X)\n",
        "    \n",
        "    return X"
      ],
      "execution_count": 7,
      "outputs": []
    },
    {
      "cell_type": "markdown",
      "metadata": {
        "id": "-f7v9hH0sHNh"
      },
      "source": [
        "<h4><b>Resnet Block</b></h4>"
      ]
    },
    {
      "cell_type": "code",
      "metadata": {
        "id": "1YcF0hx6-1WO"
      },
      "source": [
        "def ResNet18(input_shape = (32, 32, 3), classes = 100):   \n",
        "    # Define the input as a tensor with shape input_shape\n",
        "    X_input = Input(input_shape)\n",
        "\n",
        "    # Zero-Padding\n",
        "    X = ZeroPadding2D((3, 3))(X_input)\n",
        "    \n",
        "    # Stage 1\n",
        "    X = Conv2D(64, (7, 7),padding = \"same\" ,strides = (2, 2), name = 'conv1')(X)\n",
        "    # X = BatchNormalization(axis = 3, name = 'bn_conv1')(X)\n",
        "    X = Activation('elu')(X)\n",
        "    X = MaxPooling2D((3, 3), strides=(2, 2))(X)\n",
        "\n",
        "    # Stage 2\n",
        "    X = convolutional_block(X, f = 3, filters = [64, 64], stage = 2, block='a', s = 1)\n",
        "    X = identity_block(X, 3, [64, 64], stage=2, block='b')\n",
        "\n",
        "    # Stage 3\n",
        "    X = convolutional_block(X, f = 3, filters = [128, 128], stage = 3, block='a', s = 2)\n",
        "    X = identity_block(X, 3, [128, 128], stage=3, block='b')\n",
        "   \n",
        "    # Stage 4\n",
        "    X = convolutional_block(X, f = 3, filters = [256, 256], stage = 4, block='a', s = 2)\n",
        "    X = identity_block(X, 3, [256, 256], stage=4, block='b')\n",
        "  \n",
        "    # Stage 5\n",
        "    X = convolutional_block(X, f = 3, filters = [512, 512], stage = 5, block='a', s = 2)\n",
        "    X = identity_block(X, 3, [512, 512], stage=5, block='b')\n",
        "\n",
        "    # AVGPOOL.\n",
        "    X = AveragePooling2D((2, 2), name='avg_pool')(X)\n",
        "\n",
        "    # output layer\n",
        "    X = Flatten()(X)\n",
        "    X = Dense(classes, activation='softmax', name='fc' + str(classes))(X)\n",
        "    X = Dropout(0.5)(X)\n",
        "    \n",
        "    # Create model\n",
        "    model = Model(inputs = X_input, outputs = X, name='ResNet50')\n",
        "\n",
        "    return model"
      ],
      "execution_count": 8,
      "outputs": []
    },
    {
      "cell_type": "markdown",
      "metadata": {
        "id": "On9gMROMsWcq"
      },
      "source": [
        "<h4><b>Compile the Model</b></h3>"
      ]
    },
    {
      "cell_type": "code",
      "metadata": {
        "id": "D_9wK8Dk-9y9"
      },
      "source": [
        "model = ResNet18(input_shape = (32, 32, 3), classes = CLASSES)"
      ],
      "execution_count": 9,
      "outputs": []
    },
    {
      "cell_type": "code",
      "metadata": {
        "id": "SDGBDWUO_Crk"
      },
      "source": [
        "\n",
        "learning_rate = 0.00001\n",
        "batch_size = 128\n",
        "lr_decay = 1e-6\n",
        "#optimization details\n",
        "opt = optimizers.Adam(lr=learning_rate)\n",
        "model.compile(loss='categorical_crossentropy', optimizer=opt,metrics=['accuracy'])"
      ],
      "execution_count": 10,
      "outputs": []
    },
    {
      "cell_type": "markdown",
      "metadata": {
        "id": "6JO7vIbBumOv"
      },
      "source": [
        "<h3><b>Model Checkpoint and Early Stopping</b></h3>"
      ]
    },
    {
      "cell_type": "code",
      "metadata": {
        "id": "tgkRQWheuc5v",
        "outputId": "85ac954a-375f-47bb-d7a5-656d79a6fe98",
        "colab": {
          "base_uri": "https://localhost:8080/",
          "height": 54
        }
      },
      "source": [
        "# Create Checkpoint and Early Stopping\n",
        "from keras.callbacks import ModelCheckpoint, EarlyStopping\n",
        "checkpoint = ModelCheckpoint(\"Resnet18_Adam_Dropout.h5\", monitor='val_loss', verbose=1, save_best_only=True, save_weights_only=True, mode='auto', period=1)\n",
        "early = EarlyStopping(monitor='val_loss', min_delta=0, patience=5, verbose=1, mode='auto')"
      ],
      "execution_count": 11,
      "outputs": [
        {
          "output_type": "stream",
          "text": [
            "WARNING:tensorflow:`period` argument is deprecated. Please use `save_freq` to specify the frequency in number of batches seen.\n"
          ],
          "name": "stdout"
        }
      ]
    },
    {
      "cell_type": "markdown",
      "metadata": {
        "id": "jz3DnuLesh8y"
      },
      "source": [
        "<h3><b> Train the Model </b></h3>"
      ]
    },
    {
      "cell_type": "code",
      "metadata": {
        "id": "NthfpJ2Kx2Y_",
        "outputId": "b46ea968-e12e-4155-ce41-3c1ccd1b042b",
        "colab": {
          "base_uri": "https://localhost:8080/",
          "height": 1000
        }
      },
      "source": [
        "batch_size = 128\n",
        "history = model.fit(X_train, y_train ,validation_data=(X_test, y_test), epochs=100,callbacks=[checkpoint,early])"
      ],
      "execution_count": 12,
      "outputs": [
        {
          "output_type": "stream",
          "text": [
            "Epoch 1/100\n",
            "1563/1563 [==============================] - ETA: 0s - loss: 9.7767 - accuracy: 0.0548\n",
            "Epoch 00001: val_loss improved from inf to 3.89590, saving model to Resnet18_Adam_Dropout.h5\n",
            "1563/1563 [==============================] - 20s 13ms/step - loss: 9.7767 - accuracy: 0.0548 - val_loss: 3.8959 - val_accuracy: 0.1093\n",
            "Epoch 2/100\n",
            "1561/1563 [============================>.] - ETA: 0s - loss: 9.5501 - accuracy: 0.1032\n",
            "Epoch 00002: val_loss improved from 3.89590 to 3.57341, saving model to Resnet18_Adam_Dropout.h5\n",
            "1563/1563 [==============================] - 20s 13ms/step - loss: 9.5515 - accuracy: 0.1032 - val_loss: 3.5734 - val_accuracy: 0.1619\n",
            "Epoch 3/100\n",
            "1562/1563 [============================>.] - ETA: 0s - loss: 9.4179 - accuracy: 0.1290\n",
            "Epoch 00003: val_loss improved from 3.57341 to 3.42563, saving model to Resnet18_Adam_Dropout.h5\n",
            "1563/1563 [==============================] - 20s 13ms/step - loss: 9.4186 - accuracy: 0.1290 - val_loss: 3.4256 - val_accuracy: 0.1879\n",
            "Epoch 4/100\n",
            "1563/1563 [==============================] - ETA: 0s - loss: 9.4167 - accuracy: 0.1355\n",
            "Epoch 00004: val_loss improved from 3.42563 to 3.34830, saving model to Resnet18_Adam_Dropout.h5\n",
            "1563/1563 [==============================] - 20s 13ms/step - loss: 9.4167 - accuracy: 0.1355 - val_loss: 3.3483 - val_accuracy: 0.2022\n",
            "Epoch 5/100\n",
            "1563/1563 [==============================] - ETA: 0s - loss: 9.3703 - accuracy: 0.1444\n",
            "Epoch 00005: val_loss improved from 3.34830 to 3.28731, saving model to Resnet18_Adam_Dropout.h5\n",
            "1563/1563 [==============================] - 20s 13ms/step - loss: 9.3703 - accuracy: 0.1444 - val_loss: 3.2873 - val_accuracy: 0.2112\n",
            "Epoch 6/100\n",
            "1563/1563 [==============================] - ETA: 0s - loss: 9.3308 - accuracy: 0.1539\n",
            "Epoch 00006: val_loss improved from 3.28731 to 3.25223, saving model to Resnet18_Adam_Dropout.h5\n",
            "1563/1563 [==============================] - 20s 13ms/step - loss: 9.3308 - accuracy: 0.1539 - val_loss: 3.2522 - val_accuracy: 0.2197\n",
            "Epoch 7/100\n",
            "1563/1563 [==============================] - ETA: 0s - loss: 9.3196 - accuracy: 0.1589\n",
            "Epoch 00007: val_loss improved from 3.25223 to 3.16880, saving model to Resnet18_Adam_Dropout.h5\n",
            "1563/1563 [==============================] - 20s 13ms/step - loss: 9.3196 - accuracy: 0.1589 - val_loss: 3.1688 - val_accuracy: 0.2335\n",
            "Epoch 8/100\n",
            "1560/1563 [============================>.] - ETA: 0s - loss: 9.3410 - accuracy: 0.1648\n",
            "Epoch 00008: val_loss improved from 3.16880 to 3.11748, saving model to Resnet18_Adam_Dropout.h5\n",
            "1563/1563 [==============================] - 20s 13ms/step - loss: 9.3400 - accuracy: 0.1649 - val_loss: 3.1175 - val_accuracy: 0.2477\n",
            "Epoch 9/100\n",
            "1561/1563 [============================>.] - ETA: 0s - loss: 9.2488 - accuracy: 0.1743\n",
            "Epoch 00009: val_loss improved from 3.11748 to 3.05916, saving model to Resnet18_Adam_Dropout.h5\n",
            "1563/1563 [==============================] - 20s 13ms/step - loss: 9.2493 - accuracy: 0.1744 - val_loss: 3.0592 - val_accuracy: 0.2555\n",
            "Epoch 10/100\n",
            "1560/1563 [============================>.] - ETA: 0s - loss: 9.2610 - accuracy: 0.1759\n",
            "Epoch 00010: val_loss improved from 3.05916 to 3.00258, saving model to Resnet18_Adam_Dropout.h5\n",
            "1563/1563 [==============================] - 20s 13ms/step - loss: 9.2592 - accuracy: 0.1759 - val_loss: 3.0026 - val_accuracy: 0.2647\n",
            "Epoch 11/100\n",
            "1563/1563 [==============================] - ETA: 0s - loss: 9.1876 - accuracy: 0.1838\n",
            "Epoch 00011: val_loss improved from 3.00258 to 2.96661, saving model to Resnet18_Adam_Dropout.h5\n",
            "1563/1563 [==============================] - 20s 12ms/step - loss: 9.1876 - accuracy: 0.1838 - val_loss: 2.9666 - val_accuracy: 0.2706\n",
            "Epoch 12/100\n",
            "1559/1563 [============================>.] - ETA: 0s - loss: 9.1890 - accuracy: 0.1892\n",
            "Epoch 00012: val_loss improved from 2.96661 to 2.92310, saving model to Resnet18_Adam_Dropout.h5\n",
            "1563/1563 [==============================] - 19s 12ms/step - loss: 9.1901 - accuracy: 0.1892 - val_loss: 2.9231 - val_accuracy: 0.2757\n",
            "Epoch 13/100\n",
            "1562/1563 [============================>.] - ETA: 0s - loss: 9.1726 - accuracy: 0.1954\n",
            "Epoch 00013: val_loss improved from 2.92310 to 2.89104, saving model to Resnet18_Adam_Dropout.h5\n",
            "1563/1563 [==============================] - 19s 12ms/step - loss: 9.1727 - accuracy: 0.1954 - val_loss: 2.8910 - val_accuracy: 0.2841\n",
            "Epoch 14/100\n",
            "1561/1563 [============================>.] - ETA: 0s - loss: 9.1808 - accuracy: 0.1977\n",
            "Epoch 00014: val_loss improved from 2.89104 to 2.88171, saving model to Resnet18_Adam_Dropout.h5\n",
            "1563/1563 [==============================] - 20s 13ms/step - loss: 9.1788 - accuracy: 0.1978 - val_loss: 2.8817 - val_accuracy: 0.2897\n",
            "Epoch 15/100\n",
            "1560/1563 [============================>.] - ETA: 0s - loss: 9.1454 - accuracy: 0.2031\n",
            "Epoch 00015: val_loss improved from 2.88171 to 2.82309, saving model to Resnet18_Adam_Dropout.h5\n",
            "1563/1563 [==============================] - 20s 13ms/step - loss: 9.1450 - accuracy: 0.2030 - val_loss: 2.8231 - val_accuracy: 0.2996\n",
            "Epoch 16/100\n",
            "1560/1563 [============================>.] - ETA: 0s - loss: 9.0994 - accuracy: 0.2093\n",
            "Epoch 00016: val_loss improved from 2.82309 to 2.79150, saving model to Resnet18_Adam_Dropout.h5\n",
            "1563/1563 [==============================] - 20s 13ms/step - loss: 9.1018 - accuracy: 0.2093 - val_loss: 2.7915 - val_accuracy: 0.3030\n",
            "Epoch 17/100\n",
            "1559/1563 [============================>.] - ETA: 0s - loss: 9.0645 - accuracy: 0.2140\n",
            "Epoch 00017: val_loss improved from 2.79150 to 2.78092, saving model to Resnet18_Adam_Dropout.h5\n",
            "1563/1563 [==============================] - 20s 13ms/step - loss: 9.0640 - accuracy: 0.2140 - val_loss: 2.7809 - val_accuracy: 0.3049\n",
            "Epoch 18/100\n",
            "1560/1563 [============================>.] - ETA: 0s - loss: 9.0686 - accuracy: 0.2163\n",
            "Epoch 00018: val_loss improved from 2.78092 to 2.74413, saving model to Resnet18_Adam_Dropout.h5\n",
            "1563/1563 [==============================] - 20s 13ms/step - loss: 9.0707 - accuracy: 0.2161 - val_loss: 2.7441 - val_accuracy: 0.3167\n",
            "Epoch 19/100\n",
            "1562/1563 [============================>.] - ETA: 0s - loss: 9.0758 - accuracy: 0.2221\n",
            "Epoch 00019: val_loss improved from 2.74413 to 2.74178, saving model to Resnet18_Adam_Dropout.h5\n",
            "1563/1563 [==============================] - 20s 12ms/step - loss: 9.0757 - accuracy: 0.2221 - val_loss: 2.7418 - val_accuracy: 0.3165\n",
            "Epoch 20/100\n",
            "1562/1563 [============================>.] - ETA: 0s - loss: 9.1523 - accuracy: 0.2209\n",
            "Epoch 00020: val_loss improved from 2.74178 to 2.71365, saving model to Resnet18_Adam_Dropout.h5\n",
            "1563/1563 [==============================] - 20s 12ms/step - loss: 9.1526 - accuracy: 0.2209 - val_loss: 2.7136 - val_accuracy: 0.3226\n",
            "Epoch 21/100\n",
            "1561/1563 [============================>.] - ETA: 0s - loss: 9.0241 - accuracy: 0.2287\n",
            "Epoch 00021: val_loss improved from 2.71365 to 2.69987, saving model to Resnet18_Adam_Dropout.h5\n",
            "1563/1563 [==============================] - 20s 13ms/step - loss: 9.0234 - accuracy: 0.2287 - val_loss: 2.6999 - val_accuracy: 0.3227\n",
            "Epoch 22/100\n",
            "1559/1563 [============================>.] - ETA: 0s - loss: 9.0228 - accuracy: 0.2301\n",
            "Epoch 00022: val_loss improved from 2.69987 to 2.67674, saving model to Resnet18_Adam_Dropout.h5\n",
            "1563/1563 [==============================] - 20s 13ms/step - loss: 9.0217 - accuracy: 0.2302 - val_loss: 2.6767 - val_accuracy: 0.3297\n",
            "Epoch 23/100\n",
            "1559/1563 [============================>.] - ETA: 0s - loss: 9.0889 - accuracy: 0.2319\n",
            "Epoch 00023: val_loss improved from 2.67674 to 2.66033, saving model to Resnet18_Adam_Dropout.h5\n",
            "1563/1563 [==============================] - 20s 13ms/step - loss: 9.0900 - accuracy: 0.2318 - val_loss: 2.6603 - val_accuracy: 0.3351\n",
            "Epoch 24/100\n",
            "1560/1563 [============================>.] - ETA: 0s - loss: 8.9415 - accuracy: 0.2390\n",
            "Epoch 00024: val_loss did not improve from 2.66033\n",
            "1563/1563 [==============================] - 20s 13ms/step - loss: 8.9401 - accuracy: 0.2390 - val_loss: 2.6608 - val_accuracy: 0.3297\n",
            "Epoch 25/100\n",
            "1559/1563 [============================>.] - ETA: 0s - loss: 8.9380 - accuracy: 0.2433\n",
            "Epoch 00025: val_loss improved from 2.66033 to 2.62289, saving model to Resnet18_Adam_Dropout.h5\n",
            "1563/1563 [==============================] - 20s 13ms/step - loss: 8.9380 - accuracy: 0.2433 - val_loss: 2.6229 - val_accuracy: 0.3412\n",
            "Epoch 26/100\n",
            "1560/1563 [============================>.] - ETA: 0s - loss: 8.9552 - accuracy: 0.2448\n",
            "Epoch 00026: val_loss did not improve from 2.62289\n",
            "1563/1563 [==============================] - 20s 13ms/step - loss: 8.9552 - accuracy: 0.2447 - val_loss: 2.6413 - val_accuracy: 0.3430\n",
            "Epoch 27/100\n",
            "1562/1563 [============================>.] - ETA: 0s - loss: 8.9393 - accuracy: 0.2481\n",
            "Epoch 00027: val_loss improved from 2.62289 to 2.58070, saving model to Resnet18_Adam_Dropout.h5\n",
            "1563/1563 [==============================] - 20s 13ms/step - loss: 8.9395 - accuracy: 0.2481 - val_loss: 2.5807 - val_accuracy: 0.3577\n",
            "Epoch 28/100\n",
            "1562/1563 [============================>.] - ETA: 0s - loss: 8.9814 - accuracy: 0.2463\n",
            "Epoch 00028: val_loss improved from 2.58070 to 2.57495, saving model to Resnet18_Adam_Dropout.h5\n",
            "1563/1563 [==============================] - 20s 13ms/step - loss: 8.9817 - accuracy: 0.2463 - val_loss: 2.5750 - val_accuracy: 0.3508\n",
            "Epoch 29/100\n",
            "1563/1563 [==============================] - ETA: 0s - loss: 8.9040 - accuracy: 0.2531\n",
            "Epoch 00029: val_loss improved from 2.57495 to 2.55739, saving model to Resnet18_Adam_Dropout.h5\n",
            "1563/1563 [==============================] - 20s 13ms/step - loss: 8.9040 - accuracy: 0.2531 - val_loss: 2.5574 - val_accuracy: 0.3612\n",
            "Epoch 30/100\n",
            "1561/1563 [============================>.] - ETA: 0s - loss: 8.9153 - accuracy: 0.2556\n",
            "Epoch 00030: val_loss did not improve from 2.55739\n",
            "1563/1563 [==============================] - 20s 13ms/step - loss: 8.9143 - accuracy: 0.2557 - val_loss: 2.5716 - val_accuracy: 0.3566\n",
            "Epoch 31/100\n",
            "1560/1563 [============================>.] - ETA: 0s - loss: 8.9027 - accuracy: 0.2605\n",
            "Epoch 00031: val_loss did not improve from 2.55739\n",
            "1563/1563 [==============================] - 20s 13ms/step - loss: 8.8986 - accuracy: 0.2606 - val_loss: 2.5855 - val_accuracy: 0.3551\n",
            "Epoch 32/100\n",
            "1560/1563 [============================>.] - ETA: 0s - loss: 8.9081 - accuracy: 0.2631\n",
            "Epoch 00032: val_loss improved from 2.55739 to 2.53444, saving model to Resnet18_Adam_Dropout.h5\n",
            "1563/1563 [==============================] - 20s 13ms/step - loss: 8.9070 - accuracy: 0.2631 - val_loss: 2.5344 - val_accuracy: 0.3655\n",
            "Epoch 33/100\n",
            "1559/1563 [============================>.] - ETA: 0s - loss: 8.8813 - accuracy: 0.2664\n",
            "Epoch 00033: val_loss improved from 2.53444 to 2.53320, saving model to Resnet18_Adam_Dropout.h5\n",
            "1563/1563 [==============================] - 20s 13ms/step - loss: 8.8793 - accuracy: 0.2665 - val_loss: 2.5332 - val_accuracy: 0.3652\n",
            "Epoch 34/100\n",
            "1559/1563 [============================>.] - ETA: 0s - loss: 8.8614 - accuracy: 0.2686\n",
            "Epoch 00034: val_loss did not improve from 2.53320\n",
            "1563/1563 [==============================] - 20s 13ms/step - loss: 8.8626 - accuracy: 0.2685 - val_loss: 2.5462 - val_accuracy: 0.3657\n",
            "Epoch 35/100\n",
            "1561/1563 [============================>.] - ETA: 0s - loss: 8.8606 - accuracy: 0.2734\n",
            "Epoch 00035: val_loss improved from 2.53320 to 2.50937, saving model to Resnet18_Adam_Dropout.h5\n",
            "1563/1563 [==============================] - 20s 13ms/step - loss: 8.8604 - accuracy: 0.2734 - val_loss: 2.5094 - val_accuracy: 0.3751\n",
            "Epoch 36/100\n",
            "1562/1563 [============================>.] - ETA: 0s - loss: 8.8219 - accuracy: 0.2767\n",
            "Epoch 00036: val_loss did not improve from 2.50937\n",
            "1563/1563 [==============================] - 20s 13ms/step - loss: 8.8222 - accuracy: 0.2767 - val_loss: 2.5310 - val_accuracy: 0.3699\n",
            "Epoch 37/100\n",
            "1561/1563 [============================>.] - ETA: 0s - loss: 8.8355 - accuracy: 0.2803\n",
            "Epoch 00037: val_loss improved from 2.50937 to 2.49971, saving model to Resnet18_Adam_Dropout.h5\n",
            "1563/1563 [==============================] - 20s 13ms/step - loss: 8.8344 - accuracy: 0.2803 - val_loss: 2.4997 - val_accuracy: 0.3761\n",
            "Epoch 38/100\n",
            "1560/1563 [============================>.] - ETA: 0s - loss: 8.8468 - accuracy: 0.2795\n",
            "Epoch 00038: val_loss improved from 2.49971 to 2.49327, saving model to Resnet18_Adam_Dropout.h5\n",
            "1563/1563 [==============================] - 20s 13ms/step - loss: 8.8449 - accuracy: 0.2796 - val_loss: 2.4933 - val_accuracy: 0.3814\n",
            "Epoch 39/100\n",
            "1559/1563 [============================>.] - ETA: 0s - loss: 8.8061 - accuracy: 0.2851\n",
            "Epoch 00039: val_loss improved from 2.49327 to 2.48866, saving model to Resnet18_Adam_Dropout.h5\n",
            "1563/1563 [==============================] - 20s 13ms/step - loss: 8.8051 - accuracy: 0.2852 - val_loss: 2.4887 - val_accuracy: 0.3784\n",
            "Epoch 40/100\n",
            "1560/1563 [============================>.] - ETA: 0s - loss: 8.7367 - accuracy: 0.2927\n",
            "Epoch 00040: val_loss did not improve from 2.48866\n",
            "1563/1563 [==============================] - 20s 13ms/step - loss: 8.7367 - accuracy: 0.2927 - val_loss: 2.5058 - val_accuracy: 0.3790\n",
            "Epoch 41/100\n",
            "1560/1563 [============================>.] - ETA: 0s - loss: 8.7389 - accuracy: 0.2912\n",
            "Epoch 00041: val_loss improved from 2.48866 to 2.48612, saving model to Resnet18_Adam_Dropout.h5\n",
            "1563/1563 [==============================] - 20s 13ms/step - loss: 8.7384 - accuracy: 0.2912 - val_loss: 2.4861 - val_accuracy: 0.3808\n",
            "Epoch 42/100\n",
            "1563/1563 [==============================] - ETA: 0s - loss: 8.7513 - accuracy: 0.2952\n",
            "Epoch 00042: val_loss did not improve from 2.48612\n",
            "1563/1563 [==============================] - 20s 13ms/step - loss: 8.7513 - accuracy: 0.2952 - val_loss: 2.4875 - val_accuracy: 0.3812\n",
            "Epoch 43/100\n",
            "1559/1563 [============================>.] - ETA: 0s - loss: 8.7008 - accuracy: 0.3015\n",
            "Epoch 00043: val_loss improved from 2.48612 to 2.47070, saving model to Resnet18_Adam_Dropout.h5\n",
            "1563/1563 [==============================] - 20s 13ms/step - loss: 8.7002 - accuracy: 0.3015 - val_loss: 2.4707 - val_accuracy: 0.3883\n",
            "Epoch 44/100\n",
            "1560/1563 [============================>.] - ETA: 0s - loss: 8.7726 - accuracy: 0.2997\n",
            "Epoch 00044: val_loss improved from 2.47070 to 2.46749, saving model to Resnet18_Adam_Dropout.h5\n",
            "1563/1563 [==============================] - 20s 13ms/step - loss: 8.7714 - accuracy: 0.2997 - val_loss: 2.4675 - val_accuracy: 0.3871\n",
            "Epoch 45/100\n",
            "1559/1563 [============================>.] - ETA: 0s - loss: 8.7234 - accuracy: 0.3063\n",
            "Epoch 00045: val_loss did not improve from 2.46749\n",
            "1563/1563 [==============================] - 20s 13ms/step - loss: 8.7215 - accuracy: 0.3064 - val_loss: 2.4905 - val_accuracy: 0.3852\n",
            "Epoch 46/100\n",
            "1560/1563 [============================>.] - ETA: 0s - loss: 8.6901 - accuracy: 0.3072\n",
            "Epoch 00046: val_loss did not improve from 2.46749\n",
            "1563/1563 [==============================] - 20s 13ms/step - loss: 8.6894 - accuracy: 0.3073 - val_loss: 2.4859 - val_accuracy: 0.3889\n",
            "Epoch 47/100\n",
            "1562/1563 [============================>.] - ETA: 0s - loss: 8.6885 - accuracy: 0.3111\n",
            "Epoch 00047: val_loss did not improve from 2.46749\n",
            "1563/1563 [==============================] - 20s 13ms/step - loss: 8.6890 - accuracy: 0.3110 - val_loss: 2.4902 - val_accuracy: 0.3872\n",
            "Epoch 48/100\n",
            "1559/1563 [============================>.] - ETA: 0s - loss: 8.6359 - accuracy: 0.3154\n",
            "Epoch 00048: val_loss did not improve from 2.46749\n",
            "1563/1563 [==============================] - 20s 13ms/step - loss: 8.6348 - accuracy: 0.3154 - val_loss: 2.4944 - val_accuracy: 0.3901\n",
            "Epoch 49/100\n",
            "1562/1563 [============================>.] - ETA: 0s - loss: 8.6431 - accuracy: 0.3202\n",
            "Epoch 00049: val_loss did not improve from 2.46749\n",
            "1563/1563 [==============================] - 20s 13ms/step - loss: 8.6427 - accuracy: 0.3203 - val_loss: 2.5089 - val_accuracy: 0.3849\n",
            "Epoch 00049: early stopping\n"
          ],
          "name": "stdout"
        }
      ]
    },
    {
      "cell_type": "code",
      "metadata": {
        "id": "ZFZtx_GhVydd",
        "outputId": "1b1fde0f-291d-4e18-885c-fd38bbabaff6",
        "colab": {
          "base_uri": "https://localhost:8080/",
          "height": 1000
        }
      },
      "source": [
        "model.summary()"
      ],
      "execution_count": 13,
      "outputs": [
        {
          "output_type": "stream",
          "text": [
            "Model: \"ResNet50\"\n",
            "__________________________________________________________________________________________________\n",
            "Layer (type)                    Output Shape         Param #     Connected to                     \n",
            "==================================================================================================\n",
            "input_1 (InputLayer)            [(None, 32, 32, 3)]  0                                            \n",
            "__________________________________________________________________________________________________\n",
            "zero_padding2d (ZeroPadding2D)  (None, 38, 38, 3)    0           input_1[0][0]                    \n",
            "__________________________________________________________________________________________________\n",
            "conv1 (Conv2D)                  (None, 19, 19, 64)   9472        zero_padding2d[0][0]             \n",
            "__________________________________________________________________________________________________\n",
            "activation (Activation)         (None, 19, 19, 64)   0           conv1[0][0]                      \n",
            "__________________________________________________________________________________________________\n",
            "max_pooling2d (MaxPooling2D)    (None, 9, 9, 64)     0           activation[0][0]                 \n",
            "__________________________________________________________________________________________________\n",
            "res2a_branch2a (Conv2D)         (None, 9, 9, 64)     4160        max_pooling2d[0][0]              \n",
            "__________________________________________________________________________________________________\n",
            "activation_1 (Activation)       (None, 9, 9, 64)     0           res2a_branch2a[0][0]             \n",
            "__________________________________________________________________________________________________\n",
            "res2a_branch2b (Conv2D)         (None, 9, 9, 64)     36928       activation_1[0][0]               \n",
            "__________________________________________________________________________________________________\n",
            "activation_2 (Activation)       (None, 9, 9, 64)     0           res2a_branch2b[0][0]             \n",
            "__________________________________________________________________________________________________\n",
            "res2a_branch1 (Conv2D)          (None, 9, 9, 64)     4160        max_pooling2d[0][0]              \n",
            "__________________________________________________________________________________________________\n",
            "add (Add)                       (None, 9, 9, 64)     0           activation_2[0][0]               \n",
            "                                                                 res2a_branch1[0][0]              \n",
            "__________________________________________________________________________________________________\n",
            "activation_3 (Activation)       (None, 9, 9, 64)     0           add[0][0]                        \n",
            "__________________________________________________________________________________________________\n",
            "res2b_branch2a (Conv2D)         (None, 9, 9, 64)     4160        activation_3[0][0]               \n",
            "__________________________________________________________________________________________________\n",
            "activation_4 (Activation)       (None, 9, 9, 64)     0           res2b_branch2a[0][0]             \n",
            "__________________________________________________________________________________________________\n",
            "res2b_branch2b (Conv2D)         (None, 9, 9, 64)     36928       activation_4[0][0]               \n",
            "__________________________________________________________________________________________________\n",
            "activation_5 (Activation)       (None, 9, 9, 64)     0           res2b_branch2b[0][0]             \n",
            "__________________________________________________________________________________________________\n",
            "add_1 (Add)                     (None, 9, 9, 64)     0           activation_5[0][0]               \n",
            "                                                                 activation_3[0][0]               \n",
            "__________________________________________________________________________________________________\n",
            "activation_6 (Activation)       (None, 9, 9, 64)     0           add_1[0][0]                      \n",
            "__________________________________________________________________________________________________\n",
            "res3a_branch2a (Conv2D)         (None, 5, 5, 128)    8320        activation_6[0][0]               \n",
            "__________________________________________________________________________________________________\n",
            "activation_7 (Activation)       (None, 5, 5, 128)    0           res3a_branch2a[0][0]             \n",
            "__________________________________________________________________________________________________\n",
            "res3a_branch2b (Conv2D)         (None, 5, 5, 128)    147584      activation_7[0][0]               \n",
            "__________________________________________________________________________________________________\n",
            "activation_8 (Activation)       (None, 5, 5, 128)    0           res3a_branch2b[0][0]             \n",
            "__________________________________________________________________________________________________\n",
            "res3a_branch1 (Conv2D)          (None, 5, 5, 128)    8320        activation_6[0][0]               \n",
            "__________________________________________________________________________________________________\n",
            "add_2 (Add)                     (None, 5, 5, 128)    0           activation_8[0][0]               \n",
            "                                                                 res3a_branch1[0][0]              \n",
            "__________________________________________________________________________________________________\n",
            "activation_9 (Activation)       (None, 5, 5, 128)    0           add_2[0][0]                      \n",
            "__________________________________________________________________________________________________\n",
            "res3b_branch2a (Conv2D)         (None, 5, 5, 128)    16512       activation_9[0][0]               \n",
            "__________________________________________________________________________________________________\n",
            "activation_10 (Activation)      (None, 5, 5, 128)    0           res3b_branch2a[0][0]             \n",
            "__________________________________________________________________________________________________\n",
            "res3b_branch2b (Conv2D)         (None, 5, 5, 128)    147584      activation_10[0][0]              \n",
            "__________________________________________________________________________________________________\n",
            "activation_11 (Activation)      (None, 5, 5, 128)    0           res3b_branch2b[0][0]             \n",
            "__________________________________________________________________________________________________\n",
            "add_3 (Add)                     (None, 5, 5, 128)    0           activation_11[0][0]              \n",
            "                                                                 activation_9[0][0]               \n",
            "__________________________________________________________________________________________________\n",
            "activation_12 (Activation)      (None, 5, 5, 128)    0           add_3[0][0]                      \n",
            "__________________________________________________________________________________________________\n",
            "res4a_branch2a (Conv2D)         (None, 3, 3, 256)    33024       activation_12[0][0]              \n",
            "__________________________________________________________________________________________________\n",
            "activation_13 (Activation)      (None, 3, 3, 256)    0           res4a_branch2a[0][0]             \n",
            "__________________________________________________________________________________________________\n",
            "res4a_branch2b (Conv2D)         (None, 3, 3, 256)    590080      activation_13[0][0]              \n",
            "__________________________________________________________________________________________________\n",
            "activation_14 (Activation)      (None, 3, 3, 256)    0           res4a_branch2b[0][0]             \n",
            "__________________________________________________________________________________________________\n",
            "res4a_branch1 (Conv2D)          (None, 3, 3, 256)    33024       activation_12[0][0]              \n",
            "__________________________________________________________________________________________________\n",
            "add_4 (Add)                     (None, 3, 3, 256)    0           activation_14[0][0]              \n",
            "                                                                 res4a_branch1[0][0]              \n",
            "__________________________________________________________________________________________________\n",
            "activation_15 (Activation)      (None, 3, 3, 256)    0           add_4[0][0]                      \n",
            "__________________________________________________________________________________________________\n",
            "res4b_branch2a (Conv2D)         (None, 3, 3, 256)    65792       activation_15[0][0]              \n",
            "__________________________________________________________________________________________________\n",
            "activation_16 (Activation)      (None, 3, 3, 256)    0           res4b_branch2a[0][0]             \n",
            "__________________________________________________________________________________________________\n",
            "res4b_branch2b (Conv2D)         (None, 3, 3, 256)    590080      activation_16[0][0]              \n",
            "__________________________________________________________________________________________________\n",
            "activation_17 (Activation)      (None, 3, 3, 256)    0           res4b_branch2b[0][0]             \n",
            "__________________________________________________________________________________________________\n",
            "add_5 (Add)                     (None, 3, 3, 256)    0           activation_17[0][0]              \n",
            "                                                                 activation_15[0][0]              \n",
            "__________________________________________________________________________________________________\n",
            "activation_18 (Activation)      (None, 3, 3, 256)    0           add_5[0][0]                      \n",
            "__________________________________________________________________________________________________\n",
            "res5a_branch2a (Conv2D)         (None, 2, 2, 512)    131584      activation_18[0][0]              \n",
            "__________________________________________________________________________________________________\n",
            "activation_19 (Activation)      (None, 2, 2, 512)    0           res5a_branch2a[0][0]             \n",
            "__________________________________________________________________________________________________\n",
            "res5a_branch2b (Conv2D)         (None, 2, 2, 512)    2359808     activation_19[0][0]              \n",
            "__________________________________________________________________________________________________\n",
            "activation_20 (Activation)      (None, 2, 2, 512)    0           res5a_branch2b[0][0]             \n",
            "__________________________________________________________________________________________________\n",
            "res5a_branch1 (Conv2D)          (None, 2, 2, 512)    131584      activation_18[0][0]              \n",
            "__________________________________________________________________________________________________\n",
            "add_6 (Add)                     (None, 2, 2, 512)    0           activation_20[0][0]              \n",
            "                                                                 res5a_branch1[0][0]              \n",
            "__________________________________________________________________________________________________\n",
            "activation_21 (Activation)      (None, 2, 2, 512)    0           add_6[0][0]                      \n",
            "__________________________________________________________________________________________________\n",
            "res5b_branch2a (Conv2D)         (None, 2, 2, 512)    262656      activation_21[0][0]              \n",
            "__________________________________________________________________________________________________\n",
            "activation_22 (Activation)      (None, 2, 2, 512)    0           res5b_branch2a[0][0]             \n",
            "__________________________________________________________________________________________________\n",
            "res5b_branch2b (Conv2D)         (None, 2, 2, 512)    2359808     activation_22[0][0]              \n",
            "__________________________________________________________________________________________________\n",
            "activation_23 (Activation)      (None, 2, 2, 512)    0           res5b_branch2b[0][0]             \n",
            "__________________________________________________________________________________________________\n",
            "add_7 (Add)                     (None, 2, 2, 512)    0           activation_23[0][0]              \n",
            "                                                                 activation_21[0][0]              \n",
            "__________________________________________________________________________________________________\n",
            "activation_24 (Activation)      (None, 2, 2, 512)    0           add_7[0][0]                      \n",
            "__________________________________________________________________________________________________\n",
            "avg_pool (AveragePooling2D)     (None, 1, 1, 512)    0           activation_24[0][0]              \n",
            "__________________________________________________________________________________________________\n",
            "flatten (Flatten)               (None, 512)          0           avg_pool[0][0]                   \n",
            "__________________________________________________________________________________________________\n",
            "fc100 (Dense)                   (None, 100)          51300       flatten[0][0]                    \n",
            "__________________________________________________________________________________________________\n",
            "dropout (Dropout)               (None, 100)          0           fc100[0][0]                      \n",
            "==================================================================================================\n",
            "Total params: 7,032,868\n",
            "Trainable params: 7,032,868\n",
            "Non-trainable params: 0\n",
            "__________________________________________________________________________________________________\n"
          ],
          "name": "stdout"
        }
      ]
    },
    {
      "cell_type": "markdown",
      "metadata": {
        "id": "lvZzqLUEs4b7"
      },
      "source": [
        "<h3><b>Graph</b><h3>"
      ]
    },
    {
      "cell_type": "code",
      "metadata": {
        "id": "EaBppoiStVCI",
        "outputId": "d635a6f6-7a85-4edd-c96f-dfa0f71db99f",
        "colab": {
          "base_uri": "https://localhost:8080/",
          "height": 312
        }
      },
      "source": [
        "import matplotlib.pyplot as plt\n",
        "\n",
        "history_dict = history.history\n",
        "print(history_dict.keys())\n",
        "accuracy_values = history_dict['accuracy']\n",
        "val_accuracy_values = history_dict['val_accuracy']\n",
        "\n",
        "epochs = range(1, len(history_dict['accuracy']) + 1)\n",
        "\n",
        "plt.plot(epochs, accuracy_values, 'bo', label='Training Accuracy')\n",
        "plt.plot(epochs, val_accuracy_values, 'b', label='Validation loss')\n",
        "plt.title('Training and validation Accuracy')\n",
        "plt.xlabel('Epochs')\n",
        "plt.ylabel('Accuracy')\n",
        "plt.legend()\n",
        "\n",
        "plt.show()\n"
      ],
      "execution_count": 14,
      "outputs": [
        {
          "output_type": "stream",
          "text": [
            "dict_keys(['loss', 'accuracy', 'val_loss', 'val_accuracy'])\n"
          ],
          "name": "stdout"
        },
        {
          "output_type": "display_data",
          "data": {
            "image/png": "[encoded data removed]",
            "text/plain": [
              "<Figure size 432x288 with 1 Axes>"
            ]
          },
          "metadata": {
            "tags": [],
            "needs_background": "light"
          }
        }
      ]
    },
    {
      "cell_type": "code",
      "metadata": {
        "id": "0-ZiF5OCtVOp",
        "outputId": "9ddb0274-bbfe-44bc-deac-fad5a7426716",
        "colab": {
          "base_uri": "https://localhost:8080/",
          "height": 312
        }
      },
      "source": [
        "import matplotlib.pyplot as plt\n",
        "\n",
        "history_dict = history.history\n",
        "print(history_dict.keys())\n",
        "loss_values = history_dict['loss']\n",
        "val_loss_values = history_dict['val_loss']\n",
        "\n",
        "epochs = range(1, len(history_dict['accuracy']) + 1)\n",
        "\n",
        "plt.plot(epochs, loss_values, 'bo', label='Training loss')\n",
        "plt.plot(epochs, val_loss_values, 'b', label='Validation loss')\n",
        "plt.title('Training and validation loss')\n",
        "plt.xlabel('Epochs')\n",
        "plt.ylabel('Loss')\n",
        "plt.legend()\n",
        "\n",
        "plt.show()\n"
      ],
      "execution_count": 15,
      "outputs": [
        {
          "output_type": "stream",
          "text": [
            "dict_keys(['loss', 'accuracy', 'val_loss', 'val_accuracy'])\n"
          ],
          "name": "stdout"
        },
        {
          "output_type": "display_data",
          "data": {
            "image/png": "[encoded data removed]",
            "text/plain": [
              "<Figure size 432x288 with 1 Axes>"
            ]
          },
          "metadata": {
            "tags": [],
            "needs_background": "light"
          }
        }
      ]
    },
    {
      "cell_type": "markdown",
      "metadata": {
        "id": "3_N6-KDftOOs"
      },
      "source": [
        "<h3><b> Model save Metric Calculation</b></h3>"
      ]
    },
    {
      "cell_type": "code",
      "metadata": {
        "id": "mT7tvDo1tVKm",
        "outputId": "2ccbcc13-4094-4508-ad96-8cad201c2870",
        "colab": {
          "base_uri": "https://localhost:8080/",
          "height": 68
        }
      },
      "source": [
        "model1 = ResNet18(input_shape = (32,32,3), classes = CLASSES)\n",
        "model1.load_weights(\"./Resnet18_Adam_Dropout.h5\")\n",
        "learning_rate = 0.001\n",
        "batch_size = 128\n",
        "lr_decay = 1e-6\n",
        "\n",
        "#optimization details\n",
        "learning_rate = 0.0001\n",
        "batch_size = 128\n",
        "lr_decay = 1e-6\n",
        "#optimization details\n",
        "opt = optimizers.Adam(lr=learning_rate)\n",
        "model.compile(loss='categorical_crossentropy', optimizer=opt,metrics=['accuracy'])\n",
        "\n",
        "# Test the model\n",
        "model.predict(X_test).argmax(-1)\n",
        "\n",
        "y_true = y_test.argmax(-1)\n",
        "y_pred = model.predict(X_test).argmax(-1)\n",
        "# generate confusion matrix\n",
        "from sklearn.metrics import confusion_matrix, precision_score, recall_score, accuracy_score\n",
        "confusion_matrix(y_true, y_pred)\n",
        "# calculate prec, recall, accuracy\n",
        "print(\"Prec: \"+ str(precision_score(y_true, y_pred, average='weighted')))\n",
        "print(\"Recall: \"+ str(recall_score(y_true, y_pred, average='weighted')))\n",
        "print(\"Accuracy: \" + str(accuracy_score(y_true, y_pred)))"
      ],
      "execution_count": 16,
      "outputs": [
        {
          "output_type": "stream",
          "text": [
            "Prec: 0.40606353305811854\n",
            "Recall: 0.3849\n",
            "Accuracy: 0.3849\n"
          ],
          "name": "stdout"
        }
      ]
    },
    {
      "cell_type": "markdown",
      "metadata": {
        "id": "eDVQnKBBtgrU"
      },
      "source": [
        "<h3><b>References</b></h3>"
      ]
    },
    {
      "cell_type": "code",
      "metadata": {
        "id": "lzZ3-a3jtl9y"
      },
      "source": [
        "#https://github.com/priya-dwivedi/Deep-Learning/blob/master/resnet_keras/Residual_Networks_yourself.ipynb\n",
        "#https://github.com/keras-team/keras-contrib/blob/master/keras_contrib/applications/resnet.py\n",
        "#https://github.com/deep-diver/DeepModels\n"
      ],
      "execution_count": 17,
      "outputs": []
    }
  ]
}
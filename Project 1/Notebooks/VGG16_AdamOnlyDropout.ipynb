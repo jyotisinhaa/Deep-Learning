{
  "nbformat": 4,
  "nbformat_minor": 0,
  "metadata": {
    "accelerator": "GPU",
    "colab": {
      "name": " VGG16 AdamOnlyDropoutSend.ipynb",
      "provenance": [],
      "collapsed_sections": []
    },
    "kernelspec": {
      "display_name": "Python 3",
      "name": "python3"
    }
  },
  "cells": [
    {
      "cell_type": "markdown",
      "metadata": {
        "id": "nu46PS8i0yxi"
      },
      "source": [
        "<h3><b>Importing Libraries</b></h3>"
      ]
    },
    {
      "cell_type": "code",
      "metadata": {
        "id": "PKbDmW5_lhPO"
      },
      "source": [
        "# Importing Libraries\n",
        "from __future__ import print_function\n",
        "import os\n",
        "import tensorflow as tf\n",
        "import keras\n",
        "from keras import backend as K\n",
        "import numpy as np\n",
        "from keras.datasets import cifar100\n",
        "from keras.preprocessing.image import ImageDataGenerator\n",
        "from keras.models import Sequential\n",
        "from keras.layers import Dense, Dropout, Activation, Flatten\n",
        "from keras.layers import Conv2D, MaxPooling2D, BatchNormalization\n",
        "from keras import optimizers\n",
        "from keras import regularizers\n",
        "from matplotlib import pyplot\n",
        "from keras.utils import to_categorical\n",
        "from keras.callbacks import ModelCheckpoint, EarlyStopping\n",
        "from sklearn import metrics\n",
        "from sklearn.metrics import confusion_matrix\n",
        "from sklearn.metrics import accuracy_score\n",
        "from sklearn.metrics import accuracy_score, f1_score, precision_score, recall_score, classification_report, confusion_matrix\n"
      ],
      "execution_count": 52,
      "outputs": []
    },
    {
      "cell_type": "markdown",
      "metadata": {
        "id": "URVrV68X1I88"
      },
      "source": [
        "<h3><b>Importing Dataset<b></h3>"
      ]
    },
    {
      "cell_type": "code",
      "metadata": {
        "id": "1wPJj5pc6wzh",
        "outputId": "ecdada0f-ccee-4cca-a70b-56b3c808787e",
        "colab": {
          "base_uri": "https://localhost:8080/",
          "height": 85
        }
      },
      "source": [
        "# Load dataset\n",
        "(X_train, y_train), (X_test, y_test) = cifar100.load_data()\n",
        "print(X_train.shape)\n",
        "print(y_train.shape)\n",
        "print(X_test.shape)\n",
        "print(y_test.shape)"
      ],
      "execution_count": 53,
      "outputs": [
        {
          "output_type": "stream",
          "text": [
            "(50000, 32, 32, 3)\n",
            "(50000, 1)\n",
            "(10000, 32, 32, 3)\n",
            "(10000, 1)\n"
          ],
          "name": "stdout"
        }
      ]
    },
    {
      "cell_type": "markdown",
      "metadata": {
        "id": "3LS0RJlr2DKV"
      },
      "source": [
        "<h3><b>Preprocessing of the dataset</b></h3>"
      ]
    },
    {
      "cell_type": "code",
      "metadata": {
        "id": "2vFh_j5y1qoU"
      },
      "source": [
        "# Normalize the dataset\n",
        "X_train = X_train/255\n",
        "X_test = X_test/255"
      ],
      "execution_count": 54,
      "outputs": []
    },
    {
      "cell_type": "code",
      "metadata": {
        "id": "Z_oj_DSa7xxB"
      },
      "source": [
        "#Converting the testing and training dataset into float\n",
        "X_train = X_train.astype('float32')\n",
        "X_test = X_test.astype('float32')"
      ],
      "execution_count": 55,
      "outputs": []
    },
    {
      "cell_type": "code",
      "metadata": {
        "id": "sZ7LTRKGly_z",
        "outputId": "5d7f9ff5-c0ef-43f3-befd-8691961f2df2",
        "colab": {
          "base_uri": "https://localhost:8080/",
          "height": 51
        }
      },
      "source": [
        "# Convert training and test labels to one hot matrices\n",
        "print(y_train.shape)\n",
        "y_train = keras.utils.to_categorical(y_train, 100)\n",
        "y_test = keras.utils.to_categorical(y_test, 100)\n",
        "print(y_train.shape)"
      ],
      "execution_count": 56,
      "outputs": [
        {
          "output_type": "stream",
          "text": [
            "(50000, 1)\n",
            "(50000, 100)\n"
          ],
          "name": "stdout"
        }
      ]
    },
    {
      "cell_type": "markdown",
      "metadata": {
        "id": "moYrJA6qJ0pT"
      },
      "source": [
        "<h3><b> Data Augmentation </b></h3>"
      ]
    },
    {
      "cell_type": "code",
      "metadata": {
        "id": "hH5ibTPcly3l",
        "outputId": "7dafc4e2-91ff-414c-e23b-8556b82fccf6",
        "colab": {
          "base_uri": "https://localhost:8080/",
          "height": 34
        }
      },
      "source": [
        "#data augmentation\n",
        "datagen = ImageDataGenerator(\n",
        "    featurewise_center=False,  # set input mean to 0 over the dataset\n",
        "    samplewise_center=False,  # set each sample mean to 0\n",
        "    featurewise_std_normalization=False,  # divide inputs by std of the dataset\n",
        "    samplewise_std_normalization=False,  # divide each input by its std\n",
        "    zca_whitening=False,  # apply ZCA whitening\n",
        "    rotation_range=15,  # randomly rotate images in the range (degrees, 0 to 180)\n",
        "    width_shift_range=0.1,  # randomly shift images horizontally (fraction of total width)\n",
        "    height_shift_range=0.1,  # randomly shift images vertically (fraction of total height)\n",
        "    horizontal_flip=True,  # randomly flip images\n",
        "    vertical_flip=False)  # randomly flip images\n",
        "# (std, mean, and principal components if ZCA whitening is applied).\n",
        "datagen.fit(X_train)\n",
        "\n",
        "print(y_train.shape)"
      ],
      "execution_count": 57,
      "outputs": [
        {
          "output_type": "stream",
          "text": [
            "(50000, 100)\n"
          ],
          "name": "stdout"
        }
      ]
    },
    {
      "cell_type": "markdown",
      "metadata": {
        "id": "UeYnQfHWHwnh"
      },
      "source": [
        "<h3><b> Model Architecture </b></h3>\n",
        "\n",
        "\n"
      ]
    },
    {
      "cell_type": "code",
      "metadata": {
        "id": "352YirW8lyBT"
      },
      "source": [
        "def Model():\n",
        "        x_shape = [32,32,3]\n",
        "        weight_decay = 0.0001\n",
        "        num_classes = 100\n",
        "        model = Sequential()\n",
        "        model.add(Conv2D(64, (3, 3), padding='same', input_shape= x_shape,kernel_regularizer=regularizers.l2(weight_decay)))\n",
        "        model.add(Activation('relu'))\n",
        "        # model.add(BatchNormalization())\n",
        "        # # model.add(Dropout(0.3))\n",
        "\n",
        "        model.add(Conv2D(64, (3, 3), padding='same',kernel_regularizer=regularizers.l2(weight_decay)))\n",
        "        model.add(Activation('relu'))\n",
        "        # model.add(BatchNormalization())\n",
        "\n",
        "        model.add(MaxPooling2D(pool_size=(2, 2)))\n",
        "\n",
        "        model.add(Conv2D(128, (3, 3), padding='same',kernel_regularizer=regularizers.l2(weight_decay)))\n",
        "        model.add(Activation('relu'))\n",
        "        # model.add(BatchNormalization())\n",
        "        # model.add(Dropout(0.4))\n",
        "\n",
        "        model.add(Conv2D(128, (3, 3), padding='same',kernel_regularizer=regularizers.l2(weight_decay)))\n",
        "        model.add(Activation('relu'))\n",
        "        # model.add(BatchNormalization())\n",
        "\n",
        "        model.add(MaxPooling2D(pool_size=(2, 2)))\n",
        "\n",
        "        model.add(Conv2D(256, (3, 3), padding='same',kernel_regularizer=regularizers.l2(weight_decay)))\n",
        "        model.add(Activation('relu'))\n",
        "        # model.add(BatchNormalization())\n",
        "        # model.add(Dropout(0.4))\n",
        "\n",
        "        model.add(Conv2D(256, (3, 3), padding='same',kernel_regularizer=regularizers.l2(weight_decay)))\n",
        "        model.add(Activation('relu'))\n",
        "        # model.add(BatchNormalization())\n",
        "        # model.add(Dropout(0.4))\n",
        "\n",
        "        model.add(Conv2D(256, (3, 3), padding='same',kernel_regularizer=regularizers.l2(weight_decay)))\n",
        "        model.add(Activation('relu'))\n",
        "        # model.add(BatchNormalization())\n",
        "\n",
        "        model.add(MaxPooling2D(pool_size=(2, 2)))\n",
        "\n",
        "\n",
        "        model.add(Conv2D(512, (3, 3), padding='same',kernel_regularizer=regularizers.l2(weight_decay)))\n",
        "        model.add(Activation('relu'))\n",
        "        # model.add(BatchNormalization())\n",
        "        # model.add(Dropout(0.4))\n",
        "\n",
        "        model.add(Conv2D(512, (3, 3), padding='same',kernel_regularizer=regularizers.l2(weight_decay)))\n",
        "        model.add(Activation('relu'))\n",
        "        # model.add(BatchNormalization())\n",
        "        # # model.add(Dropout(0.4))\n",
        "\n",
        "        model.add(Conv2D(512, (3, 3), padding='same',kernel_regularizer=regularizers.l2(weight_decay)))\n",
        "        model.add(Activation('relu'))\n",
        "        # model.add(BatchNormalization())\n",
        "\n",
        "        model.add(MaxPooling2D(pool_size=(2, 2)))\n",
        "\n",
        "\n",
        "        model.add(Conv2D(512, (3, 3), padding='same',kernel_regularizer=regularizers.l2(weight_decay)))\n",
        "        model.add(Activation('relu'))\n",
        "        # # model.add(Dropout(0.4))\n",
        "\n",
        "        model.add(Conv2D(512, (3, 3), padding='same',kernel_regularizer=regularizers.l2(weight_decay)))\n",
        "        model.add(Activation('relu'))\n",
        "        # model.add(BatchNormalization())\n",
        "        # model.add(Dropout(0.4))\n",
        "\n",
        "        model.add(Conv2D(512, (3, 3), padding='same',kernel_regularizer=regularizers.l2(weight_decay)))\n",
        "        model.add(Activation('relu'))\n",
        "        # model.add(BatchNormalization())\n",
        "\n",
        "        model.add(MaxPooling2D(pool_size=(2, 2)))\n",
        "        # model.add(Dropout(0.5))\n",
        "\n",
        "        model.add(Flatten())\n",
        "        model.add(Dense(512,kernel_regularizer=regularizers.l2(weight_decay)))\n",
        "        model.add(Activation('relu'))\n",
        "        # model.add(BatchNormalization())\n",
        "\n",
        "        # model.add(Dropout(0.5))\n",
        "        model.add(Dense(num_classes))\n",
        "        model.add(Dropout(0.5))\n",
        "        model.add(Activation('softmax'))\n",
        "\n",
        "        return model"
      ],
      "execution_count": 58,
      "outputs": []
    },
    {
      "cell_type": "markdown",
      "metadata": {
        "id": "iJc2AzLRQ9oP"
      },
      "source": [
        "<h3><b> Compile the Model </b></h3>"
      ]
    },
    {
      "cell_type": "code",
      "metadata": {
        "id": "Z3t2ztwxKI-S"
      },
      "source": [
        "model = Model()"
      ],
      "execution_count": 59,
      "outputs": []
    },
    {
      "cell_type": "code",
      "metadata": {
        "id": "h2avPzDJk2T9"
      },
      "source": [
        "\n",
        "learning_rate = 0.0001\n",
        "batch_size = 128\n",
        "lr_decay = 1e-6\n",
        "#optimization details\n",
        "opt = optimizers.Adam(lr=learning_rate)\n",
        "model.compile(loss='categorical_crossentropy', optimizer=opt,metrics=['accuracy'])"
      ],
      "execution_count": 60,
      "outputs": []
    },
    {
      "cell_type": "code",
      "metadata": {
        "id": "vWwqnqq2ryoN",
        "outputId": "d5dd5ec7-7d85-43c0-ded3-8dbe7accbaec",
        "colab": {
          "base_uri": "https://localhost:8080/",
          "height": 1000
        }
      },
      "source": [
        "model.summary()"
      ],
      "execution_count": 61,
      "outputs": [
        {
          "output_type": "stream",
          "text": [
            "Model: \"sequential_5\"\n",
            "_________________________________________________________________\n",
            "Layer (type)                 Output Shape              Param #   \n",
            "=================================================================\n",
            "conv2d_65 (Conv2D)           (None, 32, 32, 64)        1792      \n",
            "_________________________________________________________________\n",
            "activation_75 (Activation)   (None, 32, 32, 64)        0         \n",
            "_________________________________________________________________\n",
            "conv2d_66 (Conv2D)           (None, 32, 32, 64)        36928     \n",
            "_________________________________________________________________\n",
            "activation_76 (Activation)   (None, 32, 32, 64)        0         \n",
            "_________________________________________________________________\n",
            "max_pooling2d_25 (MaxPooling (None, 16, 16, 64)        0         \n",
            "_________________________________________________________________\n",
            "conv2d_67 (Conv2D)           (None, 16, 16, 128)       73856     \n",
            "_________________________________________________________________\n",
            "activation_77 (Activation)   (None, 16, 16, 128)       0         \n",
            "_________________________________________________________________\n",
            "conv2d_68 (Conv2D)           (None, 16, 16, 128)       147584    \n",
            "_________________________________________________________________\n",
            "activation_78 (Activation)   (None, 16, 16, 128)       0         \n",
            "_________________________________________________________________\n",
            "max_pooling2d_26 (MaxPooling (None, 8, 8, 128)         0         \n",
            "_________________________________________________________________\n",
            "conv2d_69 (Conv2D)           (None, 8, 8, 256)         295168    \n",
            "_________________________________________________________________\n",
            "activation_79 (Activation)   (None, 8, 8, 256)         0         \n",
            "_________________________________________________________________\n",
            "conv2d_70 (Conv2D)           (None, 8, 8, 256)         590080    \n",
            "_________________________________________________________________\n",
            "activation_80 (Activation)   (None, 8, 8, 256)         0         \n",
            "_________________________________________________________________\n",
            "conv2d_71 (Conv2D)           (None, 8, 8, 256)         590080    \n",
            "_________________________________________________________________\n",
            "activation_81 (Activation)   (None, 8, 8, 256)         0         \n",
            "_________________________________________________________________\n",
            "max_pooling2d_27 (MaxPooling (None, 4, 4, 256)         0         \n",
            "_________________________________________________________________\n",
            "conv2d_72 (Conv2D)           (None, 4, 4, 512)         1180160   \n",
            "_________________________________________________________________\n",
            "activation_82 (Activation)   (None, 4, 4, 512)         0         \n",
            "_________________________________________________________________\n",
            "conv2d_73 (Conv2D)           (None, 4, 4, 512)         2359808   \n",
            "_________________________________________________________________\n",
            "activation_83 (Activation)   (None, 4, 4, 512)         0         \n",
            "_________________________________________________________________\n",
            "conv2d_74 (Conv2D)           (None, 4, 4, 512)         2359808   \n",
            "_________________________________________________________________\n",
            "activation_84 (Activation)   (None, 4, 4, 512)         0         \n",
            "_________________________________________________________________\n",
            "max_pooling2d_28 (MaxPooling (None, 2, 2, 512)         0         \n",
            "_________________________________________________________________\n",
            "conv2d_75 (Conv2D)           (None, 2, 2, 512)         2359808   \n",
            "_________________________________________________________________\n",
            "activation_85 (Activation)   (None, 2, 2, 512)         0         \n",
            "_________________________________________________________________\n",
            "conv2d_76 (Conv2D)           (None, 2, 2, 512)         2359808   \n",
            "_________________________________________________________________\n",
            "activation_86 (Activation)   (None, 2, 2, 512)         0         \n",
            "_________________________________________________________________\n",
            "conv2d_77 (Conv2D)           (None, 2, 2, 512)         2359808   \n",
            "_________________________________________________________________\n",
            "activation_87 (Activation)   (None, 2, 2, 512)         0         \n",
            "_________________________________________________________________\n",
            "max_pooling2d_29 (MaxPooling (None, 1, 1, 512)         0         \n",
            "_________________________________________________________________\n",
            "flatten_5 (Flatten)          (None, 512)               0         \n",
            "_________________________________________________________________\n",
            "dense_10 (Dense)             (None, 512)               262656    \n",
            "_________________________________________________________________\n",
            "activation_88 (Activation)   (None, 512)               0         \n",
            "_________________________________________________________________\n",
            "dense_11 (Dense)             (None, 100)               51300     \n",
            "_________________________________________________________________\n",
            "dropout_5 (Dropout)          (None, 100)               0         \n",
            "_________________________________________________________________\n",
            "activation_89 (Activation)   (None, 100)               0         \n",
            "=================================================================\n",
            "Total params: 15,028,644\n",
            "Trainable params: 15,028,644\n",
            "Non-trainable params: 0\n",
            "_________________________________________________________________\n"
          ],
          "name": "stdout"
        }
      ]
    },
    {
      "cell_type": "markdown",
      "metadata": {
        "id": "s6HPmAh5RGLe"
      },
      "source": [
        "<h3><b> Train the Model</b></h3>"
      ]
    },
    {
      "cell_type": "code",
      "metadata": {
        "id": "0jcsr1krovRG",
        "outputId": "69f6aa54-35a8-4eed-88f2-25c9e5d39571",
        "colab": {
          "base_uri": "https://localhost:8080/",
          "height": 54
        }
      },
      "source": [
        "# Create Checkpoint and Early Stopping\n",
        "checkpoint = ModelCheckpoint(\"vgg16_Adam_OnlyDropout.h5\", monitor='val_loss', verbose=1, save_best_only=True, save_weights_only=True, mode='auto', period=1)\n",
        "early = EarlyStopping(monitor='val_loss', min_delta=0, patience=5, verbose=1, mode='auto')"
      ],
      "execution_count": 62,
      "outputs": [
        {
          "output_type": "stream",
          "text": [
            "WARNING:tensorflow:`period` argument is deprecated. Please use `save_freq` to specify the frequency in number of batches seen.\n"
          ],
          "name": "stdout"
        }
      ]
    },
    {
      "cell_type": "code",
      "metadata": {
        "id": "LGqjFOyFwNeO",
        "outputId": "72395605-e8d4-476b-c0b5-41cf2ac0d310",
        "colab": {
          "base_uri": "https://localhost:8080/",
          "height": 1000
        }
      },
      "source": [
        "batch_size = 128\n",
        "history = model.fit_generator(datagen.flow(X_train, y_train, batch_size=batch_size),validation_data=(X_test, y_test), epochs=100,callbacks=[checkpoint,early])"
      ],
      "execution_count": 63,
      "outputs": [
        {
          "output_type": "stream",
          "text": [
            "Epoch 1/100\n",
            "  2/391 [..............................] - ETA: 15s - loss: 5.0420 - accuracy: 0.0078WARNING:tensorflow:Callbacks method `on_train_batch_end` is slow compared to the batch time (batch time: 0.0296s vs `on_train_batch_end` time: 0.0494s). Check your callbacks.\n",
            "391/391 [==============================] - ETA: 0s - loss: 4.7471 - accuracy: 0.0097\n",
            "Epoch 00001: val_loss improved from inf to 4.63377, saving model to vgg16_Adam_OnlyDropout.h5\n",
            "391/391 [==============================] - 33s 84ms/step - loss: 4.7471 - accuracy: 0.0097 - val_loss: 4.6338 - val_accuracy: 0.0100\n",
            "Epoch 2/100\n",
            "391/391 [==============================] - ETA: 0s - loss: 4.6187 - accuracy: 0.0103\n",
            "Epoch 00002: val_loss improved from 4.63377 to 4.61072, saving model to vgg16_Adam_OnlyDropout.h5\n",
            "391/391 [==============================] - 33s 84ms/step - loss: 4.6187 - accuracy: 0.0103 - val_loss: 4.6107 - val_accuracy: 0.0100\n",
            "Epoch 3/100\n",
            "391/391 [==============================] - ETA: 0s - loss: 4.6082 - accuracy: 0.0099\n",
            "Epoch 00003: val_loss improved from 4.61072 to 4.60658, saving model to vgg16_Adam_OnlyDropout.h5\n",
            "391/391 [==============================] - 33s 84ms/step - loss: 4.6082 - accuracy: 0.0099 - val_loss: 4.6066 - val_accuracy: 0.0100\n",
            "Epoch 4/100\n",
            "391/391 [==============================] - ETA: 0s - loss: 4.6060 - accuracy: 0.0096\n",
            "Epoch 00004: val_loss improved from 4.60658 to 4.60557, saving model to vgg16_Adam_OnlyDropout.h5\n",
            "391/391 [==============================] - 33s 84ms/step - loss: 4.6060 - accuracy: 0.0096 - val_loss: 4.6056 - val_accuracy: 0.0100\n",
            "Epoch 5/100\n",
            "391/391 [==============================] - ETA: 0s - loss: 4.6054 - accuracy: 0.0110\n",
            "Epoch 00005: val_loss improved from 4.60557 to 4.60529, saving model to vgg16_Adam_OnlyDropout.h5\n",
            "391/391 [==============================] - 33s 84ms/step - loss: 4.6054 - accuracy: 0.0110 - val_loss: 4.6053 - val_accuracy: 0.0100\n",
            "Epoch 6/100\n",
            "391/391 [==============================] - ETA: 0s - loss: 4.6053 - accuracy: 0.0100\n",
            "Epoch 00006: val_loss improved from 4.60529 to 4.60521, saving model to vgg16_Adam_OnlyDropout.h5\n",
            "391/391 [==============================] - 33s 84ms/step - loss: 4.6053 - accuracy: 0.0100 - val_loss: 4.6052 - val_accuracy: 0.0100\n",
            "Epoch 7/100\n",
            "391/391 [==============================] - ETA: 0s - loss: 4.6052 - accuracy: 0.0098\n",
            "Epoch 00007: val_loss improved from 4.60521 to 4.60518, saving model to vgg16_Adam_OnlyDropout.h5\n",
            "391/391 [==============================] - 33s 85ms/step - loss: 4.6052 - accuracy: 0.0098 - val_loss: 4.6052 - val_accuracy: 0.0100\n",
            "Epoch 8/100\n",
            "391/391 [==============================] - ETA: 0s - loss: 4.6052 - accuracy: 0.0101\n",
            "Epoch 00008: val_loss improved from 4.60518 to 4.60518, saving model to vgg16_Adam_OnlyDropout.h5\n",
            "391/391 [==============================] - 33s 84ms/step - loss: 4.6052 - accuracy: 0.0101 - val_loss: 4.6052 - val_accuracy: 0.0100\n",
            "Epoch 9/100\n",
            "391/391 [==============================] - ETA: 0s - loss: 4.6052 - accuracy: 0.0101\n",
            "Epoch 00009: val_loss improved from 4.60518 to 4.60518, saving model to vgg16_Adam_OnlyDropout.h5\n",
            "391/391 [==============================] - 33s 84ms/step - loss: 4.6052 - accuracy: 0.0101 - val_loss: 4.6052 - val_accuracy: 0.0100\n",
            "Epoch 10/100\n",
            "391/391 [==============================] - ETA: 0s - loss: 4.6052 - accuracy: 0.0099\n",
            "Epoch 00010: val_loss improved from 4.60518 to 4.60517, saving model to vgg16_Adam_OnlyDropout.h5\n",
            "391/391 [==============================] - 33s 85ms/step - loss: 4.6052 - accuracy: 0.0099 - val_loss: 4.6052 - val_accuracy: 0.0100\n",
            "Epoch 11/100\n",
            "391/391 [==============================] - ETA: 0s - loss: 4.6052 - accuracy: 0.0093\n",
            "Epoch 00011: val_loss did not improve from 4.60517\n",
            "391/391 [==============================] - 33s 84ms/step - loss: 4.6052 - accuracy: 0.0093 - val_loss: 4.6052 - val_accuracy: 0.0100\n",
            "Epoch 12/100\n",
            "391/391 [==============================] - ETA: 0s - loss: 4.6052 - accuracy: 0.0105\n",
            "Epoch 00012: val_loss did not improve from 4.60517\n",
            "391/391 [==============================] - 33s 84ms/step - loss: 4.6052 - accuracy: 0.0105 - val_loss: 4.6052 - val_accuracy: 0.0100\n",
            "Epoch 13/100\n",
            "391/391 [==============================] - ETA: 0s - loss: 4.6052 - accuracy: 0.0095\n",
            "Epoch 00013: val_loss did not improve from 4.60517\n",
            "391/391 [==============================] - 33s 85ms/step - loss: 4.6052 - accuracy: 0.0095 - val_loss: 4.6052 - val_accuracy: 0.0100\n",
            "Epoch 14/100\n",
            "391/391 [==============================] - ETA: 0s - loss: 4.6052 - accuracy: 0.0094\n",
            "Epoch 00014: val_loss did not improve from 4.60517\n",
            "391/391 [==============================] - 33s 85ms/step - loss: 4.6052 - accuracy: 0.0094 - val_loss: 4.6052 - val_accuracy: 0.0100\n",
            "Epoch 15/100\n",
            "391/391 [==============================] - ETA: 0s - loss: 4.6052 - accuracy: 0.0105\n",
            "Epoch 00015: val_loss did not improve from 4.60517\n",
            "391/391 [==============================] - 33s 85ms/step - loss: 4.6052 - accuracy: 0.0105 - val_loss: 4.6052 - val_accuracy: 0.0100\n",
            "Epoch 00015: early stopping\n"
          ],
          "name": "stdout"
        }
      ]
    },
    {
      "cell_type": "markdown",
      "metadata": {
        "id": "2Q5vb0hEL_tA"
      },
      "source": [
        "<h3><b> Graphs</b></h3>"
      ]
    },
    {
      "cell_type": "code",
      "metadata": {
        "id": "lYhxlC4wy2L5",
        "outputId": "9ec3770d-0e3f-4bf4-9829-6da34593afb7",
        "colab": {
          "base_uri": "https://localhost:8080/",
          "height": 312
        }
      },
      "source": [
        "import matplotlib.pyplot as plt\n",
        "\n",
        "history_dict = history.history\n",
        "print(history_dict.keys())\n",
        "accuracy_values = history_dict['accuracy']\n",
        "val_accuracy_values = history_dict['val_accuracy']\n",
        "\n",
        "epochs = range(1, len(history_dict['accuracy']) + 1)\n",
        "\n",
        "plt.plot(epochs, accuracy_values, 'bo', label='Training Accuracy')\n",
        "plt.plot(epochs, val_accuracy_values, 'b', label='Validation loss')\n",
        "plt.title('Training and validation Accuracy')\n",
        "plt.xlabel('Epochs')\n",
        "plt.ylabel('Accuracy')\n",
        "plt.legend()\n",
        "\n",
        "plt.show()\n"
      ],
      "execution_count": 64,
      "outputs": [
        {
          "output_type": "stream",
          "text": [
            "dict_keys(['loss', 'accuracy', 'val_loss', 'val_accuracy'])\n"
          ],
          "name": "stdout"
        },
        {
          "output_type": "display_data",
          "data": {
            "image/png": "[encoded data removed]",
            "text/plain": [
              "<Figure size 432x288 with 1 Axes>"
            ]
          },
          "metadata": {
            "tags": [],
            "needs_background": "light"
          }
        }
      ]
    },
    {
      "cell_type": "code",
      "metadata": {
        "id": "7gw44X455Nya",
        "outputId": "81398def-2432-4d41-f6f1-2f69b0a9d0e4",
        "colab": {
          "base_uri": "https://localhost:8080/",
          "height": 312
        }
      },
      "source": [
        "import matplotlib.pyplot as plt\n",
        "\n",
        "history_dict = history.history\n",
        "print(history_dict.keys())\n",
        "loss_values = history_dict['loss']\n",
        "val_loss_values = history_dict['val_loss']\n",
        "\n",
        "epochs = range(1, len(history_dict['accuracy']) + 1)\n",
        "\n",
        "plt.plot(epochs, loss_values, 'bo', label='Training loss')\n",
        "plt.plot(epochs, val_loss_values, 'b', label='Validation loss')\n",
        "plt.title('Training and validation loss')\n",
        "plt.xlabel('Epochs')\n",
        "plt.ylabel('Loss')\n",
        "plt.legend()\n",
        "\n",
        "plt.show()\n"
      ],
      "execution_count": 65,
      "outputs": [
        {
          "output_type": "stream",
          "text": [
            "dict_keys(['loss', 'accuracy', 'val_loss', 'val_accuracy'])\n"
          ],
          "name": "stdout"
        },
        {
          "output_type": "display_data",
          "data": {
            "image/png": "[encoded data removed]",
            "text/plain": [
              "<Figure size 432x288 with 1 Axes>"
            ]
          },
          "metadata": {
            "tags": [],
            "needs_background": "light"
          }
        }
      ]
    },
    {
      "cell_type": "markdown",
      "metadata": {
        "id": "mWJuMoswQJCC"
      },
      "source": [
        "<h3><b> Model Save and Metrics</b></h3> "
      ]
    },
    {
      "cell_type": "code",
      "metadata": {
        "id": "zxbcWbZq6DF1",
        "outputId": "bb8e68ac-552b-4a95-e2ce-8dafc08000b9",
        "colab": {
          "base_uri": "https://localhost:8080/",
          "height": 122
        }
      },
      "source": [
        "model1 = Model()\n",
        "model1.load_weights(\"./vgg16_Adam_OnlyDropout.h5\")\n",
        "learning_rate = 0.001\n",
        "batch_size = 128\n",
        "lr_decay = 1e-6\n",
        "#optimization details\n",
        "opt = optimizers.Adam(lr=learning_rate)\n",
        "model.compile(loss='categorical_crossentropy', optimizer=opt,metrics=['accuracy'])\n",
        "# Test the model\n",
        "model.predict(X_test).argmax(-1)\n",
        "\n",
        "y_true = y_test.argmax(-1)\n",
        "y_pred = model.predict(X_test).argmax(-1)\n",
        "# generate confusion matrix\n",
        "from sklearn.metrics import confusion_matrix, precision_score, recall_score, accuracy_score\n",
        "confusion_matrix(y_true, y_pred)\n",
        "# calculate prec, recall, accuracy\n",
        "print(\"Prec: \"+ str(precision_score(y_true, y_pred, average='weighted')))\n",
        "print(\"Recall: \"+ str(recall_score(y_true, y_pred, average='weighted')))\n",
        "print(\"Accuracy: \" + str(accuracy_score(y_true, y_pred)))"
      ],
      "execution_count": 66,
      "outputs": [
        {
          "output_type": "stream",
          "text": [
            "Prec: 0.0001\n",
            "Recall: 0.01\n",
            "Accuracy: 0.01\n"
          ],
          "name": "stdout"
        },
        {
          "output_type": "stream",
          "text": [
            "/usr/local/lib/python3.6/dist-packages/sklearn/metrics/_classification.py:1272: UndefinedMetricWarning: Precision is ill-defined and being set to 0.0 in labels with no predicted samples. Use `zero_division` parameter to control this behavior.\n",
            "  _warn_prf(average, modifier, msg_start, len(result))\n"
          ],
          "name": "stderr"
        }
      ]
    },
    {
      "cell_type": "markdown",
      "metadata": {
        "id": "dFDFRH7ON583"
      },
      "source": [
        "<h3><b> References</b></h3>"
      ]
    },
    {
      "cell_type": "code",
      "metadata": {
        "id": "XmygfOQPN-cS"
      },
      "source": [
        "#https://towardsdatascience.com/step-by-step-vgg16-implementation-in-keras-for-beginners-a833c686ae6c\n",
        "#https://github.com/geifmany/cifar-vgg/blob/master/cifar100vgg.py"
      ],
      "execution_count": 67,
      "outputs": []
    }
  ]
}
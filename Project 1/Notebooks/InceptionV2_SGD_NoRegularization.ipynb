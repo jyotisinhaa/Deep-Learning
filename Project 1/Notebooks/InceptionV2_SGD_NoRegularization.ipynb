{
  "nbformat": 4,
  "nbformat_minor": 0,
  "metadata": {
    "colab": {
      "name": "InceptionV2_SGD_NoRegularization.ipynb",
      "provenance": [],
      "collapsed_sections": []
    },
    "kernelspec": {
      "name": "python3",
      "display_name": "Python 3"
    },
    "accelerator": "GPU"
  },
  "cells": [
    {
      "cell_type": "markdown",
      "metadata": {
        "id": "hyOazSpWztcP"
      },
      "source": [
        "<h3><b> Importing Library</b></h3>"
      ]
    },
    {
      "cell_type": "code",
      "metadata": {
        "id": "XNYk17cCS0lA"
      },
      "source": [
        "# Importing Libraries\n",
        "from __future__ import print_function\n",
        "import os\n",
        "import math \n",
        "import cv2 \n",
        "import tensorflow as tf\n",
        "import keras\n",
        "from keras import backend as K\n",
        "import numpy as np\n",
        "from keras.datasets import cifar100\n",
        "from keras.preprocessing.image import ImageDataGenerator\n",
        "from keras.models import Sequential\n",
        "from keras.layers import Dense, Dropout, Activation, Flatten\n",
        "from keras.layers import Conv2D, MaxPooling2D, BatchNormalization\n",
        "from keras import optimizers\n",
        "from keras.utils import np_utils\n",
        "from keras.optimizers import SGD \n",
        "from keras.callbacks import LearningRateScheduler\n",
        "from keras import regularizers\n",
        "from matplotlib import pyplot\n",
        "from keras.utils import to_categorical\n",
        "from keras.callbacks import ModelCheckpoint, EarlyStopping\n",
        "from sklearn import metrics\n",
        "from sklearn.metrics import confusion_matrix\n",
        "from sklearn.metrics import accuracy_score\n",
        "from keras.models import Model\n",
        "from keras.layers import Conv2D, MaxPool2D, Dropout, Dense, Input, concatenate, GlobalAveragePooling2D, AveragePooling2D,Flatten"
      ],
      "execution_count": 1,
      "outputs": []
    },
    {
      "cell_type": "markdown",
      "metadata": {
        "id": "F3XLVJepz2DV"
      },
      "source": [
        "<h3><b> Importing Dataset</b><h3>"
      ]
    },
    {
      "cell_type": "code",
      "metadata": {
        "id": "iuhv097NYrfu",
        "outputId": "2d0c2aaa-8bce-4d86-bbab-4bf7eb6aaf5c",
        "colab": {
          "base_uri": "https://localhost:8080/",
          "height": 119
        }
      },
      "source": [
        "# Load dataset\n",
        "(X_train, y_train), (X_test, y_test) = cifar100.load_data()\n",
        "print(X_train.shape)\n",
        "print(y_train.shape)\n",
        "print(X_test.shape)\n",
        "print(y_test.shape)"
      ],
      "execution_count": 2,
      "outputs": [
        {
          "output_type": "stream",
          "text": [
            "Downloading data from https://www.cs.toronto.edu/~kriz/cifar-100-python.tar.gz\n",
            "169009152/169001437 [==============================] - 4s 0us/step\n",
            "(50000, 32, 32, 3)\n",
            "(50000, 1)\n",
            "(10000, 32, 32, 3)\n",
            "(10000, 1)\n"
          ],
          "name": "stdout"
        }
      ]
    },
    {
      "cell_type": "markdown",
      "metadata": {
        "id": "Y2yAtEqs0DTO"
      },
      "source": [
        "<h3><b> Preprocessing of the dataset</b></h3>"
      ]
    },
    {
      "cell_type": "code",
      "metadata": {
        "id": "G1xMv3g8Yxl4"
      },
      "source": [
        "# Normalize the dataset\n",
        "X_train = X_train/255\n",
        "X_test = X_test/255"
      ],
      "execution_count": 3,
      "outputs": []
    },
    {
      "cell_type": "code",
      "metadata": {
        "id": "NUcSJ9bPY4Yu"
      },
      "source": [
        "#Converting the testing and training dataset into float\n",
        "X_train = X_train.astype('float32')\n",
        "X_test = X_test.astype('float32')"
      ],
      "execution_count": 4,
      "outputs": []
    },
    {
      "cell_type": "code",
      "metadata": {
        "id": "0UfXOG68Y741",
        "outputId": "ebb61c4f-f5c3-4e39-ab6a-76db699aaba4",
        "colab": {
          "base_uri": "https://localhost:8080/",
          "height": 34
        }
      },
      "source": [
        "# Convert training and test labels to one hot matrices\n",
        "y_train = keras.utils.to_categorical(y_train, 100)\n",
        "y_test = keras.utils.to_categorical(y_test, 100)\n",
        "print(y_train.shape)"
      ],
      "execution_count": 5,
      "outputs": [
        {
          "output_type": "stream",
          "text": [
            "(50000, 100)\n"
          ],
          "name": "stdout"
        }
      ]
    },
    {
      "cell_type": "markdown",
      "metadata": {
        "id": "DtqhVwFs0_yO"
      },
      "source": [
        "<h3><b> Model Architecure</b></h3>"
      ]
    },
    {
      "cell_type": "code",
      "metadata": {
        "id": "RLLcjHtgid1I"
      },
      "source": [
        "def inception_moduleA(x,\n",
        "                     filters_1x1,\n",
        "                     filters_3x3_reduce,\n",
        "                     filters_3x3,\n",
        "                     filters_5x5_reduce,\n",
        "                     filters_3x3a,\n",
        "                      filters_3x3b,\n",
        "                  \n",
        "                     filters_pool_proj,\n",
        "                     name=None):\n",
        "    \n",
        "    conv_1x1 = Conv2D(filters_1x1, (1, 1), padding='same', activation='elu')(x)\n",
        "    \n",
        "    conv_3x3 = Conv2D(filters_3x3_reduce, (1, 1), padding='same', activation='elu')(x)\n",
        "    conv_3x3 = Conv2D(filters_3x3, (3, 3), padding='same', activation='elu')(conv_3x3)\n",
        "\n",
        "    conv_5x5 = Conv2D(filters_5x5_reduce, (1, 1), padding='same', activation='elu')(x)\n",
        "    conv_3x3a = Conv2D(filters_3x3a, (3, 3), padding='same', activation='elu')(conv_5x5)\n",
        "    conv_3x3b = Conv2D(filters_3x3b, (3, 3), padding='same', activation='elu')(conv_3x3a)\n",
        "    pool_proj = MaxPool2D((3, 3), strides=(1, 1), padding='same')(x)\n",
        "    pool_proj = Conv2D(filters_pool_proj, (1, 1), padding='same', activation='elu')(pool_proj)\n",
        "\n",
        "    output = concatenate([conv_1x1, conv_3x3, conv_3x3a, pool_proj], axis=-1, name=name)\n",
        "    \n",
        "    return output\n",
        "\n",
        "\n",
        "def inception_moduleB(x,\n",
        "                     filters_1x1modb,\n",
        "                     filters_3x3_reducemodb,\n",
        "                     filters_1x3modb,\n",
        "                     filters_3x1modb,\n",
        "                     filters_5x5_reducemodb,\n",
        "                     filters_1x3amodb,\n",
        "                      filters_3x1amodb,\n",
        "                     filters_1x3bmodb,\n",
        "                      filters_3x1bmodb,\n",
        "                  \n",
        "                     filters_pool_proj,\n",
        "                     name=None):\n",
        "    \n",
        "    conv_1x1modb = Conv2D(filters_1x1modb, (1, 1), padding='same', activation='elu')(x)\n",
        "    \n",
        "    conv_3x3modb = Conv2D(filters_3x3_reducemodb, (1, 1), padding='same', activation='elu')(x)\n",
        "    conv_1x3modb = Conv2D(filters_1x3modb, (1, 3), padding='same', activation='elu')(conv_3x3modb)\n",
        "    conv_3x1modb = Conv2D(filters_3x1modb, (3, 1), padding='same', activation='elu')(conv_1x3modb)\n",
        "\n",
        "    conv_5x5modb = Conv2D(filters_5x5_reducemodb, (1, 1), padding='same', activation='elu')(x)\n",
        "    conv_1x3amodb = Conv2D(filters_1x3amodb, (1, 3), padding='same', activation='elu')(conv_5x5modb)\n",
        "    conv_3x1amodb = Conv2D(filters_3x1amodb, (3, 1), padding='same', activation='elu')(conv_1x3amodb)\n",
        "    conv_1x3bmodb = Conv2D(filters_1x3bmodb, (1, 3), padding='same', activation='elu')(conv_3x1amodb)\n",
        "    conv_3x1bmodb = Conv2D(filters_3x1bmodb, (3, 1), padding='same', activation='elu')(conv_1x3bmodb)\n",
        "\n",
        "\n",
        "    pool_proj = MaxPool2D((3, 3), strides=(1, 1), padding='same')(x)\n",
        "\n",
        "\n",
        "    pool_proj = Conv2D(filters_pool_proj, (1, 1), padding='same', activation='elu')(pool_proj)\n",
        "\n",
        "    output = concatenate([conv_1x1modb, conv_3x1modb, conv_3x1bmodb, pool_proj], axis=-1, name=name)\n",
        "    \n",
        "    return output\n",
        "\n",
        "\n",
        "def inception_moduleC(x,\n",
        "                     filters_1x1modc,\n",
        "                      filters_3x3_reducemodc,\n",
        "                     filters_1x3modc,\n",
        "                      filters_3x1modc,\n",
        "                     filters_5x5_reducemodc,\n",
        "                        filters_3x3amodc,\n",
        "                      filters_1x3amodc,\n",
        "                       filters_3x1amodc,\n",
        "                      \n",
        "                   \n",
        "                     filters_pool_proj,\n",
        "                     name=None):\n",
        "    \n",
        "    conv_1x1modc = Conv2D(filters_1x1modc, (1, 1), padding='same', activation='elu')(x)\n",
        "    \n",
        "    conv_3x3modc = Conv2D(filters_3x3_reducemodc, (1, 1), padding='same', activation='elu')(x)\n",
        "    conv_1x3modc = Conv2D(filters_1x3modc, (1, 3), padding='same', activation='elu')(conv_3x3modc)\n",
        "    conv_3x1modc = Conv2D(filters_3x1modc, (3, 1), padding='same', activation='elu')(conv_1x3modc)\n",
        "\n",
        "    conv_5x5modc = Conv2D(filters_5x5_reducemodc, (1, 1), padding='same', activation='elu')(x)\n",
        "    conv_3x3amodc = Conv2D(filters_3x3amodc, (1, 1), padding='same', activation='elu')(conv_5x5modc)\n",
        "\n",
        "    conv_1x3amodc = Conv2D(filters_1x3amodc, (1, 3), padding='same', activation='elu')(conv_3x3amodc)\n",
        "    conv_3x1amodc = Conv2D(filters_3x1amodc, (3, 1), padding='same', activation='elu')(conv_1x3amodc)\n",
        "\n",
        "\n",
        "\n",
        "    pool_proj = MaxPool2D((3, 3), strides=(1, 1), padding='same')(x)\n",
        "\n",
        "\n",
        "    pool_proj = Conv2D(filters_pool_proj, (1, 1), padding='same', activation='elu')(pool_proj)\n",
        "\n",
        "    output = concatenate([conv_1x1modc,conv_1x3modc, conv_3x1modc, conv_1x3amodc,conv_3x1amodc, pool_proj], axis=-1, name=name)\n",
        "    \n",
        "    return output\n",
        "\n"
      ],
      "execution_count": 6,
      "outputs": []
    },
    {
      "cell_type": "code",
      "metadata": {
        "id": "br3rOWOzHxJJ"
      },
      "source": [
        "input_layer = Input(shape=(32, 32, 3))\n",
        "\n",
        "x = Conv2D(64, (3, 3), padding='same', strides=(2, 2), activation='elu', name='conv_1a_3x3/2')(input_layer)\n",
        "x = Conv2D(64, (3, 3), padding='same', strides=(1, 1), activation='elu', name='conv_2a_3x3/1')(x)\n",
        "x = Conv2D(64, (3, 3), padding='same', strides=(1, 1), activation='elu', name='conv_3a_3x3/1')(x)\n",
        "x = MaxPool2D((3, 3), padding='same', strides=(2, 2), name='max_pool_2_3x3/2')(x)\n",
        "x = Conv2D(64, (3, 3), padding='same', strides=(1, 1), activation='elu', name='conv_4a_3x3/1')(x)\n",
        "x = Conv2D(64, (3, 3), padding='same', strides=(2, 2), activation='elu', name='conv_5a_3x3/2')(x)\n",
        "x = Conv2D(64, (3, 3), padding='same', strides=(1, 1), activation='elu', name='conv_6a_3x3/1')(x)\n",
        "\n",
        "x = inception_moduleA(x,\n",
        "                     filters_1x1=64,\n",
        "                     filters_3x3_reduce=96,\n",
        "                     filters_3x3=128,\n",
        "                     filters_5x5_reduce=16,\n",
        "                     filters_3x3a=32,\n",
        "                     filters_3x3b=32,\n",
        "                     filters_pool_proj=32,\n",
        "                     name='inception_3a')\n",
        "x = inception_moduleA(x,\n",
        "                     filters_1x1=64,\n",
        "                     filters_3x3_reduce=96,\n",
        "                     filters_3x3=128,\n",
        "                     filters_5x5_reduce=16,\n",
        "                     filters_3x3a=32,\n",
        "                     filters_3x3b=32,\n",
        "                     filters_pool_proj=32,\n",
        "                     name='inception_3aa')\n",
        "\n",
        "#I am commenting the numbers of times module A, ModuleB is called as it is helping to increase my accuracy.In original InceptionV2 architecture ModuleA is called\n",
        "#3 times, ModuleB is called 5 times and ModuleC is called 2 times:-\n",
        "# x = inception_moduleA(x,\n",
        "#                      filters_1x1=64,\n",
        "#                      filters_3x3_reduce=96,\n",
        "#                      filters_3x3=128,\n",
        "#                      filters_5x5_reduce=16,\n",
        "#                      filters_3x3a=32,\n",
        "#                      filters_3x3b=32,\n",
        "#                      filters_pool_proj=32,\n",
        "#                      name='inception_3aaa')\n",
        "\n",
        "x = inception_moduleB(x,\n",
        "                     filters_1x1modb=64,\n",
        "                     filters_3x3_reducemodb=96,\n",
        "                     filters_1x3modb=128,\n",
        "                     filters_3x1modb=128,\n",
        "                     filters_5x5_reducemodb=16,\n",
        "                     filters_1x3amodb=128,\n",
        "                     filters_3x1amodb=128,\n",
        "                     filters_1x3bmodb=128,\n",
        "                     filters_3x1bmodb=128,\n",
        "                   filters_pool_proj=32,\n",
        "                     name='inception_4a')\n",
        "x = inception_moduleB(x,\n",
        "                     filters_1x1modb=64,\n",
        "                     filters_3x3_reducemodb=96,\n",
        "                     filters_1x3modb=128,\n",
        "                     filters_3x1modb=128,\n",
        "                     filters_5x5_reducemodb=16,\n",
        "                     filters_1x3amodb=128,\n",
        "                     filters_3x1amodb=128,\n",
        "                     filters_1x3bmodb=128,\n",
        "                     filters_3x1bmodb=128,\n",
        "                     filters_pool_proj=32,\n",
        "                     name='inception_4aa')\n",
        "x = inception_moduleB(x,\n",
        "                     filters_1x1modb=64,\n",
        "                     filters_3x3_reducemodb=96,\n",
        "                     filters_1x3modb=128,\n",
        "                     filters_3x1modb=128,\n",
        "                     filters_5x5_reducemodb=16,\n",
        "                     filters_1x3amodb=128,\n",
        "                     filters_3x1amodb=128,\n",
        "                     filters_1x3bmodb=128,\n",
        "                     filters_3x1bmodb=128,\n",
        "                      filters_pool_proj=32,\n",
        "             \n",
        "                     name='inception_4aaa')\n",
        "#I am commenting the numbers of times module A, ModuleB is called as it is helping to increase my accuracy.In original InceptionV2 architecture ModuleA is called\n",
        "#3 times, ModuleB is called 5 times and ModuleC is called 2 times:-\n",
        "# x = inception_moduleB(x,\n",
        "#                      filters_1x1modb=64,\n",
        "#                      filters_3x3_reducemodb=96,\n",
        "#                      filters_1x3modb=128,\n",
        "#                      filters_3x1modb=128,\n",
        "#                      filters_5x5_reducemodb=16,\n",
        "#                      filters_1x3amodb=128,\n",
        "#                      filters_3x1amodb=128,\n",
        "#                      filters_1x3bmodb=128,\n",
        "#                      filters_3x1bmodb=128,\n",
        "#                      filters_pool_proj=32,\n",
        "#                      name='inception_4aaaa')\n",
        "# x = inception_moduleB(x,\n",
        "#                      filters_1x1modb=64,\n",
        "#                      filters_3x3_reducemodb=96,\n",
        "#                      filters_1x3modb=128,\n",
        "#                      filters_3x1modb=128,\n",
        "#                      filters_5x5_reducemodb=16,\n",
        "#                      filters_1x3amodb=128,\n",
        "#                      filters_3x1amodb=128,\n",
        "#                      filters_1x3bmodb=128,\n",
        "#                      filters_3x1bmodb=128,\n",
        "#                      filters_pool_proj=32,\n",
        "#                      name='inception_4aaaaa')\n",
        "\n",
        "x = inception_moduleC(x,\n",
        "                     filters_1x1modc=64,\n",
        "                     filters_3x3_reducemodc=96,\n",
        "                     filters_1x3modc=128,\n",
        "                     filters_3x1modc=128,\n",
        "                     filters_5x5_reducemodc=16,\n",
        "                     filters_3x3amodc=128,\n",
        "                     filters_1x3amodc=128,\n",
        "                     filters_3x1amodc=128,\n",
        "                     filters_pool_proj=32,\n",
        "                    \n",
        "                     name='inception_5a')\n",
        "x = inception_moduleC(x,\n",
        "                     filters_1x1modc=64,\n",
        "                     filters_3x3_reducemodc=96,\n",
        "                     filters_1x3modc=128,\n",
        "                     filters_3x1modc=128,\n",
        "                     filters_5x5_reducemodc=16,\n",
        "                     filters_3x3amodc=128,\n",
        "                     filters_1x3amodc=128,\n",
        "                     filters_3x1amodc=128,\n",
        "                     filters_pool_proj=32,\n",
        "             \n",
        "                     name='inception_5aa')\n",
        "\n",
        "x = GlobalAveragePooling2D(name='avg_pool_5_3x3/1')(x)\n",
        "# x = Dropout(0.4)(x)\n",
        "x = Flatten()(x)\n",
        "output = Dense(100, activation='softmax', name='output')(x)"
      ],
      "execution_count": 7,
      "outputs": []
    },
    {
      "cell_type": "code",
      "metadata": {
        "id": "7GWOmOi_qTCS"
      },
      "source": [
        "model = Model(input_layer,  output)"
      ],
      "execution_count": 8,
      "outputs": []
    },
    {
      "cell_type": "code",
      "metadata": {
        "id": "Ok_nFUWbFuwg",
        "outputId": "a32d29aa-61f6-469f-99e0-191c1345fb31",
        "colab": {
          "base_uri": "https://localhost:8080/",
          "height": 1000
        }
      },
      "source": [
        "model.summary()\n"
      ],
      "execution_count": 9,
      "outputs": [
        {
          "output_type": "stream",
          "text": [
            "Model: \"functional_1\"\n",
            "__________________________________________________________________________________________________\n",
            "Layer (type)                    Output Shape         Param #     Connected to                     \n",
            "==================================================================================================\n",
            "input_1 (InputLayer)            [(None, 32, 32, 3)]  0                                            \n",
            "__________________________________________________________________________________________________\n",
            "conv_1a_3x3/2 (Conv2D)          (None, 16, 16, 64)   1792        input_1[0][0]                    \n",
            "__________________________________________________________________________________________________\n",
            "conv_2a_3x3/1 (Conv2D)          (None, 16, 16, 64)   36928       conv_1a_3x3/2[0][0]              \n",
            "__________________________________________________________________________________________________\n",
            "conv_3a_3x3/1 (Conv2D)          (None, 16, 16, 64)   36928       conv_2a_3x3/1[0][0]              \n",
            "__________________________________________________________________________________________________\n",
            "max_pool_2_3x3/2 (MaxPooling2D) (None, 8, 8, 64)     0           conv_3a_3x3/1[0][0]              \n",
            "__________________________________________________________________________________________________\n",
            "conv_4a_3x3/1 (Conv2D)          (None, 8, 8, 64)     36928       max_pool_2_3x3/2[0][0]           \n",
            "__________________________________________________________________________________________________\n",
            "conv_5a_3x3/2 (Conv2D)          (None, 4, 4, 64)     36928       conv_4a_3x3/1[0][0]              \n",
            "__________________________________________________________________________________________________\n",
            "conv_6a_3x3/1 (Conv2D)          (None, 4, 4, 64)     36928       conv_5a_3x3/2[0][0]              \n",
            "__________________________________________________________________________________________________\n",
            "conv2d_1 (Conv2D)               (None, 4, 4, 96)     6240        conv_6a_3x3/1[0][0]              \n",
            "__________________________________________________________________________________________________\n",
            "conv2d_3 (Conv2D)               (None, 4, 4, 16)     1040        conv_6a_3x3/1[0][0]              \n",
            "__________________________________________________________________________________________________\n",
            "max_pooling2d (MaxPooling2D)    (None, 4, 4, 64)     0           conv_6a_3x3/1[0][0]              \n",
            "__________________________________________________________________________________________________\n",
            "conv2d (Conv2D)                 (None, 4, 4, 64)     4160        conv_6a_3x3/1[0][0]              \n",
            "__________________________________________________________________________________________________\n",
            "conv2d_2 (Conv2D)               (None, 4, 4, 128)    110720      conv2d_1[0][0]                   \n",
            "__________________________________________________________________________________________________\n",
            "conv2d_4 (Conv2D)               (None, 4, 4, 32)     4640        conv2d_3[0][0]                   \n",
            "__________________________________________________________________________________________________\n",
            "conv2d_6 (Conv2D)               (None, 4, 4, 32)     2080        max_pooling2d[0][0]              \n",
            "__________________________________________________________________________________________________\n",
            "inception_3a (Concatenate)      (None, 4, 4, 256)    0           conv2d[0][0]                     \n",
            "                                                                 conv2d_2[0][0]                   \n",
            "                                                                 conv2d_4[0][0]                   \n",
            "                                                                 conv2d_6[0][0]                   \n",
            "__________________________________________________________________________________________________\n",
            "conv2d_8 (Conv2D)               (None, 4, 4, 96)     24672       inception_3a[0][0]               \n",
            "__________________________________________________________________________________________________\n",
            "conv2d_10 (Conv2D)              (None, 4, 4, 16)     4112        inception_3a[0][0]               \n",
            "__________________________________________________________________________________________________\n",
            "max_pooling2d_1 (MaxPooling2D)  (None, 4, 4, 256)    0           inception_3a[0][0]               \n",
            "__________________________________________________________________________________________________\n",
            "conv2d_7 (Conv2D)               (None, 4, 4, 64)     16448       inception_3a[0][0]               \n",
            "__________________________________________________________________________________________________\n",
            "conv2d_9 (Conv2D)               (None, 4, 4, 128)    110720      conv2d_8[0][0]                   \n",
            "__________________________________________________________________________________________________\n",
            "conv2d_11 (Conv2D)              (None, 4, 4, 32)     4640        conv2d_10[0][0]                  \n",
            "__________________________________________________________________________________________________\n",
            "conv2d_13 (Conv2D)              (None, 4, 4, 32)     8224        max_pooling2d_1[0][0]            \n",
            "__________________________________________________________________________________________________\n",
            "inception_3aa (Concatenate)     (None, 4, 4, 256)    0           conv2d_7[0][0]                   \n",
            "                                                                 conv2d_9[0][0]                   \n",
            "                                                                 conv2d_11[0][0]                  \n",
            "                                                                 conv2d_13[0][0]                  \n",
            "__________________________________________________________________________________________________\n",
            "conv2d_18 (Conv2D)              (None, 4, 4, 16)     4112        inception_3aa[0][0]              \n",
            "__________________________________________________________________________________________________\n",
            "conv2d_19 (Conv2D)              (None, 4, 4, 128)    6272        conv2d_18[0][0]                  \n",
            "__________________________________________________________________________________________________\n",
            "conv2d_15 (Conv2D)              (None, 4, 4, 96)     24672       inception_3aa[0][0]              \n",
            "__________________________________________________________________________________________________\n",
            "conv2d_20 (Conv2D)              (None, 4, 4, 128)    49280       conv2d_19[0][0]                  \n",
            "__________________________________________________________________________________________________\n",
            "conv2d_16 (Conv2D)              (None, 4, 4, 128)    36992       conv2d_15[0][0]                  \n",
            "__________________________________________________________________________________________________\n",
            "conv2d_21 (Conv2D)              (None, 4, 4, 128)    49280       conv2d_20[0][0]                  \n",
            "__________________________________________________________________________________________________\n",
            "max_pooling2d_2 (MaxPooling2D)  (None, 4, 4, 256)    0           inception_3aa[0][0]              \n",
            "__________________________________________________________________________________________________\n",
            "conv2d_14 (Conv2D)              (None, 4, 4, 64)     16448       inception_3aa[0][0]              \n",
            "__________________________________________________________________________________________________\n",
            "conv2d_17 (Conv2D)              (None, 4, 4, 128)    49280       conv2d_16[0][0]                  \n",
            "__________________________________________________________________________________________________\n",
            "conv2d_22 (Conv2D)              (None, 4, 4, 128)    49280       conv2d_21[0][0]                  \n",
            "__________________________________________________________________________________________________\n",
            "conv2d_23 (Conv2D)              (None, 4, 4, 32)     8224        max_pooling2d_2[0][0]            \n",
            "__________________________________________________________________________________________________\n",
            "inception_4a (Concatenate)      (None, 4, 4, 352)    0           conv2d_14[0][0]                  \n",
            "                                                                 conv2d_17[0][0]                  \n",
            "                                                                 conv2d_22[0][0]                  \n",
            "                                                                 conv2d_23[0][0]                  \n",
            "__________________________________________________________________________________________________\n",
            "conv2d_28 (Conv2D)              (None, 4, 4, 16)     5648        inception_4a[0][0]               \n",
            "__________________________________________________________________________________________________\n",
            "conv2d_29 (Conv2D)              (None, 4, 4, 128)    6272        conv2d_28[0][0]                  \n",
            "__________________________________________________________________________________________________\n",
            "conv2d_25 (Conv2D)              (None, 4, 4, 96)     33888       inception_4a[0][0]               \n",
            "__________________________________________________________________________________________________\n",
            "conv2d_30 (Conv2D)              (None, 4, 4, 128)    49280       conv2d_29[0][0]                  \n",
            "__________________________________________________________________________________________________\n",
            "conv2d_26 (Conv2D)              (None, 4, 4, 128)    36992       conv2d_25[0][0]                  \n",
            "__________________________________________________________________________________________________\n",
            "conv2d_31 (Conv2D)              (None, 4, 4, 128)    49280       conv2d_30[0][0]                  \n",
            "__________________________________________________________________________________________________\n",
            "max_pooling2d_3 (MaxPooling2D)  (None, 4, 4, 352)    0           inception_4a[0][0]               \n",
            "__________________________________________________________________________________________________\n",
            "conv2d_24 (Conv2D)              (None, 4, 4, 64)     22592       inception_4a[0][0]               \n",
            "__________________________________________________________________________________________________\n",
            "conv2d_27 (Conv2D)              (None, 4, 4, 128)    49280       conv2d_26[0][0]                  \n",
            "__________________________________________________________________________________________________\n",
            "conv2d_32 (Conv2D)              (None, 4, 4, 128)    49280       conv2d_31[0][0]                  \n",
            "__________________________________________________________________________________________________\n",
            "conv2d_33 (Conv2D)              (None, 4, 4, 32)     11296       max_pooling2d_3[0][0]            \n",
            "__________________________________________________________________________________________________\n",
            "inception_4aa (Concatenate)     (None, 4, 4, 352)    0           conv2d_24[0][0]                  \n",
            "                                                                 conv2d_27[0][0]                  \n",
            "                                                                 conv2d_32[0][0]                  \n",
            "                                                                 conv2d_33[0][0]                  \n",
            "__________________________________________________________________________________________________\n",
            "conv2d_38 (Conv2D)              (None, 4, 4, 16)     5648        inception_4aa[0][0]              \n",
            "__________________________________________________________________________________________________\n",
            "conv2d_39 (Conv2D)              (None, 4, 4, 128)    6272        conv2d_38[0][0]                  \n",
            "__________________________________________________________________________________________________\n",
            "conv2d_35 (Conv2D)              (None, 4, 4, 96)     33888       inception_4aa[0][0]              \n",
            "__________________________________________________________________________________________________\n",
            "conv2d_40 (Conv2D)              (None, 4, 4, 128)    49280       conv2d_39[0][0]                  \n",
            "__________________________________________________________________________________________________\n",
            "conv2d_36 (Conv2D)              (None, 4, 4, 128)    36992       conv2d_35[0][0]                  \n",
            "__________________________________________________________________________________________________\n",
            "conv2d_41 (Conv2D)              (None, 4, 4, 128)    49280       conv2d_40[0][0]                  \n",
            "__________________________________________________________________________________________________\n",
            "max_pooling2d_4 (MaxPooling2D)  (None, 4, 4, 352)    0           inception_4aa[0][0]              \n",
            "__________________________________________________________________________________________________\n",
            "conv2d_34 (Conv2D)              (None, 4, 4, 64)     22592       inception_4aa[0][0]              \n",
            "__________________________________________________________________________________________________\n",
            "conv2d_37 (Conv2D)              (None, 4, 4, 128)    49280       conv2d_36[0][0]                  \n",
            "__________________________________________________________________________________________________\n",
            "conv2d_42 (Conv2D)              (None, 4, 4, 128)    49280       conv2d_41[0][0]                  \n",
            "__________________________________________________________________________________________________\n",
            "conv2d_43 (Conv2D)              (None, 4, 4, 32)     11296       max_pooling2d_4[0][0]            \n",
            "__________________________________________________________________________________________________\n",
            "inception_4aaa (Concatenate)    (None, 4, 4, 352)    0           conv2d_34[0][0]                  \n",
            "                                                                 conv2d_37[0][0]                  \n",
            "                                                                 conv2d_42[0][0]                  \n",
            "                                                                 conv2d_43[0][0]                  \n",
            "__________________________________________________________________________________________________\n",
            "conv2d_48 (Conv2D)              (None, 4, 4, 16)     5648        inception_4aaa[0][0]             \n",
            "__________________________________________________________________________________________________\n",
            "conv2d_45 (Conv2D)              (None, 4, 4, 96)     33888       inception_4aaa[0][0]             \n",
            "__________________________________________________________________________________________________\n",
            "conv2d_49 (Conv2D)              (None, 4, 4, 128)    2176        conv2d_48[0][0]                  \n",
            "__________________________________________________________________________________________________\n",
            "conv2d_46 (Conv2D)              (None, 4, 4, 128)    36992       conv2d_45[0][0]                  \n",
            "__________________________________________________________________________________________________\n",
            "conv2d_50 (Conv2D)              (None, 4, 4, 128)    49280       conv2d_49[0][0]                  \n",
            "__________________________________________________________________________________________________\n",
            "max_pooling2d_5 (MaxPooling2D)  (None, 4, 4, 352)    0           inception_4aaa[0][0]             \n",
            "__________________________________________________________________________________________________\n",
            "conv2d_44 (Conv2D)              (None, 4, 4, 64)     22592       inception_4aaa[0][0]             \n",
            "__________________________________________________________________________________________________\n",
            "conv2d_47 (Conv2D)              (None, 4, 4, 128)    49280       conv2d_46[0][0]                  \n",
            "__________________________________________________________________________________________________\n",
            "conv2d_51 (Conv2D)              (None, 4, 4, 128)    49280       conv2d_50[0][0]                  \n",
            "__________________________________________________________________________________________________\n",
            "conv2d_52 (Conv2D)              (None, 4, 4, 32)     11296       max_pooling2d_5[0][0]            \n",
            "__________________________________________________________________________________________________\n",
            "inception_5a (Concatenate)      (None, 4, 4, 608)    0           conv2d_44[0][0]                  \n",
            "                                                                 conv2d_46[0][0]                  \n",
            "                                                                 conv2d_47[0][0]                  \n",
            "                                                                 conv2d_50[0][0]                  \n",
            "                                                                 conv2d_51[0][0]                  \n",
            "                                                                 conv2d_52[0][0]                  \n",
            "__________________________________________________________________________________________________\n",
            "conv2d_57 (Conv2D)              (None, 4, 4, 16)     9744        inception_5a[0][0]               \n",
            "__________________________________________________________________________________________________\n",
            "conv2d_54 (Conv2D)              (None, 4, 4, 96)     58464       inception_5a[0][0]               \n",
            "__________________________________________________________________________________________________\n",
            "conv2d_58 (Conv2D)              (None, 4, 4, 128)    2176        conv2d_57[0][0]                  \n",
            "__________________________________________________________________________________________________\n",
            "conv2d_55 (Conv2D)              (None, 4, 4, 128)    36992       conv2d_54[0][0]                  \n",
            "__________________________________________________________________________________________________\n",
            "conv2d_59 (Conv2D)              (None, 4, 4, 128)    49280       conv2d_58[0][0]                  \n",
            "__________________________________________________________________________________________________\n",
            "max_pooling2d_6 (MaxPooling2D)  (None, 4, 4, 608)    0           inception_5a[0][0]               \n",
            "__________________________________________________________________________________________________\n",
            "conv2d_53 (Conv2D)              (None, 4, 4, 64)     38976       inception_5a[0][0]               \n",
            "__________________________________________________________________________________________________\n",
            "conv2d_56 (Conv2D)              (None, 4, 4, 128)    49280       conv2d_55[0][0]                  \n",
            "__________________________________________________________________________________________________\n",
            "conv2d_60 (Conv2D)              (None, 4, 4, 128)    49280       conv2d_59[0][0]                  \n",
            "__________________________________________________________________________________________________\n",
            "conv2d_61 (Conv2D)              (None, 4, 4, 32)     19488       max_pooling2d_6[0][0]            \n",
            "__________________________________________________________________________________________________\n",
            "inception_5aa (Concatenate)     (None, 4, 4, 608)    0           conv2d_53[0][0]                  \n",
            "                                                                 conv2d_55[0][0]                  \n",
            "                                                                 conv2d_56[0][0]                  \n",
            "                                                                 conv2d_59[0][0]                  \n",
            "                                                                 conv2d_60[0][0]                  \n",
            "                                                                 conv2d_61[0][0]                  \n",
            "__________________________________________________________________________________________________\n",
            "avg_pool_5_3x3/1 (GlobalAverage (None, 608)          0           inception_5aa[0][0]              \n",
            "__________________________________________________________________________________________________\n",
            "flatten (Flatten)               (None, 608)          0           avg_pool_5_3x3/1[0][0]           \n",
            "__________________________________________________________________________________________________\n",
            "output (Dense)                  (None, 100)          60900       flatten[0][0]                    \n",
            "==================================================================================================\n",
            "Total params: 2,040,596\n",
            "Trainable params: 2,040,596\n",
            "Non-trainable params: 0\n",
            "__________________________________________________________________________________________________\n"
          ],
          "name": "stdout"
        }
      ]
    },
    {
      "cell_type": "markdown",
      "metadata": {
        "id": "I-jkzpVu1SSF"
      },
      "source": [
        "<h3><b> Model Compile</b></h3>"
      ]
    },
    {
      "cell_type": "code",
      "metadata": {
        "id": "YPd9gc_sBziE"
      },
      "source": [
        "learning_rate = 0.001\n",
        "batch_size = 128\n",
        "lr_decay = 1e-6\n",
        "#optimization details\n",
        "sgd = optimizers.SGD(lr=learning_rate, decay=lr_decay, momentum=0.9, nesterov=True)\n",
        "model.compile(loss='categorical_crossentropy', optimizer=sgd,metrics=['accuracy'])"
      ],
      "execution_count": 10,
      "outputs": []
    },
    {
      "cell_type": "code",
      "metadata": {
        "id": "u_rq-y4K1rgo",
        "outputId": "908257af-7eae-4b84-b8a8-ea9bb19dadf1",
        "colab": {
          "base_uri": "https://localhost:8080/",
          "height": 34
        }
      },
      "source": [
        "# Create Checkpoint and Early Stopping\n",
        "from keras.callbacks import ModelCheckpoint, EarlyStopping\n",
        "checkpoint = ModelCheckpoint(\"InceptionV2_SGD_NoRegularization.h5\", monitor='val_loss', verbose=1, save_best_only=True, save_weights_only=True, mode='auto', period=1)\n",
        "early = EarlyStopping(monitor='val_loss', min_delta=0, patience=5, verbose=1, mode='auto')"
      ],
      "execution_count": 11,
      "outputs": [
        {
          "output_type": "stream",
          "text": [
            "WARNING:tensorflow:`period` argument is deprecated. Please use `save_freq` to specify the frequency in number of batches seen.\n"
          ],
          "name": "stdout"
        }
      ]
    },
    {
      "cell_type": "markdown",
      "metadata": {
        "id": "HogWDFCh1ZxX"
      },
      "source": [
        "<h3><b> Train the Model</b><h3>"
      ]
    },
    {
      "cell_type": "code",
      "metadata": {
        "id": "cxkeVrtvF0Ok",
        "outputId": "532cc016-3e44-4cba-a33d-d865bcded13f",
        "colab": {
          "base_uri": "https://localhost:8080/",
          "height": 1000
        }
      },
      "source": [
        "history = model.fit(X_train,y_train, validation_data=(X_test,y_test), epochs=150, batch_size=256, callbacks=[checkpoint,early])\n"
      ],
      "execution_count": 12,
      "outputs": [
        {
          "output_type": "stream",
          "text": [
            "Epoch 1/150\n",
            "196/196 [==============================] - ETA: 0s - loss: 4.6049 - accuracy: 0.0079\n",
            "Epoch 00001: val_loss improved from inf to 4.60254, saving model to InceptionV2_SGD_NoRegularization.h5\n",
            "196/196 [==============================] - 11s 57ms/step - loss: 4.6049 - accuracy: 0.0079 - val_loss: 4.6025 - val_accuracy: 0.0090\n",
            "Epoch 2/150\n",
            "195/196 [============================>.] - ETA: 0s - loss: 4.6004 - accuracy: 0.0123\n",
            "Epoch 00002: val_loss improved from 4.60254 to 4.59764, saving model to InceptionV2_SGD_NoRegularization.h5\n",
            "196/196 [==============================] - 10s 52ms/step - loss: 4.6004 - accuracy: 0.0123 - val_loss: 4.5976 - val_accuracy: 0.0145\n",
            "Epoch 3/150\n",
            "196/196 [==============================] - ETA: 0s - loss: 4.5920 - accuracy: 0.0189\n",
            "Epoch 00003: val_loss improved from 4.59764 to 4.58298, saving model to InceptionV2_SGD_NoRegularization.h5\n",
            "196/196 [==============================] - 10s 52ms/step - loss: 4.5920 - accuracy: 0.0189 - val_loss: 4.5830 - val_accuracy: 0.0225\n",
            "Epoch 4/150\n",
            "195/196 [============================>.] - ETA: 0s - loss: 4.5483 - accuracy: 0.0262\n",
            "Epoch 00004: val_loss improved from 4.58298 to 4.49241, saving model to InceptionV2_SGD_NoRegularization.h5\n",
            "196/196 [==============================] - 10s 53ms/step - loss: 4.5482 - accuracy: 0.0262 - val_loss: 4.4924 - val_accuracy: 0.0258\n",
            "Epoch 5/150\n",
            "195/196 [============================>.] - ETA: 0s - loss: 4.4411 - accuracy: 0.0259\n",
            "Epoch 00005: val_loss improved from 4.49241 to 4.39997, saving model to InceptionV2_SGD_NoRegularization.h5\n",
            "196/196 [==============================] - 10s 53ms/step - loss: 4.4411 - accuracy: 0.0258 - val_loss: 4.4000 - val_accuracy: 0.0244\n",
            "Epoch 6/150\n",
            "196/196 [==============================] - ETA: 0s - loss: 4.3621 - accuracy: 0.0284\n",
            "Epoch 00006: val_loss improved from 4.39997 to 4.33007, saving model to InceptionV2_SGD_NoRegularization.h5\n",
            "196/196 [==============================] - 10s 52ms/step - loss: 4.3621 - accuracy: 0.0284 - val_loss: 4.3301 - val_accuracy: 0.0319\n",
            "Epoch 7/150\n",
            "196/196 [==============================] - ETA: 0s - loss: 4.2821 - accuracy: 0.0381\n",
            "Epoch 00007: val_loss improved from 4.33007 to 4.25923, saving model to InceptionV2_SGD_NoRegularization.h5\n",
            "196/196 [==============================] - 10s 52ms/step - loss: 4.2821 - accuracy: 0.0381 - val_loss: 4.2592 - val_accuracy: 0.0437\n",
            "Epoch 8/150\n",
            "195/196 [============================>.] - ETA: 0s - loss: 4.2013 - accuracy: 0.0515\n",
            "Epoch 00008: val_loss improved from 4.25923 to 4.17235, saving model to InceptionV2_SGD_NoRegularization.h5\n",
            "196/196 [==============================] - 10s 52ms/step - loss: 4.2013 - accuracy: 0.0515 - val_loss: 4.1724 - val_accuracy: 0.0554\n",
            "Epoch 9/150\n",
            "196/196 [==============================] - ETA: 0s - loss: 4.1347 - accuracy: 0.0593\n",
            "Epoch 00009: val_loss improved from 4.17235 to 4.10758, saving model to InceptionV2_SGD_NoRegularization.h5\n",
            "196/196 [==============================] - 10s 51ms/step - loss: 4.1347 - accuracy: 0.0593 - val_loss: 4.1076 - val_accuracy: 0.0666\n",
            "Epoch 10/150\n",
            "195/196 [============================>.] - ETA: 0s - loss: 4.0804 - accuracy: 0.0677\n",
            "Epoch 00010: val_loss improved from 4.10758 to 4.06408, saving model to InceptionV2_SGD_NoRegularization.h5\n",
            "196/196 [==============================] - 10s 52ms/step - loss: 4.0803 - accuracy: 0.0677 - val_loss: 4.0641 - val_accuracy: 0.0734\n",
            "Epoch 11/150\n",
            "195/196 [============================>.] - ETA: 0s - loss: 4.0116 - accuracy: 0.0797\n",
            "Epoch 00011: val_loss improved from 4.06408 to 3.97489, saving model to InceptionV2_SGD_NoRegularization.h5\n",
            "196/196 [==============================] - 10s 52ms/step - loss: 4.0116 - accuracy: 0.0797 - val_loss: 3.9749 - val_accuracy: 0.0872\n",
            "Epoch 12/150\n",
            "196/196 [==============================] - ETA: 0s - loss: 3.9215 - accuracy: 0.0912\n",
            "Epoch 00012: val_loss improved from 3.97489 to 3.91247, saving model to InceptionV2_SGD_NoRegularization.h5\n",
            "196/196 [==============================] - 10s 52ms/step - loss: 3.9215 - accuracy: 0.0912 - val_loss: 3.9125 - val_accuracy: 0.0906\n",
            "Epoch 13/150\n",
            "196/196 [==============================] - ETA: 0s - loss: 3.8280 - accuracy: 0.1043\n",
            "Epoch 00013: val_loss improved from 3.91247 to 3.83015, saving model to InceptionV2_SGD_NoRegularization.h5\n",
            "196/196 [==============================] - 10s 52ms/step - loss: 3.8280 - accuracy: 0.1043 - val_loss: 3.8302 - val_accuracy: 0.1060\n",
            "Epoch 14/150\n",
            "195/196 [============================>.] - ETA: 0s - loss: 3.7594 - accuracy: 0.1154\n",
            "Epoch 00014: val_loss improved from 3.83015 to 3.74090, saving model to InceptionV2_SGD_NoRegularization.h5\n",
            "196/196 [==============================] - 10s 52ms/step - loss: 3.7594 - accuracy: 0.1154 - val_loss: 3.7409 - val_accuracy: 0.1162\n",
            "Epoch 15/150\n",
            "195/196 [============================>.] - ETA: 0s - loss: 3.7050 - accuracy: 0.1211\n",
            "Epoch 00015: val_loss improved from 3.74090 to 3.68698, saving model to InceptionV2_SGD_NoRegularization.h5\n",
            "196/196 [==============================] - 10s 52ms/step - loss: 3.7051 - accuracy: 0.1212 - val_loss: 3.6870 - val_accuracy: 0.1243\n",
            "Epoch 16/150\n",
            "196/196 [==============================] - ETA: 0s - loss: 3.6598 - accuracy: 0.1294\n",
            "Epoch 00016: val_loss did not improve from 3.68698\n",
            "196/196 [==============================] - 10s 51ms/step - loss: 3.6598 - accuracy: 0.1294 - val_loss: 3.6995 - val_accuracy: 0.1251\n",
            "Epoch 17/150\n",
            "196/196 [==============================] - ETA: 0s - loss: 3.6159 - accuracy: 0.1342\n",
            "Epoch 00017: val_loss improved from 3.68698 to 3.61624, saving model to InceptionV2_SGD_NoRegularization.h5\n",
            "196/196 [==============================] - 10s 52ms/step - loss: 3.6159 - accuracy: 0.1342 - val_loss: 3.6162 - val_accuracy: 0.1316\n",
            "Epoch 18/150\n",
            "195/196 [============================>.] - ETA: 0s - loss: 3.5653 - accuracy: 0.1403\n",
            "Epoch 00018: val_loss improved from 3.61624 to 3.57405, saving model to InceptionV2_SGD_NoRegularization.h5\n",
            "196/196 [==============================] - 10s 52ms/step - loss: 3.5652 - accuracy: 0.1404 - val_loss: 3.5740 - val_accuracy: 0.1433\n",
            "Epoch 19/150\n",
            "196/196 [==============================] - ETA: 0s - loss: 3.5110 - accuracy: 0.1506\n",
            "Epoch 00019: val_loss did not improve from 3.57405\n",
            "196/196 [==============================] - 10s 52ms/step - loss: 3.5110 - accuracy: 0.1506 - val_loss: 3.6285 - val_accuracy: 0.1309\n",
            "Epoch 20/150\n",
            "195/196 [============================>.] - ETA: 0s - loss: 3.4559 - accuracy: 0.1587\n",
            "Epoch 00020: val_loss improved from 3.57405 to 3.47860, saving model to InceptionV2_SGD_NoRegularization.h5\n",
            "196/196 [==============================] - 10s 52ms/step - loss: 3.4560 - accuracy: 0.1586 - val_loss: 3.4786 - val_accuracy: 0.1562\n",
            "Epoch 21/150\n",
            "195/196 [============================>.] - ETA: 0s - loss: 3.4055 - accuracy: 0.1661\n",
            "Epoch 00021: val_loss improved from 3.47860 to 3.40553, saving model to InceptionV2_SGD_NoRegularization.h5\n",
            "196/196 [==============================] - 10s 52ms/step - loss: 3.4054 - accuracy: 0.1661 - val_loss: 3.4055 - val_accuracy: 0.1726\n",
            "Epoch 22/150\n",
            "196/196 [==============================] - ETA: 0s - loss: 3.3491 - accuracy: 0.1762\n",
            "Epoch 00022: val_loss improved from 3.40553 to 3.34230, saving model to InceptionV2_SGD_NoRegularization.h5\n",
            "196/196 [==============================] - 10s 53ms/step - loss: 3.3491 - accuracy: 0.1762 - val_loss: 3.3423 - val_accuracy: 0.1815\n",
            "Epoch 23/150\n",
            "195/196 [============================>.] - ETA: 0s - loss: 3.2956 - accuracy: 0.1858\n",
            "Epoch 00023: val_loss improved from 3.34230 to 3.34163, saving model to InceptionV2_SGD_NoRegularization.h5\n",
            "196/196 [==============================] - 10s 52ms/step - loss: 3.2955 - accuracy: 0.1858 - val_loss: 3.3416 - val_accuracy: 0.1801\n",
            "Epoch 24/150\n",
            "196/196 [==============================] - ETA: 0s - loss: 3.2463 - accuracy: 0.1921\n",
            "Epoch 00024: val_loss improved from 3.34163 to 3.26303, saving model to InceptionV2_SGD_NoRegularization.h5\n",
            "196/196 [==============================] - 10s 52ms/step - loss: 3.2463 - accuracy: 0.1921 - val_loss: 3.2630 - val_accuracy: 0.1953\n",
            "Epoch 25/150\n",
            "196/196 [==============================] - ETA: 0s - loss: 3.1980 - accuracy: 0.2031\n",
            "Epoch 00025: val_loss improved from 3.26303 to 3.22700, saving model to InceptionV2_SGD_NoRegularization.h5\n",
            "196/196 [==============================] - 10s 52ms/step - loss: 3.1980 - accuracy: 0.2031 - val_loss: 3.2270 - val_accuracy: 0.2056\n",
            "Epoch 26/150\n",
            "195/196 [============================>.] - ETA: 0s - loss: 3.1526 - accuracy: 0.2129\n",
            "Epoch 00026: val_loss improved from 3.22700 to 3.19467, saving model to InceptionV2_SGD_NoRegularization.h5\n",
            "196/196 [==============================] - 10s 52ms/step - loss: 3.1522 - accuracy: 0.2130 - val_loss: 3.1947 - val_accuracy: 0.2048\n",
            "Epoch 27/150\n",
            "195/196 [============================>.] - ETA: 0s - loss: 3.1037 - accuracy: 0.2202\n",
            "Epoch 00027: val_loss improved from 3.19467 to 3.13274, saving model to InceptionV2_SGD_NoRegularization.h5\n",
            "196/196 [==============================] - 10s 52ms/step - loss: 3.1041 - accuracy: 0.2201 - val_loss: 3.1327 - val_accuracy: 0.2222\n",
            "Epoch 28/150\n",
            "195/196 [============================>.] - ETA: 0s - loss: 3.0570 - accuracy: 0.2311\n",
            "Epoch 00028: val_loss improved from 3.13274 to 3.10628, saving model to InceptionV2_SGD_NoRegularization.h5\n",
            "196/196 [==============================] - 10s 52ms/step - loss: 3.0568 - accuracy: 0.2311 - val_loss: 3.1063 - val_accuracy: 0.2313\n",
            "Epoch 29/150\n",
            "195/196 [============================>.] - ETA: 0s - loss: 3.0053 - accuracy: 0.2410\n",
            "Epoch 00029: val_loss improved from 3.10628 to 3.08328, saving model to InceptionV2_SGD_NoRegularization.h5\n",
            "196/196 [==============================] - 10s 52ms/step - loss: 3.0054 - accuracy: 0.2409 - val_loss: 3.0833 - val_accuracy: 0.2317\n",
            "Epoch 30/150\n",
            "195/196 [============================>.] - ETA: 0s - loss: 2.9562 - accuracy: 0.2511\n",
            "Epoch 00030: val_loss improved from 3.08328 to 3.04401, saving model to InceptionV2_SGD_NoRegularization.h5\n",
            "196/196 [==============================] - 10s 52ms/step - loss: 2.9564 - accuracy: 0.2510 - val_loss: 3.0440 - val_accuracy: 0.2424\n",
            "Epoch 31/150\n",
            "195/196 [============================>.] - ETA: 0s - loss: 2.9058 - accuracy: 0.2602\n",
            "Epoch 00031: val_loss improved from 3.04401 to 3.01234, saving model to InceptionV2_SGD_NoRegularization.h5\n",
            "196/196 [==============================] - 10s 52ms/step - loss: 2.9057 - accuracy: 0.2602 - val_loss: 3.0123 - val_accuracy: 0.2466\n",
            "Epoch 32/150\n",
            "195/196 [============================>.] - ETA: 0s - loss: 2.8600 - accuracy: 0.2680\n",
            "Epoch 00032: val_loss improved from 3.01234 to 2.96260, saving model to InceptionV2_SGD_NoRegularization.h5\n",
            "196/196 [==============================] - 10s 52ms/step - loss: 2.8602 - accuracy: 0.2679 - val_loss: 2.9626 - val_accuracy: 0.2554\n",
            "Epoch 33/150\n",
            "196/196 [==============================] - ETA: 0s - loss: 2.8183 - accuracy: 0.2763\n",
            "Epoch 00033: val_loss improved from 2.96260 to 2.93606, saving model to InceptionV2_SGD_NoRegularization.h5\n",
            "196/196 [==============================] - 10s 52ms/step - loss: 2.8183 - accuracy: 0.2763 - val_loss: 2.9361 - val_accuracy: 0.2606\n",
            "Epoch 34/150\n",
            "195/196 [============================>.] - ETA: 0s - loss: 2.7786 - accuracy: 0.2862\n",
            "Epoch 00034: val_loss improved from 2.93606 to 2.87855, saving model to InceptionV2_SGD_NoRegularization.h5\n",
            "196/196 [==============================] - 10s 52ms/step - loss: 2.7789 - accuracy: 0.2862 - val_loss: 2.8786 - val_accuracy: 0.2708\n",
            "Epoch 35/150\n",
            "195/196 [============================>.] - ETA: 0s - loss: 2.7348 - accuracy: 0.2955\n",
            "Epoch 00035: val_loss improved from 2.87855 to 2.87291, saving model to InceptionV2_SGD_NoRegularization.h5\n",
            "196/196 [==============================] - 10s 52ms/step - loss: 2.7345 - accuracy: 0.2956 - val_loss: 2.8729 - val_accuracy: 0.2719\n",
            "Epoch 36/150\n",
            "195/196 [============================>.] - ETA: 0s - loss: 2.6924 - accuracy: 0.3015\n",
            "Epoch 00036: val_loss improved from 2.87291 to 2.84452, saving model to InceptionV2_SGD_NoRegularization.h5\n",
            "196/196 [==============================] - 10s 52ms/step - loss: 2.6924 - accuracy: 0.3015 - val_loss: 2.8445 - val_accuracy: 0.2741\n",
            "Epoch 37/150\n",
            "196/196 [==============================] - ETA: 0s - loss: 2.6567 - accuracy: 0.3100\n",
            "Epoch 00037: val_loss improved from 2.84452 to 2.80811, saving model to InceptionV2_SGD_NoRegularization.h5\n",
            "196/196 [==============================] - 10s 52ms/step - loss: 2.6567 - accuracy: 0.3100 - val_loss: 2.8081 - val_accuracy: 0.2888\n",
            "Epoch 38/150\n",
            "195/196 [============================>.] - ETA: 0s - loss: 2.6196 - accuracy: 0.3173\n",
            "Epoch 00038: val_loss improved from 2.80811 to 2.79559, saving model to InceptionV2_SGD_NoRegularization.h5\n",
            "196/196 [==============================] - 10s 52ms/step - loss: 2.6192 - accuracy: 0.3174 - val_loss: 2.7956 - val_accuracy: 0.2906\n",
            "Epoch 39/150\n",
            "196/196 [==============================] - ETA: 0s - loss: 2.5833 - accuracy: 0.3262\n",
            "Epoch 00039: val_loss did not improve from 2.79559\n",
            "196/196 [==============================] - 10s 52ms/step - loss: 2.5833 - accuracy: 0.3262 - val_loss: 2.7991 - val_accuracy: 0.2926\n",
            "Epoch 40/150\n",
            "195/196 [============================>.] - ETA: 0s - loss: 2.5522 - accuracy: 0.3327\n",
            "Epoch 00040: val_loss improved from 2.79559 to 2.72100, saving model to InceptionV2_SGD_NoRegularization.h5\n",
            "196/196 [==============================] - 10s 52ms/step - loss: 2.5515 - accuracy: 0.3328 - val_loss: 2.7210 - val_accuracy: 0.3074\n",
            "Epoch 41/150\n",
            "195/196 [============================>.] - ETA: 0s - loss: 2.5137 - accuracy: 0.3396\n",
            "Epoch 00041: val_loss improved from 2.72100 to 2.71275, saving model to InceptionV2_SGD_NoRegularization.h5\n",
            "196/196 [==============================] - 10s 52ms/step - loss: 2.5140 - accuracy: 0.3396 - val_loss: 2.7127 - val_accuracy: 0.3096\n",
            "Epoch 42/150\n",
            "196/196 [==============================] - ETA: 0s - loss: 2.4808 - accuracy: 0.3465\n",
            "Epoch 00042: val_loss did not improve from 2.71275\n",
            "196/196 [==============================] - 10s 51ms/step - loss: 2.4808 - accuracy: 0.3465 - val_loss: 2.7697 - val_accuracy: 0.3054\n",
            "Epoch 43/150\n",
            "195/196 [============================>.] - ETA: 0s - loss: 2.4478 - accuracy: 0.3538\n",
            "Epoch 00043: val_loss improved from 2.71275 to 2.71192, saving model to InceptionV2_SGD_NoRegularization.h5\n",
            "196/196 [==============================] - 10s 52ms/step - loss: 2.4479 - accuracy: 0.3537 - val_loss: 2.7119 - val_accuracy: 0.3167\n",
            "Epoch 44/150\n",
            "196/196 [==============================] - ETA: 0s - loss: 2.4142 - accuracy: 0.3615\n",
            "Epoch 00044: val_loss did not improve from 2.71192\n",
            "196/196 [==============================] - 10s 52ms/step - loss: 2.4142 - accuracy: 0.3615 - val_loss: 2.7175 - val_accuracy: 0.3102\n",
            "Epoch 45/150\n",
            "195/196 [============================>.] - ETA: 0s - loss: 2.3821 - accuracy: 0.3657\n",
            "Epoch 00045: val_loss improved from 2.71192 to 2.67020, saving model to InceptionV2_SGD_NoRegularization.h5\n",
            "196/196 [==============================] - 10s 52ms/step - loss: 2.3825 - accuracy: 0.3656 - val_loss: 2.6702 - val_accuracy: 0.3192\n",
            "Epoch 46/150\n",
            "195/196 [============================>.] - ETA: 0s - loss: 2.3439 - accuracy: 0.3742\n",
            "Epoch 00046: val_loss improved from 2.67020 to 2.63649, saving model to InceptionV2_SGD_NoRegularization.h5\n",
            "196/196 [==============================] - 10s 52ms/step - loss: 2.3439 - accuracy: 0.3742 - val_loss: 2.6365 - val_accuracy: 0.3258\n",
            "Epoch 47/150\n",
            "195/196 [============================>.] - ETA: 0s - loss: 2.3158 - accuracy: 0.3800\n",
            "Epoch 00047: val_loss did not improve from 2.63649\n",
            "196/196 [==============================] - 10s 52ms/step - loss: 2.3155 - accuracy: 0.3801 - val_loss: 2.6460 - val_accuracy: 0.3233\n",
            "Epoch 48/150\n",
            "195/196 [============================>.] - ETA: 0s - loss: 2.2830 - accuracy: 0.3866\n",
            "Epoch 00048: val_loss did not improve from 2.63649\n",
            "196/196 [==============================] - 10s 52ms/step - loss: 2.2833 - accuracy: 0.3864 - val_loss: 2.6533 - val_accuracy: 0.3270\n",
            "Epoch 49/150\n",
            "195/196 [============================>.] - ETA: 0s - loss: 2.2548 - accuracy: 0.3927\n",
            "Epoch 00049: val_loss did not improve from 2.63649\n",
            "196/196 [==============================] - 10s 52ms/step - loss: 2.2550 - accuracy: 0.3927 - val_loss: 2.6731 - val_accuracy: 0.3198\n",
            "Epoch 50/150\n",
            "195/196 [============================>.] - ETA: 0s - loss: 2.2225 - accuracy: 0.4002\n",
            "Epoch 00050: val_loss did not improve from 2.63649\n",
            "196/196 [==============================] - 10s 52ms/step - loss: 2.2228 - accuracy: 0.4002 - val_loss: 2.7499 - val_accuracy: 0.3135\n",
            "Epoch 51/150\n",
            "196/196 [==============================] - ETA: 0s - loss: 2.1915 - accuracy: 0.4084\n",
            "Epoch 00051: val_loss did not improve from 2.63649\n",
            "196/196 [==============================] - 10s 52ms/step - loss: 2.1915 - accuracy: 0.4084 - val_loss: 2.6529 - val_accuracy: 0.3357\n",
            "Epoch 00051: early stopping\n"
          ],
          "name": "stdout"
        }
      ]
    },
    {
      "cell_type": "markdown",
      "metadata": {
        "id": "Y0xFUMyq_tGF"
      },
      "source": [
        "<h3><b> Graphs</b></h3>"
      ]
    },
    {
      "cell_type": "code",
      "metadata": {
        "id": "U4tGzn_O_n14",
        "outputId": "ba36af98-5b69-471c-c19c-2b4bbf08aa2e",
        "colab": {
          "base_uri": "https://localhost:8080/",
          "height": 312
        }
      },
      "source": [
        "import matplotlib.pyplot as plt\n",
        "\n",
        "history_dict = history.history\n",
        "print(history_dict.keys())\n",
        "accuracy_values = history_dict['accuracy']\n",
        "val_accuracy_values = history_dict['val_accuracy']\n",
        "\n",
        "epochs = range(1, len(history_dict['accuracy']) + 1)\n",
        "\n",
        "plt.plot(epochs, accuracy_values, 'bo', label='Training Accuracy')\n",
        "plt.plot(epochs, val_accuracy_values, 'b', label='Validation loss')\n",
        "plt.title('Training and validation Accuracy')\n",
        "plt.xlabel('Epochs')\n",
        "plt.ylabel('Accuracy')\n",
        "plt.legend()\n",
        "\n",
        "plt.show()"
      ],
      "execution_count": 13,
      "outputs": [
        {
          "output_type": "stream",
          "text": [
            "dict_keys(['loss', 'accuracy', 'val_loss', 'val_accuracy'])\n"
          ],
          "name": "stdout"
        },
        {
          "output_type": "display_data",
          "data": {
            "image/png": "[encoded data removed]",
            "text/plain": [
              "<Figure size 432x288 with 1 Axes>"
            ]
          },
          "metadata": {
            "tags": [],
            "needs_background": "light"
          }
        }
      ]
    },
    {
      "cell_type": "code",
      "metadata": {
        "id": "paDpykeG_pdP",
        "outputId": "206ea5a7-08ef-4995-9f27-8582984c4915",
        "colab": {
          "base_uri": "https://localhost:8080/",
          "height": 312
        }
      },
      "source": [
        "import matplotlib.pyplot as plt\n",
        "\n",
        "history_dict = history.history\n",
        "print(history_dict.keys())\n",
        "loss_values = history_dict['loss']\n",
        "val_loss_values = history_dict['val_loss']\n",
        "\n",
        "epochs = range(1, len(history_dict['accuracy']) + 1)\n",
        "\n",
        "plt.plot(epochs, loss_values, 'bo', label='Training loss')\n",
        "plt.plot(epochs, val_loss_values, 'b', label='Validation loss')\n",
        "plt.title('Training and validation loss')\n",
        "plt.xlabel('Epochs')\n",
        "plt.ylabel('Loss')\n",
        "plt.legend()\n",
        "\n",
        "plt.show()\n"
      ],
      "execution_count": 14,
      "outputs": [
        {
          "output_type": "stream",
          "text": [
            "dict_keys(['loss', 'accuracy', 'val_loss', 'val_accuracy'])\n"
          ],
          "name": "stdout"
        },
        {
          "output_type": "display_data",
          "data": {
            "image/png": "[encoded data removed]",
            "text/plain": [
              "<Figure size 432x288 with 1 Axes>"
            ]
          },
          "metadata": {
            "tags": [],
            "needs_background": "light"
          }
        }
      ]
    },
    {
      "cell_type": "markdown",
      "metadata": {
        "id": "n2CBsx5a2h8O"
      },
      "source": [
        "<h3><b> Metric Calculation</b></h3>"
      ]
    },
    {
      "cell_type": "code",
      "metadata": {
        "id": "XOhTm_r5_68l",
        "outputId": "6b7180d5-ad31-47ee-c842-4668ac885cdd",
        "colab": {
          "base_uri": "https://localhost:8080/",
          "height": 68
        }
      },
      "source": [
        "model1 = Model(input_layer,  output)\n",
        "model1.load_weights(\"./InceptionV2_SGD_NoRegularization.h5\")\n",
        "#optimization details\n",
        "learning_rate = 0.001\n",
        "batch_size = 128\n",
        "lr_decay = 1e-6\n",
        "#optimization details\n",
        "sgd = optimizers.SGD(lr=learning_rate, decay=lr_decay, momentum=0.9, nesterov=True)\n",
        "model.compile(loss='categorical_crossentropy', optimizer=sgd,metrics=['accuracy'])\n",
        "\n",
        "# Test the model\n",
        "model.predict(X_test).argmax(-1)\n",
        "\n",
        "y_true = y_test.argmax(-1)\n",
        "y_pred = model.predict(X_test).argmax(-1)\n",
        "# generate confusion matrix\n",
        "from sklearn.metrics import confusion_matrix, precision_score, recall_score, accuracy_score\n",
        "confusion_matrix(y_true, y_pred)\n",
        "# calculate prec, recall, accuracy\n",
        "print(\"Prec: \"+ str(precision_score(y_true, y_pred, average='weighted')))\n",
        "print(\"Recall: \"+ str(recall_score(y_true, y_pred, average='weighted')))\n",
        "print(\"Accuracy: \" + str(accuracy_score(y_true, y_pred)))"
      ],
      "execution_count": 15,
      "outputs": [
        {
          "output_type": "stream",
          "text": [
            "Prec: 0.32165669292916405\n",
            "Recall: 0.3258\n",
            "Accuracy: 0.3258\n"
          ],
          "name": "stdout"
        }
      ]
    },
    {
      "cell_type": "markdown",
      "metadata": {
        "id": "M_M6ri2847o1"
      },
      "source": [
        "<h3><b> References</b></h3>"
      ]
    },
    {
      "cell_type": "code",
      "metadata": {
        "id": "dF2G22fKjJEF"
      },
      "source": [
        "#https://www.analyticsvidhya.com/blog/2018/10/understanding-inception-network-from-scratch/\n",
        "#https://static.googleusercontent.com/media/research.google.com/en//pubs/archive/43022.pdf"
      ],
      "execution_count": 16,
      "outputs": []
    }
  ]
}
{
 "cells": [
  {
   "cell_type": "markdown",
   "metadata": {
    "id": "hyOazSpWztcP"
   },
   "source": [
    "<h3><b> Importing Library</b></h3>"
   ]
  },
  {
   "cell_type": "code",
   "execution_count": 41,
   "metadata": {
    "id": "XNYk17cCS0lA"
   },
   "outputs": [],
   "source": [
    "# Importing Libraries\n",
    "from __future__ import print_function\n",
    "import os\n",
    "import math \n",
    "import cv2 \n",
    "import tensorflow as tf\n",
    "import keras\n",
    "from keras import backend as K\n",
    "import numpy as np\n",
    "from keras.datasets import cifar100\n",
    "from keras.preprocessing.image import ImageDataGenerator\n",
    "from keras.models import Sequential\n",
    "from keras.layers import Dense, Dropout, Activation, Flatten\n",
    "from keras.layers import Conv2D, MaxPooling2D, BatchNormalization\n",
    "from keras import optimizers\n",
    "from keras.utils import np_utils\n",
    "from keras.optimizers import SGD \n",
    "from keras.callbacks import LearningRateScheduler\n",
    "from keras import regularizers\n",
    "from matplotlib import pyplot\n",
    "from keras.utils import to_categorical\n",
    "from keras.callbacks import ModelCheckpoint, EarlyStopping\n",
    "from sklearn import metrics\n",
    "from sklearn.metrics import confusion_matrix\n",
    "from sklearn.metrics import accuracy_score\n",
    "from keras.models import Model\n",
    "from keras.layers import Conv2D, MaxPool2D, Dropout, Dense, Input, concatenate, GlobalAveragePooling2D, AveragePooling2D,Flatten"
   ]
  },
  {
   "cell_type": "markdown",
   "metadata": {
    "id": "F3XLVJepz2DV"
   },
   "source": [
    "<h3><b> Importing Dataset</b><h3>"
   ]
  },
  {
   "cell_type": "code",
   "execution_count": 42,
   "metadata": {
    "colab": {
     "base_uri": "https://localhost:8080/",
     "height": 85
    },
    "id": "iuhv097NYrfu",
    "outputId": "2d4dee26-7ed8-4846-e259-9122d740bca1"
   },
   "outputs": [
    {
     "name": "stdout",
     "output_type": "stream",
     "text": [
      "(50000, 32, 32, 3)\n",
      "(50000, 1)\n",
      "(10000, 32, 32, 3)\n",
      "(10000, 1)\n"
     ]
    }
   ],
   "source": [
    "# Load dataset\n",
    "(X_train, y_train), (X_test, y_test) = cifar100.load_data()\n",
    "print(X_train.shape)\n",
    "print(y_train.shape)\n",
    "print(X_test.shape)\n",
    "print(y_test.shape)"
   ]
  },
  {
   "cell_type": "markdown",
   "metadata": {
    "id": "Y2yAtEqs0DTO"
   },
   "source": [
    "<h3><b> Preprocessing of the dataset</b></h3>"
   ]
  },
  {
   "cell_type": "code",
   "execution_count": 43,
   "metadata": {
    "id": "G1xMv3g8Yxl4"
   },
   "outputs": [],
   "source": [
    "# Normalize the dataset\n",
    "X_train = X_train/255\n",
    "X_test = X_test/255"
   ]
  },
  {
   "cell_type": "code",
   "execution_count": 44,
   "metadata": {
    "id": "NUcSJ9bPY4Yu"
   },
   "outputs": [],
   "source": [
    "#Converting the testing and training dataset into float\n",
    "X_train = X_train.astype('float32')\n",
    "X_test = X_test.astype('float32')"
   ]
  },
  {
   "cell_type": "code",
   "execution_count": 45,
   "metadata": {
    "colab": {
     "base_uri": "https://localhost:8080/",
     "height": 34
    },
    "id": "0UfXOG68Y741",
    "outputId": "c8cfb35c-5c9d-4e2c-ea53-18e8166809a2"
   },
   "outputs": [
    {
     "name": "stdout",
     "output_type": "stream",
     "text": [
      "(50000, 100)\n"
     ]
    }
   ],
   "source": [
    "# Convert training and test labels to one hot matrices\n",
    "y_train = keras.utils.to_categorical(y_train, 100)\n",
    "y_test = keras.utils.to_categorical(y_test, 100)\n",
    "print(y_train.shape)"
   ]
  },
  {
   "cell_type": "markdown",
   "metadata": {
    "id": "DtqhVwFs0_yO"
   },
   "source": [
    "<h3><b> Model Architecure</b></h3>"
   ]
  },
  {
   "cell_type": "code",
   "execution_count": 46,
   "metadata": {
    "id": "RLLcjHtgid1I"
   },
   "outputs": [],
   "source": [
    "def inception_moduleA(x,\n",
    "                     filters_1x1,\n",
    "                     filters_3x3_reduce,\n",
    "                     filters_3x3,\n",
    "                     filters_5x5_reduce,\n",
    "                     filters_3x3a,\n",
    "                      filters_3x3b,\n",
    "                  \n",
    "                     filters_pool_proj,\n",
    "                     name=None):\n",
    "    \n",
    "    conv_1x1 = Conv2D(filters_1x1, (1, 1), padding='same', activation='elu')(x)\n",
    "    \n",
    "    conv_3x3 = Conv2D(filters_3x3_reduce, (1, 1), padding='same', activation='elu')(x)\n",
    "    conv_3x3 = Conv2D(filters_3x3, (3, 3), padding='same', activation='elu')(conv_3x3)\n",
    "\n",
    "    conv_5x5 = Conv2D(filters_5x5_reduce, (1, 1), padding='same', activation='elu')(x)\n",
    "    conv_3x3a = Conv2D(filters_3x3a, (3, 3), padding='same', activation='elu')(conv_5x5)\n",
    "    conv_3x3b = Conv2D(filters_3x3b, (3, 3), padding='same', activation='elu')(conv_3x3a)\n",
    "    pool_proj = MaxPool2D((3, 3), strides=(1, 1), padding='same')(x)\n",
    "    pool_proj = Conv2D(filters_pool_proj, (1, 1), padding='same', activation='elu')(pool_proj)\n",
    "\n",
    "    output = concatenate([conv_1x1, conv_3x3, conv_3x3a, pool_proj], axis=-1, name=name)\n",
    "    \n",
    "    return output\n",
    "\n",
    "\n",
    "def inception_moduleB(x,\n",
    "                     filters_1x1modb,\n",
    "                     filters_3x3_reducemodb,\n",
    "                     filters_1x3modb,\n",
    "                     filters_3x1modb,\n",
    "                     filters_5x5_reducemodb,\n",
    "                     filters_1x3amodb,\n",
    "                      filters_3x1amodb,\n",
    "                     filters_1x3bmodb,\n",
    "                      filters_3x1bmodb,\n",
    "                  \n",
    "                     filters_pool_proj,\n",
    "                     name=None):\n",
    "    \n",
    "    conv_1x1modb = Conv2D(filters_1x1modb, (1, 1), padding='same', activation='elu')(x)\n",
    "    \n",
    "    conv_3x3modb = Conv2D(filters_3x3_reducemodb, (1, 1), padding='same', activation='elu')(x)\n",
    "    conv_1x3modb = Conv2D(filters_1x3modb, (1, 3), padding='same', activation='elu')(conv_3x3modb)\n",
    "    conv_3x1modb = Conv2D(filters_3x1modb, (3, 1), padding='same', activation='elu')(conv_1x3modb)\n",
    "\n",
    "    conv_5x5modb = Conv2D(filters_5x5_reducemodb, (1, 1), padding='same', activation='elu')(x)\n",
    "    conv_1x3amodb = Conv2D(filters_1x3amodb, (1, 3), padding='same', activation='elu')(conv_5x5modb)\n",
    "    conv_3x1amodb = Conv2D(filters_3x1amodb, (3, 1), padding='same', activation='elu')(conv_1x3amodb)\n",
    "    conv_1x3bmodb = Conv2D(filters_1x3bmodb, (1, 3), padding='same', activation='elu')(conv_3x1amodb)\n",
    "    conv_3x1bmodb = Conv2D(filters_3x1bmodb, (3, 1), padding='same', activation='elu')(conv_1x3bmodb)\n",
    "\n",
    "\n",
    "    pool_proj = MaxPool2D((3, 3), strides=(1, 1), padding='same')(x)\n",
    "\n",
    "\n",
    "    pool_proj = Conv2D(filters_pool_proj, (1, 1), padding='same', activation='elu')(pool_proj)\n",
    "\n",
    "    output = concatenate([conv_1x1modb, conv_3x1modb, conv_3x1bmodb, pool_proj], axis=-1, name=name)\n",
    "    \n",
    "    return output\n",
    "\n",
    "\n",
    "def inception_moduleC(x,\n",
    "                     filters_1x1modc,\n",
    "                      filters_3x3_reducemodc,\n",
    "                     filters_1x3modc,\n",
    "                      filters_3x1modc,\n",
    "                     filters_5x5_reducemodc,\n",
    "                        filters_3x3amodc,\n",
    "                      filters_1x3amodc,\n",
    "                       filters_3x1amodc,\n",
    "                      \n",
    "                   \n",
    "                     filters_pool_proj,\n",
    "                     name=None):\n",
    "    \n",
    "    conv_1x1modc = Conv2D(filters_1x1modc, (1, 1), padding='same', activation='elu')(x)\n",
    "    \n",
    "    conv_3x3modc = Conv2D(filters_3x3_reducemodc, (1, 1), padding='same', activation='elu')(x)\n",
    "    conv_1x3modc = Conv2D(filters_1x3modc, (1, 3), padding='same', activation='elu')(conv_3x3modc)\n",
    "    conv_3x1modc = Conv2D(filters_3x1modc, (3, 1), padding='same', activation='elu')(conv_1x3modc)\n",
    "\n",
    "    conv_5x5modc = Conv2D(filters_5x5_reducemodc, (1, 1), padding='same', activation='elu')(x)\n",
    "    conv_3x3amodc = Conv2D(filters_3x3amodc, (1, 1), padding='same', activation='elu')(conv_5x5modc)\n",
    "\n",
    "    conv_1x3amodc = Conv2D(filters_1x3amodc, (1, 3), padding='same', activation='elu')(conv_3x3amodc)\n",
    "    conv_3x1amodc = Conv2D(filters_3x1amodc, (3, 1), padding='same', activation='elu')(conv_1x3amodc)\n",
    "\n",
    "\n",
    "\n",
    "    pool_proj = MaxPool2D((3, 3), strides=(1, 1), padding='same')(x)\n",
    "\n",
    "\n",
    "    pool_proj = Conv2D(filters_pool_proj, (1, 1), padding='same', activation='elu')(pool_proj)\n",
    "\n",
    "    output = concatenate([conv_1x1modc,conv_1x3modc, conv_3x1modc, conv_1x3amodc,conv_3x1amodc, pool_proj], axis=-1, name=name)\n",
    "    \n",
    "    return output\n",
    "\n"
   ]
  },
  {
   "cell_type": "code",
   "execution_count": 47,
   "metadata": {
    "id": "br3rOWOzHxJJ"
   },
   "outputs": [],
   "source": [
    "input_layer = Input(shape=(32, 32, 3))\n",
    "\n",
    "x = Conv2D(64, (3, 3), padding='same', strides=(2, 2), activation='elu', name='conv_1a_3x3/2')(input_layer)\n",
    "x = Conv2D(64, (3, 3), padding='same', strides=(1, 1), activation='elu', name='conv_2a_3x3/1')(x)\n",
    "x = BatchNormalization()(x)\n",
    "x = Conv2D(64, (3, 3), padding='same', strides=(1, 1), activation='elu', name='conv_3a_3x3/1')(x)\n",
    "x = BatchNormalization()(x)\n",
    "x = MaxPool2D((3, 3), padding='same', strides=(2, 2), name='max_pool_2_3x3/2')(x)\n",
    "x = Conv2D(64, (3, 3), padding='same', strides=(1, 1), activation='elu', name='conv_4a_3x3/1')(x)\n",
    "x = BatchNormalization()(x)\n",
    "x = Conv2D(64, (3, 3), padding='same', strides=(2, 2), activation='elu', name='conv_5a_3x3/2')(x)\n",
    "x = BatchNormalization()(x)\n",
    "x = Conv2D(64, (3, 3), padding='same', strides=(1, 1), activation='elu', name='conv_6a_3x3/1')(x)\n",
    "x = BatchNormalization()(x)\n",
    "\n",
    "x = inception_moduleA(x,\n",
    "                     filters_1x1=64,\n",
    "                     filters_3x3_reduce=96,\n",
    "                     filters_3x3=128,\n",
    "                     filters_5x5_reduce=16,\n",
    "                     filters_3x3a=32,\n",
    "                     filters_3x3b=32,\n",
    "                     filters_pool_proj=32,\n",
    "                     name='inception_3a')\n",
    "x = inception_moduleA(x,\n",
    "                     filters_1x1=64,\n",
    "                     filters_3x3_reduce=96,\n",
    "                     filters_3x3=128,\n",
    "                     filters_5x5_reduce=16,\n",
    "                     filters_3x3a=32,\n",
    "                     filters_3x3b=32,\n",
    "                     filters_pool_proj=32,\n",
    "                     name='inception_3aa')\n",
    "\n",
    "#I am commenting the numbers of times module A, ModuleB is called as it is helping to increase my accuracy.In original InceptionV2 architecture ModuleA is called\n",
    "#3 times, ModuleB is called 5 times and ModuleC is called 2 times:-\n",
    "# x = inception_moduleA(x,\n",
    "#                      filters_1x1=64,\n",
    "#                      filters_3x3_reduce=96,\n",
    "#                      filters_3x3=128,\n",
    "#                      filters_5x5_reduce=16,\n",
    "#                      filters_3x3a=32,\n",
    "#                      filters_3x3b=32,\n",
    "#                      filters_pool_proj=32,\n",
    "#                      name='inception_3aaa')\n",
    "\n",
    "x = inception_moduleB(x,\n",
    "                     filters_1x1modb=64,\n",
    "                     filters_3x3_reducemodb=96,\n",
    "                     filters_1x3modb=128,\n",
    "                     filters_3x1modb=128,\n",
    "                     filters_5x5_reducemodb=16,\n",
    "                     filters_1x3amodb=128,\n",
    "                     filters_3x1amodb=128,\n",
    "                     filters_1x3bmodb=128,\n",
    "                     filters_3x1bmodb=128,\n",
    "                   filters_pool_proj=32,\n",
    "                     name='inception_4a')\n",
    "x = inception_moduleB(x,\n",
    "                     filters_1x1modb=64,\n",
    "                     filters_3x3_reducemodb=96,\n",
    "                     filters_1x3modb=128,\n",
    "                     filters_3x1modb=128,\n",
    "                     filters_5x5_reducemodb=16,\n",
    "                     filters_1x3amodb=128,\n",
    "                     filters_3x1amodb=128,\n",
    "                     filters_1x3bmodb=128,\n",
    "                     filters_3x1bmodb=128,\n",
    "                     filters_pool_proj=32,\n",
    "                     name='inception_4aa')\n",
    "x = inception_moduleB(x,\n",
    "                     filters_1x1modb=64,\n",
    "                     filters_3x3_reducemodb=96,\n",
    "                     filters_1x3modb=128,\n",
    "                     filters_3x1modb=128,\n",
    "                     filters_5x5_reducemodb=16,\n",
    "                     filters_1x3amodb=128,\n",
    "                     filters_3x1amodb=128,\n",
    "                     filters_1x3bmodb=128,\n",
    "                     filters_3x1bmodb=128,\n",
    "                      filters_pool_proj=32,\n",
    "             \n",
    "                     name='inception_4aaa')\n",
    "#I am commenting the numbers of times module A, ModuleB is called as it is helping to increase my accuracy.In original InceptionV2 architecture ModuleA is called\n",
    "#3 times, ModuleB is called 5 times and ModuleC is called 2 times:-\n",
    "# x = inception_moduleB(x,\n",
    "#                      filters_1x1modb=64,\n",
    "#                      filters_3x3_reducemodb=96,\n",
    "#                      filters_1x3modb=128,\n",
    "#                      filters_3x1modb=128,\n",
    "#                      filters_5x5_reducemodb=16,\n",
    "#                      filters_1x3amodb=128,\n",
    "#                      filters_3x1amodb=128,\n",
    "#                      filters_1x3bmodb=128,\n",
    "#                      filters_3x1bmodb=128,\n",
    "#                      filters_pool_proj=32,\n",
    "#                      name='inception_4aaaa')\n",
    "# x = inception_moduleB(x,\n",
    "#                      filters_1x1modb=64,\n",
    "#                      filters_3x3_reducemodb=96,\n",
    "#                      filters_1x3modb=128,\n",
    "#                      filters_3x1modb=128,\n",
    "#                      filters_5x5_reducemodb=16,\n",
    "#                      filters_1x3amodb=128,\n",
    "#                      filters_3x1amodb=128,\n",
    "#                      filters_1x3bmodb=128,\n",
    "#                      filters_3x1bmodb=128,\n",
    "#                      filters_pool_proj=32,\n",
    "#                      name='inception_4aaaaa')\n",
    "\n",
    "x = inception_moduleC(x,\n",
    "                     filters_1x1modc=64,\n",
    "                     filters_3x3_reducemodc=96,\n",
    "                     filters_1x3modc=128,\n",
    "                     filters_3x1modc=128,\n",
    "                     filters_5x5_reducemodc=16,\n",
    "                     filters_3x3amodc=128,\n",
    "                     filters_1x3amodc=128,\n",
    "                     filters_3x1amodc=128,\n",
    "                     filters_pool_proj=32,\n",
    "                    \n",
    "                     name='inception_5a')\n",
    "x = inception_moduleC(x,\n",
    "                     filters_1x1modc=64,\n",
    "                     filters_3x3_reducemodc=96,\n",
    "                     filters_1x3modc=128,\n",
    "                     filters_3x1modc=128,\n",
    "                     filters_5x5_reducemodc=16,\n",
    "                     filters_3x3amodc=128,\n",
    "                     filters_1x3amodc=128,\n",
    "                     filters_3x1amodc=128,\n",
    "                     filters_pool_proj=32,\n",
    "             \n",
    "                     name='inception_5aa')\n",
    "\n",
    "x = GlobalAveragePooling2D(name='avg_pool_5_3x3/1')(x)\n",
    "# x = Dropout(0.4)(x)\n",
    "x = Flatten()(x)\n",
    "output = Dense(100, activation='softmax', name='output')(x)"
   ]
  },
  {
   "cell_type": "code",
   "execution_count": 48,
   "metadata": {
    "id": "7GWOmOi_qTCS"
   },
   "outputs": [],
   "source": [
    "model = Model(input_layer,  output)"
   ]
  },
  {
   "cell_type": "code",
   "execution_count": 49,
   "metadata": {
    "colab": {
     "base_uri": "https://localhost:8080/",
     "height": 1000
    },
    "id": "Ok_nFUWbFuwg",
    "outputId": "719d5fc5-9f58-4257-efc8-d387f2cb41b6"
   },
   "outputs": [
    {
     "name": "stdout",
     "output_type": "stream",
     "text": [
      "Model: \"functional_9\"\n",
      "__________________________________________________________________________________________________\n",
      "Layer (type)                    Output Shape         Param #     Connected to                     \n",
      "==================================================================================================\n",
      "input_4 (InputLayer)            [(None, 32, 32, 3)]  0                                            \n",
      "__________________________________________________________________________________________________\n",
      "conv_1a_3x3/2 (Conv2D)          (None, 16, 16, 64)   1792        input_4[0][0]                    \n",
      "__________________________________________________________________________________________________\n",
      "conv_2a_3x3/1 (Conv2D)          (None, 16, 16, 64)   36928       conv_1a_3x3/2[0][0]              \n",
      "__________________________________________________________________________________________________\n",
      "batch_normalization_11 (BatchNo (None, 16, 16, 64)   256         conv_2a_3x3/1[0][0]              \n",
      "__________________________________________________________________________________________________\n",
      "conv_3a_3x3/1 (Conv2D)          (None, 16, 16, 64)   36928       batch_normalization_11[0][0]     \n",
      "__________________________________________________________________________________________________\n",
      "batch_normalization_12 (BatchNo (None, 16, 16, 64)   256         conv_3a_3x3/1[0][0]              \n",
      "__________________________________________________________________________________________________\n",
      "max_pool_2_3x3/2 (MaxPooling2D) (None, 8, 8, 64)     0           batch_normalization_12[0][0]     \n",
      "__________________________________________________________________________________________________\n",
      "conv_4a_3x3/1 (Conv2D)          (None, 8, 8, 64)     36928       max_pool_2_3x3/2[0][0]           \n",
      "__________________________________________________________________________________________________\n",
      "batch_normalization_13 (BatchNo (None, 8, 8, 64)     256         conv_4a_3x3/1[0][0]              \n",
      "__________________________________________________________________________________________________\n",
      "conv_5a_3x3/2 (Conv2D)          (None, 4, 4, 64)     36928       batch_normalization_13[0][0]     \n",
      "__________________________________________________________________________________________________\n",
      "batch_normalization_14 (BatchNo (None, 4, 4, 64)     256         conv_5a_3x3/2[0][0]              \n",
      "__________________________________________________________________________________________________\n",
      "conv_6a_3x3/1 (Conv2D)          (None, 4, 4, 64)     36928       batch_normalization_14[0][0]     \n",
      "__________________________________________________________________________________________________\n",
      "batch_normalization_15 (BatchNo (None, 4, 4, 64)     256         conv_6a_3x3/1[0][0]              \n",
      "__________________________________________________________________________________________________\n",
      "conv2d_187 (Conv2D)             (None, 4, 4, 96)     6240        batch_normalization_15[0][0]     \n",
      "__________________________________________________________________________________________________\n",
      "conv2d_189 (Conv2D)             (None, 4, 4, 16)     1040        batch_normalization_15[0][0]     \n",
      "__________________________________________________________________________________________________\n",
      "max_pooling2d_21 (MaxPooling2D) (None, 4, 4, 64)     0           batch_normalization_15[0][0]     \n",
      "__________________________________________________________________________________________________\n",
      "conv2d_186 (Conv2D)             (None, 4, 4, 64)     4160        batch_normalization_15[0][0]     \n",
      "__________________________________________________________________________________________________\n",
      "conv2d_188 (Conv2D)             (None, 4, 4, 128)    110720      conv2d_187[0][0]                 \n",
      "__________________________________________________________________________________________________\n",
      "conv2d_190 (Conv2D)             (None, 4, 4, 32)     4640        conv2d_189[0][0]                 \n",
      "__________________________________________________________________________________________________\n",
      "conv2d_192 (Conv2D)             (None, 4, 4, 32)     2080        max_pooling2d_21[0][0]           \n",
      "__________________________________________________________________________________________________\n",
      "inception_3a (Concatenate)      (None, 4, 4, 256)    0           conv2d_186[0][0]                 \n",
      "                                                                 conv2d_188[0][0]                 \n",
      "                                                                 conv2d_190[0][0]                 \n",
      "                                                                 conv2d_192[0][0]                 \n",
      "__________________________________________________________________________________________________\n",
      "conv2d_194 (Conv2D)             (None, 4, 4, 96)     24672       inception_3a[0][0]               \n",
      "__________________________________________________________________________________________________\n",
      "conv2d_196 (Conv2D)             (None, 4, 4, 16)     4112        inception_3a[0][0]               \n",
      "__________________________________________________________________________________________________\n",
      "max_pooling2d_22 (MaxPooling2D) (None, 4, 4, 256)    0           inception_3a[0][0]               \n",
      "__________________________________________________________________________________________________\n",
      "conv2d_193 (Conv2D)             (None, 4, 4, 64)     16448       inception_3a[0][0]               \n",
      "__________________________________________________________________________________________________\n",
      "conv2d_195 (Conv2D)             (None, 4, 4, 128)    110720      conv2d_194[0][0]                 \n",
      "__________________________________________________________________________________________________\n",
      "conv2d_197 (Conv2D)             (None, 4, 4, 32)     4640        conv2d_196[0][0]                 \n",
      "__________________________________________________________________________________________________\n",
      "conv2d_199 (Conv2D)             (None, 4, 4, 32)     8224        max_pooling2d_22[0][0]           \n",
      "__________________________________________________________________________________________________\n",
      "inception_3aa (Concatenate)     (None, 4, 4, 256)    0           conv2d_193[0][0]                 \n",
      "                                                                 conv2d_195[0][0]                 \n",
      "                                                                 conv2d_197[0][0]                 \n",
      "                                                                 conv2d_199[0][0]                 \n",
      "__________________________________________________________________________________________________\n",
      "conv2d_204 (Conv2D)             (None, 4, 4, 16)     4112        inception_3aa[0][0]              \n",
      "__________________________________________________________________________________________________\n",
      "conv2d_205 (Conv2D)             (None, 4, 4, 128)    6272        conv2d_204[0][0]                 \n",
      "__________________________________________________________________________________________________\n",
      "conv2d_201 (Conv2D)             (None, 4, 4, 96)     24672       inception_3aa[0][0]              \n",
      "__________________________________________________________________________________________________\n",
      "conv2d_206 (Conv2D)             (None, 4, 4, 128)    49280       conv2d_205[0][0]                 \n",
      "__________________________________________________________________________________________________\n",
      "conv2d_202 (Conv2D)             (None, 4, 4, 128)    36992       conv2d_201[0][0]                 \n",
      "__________________________________________________________________________________________________\n",
      "conv2d_207 (Conv2D)             (None, 4, 4, 128)    49280       conv2d_206[0][0]                 \n",
      "__________________________________________________________________________________________________\n",
      "max_pooling2d_23 (MaxPooling2D) (None, 4, 4, 256)    0           inception_3aa[0][0]              \n",
      "__________________________________________________________________________________________________\n",
      "conv2d_200 (Conv2D)             (None, 4, 4, 64)     16448       inception_3aa[0][0]              \n",
      "__________________________________________________________________________________________________\n",
      "conv2d_203 (Conv2D)             (None, 4, 4, 128)    49280       conv2d_202[0][0]                 \n",
      "__________________________________________________________________________________________________\n",
      "conv2d_208 (Conv2D)             (None, 4, 4, 128)    49280       conv2d_207[0][0]                 \n",
      "__________________________________________________________________________________________________\n",
      "conv2d_209 (Conv2D)             (None, 4, 4, 32)     8224        max_pooling2d_23[0][0]           \n",
      "__________________________________________________________________________________________________\n",
      "inception_4a (Concatenate)      (None, 4, 4, 352)    0           conv2d_200[0][0]                 \n",
      "                                                                 conv2d_203[0][0]                 \n",
      "                                                                 conv2d_208[0][0]                 \n",
      "                                                                 conv2d_209[0][0]                 \n",
      "__________________________________________________________________________________________________\n",
      "conv2d_214 (Conv2D)             (None, 4, 4, 16)     5648        inception_4a[0][0]               \n",
      "__________________________________________________________________________________________________\n",
      "conv2d_215 (Conv2D)             (None, 4, 4, 128)    6272        conv2d_214[0][0]                 \n",
      "__________________________________________________________________________________________________\n",
      "conv2d_211 (Conv2D)             (None, 4, 4, 96)     33888       inception_4a[0][0]               \n",
      "__________________________________________________________________________________________________\n",
      "conv2d_216 (Conv2D)             (None, 4, 4, 128)    49280       conv2d_215[0][0]                 \n",
      "__________________________________________________________________________________________________\n",
      "conv2d_212 (Conv2D)             (None, 4, 4, 128)    36992       conv2d_211[0][0]                 \n",
      "__________________________________________________________________________________________________\n",
      "conv2d_217 (Conv2D)             (None, 4, 4, 128)    49280       conv2d_216[0][0]                 \n",
      "__________________________________________________________________________________________________\n",
      "max_pooling2d_24 (MaxPooling2D) (None, 4, 4, 352)    0           inception_4a[0][0]               \n",
      "__________________________________________________________________________________________________\n",
      "conv2d_210 (Conv2D)             (None, 4, 4, 64)     22592       inception_4a[0][0]               \n",
      "__________________________________________________________________________________________________\n",
      "conv2d_213 (Conv2D)             (None, 4, 4, 128)    49280       conv2d_212[0][0]                 \n",
      "__________________________________________________________________________________________________\n",
      "conv2d_218 (Conv2D)             (None, 4, 4, 128)    49280       conv2d_217[0][0]                 \n",
      "__________________________________________________________________________________________________\n",
      "conv2d_219 (Conv2D)             (None, 4, 4, 32)     11296       max_pooling2d_24[0][0]           \n",
      "__________________________________________________________________________________________________\n",
      "inception_4aa (Concatenate)     (None, 4, 4, 352)    0           conv2d_210[0][0]                 \n",
      "                                                                 conv2d_213[0][0]                 \n",
      "                                                                 conv2d_218[0][0]                 \n",
      "                                                                 conv2d_219[0][0]                 \n",
      "__________________________________________________________________________________________________\n",
      "conv2d_224 (Conv2D)             (None, 4, 4, 16)     5648        inception_4aa[0][0]              \n",
      "__________________________________________________________________________________________________\n",
      "conv2d_225 (Conv2D)             (None, 4, 4, 128)    6272        conv2d_224[0][0]                 \n",
      "__________________________________________________________________________________________________\n",
      "conv2d_221 (Conv2D)             (None, 4, 4, 96)     33888       inception_4aa[0][0]              \n",
      "__________________________________________________________________________________________________\n",
      "conv2d_226 (Conv2D)             (None, 4, 4, 128)    49280       conv2d_225[0][0]                 \n",
      "__________________________________________________________________________________________________\n",
      "conv2d_222 (Conv2D)             (None, 4, 4, 128)    36992       conv2d_221[0][0]                 \n",
      "__________________________________________________________________________________________________\n",
      "conv2d_227 (Conv2D)             (None, 4, 4, 128)    49280       conv2d_226[0][0]                 \n",
      "__________________________________________________________________________________________________\n",
      "max_pooling2d_25 (MaxPooling2D) (None, 4, 4, 352)    0           inception_4aa[0][0]              \n",
      "__________________________________________________________________________________________________\n",
      "conv2d_220 (Conv2D)             (None, 4, 4, 64)     22592       inception_4aa[0][0]              \n",
      "__________________________________________________________________________________________________\n",
      "conv2d_223 (Conv2D)             (None, 4, 4, 128)    49280       conv2d_222[0][0]                 \n",
      "__________________________________________________________________________________________________\n",
      "conv2d_228 (Conv2D)             (None, 4, 4, 128)    49280       conv2d_227[0][0]                 \n",
      "__________________________________________________________________________________________________\n",
      "conv2d_229 (Conv2D)             (None, 4, 4, 32)     11296       max_pooling2d_25[0][0]           \n",
      "__________________________________________________________________________________________________\n",
      "inception_4aaa (Concatenate)    (None, 4, 4, 352)    0           conv2d_220[0][0]                 \n",
      "                                                                 conv2d_223[0][0]                 \n",
      "                                                                 conv2d_228[0][0]                 \n",
      "                                                                 conv2d_229[0][0]                 \n",
      "__________________________________________________________________________________________________\n",
      "conv2d_234 (Conv2D)             (None, 4, 4, 16)     5648        inception_4aaa[0][0]             \n",
      "__________________________________________________________________________________________________\n",
      "conv2d_231 (Conv2D)             (None, 4, 4, 96)     33888       inception_4aaa[0][0]             \n",
      "__________________________________________________________________________________________________\n",
      "conv2d_235 (Conv2D)             (None, 4, 4, 128)    2176        conv2d_234[0][0]                 \n",
      "__________________________________________________________________________________________________\n",
      "conv2d_232 (Conv2D)             (None, 4, 4, 128)    36992       conv2d_231[0][0]                 \n",
      "__________________________________________________________________________________________________\n",
      "conv2d_236 (Conv2D)             (None, 4, 4, 128)    49280       conv2d_235[0][0]                 \n",
      "__________________________________________________________________________________________________\n",
      "max_pooling2d_26 (MaxPooling2D) (None, 4, 4, 352)    0           inception_4aaa[0][0]             \n",
      "__________________________________________________________________________________________________\n",
      "conv2d_230 (Conv2D)             (None, 4, 4, 64)     22592       inception_4aaa[0][0]             \n",
      "__________________________________________________________________________________________________\n",
      "conv2d_233 (Conv2D)             (None, 4, 4, 128)    49280       conv2d_232[0][0]                 \n",
      "__________________________________________________________________________________________________\n",
      "conv2d_237 (Conv2D)             (None, 4, 4, 128)    49280       conv2d_236[0][0]                 \n",
      "__________________________________________________________________________________________________\n",
      "conv2d_238 (Conv2D)             (None, 4, 4, 32)     11296       max_pooling2d_26[0][0]           \n",
      "__________________________________________________________________________________________________\n",
      "inception_5a (Concatenate)      (None, 4, 4, 608)    0           conv2d_230[0][0]                 \n",
      "                                                                 conv2d_232[0][0]                 \n",
      "                                                                 conv2d_233[0][0]                 \n",
      "                                                                 conv2d_236[0][0]                 \n",
      "                                                                 conv2d_237[0][0]                 \n",
      "                                                                 conv2d_238[0][0]                 \n",
      "__________________________________________________________________________________________________\n",
      "conv2d_243 (Conv2D)             (None, 4, 4, 16)     9744        inception_5a[0][0]               \n",
      "__________________________________________________________________________________________________\n",
      "conv2d_240 (Conv2D)             (None, 4, 4, 96)     58464       inception_5a[0][0]               \n",
      "__________________________________________________________________________________________________\n",
      "conv2d_244 (Conv2D)             (None, 4, 4, 128)    2176        conv2d_243[0][0]                 \n",
      "__________________________________________________________________________________________________\n",
      "conv2d_241 (Conv2D)             (None, 4, 4, 128)    36992       conv2d_240[0][0]                 \n",
      "__________________________________________________________________________________________________\n",
      "conv2d_245 (Conv2D)             (None, 4, 4, 128)    49280       conv2d_244[0][0]                 \n",
      "__________________________________________________________________________________________________\n",
      "max_pooling2d_27 (MaxPooling2D) (None, 4, 4, 608)    0           inception_5a[0][0]               \n",
      "__________________________________________________________________________________________________\n",
      "conv2d_239 (Conv2D)             (None, 4, 4, 64)     38976       inception_5a[0][0]               \n",
      "__________________________________________________________________________________________________\n",
      "conv2d_242 (Conv2D)             (None, 4, 4, 128)    49280       conv2d_241[0][0]                 \n",
      "__________________________________________________________________________________________________\n",
      "conv2d_246 (Conv2D)             (None, 4, 4, 128)    49280       conv2d_245[0][0]                 \n",
      "__________________________________________________________________________________________________\n",
      "conv2d_247 (Conv2D)             (None, 4, 4, 32)     19488       max_pooling2d_27[0][0]           \n",
      "__________________________________________________________________________________________________\n",
      "inception_5aa (Concatenate)     (None, 4, 4, 608)    0           conv2d_239[0][0]                 \n",
      "                                                                 conv2d_241[0][0]                 \n",
      "                                                                 conv2d_242[0][0]                 \n",
      "                                                                 conv2d_245[0][0]                 \n",
      "                                                                 conv2d_246[0][0]                 \n",
      "                                                                 conv2d_247[0][0]                 \n",
      "__________________________________________________________________________________________________\n",
      "avg_pool_5_3x3/1 (GlobalAverage (None, 608)          0           inception_5aa[0][0]              \n",
      "__________________________________________________________________________________________________\n",
      "flatten_3 (Flatten)             (None, 608)          0           avg_pool_5_3x3/1[0][0]           \n",
      "__________________________________________________________________________________________________\n",
      "output (Dense)                  (None, 100)          60900       flatten_3[0][0]                  \n",
      "==================================================================================================\n",
      "Total params: 2,041,876\n",
      "Trainable params: 2,041,236\n",
      "Non-trainable params: 640\n",
      "__________________________________________________________________________________________________\n"
     ]
    }
   ],
   "source": [
    "model.summary()\n"
   ]
  },
  {
   "cell_type": "markdown",
   "metadata": {
    "id": "I-jkzpVu1SSF"
   },
   "source": [
    "<h3><b> Model Compile</b></h3>"
   ]
  },
  {
   "cell_type": "code",
   "execution_count": 50,
   "metadata": {
    "id": "YPd9gc_sBziE"
   },
   "outputs": [],
   "source": [
    "learning_rate = 0.00001\n",
    "batch_size = 128\n",
    "lr_decay = 1e-6\n",
    "#optimization details\n",
    "opt = optimizers.Adam(lr=learning_rate)\n",
    "model.compile(loss='categorical_crossentropy', optimizer=opt,metrics=['accuracy'])"
   ]
  },
  {
   "cell_type": "code",
   "execution_count": 51,
   "metadata": {
    "colab": {
     "base_uri": "https://localhost:8080/",
     "height": 54
    },
    "id": "u_rq-y4K1rgo",
    "outputId": "8cf49317-399e-45b9-83e6-2d97365161c7"
   },
   "outputs": [
    {
     "name": "stdout",
     "output_type": "stream",
     "text": [
      "WARNING:tensorflow:`period` argument is deprecated. Please use `save_freq` to specify the frequency in number of batches seen.\n"
     ]
    }
   ],
   "source": [
    "# Create Checkpoint and Early Stopping\n",
    "from keras.callbacks import ModelCheckpoint, EarlyStopping\n",
    "checkpoint = ModelCheckpoint(\"InceptionV2_Adam_BatchNorm.h5\", monitor='val_loss', verbose=1, save_best_only=True, save_weights_only=True, mode='auto', period=1)\n",
    "early = EarlyStopping(monitor='val_loss', min_delta=0, patience=5, verbose=1, mode='auto')"
   ]
  },
  {
   "cell_type": "markdown",
   "metadata": {
    "id": "HogWDFCh1ZxX"
   },
   "source": [
    "<h3><b> Train the Model</b><h3>"
   ]
  },
  {
   "cell_type": "code",
   "execution_count": 52,
   "metadata": {
    "colab": {
     "base_uri": "https://localhost:8080/",
     "height": 1000
    },
    "id": "cxkeVrtvF0Ok",
    "outputId": "c6ae04e4-4161-48bb-b0d6-761ab01ffa1c"
   },
   "outputs": [
    {
     "name": "stdout",
     "output_type": "stream",
     "text": [
      "Epoch 1/150\n",
      "  2/196 [..............................] - ETA: 17s - loss: 4.6157 - accuracy: 0.0215WARNING:tensorflow:Callbacks method `on_train_batch_end` is slow compared to the batch time (batch time: 0.0589s vs `on_train_batch_end` time: 0.1226s). Check your callbacks.\n",
      "196/196 [==============================] - ETA: 0s - loss: 4.5051 - accuracy: 0.0328\n",
      "Epoch 00001: val_loss improved from inf to 4.61528, saving model to InceptionV2_Adam_BatchNorm.h5\n",
      "196/196 [==============================] - 30s 156ms/step - loss: 4.5051 - accuracy: 0.0328 - val_loss: 4.6153 - val_accuracy: 0.0132\n",
      "Epoch 2/150\n",
      "196/196 [==============================] - ETA: 0s - loss: 4.1865 - accuracy: 0.0642\n",
      "Epoch 00002: val_loss improved from 4.61528 to 4.43509, saving model to InceptionV2_Adam_BatchNorm.h5\n",
      "196/196 [==============================] - 30s 151ms/step - loss: 4.1865 - accuracy: 0.0642 - val_loss: 4.4351 - val_accuracy: 0.0346\n",
      "Epoch 3/150\n",
      "196/196 [==============================] - ETA: 0s - loss: 3.9395 - accuracy: 0.0941\n",
      "Epoch 00003: val_loss improved from 4.43509 to 3.96363, saving model to InceptionV2_Adam_BatchNorm.h5\n",
      "196/196 [==============================] - 30s 151ms/step - loss: 3.9395 - accuracy: 0.0941 - val_loss: 3.9636 - val_accuracy: 0.0887\n",
      "Epoch 4/150\n",
      "196/196 [==============================] - ETA: 0s - loss: 3.7887 - accuracy: 0.1139\n",
      "Epoch 00004: val_loss improved from 3.96363 to 3.78345, saving model to InceptionV2_Adam_BatchNorm.h5\n",
      "196/196 [==============================] - 29s 150ms/step - loss: 3.7887 - accuracy: 0.1139 - val_loss: 3.7835 - val_accuracy: 0.1112\n",
      "Epoch 5/150\n",
      "196/196 [==============================] - ETA: 0s - loss: 3.6858 - accuracy: 0.1282\n",
      "Epoch 00005: val_loss improved from 3.78345 to 3.65608, saving model to InceptionV2_Adam_BatchNorm.h5\n",
      "196/196 [==============================] - 30s 151ms/step - loss: 3.6858 - accuracy: 0.1282 - val_loss: 3.6561 - val_accuracy: 0.1318\n",
      "Epoch 6/150\n",
      "196/196 [==============================] - ETA: 0s - loss: 3.5982 - accuracy: 0.1409\n",
      "Epoch 00006: val_loss improved from 3.65608 to 3.58730, saving model to InceptionV2_Adam_BatchNorm.h5\n",
      "196/196 [==============================] - 30s 151ms/step - loss: 3.5982 - accuracy: 0.1409 - val_loss: 3.5873 - val_accuracy: 0.1430\n",
      "Epoch 7/150\n",
      "196/196 [==============================] - ETA: 0s - loss: 3.5189 - accuracy: 0.1519\n",
      "Epoch 00007: val_loss improved from 3.58730 to 3.52580, saving model to InceptionV2_Adam_BatchNorm.h5\n",
      "196/196 [==============================] - 30s 152ms/step - loss: 3.5189 - accuracy: 0.1519 - val_loss: 3.5258 - val_accuracy: 0.1499\n",
      "Epoch 8/150\n",
      "196/196 [==============================] - ETA: 0s - loss: 3.4461 - accuracy: 0.1640\n",
      "Epoch 00008: val_loss improved from 3.52580 to 3.46822, saving model to InceptionV2_Adam_BatchNorm.h5\n",
      "196/196 [==============================] - 30s 152ms/step - loss: 3.4461 - accuracy: 0.1640 - val_loss: 3.4682 - val_accuracy: 0.1627\n",
      "Epoch 9/150\n",
      "196/196 [==============================] - ETA: 0s - loss: 3.3844 - accuracy: 0.1759\n",
      "Epoch 00009: val_loss improved from 3.46822 to 3.40882, saving model to InceptionV2_Adam_BatchNorm.h5\n",
      "196/196 [==============================] - 30s 152ms/step - loss: 3.3844 - accuracy: 0.1759 - val_loss: 3.4088 - val_accuracy: 0.1711\n",
      "Epoch 10/150\n",
      "196/196 [==============================] - ETA: 0s - loss: 3.3257 - accuracy: 0.1849\n",
      "Epoch 00010: val_loss improved from 3.40882 to 3.35350, saving model to InceptionV2_Adam_BatchNorm.h5\n",
      "196/196 [==============================] - 30s 152ms/step - loss: 3.3257 - accuracy: 0.1849 - val_loss: 3.3535 - val_accuracy: 0.1822\n",
      "Epoch 11/150\n",
      "196/196 [==============================] - ETA: 0s - loss: 3.2751 - accuracy: 0.1935\n",
      "Epoch 00011: val_loss improved from 3.35350 to 3.31732, saving model to InceptionV2_Adam_BatchNorm.h5\n",
      "196/196 [==============================] - 30s 152ms/step - loss: 3.2751 - accuracy: 0.1935 - val_loss: 3.3173 - val_accuracy: 0.1910\n",
      "Epoch 12/150\n",
      "196/196 [==============================] - ETA: 0s - loss: 3.2263 - accuracy: 0.2028\n",
      "Epoch 00012: val_loss improved from 3.31732 to 3.27089, saving model to InceptionV2_Adam_BatchNorm.h5\n",
      "196/196 [==============================] - 30s 151ms/step - loss: 3.2263 - accuracy: 0.2028 - val_loss: 3.2709 - val_accuracy: 0.1953\n",
      "Epoch 13/150\n",
      "196/196 [==============================] - ETA: 0s - loss: 3.1793 - accuracy: 0.2123\n",
      "Epoch 00013: val_loss improved from 3.27089 to 3.25630, saving model to InceptionV2_Adam_BatchNorm.h5\n",
      "196/196 [==============================] - 29s 150ms/step - loss: 3.1793 - accuracy: 0.2123 - val_loss: 3.2563 - val_accuracy: 0.2009\n",
      "Epoch 14/150\n",
      "196/196 [==============================] - ETA: 0s - loss: 3.1361 - accuracy: 0.2202\n",
      "Epoch 00014: val_loss improved from 3.25630 to 3.19931, saving model to InceptionV2_Adam_BatchNorm.h5\n",
      "196/196 [==============================] - 29s 150ms/step - loss: 3.1361 - accuracy: 0.2202 - val_loss: 3.1993 - val_accuracy: 0.2128\n",
      "Epoch 15/150\n",
      "196/196 [==============================] - ETA: 0s - loss: 3.0966 - accuracy: 0.2272\n",
      "Epoch 00015: val_loss improved from 3.19931 to 3.17600, saving model to InceptionV2_Adam_BatchNorm.h5\n",
      "196/196 [==============================] - 30s 151ms/step - loss: 3.0966 - accuracy: 0.2272 - val_loss: 3.1760 - val_accuracy: 0.2168\n",
      "Epoch 16/150\n",
      "196/196 [==============================] - ETA: 0s - loss: 3.0590 - accuracy: 0.2357\n",
      "Epoch 00016: val_loss improved from 3.17600 to 3.16750, saving model to InceptionV2_Adam_BatchNorm.h5\n",
      "196/196 [==============================] - 30s 152ms/step - loss: 3.0590 - accuracy: 0.2357 - val_loss: 3.1675 - val_accuracy: 0.2193\n",
      "Epoch 17/150\n",
      "196/196 [==============================] - ETA: 0s - loss: 3.0228 - accuracy: 0.2414\n",
      "Epoch 00017: val_loss improved from 3.16750 to 3.10729, saving model to InceptionV2_Adam_BatchNorm.h5\n",
      "196/196 [==============================] - 30s 152ms/step - loss: 3.0228 - accuracy: 0.2414 - val_loss: 3.1073 - val_accuracy: 0.2285\n",
      "Epoch 18/150\n",
      "196/196 [==============================] - ETA: 0s - loss: 2.9873 - accuracy: 0.2493\n",
      "Epoch 00018: val_loss improved from 3.10729 to 3.08250, saving model to InceptionV2_Adam_BatchNorm.h5\n",
      "196/196 [==============================] - 30s 151ms/step - loss: 2.9873 - accuracy: 0.2493 - val_loss: 3.0825 - val_accuracy: 0.2315\n",
      "Epoch 19/150\n",
      "196/196 [==============================] - ETA: 0s - loss: 2.9551 - accuracy: 0.2524\n",
      "Epoch 00019: val_loss improved from 3.08250 to 3.06553, saving model to InceptionV2_Adam_BatchNorm.h5\n",
      "196/196 [==============================] - 30s 151ms/step - loss: 2.9551 - accuracy: 0.2524 - val_loss: 3.0655 - val_accuracy: 0.2348\n",
      "Epoch 20/150\n",
      "196/196 [==============================] - ETA: 0s - loss: 2.9260 - accuracy: 0.2595\n",
      "Epoch 00020: val_loss improved from 3.06553 to 3.04837, saving model to InceptionV2_Adam_BatchNorm.h5\n",
      "196/196 [==============================] - 30s 152ms/step - loss: 2.9260 - accuracy: 0.2595 - val_loss: 3.0484 - val_accuracy: 0.2400\n",
      "Epoch 21/150\n",
      "196/196 [==============================] - ETA: 0s - loss: 2.8949 - accuracy: 0.2648\n",
      "Epoch 00021: val_loss improved from 3.04837 to 3.02343, saving model to InceptionV2_Adam_BatchNorm.h5\n",
      "196/196 [==============================] - 30s 151ms/step - loss: 2.8949 - accuracy: 0.2648 - val_loss: 3.0234 - val_accuracy: 0.2468\n",
      "Epoch 22/150\n",
      "196/196 [==============================] - ETA: 0s - loss: 2.8665 - accuracy: 0.2716\n",
      "Epoch 00022: val_loss improved from 3.02343 to 3.01291, saving model to InceptionV2_Adam_BatchNorm.h5\n",
      "196/196 [==============================] - 30s 151ms/step - loss: 2.8665 - accuracy: 0.2716 - val_loss: 3.0129 - val_accuracy: 0.2485\n",
      "Epoch 23/150\n",
      "196/196 [==============================] - ETA: 0s - loss: 2.8404 - accuracy: 0.2769\n",
      "Epoch 00023: val_loss improved from 3.01291 to 2.99893, saving model to InceptionV2_Adam_BatchNorm.h5\n",
      "196/196 [==============================] - 30s 152ms/step - loss: 2.8404 - accuracy: 0.2769 - val_loss: 2.9989 - val_accuracy: 0.2475\n",
      "Epoch 24/150\n",
      "196/196 [==============================] - ETA: 0s - loss: 2.8142 - accuracy: 0.2816\n",
      "Epoch 00024: val_loss improved from 2.99893 to 2.96183, saving model to InceptionV2_Adam_BatchNorm.h5\n",
      "196/196 [==============================] - 30s 152ms/step - loss: 2.8142 - accuracy: 0.2816 - val_loss: 2.9618 - val_accuracy: 0.2591\n",
      "Epoch 25/150\n",
      "196/196 [==============================] - ETA: 0s - loss: 2.7887 - accuracy: 0.2868\n",
      "Epoch 00025: val_loss improved from 2.96183 to 2.95190, saving model to InceptionV2_Adam_BatchNorm.h5\n",
      "196/196 [==============================] - 30s 152ms/step - loss: 2.7887 - accuracy: 0.2868 - val_loss: 2.9519 - val_accuracy: 0.2606\n",
      "Epoch 26/150\n",
      "196/196 [==============================] - ETA: 0s - loss: 2.7686 - accuracy: 0.2907\n",
      "Epoch 00026: val_loss improved from 2.95190 to 2.92985, saving model to InceptionV2_Adam_BatchNorm.h5\n",
      "196/196 [==============================] - 30s 152ms/step - loss: 2.7686 - accuracy: 0.2907 - val_loss: 2.9299 - val_accuracy: 0.2637\n",
      "Epoch 27/150\n",
      "196/196 [==============================] - ETA: 0s - loss: 2.7443 - accuracy: 0.2956\n",
      "Epoch 00027: val_loss improved from 2.92985 to 2.90914, saving model to InceptionV2_Adam_BatchNorm.h5\n",
      "196/196 [==============================] - 30s 153ms/step - loss: 2.7443 - accuracy: 0.2956 - val_loss: 2.9091 - val_accuracy: 0.2665\n",
      "Epoch 28/150\n",
      "196/196 [==============================] - ETA: 0s - loss: 2.7229 - accuracy: 0.3003\n",
      "Epoch 00028: val_loss improved from 2.90914 to 2.89193, saving model to InceptionV2_Adam_BatchNorm.h5\n",
      "196/196 [==============================] - 30s 152ms/step - loss: 2.7229 - accuracy: 0.3003 - val_loss: 2.8919 - val_accuracy: 0.2724\n",
      "Epoch 29/150\n",
      "196/196 [==============================] - ETA: 0s - loss: 2.7022 - accuracy: 0.3034\n",
      "Epoch 00029: val_loss did not improve from 2.89193\n",
      "196/196 [==============================] - 30s 151ms/step - loss: 2.7022 - accuracy: 0.3034 - val_loss: 2.8950 - val_accuracy: 0.2711\n",
      "Epoch 30/150\n",
      "196/196 [==============================] - ETA: 0s - loss: 2.6820 - accuracy: 0.3098\n",
      "Epoch 00030: val_loss did not improve from 2.89193\n",
      "196/196 [==============================] - 30s 152ms/step - loss: 2.6820 - accuracy: 0.3098 - val_loss: 2.9176 - val_accuracy: 0.2701\n",
      "Epoch 31/150\n",
      "196/196 [==============================] - ETA: 0s - loss: 2.6600 - accuracy: 0.3118\n",
      "Epoch 00031: val_loss improved from 2.89193 to 2.86760, saving model to InceptionV2_Adam_BatchNorm.h5\n",
      "196/196 [==============================] - 30s 152ms/step - loss: 2.6600 - accuracy: 0.3118 - val_loss: 2.8676 - val_accuracy: 0.2783\n",
      "Epoch 32/150\n",
      "196/196 [==============================] - ETA: 0s - loss: 2.6423 - accuracy: 0.3160\n",
      "Epoch 00032: val_loss improved from 2.86760 to 2.84733, saving model to InceptionV2_Adam_BatchNorm.h5\n",
      "196/196 [==============================] - 30s 152ms/step - loss: 2.6423 - accuracy: 0.3160 - val_loss: 2.8473 - val_accuracy: 0.2822\n",
      "Epoch 33/150\n",
      "196/196 [==============================] - ETA: 0s - loss: 2.6223 - accuracy: 0.3203\n",
      "Epoch 00033: val_loss improved from 2.84733 to 2.83626, saving model to InceptionV2_Adam_BatchNorm.h5\n",
      "196/196 [==============================] - 30s 152ms/step - loss: 2.6223 - accuracy: 0.3203 - val_loss: 2.8363 - val_accuracy: 0.2835\n",
      "Epoch 34/150\n",
      "196/196 [==============================] - ETA: 0s - loss: 2.6068 - accuracy: 0.3237\n",
      "Epoch 00034: val_loss improved from 2.83626 to 2.83256, saving model to InceptionV2_Adam_BatchNorm.h5\n",
      "196/196 [==============================] - 30s 152ms/step - loss: 2.6068 - accuracy: 0.3237 - val_loss: 2.8326 - val_accuracy: 0.2869\n",
      "Epoch 35/150\n",
      "196/196 [==============================] - ETA: 0s - loss: 2.5881 - accuracy: 0.3275\n",
      "Epoch 00035: val_loss did not improve from 2.83256\n",
      "196/196 [==============================] - 30s 152ms/step - loss: 2.5881 - accuracy: 0.3275 - val_loss: 2.8646 - val_accuracy: 0.2828\n",
      "Epoch 36/150\n",
      "196/196 [==============================] - ETA: 0s - loss: 2.5690 - accuracy: 0.3317\n",
      "Epoch 00036: val_loss improved from 2.83256 to 2.82071, saving model to InceptionV2_Adam_BatchNorm.h5\n",
      "196/196 [==============================] - 30s 152ms/step - loss: 2.5690 - accuracy: 0.3317 - val_loss: 2.8207 - val_accuracy: 0.2847\n",
      "Epoch 37/150\n",
      "196/196 [==============================] - ETA: 0s - loss: 2.5518 - accuracy: 0.3340\n",
      "Epoch 00037: val_loss improved from 2.82071 to 2.81448, saving model to InceptionV2_Adam_BatchNorm.h5\n",
      "196/196 [==============================] - 30s 152ms/step - loss: 2.5518 - accuracy: 0.3340 - val_loss: 2.8145 - val_accuracy: 0.2878\n",
      "Epoch 38/150\n",
      "196/196 [==============================] - ETA: 0s - loss: 2.5374 - accuracy: 0.3373\n",
      "Epoch 00038: val_loss improved from 2.81448 to 2.79220, saving model to InceptionV2_Adam_BatchNorm.h5\n",
      "196/196 [==============================] - 29s 150ms/step - loss: 2.5374 - accuracy: 0.3373 - val_loss: 2.7922 - val_accuracy: 0.2896\n",
      "Epoch 39/150\n",
      "196/196 [==============================] - ETA: 0s - loss: 2.5198 - accuracy: 0.3410\n",
      "Epoch 00039: val_loss improved from 2.79220 to 2.78914, saving model to InceptionV2_Adam_BatchNorm.h5\n",
      "196/196 [==============================] - 30s 151ms/step - loss: 2.5198 - accuracy: 0.3410 - val_loss: 2.7891 - val_accuracy: 0.2947\n",
      "Epoch 40/150\n",
      "196/196 [==============================] - ETA: 0s - loss: 2.5056 - accuracy: 0.3448\n",
      "Epoch 00040: val_loss did not improve from 2.78914\n",
      "196/196 [==============================] - 29s 150ms/step - loss: 2.5056 - accuracy: 0.3448 - val_loss: 2.8166 - val_accuracy: 0.2877\n",
      "Epoch 41/150\n",
      "196/196 [==============================] - ETA: 0s - loss: 2.4871 - accuracy: 0.3471\n",
      "Epoch 00041: val_loss improved from 2.78914 to 2.77993, saving model to InceptionV2_Adam_BatchNorm.h5\n",
      "196/196 [==============================] - 30s 152ms/step - loss: 2.4871 - accuracy: 0.3471 - val_loss: 2.7799 - val_accuracy: 0.3008\n",
      "Epoch 42/150\n",
      "196/196 [==============================] - ETA: 0s - loss: 2.4742 - accuracy: 0.3505\n",
      "Epoch 00042: val_loss did not improve from 2.77993\n",
      "196/196 [==============================] - 30s 151ms/step - loss: 2.4742 - accuracy: 0.3505 - val_loss: 2.8215 - val_accuracy: 0.2927\n",
      "Epoch 43/150\n",
      "196/196 [==============================] - ETA: 0s - loss: 2.4602 - accuracy: 0.3535\n",
      "Epoch 00043: val_loss did not improve from 2.77993\n",
      "196/196 [==============================] - 30s 151ms/step - loss: 2.4602 - accuracy: 0.3535 - val_loss: 2.7805 - val_accuracy: 0.2960\n",
      "Epoch 44/150\n",
      "196/196 [==============================] - ETA: 0s - loss: 2.4446 - accuracy: 0.3568\n",
      "Epoch 00044: val_loss improved from 2.77993 to 2.75503, saving model to InceptionV2_Adam_BatchNorm.h5\n",
      "196/196 [==============================] - 30s 152ms/step - loss: 2.4446 - accuracy: 0.3568 - val_loss: 2.7550 - val_accuracy: 0.3017\n",
      "Epoch 45/150\n",
      "196/196 [==============================] - ETA: 0s - loss: 2.4307 - accuracy: 0.3602\n",
      "Epoch 00045: val_loss did not improve from 2.75503\n",
      "196/196 [==============================] - 30s 152ms/step - loss: 2.4307 - accuracy: 0.3602 - val_loss: 2.8074 - val_accuracy: 0.2969\n",
      "Epoch 46/150\n",
      "196/196 [==============================] - ETA: 0s - loss: 2.4154 - accuracy: 0.3628\n",
      "Epoch 00046: val_loss did not improve from 2.75503\n",
      "196/196 [==============================] - 30s 151ms/step - loss: 2.4154 - accuracy: 0.3628 - val_loss: 2.7600 - val_accuracy: 0.2997\n",
      "Epoch 47/150\n",
      "196/196 [==============================] - ETA: 0s - loss: 2.4014 - accuracy: 0.3674\n",
      "Epoch 00047: val_loss did not improve from 2.75503\n",
      "196/196 [==============================] - 30s 152ms/step - loss: 2.4014 - accuracy: 0.3674 - val_loss: 2.7693 - val_accuracy: 0.3016\n",
      "Epoch 48/150\n",
      "196/196 [==============================] - ETA: 0s - loss: 2.3871 - accuracy: 0.3692\n",
      "Epoch 00048: val_loss improved from 2.75503 to 2.75025, saving model to InceptionV2_Adam_BatchNorm.h5\n",
      "196/196 [==============================] - 29s 150ms/step - loss: 2.3871 - accuracy: 0.3692 - val_loss: 2.7502 - val_accuracy: 0.3060\n",
      "Epoch 49/150\n",
      "196/196 [==============================] - ETA: 0s - loss: 2.3726 - accuracy: 0.3719\n",
      "Epoch 00049: val_loss improved from 2.75025 to 2.74405, saving model to InceptionV2_Adam_BatchNorm.h5\n",
      "196/196 [==============================] - 29s 149ms/step - loss: 2.3726 - accuracy: 0.3719 - val_loss: 2.7441 - val_accuracy: 0.3081\n",
      "Epoch 50/150\n",
      "196/196 [==============================] - ETA: 0s - loss: 2.3598 - accuracy: 0.3749\n",
      "Epoch 00050: val_loss did not improve from 2.74405\n",
      "196/196 [==============================] - 29s 149ms/step - loss: 2.3598 - accuracy: 0.3749 - val_loss: 2.7619 - val_accuracy: 0.3026\n",
      "Epoch 51/150\n",
      "196/196 [==============================] - ETA: 0s - loss: 2.3485 - accuracy: 0.3780\n",
      "Epoch 00051: val_loss improved from 2.74405 to 2.72437, saving model to InceptionV2_Adam_BatchNorm.h5\n",
      "196/196 [==============================] - 29s 150ms/step - loss: 2.3485 - accuracy: 0.3780 - val_loss: 2.7244 - val_accuracy: 0.3076\n",
      "Epoch 52/150\n",
      "196/196 [==============================] - ETA: 0s - loss: 2.3346 - accuracy: 0.3797\n",
      "Epoch 00052: val_loss did not improve from 2.72437\n",
      "196/196 [==============================] - 29s 150ms/step - loss: 2.3346 - accuracy: 0.3797 - val_loss: 2.7427 - val_accuracy: 0.3061\n",
      "Epoch 53/150\n",
      "196/196 [==============================] - ETA: 0s - loss: 2.3200 - accuracy: 0.3828\n",
      "Epoch 00053: val_loss improved from 2.72437 to 2.72041, saving model to InceptionV2_Adam_BatchNorm.h5\n",
      "196/196 [==============================] - 30s 151ms/step - loss: 2.3200 - accuracy: 0.3828 - val_loss: 2.7204 - val_accuracy: 0.3120\n",
      "Epoch 54/150\n",
      "196/196 [==============================] - ETA: 0s - loss: 2.3096 - accuracy: 0.3860\n",
      "Epoch 00054: val_loss improved from 2.72041 to 2.71953, saving model to InceptionV2_Adam_BatchNorm.h5\n",
      "196/196 [==============================] - 30s 151ms/step - loss: 2.3096 - accuracy: 0.3860 - val_loss: 2.7195 - val_accuracy: 0.3151\n",
      "Epoch 55/150\n",
      "196/196 [==============================] - ETA: 0s - loss: 2.2964 - accuracy: 0.3896\n",
      "Epoch 00055: val_loss did not improve from 2.71953\n",
      "196/196 [==============================] - 29s 150ms/step - loss: 2.2964 - accuracy: 0.3896 - val_loss: 2.7375 - val_accuracy: 0.3104\n",
      "Epoch 56/150\n",
      "196/196 [==============================] - ETA: 0s - loss: 2.2828 - accuracy: 0.3926\n",
      "Epoch 00056: val_loss did not improve from 2.71953\n",
      "196/196 [==============================] - 29s 150ms/step - loss: 2.2828 - accuracy: 0.3926 - val_loss: 2.7222 - val_accuracy: 0.3155\n",
      "Epoch 57/150\n",
      "196/196 [==============================] - ETA: 0s - loss: 2.2713 - accuracy: 0.3945\n",
      "Epoch 00057: val_loss did not improve from 2.71953\n",
      "196/196 [==============================] - 29s 150ms/step - loss: 2.2713 - accuracy: 0.3945 - val_loss: 2.7329 - val_accuracy: 0.3106\n",
      "Epoch 58/150\n",
      "196/196 [==============================] - ETA: 0s - loss: 2.2566 - accuracy: 0.3959\n",
      "Epoch 00058: val_loss did not improve from 2.71953\n",
      "196/196 [==============================] - 29s 150ms/step - loss: 2.2566 - accuracy: 0.3959 - val_loss: 2.7245 - val_accuracy: 0.3136\n",
      "Epoch 59/150\n",
      "196/196 [==============================] - ETA: 0s - loss: 2.2476 - accuracy: 0.3998\n",
      "Epoch 00059: val_loss did not improve from 2.71953\n",
      "196/196 [==============================] - 29s 150ms/step - loss: 2.2476 - accuracy: 0.3998 - val_loss: 2.7444 - val_accuracy: 0.3105\n",
      "Epoch 00059: early stopping\n"
     ]
    }
   ],
   "source": [
    "history = model.fit(X_train,y_train, validation_data=(X_test,y_test), epochs=150, batch_size=256, callbacks=[checkpoint,early])\n"
   ]
  },
  {
   "cell_type": "markdown",
   "metadata": {
    "id": "Y0xFUMyq_tGF"
   },
   "source": [
    "<h3><b> Graphs</b></h3>"
   ]
  },
  {
   "cell_type": "code",
   "execution_count": 53,
   "metadata": {
    "colab": {
     "base_uri": "https://localhost:8080/",
     "height": 312
    },
    "id": "U4tGzn_O_n14",
    "outputId": "19eefee4-c8a1-4129-b2ae-16f18c1a2d32"
   },
   "outputs": [
    {
     "name": "stdout",
     "output_type": "stream",
     "text": [
      "dict_keys(['loss', 'accuracy', 'val_loss', 'val_accuracy'])\n"
     ]
    },
    {
     "data": {
      "image/png": "[encoded data removed]",
      "text/plain": [
       "<Figure size 432x288 with 1 Axes>"
      ]
     },
     "metadata": {
      "needs_background": "light",
      "tags": []
     },
     "output_type": "display_data"
    }
   ],
   "source": [
    "import matplotlib.pyplot as plt\n",
    "\n",
    "history_dict = history.history\n",
    "print(history_dict.keys())\n",
    "accuracy_values = history_dict['accuracy']\n",
    "val_accuracy_values = history_dict['val_accuracy']\n",
    "\n",
    "epochs = range(1, len(history_dict['accuracy']) + 1)\n",
    "\n",
    "plt.plot(epochs, accuracy_values, 'bo', label='Training Accuracy')\n",
    "plt.plot(epochs, val_accuracy_values, 'b', label='Validation loss')\n",
    "plt.title('Training and validation Accuracy')\n",
    "plt.xlabel('Epochs')\n",
    "plt.ylabel('Accuracy')\n",
    "plt.legend()\n",
    "\n",
    "plt.show()"
   ]
  },
  {
   "cell_type": "code",
   "execution_count": 54,
   "metadata": {
    "colab": {
     "base_uri": "https://localhost:8080/",
     "height": 312
    },
    "id": "paDpykeG_pdP",
    "outputId": "1ef53867-9845-4ce1-e314-83c4644bc93f"
   },
   "outputs": [
    {
     "name": "stdout",
     "output_type": "stream",
     "text": [
      "dict_keys(['loss', 'accuracy', 'val_loss', 'val_accuracy'])\n"
     ]
    },
    {
     "data": {
      "image/png": "[encoded data removed]",
      "text/plain": [
       "<Figure size 432x288 with 1 Axes>"
      ]
     },
     "metadata": {
      "needs_background": "light",
      "tags": []
     },
     "output_type": "display_data"
    }
   ],
   "source": [
    "import matplotlib.pyplot as plt\n",
    "\n",
    "history_dict = history.history\n",
    "print(history_dict.keys())\n",
    "loss_values = history_dict['loss']\n",
    "val_loss_values = history_dict['val_loss']\n",
    "\n",
    "epochs = range(1, len(history_dict['accuracy']) + 1)\n",
    "\n",
    "plt.plot(epochs, loss_values, 'bo', label='Training loss')\n",
    "plt.plot(epochs, val_loss_values, 'b', label='Validation loss')\n",
    "plt.title('Training and validation loss')\n",
    "plt.xlabel('Epochs')\n",
    "plt.ylabel('Loss')\n",
    "plt.legend()\n",
    "\n",
    "plt.show()\n"
   ]
  },
  {
   "cell_type": "markdown",
   "metadata": {
    "id": "n2CBsx5a2h8O"
   },
   "source": [
    "<h3><b> Metric Calculation</b></h3>"
   ]
  },
  {
   "cell_type": "code",
   "execution_count": 55,
   "metadata": {
    "colab": {
     "base_uri": "https://localhost:8080/",
     "height": 68
    },
    "id": "XOhTm_r5_68l",
    "outputId": "e7240bb4-b6af-49da-9c64-f04361007c23"
   },
   "outputs": [
    {
     "name": "stdout",
     "output_type": "stream",
     "text": [
      "Prec: 0.3024633366906804\n",
      "Recall: 0.3151\n",
      "Accuracy: 0.3151\n"
     ]
    }
   ],
   "source": [
    "model1 = Model(input_layer,  output)\n",
    "model1.load_weights(\"./InceptionV2_Adam_BatchNorm.h5\")\n",
    "#optimization details\n",
    "learning_rate = 0.0001\n",
    "batch_size = 128\n",
    "lr_decay = 1e-6\n",
    "#optimization details\n",
    "opt = optimizers.Adam(lr=learning_rate)\n",
    "model.compile(loss='categorical_crossentropy', optimizer=opt,metrics=['accuracy'])\n",
    "\n",
    "# Test the model\n",
    "model.predict(X_test).argmax(-1)\n",
    "\n",
    "y_true = y_test.argmax(-1)\n",
    "y_pred = model.predict(X_test).argmax(-1)\n",
    "# generate confusion matrix\n",
    "from sklearn.metrics import confusion_matrix, precision_score, recall_score, accuracy_score\n",
    "confusion_matrix(y_true, y_pred)\n",
    "# calculate prec, recall, accuracy\n",
    "print(\"Prec: \"+ str(precision_score(y_true, y_pred, average='weighted')))\n",
    "print(\"Recall: \"+ str(recall_score(y_true, y_pred, average='weighted')))\n",
    "print(\"Accuracy: \" + str(accuracy_score(y_true, y_pred)))"
   ]
  },
  {
   "cell_type": "markdown",
   "metadata": {
    "id": "M_M6ri2847o1"
   },
   "source": [
    "<h3><b> References</b></h3>"
   ]
  },
  {
   "cell_type": "code",
   "execution_count": 56,
   "metadata": {
    "id": "dF2G22fKjJEF"
   },
   "outputs": [],
   "source": [
    "#https://www.analyticsvidhya.com/blog/2018/10/understanding-inception-network-from-scratch/\n",
    "#https://static.googleusercontent.com/media/research.google.com/en//pubs/archive/43022.pdf"
   ]
  }
 ],
 "metadata": {
  "accelerator": "GPU",
  "colab": {
   "collapsed_sections": [],
   "name": "InceptionV2_Adam_BatchNorm.ipynb",
   "provenance": []
  },
  "kernelspec": {
   "display_name": "Python 3",
   "language": "python",
   "name": "python3"
  },
  "language_info": {
   "codemirror_mode": {
    "name": "ipython",
    "version": 3
   },
   "file_extension": ".py",
   "mimetype": "text/x-python",
   "name": "python",
   "nbconvert_exporter": "python",
   "pygments_lexer": "ipython3",
   "version": "3.7.3"
  }
 },
 "nbformat": 4,
 "nbformat_minor": 1
}

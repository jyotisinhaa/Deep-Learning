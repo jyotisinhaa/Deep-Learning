{
  "nbformat": 4,
  "nbformat_minor": 0,
  "metadata": {
    "colab": {
      "name": "Resnet18_SGD_BatchNorm.ipynb",
      "provenance": [],
      "collapsed_sections": []
    },
    "kernelspec": {
      "name": "python3",
      "display_name": "Python 3"
    },
    "accelerator": "GPU"
  },
  "cells": [
    {
      "cell_type": "markdown",
      "metadata": {
        "id": "5WiVrJVyY2Sb"
      },
      "source": [
        "<h3><b>Importing Library</b></h3>"
      ]
    },
    {
      "cell_type": "code",
      "metadata": {
        "id": "vSlMQb_B7lG5"
      },
      "source": [
        "#Importing Library\n",
        "import os\n",
        "os.environ['CUDA_VISIBLE_DEVICES'] = '0'\n",
        "import keras\n",
        "import numpy as np\n",
        "import cv2\n",
        "from keras import optimizers\n",
        "from __future__ import print_function\n",
        "from keras.datasets import cifar100\n",
        "from keras.preprocessing.image import ImageDataGenerator\n",
        "from keras.utils import np_utils\n",
        "from keras.callbacks import ReduceLROnPlateau, CSVLogger, EarlyStopping\n",
        "from keras import layers\n",
        "from keras.layers import Input, Add, Dense, Activation, ZeroPadding2D, BatchNormalization, Flatten, Conv2D, AveragePooling2D, MaxPooling2D\n",
        "from keras.models import Model, load_model\n",
        "from keras.initializers import glorot_uniform\n",
        "from keras.utils import plot_model\n",
        "from IPython.display import SVG\n",
        "from keras.utils.vis_utils import model_to_dot\n",
        "import keras.backend as K\n",
        "import tensorflow as tf\n",
        "from keras.utils import to_categorical"
      ],
      "execution_count": 31,
      "outputs": []
    },
    {
      "cell_type": "markdown",
      "metadata": {
        "id": "iCnGduLhZTG3"
      },
      "source": [
        "<h3><b>Importing Dataset</b></h3>"
      ]
    },
    {
      "cell_type": "code",
      "metadata": {
        "id": "7VPRIRnD7lMi",
        "outputId": "75ef0c83-7ce4-4f19-a047-cd24db518310",
        "colab": {
          "base_uri": "https://localhost:8080/",
          "height": 85
        }
      },
      "source": [
        "CLASSES = 100\n",
        "(X_train, y_train), (X_test, y_test) = cifar100.load_data()\n",
        "print(X_train.shape)\n",
        "print(X_test.shape)\n",
        "print(y_train.shape)\n",
        "print(y_test.shape)"
      ],
      "execution_count": 32,
      "outputs": [
        {
          "output_type": "stream",
          "text": [
            "(50000, 32, 32, 3)\n",
            "(10000, 32, 32, 3)\n",
            "(50000, 1)\n",
            "(10000, 1)\n"
          ],
          "name": "stdout"
        }
      ]
    },
    {
      "cell_type": "markdown",
      "metadata": {
        "id": "ZLKwqg4IZrig"
      },
      "source": [
        "<h3><b>Preprocessing of the Dataset</b></h3>"
      ]
    },
    {
      "cell_type": "code",
      "metadata": {
        "id": "K_e4QeNLZ0Lz"
      },
      "source": [
        "#Normalize the Dataset\n",
        "X_train = X_train/255\n",
        "X_test = X_test/255"
      ],
      "execution_count": 33,
      "outputs": []
    },
    {
      "cell_type": "code",
      "metadata": {
        "id": "qSgPRi0naBFo"
      },
      "source": [
        "#Converting the testing and training dataset into float\n",
        "X_train = X_train.astype('float32')\n",
        "X_test = X_test.astype('float32')\n"
      ],
      "execution_count": 34,
      "outputs": []
    },
    {
      "cell_type": "code",
      "metadata": {
        "id": "j_M02wQCZnl9",
        "outputId": "748bc82b-55c7-4bdc-c3c7-d38dc2a03e17",
        "colab": {
          "base_uri": "https://localhost:8080/",
          "height": 34
        }
      },
      "source": [
        "# Convert training and the test labels to one hot matrices\n",
        "y_train = keras.utils.to_categorical(y_train, 100)\n",
        "y_test = keras.utils.to_categorical(y_test, 100)\n",
        "print(y_train.shape)"
      ],
      "execution_count": 35,
      "outputs": [
        {
          "output_type": "stream",
          "text": [
            "(50000, 100)\n"
          ],
          "name": "stdout"
        }
      ]
    },
    {
      "cell_type": "markdown",
      "metadata": {
        "id": "zeEcDgKllrIb"
      },
      "source": [
        "<h3><b>Model Architecture</b></h3>"
      ]
    },
    {
      "cell_type": "markdown",
      "metadata": {
        "id": "PY2izFq8lzRa"
      },
      "source": [
        "<h4><b> Identity Block</b><h4>"
      ]
    },
    {
      "cell_type": "code",
      "metadata": {
        "id": "74hKxFh-7lP4"
      },
      "source": [
        "def identity_block(X, f, filters, stage, block):\n",
        "    # defining name basis\n",
        "    conv_name_base = 'res' + str(stage) + block + '_branch'\n",
        "    bn_name_base = 'bn' + str(stage) + block + '_branch'\n",
        "\n",
        "    # Retrieve Filters\n",
        "    F1, F2 = filters\n",
        "\n",
        "    # Save the input value. We'll need this later to add back to the main path. \n",
        "    X_shortcut = X\n",
        "\n",
        "    # First component of main path\n",
        "    X = Conv2D(filters = F1, kernel_size = (1, 1), strides = (1,1), padding = 'same', name = conv_name_base + '2a')(X)\n",
        "    X = BatchNormalization(axis = 3, name = bn_name_base + '2a')(X)\n",
        "    X = Activation('elu')(X)\n",
        "\n",
        "    # Second component of main path\n",
        "    X = Conv2D(filters = F2, kernel_size = (f, f), strides = (1,1), padding = 'same', name = conv_name_base + '2b')(X)\n",
        "    X = BatchNormalization(axis = 3, name = bn_name_base + '2b')(X)\n",
        "    X = Activation('elu')(X)\n",
        "\n",
        "\n",
        "    # Final step: Add shortcut value to main path, and pass it through a ELU activation\n",
        "    X = Add()([X, X_shortcut])\n",
        "    X = Activation('elu')(X)\n",
        "\n",
        "    return X"
      ],
      "execution_count": 36,
      "outputs": []
    },
    {
      "cell_type": "markdown",
      "metadata": {
        "id": "TXzaP_DUr_jN"
      },
      "source": [
        "<h4><b>Convolutional Block</b></h4>"
      ]
    },
    {
      "cell_type": "code",
      "metadata": {
        "id": "BY1RYdMz7lJ5"
      },
      "source": [
        "def convolutional_block(X, f, filters, stage, block, s = 2):\n",
        "    # defining name basis\n",
        "    conv_name_base = 'res' + str(stage) + block + '_branch'\n",
        "    bn_name_base = 'bn' + str(stage) + block + '_branch'\n",
        "    \n",
        "    # Retrieve Filters\n",
        "    F1, F2= filters\n",
        "    \n",
        "    # Save the input value\n",
        "    X_shortcut = X\n",
        "\n",
        "\n",
        "    ##### MAIN PATH #####\n",
        "    # First component of main path \n",
        "    X = Conv2D(F1, (1, 1), strides = (s,s), name = conv_name_base + '2a',padding=\"same\")(X)\n",
        "    X = BatchNormalization(axis = 3, name = bn_name_base + '2a')(X)\n",
        "    X = Activation('elu')(X)\n",
        "\n",
        "    # Second component of main path\n",
        "    X = Conv2D(filters=F2, kernel_size=(f, f), strides=(1, 1), padding='same', name=conv_name_base + '2b')(X)\n",
        "    X = BatchNormalization(axis=3, name=bn_name_base + '2b')(X)\n",
        "    X = Activation('elu')(X)\n",
        "\n",
        "    \n",
        "    ##### SHORTCUT PATH ####\n",
        "    X_shortcut = Conv2D(F2, (1, 1), strides = (s,s), name = conv_name_base + '1',padding = 'same')(X_shortcut)\n",
        "    X_shortcut = BatchNormalization(axis = 3, name = bn_name_base + '1')(X_shortcut)\n",
        "\n",
        "    # Final step: Add shortcut value to main path, and pass it through a ELU activation\n",
        "    X = Add()([X, X_shortcut])\n",
        "    X = Activation('elu')(X)\n",
        "    \n",
        "    return X"
      ],
      "execution_count": 37,
      "outputs": []
    },
    {
      "cell_type": "markdown",
      "metadata": {
        "id": "-f7v9hH0sHNh"
      },
      "source": [
        "<h4><b>Resnet Block</b></h4>"
      ]
    },
    {
      "cell_type": "code",
      "metadata": {
        "id": "1YcF0hx6-1WO"
      },
      "source": [
        "def ResNet18(input_shape = (32, 32, 3), classes = 100):   \n",
        "    # Define the input as a tensor with shape input_shape\n",
        "    X_input = Input(input_shape)\n",
        "\n",
        "    # Zero-Padding\n",
        "    X = ZeroPadding2D((3, 3))(X_input)\n",
        "    \n",
        "    # Stage 1\n",
        "    X = Conv2D(64, (7, 7),padding = \"same\" ,strides = (2, 2), name = 'conv1')(X)\n",
        "    X = BatchNormalization(axis = 3, name = 'bn_conv1')(X)\n",
        "    X = Activation('elu')(X)\n",
        "    X = MaxPooling2D((3, 3), strides=(2, 2))(X)\n",
        "\n",
        "    # Stage 2\n",
        "    X = convolutional_block(X, f = 3, filters = [64, 64], stage = 2, block='a', s = 1)\n",
        "    X = identity_block(X, 3, [64, 64], stage=2, block='b')\n",
        "\n",
        "    # Stage 3\n",
        "    X = convolutional_block(X, f = 3, filters = [128, 128], stage = 3, block='a', s = 2)\n",
        "    X = identity_block(X, 3, [128, 128], stage=3, block='b')\n",
        "   \n",
        "    # Stage 4\n",
        "    X = convolutional_block(X, f = 3, filters = [256, 256], stage = 4, block='a', s = 2)\n",
        "    X = identity_block(X, 3, [256, 256], stage=4, block='b')\n",
        "  \n",
        "    # Stage 5\n",
        "    X = convolutional_block(X, f = 3, filters = [512, 512], stage = 5, block='a', s = 2)\n",
        "    X = identity_block(X, 3, [512, 512], stage=5, block='b')\n",
        "\n",
        "    # AVGPOOL.\n",
        "    X = AveragePooling2D((2, 2), name='avg_pool')(X)\n",
        "\n",
        "    # output layer\n",
        "    X = Flatten()(X)\n",
        "    X = Dense(classes, activation='softmax', name='fc' + str(classes))(X)\n",
        "    \n",
        "    # Create model\n",
        "    model = Model(inputs = X_input, outputs = X, name='ResNet50')\n",
        "\n",
        "    return model"
      ],
      "execution_count": 38,
      "outputs": []
    },
    {
      "cell_type": "markdown",
      "metadata": {
        "id": "On9gMROMsWcq"
      },
      "source": [
        "<h4><b>Compile the Model</b></h3>"
      ]
    },
    {
      "cell_type": "code",
      "metadata": {
        "id": "D_9wK8Dk-9y9"
      },
      "source": [
        "model = ResNet18(input_shape = (32, 32, 3), classes = CLASSES)"
      ],
      "execution_count": 39,
      "outputs": []
    },
    {
      "cell_type": "code",
      "metadata": {
        "id": "SDGBDWUO_Crk"
      },
      "source": [
        "learning_rate = 0.001\n",
        "batch_size = 128\n",
        "lr_decay = 1e-6\n",
        "#optimization details\n",
        "sgd = optimizers.SGD(lr=learning_rate, decay=lr_decay, momentum=0.9, nesterov=True)\n",
        "model.compile(loss='categorical_crossentropy', optimizer=sgd,metrics=['accuracy'])\n"
      ],
      "execution_count": 40,
      "outputs": []
    },
    {
      "cell_type": "markdown",
      "metadata": {
        "id": "6JO7vIbBumOv"
      },
      "source": [
        "<h3><b>Model Checkpoint and Early Stopping</b></h3>"
      ]
    },
    {
      "cell_type": "code",
      "metadata": {
        "id": "tgkRQWheuc5v",
        "outputId": "c0c253e2-c62f-4e21-ee49-370934126b15",
        "colab": {
          "base_uri": "https://localhost:8080/",
          "height": 54
        }
      },
      "source": [
        "# Create Checkpoint and Early Stopping\n",
        "from keras.callbacks import ModelCheckpoint, EarlyStopping\n",
        "checkpoint = ModelCheckpoint(\"Resnet18_SGD_BatchNorm.h5\", monitor='val_loss', verbose=1, save_best_only=True, save_weights_only=True, mode='auto', period=1)\n",
        "early = EarlyStopping(monitor='val_loss', min_delta=0, patience=5, verbose=1, mode='auto')"
      ],
      "execution_count": 41,
      "outputs": [
        {
          "output_type": "stream",
          "text": [
            "WARNING:tensorflow:`period` argument is deprecated. Please use `save_freq` to specify the frequency in number of batches seen.\n"
          ],
          "name": "stdout"
        }
      ]
    },
    {
      "cell_type": "markdown",
      "metadata": {
        "id": "jz3DnuLesh8y"
      },
      "source": [
        "<h3><b> Train the Model </b></h3>"
      ]
    },
    {
      "cell_type": "code",
      "metadata": {
        "id": "NthfpJ2Kx2Y_",
        "outputId": "1c492883-2dfc-492e-ff22-5438c34d5059",
        "colab": {
          "base_uri": "https://localhost:8080/",
          "height": 870
        }
      },
      "source": [
        "batch_size = 128\n",
        "history = model.fit(X_train, y_train ,validation_data=(X_test, y_test), epochs=100,callbacks=[checkpoint,early])"
      ],
      "execution_count": 42,
      "outputs": [
        {
          "output_type": "stream",
          "text": [
            "Epoch 1/100\n",
            "1561/1563 [============================>.] - ETA: 0s - loss: 3.2987 - accuracy: 0.2145\n",
            "Epoch 00001: val_loss improved from inf to 2.92473, saving model to Resnet18_SGD_BatchNorm.h5\n",
            "1563/1563 [==============================] - 37s 24ms/step - loss: 3.2984 - accuracy: 0.2146 - val_loss: 2.9247 - val_accuracy: 0.2804\n",
            "Epoch 2/100\n",
            "1561/1563 [============================>.] - ETA: 0s - loss: 2.5620 - accuracy: 0.3499\n",
            "Epoch 00002: val_loss improved from 2.92473 to 2.65771, saving model to Resnet18_SGD_BatchNorm.h5\n",
            "1563/1563 [==============================] - 38s 24ms/step - loss: 2.5620 - accuracy: 0.3499 - val_loss: 2.6577 - val_accuracy: 0.3389\n",
            "Epoch 3/100\n",
            "1561/1563 [============================>.] - ETA: 0s - loss: 2.1831 - accuracy: 0.4303\n",
            "Epoch 00003: val_loss improved from 2.65771 to 2.61293, saving model to Resnet18_SGD_BatchNorm.h5\n",
            "1563/1563 [==============================] - 38s 24ms/step - loss: 2.1833 - accuracy: 0.4303 - val_loss: 2.6129 - val_accuracy: 0.3553\n",
            "Epoch 4/100\n",
            "1563/1563 [==============================] - ETA: 0s - loss: 1.8864 - accuracy: 0.4965\n",
            "Epoch 00004: val_loss improved from 2.61293 to 2.55353, saving model to Resnet18_SGD_BatchNorm.h5\n",
            "1563/1563 [==============================] - 38s 24ms/step - loss: 1.8864 - accuracy: 0.4965 - val_loss: 2.5535 - val_accuracy: 0.3674\n",
            "Epoch 5/100\n",
            "1562/1563 [============================>.] - ETA: 0s - loss: 1.6295 - accuracy: 0.5603\n",
            "Epoch 00005: val_loss improved from 2.55353 to 2.44190, saving model to Resnet18_SGD_BatchNorm.h5\n",
            "1563/1563 [==============================] - 38s 24ms/step - loss: 1.6294 - accuracy: 0.5603 - val_loss: 2.4419 - val_accuracy: 0.4029\n",
            "Epoch 6/100\n",
            "1561/1563 [============================>.] - ETA: 0s - loss: 1.3851 - accuracy: 0.6213\n",
            "Epoch 00006: val_loss did not improve from 2.44190\n",
            "1563/1563 [==============================] - 38s 24ms/step - loss: 1.3850 - accuracy: 0.6214 - val_loss: 2.5937 - val_accuracy: 0.3787\n",
            "Epoch 7/100\n",
            "1562/1563 [============================>.] - ETA: 0s - loss: 1.1528 - accuracy: 0.6808\n",
            "Epoch 00007: val_loss improved from 2.44190 to 2.40979, saving model to Resnet18_SGD_BatchNorm.h5\n",
            "1563/1563 [==============================] - 38s 24ms/step - loss: 1.1531 - accuracy: 0.6807 - val_loss: 2.4098 - val_accuracy: 0.4213\n",
            "Epoch 8/100\n",
            "1562/1563 [============================>.] - ETA: 0s - loss: 0.9337 - accuracy: 0.7434\n",
            "Epoch 00008: val_loss did not improve from 2.40979\n",
            "1563/1563 [==============================] - 38s 24ms/step - loss: 0.9337 - accuracy: 0.7434 - val_loss: 2.5187 - val_accuracy: 0.4122\n",
            "Epoch 9/100\n",
            "1563/1563 [==============================] - ETA: 0s - loss: 0.7219 - accuracy: 0.8033\n",
            "Epoch 00009: val_loss did not improve from 2.40979\n",
            "1563/1563 [==============================] - 38s 24ms/step - loss: 0.7219 - accuracy: 0.8033 - val_loss: 2.6099 - val_accuracy: 0.4142\n",
            "Epoch 10/100\n",
            "1562/1563 [============================>.] - ETA: 0s - loss: 0.5479 - accuracy: 0.8549\n",
            "Epoch 00010: val_loss did not improve from 2.40979\n",
            "1563/1563 [==============================] - 38s 24ms/step - loss: 0.5479 - accuracy: 0.8549 - val_loss: 2.6705 - val_accuracy: 0.4112\n",
            "Epoch 11/100\n",
            "1562/1563 [============================>.] - ETA: 0s - loss: 0.3862 - accuracy: 0.9032\n",
            "Epoch 00011: val_loss did not improve from 2.40979\n",
            "1563/1563 [==============================] - 37s 24ms/step - loss: 0.3863 - accuracy: 0.9032 - val_loss: 2.6742 - val_accuracy: 0.4235\n",
            "Epoch 12/100\n",
            "1562/1563 [============================>.] - ETA: 0s - loss: 0.2669 - accuracy: 0.9390\n",
            "Epoch 00012: val_loss did not improve from 2.40979\n",
            "1563/1563 [==============================] - 37s 24ms/step - loss: 0.2669 - accuracy: 0.9389 - val_loss: 2.7248 - val_accuracy: 0.4300\n",
            "Epoch 00012: early stopping\n"
          ],
          "name": "stdout"
        }
      ]
    },
    {
      "cell_type": "code",
      "metadata": {
        "id": "ZFZtx_GhVydd",
        "outputId": "4744341b-2c64-4d3a-b616-f2d7f5c21551",
        "colab": {
          "base_uri": "https://localhost:8080/",
          "height": 1000
        }
      },
      "source": [
        "model.summary()"
      ],
      "execution_count": 43,
      "outputs": [
        {
          "output_type": "stream",
          "text": [
            "Model: \"ResNet50\"\n",
            "__________________________________________________________________________________________________\n",
            "Layer (type)                    Output Shape         Param #     Connected to                     \n",
            "==================================================================================================\n",
            "input_4 (InputLayer)            [(None, 32, 32, 3)]  0                                            \n",
            "__________________________________________________________________________________________________\n",
            "zero_padding2d_3 (ZeroPadding2D (None, 38, 38, 3)    0           input_4[0][0]                    \n",
            "__________________________________________________________________________________________________\n",
            "conv1 (Conv2D)                  (None, 19, 19, 64)   9472        zero_padding2d_3[0][0]           \n",
            "__________________________________________________________________________________________________\n",
            "bn_conv1 (BatchNormalization)   (None, 19, 19, 64)   256         conv1[0][0]                      \n",
            "__________________________________________________________________________________________________\n",
            "activation_75 (Activation)      (None, 19, 19, 64)   0           bn_conv1[0][0]                   \n",
            "__________________________________________________________________________________________________\n",
            "max_pooling2d_3 (MaxPooling2D)  (None, 9, 9, 64)     0           activation_75[0][0]              \n",
            "__________________________________________________________________________________________________\n",
            "res2a_branch2a (Conv2D)         (None, 9, 9, 64)     4160        max_pooling2d_3[0][0]            \n",
            "__________________________________________________________________________________________________\n",
            "bn2a_branch2a (BatchNormalizati (None, 9, 9, 64)     256         res2a_branch2a[0][0]             \n",
            "__________________________________________________________________________________________________\n",
            "activation_76 (Activation)      (None, 9, 9, 64)     0           bn2a_branch2a[0][0]              \n",
            "__________________________________________________________________________________________________\n",
            "res2a_branch2b (Conv2D)         (None, 9, 9, 64)     36928       activation_76[0][0]              \n",
            "__________________________________________________________________________________________________\n",
            "bn2a_branch2b (BatchNormalizati (None, 9, 9, 64)     256         res2a_branch2b[0][0]             \n",
            "__________________________________________________________________________________________________\n",
            "res2a_branch1 (Conv2D)          (None, 9, 9, 64)     4160        max_pooling2d_3[0][0]            \n",
            "__________________________________________________________________________________________________\n",
            "activation_77 (Activation)      (None, 9, 9, 64)     0           bn2a_branch2b[0][0]              \n",
            "__________________________________________________________________________________________________\n",
            "bn2a_branch1 (BatchNormalizatio (None, 9, 9, 64)     256         res2a_branch1[0][0]              \n",
            "__________________________________________________________________________________________________\n",
            "add_24 (Add)                    (None, 9, 9, 64)     0           activation_77[0][0]              \n",
            "                                                                 bn2a_branch1[0][0]               \n",
            "__________________________________________________________________________________________________\n",
            "activation_78 (Activation)      (None, 9, 9, 64)     0           add_24[0][0]                     \n",
            "__________________________________________________________________________________________________\n",
            "res2b_branch2a (Conv2D)         (None, 9, 9, 64)     4160        activation_78[0][0]              \n",
            "__________________________________________________________________________________________________\n",
            "bn2b_branch2a (BatchNormalizati (None, 9, 9, 64)     256         res2b_branch2a[0][0]             \n",
            "__________________________________________________________________________________________________\n",
            "activation_79 (Activation)      (None, 9, 9, 64)     0           bn2b_branch2a[0][0]              \n",
            "__________________________________________________________________________________________________\n",
            "res2b_branch2b (Conv2D)         (None, 9, 9, 64)     36928       activation_79[0][0]              \n",
            "__________________________________________________________________________________________________\n",
            "bn2b_branch2b (BatchNormalizati (None, 9, 9, 64)     256         res2b_branch2b[0][0]             \n",
            "__________________________________________________________________________________________________\n",
            "activation_80 (Activation)      (None, 9, 9, 64)     0           bn2b_branch2b[0][0]              \n",
            "__________________________________________________________________________________________________\n",
            "add_25 (Add)                    (None, 9, 9, 64)     0           activation_80[0][0]              \n",
            "                                                                 activation_78[0][0]              \n",
            "__________________________________________________________________________________________________\n",
            "activation_81 (Activation)      (None, 9, 9, 64)     0           add_25[0][0]                     \n",
            "__________________________________________________________________________________________________\n",
            "res3a_branch2a (Conv2D)         (None, 5, 5, 128)    8320        activation_81[0][0]              \n",
            "__________________________________________________________________________________________________\n",
            "bn3a_branch2a (BatchNormalizati (None, 5, 5, 128)    512         res3a_branch2a[0][0]             \n",
            "__________________________________________________________________________________________________\n",
            "activation_82 (Activation)      (None, 5, 5, 128)    0           bn3a_branch2a[0][0]              \n",
            "__________________________________________________________________________________________________\n",
            "res3a_branch2b (Conv2D)         (None, 5, 5, 128)    147584      activation_82[0][0]              \n",
            "__________________________________________________________________________________________________\n",
            "bn3a_branch2b (BatchNormalizati (None, 5, 5, 128)    512         res3a_branch2b[0][0]             \n",
            "__________________________________________________________________________________________________\n",
            "res3a_branch1 (Conv2D)          (None, 5, 5, 128)    8320        activation_81[0][0]              \n",
            "__________________________________________________________________________________________________\n",
            "activation_83 (Activation)      (None, 5, 5, 128)    0           bn3a_branch2b[0][0]              \n",
            "__________________________________________________________________________________________________\n",
            "bn3a_branch1 (BatchNormalizatio (None, 5, 5, 128)    512         res3a_branch1[0][0]              \n",
            "__________________________________________________________________________________________________\n",
            "add_26 (Add)                    (None, 5, 5, 128)    0           activation_83[0][0]              \n",
            "                                                                 bn3a_branch1[0][0]               \n",
            "__________________________________________________________________________________________________\n",
            "activation_84 (Activation)      (None, 5, 5, 128)    0           add_26[0][0]                     \n",
            "__________________________________________________________________________________________________\n",
            "res3b_branch2a (Conv2D)         (None, 5, 5, 128)    16512       activation_84[0][0]              \n",
            "__________________________________________________________________________________________________\n",
            "bn3b_branch2a (BatchNormalizati (None, 5, 5, 128)    512         res3b_branch2a[0][0]             \n",
            "__________________________________________________________________________________________________\n",
            "activation_85 (Activation)      (None, 5, 5, 128)    0           bn3b_branch2a[0][0]              \n",
            "__________________________________________________________________________________________________\n",
            "res3b_branch2b (Conv2D)         (None, 5, 5, 128)    147584      activation_85[0][0]              \n",
            "__________________________________________________________________________________________________\n",
            "bn3b_branch2b (BatchNormalizati (None, 5, 5, 128)    512         res3b_branch2b[0][0]             \n",
            "__________________________________________________________________________________________________\n",
            "activation_86 (Activation)      (None, 5, 5, 128)    0           bn3b_branch2b[0][0]              \n",
            "__________________________________________________________________________________________________\n",
            "add_27 (Add)                    (None, 5, 5, 128)    0           activation_86[0][0]              \n",
            "                                                                 activation_84[0][0]              \n",
            "__________________________________________________________________________________________________\n",
            "activation_87 (Activation)      (None, 5, 5, 128)    0           add_27[0][0]                     \n",
            "__________________________________________________________________________________________________\n",
            "res4a_branch2a (Conv2D)         (None, 3, 3, 256)    33024       activation_87[0][0]              \n",
            "__________________________________________________________________________________________________\n",
            "bn4a_branch2a (BatchNormalizati (None, 3, 3, 256)    1024        res4a_branch2a[0][0]             \n",
            "__________________________________________________________________________________________________\n",
            "activation_88 (Activation)      (None, 3, 3, 256)    0           bn4a_branch2a[0][0]              \n",
            "__________________________________________________________________________________________________\n",
            "res4a_branch2b (Conv2D)         (None, 3, 3, 256)    590080      activation_88[0][0]              \n",
            "__________________________________________________________________________________________________\n",
            "bn4a_branch2b (BatchNormalizati (None, 3, 3, 256)    1024        res4a_branch2b[0][0]             \n",
            "__________________________________________________________________________________________________\n",
            "res4a_branch1 (Conv2D)          (None, 3, 3, 256)    33024       activation_87[0][0]              \n",
            "__________________________________________________________________________________________________\n",
            "activation_89 (Activation)      (None, 3, 3, 256)    0           bn4a_branch2b[0][0]              \n",
            "__________________________________________________________________________________________________\n",
            "bn4a_branch1 (BatchNormalizatio (None, 3, 3, 256)    1024        res4a_branch1[0][0]              \n",
            "__________________________________________________________________________________________________\n",
            "add_28 (Add)                    (None, 3, 3, 256)    0           activation_89[0][0]              \n",
            "                                                                 bn4a_branch1[0][0]               \n",
            "__________________________________________________________________________________________________\n",
            "activation_90 (Activation)      (None, 3, 3, 256)    0           add_28[0][0]                     \n",
            "__________________________________________________________________________________________________\n",
            "res4b_branch2a (Conv2D)         (None, 3, 3, 256)    65792       activation_90[0][0]              \n",
            "__________________________________________________________________________________________________\n",
            "bn4b_branch2a (BatchNormalizati (None, 3, 3, 256)    1024        res4b_branch2a[0][0]             \n",
            "__________________________________________________________________________________________________\n",
            "activation_91 (Activation)      (None, 3, 3, 256)    0           bn4b_branch2a[0][0]              \n",
            "__________________________________________________________________________________________________\n",
            "res4b_branch2b (Conv2D)         (None, 3, 3, 256)    590080      activation_91[0][0]              \n",
            "__________________________________________________________________________________________________\n",
            "bn4b_branch2b (BatchNormalizati (None, 3, 3, 256)    1024        res4b_branch2b[0][0]             \n",
            "__________________________________________________________________________________________________\n",
            "activation_92 (Activation)      (None, 3, 3, 256)    0           bn4b_branch2b[0][0]              \n",
            "__________________________________________________________________________________________________\n",
            "add_29 (Add)                    (None, 3, 3, 256)    0           activation_92[0][0]              \n",
            "                                                                 activation_90[0][0]              \n",
            "__________________________________________________________________________________________________\n",
            "activation_93 (Activation)      (None, 3, 3, 256)    0           add_29[0][0]                     \n",
            "__________________________________________________________________________________________________\n",
            "res5a_branch2a (Conv2D)         (None, 2, 2, 512)    131584      activation_93[0][0]              \n",
            "__________________________________________________________________________________________________\n",
            "bn5a_branch2a (BatchNormalizati (None, 2, 2, 512)    2048        res5a_branch2a[0][0]             \n",
            "__________________________________________________________________________________________________\n",
            "activation_94 (Activation)      (None, 2, 2, 512)    0           bn5a_branch2a[0][0]              \n",
            "__________________________________________________________________________________________________\n",
            "res5a_branch2b (Conv2D)         (None, 2, 2, 512)    2359808     activation_94[0][0]              \n",
            "__________________________________________________________________________________________________\n",
            "bn5a_branch2b (BatchNormalizati (None, 2, 2, 512)    2048        res5a_branch2b[0][0]             \n",
            "__________________________________________________________________________________________________\n",
            "res5a_branch1 (Conv2D)          (None, 2, 2, 512)    131584      activation_93[0][0]              \n",
            "__________________________________________________________________________________________________\n",
            "activation_95 (Activation)      (None, 2, 2, 512)    0           bn5a_branch2b[0][0]              \n",
            "__________________________________________________________________________________________________\n",
            "bn5a_branch1 (BatchNormalizatio (None, 2, 2, 512)    2048        res5a_branch1[0][0]              \n",
            "__________________________________________________________________________________________________\n",
            "add_30 (Add)                    (None, 2, 2, 512)    0           activation_95[0][0]              \n",
            "                                                                 bn5a_branch1[0][0]               \n",
            "__________________________________________________________________________________________________\n",
            "activation_96 (Activation)      (None, 2, 2, 512)    0           add_30[0][0]                     \n",
            "__________________________________________________________________________________________________\n",
            "res5b_branch2a (Conv2D)         (None, 2, 2, 512)    262656      activation_96[0][0]              \n",
            "__________________________________________________________________________________________________\n",
            "bn5b_branch2a (BatchNormalizati (None, 2, 2, 512)    2048        res5b_branch2a[0][0]             \n",
            "__________________________________________________________________________________________________\n",
            "activation_97 (Activation)      (None, 2, 2, 512)    0           bn5b_branch2a[0][0]              \n",
            "__________________________________________________________________________________________________\n",
            "res5b_branch2b (Conv2D)         (None, 2, 2, 512)    2359808     activation_97[0][0]              \n",
            "__________________________________________________________________________________________________\n",
            "bn5b_branch2b (BatchNormalizati (None, 2, 2, 512)    2048        res5b_branch2b[0][0]             \n",
            "__________________________________________________________________________________________________\n",
            "activation_98 (Activation)      (None, 2, 2, 512)    0           bn5b_branch2b[0][0]              \n",
            "__________________________________________________________________________________________________\n",
            "add_31 (Add)                    (None, 2, 2, 512)    0           activation_98[0][0]              \n",
            "                                                                 activation_96[0][0]              \n",
            "__________________________________________________________________________________________________\n",
            "activation_99 (Activation)      (None, 2, 2, 512)    0           add_31[0][0]                     \n",
            "__________________________________________________________________________________________________\n",
            "avg_pool (AveragePooling2D)     (None, 1, 1, 512)    0           activation_99[0][0]              \n",
            "__________________________________________________________________________________________________\n",
            "flatten_3 (Flatten)             (None, 512)          0           avg_pool[0][0]                   \n",
            "__________________________________________________________________________________________________\n",
            "fc100 (Dense)                   (None, 100)          51300       flatten_3[0][0]                  \n",
            "==================================================================================================\n",
            "Total params: 7,052,324\n",
            "Trainable params: 7,042,596\n",
            "Non-trainable params: 9,728\n",
            "__________________________________________________________________________________________________\n"
          ],
          "name": "stdout"
        }
      ]
    },
    {
      "cell_type": "markdown",
      "metadata": {
        "id": "lvZzqLUEs4b7"
      },
      "source": [
        "<h3><b>Graph</b><h3>"
      ]
    },
    {
      "cell_type": "code",
      "metadata": {
        "id": "EaBppoiStVCI",
        "outputId": "64f341f2-46b7-485e-ddac-f5bdbbe840ce",
        "colab": {
          "base_uri": "https://localhost:8080/",
          "height": 312
        }
      },
      "source": [
        "import matplotlib.pyplot as plt\n",
        "\n",
        "history_dict = history.history\n",
        "print(history_dict.keys())\n",
        "accuracy_values = history_dict['accuracy']\n",
        "val_accuracy_values = history_dict['val_accuracy']\n",
        "\n",
        "epochs = range(1, len(history_dict['accuracy']) + 1)\n",
        "\n",
        "plt.plot(epochs, accuracy_values, 'bo', label='Training Accuracy')\n",
        "plt.plot(epochs, val_accuracy_values, 'b', label='Validation loss')\n",
        "plt.title('Training and validation Accuracy')\n",
        "plt.xlabel('Epochs')\n",
        "plt.ylabel('Accuracy')\n",
        "plt.legend()\n",
        "\n",
        "plt.show()\n"
      ],
      "execution_count": 44,
      "outputs": [
        {
          "output_type": "stream",
          "text": [
            "dict_keys(['loss', 'accuracy', 'val_loss', 'val_accuracy'])\n"
          ],
          "name": "stdout"
        },
        {
          "output_type": "display_data",
          "data": {
            "image/png": "[encoded data removed]",
            "text/plain": [
              "<Figure size 432x288 with 1 Axes>"
            ]
          },
          "metadata": {
            "tags": [],
            "needs_background": "light"
          }
        }
      ]
    },
    {
      "cell_type": "code",
      "metadata": {
        "id": "0-ZiF5OCtVOp",
        "outputId": "361f7ee5-0e36-4d1e-f4d8-da70ed1efee4",
        "colab": {
          "base_uri": "https://localhost:8080/",
          "height": 312
        }
      },
      "source": [
        "import matplotlib.pyplot as plt\n",
        "\n",
        "history_dict = history.history\n",
        "print(history_dict.keys())\n",
        "loss_values = history_dict['loss']\n",
        "val_loss_values = history_dict['val_loss']\n",
        "\n",
        "epochs = range(1, len(history_dict['accuracy']) + 1)\n",
        "\n",
        "plt.plot(epochs, loss_values, 'bo', label='Training loss')\n",
        "plt.plot(epochs, val_loss_values, 'b', label='Validation loss')\n",
        "plt.title('Training and validation loss')\n",
        "plt.xlabel('Epochs')\n",
        "plt.ylabel('Loss')\n",
        "plt.legend()\n",
        "\n",
        "plt.show()\n"
      ],
      "execution_count": 45,
      "outputs": [
        {
          "output_type": "stream",
          "text": [
            "dict_keys(['loss', 'accuracy', 'val_loss', 'val_accuracy'])\n"
          ],
          "name": "stdout"
        },
        {
          "output_type": "display_data",
          "data": {
            "image/png": "[encoded data removed]",
            "text/plain": [
              "<Figure size 432x288 with 1 Axes>"
            ]
          },
          "metadata": {
            "tags": [],
            "needs_background": "light"
          }
        }
      ]
    },
    {
      "cell_type": "markdown",
      "metadata": {
        "id": "3_N6-KDftOOs"
      },
      "source": [
        "<h3><b> Model save Metric Calculation</b></h3>"
      ]
    },
    {
      "cell_type": "code",
      "metadata": {
        "id": "mT7tvDo1tVKm",
        "outputId": "e31b0f96-fbae-4885-e4e8-6575c813a712",
        "colab": {
          "base_uri": "https://localhost:8080/",
          "height": 68
        }
      },
      "source": [
        "model1 = ResNet18(input_shape = (32,32,3), classes = CLASSES)\n",
        "model1.load_weights(\"./Resnet18_SGD_BatchNorm.h5\")\n",
        "\n",
        "#optimization details\n",
        "learning_rate = 0.001\n",
        "batch_size = 128\n",
        "lr_decay = 1e-6\n",
        "#optimization details\n",
        "sgd = optimizers.SGD(lr=learning_rate, decay=lr_decay, momentum=0.9, nesterov=True)\n",
        "model.compile(loss='categorical_crossentropy', optimizer=sgd,metrics=['accuracy'])\n",
        "\n",
        "\n",
        "# Test the model\n",
        "model.predict(X_test).argmax(-1)\n",
        "\n",
        "y_true = y_test.argmax(-1)\n",
        "y_pred = model.predict(X_test).argmax(-1)\n",
        "# generate confusion matrix\n",
        "from sklearn.metrics import confusion_matrix, precision_score, recall_score, accuracy_score\n",
        "confusion_matrix(y_true, y_pred)\n",
        "# calculate prec, recall, accuracy\n",
        "print(\"Prec: \"+ str(precision_score(y_true, y_pred, average='weighted')))\n",
        "print(\"Recall: \"+ str(recall_score(y_true, y_pred, average='weighted')))\n",
        "print(\"Accuracy: \" + str(accuracy_score(y_true, y_pred)))"
      ],
      "execution_count": 48,
      "outputs": [
        {
          "output_type": "stream",
          "text": [
            "Prec: 0.44658747689860073\n",
            "Recall: 0.43\n",
            "Accuracy: 0.43\n"
          ],
          "name": "stdout"
        }
      ]
    },
    {
      "cell_type": "markdown",
      "metadata": {
        "id": "eDVQnKBBtgrU"
      },
      "source": [
        "<h3><b>References</b></h3>"
      ]
    },
    {
      "cell_type": "code",
      "metadata": {
        "id": "lzZ3-a3jtl9y"
      },
      "source": [
        "#https://github.com/priya-dwivedi/Deep-Learning/blob/master/resnet_keras/Residual_Networks_yourself.ipynb\n",
        "#https://github.com/keras-team/keras-contrib/blob/master/keras_contrib/applications/resnet.py\n",
        "#https://github.com/deep-diver/DeepModels\n"
      ],
      "execution_count": 47,
      "outputs": []
    }
  ]
}
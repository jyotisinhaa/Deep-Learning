{
  "nbformat": 4,
  "nbformat_minor": 0,
  "metadata": {
    "accelerator": "GPU",
    "colab": {
      "name": "VGG16_SGD_NoRegularization.ipynb",
      "provenance": [],
      "collapsed_sections": []
    },
    "kernelspec": {
      "display_name": "Python 3",
      "name": "python3"
    }
  },
  "cells": [
    {
      "cell_type": "markdown",
      "metadata": {
        "id": "nu46PS8i0yxi"
      },
      "source": [
        "<h3><b>Importing Libraries</b></h3>"
      ]
    },
    {
      "cell_type": "code",
      "metadata": {
        "id": "PKbDmW5_lhPO"
      },
      "source": [
        "# Importing Libraries\n",
        "from __future__ import print_function\n",
        "import os\n",
        "import tensorflow as tf\n",
        "import keras\n",
        "from keras import backend as K\n",
        "import numpy as np\n",
        "from keras.layers import Dense, Conv2D, MaxPool2D , Flatten\n",
        "from keras.preprocessing.image import ImageDataGenerator\n",
        "from keras.datasets import cifar100\n",
        "from keras.preprocessing.image import ImageDataGenerator\n",
        "from keras.models import Sequential\n",
        "from keras.layers import Dense, Dropout, Activation, Flatten\n",
        "from keras.layers import Conv2D, MaxPooling2D, BatchNormalization\n",
        "from keras import optimizers\n",
        "from keras import regularizers\n",
        "from matplotlib import pyplot\n",
        "from keras.utils import to_categorical\n",
        "from keras.callbacks import ModelCheckpoint, EarlyStopping\n",
        "from sklearn import metrics\n",
        "from sklearn.metrics import confusion_matrix\n",
        "from sklearn.metrics import accuracy_score\n",
        "from sklearn.metrics import accuracy_score, f1_score, precision_score, recall_score, classification_report, confusion_matrix\n"
      ],
      "execution_count": 1,
      "outputs": []
    },
    {
      "cell_type": "markdown",
      "metadata": {
        "id": "URVrV68X1I88"
      },
      "source": [
        "<h3><b>Importing Dataset<b></h3>"
      ]
    },
    {
      "cell_type": "code",
      "metadata": {
        "id": "1wPJj5pc6wzh",
        "outputId": "bb418290-f2c1-4c09-a1c1-bdf8ee12a86c",
        "colab": {
          "base_uri": "https://localhost:8080/",
          "height": 119
        }
      },
      "source": [
        "# Load dataset\n",
        "(X_train, y_train), (X_test, y_test) = cifar100.load_data()\n",
        "print(X_train.shape)\n",
        "print(y_train.shape)\n",
        "print(X_test.shape)\n",
        "print(y_test.shape)"
      ],
      "execution_count": 2,
      "outputs": [
        {
          "output_type": "stream",
          "text": [
            "Downloading data from https://www.cs.toronto.edu/~kriz/cifar-100-python.tar.gz\n",
            "169009152/169001437 [==============================] - 4s 0us/step\n",
            "(50000, 32, 32, 3)\n",
            "(50000, 1)\n",
            "(10000, 32, 32, 3)\n",
            "(10000, 1)\n"
          ],
          "name": "stdout"
        }
      ]
    },
    {
      "cell_type": "markdown",
      "metadata": {
        "id": "3LS0RJlr2DKV"
      },
      "source": [
        "<h3><b>Preprocessing of the dataset</b></h3>"
      ]
    },
    {
      "cell_type": "code",
      "metadata": {
        "id": "2vFh_j5y1qoU"
      },
      "source": [
        "# Normalize the dataset\n",
        "X_train = X_train/255\n",
        "X_test = X_test/255"
      ],
      "execution_count": 3,
      "outputs": []
    },
    {
      "cell_type": "code",
      "metadata": {
        "id": "Z_oj_DSa7xxB"
      },
      "source": [
        "#Converting the testing and training dataset into float\n",
        "X_train = X_train.astype('float32')\n",
        "X_test = X_test.astype('float32')"
      ],
      "execution_count": 4,
      "outputs": []
    },
    {
      "cell_type": "code",
      "metadata": {
        "id": "sZ7LTRKGly_z",
        "outputId": "7a5d1ad3-db4f-4678-d859-c851fbcfa1ff",
        "colab": {
          "base_uri": "https://localhost:8080/",
          "height": 51
        }
      },
      "source": [
        "# Convert training and test labels to one hot matrices\n",
        "print(y_train.shape)\n",
        "y_train = keras.utils.to_categorical(y_train, 100)\n",
        "y_test = keras.utils.to_categorical(y_test, 100)\n",
        "print(y_train.shape)"
      ],
      "execution_count": 5,
      "outputs": [
        {
          "output_type": "stream",
          "text": [
            "(50000, 1)\n",
            "(50000, 100)\n"
          ],
          "name": "stdout"
        }
      ]
    },
    {
      "cell_type": "markdown",
      "metadata": {
        "id": "moYrJA6qJ0pT"
      },
      "source": [
        "<h3><b> Data Augmentation </b></h3>"
      ]
    },
    {
      "cell_type": "code",
      "metadata": {
        "id": "hH5ibTPcly3l",
        "outputId": "852552b5-2f0a-493f-a5a5-0a3092a0803f",
        "colab": {
          "base_uri": "https://localhost:8080/",
          "height": 34
        }
      },
      "source": [
        "#data augmentation\n",
        "datagen = ImageDataGenerator(\n",
        "    featurewise_center=False,  # set input mean to 0 over the dataset\n",
        "    samplewise_center=False,  # set each sample mean to 0\n",
        "    featurewise_std_normalization=False,  # divide inputs by std of the dataset\n",
        "    samplewise_std_normalization=False,  # divide each input by its std\n",
        "    zca_whitening=False,  # apply ZCA whitening\n",
        "    rotation_range=15,  # randomly rotate images in the range (degrees, 0 to 180)\n",
        "    width_shift_range=0.1,  # randomly shift images horizontally (fraction of total width)\n",
        "    height_shift_range=0.1,  # randomly shift images vertically (fraction of total height)\n",
        "    horizontal_flip=True,  # randomly flip images\n",
        "    vertical_flip=False)  # randomly flip images\n",
        "# (std, mean, and principal components if ZCA whitening is applied).\n",
        "datagen.fit(X_train)\n",
        "\n",
        "print(y_train.shape)"
      ],
      "execution_count": 6,
      "outputs": [
        {
          "output_type": "stream",
          "text": [
            "(50000, 100)\n"
          ],
          "name": "stdout"
        }
      ]
    },
    {
      "cell_type": "markdown",
      "metadata": {
        "id": "UeYnQfHWHwnh"
      },
      "source": [
        "<h3><b> Model Architecture </b></h3>\n",
        "\n",
        "\n"
      ]
    },
    {
      "cell_type": "code",
      "metadata": {
        "id": "352YirW8lyBT"
      },
      "source": [
        "def Model():\n",
        "        x_shape = [32,32,3]\n",
        "        weight_decay = 0.0001\n",
        "        num_classes = 100\n",
        "        model = Sequential()\n",
        "        model.add(Conv2D(input_shape=(32,32,3),filters=64,kernel_size=(3,3),padding=\"same\", activation=\"elu\"))\n",
        "        model.add(Conv2D(filters=64,kernel_size=(3,3),padding=\"same\", activation=\"elu\"))\n",
        "        model.add(MaxPool2D(pool_size=(2,2),strides=(2,2)))\n",
        "        model.add(Conv2D(filters=128, kernel_size=(3,3), padding=\"same\", activation=\"elu\"))\n",
        "        model.add(Conv2D(filters=128, kernel_size=(3,3), padding=\"same\", activation=\"elu\"))\n",
        "        model.add(MaxPool2D(pool_size=(2,2),strides=(2,2)))\n",
        "        model.add(Conv2D(filters=256, kernel_size=(3,3), padding=\"same\", activation=\"elu\"))\n",
        "        model.add(Conv2D(filters=256, kernel_size=(3,3), padding=\"same\", activation=\"elu\"))\n",
        "        model.add(Conv2D(filters=256, kernel_size=(3,3), padding=\"same\", activation=\"elu\"))\n",
        "        model.add(MaxPool2D(pool_size=(2,2),strides=(2,2)))\n",
        "        model.add(Conv2D(filters=512, kernel_size=(3,3), padding=\"same\", activation=\"elu\"))\n",
        "        model.add(Conv2D(filters=512, kernel_size=(3,3), padding=\"same\", activation=\"elu\"))\n",
        "        model.add(Conv2D(filters=512, kernel_size=(3,3), padding=\"same\", activation=\"elu\"))\n",
        "        model.add(MaxPool2D(pool_size=(2,2),strides=(2,2)))\n",
        "        model.add(Conv2D(filters=512, kernel_size=(3,3), padding=\"same\", activation=\"elu\"))\n",
        "        model.add(Conv2D(filters=512, kernel_size=(3,3), padding=\"same\", activation=\"elu\"))\n",
        "        model.add(Conv2D(filters=512, kernel_size=(3,3), padding=\"same\", activation=\"elu\"))\n",
        "        model.add(MaxPool2D(pool_size=(2,2),strides=(2,2)))\n",
        "        model.add(Flatten())\n",
        "        model.add(Dense(units=512,activation=\"elu\"))\n",
        "        model.add(Dense(units=512,activation=\"elu\"))\n",
        "        model.add(Dense(num_classes))\n",
        "        model.add(Activation('softmax'))\n",
        "        return model"
      ],
      "execution_count": 7,
      "outputs": []
    },
    {
      "cell_type": "markdown",
      "metadata": {
        "id": "iJc2AzLRQ9oP"
      },
      "source": [
        "<h3><b> Compile the Model </b></h3>"
      ]
    },
    {
      "cell_type": "code",
      "metadata": {
        "id": "Z3t2ztwxKI-S"
      },
      "source": [
        "model = Model()"
      ],
      "execution_count": 8,
      "outputs": []
    },
    {
      "cell_type": "code",
      "metadata": {
        "id": "h2avPzDJk2T9"
      },
      "source": [
        "learning_rate = 0.001\n",
        "batch_size = 128\n",
        "lr_decay = 1e-6\n",
        "#optimization details\n",
        "sgd = optimizers.SGD(lr=learning_rate, decay=lr_decay, momentum=0.9, nesterov=True)\n",
        "model.compile(loss='categorical_crossentropy', optimizer=sgd,metrics=['accuracy'])"
      ],
      "execution_count": 9,
      "outputs": []
    },
    {
      "cell_type": "code",
      "metadata": {
        "id": "vWwqnqq2ryoN",
        "outputId": "01c0cf1e-83e1-458b-eb2f-2bbc740c3a13",
        "colab": {
          "base_uri": "https://localhost:8080/",
          "height": 935
        }
      },
      "source": [
        "model.summary()"
      ],
      "execution_count": 10,
      "outputs": [
        {
          "output_type": "stream",
          "text": [
            "Model: \"sequential\"\n",
            "_________________________________________________________________\n",
            "Layer (type)                 Output Shape              Param #   \n",
            "=================================================================\n",
            "conv2d (Conv2D)              (None, 32, 32, 64)        1792      \n",
            "_________________________________________________________________\n",
            "conv2d_1 (Conv2D)            (None, 32, 32, 64)        36928     \n",
            "_________________________________________________________________\n",
            "max_pooling2d (MaxPooling2D) (None, 16, 16, 64)        0         \n",
            "_________________________________________________________________\n",
            "conv2d_2 (Conv2D)            (None, 16, 16, 128)       73856     \n",
            "_________________________________________________________________\n",
            "conv2d_3 (Conv2D)            (None, 16, 16, 128)       147584    \n",
            "_________________________________________________________________\n",
            "max_pooling2d_1 (MaxPooling2 (None, 8, 8, 128)         0         \n",
            "_________________________________________________________________\n",
            "conv2d_4 (Conv2D)            (None, 8, 8, 256)         295168    \n",
            "_________________________________________________________________\n",
            "conv2d_5 (Conv2D)            (None, 8, 8, 256)         590080    \n",
            "_________________________________________________________________\n",
            "conv2d_6 (Conv2D)            (None, 8, 8, 256)         590080    \n",
            "_________________________________________________________________\n",
            "max_pooling2d_2 (MaxPooling2 (None, 4, 4, 256)         0         \n",
            "_________________________________________________________________\n",
            "conv2d_7 (Conv2D)            (None, 4, 4, 512)         1180160   \n",
            "_________________________________________________________________\n",
            "conv2d_8 (Conv2D)            (None, 4, 4, 512)         2359808   \n",
            "_________________________________________________________________\n",
            "conv2d_9 (Conv2D)            (None, 4, 4, 512)         2359808   \n",
            "_________________________________________________________________\n",
            "max_pooling2d_3 (MaxPooling2 (None, 2, 2, 512)         0         \n",
            "_________________________________________________________________\n",
            "conv2d_10 (Conv2D)           (None, 2, 2, 512)         2359808   \n",
            "_________________________________________________________________\n",
            "conv2d_11 (Conv2D)           (None, 2, 2, 512)         2359808   \n",
            "_________________________________________________________________\n",
            "conv2d_12 (Conv2D)           (None, 2, 2, 512)         2359808   \n",
            "_________________________________________________________________\n",
            "max_pooling2d_4 (MaxPooling2 (None, 1, 1, 512)         0         \n",
            "_________________________________________________________________\n",
            "flatten (Flatten)            (None, 512)               0         \n",
            "_________________________________________________________________\n",
            "dense (Dense)                (None, 512)               262656    \n",
            "_________________________________________________________________\n",
            "dense_1 (Dense)              (None, 512)               262656    \n",
            "_________________________________________________________________\n",
            "dense_2 (Dense)              (None, 100)               51300     \n",
            "_________________________________________________________________\n",
            "activation (Activation)      (None, 100)               0         \n",
            "=================================================================\n",
            "Total params: 15,291,300\n",
            "Trainable params: 15,291,300\n",
            "Non-trainable params: 0\n",
            "_________________________________________________________________\n"
          ],
          "name": "stdout"
        }
      ]
    },
    {
      "cell_type": "markdown",
      "metadata": {
        "id": "s6HPmAh5RGLe"
      },
      "source": [
        "<h3><b> Train the Model</b></h3>"
      ]
    },
    {
      "cell_type": "code",
      "metadata": {
        "id": "0jcsr1krovRG",
        "outputId": "3c227ad3-2f95-4f09-8267-4038e95457fd",
        "colab": {
          "base_uri": "https://localhost:8080/",
          "height": 34
        }
      },
      "source": [
        "# Create Checkpoint and Early Stopping\n",
        "checkpoint = ModelCheckpoint(\"VGG16_SGD_NoRegularization.h5\", monitor='val_loss', verbose=1, save_best_only=True, save_weights_only=True, mode='auto', period=1)\n",
        "early = EarlyStopping(monitor='val_loss', min_delta=0, patience=5, verbose=1, mode='auto')"
      ],
      "execution_count": 11,
      "outputs": [
        {
          "output_type": "stream",
          "text": [
            "WARNING:tensorflow:`period` argument is deprecated. Please use `save_freq` to specify the frequency in number of batches seen.\n"
          ],
          "name": "stdout"
        }
      ]
    },
    {
      "cell_type": "code",
      "metadata": {
        "id": "LGqjFOyFwNeO",
        "outputId": "bb76a439-3df0-4830-bb27-918010715829",
        "colab": {
          "base_uri": "https://localhost:8080/",
          "height": 1000
        }
      },
      "source": [
        "batch_size = 128\n",
        "history = model.fit_generator(datagen.flow(X_train, y_train, batch_size=batch_size),validation_data=(X_test, y_test), epochs=100,callbacks=[checkpoint,early])"
      ],
      "execution_count": 12,
      "outputs": [
        {
          "output_type": "stream",
          "text": [
            "WARNING:tensorflow:From <ipython-input-12-d4550a79429d>:2: Model.fit_generator (from tensorflow.python.keras.engine.training) is deprecated and will be removed in a future version.\n",
            "Instructions for updating:\n",
            "Please use Model.fit, which supports generators.\n",
            "Epoch 1/100\n",
            "391/391 [==============================] - ETA: 0s - loss: 4.6030 - accuracy: 0.0145\n",
            "Epoch 00001: val_loss improved from inf to 4.59937, saving model to VGG16_SGD_NoRegularization.h5\n",
            "391/391 [==============================] - 27s 70ms/step - loss: 4.6030 - accuracy: 0.0145 - val_loss: 4.5994 - val_accuracy: 0.0184\n",
            "Epoch 2/100\n",
            "391/391 [==============================] - ETA: 0s - loss: 4.5915 - accuracy: 0.0250\n",
            "Epoch 00002: val_loss improved from 4.59937 to 4.56960, saving model to VGG16_SGD_NoRegularization.h5\n",
            "391/391 [==============================] - 27s 68ms/step - loss: 4.5915 - accuracy: 0.0250 - val_loss: 4.5696 - val_accuracy: 0.0334\n",
            "Epoch 3/100\n",
            "391/391 [==============================] - ETA: 0s - loss: 4.4255 - accuracy: 0.0347\n",
            "Epoch 00003: val_loss improved from 4.56960 to 4.27706, saving model to VGG16_SGD_NoRegularization.h5\n",
            "391/391 [==============================] - 27s 68ms/step - loss: 4.4255 - accuracy: 0.0347 - val_loss: 4.2771 - val_accuracy: 0.0443\n",
            "Epoch 4/100\n",
            "391/391 [==============================] - ETA: 0s - loss: 4.2004 - accuracy: 0.0510\n",
            "Epoch 00004: val_loss improved from 4.27706 to 4.10968, saving model to VGG16_SGD_NoRegularization.h5\n",
            "391/391 [==============================] - 27s 69ms/step - loss: 4.2004 - accuracy: 0.0510 - val_loss: 4.1097 - val_accuracy: 0.0668\n",
            "Epoch 5/100\n",
            "391/391 [==============================] - ETA: 0s - loss: 4.0707 - accuracy: 0.0724\n",
            "Epoch 00005: val_loss improved from 4.10968 to 3.97069, saving model to VGG16_SGD_NoRegularization.h5\n",
            "391/391 [==============================] - 27s 69ms/step - loss: 4.0707 - accuracy: 0.0724 - val_loss: 3.9707 - val_accuracy: 0.0877\n",
            "Epoch 6/100\n",
            "391/391 [==============================] - ETA: 0s - loss: 3.9049 - accuracy: 0.0964\n",
            "Epoch 00006: val_loss improved from 3.97069 to 3.79745, saving model to VGG16_SGD_NoRegularization.h5\n",
            "391/391 [==============================] - 27s 69ms/step - loss: 3.9049 - accuracy: 0.0964 - val_loss: 3.7975 - val_accuracy: 0.1219\n",
            "Epoch 7/100\n",
            "391/391 [==============================] - ETA: 0s - loss: 3.7657 - accuracy: 0.1206\n",
            "Epoch 00007: val_loss improved from 3.79745 to 3.66469, saving model to VGG16_SGD_NoRegularization.h5\n",
            "391/391 [==============================] - 27s 69ms/step - loss: 3.7657 - accuracy: 0.1206 - val_loss: 3.6647 - val_accuracy: 0.1451\n",
            "Epoch 8/100\n",
            "391/391 [==============================] - ETA: 0s - loss: 3.6506 - accuracy: 0.1394\n",
            "Epoch 00008: val_loss improved from 3.66469 to 3.55971, saving model to VGG16_SGD_NoRegularization.h5\n",
            "391/391 [==============================] - 27s 70ms/step - loss: 3.6506 - accuracy: 0.1394 - val_loss: 3.5597 - val_accuracy: 0.1598\n",
            "Epoch 9/100\n",
            "391/391 [==============================] - ETA: 0s - loss: 3.5485 - accuracy: 0.1576\n",
            "Epoch 00009: val_loss improved from 3.55971 to 3.47474, saving model to VGG16_SGD_NoRegularization.h5\n",
            "391/391 [==============================] - 27s 69ms/step - loss: 3.5485 - accuracy: 0.1576 - val_loss: 3.4747 - val_accuracy: 0.1748\n",
            "Epoch 10/100\n",
            "391/391 [==============================] - ETA: 0s - loss: 3.4578 - accuracy: 0.1736\n",
            "Epoch 00010: val_loss improved from 3.47474 to 3.36347, saving model to VGG16_SGD_NoRegularization.h5\n",
            "391/391 [==============================] - 27s 69ms/step - loss: 3.4578 - accuracy: 0.1736 - val_loss: 3.3635 - val_accuracy: 0.1934\n",
            "Epoch 11/100\n",
            "391/391 [==============================] - ETA: 0s - loss: 3.3707 - accuracy: 0.1877\n",
            "Epoch 00011: val_loss improved from 3.36347 to 3.28869, saving model to VGG16_SGD_NoRegularization.h5\n",
            "391/391 [==============================] - 27s 69ms/step - loss: 3.3707 - accuracy: 0.1877 - val_loss: 3.2887 - val_accuracy: 0.2036\n",
            "Epoch 12/100\n",
            "391/391 [==============================] - ETA: 0s - loss: 3.2842 - accuracy: 0.2024\n",
            "Epoch 00012: val_loss improved from 3.28869 to 3.20075, saving model to VGG16_SGD_NoRegularization.h5\n",
            "391/391 [==============================] - 27s 70ms/step - loss: 3.2842 - accuracy: 0.2024 - val_loss: 3.2007 - val_accuracy: 0.2201\n",
            "Epoch 13/100\n",
            "391/391 [==============================] - ETA: 0s - loss: 3.1928 - accuracy: 0.2212\n",
            "Epoch 00013: val_loss improved from 3.20075 to 3.15223, saving model to VGG16_SGD_NoRegularization.h5\n",
            "391/391 [==============================] - 27s 69ms/step - loss: 3.1928 - accuracy: 0.2212 - val_loss: 3.1522 - val_accuracy: 0.2343\n",
            "Epoch 14/100\n",
            "391/391 [==============================] - ETA: 0s - loss: 3.1018 - accuracy: 0.2370\n",
            "Epoch 00014: val_loss improved from 3.15223 to 3.03861, saving model to VGG16_SGD_NoRegularization.h5\n",
            "391/391 [==============================] - 27s 69ms/step - loss: 3.1018 - accuracy: 0.2370 - val_loss: 3.0386 - val_accuracy: 0.2543\n",
            "Epoch 15/100\n",
            "391/391 [==============================] - ETA: 0s - loss: 3.0223 - accuracy: 0.2520\n",
            "Epoch 00015: val_loss improved from 3.03861 to 2.96667, saving model to VGG16_SGD_NoRegularization.h5\n",
            "391/391 [==============================] - 27s 69ms/step - loss: 3.0223 - accuracy: 0.2520 - val_loss: 2.9667 - val_accuracy: 0.2718\n",
            "Epoch 16/100\n",
            "391/391 [==============================] - ETA: 0s - loss: 2.9464 - accuracy: 0.2673\n",
            "Epoch 00016: val_loss did not improve from 2.96667\n",
            "391/391 [==============================] - 27s 69ms/step - loss: 2.9464 - accuracy: 0.2673 - val_loss: 3.0119 - val_accuracy: 0.2618\n",
            "Epoch 17/100\n",
            "391/391 [==============================] - ETA: 0s - loss: 2.8755 - accuracy: 0.2806\n",
            "Epoch 00017: val_loss improved from 2.96667 to 2.87380, saving model to VGG16_SGD_NoRegularization.h5\n",
            "391/391 [==============================] - 27s 69ms/step - loss: 2.8755 - accuracy: 0.2806 - val_loss: 2.8738 - val_accuracy: 0.2840\n",
            "Epoch 18/100\n",
            "391/391 [==============================] - ETA: 0s - loss: 2.8091 - accuracy: 0.2935\n",
            "Epoch 00018: val_loss improved from 2.87380 to 2.83583, saving model to VGG16_SGD_NoRegularization.h5\n",
            "391/391 [==============================] - 27s 69ms/step - loss: 2.8091 - accuracy: 0.2935 - val_loss: 2.8358 - val_accuracy: 0.2993\n",
            "Epoch 19/100\n",
            "391/391 [==============================] - ETA: 0s - loss: 2.7509 - accuracy: 0.3065\n",
            "Epoch 00019: val_loss did not improve from 2.83583\n",
            "391/391 [==============================] - 27s 69ms/step - loss: 2.7509 - accuracy: 0.3065 - val_loss: 2.8509 - val_accuracy: 0.3005\n",
            "Epoch 20/100\n",
            "391/391 [==============================] - ETA: 0s - loss: 2.6877 - accuracy: 0.3196\n",
            "Epoch 00020: val_loss improved from 2.83583 to 2.78575, saving model to VGG16_SGD_NoRegularization.h5\n",
            "391/391 [==============================] - 27s 69ms/step - loss: 2.6877 - accuracy: 0.3196 - val_loss: 2.7858 - val_accuracy: 0.3100\n",
            "Epoch 21/100\n",
            "391/391 [==============================] - ETA: 0s - loss: 2.6208 - accuracy: 0.3306\n",
            "Epoch 00021: val_loss improved from 2.78575 to 2.69731, saving model to VGG16_SGD_NoRegularization.h5\n",
            "391/391 [==============================] - 27s 69ms/step - loss: 2.6208 - accuracy: 0.3306 - val_loss: 2.6973 - val_accuracy: 0.3226\n",
            "Epoch 22/100\n",
            "391/391 [==============================] - ETA: 0s - loss: 2.5651 - accuracy: 0.3406\n",
            "Epoch 00022: val_loss improved from 2.69731 to 2.67421, saving model to VGG16_SGD_NoRegularization.h5\n",
            "391/391 [==============================] - 27s 68ms/step - loss: 2.5651 - accuracy: 0.3406 - val_loss: 2.6742 - val_accuracy: 0.3293\n",
            "Epoch 23/100\n",
            "391/391 [==============================] - ETA: 0s - loss: 2.5049 - accuracy: 0.3556\n",
            "Epoch 00023: val_loss improved from 2.67421 to 2.63986, saving model to VGG16_SGD_NoRegularization.h5\n",
            "391/391 [==============================] - 27s 69ms/step - loss: 2.5049 - accuracy: 0.3556 - val_loss: 2.6399 - val_accuracy: 0.3395\n",
            "Epoch 24/100\n",
            "391/391 [==============================] - ETA: 0s - loss: 2.4499 - accuracy: 0.3669\n",
            "Epoch 00024: val_loss improved from 2.63986 to 2.62646, saving model to VGG16_SGD_NoRegularization.h5\n",
            "391/391 [==============================] - 27s 69ms/step - loss: 2.4499 - accuracy: 0.3669 - val_loss: 2.6265 - val_accuracy: 0.3392\n",
            "Epoch 25/100\n",
            "391/391 [==============================] - ETA: 0s - loss: 2.3954 - accuracy: 0.3782\n",
            "Epoch 00025: val_loss improved from 2.62646 to 2.60237, saving model to VGG16_SGD_NoRegularization.h5\n",
            "391/391 [==============================] - 27s 69ms/step - loss: 2.3954 - accuracy: 0.3782 - val_loss: 2.6024 - val_accuracy: 0.3518\n",
            "Epoch 26/100\n",
            "391/391 [==============================] - ETA: 0s - loss: 2.3392 - accuracy: 0.3888\n",
            "Epoch 00026: val_loss improved from 2.60237 to 2.57634, saving model to VGG16_SGD_NoRegularization.h5\n",
            "391/391 [==============================] - 27s 69ms/step - loss: 2.3392 - accuracy: 0.3888 - val_loss: 2.5763 - val_accuracy: 0.3564\n",
            "Epoch 27/100\n",
            "391/391 [==============================] - ETA: 0s - loss: 2.2832 - accuracy: 0.4022\n",
            "Epoch 00027: val_loss did not improve from 2.57634\n",
            "391/391 [==============================] - 27s 68ms/step - loss: 2.2832 - accuracy: 0.4022 - val_loss: 2.5787 - val_accuracy: 0.3556\n",
            "Epoch 28/100\n",
            "391/391 [==============================] - ETA: 0s - loss: 2.2298 - accuracy: 0.4119\n",
            "Epoch 00028: val_loss improved from 2.57634 to 2.53860, saving model to VGG16_SGD_NoRegularization.h5\n",
            "391/391 [==============================] - 27s 69ms/step - loss: 2.2298 - accuracy: 0.4119 - val_loss: 2.5386 - val_accuracy: 0.3602\n",
            "Epoch 29/100\n",
            "391/391 [==============================] - ETA: 0s - loss: 2.1687 - accuracy: 0.4252\n",
            "Epoch 00029: val_loss did not improve from 2.53860\n",
            "391/391 [==============================] - 27s 69ms/step - loss: 2.1687 - accuracy: 0.4252 - val_loss: 2.5765 - val_accuracy: 0.3600\n",
            "Epoch 30/100\n",
            "391/391 [==============================] - ETA: 0s - loss: 2.1103 - accuracy: 0.4400\n",
            "Epoch 00030: val_loss improved from 2.53860 to 2.47073, saving model to VGG16_SGD_NoRegularization.h5\n",
            "391/391 [==============================] - 27s 69ms/step - loss: 2.1103 - accuracy: 0.4400 - val_loss: 2.4707 - val_accuracy: 0.3794\n",
            "Epoch 31/100\n",
            "391/391 [==============================] - ETA: 0s - loss: 2.0495 - accuracy: 0.4550\n",
            "Epoch 00031: val_loss did not improve from 2.47073\n",
            "391/391 [==============================] - 27s 69ms/step - loss: 2.0495 - accuracy: 0.4550 - val_loss: 2.4833 - val_accuracy: 0.3817\n",
            "Epoch 32/100\n",
            "391/391 [==============================] - ETA: 0s - loss: 1.9887 - accuracy: 0.4647\n",
            "Epoch 00032: val_loss did not improve from 2.47073\n",
            "391/391 [==============================] - 27s 69ms/step - loss: 1.9887 - accuracy: 0.4647 - val_loss: 2.4709 - val_accuracy: 0.3831\n",
            "Epoch 33/100\n",
            "391/391 [==============================] - ETA: 0s - loss: 1.9320 - accuracy: 0.4779\n",
            "Epoch 00033: val_loss did not improve from 2.47073\n",
            "391/391 [==============================] - 27s 69ms/step - loss: 1.9320 - accuracy: 0.4779 - val_loss: 2.5138 - val_accuracy: 0.3839\n",
            "Epoch 34/100\n",
            "391/391 [==============================] - ETA: 0s - loss: 1.8681 - accuracy: 0.4936\n",
            "Epoch 00034: val_loss did not improve from 2.47073\n",
            "391/391 [==============================] - 27s 69ms/step - loss: 1.8681 - accuracy: 0.4936 - val_loss: 2.5540 - val_accuracy: 0.3767\n",
            "Epoch 35/100\n",
            "391/391 [==============================] - ETA: 0s - loss: 1.8089 - accuracy: 0.5034\n",
            "Epoch 00035: val_loss did not improve from 2.47073\n",
            "391/391 [==============================] - 27s 69ms/step - loss: 1.8089 - accuracy: 0.5034 - val_loss: 2.5206 - val_accuracy: 0.3812\n",
            "Epoch 00035: early stopping\n"
          ],
          "name": "stdout"
        }
      ]
    },
    {
      "cell_type": "markdown",
      "metadata": {
        "id": "2Q5vb0hEL_tA"
      },
      "source": [
        "<h3><b> Graphs</b></h3>"
      ]
    },
    {
      "cell_type": "code",
      "metadata": {
        "id": "lYhxlC4wy2L5",
        "outputId": "a98291cd-f60e-431c-dc2f-147477e207c8",
        "colab": {
          "base_uri": "https://localhost:8080/",
          "height": 312
        }
      },
      "source": [
        "import matplotlib.pyplot as plt\n",
        "\n",
        "history_dict = history.history\n",
        "print(history_dict.keys())\n",
        "accuracy_values = history_dict['accuracy']\n",
        "val_accuracy_values = history_dict['val_accuracy']\n",
        "\n",
        "epochs = range(1, len(history_dict['accuracy']) + 1)\n",
        "\n",
        "plt.plot(epochs, accuracy_values, 'bo', label='Training Accuracy')\n",
        "plt.plot(epochs, val_accuracy_values, 'b', label='Validation loss')\n",
        "plt.title('Training and validation Accuracy')\n",
        "plt.xlabel('Epochs')\n",
        "plt.ylabel('Accuracy')\n",
        "plt.legend()\n",
        "\n",
        "plt.show()\n"
      ],
      "execution_count": 13,
      "outputs": [
        {
          "output_type": "stream",
          "text": [
            "dict_keys(['loss', 'accuracy', 'val_loss', 'val_accuracy'])\n"
          ],
          "name": "stdout"
        },
        {
          "output_type": "display_data",
          "data": {
            "image/png": "[encoded data removed]",
            "text/plain": [
              "<Figure size 432x288 with 1 Axes>"
            ]
          },
          "metadata": {
            "tags": [],
            "needs_background": "light"
          }
        }
      ]
    },
    {
      "cell_type": "code",
      "metadata": {
        "id": "7gw44X455Nya",
        "outputId": "03c2f926-8b7e-4167-da43-57697cfbc802",
        "colab": {
          "base_uri": "https://localhost:8080/",
          "height": 312
        }
      },
      "source": [
        "import matplotlib.pyplot as plt\n",
        "\n",
        "history_dict = history.history\n",
        "print(history_dict.keys())\n",
        "loss_values = history_dict['loss']\n",
        "val_loss_values = history_dict['val_loss']\n",
        "\n",
        "epochs = range(1, len(history_dict['accuracy']) + 1)\n",
        "\n",
        "plt.plot(epochs, loss_values, 'bo', label='Training loss')\n",
        "plt.plot(epochs, val_loss_values, 'b', label='Validation loss')\n",
        "plt.title('Training and validation loss')\n",
        "plt.xlabel('Epochs')\n",
        "plt.ylabel('Loss')\n",
        "plt.legend()\n",
        "\n",
        "plt.show()\n"
      ],
      "execution_count": 14,
      "outputs": [
        {
          "output_type": "stream",
          "text": [
            "dict_keys(['loss', 'accuracy', 'val_loss', 'val_accuracy'])\n"
          ],
          "name": "stdout"
        },
        {
          "output_type": "display_data",
          "data": {
            "image/png": "[encoded data removed]",
            "text/plain": [
              "<Figure size 432x288 with 1 Axes>"
            ]
          },
          "metadata": {
            "tags": [],
            "needs_background": "light"
          }
        }
      ]
    },
    {
      "cell_type": "markdown",
      "metadata": {
        "id": "mWJuMoswQJCC"
      },
      "source": [
        "<h3><b> Model Save and Metrics</b></h3> "
      ]
    },
    {
      "cell_type": "code",
      "metadata": {
        "id": "zxbcWbZq6DF1",
        "outputId": "dfafcbff-b110-49d3-aa8b-c643d93e465c",
        "colab": {
          "base_uri": "https://localhost:8080/",
          "height": 68
        }
      },
      "source": [
        "model1 = Model()\n",
        "model1.load_weights(\"./VGG16_SGD_NoRegularization.h5\")\n",
        "learning_rate = 0.001\n",
        "batch_size = 128\n",
        "lr_decay = 1e-6\n",
        "#optimization details\n",
        "opt = optimizers.Adam(lr=learning_rate)\n",
        "model.compile(loss='categorical_crossentropy', optimizer=opt,metrics=['accuracy'])\n",
        "# Test the model\n",
        "model.predict(X_test).argmax(-1)\n",
        "\n",
        "y_true = y_test.argmax(-1)\n",
        "y_pred = model.predict(X_test).argmax(-1)\n",
        "# generate confusion matrix\n",
        "from sklearn.metrics import confusion_matrix, precision_score, recall_score, accuracy_score\n",
        "confusion_matrix(y_true, y_pred)\n",
        "# calculate prec, recall, accuracy\n",
        "print(\"Prec: \"+ str(precision_score(y_true, y_pred, average='weighted')))\n",
        "print(\"Recall: \"+ str(recall_score(y_true, y_pred, average='weighted')))\n",
        "print(\"Accuracy: \" + str(accuracy_score(y_true, y_pred)))"
      ],
      "execution_count": 15,
      "outputs": [
        {
          "output_type": "stream",
          "text": [
            "Prec: 0.4038468136079064\n",
            "Recall: 0.3812\n",
            "Accuracy: 0.3812\n"
          ],
          "name": "stdout"
        }
      ]
    },
    {
      "cell_type": "markdown",
      "metadata": {
        "id": "dFDFRH7ON583"
      },
      "source": [
        "<h3><b> References</b></h3>"
      ]
    },
    {
      "cell_type": "code",
      "metadata": {
        "id": "XmygfOQPN-cS"
      },
      "source": [
        "#https://towardsdatascience.com/step-by-step-vgg16-implementation-in-keras-for-beginners-a833c686ae6c\n",
        "#https://github.com/geifmany/cifar-vgg/blob/master/cifar100vgg.py"
      ],
      "execution_count": 16,
      "outputs": []
    }
  ]
}
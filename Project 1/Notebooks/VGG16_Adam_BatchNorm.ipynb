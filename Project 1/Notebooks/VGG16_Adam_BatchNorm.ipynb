{
  "nbformat": 4,
  "nbformat_minor": 0,
  "metadata": {
    "accelerator": "GPU",
    "colab": {
      "name": "VGG16_Adam_BatchNorm.ipynb",
      "provenance": [],
      "collapsed_sections": []
    },
    "kernelspec": {
      "display_name": "Python 3",
      "name": "python3"
    }
  },
  "cells": [
    {
      "cell_type": "markdown",
      "metadata": {
        "id": "nu46PS8i0yxi"
      },
      "source": [
        "<h3><b>Importing Libraries</b></h3>"
      ]
    },
    {
      "cell_type": "code",
      "metadata": {
        "id": "PKbDmW5_lhPO"
      },
      "source": [
        "# Importing Libraries\n",
        "from __future__ import print_function\n",
        "import os\n",
        "import tensorflow as tf\n",
        "import keras\n",
        "from keras import backend as K\n",
        "import numpy as np\n",
        "from keras.datasets import cifar100\n",
        "from keras.preprocessing.image import ImageDataGenerator\n",
        "from keras.models import Sequential\n",
        "from keras.layers import Dense, Dropout, Activation, Flatten\n",
        "from keras.layers import Conv2D, MaxPooling2D, BatchNormalization\n",
        "from keras import optimizers\n",
        "from keras import regularizers\n",
        "from matplotlib import pyplot\n",
        "from keras.utils import to_categorical\n",
        "from keras.callbacks import ModelCheckpoint, EarlyStopping\n",
        "from sklearn import metrics\n",
        "from sklearn.metrics import confusion_matrix\n",
        "from sklearn.metrics import accuracy_score\n",
        "from sklearn.metrics import accuracy_score, f1_score, precision_score, recall_score, classification_report, confusion_matrix\n"
      ],
      "execution_count": 18,
      "outputs": []
    },
    {
      "cell_type": "markdown",
      "metadata": {
        "id": "URVrV68X1I88"
      },
      "source": [
        "<h3><b>Importing Dataset<b></h3>"
      ]
    },
    {
      "cell_type": "code",
      "metadata": {
        "id": "1wPJj5pc6wzh",
        "outputId": "0dd27349-3dc1-4f7d-db7a-49d36055dddc",
        "colab": {
          "base_uri": "https://localhost:8080/",
          "height": 85
        }
      },
      "source": [
        "# Load dataset\n",
        "(X_train, y_train), (X_test, y_test) = cifar100.load_data()\n",
        "print(X_train.shape)\n",
        "print(y_train.shape)\n",
        "print(X_test.shape)\n",
        "print(y_test.shape)"
      ],
      "execution_count": 19,
      "outputs": [
        {
          "output_type": "stream",
          "text": [
            "(50000, 32, 32, 3)\n",
            "(50000, 1)\n",
            "(10000, 32, 32, 3)\n",
            "(10000, 1)\n"
          ],
          "name": "stdout"
        }
      ]
    },
    {
      "cell_type": "markdown",
      "metadata": {
        "id": "3LS0RJlr2DKV"
      },
      "source": [
        "<h3><b>Preprocessing of the dataset</b></h3>"
      ]
    },
    {
      "cell_type": "code",
      "metadata": {
        "id": "2vFh_j5y1qoU"
      },
      "source": [
        "# Normalize the dataset\n",
        "X_train = X_train/255\n",
        "X_test = X_test/255"
      ],
      "execution_count": 20,
      "outputs": []
    },
    {
      "cell_type": "code",
      "metadata": {
        "id": "Z_oj_DSa7xxB"
      },
      "source": [
        "#Converting the testing and training dataset into float\n",
        "X_train = X_train.astype('float32')\n",
        "X_test = X_test.astype('float32')"
      ],
      "execution_count": 21,
      "outputs": []
    },
    {
      "cell_type": "code",
      "metadata": {
        "id": "sZ7LTRKGly_z",
        "outputId": "0327276a-04d0-4953-97f9-5ed8fc9a3c52",
        "colab": {
          "base_uri": "https://localhost:8080/",
          "height": 51
        }
      },
      "source": [
        "# Convert training and test labels to one hot matrices\n",
        "print(y_train.shape)\n",
        "y_train = keras.utils.to_categorical(y_train, 100)\n",
        "y_test = keras.utils.to_categorical(y_test, 100)\n",
        "print(y_train.shape)"
      ],
      "execution_count": 22,
      "outputs": [
        {
          "output_type": "stream",
          "text": [
            "(50000, 1)\n",
            "(50000, 100)\n"
          ],
          "name": "stdout"
        }
      ]
    },
    {
      "cell_type": "markdown",
      "metadata": {
        "id": "moYrJA6qJ0pT"
      },
      "source": [
        "<h3><b> Data Augmentation </b></h3>"
      ]
    },
    {
      "cell_type": "code",
      "metadata": {
        "id": "hH5ibTPcly3l",
        "outputId": "2907dc44-cbc2-4fdc-cfe4-30e62dc44a46",
        "colab": {
          "base_uri": "https://localhost:8080/",
          "height": 34
        }
      },
      "source": [
        "#data augmentation\n",
        "datagen = ImageDataGenerator(\n",
        "    featurewise_center=False,  # set input mean to 0 over the dataset\n",
        "    samplewise_center=False,  # set each sample mean to 0\n",
        "    featurewise_std_normalization=False,  # divide inputs by std of the dataset\n",
        "    samplewise_std_normalization=False,  # divide each input by its std\n",
        "    zca_whitening=False,  # apply ZCA whitening\n",
        "    rotation_range=15,  # randomly rotate images in the range (degrees, 0 to 180)\n",
        "    width_shift_range=0.1,  # randomly shift images horizontally (fraction of total width)\n",
        "    height_shift_range=0.1,  # randomly shift images vertically (fraction of total height)\n",
        "    horizontal_flip=True,  # randomly flip images\n",
        "    vertical_flip=False)  # randomly flip images\n",
        "# (std, mean, and principal components if ZCA whitening is applied).\n",
        "datagen.fit(X_train)\n",
        "\n",
        "print(y_train.shape)"
      ],
      "execution_count": 23,
      "outputs": [
        {
          "output_type": "stream",
          "text": [
            "(50000, 100)\n"
          ],
          "name": "stdout"
        }
      ]
    },
    {
      "cell_type": "markdown",
      "metadata": {
        "id": "UeYnQfHWHwnh"
      },
      "source": [
        "<h3><b> Model Architecture </b></h3>\n",
        "\n",
        "\n"
      ]
    },
    {
      "cell_type": "code",
      "metadata": {
        "id": "352YirW8lyBT"
      },
      "source": [
        "def Model():\n",
        "        x_shape = [32,32,3]\n",
        "        weight_decay = 0.0001\n",
        "        num_classes = 100\n",
        "        model = Sequential()\n",
        "\n",
        "        model.add(Conv2D(64, (3, 3), padding='same', input_shape= x_shape,kernel_regularizer=regularizers.l2(weight_decay)))\n",
        "        model.add(Activation('elu'))\n",
        "        model.add(BatchNormalization())\n",
        "\n",
        "        model.add(Conv2D(64, (3, 3), padding='same',kernel_regularizer=regularizers.l2(weight_decay)))\n",
        "        model.add(Activation('elu'))\n",
        "        model.add(BatchNormalization())\n",
        "        model.add(MaxPooling2D(pool_size=(2, 2)))\n",
        "\n",
        "        model.add(Conv2D(128, (3, 3), padding='same',kernel_regularizer=regularizers.l2(weight_decay)))\n",
        "        model.add(Activation('elu'))\n",
        "        model.add(BatchNormalization())\n",
        "\n",
        "        model.add(Conv2D(128, (3, 3), padding='same',kernel_regularizer=regularizers.l2(weight_decay)))\n",
        "        model.add(Activation('elu'))\n",
        "        model.add(BatchNormalization())\n",
        "        model.add(MaxPooling2D(pool_size=(2, 2)))\n",
        "\n",
        "        model.add(Conv2D(256, (3, 3), padding='same',kernel_regularizer=regularizers.l2(weight_decay)))\n",
        "        model.add(Activation('elu'))\n",
        "        model.add(BatchNormalization())\n",
        "\n",
        "        model.add(Conv2D(256, (3, 3), padding='same',kernel_regularizer=regularizers.l2(weight_decay)))\n",
        "        model.add(Activation('elu'))\n",
        "        model.add(BatchNormalization())\n",
        "\n",
        "        model.add(Conv2D(256, (3, 3), padding='same',kernel_regularizer=regularizers.l2(weight_decay)))\n",
        "        model.add(Activation('elu'))\n",
        "        model.add(BatchNormalization())\n",
        "        model.add(MaxPooling2D(pool_size=(2, 2)))\n",
        "\n",
        "        model.add(Conv2D(512, (3, 3), padding='same',kernel_regularizer=regularizers.l2(weight_decay)))\n",
        "        model.add(Activation('elu'))\n",
        "        model.add(BatchNormalization())\n",
        "\n",
        "        model.add(Conv2D(512, (3, 3), padding='same',kernel_regularizer=regularizers.l2(weight_decay)))\n",
        "        model.add(Activation('elu'))\n",
        "        model.add(BatchNormalization())\n",
        "\n",
        "        model.add(Conv2D(512, (3, 3), padding='same',kernel_regularizer=regularizers.l2(weight_decay)))\n",
        "        model.add(Activation('elu'))\n",
        "        model.add(BatchNormalization())\n",
        "        model.add(MaxPooling2D(pool_size=(2, 2)))\n",
        "\n",
        "        model.add(Conv2D(512, (3, 3), padding='same',kernel_regularizer=regularizers.l2(weight_decay)))\n",
        "        model.add(Activation('elu'))\n",
        "        model.add(BatchNormalization())\n",
        "\n",
        "        model.add(Conv2D(512, (3, 3), padding='same',kernel_regularizer=regularizers.l2(weight_decay)))\n",
        "        model.add(Activation('elu'))\n",
        "        model.add(BatchNormalization())\n",
        "\n",
        "        model.add(Conv2D(512, (3, 3), padding='same',kernel_regularizer=regularizers.l2(weight_decay)))\n",
        "        model.add(Activation('elu'))\n",
        "        model.add(BatchNormalization())\n",
        "        model.add(MaxPooling2D(pool_size=(2, 2)))\n",
        "\n",
        "        model.add(Flatten())\n",
        "        model.add(Dense(512,kernel_regularizer=regularizers.l2(weight_decay)))\n",
        "        model.add(Activation('elu'))\n",
        "        model.add(BatchNormalization())\n",
        "\n",
        "        model.add(Dense(num_classes))\n",
        "        model.add(Activation('softmax'))\n",
        "\n",
        "        \n",
        "\n",
        "        return model\n",
        "      "
      ],
      "execution_count": 24,
      "outputs": []
    },
    {
      "cell_type": "markdown",
      "metadata": {
        "id": "iJc2AzLRQ9oP"
      },
      "source": [
        "<h3><b> Compile the Model </b></h3>"
      ]
    },
    {
      "cell_type": "code",
      "metadata": {
        "id": "Z3t2ztwxKI-S"
      },
      "source": [
        "model = Model()"
      ],
      "execution_count": 25,
      "outputs": []
    },
    {
      "cell_type": "code",
      "metadata": {
        "id": "h2avPzDJk2T9"
      },
      "source": [
        "\n",
        "learning_rate = 0.001\n",
        "batch_size = 128\n",
        "lr_decay = 1e-6\n",
        "#optimization details\n",
        "opt = optimizers.Adam(lr=learning_rate)\n",
        "model.compile(loss='categorical_crossentropy', optimizer=opt,metrics=['accuracy'])"
      ],
      "execution_count": 26,
      "outputs": []
    },
    {
      "cell_type": "code",
      "metadata": {
        "id": "vWwqnqq2ryoN",
        "outputId": "5d9ab133-7e3c-44b4-e944-45f381a5ff73",
        "colab": {
          "base_uri": "https://localhost:8080/",
          "height": 1000
        }
      },
      "source": [
        "model.summary()"
      ],
      "execution_count": 27,
      "outputs": [
        {
          "output_type": "stream",
          "text": [
            "Model: \"sequential_2\"\n",
            "_________________________________________________________________\n",
            "Layer (type)                 Output Shape              Param #   \n",
            "=================================================================\n",
            "conv2d_26 (Conv2D)           (None, 32, 32, 64)        1792      \n",
            "_________________________________________________________________\n",
            "activation_30 (Activation)   (None, 32, 32, 64)        0         \n",
            "_________________________________________________________________\n",
            "batch_normalization_28 (Batc (None, 32, 32, 64)        256       \n",
            "_________________________________________________________________\n",
            "conv2d_27 (Conv2D)           (None, 32, 32, 64)        36928     \n",
            "_________________________________________________________________\n",
            "activation_31 (Activation)   (None, 32, 32, 64)        0         \n",
            "_________________________________________________________________\n",
            "batch_normalization_29 (Batc (None, 32, 32, 64)        256       \n",
            "_________________________________________________________________\n",
            "max_pooling2d_10 (MaxPooling (None, 16, 16, 64)        0         \n",
            "_________________________________________________________________\n",
            "conv2d_28 (Conv2D)           (None, 16, 16, 128)       73856     \n",
            "_________________________________________________________________\n",
            "activation_32 (Activation)   (None, 16, 16, 128)       0         \n",
            "_________________________________________________________________\n",
            "batch_normalization_30 (Batc (None, 16, 16, 128)       512       \n",
            "_________________________________________________________________\n",
            "conv2d_29 (Conv2D)           (None, 16, 16, 128)       147584    \n",
            "_________________________________________________________________\n",
            "activation_33 (Activation)   (None, 16, 16, 128)       0         \n",
            "_________________________________________________________________\n",
            "batch_normalization_31 (Batc (None, 16, 16, 128)       512       \n",
            "_________________________________________________________________\n",
            "max_pooling2d_11 (MaxPooling (None, 8, 8, 128)         0         \n",
            "_________________________________________________________________\n",
            "conv2d_30 (Conv2D)           (None, 8, 8, 256)         295168    \n",
            "_________________________________________________________________\n",
            "activation_34 (Activation)   (None, 8, 8, 256)         0         \n",
            "_________________________________________________________________\n",
            "batch_normalization_32 (Batc (None, 8, 8, 256)         1024      \n",
            "_________________________________________________________________\n",
            "conv2d_31 (Conv2D)           (None, 8, 8, 256)         590080    \n",
            "_________________________________________________________________\n",
            "activation_35 (Activation)   (None, 8, 8, 256)         0         \n",
            "_________________________________________________________________\n",
            "batch_normalization_33 (Batc (None, 8, 8, 256)         1024      \n",
            "_________________________________________________________________\n",
            "conv2d_32 (Conv2D)           (None, 8, 8, 256)         590080    \n",
            "_________________________________________________________________\n",
            "activation_36 (Activation)   (None, 8, 8, 256)         0         \n",
            "_________________________________________________________________\n",
            "batch_normalization_34 (Batc (None, 8, 8, 256)         1024      \n",
            "_________________________________________________________________\n",
            "max_pooling2d_12 (MaxPooling (None, 4, 4, 256)         0         \n",
            "_________________________________________________________________\n",
            "conv2d_33 (Conv2D)           (None, 4, 4, 512)         1180160   \n",
            "_________________________________________________________________\n",
            "activation_37 (Activation)   (None, 4, 4, 512)         0         \n",
            "_________________________________________________________________\n",
            "batch_normalization_35 (Batc (None, 4, 4, 512)         2048      \n",
            "_________________________________________________________________\n",
            "conv2d_34 (Conv2D)           (None, 4, 4, 512)         2359808   \n",
            "_________________________________________________________________\n",
            "activation_38 (Activation)   (None, 4, 4, 512)         0         \n",
            "_________________________________________________________________\n",
            "batch_normalization_36 (Batc (None, 4, 4, 512)         2048      \n",
            "_________________________________________________________________\n",
            "conv2d_35 (Conv2D)           (None, 4, 4, 512)         2359808   \n",
            "_________________________________________________________________\n",
            "activation_39 (Activation)   (None, 4, 4, 512)         0         \n",
            "_________________________________________________________________\n",
            "batch_normalization_37 (Batc (None, 4, 4, 512)         2048      \n",
            "_________________________________________________________________\n",
            "max_pooling2d_13 (MaxPooling (None, 2, 2, 512)         0         \n",
            "_________________________________________________________________\n",
            "conv2d_36 (Conv2D)           (None, 2, 2, 512)         2359808   \n",
            "_________________________________________________________________\n",
            "activation_40 (Activation)   (None, 2, 2, 512)         0         \n",
            "_________________________________________________________________\n",
            "batch_normalization_38 (Batc (None, 2, 2, 512)         2048      \n",
            "_________________________________________________________________\n",
            "conv2d_37 (Conv2D)           (None, 2, 2, 512)         2359808   \n",
            "_________________________________________________________________\n",
            "activation_41 (Activation)   (None, 2, 2, 512)         0         \n",
            "_________________________________________________________________\n",
            "batch_normalization_39 (Batc (None, 2, 2, 512)         2048      \n",
            "_________________________________________________________________\n",
            "conv2d_38 (Conv2D)           (None, 2, 2, 512)         2359808   \n",
            "_________________________________________________________________\n",
            "activation_42 (Activation)   (None, 2, 2, 512)         0         \n",
            "_________________________________________________________________\n",
            "batch_normalization_40 (Batc (None, 2, 2, 512)         2048      \n",
            "_________________________________________________________________\n",
            "max_pooling2d_14 (MaxPooling (None, 1, 1, 512)         0         \n",
            "_________________________________________________________________\n",
            "flatten_2 (Flatten)          (None, 512)               0         \n",
            "_________________________________________________________________\n",
            "dense_4 (Dense)              (None, 512)               262656    \n",
            "_________________________________________________________________\n",
            "activation_43 (Activation)   (None, 512)               0         \n",
            "_________________________________________________________________\n",
            "batch_normalization_41 (Batc (None, 512)               2048      \n",
            "_________________________________________________________________\n",
            "dense_5 (Dense)              (None, 100)               51300     \n",
            "_________________________________________________________________\n",
            "activation_44 (Activation)   (None, 100)               0         \n",
            "=================================================================\n",
            "Total params: 15,047,588\n",
            "Trainable params: 15,038,116\n",
            "Non-trainable params: 9,472\n",
            "_________________________________________________________________\n"
          ],
          "name": "stdout"
        }
      ]
    },
    {
      "cell_type": "markdown",
      "metadata": {
        "id": "s6HPmAh5RGLe"
      },
      "source": [
        "<h3><b> Train the Model</b></h3>"
      ]
    },
    {
      "cell_type": "code",
      "metadata": {
        "id": "0jcsr1krovRG",
        "outputId": "1f883726-60a3-4737-faf4-0326090057ba",
        "colab": {
          "base_uri": "https://localhost:8080/",
          "height": 54
        }
      },
      "source": [
        "# Create Checkpoint and Early Stopping\n",
        "checkpoint = ModelCheckpoint(\"VGG16_Adam_BatchNorm.h5\", monitor='val_loss', verbose=1, save_best_only=True, save_weights_only=True, mode='auto', period=1)\n",
        "early = EarlyStopping(monitor='val_loss', min_delta=0, patience=5, verbose=1, mode='auto')"
      ],
      "execution_count": 28,
      "outputs": [
        {
          "output_type": "stream",
          "text": [
            "WARNING:tensorflow:`period` argument is deprecated. Please use `save_freq` to specify the frequency in number of batches seen.\n"
          ],
          "name": "stdout"
        }
      ]
    },
    {
      "cell_type": "code",
      "metadata": {
        "id": "LGqjFOyFwNeO",
        "outputId": "99af37ff-7992-41a6-ee7b-3d6bcc572971",
        "colab": {
          "base_uri": "https://localhost:8080/",
          "height": 1000
        }
      },
      "source": [
        "batch_size = 128\n",
        "history = model.fit_generator(datagen.flow(X_train, y_train, batch_size=batch_size),validation_data=(X_test, y_test), epochs=100,callbacks=[checkpoint,early])"
      ],
      "execution_count": 29,
      "outputs": [
        {
          "output_type": "stream",
          "text": [
            "Epoch 1/100\n",
            "  2/391 [..............................] - ETA: 18s - loss: 5.8258 - accuracy: 0.0273WARNING:tensorflow:Callbacks method `on_train_batch_end` is slow compared to the batch time (batch time: 0.0367s vs `on_train_batch_end` time: 0.0559s). Check your callbacks.\n",
            "391/391 [==============================] - ETA: 0s - loss: 4.3023 - accuracy: 0.1071\n",
            "Epoch 00001: val_loss improved from inf to 4.28962, saving model to VGG16_Adam_BatchNorm.h5\n",
            "391/391 [==============================] - 33s 84ms/step - loss: 4.3023 - accuracy: 0.1071 - val_loss: 4.2896 - val_accuracy: 0.1176\n",
            "Epoch 2/100\n",
            "391/391 [==============================] - ETA: 0s - loss: 3.6922 - accuracy: 0.1935\n",
            "Epoch 00002: val_loss improved from 4.28962 to 4.19787, saving model to VGG16_Adam_BatchNorm.h5\n",
            "391/391 [==============================] - 33s 84ms/step - loss: 3.6922 - accuracy: 0.1935 - val_loss: 4.1979 - val_accuracy: 0.1844\n",
            "Epoch 3/100\n",
            "391/391 [==============================] - ETA: 0s - loss: 3.2675 - accuracy: 0.2653\n",
            "Epoch 00003: val_loss did not improve from 4.19787\n",
            "391/391 [==============================] - 33s 84ms/step - loss: 3.2675 - accuracy: 0.2653 - val_loss: 4.3953 - val_accuracy: 0.1767\n",
            "Epoch 4/100\n",
            "391/391 [==============================] - ETA: 0s - loss: 2.9738 - accuracy: 0.3230\n",
            "Epoch 00004: val_loss improved from 4.19787 to 3.10653, saving model to VGG16_Adam_BatchNorm.h5\n",
            "391/391 [==============================] - 33s 84ms/step - loss: 2.9738 - accuracy: 0.3230 - val_loss: 3.1065 - val_accuracy: 0.3280\n",
            "Epoch 5/100\n",
            "391/391 [==============================] - ETA: 0s - loss: 2.7946 - accuracy: 0.3683\n",
            "Epoch 00005: val_loss improved from 3.10653 to 3.01382, saving model to VGG16_Adam_BatchNorm.h5\n",
            "391/391 [==============================] - 33s 84ms/step - loss: 2.7946 - accuracy: 0.3683 - val_loss: 3.0138 - val_accuracy: 0.3420\n",
            "Epoch 6/100\n",
            "391/391 [==============================] - ETA: 0s - loss: 2.6633 - accuracy: 0.4048\n",
            "Epoch 00006: val_loss did not improve from 3.01382\n",
            "391/391 [==============================] - 33s 84ms/step - loss: 2.6633 - accuracy: 0.4048 - val_loss: 3.2722 - val_accuracy: 0.3297\n",
            "Epoch 7/100\n",
            "391/391 [==============================] - ETA: 0s - loss: 2.5821 - accuracy: 0.4301\n",
            "Epoch 00007: val_loss improved from 3.01382 to 2.82932, saving model to VGG16_Adam_BatchNorm.h5\n",
            "391/391 [==============================] - 33s 83ms/step - loss: 2.5821 - accuracy: 0.4301 - val_loss: 2.8293 - val_accuracy: 0.3941\n",
            "Epoch 8/100\n",
            "391/391 [==============================] - ETA: 0s - loss: 2.5186 - accuracy: 0.4531\n",
            "Epoch 00008: val_loss did not improve from 2.82932\n",
            "391/391 [==============================] - 33s 83ms/step - loss: 2.5186 - accuracy: 0.4531 - val_loss: 2.9085 - val_accuracy: 0.3961\n",
            "Epoch 9/100\n",
            "391/391 [==============================] - ETA: 0s - loss: 2.4771 - accuracy: 0.4737\n",
            "Epoch 00009: val_loss improved from 2.82932 to 2.72893, saving model to VGG16_Adam_BatchNorm.h5\n",
            "391/391 [==============================] - 33s 84ms/step - loss: 2.4771 - accuracy: 0.4737 - val_loss: 2.7289 - val_accuracy: 0.4400\n",
            "Epoch 10/100\n",
            "391/391 [==============================] - ETA: 0s - loss: 2.4362 - accuracy: 0.4937\n",
            "Epoch 00010: val_loss did not improve from 2.72893\n",
            "391/391 [==============================] - 33s 84ms/step - loss: 2.4362 - accuracy: 0.4937 - val_loss: 2.8065 - val_accuracy: 0.4280\n",
            "Epoch 11/100\n",
            "391/391 [==============================] - ETA: 0s - loss: 2.3962 - accuracy: 0.5127\n",
            "Epoch 00011: val_loss improved from 2.72893 to 2.61286, saving model to VGG16_Adam_BatchNorm.h5\n",
            "391/391 [==============================] - 33s 84ms/step - loss: 2.3962 - accuracy: 0.5127 - val_loss: 2.6129 - val_accuracy: 0.4827\n",
            "Epoch 12/100\n",
            "391/391 [==============================] - ETA: 0s - loss: 2.3661 - accuracy: 0.5257\n",
            "Epoch 00012: val_loss did not improve from 2.61286\n",
            "391/391 [==============================] - 33s 84ms/step - loss: 2.3661 - accuracy: 0.5257 - val_loss: 2.6549 - val_accuracy: 0.4692\n",
            "Epoch 13/100\n",
            "391/391 [==============================] - ETA: 0s - loss: 2.3430 - accuracy: 0.5425\n",
            "Epoch 00013: val_loss did not improve from 2.61286\n",
            "391/391 [==============================] - 33s 84ms/step - loss: 2.3430 - accuracy: 0.5425 - val_loss: 2.8559 - val_accuracy: 0.4528\n",
            "Epoch 14/100\n",
            "391/391 [==============================] - ETA: 0s - loss: 2.3023 - accuracy: 0.5577\n",
            "Epoch 00014: val_loss did not improve from 2.61286\n",
            "391/391 [==============================] - 33s 84ms/step - loss: 2.3023 - accuracy: 0.5577 - val_loss: 3.0455 - val_accuracy: 0.4272\n",
            "Epoch 15/100\n",
            "391/391 [==============================] - ETA: 0s - loss: 2.2839 - accuracy: 0.5700\n",
            "Epoch 00015: val_loss did not improve from 2.61286\n",
            "391/391 [==============================] - 33s 84ms/step - loss: 2.2839 - accuracy: 0.5700 - val_loss: 2.8574 - val_accuracy: 0.4619\n",
            "Epoch 16/100\n",
            "391/391 [==============================] - ETA: 0s - loss: 2.2579 - accuracy: 0.5800\n",
            "Epoch 00016: val_loss improved from 2.61286 to 2.57816, saving model to VGG16_Adam_BatchNorm.h5\n",
            "391/391 [==============================] - 33s 84ms/step - loss: 2.2579 - accuracy: 0.5800 - val_loss: 2.5782 - val_accuracy: 0.5163\n",
            "Epoch 17/100\n",
            "391/391 [==============================] - ETA: 0s - loss: 2.2346 - accuracy: 0.5908\n",
            "Epoch 00017: val_loss improved from 2.57816 to 2.57227, saving model to VGG16_Adam_BatchNorm.h5\n",
            "391/391 [==============================] - 33s 84ms/step - loss: 2.2346 - accuracy: 0.5908 - val_loss: 2.5723 - val_accuracy: 0.5265\n",
            "Epoch 18/100\n",
            "391/391 [==============================] - ETA: 0s - loss: 2.2174 - accuracy: 0.6018\n",
            "Epoch 00018: val_loss did not improve from 2.57227\n",
            "391/391 [==============================] - 33s 85ms/step - loss: 2.2174 - accuracy: 0.6018 - val_loss: 2.7258 - val_accuracy: 0.5010\n",
            "Epoch 19/100\n",
            "391/391 [==============================] - ETA: 0s - loss: 2.1729 - accuracy: 0.6145\n",
            "Epoch 00019: val_loss did not improve from 2.57227\n",
            "391/391 [==============================] - 33s 83ms/step - loss: 2.1729 - accuracy: 0.6145 - val_loss: 2.7144 - val_accuracy: 0.4974\n",
            "Epoch 20/100\n",
            "391/391 [==============================] - ETA: 0s - loss: 2.1722 - accuracy: 0.6202\n",
            "Epoch 00020: val_loss did not improve from 2.57227\n",
            "391/391 [==============================] - 33s 84ms/step - loss: 2.1722 - accuracy: 0.6202 - val_loss: 2.7396 - val_accuracy: 0.5085\n",
            "Epoch 21/100\n",
            "391/391 [==============================] - ETA: 0s - loss: 2.1295 - accuracy: 0.6312\n",
            "Epoch 00021: val_loss did not improve from 2.57227\n",
            "391/391 [==============================] - 33s 84ms/step - loss: 2.1295 - accuracy: 0.6312 - val_loss: 2.7060 - val_accuracy: 0.5122\n",
            "Epoch 22/100\n",
            "391/391 [==============================] - ETA: 0s - loss: 2.1166 - accuracy: 0.6359\n",
            "Epoch 00022: val_loss did not improve from 2.57227\n",
            "391/391 [==============================] - 33s 84ms/step - loss: 2.1166 - accuracy: 0.6359 - val_loss: 2.6171 - val_accuracy: 0.5328\n",
            "Epoch 00022: early stopping\n"
          ],
          "name": "stdout"
        }
      ]
    },
    {
      "cell_type": "markdown",
      "metadata": {
        "id": "2Q5vb0hEL_tA"
      },
      "source": [
        "<h3><b> Graphs</b></h3>"
      ]
    },
    {
      "cell_type": "code",
      "metadata": {
        "id": "lYhxlC4wy2L5",
        "outputId": "f9ad972b-d9bc-485c-c830-6d510dce7b6c",
        "colab": {
          "base_uri": "https://localhost:8080/",
          "height": 312
        }
      },
      "source": [
        "import matplotlib.pyplot as plt\n",
        "history_dict = history.history\n",
        "print(history_dict.keys())\n",
        "accuracy_values = history_dict['accuracy']\n",
        "val_accuracy_values = history_dict['val_accuracy']\n",
        "\n",
        "epochs = range(1, len(history_dict['accuracy']) + 1)\n",
        "\n",
        "plt.plot(epochs, accuracy_values, 'bo', label='Training Accuracy')\n",
        "plt.plot(epochs, val_accuracy_values, 'b', label='Validation loss')\n",
        "plt.title('Training and validation Accuracy')\n",
        "plt.xlabel('Epochs')\n",
        "plt.ylabel('Accuracy')\n",
        "plt.legend()\n",
        "\n",
        "plt.show()\n"
      ],
      "execution_count": 30,
      "outputs": [
        {
          "output_type": "stream",
          "text": [
            "dict_keys(['loss', 'accuracy', 'val_loss', 'val_accuracy'])\n"
          ],
          "name": "stdout"
        },
        {
          "output_type": "display_data",
          "data": {
            "image/png": "[encoded data removed]",
            "text/plain": [
              "<Figure size 432x288 with 1 Axes>"
            ]
          },
          "metadata": {
            "tags": [],
            "needs_background": "light"
          }
        }
      ]
    },
    {
      "cell_type": "code",
      "metadata": {
        "id": "7gw44X455Nya",
        "outputId": "7d2dd98e-9cee-40b0-d001-c646d83b44de",
        "colab": {
          "base_uri": "https://localhost:8080/",
          "height": 312
        }
      },
      "source": [
        "import matplotlib.pyplot as plt\n",
        "\n",
        "history_dict = history.history\n",
        "print(history_dict.keys())\n",
        "loss_values = history_dict['loss']\n",
        "val_loss_values = history_dict['val_loss']\n",
        "\n",
        "epochs = range(1, len(history_dict['accuracy']) + 1)\n",
        "\n",
        "plt.plot(epochs, loss_values, 'bo', label='Training loss')\n",
        "plt.plot(epochs, val_loss_values, 'b', label='Validation loss')\n",
        "plt.title('Training and validation loss')\n",
        "plt.xlabel('Epochs')\n",
        "plt.ylabel('Loss')\n",
        "plt.legend()\n",
        "\n",
        "plt.show()\n"
      ],
      "execution_count": 31,
      "outputs": [
        {
          "output_type": "stream",
          "text": [
            "dict_keys(['loss', 'accuracy', 'val_loss', 'val_accuracy'])\n"
          ],
          "name": "stdout"
        },
        {
          "output_type": "display_data",
          "data": {
            "image/png": "[encoded data removed]",
            "text/plain": [
              "<Figure size 432x288 with 1 Axes>"
            ]
          },
          "metadata": {
            "tags": [],
            "needs_background": "light"
          }
        }
      ]
    },
    {
      "cell_type": "markdown",
      "metadata": {
        "id": "mWJuMoswQJCC"
      },
      "source": [
        "<h3><b> Model Save and Metrics</b></h3> "
      ]
    },
    {
      "cell_type": "code",
      "metadata": {
        "id": "zxbcWbZq6DF1",
        "outputId": "42f6a05b-b521-4f3d-8e06-a71b5dd08ecb",
        "colab": {
          "base_uri": "https://localhost:8080/",
          "height": 68
        }
      },
      "source": [
        "model1 = Model()\n",
        "model1.load_weights(\"./VGG16_Adam_BatchNorm.h5\")\n",
        "learning_rate = 0.001\n",
        "batch_size = 128\n",
        "lr_decay = 1e-6\n",
        "#optimization details\n",
        "opt = optimizers.Adam(lr=learning_rate)\n",
        "model.compile(loss='categorical_crossentropy', optimizer=opt,metrics=['accuracy'])\n",
        "# Test the model\n",
        "model.predict(X_test).argmax(-1)\n",
        "\n",
        "y_true = y_test.argmax(-1)\n",
        "y_pred = model.predict(X_test).argmax(-1)\n",
        "# generate confusion matrix\n",
        "from sklearn.metrics import confusion_matrix, precision_score, recall_score, accuracy_score\n",
        "confusion_matrix(y_true, y_pred)\n",
        "# calculate prec, recall, accuracy\n",
        "print(\"Prec: \"+ str(precision_score(y_true, y_pred, average='weighted')))\n",
        "print(\"Recall: \"+ str(recall_score(y_true, y_pred, average='weighted')))\n",
        "print(\"Accuracy: \" + str(accuracy_score(y_true, y_pred)))"
      ],
      "execution_count": 32,
      "outputs": [
        {
          "output_type": "stream",
          "text": [
            "Prec: 0.5973220210964006\n",
            "Recall: 0.5328\n",
            "Accuracy: 0.5328\n"
          ],
          "name": "stdout"
        }
      ]
    },
    {
      "cell_type": "markdown",
      "metadata": {
        "id": "dFDFRH7ON583"
      },
      "source": [
        "<h3><b> References</b></h3>"
      ]
    },
    {
      "cell_type": "code",
      "metadata": {
        "id": "XmygfOQPN-cS"
      },
      "source": [
        "#https://towardsdatascience.com/step-by-step-vgg16-implementation-in-keras-for-beginners-a833c686ae6c\n",
        "#https://github.com/geifmany/cifar-vgg/blob/master/cifar100vgg.py"
      ],
      "execution_count": 33,
      "outputs": []
    }
  ]
}
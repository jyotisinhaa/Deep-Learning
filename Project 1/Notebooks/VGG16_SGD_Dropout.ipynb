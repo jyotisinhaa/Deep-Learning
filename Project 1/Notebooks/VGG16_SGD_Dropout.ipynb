{
  "nbformat": 4,
  "nbformat_minor": 0,
  "metadata": {
    "accelerator": "GPU",
    "colab": {
      "name": "VGG16_SGD_Dropout.ipynb",
      "provenance": [],
      "collapsed_sections": []
    },
    "kernelspec": {
      "display_name": "Python 3",
      "name": "python3"
    }
  },
  "cells": [
    {
      "cell_type": "markdown",
      "metadata": {
        "id": "nu46PS8i0yxi"
      },
      "source": [
        "<h3><b>Importing Libraries</b></h3>"
      ]
    },
    {
      "cell_type": "code",
      "metadata": {
        "id": "PKbDmW5_lhPO"
      },
      "source": [
        "# Importing Libraries\n",
        "from __future__ import print_function\n",
        "import os\n",
        "import tensorflow as tf\n",
        "import keras\n",
        "from keras import backend as K\n",
        "import numpy as np\n",
        "from keras.datasets import cifar100\n",
        "from keras.preprocessing.image import ImageDataGenerator\n",
        "from keras.models import Sequential\n",
        "from keras.layers import Dense, Dropout, Activation, Flatten\n",
        "from keras.layers import Conv2D, MaxPooling2D, BatchNormalization\n",
        "from keras import optimizers\n",
        "from keras import regularizers\n",
        "from matplotlib import pyplot\n",
        "from keras.utils import to_categorical\n",
        "from keras.callbacks import ModelCheckpoint, EarlyStopping\n",
        "from sklearn import metrics\n",
        "from sklearn.metrics import confusion_matrix\n",
        "from sklearn.metrics import accuracy_score\n",
        "from sklearn.metrics import accuracy_score, f1_score, precision_score, recall_score, classification_report, confusion_matrix\n"
      ],
      "execution_count": 1,
      "outputs": []
    },
    {
      "cell_type": "markdown",
      "metadata": {
        "id": "URVrV68X1I88"
      },
      "source": [
        "<h3><b>Importing Dataset<b></h3>"
      ]
    },
    {
      "cell_type": "code",
      "metadata": {
        "id": "1wPJj5pc6wzh",
        "outputId": "258f821f-4ab0-4344-d1c6-78d794f7ca34",
        "colab": {
          "base_uri": "https://localhost:8080/",
          "height": 119
        }
      },
      "source": [
        "# Load dataset\n",
        "(X_train, y_train), (X_test, y_test) = cifar100.load_data()\n",
        "print(X_train.shape)\n",
        "print(y_train.shape)\n",
        "print(X_test.shape)\n",
        "print(y_test.shape)"
      ],
      "execution_count": 2,
      "outputs": [
        {
          "output_type": "stream",
          "text": [
            "Downloading data from https://www.cs.toronto.edu/~kriz/cifar-100-python.tar.gz\n",
            "169009152/169001437 [==============================] - 2s 0us/step\n",
            "(50000, 32, 32, 3)\n",
            "(50000, 1)\n",
            "(10000, 32, 32, 3)\n",
            "(10000, 1)\n"
          ],
          "name": "stdout"
        }
      ]
    },
    {
      "cell_type": "markdown",
      "metadata": {
        "id": "3LS0RJlr2DKV"
      },
      "source": [
        "<h3><b>Preprocessing of the dataset</b></h3>"
      ]
    },
    {
      "cell_type": "code",
      "metadata": {
        "id": "2vFh_j5y1qoU"
      },
      "source": [
        "# Normalize the dataset\n",
        "X_train = X_train/255\n",
        "X_test = X_test/255"
      ],
      "execution_count": 3,
      "outputs": []
    },
    {
      "cell_type": "code",
      "metadata": {
        "id": "Z_oj_DSa7xxB"
      },
      "source": [
        "#Converting the testing and training dataset into float\n",
        "X_train = X_train.astype('float32')\n",
        "X_test = X_test.astype('float32')"
      ],
      "execution_count": 4,
      "outputs": []
    },
    {
      "cell_type": "code",
      "metadata": {
        "id": "sZ7LTRKGly_z",
        "outputId": "a2d327b8-a8df-41f4-e636-431a235ae392",
        "colab": {
          "base_uri": "https://localhost:8080/",
          "height": 51
        }
      },
      "source": [
        "# Convert training and test labels to one hot matrices\n",
        "print(y_train.shape)\n",
        "y_train = keras.utils.to_categorical(y_train, 100)\n",
        "y_test = keras.utils.to_categorical(y_test, 100)\n",
        "print(y_train.shape)"
      ],
      "execution_count": 5,
      "outputs": [
        {
          "output_type": "stream",
          "text": [
            "(50000, 1)\n",
            "(50000, 100)\n"
          ],
          "name": "stdout"
        }
      ]
    },
    {
      "cell_type": "markdown",
      "metadata": {
        "id": "moYrJA6qJ0pT"
      },
      "source": [
        "<h3><b> Data Augmentation </b></h3>"
      ]
    },
    {
      "cell_type": "code",
      "metadata": {
        "id": "hH5ibTPcly3l",
        "outputId": "40fe6d48-4665-4f0a-f9b3-5510df869803",
        "colab": {
          "base_uri": "https://localhost:8080/",
          "height": 34
        }
      },
      "source": [
        "#data augmentation\n",
        "datagen = ImageDataGenerator(\n",
        "    featurewise_center=False,  # set input mean to 0 over the dataset\n",
        "    samplewise_center=False,  # set each sample mean to 0\n",
        "    featurewise_std_normalization=False,  # divide inputs by std of the dataset\n",
        "    samplewise_std_normalization=False,  # divide each input by its std\n",
        "    zca_whitening=False,  # apply ZCA whitening\n",
        "    rotation_range=15,  # randomly rotate images in the range (degrees, 0 to 180)\n",
        "    width_shift_range=0.1,  # randomly shift images horizontally (fraction of total width)\n",
        "    height_shift_range=0.1,  # randomly shift images vertically (fraction of total height)\n",
        "    horizontal_flip=True,  # randomly flip images\n",
        "    vertical_flip=False)  # randomly flip images\n",
        "# (std, mean, and principal components if ZCA whitening is applied).\n",
        "datagen.fit(X_train)\n",
        "\n",
        "print(y_train.shape)"
      ],
      "execution_count": 6,
      "outputs": [
        {
          "output_type": "stream",
          "text": [
            "(50000, 100)\n"
          ],
          "name": "stdout"
        }
      ]
    },
    {
      "cell_type": "markdown",
      "metadata": {
        "id": "UeYnQfHWHwnh"
      },
      "source": [
        "<h3><b> Model Architecture </b></h3>\n",
        "\n",
        "\n"
      ]
    },
    {
      "cell_type": "code",
      "metadata": {
        "id": "352YirW8lyBT"
      },
      "source": [
        "def Model():\n",
        "        x_shape = [32,32,3]\n",
        "        weight_decay = 0.0001\n",
        "        num_classes = 100\n",
        "        model = Sequential()\n",
        "        model.add(Conv2D(64, (3, 3), padding='same', input_shape= x_shape,kernel_regularizer=regularizers.l2(weight_decay)))\n",
        "        model.add(Activation('elu'))\n",
        "        model.add(BatchNormalization())\n",
        "\n",
        "        model.add(Conv2D(64, (3, 3), padding='same',kernel_regularizer=regularizers.l2(weight_decay)))\n",
        "        model.add(Activation('elu'))\n",
        "        model.add(BatchNormalization())\n",
        "\n",
        "        model.add(MaxPooling2D(pool_size=(2, 2)))\n",
        "\n",
        "        model.add(Conv2D(128, (3, 3), padding='same',kernel_regularizer=regularizers.l2(weight_decay)))\n",
        "        model.add(Activation('elu'))\n",
        "        model.add(BatchNormalization())\n",
        "\n",
        "        model.add(Conv2D(128, (3, 3), padding='same',kernel_regularizer=regularizers.l2(weight_decay)))\n",
        "        model.add(Activation('elu'))\n",
        "        model.add(BatchNormalization())\n",
        "\n",
        "        model.add(MaxPooling2D(pool_size=(2, 2)))\n",
        "\n",
        "        model.add(Conv2D(256, (3, 3), padding='same',kernel_regularizer=regularizers.l2(weight_decay)))\n",
        "        model.add(Activation('elu'))\n",
        "        model.add(BatchNormalization())\n",
        "\n",
        "        model.add(Conv2D(256, (3, 3), padding='same',kernel_regularizer=regularizers.l2(weight_decay)))\n",
        "        model.add(Activation('elu'))\n",
        "        model.add(BatchNormalization())\n",
        "\n",
        "        model.add(Conv2D(256, (3, 3), padding='same',kernel_regularizer=regularizers.l2(weight_decay)))\n",
        "        model.add(Activation('elu'))\n",
        "        model.add(BatchNormalization())\n",
        "\n",
        "        model.add(MaxPooling2D(pool_size=(2, 2)))\n",
        "\n",
        "\n",
        "        model.add(Conv2D(512, (3, 3), padding='same',kernel_regularizer=regularizers.l2(weight_decay)))\n",
        "        model.add(Activation('elu'))\n",
        "        model.add(BatchNormalization())\n",
        "\n",
        "        model.add(Conv2D(512, (3, 3), padding='same',kernel_regularizer=regularizers.l2(weight_decay)))\n",
        "        model.add(Activation('elu'))\n",
        "        model.add(BatchNormalization())\n",
        "\n",
        "        model.add(Conv2D(512, (3, 3), padding='same',kernel_regularizer=regularizers.l2(weight_decay)))\n",
        "        model.add(Activation('elu'))\n",
        "        model.add(BatchNormalization())\n",
        "\n",
        "        model.add(MaxPooling2D(pool_size=(2, 2)))\n",
        "\n",
        "\n",
        "        model.add(Conv2D(512, (3, 3), padding='same',kernel_regularizer=regularizers.l2(weight_decay)))\n",
        "        model.add(Activation('elu'))\n",
        "        model.add(Dropout(0.4))\n",
        "\n",
        "        model.add(Conv2D(512, (3, 3), padding='same',kernel_regularizer=regularizers.l2(weight_decay)))\n",
        "        model.add(Activation('elu'))\n",
        "        model.add(BatchNormalization())\n",
        "\n",
        "        model.add(Conv2D(512, (3, 3), padding='same',kernel_regularizer=regularizers.l2(weight_decay)))\n",
        "        model.add(Activation('elu'))\n",
        "        model.add(BatchNormalization())\n",
        "\n",
        "        model.add(MaxPooling2D(pool_size=(2, 2)))\n",
        "\n",
        "        model.add(Flatten())\n",
        "        model.add(Dense(512,kernel_regularizer=regularizers.l2(weight_decay)))\n",
        "        model.add(Activation('elu'))\n",
        "        model.add(BatchNormalization())\n",
        "\n",
        "        model.add(Dense(num_classes))\n",
        "        model.add(Dropout(0.5))\n",
        "        model.add(Activation('softmax'))\n",
        "\n",
        "\n",
        "              \n",
        "              \n",
        "\n",
        "              \n",
        "\n",
        "        return model\n",
        "      "
      ],
      "execution_count": 7,
      "outputs": []
    },
    {
      "cell_type": "markdown",
      "metadata": {
        "id": "iJc2AzLRQ9oP"
      },
      "source": [
        "<h3><b> Compile the Model </b></h3>"
      ]
    },
    {
      "cell_type": "code",
      "metadata": {
        "id": "Z3t2ztwxKI-S"
      },
      "source": [
        "model = Model()"
      ],
      "execution_count": 8,
      "outputs": []
    },
    {
      "cell_type": "code",
      "metadata": {
        "id": "h2avPzDJk2T9"
      },
      "source": [
        "\n",
        "learning_rate = 0.001\n",
        "batch_size = 128\n",
        "lr_decay = 1e-6\n",
        "\n",
        "#optimization details\n",
        "sgd = optimizers.SGD(lr=learning_rate, decay=lr_decay, momentum=0.9, nesterov=True)\n",
        "model.compile(loss='categorical_crossentropy', optimizer=sgd,metrics=['accuracy'])"
      ],
      "execution_count": 9,
      "outputs": []
    },
    {
      "cell_type": "code",
      "metadata": {
        "id": "vWwqnqq2ryoN",
        "outputId": "b6e8f00d-dcd1-4558-ba67-cf8e61f2b9dc",
        "colab": {
          "base_uri": "https://localhost:8080/",
          "height": 1000
        }
      },
      "source": [
        "model.summary()"
      ],
      "execution_count": 10,
      "outputs": [
        {
          "output_type": "stream",
          "text": [
            "Model: \"sequential\"\n",
            "_________________________________________________________________\n",
            "Layer (type)                 Output Shape              Param #   \n",
            "=================================================================\n",
            "conv2d (Conv2D)              (None, 32, 32, 64)        1792      \n",
            "_________________________________________________________________\n",
            "activation (Activation)      (None, 32, 32, 64)        0         \n",
            "_________________________________________________________________\n",
            "batch_normalization (BatchNo (None, 32, 32, 64)        256       \n",
            "_________________________________________________________________\n",
            "conv2d_1 (Conv2D)            (None, 32, 32, 64)        36928     \n",
            "_________________________________________________________________\n",
            "activation_1 (Activation)    (None, 32, 32, 64)        0         \n",
            "_________________________________________________________________\n",
            "batch_normalization_1 (Batch (None, 32, 32, 64)        256       \n",
            "_________________________________________________________________\n",
            "max_pooling2d (MaxPooling2D) (None, 16, 16, 64)        0         \n",
            "_________________________________________________________________\n",
            "conv2d_2 (Conv2D)            (None, 16, 16, 128)       73856     \n",
            "_________________________________________________________________\n",
            "activation_2 (Activation)    (None, 16, 16, 128)       0         \n",
            "_________________________________________________________________\n",
            "batch_normalization_2 (Batch (None, 16, 16, 128)       512       \n",
            "_________________________________________________________________\n",
            "conv2d_3 (Conv2D)            (None, 16, 16, 128)       147584    \n",
            "_________________________________________________________________\n",
            "activation_3 (Activation)    (None, 16, 16, 128)       0         \n",
            "_________________________________________________________________\n",
            "batch_normalization_3 (Batch (None, 16, 16, 128)       512       \n",
            "_________________________________________________________________\n",
            "max_pooling2d_1 (MaxPooling2 (None, 8, 8, 128)         0         \n",
            "_________________________________________________________________\n",
            "conv2d_4 (Conv2D)            (None, 8, 8, 256)         295168    \n",
            "_________________________________________________________________\n",
            "activation_4 (Activation)    (None, 8, 8, 256)         0         \n",
            "_________________________________________________________________\n",
            "batch_normalization_4 (Batch (None, 8, 8, 256)         1024      \n",
            "_________________________________________________________________\n",
            "conv2d_5 (Conv2D)            (None, 8, 8, 256)         590080    \n",
            "_________________________________________________________________\n",
            "activation_5 (Activation)    (None, 8, 8, 256)         0         \n",
            "_________________________________________________________________\n",
            "batch_normalization_5 (Batch (None, 8, 8, 256)         1024      \n",
            "_________________________________________________________________\n",
            "conv2d_6 (Conv2D)            (None, 8, 8, 256)         590080    \n",
            "_________________________________________________________________\n",
            "activation_6 (Activation)    (None, 8, 8, 256)         0         \n",
            "_________________________________________________________________\n",
            "batch_normalization_6 (Batch (None, 8, 8, 256)         1024      \n",
            "_________________________________________________________________\n",
            "max_pooling2d_2 (MaxPooling2 (None, 4, 4, 256)         0         \n",
            "_________________________________________________________________\n",
            "conv2d_7 (Conv2D)            (None, 4, 4, 512)         1180160   \n",
            "_________________________________________________________________\n",
            "activation_7 (Activation)    (None, 4, 4, 512)         0         \n",
            "_________________________________________________________________\n",
            "batch_normalization_7 (Batch (None, 4, 4, 512)         2048      \n",
            "_________________________________________________________________\n",
            "conv2d_8 (Conv2D)            (None, 4, 4, 512)         2359808   \n",
            "_________________________________________________________________\n",
            "activation_8 (Activation)    (None, 4, 4, 512)         0         \n",
            "_________________________________________________________________\n",
            "batch_normalization_8 (Batch (None, 4, 4, 512)         2048      \n",
            "_________________________________________________________________\n",
            "conv2d_9 (Conv2D)            (None, 4, 4, 512)         2359808   \n",
            "_________________________________________________________________\n",
            "activation_9 (Activation)    (None, 4, 4, 512)         0         \n",
            "_________________________________________________________________\n",
            "batch_normalization_9 (Batch (None, 4, 4, 512)         2048      \n",
            "_________________________________________________________________\n",
            "max_pooling2d_3 (MaxPooling2 (None, 2, 2, 512)         0         \n",
            "_________________________________________________________________\n",
            "conv2d_10 (Conv2D)           (None, 2, 2, 512)         2359808   \n",
            "_________________________________________________________________\n",
            "activation_10 (Activation)   (None, 2, 2, 512)         0         \n",
            "_________________________________________________________________\n",
            "dropout (Dropout)            (None, 2, 2, 512)         0         \n",
            "_________________________________________________________________\n",
            "conv2d_11 (Conv2D)           (None, 2, 2, 512)         2359808   \n",
            "_________________________________________________________________\n",
            "activation_11 (Activation)   (None, 2, 2, 512)         0         \n",
            "_________________________________________________________________\n",
            "batch_normalization_10 (Batc (None, 2, 2, 512)         2048      \n",
            "_________________________________________________________________\n",
            "conv2d_12 (Conv2D)           (None, 2, 2, 512)         2359808   \n",
            "_________________________________________________________________\n",
            "activation_12 (Activation)   (None, 2, 2, 512)         0         \n",
            "_________________________________________________________________\n",
            "batch_normalization_11 (Batc (None, 2, 2, 512)         2048      \n",
            "_________________________________________________________________\n",
            "max_pooling2d_4 (MaxPooling2 (None, 1, 1, 512)         0         \n",
            "_________________________________________________________________\n",
            "flatten (Flatten)            (None, 512)               0         \n",
            "_________________________________________________________________\n",
            "dense (Dense)                (None, 512)               262656    \n",
            "_________________________________________________________________\n",
            "activation_13 (Activation)   (None, 512)               0         \n",
            "_________________________________________________________________\n",
            "batch_normalization_12 (Batc (None, 512)               2048      \n",
            "_________________________________________________________________\n",
            "dense_1 (Dense)              (None, 100)               51300     \n",
            "_________________________________________________________________\n",
            "dropout_1 (Dropout)          (None, 100)               0         \n",
            "_________________________________________________________________\n",
            "activation_14 (Activation)   (None, 100)               0         \n",
            "=================================================================\n",
            "Total params: 15,045,540\n",
            "Trainable params: 15,037,092\n",
            "Non-trainable params: 8,448\n",
            "_________________________________________________________________\n"
          ],
          "name": "stdout"
        }
      ]
    },
    {
      "cell_type": "markdown",
      "metadata": {
        "id": "s6HPmAh5RGLe"
      },
      "source": [
        "<h3><b> Train the Model</b></h3>"
      ]
    },
    {
      "cell_type": "code",
      "metadata": {
        "id": "0jcsr1krovRG",
        "outputId": "61a4bc9d-4706-4c51-86fc-b28dc0584ca2",
        "colab": {
          "base_uri": "https://localhost:8080/",
          "height": 54
        }
      },
      "source": [
        "# Create Checkpoint and Early Stopping\n",
        "checkpoint = ModelCheckpoint(\"VGG16_SGD_Dropout.h5\", monitor='val_loss', verbose=1, save_best_only=True, save_weights_only=True, mode='auto', period=1)\n",
        "early = EarlyStopping(monitor='val_loss', min_delta=0, patience=5, verbose=1, mode='auto')"
      ],
      "execution_count": 11,
      "outputs": [
        {
          "output_type": "stream",
          "text": [
            "WARNING:tensorflow:`period` argument is deprecated. Please use `save_freq` to specify the frequency in number of batches seen.\n"
          ],
          "name": "stdout"
        }
      ]
    },
    {
      "cell_type": "code",
      "metadata": {
        "id": "LGqjFOyFwNeO",
        "outputId": "3a925029-45a7-4bdb-aeee-ee7a9cebd07b",
        "colab": {
          "base_uri": "https://localhost:8080/",
          "height": 1000
        }
      },
      "source": [
        "batch_size = 128\n",
        "history = model.fit_generator(datagen.flow(X_train, y_train, batch_size=batch_size),validation_data=(X_test, y_test), epochs=100,callbacks=[checkpoint,early])"
      ],
      "execution_count": 12,
      "outputs": [
        {
          "output_type": "stream",
          "text": [
            "WARNING:tensorflow:From <ipython-input-12-d4550a79429d>:2: Model.fit_generator (from tensorflow.python.keras.engine.training) is deprecated and will be removed in a future version.\n",
            "Instructions for updating:\n",
            "Please use Model.fit, which supports generators.\n",
            "Epoch 1/100\n",
            "391/391 [==============================] - ETA: 0s - loss: 4.9981 - accuracy: 0.0684\n",
            "Epoch 00001: val_loss improved from inf to 4.78741, saving model to VGG16_SGD_Dropout.h5\n",
            "391/391 [==============================] - 42s 106ms/step - loss: 4.9981 - accuracy: 0.0684 - val_loss: 4.7874 - val_accuracy: 0.0536\n",
            "Epoch 2/100\n",
            "391/391 [==============================] - ETA: 0s - loss: 4.5929 - accuracy: 0.1153\n",
            "Epoch 00002: val_loss improved from 4.78741 to 4.25162, saving model to VGG16_SGD_Dropout.h5\n",
            "391/391 [==============================] - 40s 103ms/step - loss: 4.5929 - accuracy: 0.1153 - val_loss: 4.2516 - val_accuracy: 0.1920\n",
            "Epoch 3/100\n",
            "391/391 [==============================] - ETA: 0s - loss: 4.4769 - accuracy: 0.1401\n",
            "Epoch 00003: val_loss improved from 4.25162 to 4.17634, saving model to VGG16_SGD_Dropout.h5\n",
            "391/391 [==============================] - 40s 102ms/step - loss: 4.4769 - accuracy: 0.1401 - val_loss: 4.1763 - val_accuracy: 0.1882\n",
            "Epoch 4/100\n",
            "391/391 [==============================] - ETA: 0s - loss: 4.3709 - accuracy: 0.1646\n",
            "Epoch 00004: val_loss improved from 4.17634 to 4.01156, saving model to VGG16_SGD_Dropout.h5\n",
            "391/391 [==============================] - 40s 102ms/step - loss: 4.3709 - accuracy: 0.1646 - val_loss: 4.0116 - val_accuracy: 0.2418\n",
            "Epoch 5/100\n",
            "391/391 [==============================] - ETA: 0s - loss: 4.3011 - accuracy: 0.1799\n",
            "Epoch 00005: val_loss improved from 4.01156 to 3.89305, saving model to VGG16_SGD_Dropout.h5\n",
            "391/391 [==============================] - 40s 102ms/step - loss: 4.3011 - accuracy: 0.1799 - val_loss: 3.8931 - val_accuracy: 0.2689\n",
            "Epoch 6/100\n",
            "391/391 [==============================] - ETA: 0s - loss: 4.2243 - accuracy: 0.1967\n",
            "Epoch 00006: val_loss improved from 3.89305 to 3.87497, saving model to VGG16_SGD_Dropout.h5\n",
            "391/391 [==============================] - 40s 102ms/step - loss: 4.2243 - accuracy: 0.1967 - val_loss: 3.8750 - val_accuracy: 0.2623\n",
            "Epoch 7/100\n",
            "391/391 [==============================] - ETA: 0s - loss: 4.1681 - accuracy: 0.2060\n",
            "Epoch 00007: val_loss improved from 3.87497 to 3.71369, saving model to VGG16_SGD_Dropout.h5\n",
            "391/391 [==============================] - 40s 102ms/step - loss: 4.1681 - accuracy: 0.2060 - val_loss: 3.7137 - val_accuracy: 0.3000\n",
            "Epoch 8/100\n",
            "391/391 [==============================] - ETA: 0s - loss: 4.1073 - accuracy: 0.2175\n",
            "Epoch 00008: val_loss improved from 3.71369 to 3.58649, saving model to VGG16_SGD_Dropout.h5\n",
            "391/391 [==============================] - 40s 102ms/step - loss: 4.1073 - accuracy: 0.2175 - val_loss: 3.5865 - val_accuracy: 0.3408\n",
            "Epoch 9/100\n",
            "391/391 [==============================] - ETA: 0s - loss: 4.0492 - accuracy: 0.2271\n",
            "Epoch 00009: val_loss improved from 3.58649 to 3.58145, saving model to VGG16_SGD_Dropout.h5\n",
            "391/391 [==============================] - 40s 102ms/step - loss: 4.0492 - accuracy: 0.2271 - val_loss: 3.5815 - val_accuracy: 0.3299\n",
            "Epoch 10/100\n",
            "391/391 [==============================] - ETA: 0s - loss: 3.9779 - accuracy: 0.2400\n",
            "Epoch 00010: val_loss improved from 3.58145 to 3.43862, saving model to VGG16_SGD_Dropout.h5\n",
            "391/391 [==============================] - 40s 102ms/step - loss: 3.9779 - accuracy: 0.2400 - val_loss: 3.4386 - val_accuracy: 0.3676\n",
            "Epoch 11/100\n",
            "391/391 [==============================] - ETA: 0s - loss: 3.9349 - accuracy: 0.2487\n",
            "Epoch 00011: val_loss improved from 3.43862 to 3.33846, saving model to VGG16_SGD_Dropout.h5\n",
            "391/391 [==============================] - 40s 102ms/step - loss: 3.9349 - accuracy: 0.2487 - val_loss: 3.3385 - val_accuracy: 0.3914\n",
            "Epoch 12/100\n",
            "391/391 [==============================] - ETA: 0s - loss: 3.9076 - accuracy: 0.2501\n",
            "Epoch 00012: val_loss did not improve from 3.33846\n",
            "391/391 [==============================] - 40s 102ms/step - loss: 3.9076 - accuracy: 0.2501 - val_loss: 3.3524 - val_accuracy: 0.3758\n",
            "Epoch 13/100\n",
            "391/391 [==============================] - ETA: 0s - loss: 3.8576 - accuracy: 0.2632\n",
            "Epoch 00013: val_loss improved from 3.33846 to 3.24080, saving model to VGG16_SGD_Dropout.h5\n",
            "391/391 [==============================] - 40s 102ms/step - loss: 3.8576 - accuracy: 0.2632 - val_loss: 3.2408 - val_accuracy: 0.4032\n",
            "Epoch 14/100\n",
            "391/391 [==============================] - ETA: 0s - loss: 3.8343 - accuracy: 0.2643\n",
            "Epoch 00014: val_loss did not improve from 3.24080\n",
            "391/391 [==============================] - 40s 102ms/step - loss: 3.8343 - accuracy: 0.2643 - val_loss: 3.2499 - val_accuracy: 0.3864\n",
            "Epoch 15/100\n",
            "391/391 [==============================] - ETA: 0s - loss: 3.7958 - accuracy: 0.2711\n",
            "Epoch 00015: val_loss improved from 3.24080 to 3.18685, saving model to VGG16_SGD_Dropout.h5\n",
            "391/391 [==============================] - 40s 102ms/step - loss: 3.7958 - accuracy: 0.2711 - val_loss: 3.1869 - val_accuracy: 0.4054\n",
            "Epoch 16/100\n",
            "391/391 [==============================] - ETA: 0s - loss: 3.7592 - accuracy: 0.2779\n",
            "Epoch 00016: val_loss improved from 3.18685 to 3.04292, saving model to VGG16_SGD_Dropout.h5\n",
            "391/391 [==============================] - 40s 102ms/step - loss: 3.7592 - accuracy: 0.2779 - val_loss: 3.0429 - val_accuracy: 0.4480\n",
            "Epoch 17/100\n",
            "391/391 [==============================] - ETA: 0s - loss: 3.7226 - accuracy: 0.2855\n",
            "Epoch 00017: val_loss improved from 3.04292 to 3.01524, saving model to VGG16_SGD_Dropout.h5\n",
            "391/391 [==============================] - 40s 102ms/step - loss: 3.7226 - accuracy: 0.2855 - val_loss: 3.0152 - val_accuracy: 0.4480\n",
            "Epoch 18/100\n",
            "391/391 [==============================] - ETA: 0s - loss: 3.6939 - accuracy: 0.2907\n",
            "Epoch 00018: val_loss improved from 3.01524 to 2.94886, saving model to VGG16_SGD_Dropout.h5\n",
            "391/391 [==============================] - 40s 101ms/step - loss: 3.6939 - accuracy: 0.2907 - val_loss: 2.9489 - val_accuracy: 0.4533\n",
            "Epoch 19/100\n",
            "391/391 [==============================] - ETA: 0s - loss: 3.6544 - accuracy: 0.2991\n",
            "Epoch 00019: val_loss improved from 2.94886 to 2.88181, saving model to VGG16_SGD_Dropout.h5\n",
            "391/391 [==============================] - 40s 101ms/step - loss: 3.6544 - accuracy: 0.2991 - val_loss: 2.8818 - val_accuracy: 0.4625\n",
            "Epoch 20/100\n",
            "391/391 [==============================] - ETA: 0s - loss: 3.6678 - accuracy: 0.2938\n",
            "Epoch 00020: val_loss improved from 2.88181 to 2.86912, saving model to VGG16_SGD_Dropout.h5\n",
            "391/391 [==============================] - 40s 102ms/step - loss: 3.6678 - accuracy: 0.2938 - val_loss: 2.8691 - val_accuracy: 0.4638\n",
            "Epoch 21/100\n",
            "391/391 [==============================] - ETA: 0s - loss: 3.6155 - accuracy: 0.3045\n",
            "Epoch 00021: val_loss improved from 2.86912 to 2.82559, saving model to VGG16_SGD_Dropout.h5\n",
            "391/391 [==============================] - 39s 101ms/step - loss: 3.6155 - accuracy: 0.3045 - val_loss: 2.8256 - val_accuracy: 0.4643\n",
            "Epoch 22/100\n",
            "391/391 [==============================] - ETA: 0s - loss: 3.5946 - accuracy: 0.3073\n",
            "Epoch 00022: val_loss improved from 2.82559 to 2.78490, saving model to VGG16_SGD_Dropout.h5\n",
            "391/391 [==============================] - 40s 101ms/step - loss: 3.5946 - accuracy: 0.3073 - val_loss: 2.7849 - val_accuracy: 0.4672\n",
            "Epoch 23/100\n",
            "391/391 [==============================] - ETA: 0s - loss: 3.5806 - accuracy: 0.3117\n",
            "Epoch 00023: val_loss improved from 2.78490 to 2.77640, saving model to VGG16_SGD_Dropout.h5\n",
            "391/391 [==============================] - 39s 101ms/step - loss: 3.5806 - accuracy: 0.3117 - val_loss: 2.7764 - val_accuracy: 0.4821\n",
            "Epoch 24/100\n",
            "391/391 [==============================] - ETA: 0s - loss: 3.5530 - accuracy: 0.3172\n",
            "Epoch 00024: val_loss improved from 2.77640 to 2.71457, saving model to VGG16_SGD_Dropout.h5\n",
            "391/391 [==============================] - 39s 101ms/step - loss: 3.5530 - accuracy: 0.3172 - val_loss: 2.7146 - val_accuracy: 0.4872\n",
            "Epoch 25/100\n",
            "391/391 [==============================] - ETA: 0s - loss: 3.5337 - accuracy: 0.3192\n",
            "Epoch 00025: val_loss improved from 2.71457 to 2.69127, saving model to VGG16_SGD_Dropout.h5\n",
            "391/391 [==============================] - 39s 100ms/step - loss: 3.5337 - accuracy: 0.3192 - val_loss: 2.6913 - val_accuracy: 0.4864\n",
            "Epoch 26/100\n",
            "391/391 [==============================] - ETA: 0s - loss: 3.4964 - accuracy: 0.3269\n",
            "Epoch 00026: val_loss did not improve from 2.69127\n",
            "391/391 [==============================] - 39s 100ms/step - loss: 3.4964 - accuracy: 0.3269 - val_loss: 2.7062 - val_accuracy: 0.4771\n",
            "Epoch 27/100\n",
            "391/391 [==============================] - ETA: 0s - loss: 3.5042 - accuracy: 0.3245\n",
            "Epoch 00027: val_loss improved from 2.69127 to 2.64477, saving model to VGG16_SGD_Dropout.h5\n",
            "391/391 [==============================] - 39s 101ms/step - loss: 3.5042 - accuracy: 0.3245 - val_loss: 2.6448 - val_accuracy: 0.4968\n",
            "Epoch 28/100\n",
            "391/391 [==============================] - ETA: 0s - loss: 3.4724 - accuracy: 0.3318\n",
            "Epoch 00028: val_loss improved from 2.64477 to 2.57766, saving model to VGG16_SGD_Dropout.h5\n",
            "391/391 [==============================] - 39s 101ms/step - loss: 3.4724 - accuracy: 0.3318 - val_loss: 2.5777 - val_accuracy: 0.5114\n",
            "Epoch 29/100\n",
            "391/391 [==============================] - ETA: 0s - loss: 3.4635 - accuracy: 0.3324\n",
            "Epoch 00029: val_loss did not improve from 2.57766\n",
            "391/391 [==============================] - 39s 100ms/step - loss: 3.4635 - accuracy: 0.3324 - val_loss: 2.5800 - val_accuracy: 0.5154\n",
            "Epoch 30/100\n",
            "391/391 [==============================] - ETA: 0s - loss: 3.4321 - accuracy: 0.3412\n",
            "Epoch 00030: val_loss improved from 2.57766 to 2.51875, saving model to VGG16_SGD_Dropout.h5\n",
            "391/391 [==============================] - 39s 101ms/step - loss: 3.4321 - accuracy: 0.3412 - val_loss: 2.5188 - val_accuracy: 0.5232\n",
            "Epoch 31/100\n",
            "391/391 [==============================] - ETA: 0s - loss: 3.4163 - accuracy: 0.3422\n",
            "Epoch 00031: val_loss did not improve from 2.51875\n",
            "391/391 [==============================] - 39s 101ms/step - loss: 3.4163 - accuracy: 0.3422 - val_loss: 2.5444 - val_accuracy: 0.5149\n",
            "Epoch 32/100\n",
            "391/391 [==============================] - ETA: 0s - loss: 3.4071 - accuracy: 0.3435\n",
            "Epoch 00032: val_loss did not improve from 2.51875\n",
            "391/391 [==============================] - 39s 100ms/step - loss: 3.4071 - accuracy: 0.3435 - val_loss: 2.5506 - val_accuracy: 0.4977\n",
            "Epoch 33/100\n",
            "391/391 [==============================] - ETA: 0s - loss: 3.3991 - accuracy: 0.3444\n",
            "Epoch 00033: val_loss improved from 2.51875 to 2.51837, saving model to VGG16_SGD_Dropout.h5\n",
            "391/391 [==============================] - 40s 101ms/step - loss: 3.3991 - accuracy: 0.3444 - val_loss: 2.5184 - val_accuracy: 0.5135\n",
            "Epoch 34/100\n",
            "391/391 [==============================] - ETA: 0s - loss: 3.3566 - accuracy: 0.3529\n",
            "Epoch 00034: val_loss improved from 2.51837 to 2.49779, saving model to VGG16_SGD_Dropout.h5\n",
            "391/391 [==============================] - 39s 101ms/step - loss: 3.3566 - accuracy: 0.3529 - val_loss: 2.4978 - val_accuracy: 0.5191\n",
            "Epoch 35/100\n",
            "391/391 [==============================] - ETA: 0s - loss: 3.3542 - accuracy: 0.3527\n",
            "Epoch 00035: val_loss improved from 2.49779 to 2.41265, saving model to VGG16_SGD_Dropout.h5\n",
            "391/391 [==============================] - 40s 101ms/step - loss: 3.3542 - accuracy: 0.3527 - val_loss: 2.4127 - val_accuracy: 0.5364\n",
            "Epoch 36/100\n",
            "391/391 [==============================] - ETA: 0s - loss: 3.3337 - accuracy: 0.3580\n",
            "Epoch 00036: val_loss did not improve from 2.41265\n",
            "391/391 [==============================] - 40s 101ms/step - loss: 3.3337 - accuracy: 0.3580 - val_loss: 2.4418 - val_accuracy: 0.5300\n",
            "Epoch 37/100\n",
            "391/391 [==============================] - ETA: 0s - loss: 3.3112 - accuracy: 0.3628\n",
            "Epoch 00037: val_loss did not improve from 2.41265\n",
            "391/391 [==============================] - 39s 101ms/step - loss: 3.3112 - accuracy: 0.3628 - val_loss: 2.4276 - val_accuracy: 0.5271\n",
            "Epoch 38/100\n",
            "391/391 [==============================] - ETA: 0s - loss: 3.3255 - accuracy: 0.3579\n",
            "Epoch 00038: val_loss did not improve from 2.41265\n",
            "391/391 [==============================] - 39s 101ms/step - loss: 3.3255 - accuracy: 0.3579 - val_loss: 2.4844 - val_accuracy: 0.5022\n",
            "Epoch 39/100\n",
            "391/391 [==============================] - ETA: 0s - loss: 3.2736 - accuracy: 0.3700\n",
            "Epoch 00039: val_loss improved from 2.41265 to 2.40151, saving model to VGG16_SGD_Dropout.h5\n",
            "391/391 [==============================] - 40s 101ms/step - loss: 3.2736 - accuracy: 0.3700 - val_loss: 2.4015 - val_accuracy: 0.5367\n",
            "Epoch 40/100\n",
            "391/391 [==============================] - ETA: 0s - loss: 3.2646 - accuracy: 0.3715\n",
            "Epoch 00040: val_loss improved from 2.40151 to 2.37263, saving model to VGG16_SGD_Dropout.h5\n",
            "391/391 [==============================] - 40s 101ms/step - loss: 3.2646 - accuracy: 0.3715 - val_loss: 2.3726 - val_accuracy: 0.5325\n",
            "Epoch 41/100\n",
            "391/391 [==============================] - ETA: 0s - loss: 3.2713 - accuracy: 0.3696\n",
            "Epoch 00041: val_loss improved from 2.37263 to 2.29647, saving model to VGG16_SGD_Dropout.h5\n",
            "391/391 [==============================] - 40s 102ms/step - loss: 3.2713 - accuracy: 0.3696 - val_loss: 2.2965 - val_accuracy: 0.5629\n",
            "Epoch 42/100\n",
            "391/391 [==============================] - ETA: 0s - loss: 3.2467 - accuracy: 0.3738\n",
            "Epoch 00042: val_loss did not improve from 2.29647\n",
            "391/391 [==============================] - 39s 101ms/step - loss: 3.2467 - accuracy: 0.3738 - val_loss: 2.4076 - val_accuracy: 0.5266\n",
            "Epoch 43/100\n",
            "391/391 [==============================] - ETA: 0s - loss: 3.2438 - accuracy: 0.3746\n",
            "Epoch 00043: val_loss did not improve from 2.29647\n",
            "391/391 [==============================] - 40s 101ms/step - loss: 3.2438 - accuracy: 0.3746 - val_loss: 2.3223 - val_accuracy: 0.5572\n",
            "Epoch 44/100\n",
            "391/391 [==============================] - ETA: 0s - loss: 3.2386 - accuracy: 0.3751\n",
            "Epoch 00044: val_loss did not improve from 2.29647\n",
            "391/391 [==============================] - 40s 102ms/step - loss: 3.2386 - accuracy: 0.3751 - val_loss: 2.3428 - val_accuracy: 0.5369\n",
            "Epoch 45/100\n",
            "391/391 [==============================] - ETA: 0s - loss: 3.2159 - accuracy: 0.3792\n",
            "Epoch 00045: val_loss did not improve from 2.29647\n",
            "391/391 [==============================] - 40s 101ms/step - loss: 3.2159 - accuracy: 0.3792 - val_loss: 2.3123 - val_accuracy: 0.5458\n",
            "Epoch 46/100\n",
            "391/391 [==============================] - ETA: 0s - loss: 3.1988 - accuracy: 0.3829\n",
            "Epoch 00046: val_loss did not improve from 2.29647\n",
            "391/391 [==============================] - 39s 101ms/step - loss: 3.1988 - accuracy: 0.3829 - val_loss: 2.3188 - val_accuracy: 0.5492\n",
            "Epoch 00046: early stopping\n"
          ],
          "name": "stdout"
        }
      ]
    },
    {
      "cell_type": "markdown",
      "metadata": {
        "id": "2Q5vb0hEL_tA"
      },
      "source": [
        "<h3><b> Graphs</b></h3>"
      ]
    },
    {
      "cell_type": "code",
      "metadata": {
        "id": "5XczyFBw5qgk",
        "outputId": "3188debc-65c8-475a-c390-5d17a9e8795f",
        "colab": {
          "base_uri": "https://localhost:8080/",
          "height": 312
        }
      },
      "source": [
        "import matplotlib.pyplot as plt\n",
        "history_dict = history.history\n",
        "print(history_dict.keys())\n",
        "accuracy_values = history_dict['accuracy']\n",
        "val_accuracy_values = history_dict['val_accuracy']\n",
        "\n",
        "epochs = range(1, len(history_dict['accuracy']) + 1)\n",
        "\n",
        "plt.plot(epochs, accuracy_values, 'bo', label='Training Accuracy')\n",
        "plt.plot(epochs, val_accuracy_values, 'b', label='Validation loss')\n",
        "plt.title('Training and validation Accuracy')\n",
        "plt.xlabel('Epochs')\n",
        "plt.ylabel('Accuracy')\n",
        "plt.legend()\n",
        "\n",
        "plt.show()\n"
      ],
      "execution_count": 13,
      "outputs": [
        {
          "output_type": "stream",
          "text": [
            "dict_keys(['loss', 'accuracy', 'val_loss', 'val_accuracy'])\n"
          ],
          "name": "stdout"
        },
        {
          "output_type": "display_data",
          "data": {
            "image/png": "[encoded data removed]",
            "text/plain": [
              "<Figure size 432x288 with 1 Axes>"
            ]
          },
          "metadata": {
            "tags": [],
            "needs_background": "light"
          }
        }
      ]
    },
    {
      "cell_type": "code",
      "metadata": {
        "id": "Tx_cCIAE5qpj",
        "outputId": "24840faa-7455-4de2-c830-d8f03d98c8a9",
        "colab": {
          "base_uri": "https://localhost:8080/",
          "height": 312
        }
      },
      "source": [
        "import matplotlib.pyplot as plt\n",
        "\n",
        "history_dict = history.history\n",
        "print(history_dict.keys())\n",
        "loss_values = history_dict['loss']\n",
        "val_loss_values = history_dict['val_loss']\n",
        "\n",
        "epochs = range(1, len(history_dict['accuracy']) + 1)\n",
        "\n",
        "plt.plot(epochs, loss_values, 'bo', label='Training loss')\n",
        "plt.plot(epochs, val_loss_values, 'b', label='Validation loss')\n",
        "plt.title('Training and validation loss')\n",
        "plt.xlabel('Epochs')\n",
        "plt.ylabel('Loss')\n",
        "plt.legend()\n",
        "\n",
        "plt.show()\n"
      ],
      "execution_count": 14,
      "outputs": [
        {
          "output_type": "stream",
          "text": [
            "dict_keys(['loss', 'accuracy', 'val_loss', 'val_accuracy'])\n"
          ],
          "name": "stdout"
        },
        {
          "output_type": "display_data",
          "data": {
            "image/png": "[encoded data removed]",
            "text/plain": [
              "<Figure size 432x288 with 1 Axes>"
            ]
          },
          "metadata": {
            "tags": [],
            "needs_background": "light"
          }
        }
      ]
    },
    {
      "cell_type": "markdown",
      "metadata": {
        "id": "mWJuMoswQJCC"
      },
      "source": [
        "<h3><b> Model Save and Metrics</b></h3> "
      ]
    },
    {
      "cell_type": "code",
      "metadata": {
        "id": "hEKW1SM5KfGz",
        "outputId": "98f8ca53-7131-406d-af96-25d501f19b52",
        "colab": {
          "base_uri": "https://localhost:8080/",
          "height": 68
        }
      },
      "source": [
        "model1 = Model()\n",
        "model1.load_weights(\"./VGG16_SGD_Dropout.h5\")\n",
        "learning_rate = 0.001\n",
        "batch_size = 128\n",
        "lr_decay = 1e-6\n",
        "\n",
        "#optimization details\n",
        "sgd = optimizers.SGD(lr=learning_rate, decay=lr_decay, momentum=0.9, nesterov=True)\n",
        "model1.compile(loss='categorical_crossentropy', optimizer=sgd,metrics=['accuracy'])\n",
        "\n",
        "# Test the model\n",
        "model.predict(X_test).argmax(-1)\n",
        "\n",
        "y_true = y_test.argmax(-1)\n",
        "y_pred = model.predict(X_test).argmax(-1)\n",
        "# generate confusion matrix\n",
        "from sklearn.metrics import confusion_matrix, precision_score, recall_score, accuracy_score\n",
        "confusion_matrix(y_true, y_pred)\n",
        "# calculate prec, recall, accuracy\n",
        "print(\"Prec: \"+ str(precision_score(y_true, y_pred, average='weighted')))\n",
        "print(\"Recall: \"+ str(recall_score(y_true, y_pred, average='weighted')))\n",
        "print(\"Accuracy: \" + str(accuracy_score(y_true, y_pred)))"
      ],
      "execution_count": 16,
      "outputs": [
        {
          "output_type": "stream",
          "text": [
            "Prec: 0.588337896984344\n",
            "Recall: 0.5492\n",
            "Accuracy: 0.5492\n"
          ],
          "name": "stdout"
        }
      ]
    },
    {
      "cell_type": "markdown",
      "metadata": {
        "id": "dFDFRH7ON583"
      },
      "source": [
        "<h3><b> References</b></h3>"
      ]
    },
    {
      "cell_type": "code",
      "metadata": {
        "id": "XmygfOQPN-cS"
      },
      "source": [
        "#https://towardsdatascience.com/step-by-step-vgg16-implementation-in-keras-for-beginners-a833c686ae6c\n",
        "#https://github.com/geifmany/cifar-vgg/blob/master/cifar100vgg.py"
      ],
      "execution_count": null,
      "outputs": []
    }
  ]
}